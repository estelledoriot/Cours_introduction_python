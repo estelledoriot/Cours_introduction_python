{
 "cells": [
  {
   "cell_type": "markdown",
   "metadata": {},
   "source": [
    "**Estelle Doriot**\n",
    "\n",
    "_NSI 1ère_\n",
    "\n",
    "---\n",
    "# Cours : Dictionnaires\n",
    "---\n",
    "\n",
    "## Définition"
   ]
  },
  {
   "cell_type": "code",
   "execution_count": 1,
   "metadata": {},
   "outputs": [
    {
     "name": "stdout",
     "output_type": "stream",
     "text": [
      "{'Harry Potter': 'Griffondor', 'Drago Malefoy': 'Serpentard', 'Luna Lovegood': 'Serdaigle', 'Cédric Diggory': 'Poufsouffle'}\n"
     ]
    }
   ],
   "source": [
    "dico_poudlard = {'Harry Potter': 'Griffondor', 'Drago Malefoy': 'Serpentard', 'Luna Lovegood': 'Serdaigle', 'Cédric Diggory': 'Poufsouffle'}\n",
    "print(dico_poudlard)"
   ]
  },
  {
   "cell_type": "markdown",
   "metadata": {},
   "source": [
    "## Opérations sur les dictionnaires"
   ]
  },
  {
   "cell_type": "code",
   "execution_count": 3,
   "metadata": {},
   "outputs": [
    {
     "name": "stdout",
     "output_type": "stream",
     "text": [
      "True\n",
      "4\n",
      "Serdaigle\n",
      "Serpentard\n",
      "{'Harry Potter': 'Griffondor', 'Drago Malefoy': 'Serpentard', 'Luna Lovegood': 'Serdaigle'}\n",
      "{'Harry Potter': 'Griffondor', 'Drago Malefoy': 'Serpentard', 'Luna Lovegood': 'Serdaigle', 'Hermione Granger': 'Griffondor', 'Neville Longdubat': 'Griffondor', 'Pansy Parkinson': 'Serpentard'}\n"
     ]
    }
   ],
   "source": [
    "print('Harry Potter' in dico_poudlard)\n",
    "print(len(dico_poudlard))\n",
    "print(dico_poudlard['Luna Lovegood'])\n",
    "print(dico_poudlard.get('Drago Malefoy'))\n",
    "dico_poudlard.pop('Cédric Diggory')\n",
    "print(dico_poudlard)\n",
    "eleves = {'Hermione Granger': 'Griffondor', 'Neville Longdubat': 'Griffondor', 'Pansy Parkinson': 'Serpentard'}\n",
    "dico_poudlard.update(eleves)\n",
    "print(dico_poudlard)"
   ]
  },
  {
   "cell_type": "code",
   "execution_count": 4,
   "metadata": {},
   "outputs": [
    {
     "name": "stdout",
     "output_type": "stream",
     "text": [
      "{'Harry Potter': 'Griffondor', 'Drago Malefoy': 'Serpentard', 'Luna Lovegood': 'Serdaigle', 'Hermione Granger': 'Griffondor', 'Neville Longdubat': 'Griffondor', 'Pansy Parkinson': 'Serpentard', 'Ron Weasley': 'Serpentard'}\n",
      "{'Harry Potter': 'Griffondor', 'Drago Malefoy': 'Serpentard', 'Luna Lovegood': 'Serdaigle', 'Hermione Granger': 'Griffondor', 'Neville Longdubat': 'Griffondor', 'Pansy Parkinson': 'Serpentard', 'Ron Weasley': 'Griffondor'}\n"
     ]
    }
   ],
   "source": [
    "dico_poudlard['Ron Weasley'] = 'Serpentard'\n",
    "print(dico_poudlard)\n",
    "dico_poudlard['Ron Weasley'] = 'Griffondor'\n",
    "print(dico_poudlard)"
   ]
  },
  {
   "cell_type": "markdown",
   "metadata": {},
   "source": [
    "## Parcours de dictionnaires"
   ]
  },
  {
   "cell_type": "code",
   "execution_count": null,
   "metadata": {},
   "outputs": [],
   "source": [
    "for clé in dico.keys():\n",
    "    print(clé)"
   ]
  },
  {
   "cell_type": "code",
   "execution_count": null,
   "metadata": {},
   "outputs": [],
   "source": [
    "for valeur in dico.values():\n",
    "    print(valeur)"
   ]
  },
  {
   "cell_type": "code",
   "execution_count": null,
   "metadata": {},
   "outputs": [],
   "source": [
    "for clé, valeur in dico.items():\n",
    "    print(clé, valeur)"
   ]
  }
 ],
 "metadata": {
  "kernelspec": {
   "display_name": "Python 3.10.0 64-bit",
   "language": "python",
   "name": "python3"
  },
  "language_info": {
   "codemirror_mode": {
    "name": "ipython",
    "version": 3
   },
   "file_extension": ".py",
   "mimetype": "text/x-python",
   "name": "python",
   "nbconvert_exporter": "python",
   "pygments_lexer": "ipython3",
   "version": "3.10.0"
  },
  "orig_nbformat": 4,
  "vscode": {
   "interpreter": {
    "hash": "aee8b7b246df8f9039afb4144a1f6fd8d2ca17a180786b69acc140d282b71a49"
   }
  }
 },
 "nbformat": 4,
 "nbformat_minor": 2
}
