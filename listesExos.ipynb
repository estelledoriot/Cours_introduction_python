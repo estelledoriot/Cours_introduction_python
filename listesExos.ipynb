{
 "cells": [
  {
   "cell_type": "markdown",
   "metadata": {},
   "source": [
    "**Estelle Doriot**\n",
    "\n",
    "_NSI 1ère_\n",
    "\n",
    "---\n",
    "# Exercices : listes\n",
    "---\n",
    "\n",
    "### Exercice n° 2\n",
    "\n",
    "Vous voulez créer un jeu vidéo dans lequel le joueur incarne un chevalier qui peut utiliser différents objets magiques qu'il gagne au fur et à mesure du déroulement du jeu.\n",
    "\n",
    "1. Au début du jeu, le chevalier a à sa disposition une dague, un parchemin et une potion de guérison. Créer une liste `objets` qui contient ces trois objets.\n",
    "2. Le chevalier vient de trouver un sort. Rajouter le sort à la liste d'objets.\n",
    "3. Pour se guérir d'un empoisonnement, le chevalier doit utiliser sa potion de guérison. Retirer la potion de la liste `objets`.\n",
    "4. Le chevalier va chez le forgeron à qui il confie sa dague pour qu'il en fasse une rapière. Dans la liste d'objets, remplacer la dague par une rapière.\n",
    "5. Le chevalier trouve une baguette magique. Comme c'est son objet favoris, il faut la placer en tête de la liste d'objets. Rajouter la baguette magique au début de la liste `objets`.\n",
    "6. Le chevalier rencontre un mercenaire mourant qui lui donne son équipement : une cote de maille, un heaume et une épée. Rajouter ces objets à la liste."
   ]
  },
  {
   "cell_type": "code",
   "execution_count": 1,
   "metadata": {},
   "outputs": [
    {
     "name": "stdout",
     "output_type": "stream",
     "text": [
      "['dague', 'parchemin', 'potion de guérison']\n",
      "['dague', 'parchemin', 'potion de guérison', 'sort']\n",
      "['dague', 'parchemin', 'sort']\n",
      "['rapière', 'parchemin', 'sort']\n",
      "['baguette magique', 'rapière', 'parchemin', 'sort']\n",
      "['baguette magique', 'rapière', 'parchemin', 'sort', 'cote de mailles', 'heaume', 'épée']\n"
     ]
    }
   ],
   "source": [
    "objets = [\"dague\", \"parchemin\", \"potion de guérison\"]\n",
    "print(objets)\n",
    "objets.append(\"sort\")\n",
    "print(objets)\n",
    "objets.remove(\"potion de guérison\")\n",
    "print(objets)\n",
    "objets[0] = \"rapière\"\n",
    "print(objets)\n",
    "objets.insert(0, \"baguette magique\")\n",
    "print(objets)\n",
    "objets += [\"cote de mailles\", \"heaume\", \"épée\"]\n",
    "print(objets)"
   ]
  },
  {
   "cell_type": "markdown",
   "metadata": {},
   "source": [
    "### Exercice n°3\n",
    "\n",
    "A la fin de l'exécution du programme ci-dessous, quelles sont les valeurs contenues dans la liste `lst`?\n",
    "```python\n",
    "lst = []\n",
    "for i in range(5):\n",
    "    lst = lst + [i] * i\n",
    "```"
   ]
  },
  {
   "cell_type": "code",
   "execution_count": 3,
   "metadata": {},
   "outputs": [
    {
     "name": "stdout",
     "output_type": "stream",
     "text": [
      "[1, 2, 2, 3, 3, 3, 4, 4, 4, 4]\n"
     ]
    }
   ],
   "source": [
    "lst = []\n",
    "for i in range(5):\n",
    "    lst = lst + [i] * i\n",
    "print(lst)"
   ]
  },
  {
   "cell_type": "markdown",
   "metadata": {},
   "source": [
    "### Exercice n°4\n",
    "\n",
    "Déterminer le contenu de la liste `lst` pour chacune des affectations ci-dessous.\n",
    "1. `lst = [2 * n + 1 for n in range(5)]`\n",
    "2. `lst = [n for n in range(10) if n % 3 == 1]`\n",
    "3. `lst = [n for n in range(1, 12) if 12 % n == 0]`\n",
    "4. `lst = [(n, n**2) for n in range(5)]`"
   ]
  },
  {
   "cell_type": "code",
   "execution_count": 1,
   "metadata": {},
   "outputs": [
    {
     "name": "stdout",
     "output_type": "stream",
     "text": [
      "[1, 3, 5, 7, 9]\n",
      "[1, 4, 7]\n",
      "[1, 2, 3, 4, 6]\n",
      "[(0, 0), (1, 1), (2, 4), (3, 9), (4, 16)]\n"
     ]
    }
   ],
   "source": [
    "print([2 * n + 1 for n in range(5)])\n",
    "print([n for n in range(10) if n % 3 == 1])\n",
    "print([n for n in range(1, 12) if 12 % n == 0])\n",
    "print([(n, n**2) for n in range(5)])"
   ]
  },
  {
   "cell_type": "markdown",
   "metadata": {},
   "source": [
    "### Exercice n°5\n",
    "\n",
    "La fonction `randint(a,b)` du module `random` prend en argument deux entiers `a` et `b` et renvoie un entier au hasard entre `a` inclus et `b` inclus. On peut donc générer une note au hasard avec le code suivant :\n",
    "\n",
    "```python\n",
    "from random import randint\n",
    "note = randint(0, 20)\n",
    "```\n",
    "\n",
    "Ecrire une fonction `notes_hasard(nb:int) -> list` qui prend en argument un entier `nb` et renvoie une liste composée de `nb` notes tirées au hasard. On utilisera une définition par compréhension."
   ]
  },
  {
   "cell_type": "code",
   "execution_count": 13,
   "metadata": {},
   "outputs": [
    {
     "name": "stdout",
     "output_type": "stream",
     "text": [
      "10 notes au hasard: [1, 2, 19, 10, 6, 3, 3, 15, 16, 16]\n"
     ]
    }
   ],
   "source": [
    "from random import randint\n",
    "\n",
    "def notes_au_hasard(nb: int) -> list:\n",
    "    \"\"\"génère une liste de nb notes tirées au hasard (entre 0 et 20)\n",
    "\n",
    "    Args:\n",
    "        nb (int): nombre de notes à générer\n",
    "\n",
    "    Returns:\n",
    "        list: liste de nb notes tirées au hasard\n",
    "    \"\"\"\n",
    "    assert type(nb) == int and nb >= 0\n",
    "    \n",
    "    return [randint(0, 20) for i in range(nb)]\n",
    "\n",
    "print(f\"10 notes au hasard: {notes_au_hasard(10)}\")"
   ]
  },
  {
   "cell_type": "markdown",
   "metadata": {},
   "source": [
    "Pour tous les exercices suivants, sont autorisés `lst.append(x)`, `len(lst)`, et aucune autre méthode/fonction sur les listes sauf précision dans l’énoncé. Pas d’indices négatifs, pas de `x in lst`.\n",
    "\n",
    "### Exercice n°6 : Parcours de listes\n",
    "\n",
    "1. Ecrire une fonction `meme_longueur(lst1:list, lst2:list) -> bool` qui prend en arguments deux listes et qui renvoie True si les deux listes ont la même longueur."
   ]
  },
  {
   "cell_type": "code",
   "execution_count": 15,
   "metadata": {},
   "outputs": [],
   "source": [
    "def meme_longueur(lst1: list, lst2: list) -> bool:\n",
    "    \"\"\"vérifie si deux listes ont la même longueur\n",
    "\n",
    "    Args:\n",
    "        lst1 (list): liste quelconque\n",
    "        lst2 (list): liste quelconque\n",
    "\n",
    "    Returns:\n",
    "        bool: True si lst1 et lst2 ont la même longueur et False sinon\n",
    "    \"\"\"\n",
    "    return len(lst1) == len(lst2)\n",
    "\n",
    "assert meme_longueur([],[])\n",
    "assert not meme_longueur([], [1, 2])\n",
    "assert meme_longueur([1, 2], [\"toto\", \"titi\"])\n",
    "assert not meme_longueur([\"a\", \"b\", \"c\"], [7, 3])"
   ]
  },
  {
   "cell_type": "markdown",
   "metadata": {},
   "source": [
    "2. Ecrire une fonction `somme(lst:list) -> int` qui renvoie la somme de tous les éléments de la liste."
   ]
  },
  {
   "cell_type": "code",
   "execution_count": 16,
   "metadata": {},
   "outputs": [],
   "source": [
    "def somme(lst: list) -> int:\n",
    "    \"\"\"calcule la somme des éléments de la liste donnée en argument\n",
    "\n",
    "    Args:\n",
    "        lst (list): liste d'entiers non vide\n",
    "\n",
    "    Returns:\n",
    "        int: somme des éléments de lst\n",
    "    \"\"\"\n",
    "    assert lst != []\n",
    "    \n",
    "    total = 0\n",
    "    for e in lst:\n",
    "        total += e\n",
    "    return total\n",
    "\n",
    "assert somme([5]) == 5\n",
    "assert somme([1, 2, 3]) == 6\n",
    "assert somme([3, -2, 7, -4]) == 4"
   ]
  },
  {
   "cell_type": "markdown",
   "metadata": {},
   "source": [
    "3. Ecrire une fonction `appartient(valeur:int, lst:list) -> bool` qui renvoie True si l'élément `valeur` est présent dans la liste `lst`."
   ]
  },
  {
   "cell_type": "code",
   "execution_count": 17,
   "metadata": {},
   "outputs": [],
   "source": [
    "def appartient(valeur: int, lst: list) -> bool:\n",
    "    \"\"\"détermine si un élément est présent dans une liste\n",
    "\n",
    "    Args:\n",
    "        valeur (int): un entier\n",
    "        lst (list): une liste d'entiers\n",
    "\n",
    "    Returns:\n",
    "        bool: True si valeur est dans lst, False sinon\n",
    "    \"\"\"\n",
    "    for e in lst:\n",
    "        if valeur == e:\n",
    "            return True\n",
    "    return False\n",
    "\n",
    "assert appartient(4, [2, 4, 8, 10])\n",
    "assert not appartient(4, [5, 9, 10, 34])\n",
    "assert not appartient(4, [])\n",
    "assert appartient(5, [5, 9, 10, 11])\n",
    "assert appartient(5, [0, -2, 4, 9, 5])"
   ]
  },
  {
   "cell_type": "markdown",
   "metadata": {},
   "source": [
    "4. Ecrire une fonction `indice(valeur:int, lst:list) -> int` qui renvoie l'indice de l'élément `valeur` dans la liste `lst`. Si `valeur` n'est pas présent dans `lst`, la fonction renverra `-1`."
   ]
  },
  {
   "cell_type": "code",
   "execution_count": 18,
   "metadata": {},
   "outputs": [],
   "source": [
    "def indice(valeur: int, lst: list) -> int:\n",
    "    \"\"\"détermine l'indice de la première occurrence d'un élément dans une liste\n",
    "\n",
    "    Args:\n",
    "        valeur (int): un entier\n",
    "        lst (list): une liste d'entiers\n",
    "\n",
    "    Returns:\n",
    "        int: l'indice de la première occurrence de valeur dans lst, -1 si valeur n'est pas dans lst\n",
    "    \"\"\"\n",
    "    for i in range(len(lst)):\n",
    "        if valeur == lst[i]:\n",
    "            return i\n",
    "    return -1\n",
    "\n",
    "assert indice(4, [2, 4, 8, 10]) == 1\n",
    "assert indice(4, [5, 9, 10, 34]) == -1\n",
    "assert indice(4, []) == -1\n",
    "assert indice(5, [5, 9, 10, 11]) == 0\n",
    "assert indice(5, [0, -2, 4, 9, 5]) == 4"
   ]
  },
  {
   "cell_type": "markdown",
   "metadata": {},
   "source": [
    "5. Ecrire une fonction `nb_occurrences(valeur:int, lst:list) -> int` qui renvoie le nombre de fois que l'élément `valeur` est présent dans la liste `lst`."
   ]
  },
  {
   "cell_type": "code",
   "execution_count": 19,
   "metadata": {},
   "outputs": [],
   "source": [
    "def nb_occurrences(valeur: int, lst: list) -> int:\n",
    "    \"\"\"calcule le nombre d'occurrences d'un élément dans une liste\n",
    "\n",
    "    Args:\n",
    "        valeur (int): un entier\n",
    "        lst (list): une liste d'entiers\n",
    "\n",
    "    Returns:\n",
    "        int: le nombre d'occurrences de valeur dans lst\n",
    "    \"\"\"\n",
    "    total = 0\n",
    "    for e in lst:\n",
    "        if valeur == e:\n",
    "            total += 1\n",
    "    return total\n",
    "\n",
    "assert nb_occurrences(3, [1, 2, 3, 4, 5]) == 1\n",
    "assert nb_occurrences(3, [1, 2, 4, 5]) == 0\n",
    "assert nb_occurrences(3, []) == 0\n",
    "assert nb_occurrences(2, [1, 2, 3, 4, 2, 7, 8]) == 2\n",
    "assert nb_occurrences(5, [5, 5, 9, 3, 5, 9]) == 3"
   ]
  },
  {
   "cell_type": "markdown",
   "metadata": {},
   "source": [
    "6. Ecrire une fonction `croissante(lst:list) -> bool` qui renvoie True si la liste `lst` est triée par ordre croissant, et False sinon. Rappel : une liste est triée dans l'ordre croissant si tout élément de la liste est plus grand que l'élément qui le précède."
   ]
  },
  {
   "cell_type": "code",
   "execution_count": 20,
   "metadata": {},
   "outputs": [],
   "source": [
    "def croissante(lst: list) -> bool:\n",
    "    for i in range(len(lst) - 1):\n",
    "        if lst[i] > lst[i + 1]:\n",
    "            return False\n",
    "    return True\n",
    "\n",
    "assert croissante([1, 2, 3, 4, 5])\n",
    "assert not croissante ([1, 6, 3, 4])\n",
    "assert croissante ([1, 2, 2, 8, 9])\n",
    "assert not croissante([1, 2, 2, 5, 4])\n",
    "assert croissante([1])\n",
    "assert croissante([])"
   ]
  },
  {
   "cell_type": "markdown",
   "metadata": {},
   "source": [
    "7. Ecrire une fonction `maximum(lst:list) -> int` qui renvoie le plus grand élément d'une liste non vide."
   ]
  },
  {
   "cell_type": "code",
   "execution_count": 35,
   "metadata": {},
   "outputs": [],
   "source": [
    "def maximum(lst: list) -> int:\n",
    "    \"\"\"donne le plus grand élément de la liste\n",
    "\n",
    "    Args:\n",
    "        lst (list): liste d'entiers non vide\n",
    "\n",
    "    Returns:\n",
    "        int: plus grande valeur de lst\n",
    "    \"\"\"\n",
    "    assert lst != []\n",
    "    \n",
    "    m = lst[0]\n",
    "    for e in lst:\n",
    "        if e > m:\n",
    "            m = e\n",
    "    return m\n",
    "\n",
    "assert maximum([5]) == 5\n",
    "assert maximum([2, 4, 1, 4]) == 4\n",
    "assert maximum([5, 3, 2, 5, 1]) == 5\n",
    "assert maximum([5, 3, 2, 5, 6]) == 6\n",
    "assert maximum([-1, -4, -6, -2]) == -1"
   ]
  },
  {
   "cell_type": "markdown",
   "metadata": {},
   "source": [
    "8. Ecrire une fonction `minimum(lst:list) -> int` qui renvoie le plus petit élément d'une liste non vide."
   ]
  },
  {
   "cell_type": "code",
   "execution_count": 37,
   "metadata": {},
   "outputs": [],
   "source": [
    "def minimum(lst: list) -> int:\n",
    "    \"\"\"donne le plus petit élément de la liste\n",
    "\n",
    "    Args:\n",
    "        lst (list): liste d'entiers non vide\n",
    "\n",
    "    Returns:\n",
    "        int: plus petite valeur de lst\n",
    "    \"\"\"\n",
    "    assert lst != []\n",
    "    \n",
    "    m = lst[0]\n",
    "    for e in lst:\n",
    "        if e < m:\n",
    "            m = e\n",
    "    return m\n",
    "\n",
    "assert minimum([5]) == 5\n",
    "assert minimum([2, 4, 1, 1]) == 1\n",
    "assert minimum([5, 3, 2, 5, 1]) == 1\n",
    "assert minimum([2, 3, 2, 4, 6]) == 2\n",
    "assert minimum([-1, -4, -6, -2]) == -6"
   ]
  },
  {
   "cell_type": "markdown",
   "metadata": {},
   "source": [
    "9. Ecrire une fonction `indice_max(lst:list) -> int` qui renvoie l'indice du plus grand élément d'une liste."
   ]
  },
  {
   "cell_type": "code",
   "execution_count": 23,
   "metadata": {},
   "outputs": [],
   "source": [
    "def indice_max(lst: list) -> int:\n",
    "    \"\"\"donne l'indice de la première occurrence du plus grand élément d'une liste\n",
    "\n",
    "    Args:\n",
    "        lst (list): liste d'entiers non vide\n",
    "\n",
    "    Returns:\n",
    "        int: indice de la première occurrence du plus grand élément de lst\n",
    "    \"\"\"\n",
    "    assert lst != []\n",
    "    \n",
    "    im = 0\n",
    "    for i in range(len(lst)):\n",
    "        if lst[i] > lst[im]:\n",
    "            im = i\n",
    "    return im\n",
    "\n",
    "assert indice_max([5]) == 0\n",
    "assert indice_max([2, 4, 1, 4]) == 1\n",
    "assert indice_max([5, 3, 2, 5, 1]) == 0\n",
    "assert indice_max([5, 3, 2, 5, 6]) == 4"
   ]
  },
  {
   "cell_type": "markdown",
   "metadata": {},
   "source": [
    "10. Ecrire une fonction `indice_min(lst:list) -> int` qui renvoie l'indice du plus petit élément d'une liste."
   ]
  },
  {
   "cell_type": "code",
   "execution_count": 25,
   "metadata": {},
   "outputs": [],
   "source": [
    "def indice_min(lst: list) -> int:\n",
    "    \"\"\"donne l'indice de la première occurrence du plus petit élément d'une liste\n",
    "\n",
    "    Args:\n",
    "        lst (list): liste d'entiers non vide\n",
    "\n",
    "    Returns:\n",
    "        int: indice de la première occurrence du plus petit élément de lst\n",
    "    \"\"\"\n",
    "    assert lst != []\n",
    "    \n",
    "    im = 0\n",
    "    for i in range(len(lst)):\n",
    "        if lst[i] < lst[im]:\n",
    "            im = i\n",
    "    return im\n",
    "\n",
    "assert indice_min([5]) == 0\n",
    "assert indice_min([2, 4, 1, 1]) == 2\n",
    "assert indice_min([5, 3, 2, 5, 1]) == 4\n",
    "assert indice_min([2, 3, 2, 4, 6]) == 0"
   ]
  },
  {
   "cell_type": "markdown",
   "metadata": {},
   "source": [
    "11. Ecrire une fonction `derniere_occurrence(valeur:int, lst:list) -> int`, qui renvoie l'indice de la dernière occurrence de `valeur` dans la liste `lst`."
   ]
  },
  {
   "cell_type": "code",
   "execution_count": 39,
   "metadata": {},
   "outputs": [],
   "source": [
    "def derniere_occurrence(valeur: int, lst: list) -> int:\n",
    "    \"\"\"recherche l'indice de la dernière occurrence d'un entier dans une liste\n",
    "\n",
    "    Args:\n",
    "        valeur (int): un entier\n",
    "        lst (list): liste d'entiers\n",
    "\n",
    "    Returns:\n",
    "        int: indice de la dernière occurrence de valeur, longueur de lst si valeur n'est pas présent dans lst\n",
    "    \"\"\"\n",
    "    assert lst != []\n",
    "    \n",
    "    ind = len(lst)\n",
    "    for i in range(len(lst)):\n",
    "        if valeur == lst[i]:\n",
    "            ind = i\n",
    "    return ind\n",
    "\n",
    "assert derniere_occurrence(1, [5, 3]) == 2\n",
    "assert derniere_occurrence(2, [2, 4]) == 0\n",
    "assert derniere_occurrence(2, [2, 3, 5, 2, 4]) == 3"
   ]
  },
  {
   "cell_type": "markdown",
   "metadata": {},
   "source": [
    "### Exercice n°7 : Moyennes\n",
    "\n",
    "1. Les notes que Bob a obtenu ce trimestre sont stockées dans une liste. Bob cherche à calculer sa moyenne du trimestre. Ecrire une fonction `moyenne_simple(notes:lst) -> float` qui calcule la moyenne des notes de la liste `notes` en supposant qu'elles ont toutes le même coefficient."
   ]
  },
  {
   "cell_type": "code",
   "execution_count": 26,
   "metadata": {},
   "outputs": [],
   "source": [
    "def moyenne_simple(notes: lst) -> float:\n",
    "    \"\"\"calcule la moyenne des éléments d'une liste\n",
    "\n",
    "    Args:\n",
    "        notes (lst): liste de notes entre 0 et 20\n",
    "\n",
    "    Returns:\n",
    "        float: moyenne des éléments de notes\n",
    "    \"\"\"\n",
    "    assert notes != []\n",
    "    \n",
    "    total = 0\n",
    "    for n in notes:\n",
    "        total += n\n",
    "    return total/len(notes)\n",
    "\n",
    "assert moyenne_simple([14]) == 14\n",
    "assert moyenne_simple([10, 12, 20, 15]) == 14.25"
   ]
  },
  {
   "cell_type": "markdown",
   "metadata": {},
   "source": [
    "2. En réalité, les notes ont des coefficients différents. Ecrire une fonction `moyenne_ponderee(notes:lst, coeffs:lst) -> float` qui calcule la moyenne de Bob, où `notes` est la liste des notes de Bob et `coeffs` est la liste des coefficients de chaque contrôle. Par exemple, l'appel `moyenne_ponderee([15, 16, 14, 12], [0.5, 1, 2, 0.5])` renvoie (0.52 * 15 + 1 * 16 + 2 * 14 + 0.5 * 12) / (0.5 + 1 + 2 + 0.5) = 14.375"
   ]
  },
  {
   "cell_type": "code",
   "execution_count": 34,
   "metadata": {},
   "outputs": [],
   "source": [
    "def moyenne_ponderee(notes: lst, coeffs: lst) -> float:\n",
    "    \"\"\"calcule la moyenne pondérée d'une liste de nombres\n",
    "\n",
    "    Args:\n",
    "        notes (lst): liste de notes entre 0 et 20\n",
    "        coeffs (lst): liste de coefficients (positifs)\n",
    "\n",
    "    Returns:\n",
    "        float: moyenne pondérée des éléments de notes\n",
    "    \"\"\"\n",
    "    assert notes != []\n",
    "    assert len(notes) == len(coeffs)\n",
    "    \n",
    "    total = 0\n",
    "    somme_coeffs = 0\n",
    "    for i in range(len(notes)):\n",
    "        total += notes[i] * coeffs[i]\n",
    "        somme_coeffs += coeffs[i]\n",
    "    return total/somme_coeffs\n",
    "\n",
    "assert moyenne_ponderee([15, 16, 14, 12], [0.5, 1, 2, 0.5]) == 14.375"
   ]
  },
  {
   "cell_type": "markdown",
   "metadata": {},
   "source": [
    "### Exercice n°8\n",
    "\n",
    "Soient les listes suivantes :\n",
    "```python\n",
    "l1 = [31, 28, 31, 30, 31, 30, 31, 31, 30, 31, 30, 31]\n",
    "l2 = ['Janvier', 'Février', 'Mars', 'Avril', 'Mai', 'Juin', 'Juillet', 'Août', 'Septembre', 'Octobre', 'Novembre', 'Décembre']\n",
    "```\n",
    "\n",
    "1. Ecrire un programme qui crée une nouvelle liste `l3` qui contient tous les éléments des deux listes en les alternant, de manière que chaque nom de mois soit suivi du nombre de jours correspondant:\n",
    "\n",
    "`['Janvier', 31, 'Février', 28, 'Mars', 31, ...]`\n"
   ]
  },
  {
   "cell_type": "code",
   "execution_count": 40,
   "metadata": {},
   "outputs": [
    {
     "name": "stdout",
     "output_type": "stream",
     "text": [
      "['Janvier', 31, 'Février', 28, 'Mars', 31, 'Avril', 30, 'Mai', 31, 'Juin', 30, 'Juillet', 31, 'Août', 31, 'Septembre', 30, 'Octobre', 31, 'Novembre', 30, 'Décembre', 31]\n"
     ]
    }
   ],
   "source": [
    "l1 = [31, 28, 31, 30, 31, 30, 31, 31, 30, 31, 30, 31]\n",
    "l2 = ['Janvier', 'Février', 'Mars', 'Avril', 'Mai', 'Juin', 'Juillet', 'Août', 'Septembre', 'Octobre', 'Novembre', 'Décembre']\n",
    "\n",
    "l3 = []\n",
    "for i in range(12):\n",
    "    l3.append(l2[i])\n",
    "    l3.append(l1[i])\n",
    "print(l3)"
   ]
  },
  {
   "cell_type": "markdown",
   "metadata": {},
   "source": [
    "2. Ecrire un programme qui affiche \"proprement\" les éléments de la liste `l2` (sur une même ligne, sans les crochets et les virgules) :\n",
    "```\n",
    "Janvier Février Mars Avril Mai Juin Juillet Août Septembre Octobre Novembre Décembre\n",
    "```"
   ]
  },
  {
   "cell_type": "code",
   "execution_count": 41,
   "metadata": {},
   "outputs": [
    {
     "name": "stdout",
     "output_type": "stream",
     "text": [
      "Janvier Février Mars Avril Mai Juin Juillet Août Septembre Octobre Novembre Décembre "
     ]
    }
   ],
   "source": [
    "l2 = ['Janvier', 'Février', 'Mars', 'Avril', 'Mai', 'Juin', 'Juillet', 'Août', 'Septembre', 'Octobre', 'Novembre', 'Décembre']\n",
    "\n",
    "for mois in l2:\n",
    "    print(mois, end=' ')"
   ]
  },
  {
   "cell_type": "markdown",
   "metadata": {},
   "source": [
    "### Exercice n°9\n",
    "\n",
    "1. Ecrire une fonction `carrés(l:list) -> list` qui prend en argument une liste de nombres et qui renvoie la liste des carrés de ces nombres."
   ]
  },
  {
   "cell_type": "code",
   "execution_count": 42,
   "metadata": {},
   "outputs": [],
   "source": [
    "def carrés(l: list) -> list:\n",
    "    \"\"\"génère la liste des carrés des nombres de la liste donnée en argument\n",
    "    \n",
    "    Args:\n",
    "        l (list): liste de nombres\n",
    "\n",
    "    Returns:\n",
    "        liste_type_: _description_\n",
    "    \"\"\"\n",
    "    return [i**2 for i in l]\n",
    "\n",
    "assert carrés([0, 1, 2, 3, 4]) == [0, 1, 4, 9, 16]\n",
    "assert carrés([-1, -2, -3]) == [1, 4, 9]"
   ]
  },
  {
   "cell_type": "markdown",
   "metadata": {},
   "source": [
    "2. Ecrire une fonction `pairs(lst:list) -> list` qui renvoie la liste des nombres pairs présents dans la liste `lst`."
   ]
  },
  {
   "cell_type": "code",
   "execution_count": 43,
   "metadata": {},
   "outputs": [],
   "source": [
    "def pairs(lst: list) -> list:\n",
    "    \"\"\"génère la liste des nombres pairs d'une liste donnée en argument\n",
    "    Args:\n",
    "        lst (list): une liste d'entiers\n",
    "\n",
    "    Returns:\n",
    "        list: liste des nombres pairs de lst\n",
    "    \"\"\"\n",
    "    return [e for e in lst if e % 2 == 0]\n",
    "\n",
    "assert pairs([0, 4, 1, 7, 8, -3, -4]) == [0, 4, 8, -4]"
   ]
  },
  {
   "cell_type": "markdown",
   "metadata": {},
   "source": [
    "3. Ecrire une fonction `indices_pairs(lst:list) -> list` qui renvoie la listes des éléments d'indices pairs dans la liste `lst`."
   ]
  },
  {
   "cell_type": "code",
   "execution_count": 88,
   "metadata": {},
   "outputs": [],
   "source": [
    "def indices_pairs(lst: list) -> list:\n",
    "    \"\"\"génère la liste des éléments d'indice pair à partir d'une liste donnée en argument\n",
    "\n",
    "    Args:\n",
    "        lst (list): une liste\n",
    "\n",
    "    Returns:\n",
    "        list: liste des éléments d'indice pair de lst\n",
    "    \"\"\"\n",
    "    return [lst[i] for i in range(len(lst)) if i % 2 == 0]\n",
    "\n",
    "assert indices_pairs([0, 4, 1, 7, 8, -3, -4]) == [0, 1, 8, -4]"
   ]
  },
  {
   "cell_type": "markdown",
   "metadata": {},
   "source": [
    "### Exercice n°10\n",
    "\n",
    "1. Ecrire une fonction `bonnes_notes(notes:list) -> list` qui prend en argument une liste de notes et qui renvoie une **nouvelle** liste constituée des notes supérieures ou égales à 10."
   ]
  },
  {
   "cell_type": "code",
   "execution_count": 44,
   "metadata": {},
   "outputs": [],
   "source": [
    "def bonnes_notes(notes: list) -> list:\n",
    "    \"\"\"renvoie une liste contenant les notes supérieures ou égales à 10\n",
    "\n",
    "    Args:\n",
    "        notes (list): une liste de notes (entre 0 et 20)\n",
    "\n",
    "    Returns:\n",
    "        list: les notes qui sont supérieures ou égales à 10\n",
    "    \"\"\"\n",
    "    return [e for e in notes if e >= 10]\n",
    "\n",
    "assert bonnes_notes([12, 20, 4, 8, 10]) == [12, 20, 10]"
   ]
  },
  {
   "cell_type": "markdown",
   "metadata": {},
   "source": [
    "2. Ecrire une fonction `supprime_mauvaises_notes(notes : list) -> list` qui prend en argument une liste de notes et la modifie **en place** pour en supprimer les notes inférieurs strictement à 10. _(On pourra utiliser la méthode `pop()`)_"
   ]
  },
  {
   "cell_type": "code",
   "execution_count": 46,
   "metadata": {},
   "outputs": [],
   "source": [
    "def supprime_mauvaises_notes(notes: list) -> list:\n",
    "    \"\"\"supprime de la liste donnée en argument les nombres inférieurs à 10\n",
    "\n",
    "    Args:\n",
    "        notes (list): une liste de notes (entre 0 et 20)\n",
    "\n",
    "    Returns:\n",
    "        list: la liste de notes modifiée qui ne contient plus les notes inférieures à 10\n",
    "    \"\"\"\n",
    "    i = 0\n",
    "    while i < len(notes):\n",
    "        if notes[i] < 10:\n",
    "            notes.pop(i)\n",
    "        else:\n",
    "            i += 1\n",
    "    return notes\n",
    "\n",
    "assert supprime_mauvaises_notes([12, 20, 4, 8, 10]) == [12, 20, 10]"
   ]
  },
  {
   "cell_type": "markdown",
   "metadata": {},
   "source": [
    "### Exercice n°11 : Liste miroir\n",
    "\n",
    "1. Ecrire une fonction `symetrique(lst:list) -> bool` qui renvoie True si une liste est symétrique. Par exemple, la liste `[1, 7, 4, 9, 4, 7, 1]` est symétrique, mais pas `[1, 2, 3, 4]`."
   ]
  },
  {
   "cell_type": "code",
   "execution_count": 50,
   "metadata": {},
   "outputs": [],
   "source": [
    "def symetrique(lst: list) -> bool:\n",
    "    \"\"\"détermine si la liste donnée en argument est symétrique\n",
    "\n",
    "    Args:\n",
    "        lst (list): liste d'entiers\n",
    "\n",
    "    Returns:\n",
    "        bool: True si lst est symétrique, False sinon\n",
    "    \"\"\"\n",
    "    n = len(lst)\n",
    "    for i in range(n//2):\n",
    "        if lst[i] != lst[n-1-i]:\n",
    "            return False\n",
    "    return True\n",
    "\n",
    "assert symetrique([1, 7, 4, 9, 4, 7, 1])\n",
    "assert symetrique([1, 7, 4, 9, 9, 4, 7, 1])\n",
    "assert symetrique([1])\n",
    "assert symetrique([])\n",
    "assert not symetrique([1, 2, 3, 4])"
   ]
  },
  {
   "cell_type": "markdown",
   "metadata": {},
   "source": [
    "2. Ecrire une fonction `echange(lst:list, i:int, j:int) -> list` qui échange **en place** les éléments d'indice `i` et `j` de la liste `lst`."
   ]
  },
  {
   "cell_type": "code",
   "execution_count": 52,
   "metadata": {},
   "outputs": [],
   "source": [
    "def echange(lst: list, i: int, j: int) -> list:\n",
    "    \"\"\"échange la position de deux éléments d'une liste dont les indices sont donnés en arguments\n",
    "\n",
    "    Args:\n",
    "        lst (list): une liste\n",
    "        i (int): indice du premier élément à échanger\n",
    "        j (int): indice du deuxième élément à échanger\n",
    "\n",
    "    Returns:\n",
    "        list: liste lst où les éléments ont été échangés\n",
    "    \"\"\"\n",
    "    assert 0 <= i < len(lst) and 0 <= j < len(lst)\n",
    "    \n",
    "    temp = lst[i]\n",
    "    lst[i] = lst[j]\n",
    "    lst[j] = temp\n",
    "    return lst\n",
    "\n",
    "assert echange([5, 1, 8, 2, 3, 4], 0, 3) == [2, 1, 8, 5, 3, 4]"
   ]
  },
  {
   "cell_type": "markdown",
   "metadata": {},
   "source": [
    "3. La liste miroir d'une liste `lst` est composée des éléments de `lst` mais lus en commençant par la fin. Ainsi, la liste miroir de `[1, 2, 3, 4]` est `[4, 3, 2, 1]`. Ecrire une fonction `miroir(lst:list) -> list` qui prend en argument une liste `lst` et qui modifie **en place** la liste `lst` pour obtenir sa liste miroir."
   ]
  },
  {
   "cell_type": "code",
   "execution_count": 53,
   "metadata": {},
   "outputs": [],
   "source": [
    "def miroir(lst: list) -> list:\n",
    "    \"\"\"modifie la liste donnée en argument pour obtenir sa liste miroir\n",
    "\n",
    "    Args:\n",
    "        lst (list): une liste\n",
    "\n",
    "    Returns:\n",
    "        list: la liste miroir de lst\n",
    "    \"\"\"\n",
    "    n = len(lst)\n",
    "    for i in range(n // 2):\n",
    "        echange(lst, i, n-1-i)\n",
    "    return lst\n",
    "\n",
    "assert miroir([]) == []\n",
    "assert miroir([1]) == [1]\n",
    "assert miroir([1, 2, 3, 4]) == [4, 3, 2, 1]\n",
    "assert miroir([1, 2, 3, 4, 5]) == [5, 4, 3, 2, 1]"
   ]
  },
  {
   "cell_type": "markdown",
   "metadata": {},
   "source": [
    "4. Ecrire une fonction `miroir2(lst:list) -> list` qui prend en argument une liste `lst` et qui renvoie la liste miroir de `lst` sans modifier la liste initiale (sans utiliser les tranches)."
   ]
  },
  {
   "cell_type": "code",
   "execution_count": 54,
   "metadata": {},
   "outputs": [],
   "source": [
    "def miroir2(lst: list) -> list:\n",
    "    \"\"\"génère la liste miroir de la liste donnée en argument\n",
    "\n",
    "    Args:\n",
    "        lst (list): une liste\n",
    "\n",
    "    Returns:\n",
    "        list: liste miroir de lst\n",
    "    \"\"\"\n",
    "    n = len(lst)\n",
    "    l = []\n",
    "    for i in range(n):\n",
    "        l.append(lst[n-1-i])\n",
    "    return l\n",
    "\n",
    "assert miroir2([]) == []\n",
    "assert miroir2([1]) == [1]\n",
    "assert miroir2([1, 2, 3, 4]) == [4, 3, 2, 1]\n",
    "assert miroir2([1, 2, 3, 4, 5]) == [5, 4, 3, 2, 1]\n",
    "\n",
    "# une autre façon d'écrire cette fonction\n",
    "def miroir3(lst: list) -> list:\n",
    "    \"\"\"génère la liste miroir de la liste donnée en argument\n",
    "\n",
    "    Args:\n",
    "        lst (list): une liste\n",
    "\n",
    "    Returns:\n",
    "        list: liste miroir de lst\n",
    "    \"\"\"\n",
    "    n = len(lst)\n",
    "    return [lst[n-1-i] for i in range(n)]"
   ]
  },
  {
   "cell_type": "markdown",
   "metadata": {},
   "source": [
    "### Exercice n°12\n",
    "\n",
    "1. **Sans** utiliser la méthode `insert()`, écrire une fonction `insérer(lst:list, el:int, idx:int) -> lst` qui renvoie une copie de la liste `lst` où l'élément `el` a été inséré à l'indice `idx`."
   ]
  },
  {
   "cell_type": "code",
   "execution_count": 47,
   "metadata": {},
   "outputs": [],
   "source": [
    "def insérer(lst: list, el: int, idx: int) -> list:\n",
    "    \"\"\"insère un élément dans une liste à un indice spécifié en argument\n",
    "    \n",
    "    Args:\n",
    "        lst (list): une liste\n",
    "        el (int): élément à insérer dans la liste\n",
    "        idx (int): indice où insérer l'élément dans la liste\n",
    "\n",
    "    Returns:\n",
    "        list: liste lst où el a été inséré à l'indice idx\n",
    "    \"\"\"\n",
    "    assert 0 <= idx <= len(lst)\n",
    "    \n",
    "    res = []\n",
    "    for i in range(len(lst)):\n",
    "        if i == idx:\n",
    "            res.append(el)\n",
    "        res.append(lst[i])\n",
    "    if idx == len(lst):\n",
    "        res.append(el)\n",
    "        \n",
    "    return res\n",
    "\n",
    "assert insérer([1, 2, 3, 4, 5], 8, 2) == [1, 2, 8, 3, 4, 5]\n",
    "assert insérer([1, 2, 3, 4, 5], 8, 0) == [8, 1, 2, 3, 4, 5]\n",
    "assert insérer([1, 2, 3, 4, 5], 8, 5) == [1, 2, 3, 4, 5, 8]"
   ]
  },
  {
   "cell_type": "markdown",
   "metadata": {},
   "source": [
    "2. Écrire une fonction `insert_sorted(lst:list, el:int) -> list` qui reçoit comme premier paramètre une liste d’entiers relatifs triée par ordre croissant et comme deuxième paramètre un entier relatif `el`, et qui renvoie une liste correspondant à la liste reçue, mais dans laquelle le nombre `el` a été inséré à la bonne place. La liste donnée en paramètre ne doit pas être modifiée par votre fonction."
   ]
  },
  {
   "cell_type": "code",
   "execution_count": 96,
   "metadata": {},
   "outputs": [],
   "source": [
    "def insert_sorted(lst: list, el: int) -> list:\n",
    "    \"\"\"renvoie une liste correspondant à la copie de la liste triée donnée en argument dans laquelle un entier a été inséré à la place correcte\n",
    "\n",
    "    Args:\n",
    "        lst (list): une liste d'entiers triés dans l'ordre croissant\n",
    "        el (int): un entier\n",
    "\n",
    "    Returns:\n",
    "        list: copie de lst où el a été inséré à la bonne place\n",
    "    \"\"\"\n",
    "    if lst == []:\n",
    "        return [el]\n",
    "    \n",
    "    res = []\n",
    "    if el < lst[0]:\n",
    "        res.append(el)\n",
    "        \n",
    "    for i in range(len(lst) - 1):\n",
    "        res.append(lst[i])\n",
    "        if lst[i] <= el < lst[i + 1]:\n",
    "            res.append(el)\n",
    "    res.append(lst[-1])\n",
    "    if el >= lst[-1]:\n",
    "        res.append(el)\n",
    "    return res\n",
    "\n",
    "assert insert_sorted([], 10) == [10]\n",
    "assert insert_sorted([1, 3, 5, 7, 9], 0) == [0, 1, 3, 5, 7, 9]\n",
    "assert insert_sorted([1, 3, 5, 7, 9], 3) == [1, 3, 3, 5, 7, 9]\n",
    "assert insert_sorted([1, 3, 5, 7, 9], 6) == [1, 3, 5, 6, 7, 9]\n",
    "assert insert_sorted([1, 3, 5, 7, 9], 10) == [1, 3, 5, 7, 9, 10]"
   ]
  },
  {
   "cell_type": "markdown",
   "metadata": {},
   "source": [
    "### Exercice n° 13: Dénivelé\n",
    "\n",
    "Le dénivelé cumulé positif d'une course de montagne est la somme totale des dénivelés de l'ensemble des ascensions durant la course.\n",
    "\n",
    "![](dénivelé.png)\n",
    "\n",
    "Sur l'exemple ci-dessus :\n",
    "\n",
    "- la course commence par une ascension de dénivelé positif $160$ ($490 - 330$)\n",
    "- entre l'étape 2 et l'étape 3, le dénivelé positif est de $230$ ($610 - 380$)\n",
    "- entre l'étape 3 et l'étape 4, le dénivelé positif est de $170$ ($780 - 610$)\n",
    "- les autres parties de la course sont des descentes\n",
    "\n",
    "Le dénivelé cumulé positif total de cette course est donc $160 + 230 + 170 = 560$\n",
    "\n",
    "Écrire une fonction `denivele_positif(lst:list) -> int` qui prend en argument la liste non vide des altitudes atteintes à la fin de chaque ascension et de chaque descente pendant la course et qui renvoie le dénivelé cumulé positif de cette course."
   ]
  },
  {
   "cell_type": "code",
   "execution_count": 38,
   "metadata": {},
   "outputs": [],
   "source": [
    "def denivele_positif(lst: list) -> int:\n",
    "    \"\"\"calcule le dénivelé cumulé positif (sommes des ascensions) à partir d'une liste d'altitudes\n",
    "\n",
    "    Args:\n",
    "        lst (list): liste des altitudes de chaque étape\n",
    "\n",
    "    Returns:\n",
    "        int: dénivelé cumulé positif\n",
    "    \"\"\"\n",
    "    assert lst != 0\n",
    "    \n",
    "    denivelep = 0\n",
    "    for i in range(len(lst) - 1):\n",
    "        if lst[i+1] > lst[i]:\n",
    "            denivelep += lst[i+1] - lst[i]\n",
    "    return denivelep\n",
    "\n",
    "assert denivele_positif([330, 490, 380, 610, 780, 550]) == 560\n",
    "assert denivele_positif([200, 300, 100]) == 100\n",
    "assert denivele_positif([150]) == 0"
   ]
  },
  {
   "cell_type": "markdown",
   "metadata": {},
   "source": [
    "### Exercice n°14\n",
    "\n",
    "Écrire une fonction `diff_successives(lst:list) -> list` qui prend en argument une liste de nombres et renvoie une liste constituée des différences de chaque paire de nombres consécutifs de la liste. \n",
    "\n",
    "Par exemple, imaginons qu’on dispose dans une liste de relevés de températures réalisés à midi 7 jours d’affilée. Cet exercice nous amène à déterminer les 6 évolutions journalières entre deux températures consécutives. Avec la liste `[15, 20, 22, 18, 18, 20, 17]`, on obtiendra en retour `[5, 2, -4, 0, 2, -3]`, car $20 − 15 = 15$, puis $22 − 20 = 2$, puis $18 − 22 = −4$, etc."
   ]
  },
  {
   "cell_type": "code",
   "execution_count": 48,
   "metadata": {},
   "outputs": [],
   "source": [
    "def diff_successives(lst: list) -> list:\n",
    "    \"\"\"crée la liste des différences entre deux nombres consécutifs de la liste donnée en argument\n",
    "\n",
    "    Args:\n",
    "        lst (list): liste de nombres\n",
    "\n",
    "    Returns:\n",
    "        list: liste des différences successives\n",
    "    \"\"\"\n",
    "    return [lst[i+1] - lst[i] for i in range(len(lst) - 1)]\n",
    "\n",
    "assert diff_successives([15, 20, 22, 18, 18, 20, 17]) == [5, 2, -4, 0, 2, -3]"
   ]
  },
  {
   "cell_type": "markdown",
   "metadata": {},
   "source": [
    "### Exercice n°15\n",
    "\n",
    "1. Ecrire une fonction `somme_liste(lst1:list, lst2:list) -> list` qui effectue la somme terme à terme des deux listes données en arguments. Par exemple, l'appel `somme_liste([1, 2, 3, 4], [5, 6, 7, 8])` donne le résultat `[6, 8, 10, 12]`."
   ]
  },
  {
   "cell_type": "code",
   "execution_count": 60,
   "metadata": {},
   "outputs": [],
   "source": [
    "def somme_liste(lst1: list, lst2: list) -> list:\n",
    "    \"\"\"effectue la somme terme à terme de deux listes de même longueur données en argument\n",
    "\n",
    "    Args:\n",
    "        lst1 (list): une liste d'entiers\n",
    "        lst2 (list): une liste d'entiers\n",
    "\n",
    "    Returns:\n",
    "        list: somme terme à terme de lst1 et lst2\n",
    "    \"\"\"\n",
    "    assert len(lst1) == len(lst2)\n",
    "    \n",
    "    return [lst1[i] + lst2[i] for i in range(len(lst1))]\n",
    "\n",
    "assert somme_liste([1, 2, 3, 4], [5, 6, 7, 8]) == [6, 8, 10, 12]"
   ]
  },
  {
   "cell_type": "markdown",
   "metadata": {},
   "source": [
    "2. Ecrire une fonction `multiplier(k:int, lst:list) -> list` qui multiplie par un entier `k` chaque élément de `lst`."
   ]
  },
  {
   "cell_type": "code",
   "execution_count": 61,
   "metadata": {},
   "outputs": [],
   "source": [
    "def multiplier(k: int, lst: list) -> list:\n",
    "    \"\"\"multiple par un entier donné chaque élément de la liste donnée en argument\n",
    "\n",
    "    Args:\n",
    "        k (int): un entier\n",
    "        lst (list): une liste d'entiers\n",
    "\n",
    "    Returns:\n",
    "        list: liste contenant tous les éléments de lst multipliés par k\n",
    "    \"\"\"\n",
    "    assert type(k) == int\n",
    "    \n",
    "    return [k * e for e in lst]\n",
    "\n",
    "assert multiplier(3, [1, 2, 3, 4]) == [3, 6, 9, 12]"
   ]
  },
  {
   "cell_type": "markdown",
   "metadata": {},
   "source": [
    "3. Ecrire une fonction `tous_positifs(lst:list) -> bool` qui renvoie True si tous les éléments de `lst` sont positifs."
   ]
  },
  {
   "cell_type": "code",
   "execution_count": 62,
   "metadata": {},
   "outputs": [],
   "source": [
    "def tous_positifs(lst: list) -> bool:\n",
    "    \"\"\"détermine si tous les éléments d'une liste sont positifs\n",
    "\n",
    "    Args:\n",
    "        lst (list): une liste d'entiers\n",
    "\n",
    "    Returns:\n",
    "        bool: True si tous les éléments de lst sont positifs\n",
    "    \"\"\"\n",
    "    for el in lst:\n",
    "        if el < 0:\n",
    "            return False\n",
    "    return True\n",
    "\n",
    "assert tous_positifs([1, 9, 3, 4, 5])\n",
    "assert tous_positifs([])\n",
    "assert not tous_positifs([3, 8, -1, 9, -3])"
   ]
  },
  {
   "cell_type": "markdown",
   "metadata": {},
   "source": [
    "4. Ecrire une fonction `un_positif(lst:list) -> bool` qui renvoie True si au moins un élément de `lst` est positif."
   ]
  },
  {
   "cell_type": "code",
   "execution_count": 63,
   "metadata": {},
   "outputs": [],
   "source": [
    "def un_positif(lst: list) -> bool:\n",
    "    \"\"\"détermine si au moins un élément d'une liste est positif\n",
    "\n",
    "    Args:\n",
    "        lst (list): une liste d'entiers\n",
    "\n",
    "    Returns:\n",
    "        bool: True si au moins un élément de lst est positif\n",
    "    \"\"\"\n",
    "    for el in lst:\n",
    "        if el >=0 :\n",
    "            return True\n",
    "    return False\n",
    "\n",
    "assert un_positif([1, 3, 4, -5, -2, 6])\n",
    "assert un_positif([-1, -4, -3, 4])\n",
    "assert not un_positif([])\n",
    "assert not un_positif([-1, -2, -3])"
   ]
  },
  {
   "cell_type": "markdown",
   "metadata": {},
   "source": [
    "### Exercice n°16\n",
    "\n",
    "Lorsque des bâtiments sont alignés, ils se font de l'ombre les uns les autres. Dans cet exercice, nous sommes au soleil couchant, les rayons du soleil sont donc supposés horizontaux.\n",
    "\n",
    "![](soleil-couchant.svg)\n",
    "\n",
    "Le schéma ci-dessus illustre un soleil couchant qui éclaire 9 bâtiments, les rayons du soleil sont représentés par des flèches horizontales.\n",
    "\n",
    "- Les bâtiments aux indices 0 et 3 reçoivent des rayons de soleil alors que les bâtiments aux indices 1 et 2 sont masqués.\n",
    "- Les 4 bâtiments aux indices [0, 3, 6, 9] reçoivent des rayons de soleil sur au moins un étage et sont donc éclairés, alors que les autres ne le sont pas.\n",
    "- Il n'y a pas de bâtiment à l'indice 4.\n",
    "\n",
    "Écrire une fonction `nb_batiments_eclaires(lst:list) -> int` qui prend en argument la liste hauteurs des bâtiments et qui renvoie le nombre de bâtiments éclairés.\n",
    "\n",
    "La hauteur des bâtiments (en nombre d'étages) est donnée par une liste d'entiers positifs. Une hauteur de zéro étage signifie l'absence de bâtiment.\n",
    "Pour l'exemple ci-dessus, cette liste est `[2, 1, 2, 4, 0, 4, 5, 3, 5, 6]`."
   ]
  },
  {
   "cell_type": "code",
   "execution_count": 87,
   "metadata": {},
   "outputs": [],
   "source": [
    "def nb_batiments_eclaires(lst: list) -> int:\n",
    "    \"\"\"calcule le nombre de bâtiments éclairés par le soleil couchant, sachant qu'un bâtiment est éclairé si tous les bâtiments devant lui sont strictement plus petits que lui\n",
    "\n",
    "    Args:\n",
    "        lst (list): une liste d'entiers contenant les hauteurs des bâtiments (0 signifie l'absence de bâtiment)\n",
    "\n",
    "    Returns:\n",
    "        int: nombre de bâtiments éclairés\n",
    "    \"\"\"\n",
    "    if lst == []:\n",
    "        return 0\n",
    "    \n",
    "    dernier = lst[0]\n",
    "    if dernier == 0:\n",
    "        nb = 0\n",
    "    else:\n",
    "        nb = 1\n",
    "    \n",
    "    for el in lst:\n",
    "        if el > dernier:\n",
    "            dernier = el\n",
    "            nb += 1\n",
    "    return nb\n",
    "\n",
    "assert nb_batiments_eclaires([2, 1, 2, 4, 0, 4, 5, 3, 5, 6]) == 4\n",
    "assert nb_batiments_eclaires([0, 3, 1, 2]) == 1"
   ]
  },
  {
   "cell_type": "markdown",
   "metadata": {},
   "source": [
    "### Exercice n°17 : Premier minimum local\n",
    "\n",
    "Alors qu'elle joue sur un chemin dallé, Élodie laisse rouler une balle. En observant les dalles devant elle, elle se rend compte que certaines dalles sont plus basses que les précédentes, d'autres plus hautes.\n",
    "\n",
    "Elle se pose la question suivante : \"Où va s'arrêter la balle ?\"\n",
    "\n",
    "![](balle.svg)\n",
    "\n",
    "On donne les hauteurs des dalles dans le chemin sous forme d'une liste de nombres entiers positifs. Cette liste compte au minimum deux valeurs.\n",
    "\n",
    "On garantit que la hauteur de la dernière dalle est strictement supérieure celles de toutes les autres.\n",
    "\n",
    "Par exemple :\n",
    "```python\n",
    "# indices    0  1  2  3  4  5  6  7  8  9 10  11\n",
    "hauteurs = [10, 8, 7, 5, 5, 4, 3, 6, 6, 5, 4, 12]\n",
    "```\n",
    "Dans l'exemple précédent, illustré par la figure, la balle s'arrête sur la dalle d'indice 6. En effet, la balle s'arrête sur la première dalle dont la hauteur est strictement inférieure à celle de la suivante.\n",
    "\n",
    "On signale que lorsque deux dalles consécutives sont à la même hauteur, la balle continue de rouler.\n",
    "\n",
    "Écrire la fonction `indice_arret(hauteurs:list) -> int` qui prend en argument la liste des hauteurs des dalles et qui renvoie l'indice de la dalle sur laquelle s'arrête la bille. La balle est initialement sur la dalle d'indice 0."
   ]
  },
  {
   "cell_type": "code",
   "execution_count": 92,
   "metadata": {},
   "outputs": [],
   "source": [
    "def indice_arret(hauteurs: list) -> int:\n",
    "    \"\"\"détermine l'indice du premier minimum local de la liste donnée en argument\n",
    "\n",
    "    Args:\n",
    "        hauteurs (list): une liste d'entiers positifs\n",
    "\n",
    "    Returns:\n",
    "        int: indice du premier minimum local de hauteurs\n",
    "    \"\"\"\n",
    "    assert hauteurs != []\n",
    "    \n",
    "    for i in range(1, len(hauteurs)):\n",
    "        if hauteurs[i] > hauteurs[i-1]:\n",
    "            return i-1\n",
    "    return len(hauteurs)\n",
    "\n",
    "assert indice_arret([3, 2, 5]) == 1\n",
    "assert indice_arret([3, 5]) == 0\n",
    "assert indice_arret([10, 8, 7, 5, 5, 4, 3, 6, 6, 5, 4, 12]) == 6"
   ]
  },
  {
   "cell_type": "markdown",
   "metadata": {},
   "source": [
    "### Exercice n°18\n",
    "\n",
    "1. Ecrire une fonction `doublons(lst:list) -> bool` qui renvoie True s'il y a des doublons (deux éléments qui sont égaux) dans la liste `lst`."
   ]
  },
  {
   "cell_type": "code",
   "execution_count": 64,
   "metadata": {},
   "outputs": [],
   "source": [
    "def doublons(lst: list) -> bool:\n",
    "    \"\"\"détermine si une liste donnée en argument a des doublons\n",
    "\n",
    "    Args:\n",
    "        lst (list): une liste\n",
    "\n",
    "    Returns:\n",
    "        bool: True si lst a des doublons\n",
    "    \"\"\"\n",
    "    for i in range(len(lst)):\n",
    "        for j in range(i + 1, len(lst)):\n",
    "            if lst[i] == lst[j]:\n",
    "                return True\n",
    "    return False\n",
    "\n",
    "assert doublons([1, 2, 4, 5, 2, 9])\n",
    "assert doublons([1, 5, 3, 9, 4, 4])\n",
    "assert not doublons([1, 2, 3, 4, 5, 6])"
   ]
  },
  {
   "cell_type": "markdown",
   "metadata": {},
   "source": [
    "2. Ecrire une fonction `suppr_doublons(lst:list) -> list` qui renvoie une liste qui contient les éléments de `lst` sans doublons."
   ]
  },
  {
   "cell_type": "code",
   "execution_count": 65,
   "metadata": {},
   "outputs": [],
   "source": [
    "def suppr_doublons(lst: list) -> list:\n",
    "    \"\"\"supprime les doublons d'une liste donnée en argument\n",
    "\n",
    "    Args:\n",
    "        lst (list): une liste\n",
    "\n",
    "    Returns:\n",
    "        list: lst sans doublons\n",
    "    \"\"\"\n",
    "    res = []\n",
    "    for el in lst:\n",
    "        present = False\n",
    "        for v in res:\n",
    "            if el == v:\n",
    "                present = True\n",
    "                break\n",
    "        if not present:\n",
    "            res.append(el)\n",
    "    return res\n",
    "\n",
    "assert suppr_doublons([1, 2, 3, 4, 5]) == [1, 2, 3, 4, 5]\n",
    "assert suppr_doublons([1, 2, 2, 3, 3, 4]) == [1, 2, 3, 4]\n",
    "assert suppr_doublons([1, 4, 5, 1, 5, 4, 9, 1]) == [1, 4, 5, 9]"
   ]
  },
  {
   "cell_type": "markdown",
   "metadata": {},
   "source": [
    "3. Ecrire une fonction `concatene(lst1:list, lst2:list) -> list` qui crée la liste `lst1 + lst2` sans utiliser l'opérateur `+` et sans modifier la liste `lst1`."
   ]
  },
  {
   "cell_type": "code",
   "execution_count": 66,
   "metadata": {},
   "outputs": [],
   "source": [
    "def concatene(lst1: list, lst2: list) -> list:\n",
    "    \"\"\"génère la concaténation de deux listes données en argument\n",
    "\n",
    "    Args:\n",
    "        lst1 (list): une liste\n",
    "        lst2 (list): une liste\n",
    "\n",
    "    Returns:\n",
    "        list: lst1 + lst2\n",
    "    \"\"\"\n",
    "    res = []\n",
    "    for e in lst1:\n",
    "        res.append(e)\n",
    "    for v in lst2:\n",
    "        res.append(v)\n",
    "    return res\n",
    "\n",
    "assert concatene([1, 2, 3, 4], [5, 6, 7, 8]) == [1, 2, 3, 4, 5, 6, 7, 8]"
   ]
  },
  {
   "cell_type": "markdown",
   "metadata": {},
   "source": [
    "4. Ecrire une fonction `concatene_sans_doublons(lst1:list, lst2:list) -> list` qui concatène les listes `lst1` et `lst2` sans doublons."
   ]
  },
  {
   "cell_type": "code",
   "execution_count": 67,
   "metadata": {},
   "outputs": [],
   "source": [
    "def concatene_sans_doublons(lst1: list, lst2: list) -> list:\n",
    "    \"\"\"concatène deux listes données en arguments sans doublons\n",
    "\n",
    "    Args:\n",
    "        lst1 (list): une liste\n",
    "        lst2 (list): une liste\n",
    "\n",
    "    Returns:\n",
    "        list: lst1 concaténée avec lst2 sans doublons\n",
    "    \"\"\"\n",
    "    res = suppr_doublons(lst1)\n",
    "    for e in lst2:\n",
    "        present = False\n",
    "        for v in res:\n",
    "            if v == e:\n",
    "                present = True\n",
    "                break\n",
    "        if not present:\n",
    "            res.append(e)\n",
    "    return res\n",
    "\n",
    "assert concatene_sans_doublons([1, 2, 3, 4, 5], [6, 8, 9]) == [1, 2, 3, 4, 5, 6, 8, 9]\n",
    "assert concatene_sans_doublons([1, 2, 3, 4], [5, 3, 8, 1]) == [1, 2, 3, 4, 5, 8]\n",
    "assert concatene_sans_doublons([1, 2, 3, 2], [4, 5, 3, 6]) == [1, 2, 3, 4, 5, 6]"
   ]
  },
  {
   "cell_type": "markdown",
   "metadata": {},
   "source": [
    "### Exercice n°19 : Suite de Fibonacci\n",
    "\n",
    "La suite de Fibonacci est définie par la relation suivante: chacun de ses termes est la somme des deux précédents, c'est-à-dire $F_n = F_{n-1} + F_{n-2}$ avec $F_0 = 1$ et $F_1 = 1$. \n",
    "\n",
    "Écrire une fonction `fibonacci(n:int) -> list` qui renvoie la liste des $n$ premiers termes de la suite de Fibonacci. \n",
    "\n",
    "L’appel `fibonacci(10)` doit donc renvoyer la liste `[1, 1, 2, 3, 5, 8, 13, 21, 34, 55]`."
   ]
  },
  {
   "cell_type": "code",
   "execution_count": 55,
   "metadata": {},
   "outputs": [],
   "source": [
    "def fibonacci(n: int) -> list:\n",
    "    \"\"\"génère la liste des nombres de Fibonacci\n",
    "\n",
    "    Args:\n",
    "        n (int): un entier\n",
    "\n",
    "    Returns:\n",
    "        list: liste des n premiers nombres de la suite de Fibonacci\n",
    "    \"\"\"\n",
    "    fibo = []\n",
    "    for i in range(n):\n",
    "        if i == 0 or i == 1:\n",
    "            fibo.append(1)\n",
    "        else:\n",
    "            fibo.append(fibo[-2] + fibo[-1])\n",
    "    return fibo\n",
    "\n",
    "assert fibonacci(10) == [1, 1, 2, 3, 5, 8, 13, 21, 34, 55]"
   ]
  },
  {
   "cell_type": "markdown",
   "metadata": {},
   "source": [
    "### Exercice n°20 : Nombres premiers\n",
    "\n",
    "Ecrire une fonction `nombres_premiers(n:int) -> list` qui prend en argument un entier `n` et qui renvoie la liste des n premiers nombres premiers."
   ]
  },
  {
   "cell_type": "code",
   "execution_count": 2,
   "metadata": {},
   "outputs": [],
   "source": [
    "def nombres_premiers(n: int) -> list:\n",
    "    \"\"\"génère la liste des n premiers nombres premiers\n",
    "\n",
    "    Args:\n",
    "        n (int): un entier\n",
    "\n",
    "    Returns:\n",
    "        list: liste des n premiers nombres premiers\n",
    "    \"\"\"\n",
    "    assert n >= 0\n",
    "    \n",
    "    l = []\n",
    "    i = 2\n",
    "    while len(l) < n:\n",
    "        premier = True\n",
    "        for e in l:\n",
    "            if e ** 2 > i:\n",
    "                break\n",
    "            if i % e == 0:\n",
    "                premier = False\n",
    "                break\n",
    "        if premier:\n",
    "            l.append(i)\n",
    "        i += 1\n",
    "    return l\n",
    "\n",
    "assert nombres_premiers(20) == [2, 3, 5, 7, 11, 13, 17, 19, 23, 29, 31, 37, 41, 43, 47, 53, 59, 61, 67, 71]"
   ]
  },
  {
   "cell_type": "markdown",
   "metadata": {},
   "source": [
    "### Exercice n°21\n",
    "\n",
    "Ecrire un programme qui stocke la décomposition en facteurs premiers d'un nombre entier strictement positif dans un tableau et ensuite affiche les éléments de ce tableau sous la forme `18 = 2 * 3 * 3`."
   ]
  },
  {
   "cell_type": "code",
   "execution_count": 69,
   "metadata": {},
   "outputs": [
    {
     "name": "stdout",
     "output_type": "stream",
     "text": [
      "7 = 7\n",
      "18 = 2 * 3 * 3\n",
      "45 = 3 * 3 * 5\n",
      "60 = 2 * 2 * 3 * 5\n"
     ]
    }
   ],
   "source": [
    "def decomposition(n: int) -> None:\n",
    "    \"\"\"affiche la décomposition en facteurs premier d'un nombre entier positif\n",
    "\n",
    "    Args:\n",
    "        n (int): un nombre entier positif\n",
    "    \"\"\"\n",
    "    assert type(n) == int and n > 0\n",
    "    \n",
    "    dec = []\n",
    "    r = n\n",
    "    while r > 1:\n",
    "        for i in range(2, r + 1):\n",
    "            if r % i == 0:\n",
    "                dec.append(i)\n",
    "                r //= i\n",
    "                break\n",
    "    print(n, \"= \", end=\"\")\n",
    "    for i in range(len(dec) - 1):\n",
    "        print(dec[i], \"* \", end=\"\")\n",
    "    print(dec[-1])\n",
    "    \n",
    "decomposition(7)\n",
    "decomposition(18)\n",
    "decomposition(45)\n",
    "decomposition(60)"
   ]
  },
  {
   "cell_type": "markdown",
   "metadata": {},
   "source": [
    "### Exercice n°22 : Suite de Conway\n",
    "\n",
    "Le mathématicien John Conway a défini la suite qui porte son nom en annonçant les chiffres qui forment le terme précédent. Les premiers termes de cette suite sont donc : $1, 11, 21, 1211, 111221, 312211, ...$\n",
    "\n",
    "Par exemple, si on part du 5ème terme : $111221$ et qu'on le lit à haute voix en énumérant dans l'ordre la quantité de chaque chiffre qui est présent dans ce nombre, on obtient : \"trois 1 deux 2 un 1\", que l'on transcrit ensuite en $312211$ qui forme le terme suivant de la suite.\n",
    "\n",
    "Pour le programme suivant, on représentera chaque terme de la suite par la liste de ses chiffres:\n",
    "```python\n",
    "terme1 = [1]\n",
    "terme2 = [1, 1]\n",
    "terme3 = [2, 1]\n",
    "terme4 = [1, 2, 1, 1]\n",
    "terme5 = [1, 1, 1, 2, 2, 1]\n",
    "terme6 = [3, 1, 2, 2, 1, 1]\n",
    "```\n",
    "\n",
    "Ecrire une fonction `next_conway(liste : list) -> list` qui prend en argument un terme de la suite de Conway sous forme de liste et qui renvoie la liste composée des chiffres du terme suivant."
   ]
  },
  {
   "cell_type": "code",
   "execution_count": 97,
   "metadata": {},
   "outputs": [],
   "source": [
    "def next_conway(liste: list) -> list:\n",
    "    \"\"\"calcule le terme suivant de la suite de Conway\n",
    "\n",
    "    Args:\n",
    "        liste (list): liste des chiffres d'un terme de la suite de Conway\n",
    "\n",
    "    Returns:\n",
    "        list: liste des chiffres du terme suivant de la suite de Conway\n",
    "    \"\"\"\n",
    "    res = []\n",
    "    courant = liste[0]\n",
    "    nb = 0\n",
    "    for chiffre in liste:\n",
    "        if chiffre == courant:\n",
    "            nb += 1\n",
    "        else:\n",
    "            res.append(nb)\n",
    "            res.append(courant)\n",
    "            courant = chiffre\n",
    "            nb = 1\n",
    "    res.append(nb)\n",
    "    res.append(courant)\n",
    "    return res\n",
    "\n",
    "assert next_conway([1]) == [1, 1]\n",
    "assert next_conway([1, 1]) == [2, 1]\n",
    "assert next_conway([2, 1]) == [1, 2, 1, 1]\n",
    "assert next_conway([2, 1]) == [1, 2, 1, 1]\n",
    "assert next_conway([1, 3, 1, 1, 2, 2, 2, 1]) == [1, 1, 1, 3, 2, 1, 3, 2, 1, 1]"
   ]
  },
  {
   "cell_type": "markdown",
   "metadata": {},
   "source": [
    "### Exercice n°23 : Triangle de Pascal\n",
    "\n",
    "Les coefficients binomiaux sont présentés ci-dessous pour former le « triangle de Pascal ».\n",
    "\n",
    "1\n",
    "\n",
    "1 1\n",
    "\n",
    "1 2 1\n",
    "\n",
    "1 3 3 1\n",
    "\n",
    "1 4 6 4 1\n",
    "\n",
    "1 **5** **10** 10 5 1\n",
    "\n",
    "1 6 **15** 20 15 6 1\n",
    "\n",
    "Chaque ligne du triangle de Pascal commence et se termine par un 1, et le reste de la ligne se déduit de la ligne précédente en additionnant deux termes consécutifs.\n",
    "\n",
    "On a par exemple 5 + 10 = 15 pour les nombres encadrés dans le tableau.\n",
    "\n",
    "Écrire une fonction `pascal(n:int) -> list` qui prend en argument un entier `n` et renvoie la n–ième ligne du triangle de Pascal."
   ]
  },
  {
   "cell_type": "code",
   "execution_count": 98,
   "metadata": {},
   "outputs": [],
   "source": [
    "def pascal(n: int) -> list:\n",
    "    \"\"\"génère la n-ième ligne du triangle de Pascal\n",
    "\n",
    "    Args:\n",
    "        n (int): un entier\n",
    "\n",
    "    Returns:\n",
    "        list: la n-ième ligne du triangle de Pascal\n",
    "    \"\"\"\n",
    "    ligne = [1]\n",
    "    for _ in range(1, n + 1):\n",
    "        res = [ligne[i] + ligne[i+1] for i in range(len(ligne) - 1)]\n",
    "        res.insert(0, 1)\n",
    "        res.append(1)\n",
    "        ligne = res\n",
    "    return ligne\n",
    "\n",
    "assert pascal(0) == [1]\n",
    "assert pascal(1) == [1, 1]\n",
    "assert pascal(2) == [1, 2, 1]\n",
    "assert pascal(3) == [1, 3, 3, 1]\n",
    "assert pascal(6) == [1, 6, 15, 20, 15, 6, 1]"
   ]
  },
  {
   "cell_type": "markdown",
   "metadata": {},
   "source": [
    "### Exercice n°24\n",
    "\n",
    "Écrire une fonction `plus_longue_suite_croissante(lst:list) -> list` qui renvoie une liste comprenant la plus longue suite d’éléments successifs qui se suivent dans un ordre croissant. S’il existe plusieurs réponses possibles, la première suite trouvée aura la priorité."
   ]
  },
  {
   "cell_type": "code",
   "execution_count": 49,
   "metadata": {},
   "outputs": [],
   "source": [
    "def plus_longue_suite_croissante(lst: list) -> list:\n",
    "    \"\"\"renvoie la liste contenant la (première) plus longue suite d'éléments consécutifs dans un ordre croissant\n",
    "\n",
    "    Args:\n",
    "        lst (list): liste d'entiers\n",
    "\n",
    "    Returns:\n",
    "        list: plus longue suite croissante d'éléments de lst\n",
    "    \"\"\"\n",
    "    plsc = []\n",
    "    courante = []\n",
    "    for i in range(len(lst)):\n",
    "        if i == 0:\n",
    "            courante.append(lst[0])\n",
    "        elif lst[i-1] <= lst[i]:\n",
    "            courante.append(lst[i])\n",
    "        else:\n",
    "            if len(courante) > len(plsc):\n",
    "                plsc = courante\n",
    "            courante = [lst[i]]\n",
    "    if len(courante) > len(plsc):\n",
    "        plsc = courante\n",
    "    return plsc\n",
    "\n",
    "assert plus_longue_suite_croissante([1, 5, 2, 3, 4, 0, 6]) == [2, 3, 4]\n",
    "assert plus_longue_suite_croissante([1, 5, 7, 2, 3, 4, 0, 6]) == [1, 5, 7]\n",
    "assert plus_longue_suite_croissante([5, 4, 3, 2, 1, 0]) == [5]\n",
    "assert plus_longue_suite_croissante([1, 5, 2, 3, 0, 4, 6]) == [0, 4, 6]\n",
    "assert plus_longue_suite_croissante([]) == []"
   ]
  },
  {
   "cell_type": "markdown",
   "metadata": {},
   "source": [
    "### Exercice n°25 : Sous-listes\n",
    "\n",
    "1. Une sous-liste d’une liste `lst` est une séquence d’éléments consécutifs de `lst` compris entre deux indices `i` et `j` avec `i <= j`. Ecrire une fonction `sous_liste(lst:list, i:int, j:int) -> lst` qui renvoie la sous liste de `lst` entre les indices `i` et `j` (sans utiliser les tranches)."
   ]
  },
  {
   "cell_type": "code",
   "execution_count": 76,
   "metadata": {},
   "outputs": [],
   "source": [
    "def sous_liste(lst: list, i: int, j: int) -> list:\n",
    "    \"\"\"génère la sous-liste de d'une liste donnée en argument\n",
    "\n",
    "    Args:\n",
    "        lst (list): une liste\n",
    "        i (int): indice de début\n",
    "        j (int): indice de fin\n",
    "\n",
    "    Returns:\n",
    "        list: sous-liste de lst entre les indices i et j\n",
    "    \"\"\"\n",
    "    assert 0 <= i < len(lst) and 0 <= j < len(lst) and i <= j\n",
    "    \n",
    "    return [lst[k] for k in range(i, j+1)]\n",
    "\n",
    "assert sous_liste([0, 1, 2, 3, 4, 5, 6], 2, 5) == [2, 3, 4, 5]"
   ]
  },
  {
   "cell_type": "markdown",
   "metadata": {},
   "source": [
    "2. Ecrire une fonction `somme_sous_liste(lst:list, i:int, j:int) -> int` qui calcule la somme des éléments de la sous-liste de `lst` comprise entre les indices `i` et `j`."
   ]
  },
  {
   "cell_type": "code",
   "execution_count": 77,
   "metadata": {},
   "outputs": [],
   "source": [
    "def somme_sous_liste(lst: list, i: int, j: int) -> int:\n",
    "    \"\"\"calcule la somme des éléments d'une liste compris entre deux indices\n",
    "\n",
    "    Args:\n",
    "        lst (list): une liste d'entiers\n",
    "        i (int): indice de début\n",
    "        j (int): indice de fin\n",
    "\n",
    "    Returns:\n",
    "        int: somme des éléments de lst entre les indices i et j\n",
    "    \"\"\"\n",
    "    assert 0 <= i < len(lst) and 0 <= j < len(lst) and i <= j\n",
    "    \n",
    "    somme = 0\n",
    "    for k in range(i, j + 1):\n",
    "        somme += lst[k]\n",
    "    return somme\n",
    "\n",
    "assert somme_sous_liste([-10, -3, -8, 1, 2, 9, 6, 6], 1, 7) == 13"
   ]
  },
  {
   "cell_type": "markdown",
   "metadata": {},
   "source": [
    "3. Le **problème de la sous-liste de somme maximale** consiste à déterminer la valeur maximale que peut atteindre la somme des éléments d’une sous-liste, pour l’ensemble des sous-listes d’une liste donnée. Ecrire une fonction `max_sous_liste(lst:list) -> int` qui résout le problème de la sous-liste de somme maximale pour la liste `lst` en utilisant un algorithme de _brute force_ :\n",
    "   - pour chaque sous-liste, on calcule la somme de ses éléments\n",
    "   - on détermine le maximum de ces sommes"
   ]
  },
  {
   "cell_type": "code",
   "execution_count": 78,
   "metadata": {},
   "outputs": [],
   "source": [
    "def max_sous_liste(lst: list) -> int:\n",
    "    \"\"\"calcule la somme maximale d'une sous-liste de la liste donnée en argument\n",
    "\n",
    "    Args:\n",
    "        lst (list): une liste d'entiers non videe\n",
    "\n",
    "    Returns:\n",
    "        int: somme maximale d'une sous-liste de lst\n",
    "    \"\"\"\n",
    "    assert lst != []\n",
    "    \n",
    "    maxi = lst[0]\n",
    "    for i in range(len(lst)):\n",
    "        for j in range(i, len(lst)):\n",
    "            somme = somme_sous_liste(lst, i, j)\n",
    "            if somme > maxi:\n",
    "                maxi = somme\n",
    "    \n",
    "    return maxi\n",
    "\n",
    "assert max_sous_liste([-10, -3, -8, 1, 2, 9, 6, 6]) == 24\n",
    "assert max_sous_liste([5, -10, 3, -8, 1, -2, 9, 6, -6]) == 15"
   ]
  },
  {
   "cell_type": "markdown",
   "metadata": {},
   "source": [
    "4. Pour une liste `lst` de longueur `n`, on peut regrouper les sous-listes de `lst` en fonction de l'indice de leur dernier élément (qui varie entre `0` et `n-1`). On note $S_i$ la somme maximale obtenue pour les sous-listes dont l'indice du dernier élément est $i$. Vérifier qu'on a bien pour $0 \\leq i \\leq n-1$:\n",
    "   - si $S_i > 0$ alors $S_i = S_{i-1} + lst[i]$\n",
    "   - sinon $S_i = lst[i]$\n",
    "\n",
    "Ecrire une fonction `max_sous_liste2(lst:list) -> int` qui résout le problème de la sous-liste maximale en utilisant la propriété précédente."
   ]
  },
  {
   "cell_type": "code",
   "execution_count": 85,
   "metadata": {},
   "outputs": [],
   "source": [
    "def max_sous_liste2(lst: list) -> int:\n",
    "    \"\"\"calcule la somme maximale d'une sous-liste de la liste donnée en argument\n",
    "\n",
    "    Args:\n",
    "        lst (list): une liste d'entiers non videe\n",
    "\n",
    "    Returns:\n",
    "        int: somme maximale d'une sous-liste de lst\n",
    "    \"\"\"\n",
    "    assert lst != []\n",
    "    \n",
    "    maxi = lst[0]\n",
    "    chaine = lst[0]\n",
    "    for i in range(1, len(lst)):\n",
    "        if chaine > 0:\n",
    "            chaine += lst[i]\n",
    "        else:\n",
    "            chaine = lst[i]\n",
    "        if chaine > maxi:\n",
    "            maxi = chaine\n",
    "    return maxi\n",
    "\n",
    "assert max_sous_liste2([-10, -3, -8, 1, 2, 9, 6, 6]) == 24\n",
    "assert max_sous_liste2([5, -10, 3, -8, 1, -2, 9, 6, -6]) == 15"
   ]
  },
  {
   "cell_type": "markdown",
   "metadata": {},
   "source": [
    "### Exercice n°26\n",
    "\n",
    "La grille ci-dessous contient la liste alphabétique des caractères de `'a'` à `'x'`.\n",
    "\n",
    "![](listes2d.png)\n",
    "\n",
    "1. Créer une variable `M` qui contient la grille précédente.\n",
    "2. Quel est le contenu de la case repérée par le couple (2,0) ?\n",
    "3. Quel est le contenu de la case repérée par le couple (0,2) ?\n",
    "4. Quel couple repère la case contenant le caractère 'o' ?\n",
    "5. Quel couple repère la case contenant le caractère 'b' ?\n",
    "6. Quel couple repère la case contenant le caractère 'i' ?\n",
    "7. Quel est le contenu de la case repérée par le couple (5,1) ?"
   ]
  },
  {
   "cell_type": "code",
   "execution_count": 2,
   "metadata": {},
   "outputs": [
    {
     "name": "stdout",
     "output_type": "stream",
     "text": [
      "q\n",
      "c\n",
      "o\n",
      "b\n",
      "i\n"
     ]
    },
    {
     "ename": "IndexError",
     "evalue": "list index out of range",
     "output_type": "error",
     "traceback": [
      "\u001b[0;31m---------------------------------------------------------------------------\u001b[0m",
      "\u001b[0;31mIndexError\u001b[0m                                Traceback (most recent call last)",
      "\u001b[1;32m/Users/estelledoriot/Mon Drive/Workspace/Python/Cours_python/listesExos.ipynb Cellule 106\u001b[0m in \u001b[0;36m<cell line: 10>\u001b[0;34m()\u001b[0m\n\u001b[1;32m      <a href='vscode-notebook-cell:/Users/estelledoriot/Mon%20Drive/Workspace/Python/Cours_python/listesExos.ipynb#ch0000115?line=7'>8</a>\u001b[0m \u001b[39mprint\u001b[39m(M[\u001b[39m0\u001b[39m][\u001b[39m1\u001b[39m])\n\u001b[1;32m      <a href='vscode-notebook-cell:/Users/estelledoriot/Mon%20Drive/Workspace/Python/Cours_python/listesExos.ipynb#ch0000115?line=8'>9</a>\u001b[0m \u001b[39mprint\u001b[39m(M[\u001b[39m1\u001b[39m][\u001b[39m0\u001b[39m])\n\u001b[0;32m---> <a href='vscode-notebook-cell:/Users/estelledoriot/Mon%20Drive/Workspace/Python/Cours_python/listesExos.ipynb#ch0000115?line=9'>10</a>\u001b[0m \u001b[39mprint\u001b[39m(M[\u001b[39m5\u001b[39;49m][\u001b[39m1\u001b[39m])\n",
      "\u001b[0;31mIndexError\u001b[0m: list index out of range"
     ]
    }
   ],
   "source": [
    "M = [['a', 'b', 'c', 'd', 'e', 'f', 'g', 'h'],\n",
    "     ['i', 'j', 'k', 'l', 'm', 'n', 'o', 'p'],\n",
    "     ['q', 'r', 's', 't', 'u', 'v', 'w', 'x']]\n",
    "\n",
    "print(M[2][0])\n",
    "print(M[0][2])\n",
    "print(M[1][6])\n",
    "print(M[0][1])\n",
    "print(M[1][0])\n",
    "print(M[5][1])"
   ]
  },
  {
   "cell_type": "markdown",
   "metadata": {},
   "source": [
    "### Exercice n°27 : Matrices\n",
    "\n",
    "1. Créer une fonction `cree_tableau(n:int, p:int) -> list` qui renvoie une matrice de `n` lignes et `p` colonnes contenant des nombres entiers aléatoirement choisis entre 0 et 100."
   ]
  },
  {
   "cell_type": "code",
   "execution_count": 70,
   "metadata": {},
   "outputs": [
    {
     "name": "stdout",
     "output_type": "stream",
     "text": [
      "[[20, 95, 34, 13, 76, 21], [89, 85, 89, 84, 49, 1], [75, 23, 97, 32, 55, 73], [41, 76, 53, 98, 29, 49], [1, 33, 86, 58, 35, 19]]\n"
     ]
    }
   ],
   "source": [
    "from random import randint\n",
    "\n",
    "def cree_tableau(n: int, p: int) -> list:\n",
    "    \"\"\"génère une matrice de taille n x p contenant des nombres aléatoires entre 0 et 100\n",
    "\n",
    "    Args:\n",
    "        n (int): nombre de lignes\n",
    "        p (int): nombre de colonnes\n",
    "\n",
    "    Returns:\n",
    "        list: matrice aléatoire de taille n x p\n",
    "    \"\"\"\n",
    "    return [[randint(0, 100) for _ in range(p)] for _ in range(n)]\n",
    "\n",
    "print(cree_tableau(5, 6))"
   ]
  },
  {
   "cell_type": "markdown",
   "metadata": {},
   "source": [
    "2. Ecrire une fonction `somme_ligne(mat:list, i:int) -> int` qui prend en paramètre une matrice carrée `mat` et renvoie la somme des chiffres de la ligne `i`. "
   ]
  },
  {
   "cell_type": "code",
   "execution_count": 72,
   "metadata": {},
   "outputs": [],
   "source": [
    "def somme_ligne(mat: list, i: int) -> int:\n",
    "    \"\"\"calcule la somme des éléments d'une ligne donnée d'une matrice\n",
    "\n",
    "    Args:\n",
    "        mat (list): une matrice carrée d'entiers\n",
    "        i (int): un entier\n",
    "\n",
    "    Returns:\n",
    "        int: somme des éléments de la ligne i de mat\n",
    "    \"\"\"\n",
    "    assert 0 <= i < len(mat)\n",
    "    \n",
    "    somme = 0\n",
    "    for j in range(len(mat)):\n",
    "        somme += mat[i][j]\n",
    "    return somme\n",
    "\n",
    "assert somme_ligne([[1]*4 for i in range(4)], 0) == 4"
   ]
  },
  {
   "cell_type": "markdown",
   "metadata": {},
   "source": [
    "3. Ecrire une fonction `somme_colonne(mat:list, j:int) -> int` qui prend en paramètre une matrice carrée `mat` et renvoie la somme des chiffres de la colonne `j`. "
   ]
  },
  {
   "cell_type": "code",
   "execution_count": 73,
   "metadata": {},
   "outputs": [],
   "source": [
    "def somme_colonne(mat: list, j: int) -> int:\n",
    "    \"\"\"calcule la somme des éléments d'une colonne donnée d'une matrice\n",
    "\n",
    "    Args:\n",
    "        mat (list): une matrice carrée d'entiers\n",
    "        j (int): un entier\n",
    "\n",
    "    Returns:\n",
    "        int: somme des éléments de la colonne j de mat\n",
    "    \"\"\"\n",
    "    assert 0 <= j < len(mat)\n",
    "    \n",
    "    somme = 0\n",
    "    for i in range(len(mat)):\n",
    "        somme += mat[i][j]\n",
    "    return somme\n",
    "\n",
    "assert somme_colonne([[1]*4 for i in range(4)], 0) == 4"
   ]
  },
  {
   "cell_type": "markdown",
   "metadata": {},
   "source": [
    "4. Ecrire une fonction `somme_diagonale1(mat:list) -> int` qui calcule la somme des éléments de la diagonale principale de `mat` et une fonction `somme_diagonale2(mat:list) -> int` qui calcule la somme des éléments de la diagonale secondaire de `mat`."
   ]
  },
  {
   "cell_type": "code",
   "execution_count": 75,
   "metadata": {},
   "outputs": [],
   "source": [
    "def somme_diagonale1(mat: list) -> int:\n",
    "    \"\"\"calcule la somme des éléments de la diagonale principale d'une matrice\n",
    "\n",
    "    Args:\n",
    "        mat (list): une matrice carrée d'entiers\n",
    "\n",
    "    Returns:\n",
    "        int: la somme des éléments de la diagonale principale de mat\n",
    "    \"\"\"\n",
    "    somme = 0\n",
    "    for i in range(len(mat)):\n",
    "        somme += mat[i][i]\n",
    "    return somme\n",
    "\n",
    "assert somme_diagonale1([[1]*4 for i in range(4)]) == 4\n",
    "\n",
    "def somme_diagonale2(mat: list) -> int:\n",
    "    \"\"\"calcule la somme des éléments de la diagonale secondaire d'une matrice\n",
    "\n",
    "    Args:\n",
    "        mat (list): une matrice carrée d'entiers\n",
    "\n",
    "    Returns:\n",
    "        int: la somme des éléments de la diagonale secondaire de mat\n",
    "    \"\"\"\n",
    "    n = len(mat)\n",
    "    somme = 0\n",
    "    for i in range(n):\n",
    "        somme += mat[i][n-1-i]\n",
    "    return somme\n",
    "\n",
    "assert somme_diagonale2([[1]*4 for i in range(4)]) == 4"
   ]
  },
  {
   "attachments": {},
   "cell_type": "markdown",
   "metadata": {},
   "source": [
    "### Exercice n°28\n",
    "\n",
    "Le mélange de Monge d'un paquet de cartes numérotées de $1$ à $2n$ donne un paquet de cartes dans l'ordre suivant: $(2n, 2n-2, \\dots, 4, 2, 1, 3, 5, \\dots, 2n-3, 2n-1)$\n",
    "\n",
    "Ecrire une fonction `monge(cartes:list) -> list` une fonction qui réalise un mélange de Monge sur une liste `cartes` en une seule ligne (on utilisera les tranches)."
   ]
  },
  {
   "cell_type": "code",
   "execution_count": 3,
   "metadata": {},
   "outputs": [],
   "source": [
    "def monge(cartes: list) -> list:\n",
    "    \"\"\"réalise un mélange de Monge sur une liste de cartes\n",
    "\n",
    "    Args:\n",
    "        cartes (list): une liste\n",
    "\n",
    "    Returns:\n",
    "        list: la liste carte mélangée avec le mélange de Monge\n",
    "    \"\"\"\n",
    "    return cartes[::-2] + cartes[::2]\n",
    "\n",
    "assert monge(list(range(1,11))) == [10, 8, 6, 4, 2, 1, 3, 5, 7, 9] "
   ]
  }
 ],
 "metadata": {
  "kernelspec": {
   "display_name": "Python 3.10.0 64-bit",
   "language": "python",
   "name": "python3"
  },
  "language_info": {
   "codemirror_mode": {
    "name": "ipython",
    "version": 3
   },
   "file_extension": ".py",
   "mimetype": "text/x-python",
   "name": "python",
   "nbconvert_exporter": "python",
   "pygments_lexer": "ipython3",
   "version": "3.10.0 (v3.10.0:b494f5935c, Oct  4 2021, 14:59:19) [Clang 12.0.5 (clang-1205.0.22.11)]"
  },
  "orig_nbformat": 4,
  "vscode": {
   "interpreter": {
    "hash": "aee8b7b246df8f9039afb4144a1f6fd8d2ca17a180786b69acc140d282b71a49"
   }
  }
 },
 "nbformat": 4,
 "nbformat_minor": 2
}
