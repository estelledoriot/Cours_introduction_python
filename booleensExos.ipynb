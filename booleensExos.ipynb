{
 "cells": [
  {
   "attachments": {},
   "cell_type": "markdown",
   "metadata": {},
   "source": [
    "**Estelle Doriot**\n",
    "\n",
    "_NSI 1ère_\n",
    "\n",
    "---\n",
    "\n",
    "# Exercices : Booléens\n",
    "\n",
    "---\n",
    "\n",
    "### Exercice n° 1\n",
    "\n",
    "Dresser la table de vérité de l'expression\n",
    "\n",
    "```\n",
    "S = (A and B) or (A and not C) or (not B and C)\n",
    "```\n"
   ]
  },
  {
   "attachments": {},
   "cell_type": "markdown",
   "metadata": {},
   "source": [
    "**Correction**:\n",
    "\n",
    "| **A** | **B** | **C** | **A and B** | **A and not C** | **not B and C** | **S** |\n",
    "| ----- | ----- | ----- | ----------- | --------------- | --------------- | ----- |\n",
    "| 0     | 0     | 0     | 0           | 0               | 0               | 0     |\n",
    "| 0     | 0     | 1     | 0           | 0               | 1               | 1     |\n",
    "| 0     | 1     | 0     | 0           | 0               | 0               | 0     |\n",
    "| 0     | 1     | 1     | 0           | 0               | 0               | 0     |\n",
    "| 1     | 0     | 0     | 0           | 1               | 1               | 1     |\n",
    "| 1     | 0     | 1     | 0           | 0               | 1               | 1     |\n",
    "| 1     | 1     | 0     | 1           | 1               | 0               | 1     |\n",
    "| 1     | 1     | 1     | 1           | 0               | 0               | 1     |\n"
   ]
  },
  {
   "attachments": {},
   "cell_type": "markdown",
   "metadata": {},
   "source": [
    "### Exercice n°2\n",
    "\n",
    "1. A or A =\n",
    "2. A and A =\n",
    "3. not (not A) =\n",
    "4. A or (not A) =\n",
    "5. A and (not A) =\n"
   ]
  },
  {
   "attachments": {},
   "cell_type": "markdown",
   "metadata": {},
   "source": [
    "**Correction**:\n",
    "\n",
    "1. A or A = A\n",
    "2. A and A = A\n",
    "3. not (not A) = A\n",
    "4. A or (not A) = 1\n",
    "5. A and (not A) = 0\n"
   ]
  },
  {
   "attachments": {},
   "cell_type": "markdown",
   "metadata": {},
   "source": [
    "### Exercice n°3\n",
    "\n",
    "Montrer que:\n",
    "\n",
    "1. `and` est distributive sur `or`: `A and (B or C) = (A and B) or (A and C)`\n",
    "2. `or` est distributive sur `and`: `A or (B and C) = (A or B) and (A or C)`\n"
   ]
  },
  {
   "attachments": {},
   "cell_type": "markdown",
   "metadata": {},
   "source": [
    "**Correction**:\n",
    "\n",
    "1. `A and (B or C) = (A and B) or (A and C)`\n",
    "\n",
    "| **A** | **B** | **C** | **B or C** | **A and (B or C)** | **A and B** | **A and C** | **(A and B) or (A and C)** |\n",
    "| ----- | ----- | ----- | ---------- | ------------------ | ----------- | ----------- | -------------------------- |\n",
    "| 0     | 0     | 0     | 0          | 0                  | 0           | 0           | 0                          |\n",
    "| 0     | 0     | 1     | 1          | 0                  | 0           | 0           | 0                          |\n",
    "| 0     | 1     | 0     | 1          | 0                  | 0           | 0           | 0                          |\n",
    "| 0     | 1     | 1     | 1          | 0                  | 0           | 0           | 0                          |\n",
    "| 1     | 0     | 0     | 0          | 0                  | 0           | 0           | 0                          |\n",
    "| 1     | 0     | 1     | 1          | 1                  | 0           | 1           | 1                          |\n",
    "| 1     | 1     | 0     | 1          | 1                  | 1           | 0           | 1                          |\n",
    "| 1     | 1     | 1     | 1          | 1                  | 1           | 1           | 1                          |\n",
    "\n",
    "2. `A or (B and C) = (A or B) and (A or C)`\n",
    "\n",
    "| **A** | **B** | **C** | **B and C** | **A or (B and C)** | **A or B** | **A or C** | **(A and B) or (A and C)** |\n",
    "| ----- | ----- | ----- | ----------- | ------------------ | ---------- | ---------- | -------------------------- |\n",
    "| 0     | 0     | 0     | 0           | 0                  | 0          | 0          | 0                          |\n",
    "| 0     | 0     | 1     | 0           | 0                  | 0          | 1          | 0                          |\n",
    "| 0     | 1     | 0     | 0           | 0                  | 1          | 0          | 0                          |\n",
    "| 0     | 1     | 1     | 1           | 0                  | 1          | 1          | 1                          |\n",
    "| 1     | 0     | 0     | 0           | 1                  | 1          | 1          | 1                          |\n",
    "| 1     | 0     | 1     | 0           | 1                  | 1          | 1          | 1                          |\n",
    "| 1     | 1     | 0     | 0           | 1                  | 1          | 1          | 1                          |\n",
    "| 1     | 1     | 1     | 1           | 1                  | 1          | 1          | 1                          |\n"
   ]
  },
  {
   "attachments": {},
   "cell_type": "markdown",
   "metadata": {},
   "source": [
    "### Exercice n°4\n",
    "\n",
    "Démontrer les formules de De Morgan:\n",
    "\n",
    "1. not (A or B) = (not A) and (not B)\n",
    "2. not (A and B) = (not A) or (not B)\n"
   ]
  },
  {
   "attachments": {},
   "cell_type": "markdown",
   "metadata": {},
   "source": [
    "**Correction**:\n",
    "\n",
    "1. `not (A or B) = (not A) and (not B)`\n",
    "\n",
    "| **A** | **B** | **A or B** | **not (A or B)** | **not A** | **not B** | **(not A) and (not B)** |\n",
    "| ----- | ----- | ---------- | ---------------- | --------- | --------- | ----------------------- |\n",
    "| 0     | 0     | 0          | 1                | 1         | 1         | 1                       |\n",
    "| 0     | 1     | 1          | 0                | 1         | 0         | 0                       |\n",
    "|  1    | 0     | 1          | 0                | 0         | 1         | 0                       |\n",
    "| 1     | 1     | 1          | 0                | 0         | 0         | 0                       |\n",
    "\n",
    "2. `not (A and B) = (not A) or (not B)`\n",
    "\n",
    "| **A** | **B** | **A and B** | **not (A and B)** | **not A** | **not B** | **(not A) or (not B)** |\n",
    "| ----- | ----- | ----------- | ----------------- | --------- | --------- | ---------------------- |\n",
    "| 0     | 0     | 0           | 1                 | 1         | 1         | 1                      |\n",
    "| 0     | 1     | 0           | 1                 | 1         | 0         | 1                      |\n",
    "|  1    | 0     | 0           | 1                 | 0         | 1         | 1                      |\n",
    "| 1     | 1     | 1           | 0                 | 0         | 0         | 0                      |\n"
   ]
  },
  {
   "attachments": {},
   "cell_type": "markdown",
   "metadata": {},
   "source": [
    "### Exercice n°5\n",
    "\n",
    "L'opération \"ou exclusif\", noté `xor`, est défini par `A xor B = (A or B) and not (A and B)`.\n",
    "\n",
    "1. Dresser la table de vérité de l'expression `A xor B`\n",
    "2. Vérifier que `A xor B = (A and not B) or (not A and B)`\n"
   ]
  },
  {
   "attachments": {},
   "cell_type": "markdown",
   "metadata": {},
   "source": [
    "**Correction**:\n",
    "\n",
    "1. `A xor B = (A or B) and not (A and B)`\n",
    "\n",
    "| A   | B   | A or B | A and B | not(A and B) | A xor B |\n",
    "| --- | --- | ------ | ------- | ------------ | ------- |\n",
    "| 0   | 0   | 0      | 0       | 1            | 0       |\n",
    "| 0   | 1   | 1      | 0       | 1            | 1       |\n",
    "| 1   | 0   | 1      | 0       | 1            | 1       |\n",
    "| 1   | 1   | 1      | 1       | 0            | 0       |\n",
    "\n",
    "2. Vérifions que `A xor B = (A and not B) or (not A and B)`\n",
    "\n",
    "| A   | B   | A and not B | not A and B | (A and not B) or (not A and B) |\n",
    "| --- | --- | ----------- | ----------- | ------------------------------ |\n",
    "| 0   | 0   | 0           | 0           | 0                              |\n",
    "| 0   | 1   | 0           | 1           | 1                              |\n",
    "| 1   | 0   | 1           | 0           | 1                              |\n",
    "| 1   | 1   | 0           | 0           | 0                              |\n"
   ]
  },
  {
   "attachments": {},
   "cell_type": "markdown",
   "metadata": {},
   "source": [
    "### Exercice n°6\n",
    "\n",
    "Si A et B sont des variables booléennes, quelle est l'expression booléenne équivalente à `(not A) or B` ?\n",
    "\n",
    "1. `(A and B) or (not A and B) or (not A and not B)`\n",
    "2. `(A and B) or (not A and B)`\n",
    "3. `(not A and B) or (not A and not B)`\n",
    "4. `(A and B) or (not A and not B)`\n"
   ]
  },
  {
   "attachments": {},
   "cell_type": "markdown",
   "metadata": {},
   "source": [
    "**Correction**:\n",
    "\n",
    "1\n"
   ]
  },
  {
   "attachments": {},
   "cell_type": "markdown",
   "metadata": {},
   "source": [
    "### Exercice n°7\n",
    "\n",
    "On donne ci-dessous les tables de vérité de différentes expressions booléennes U et V. Retrouver les expressions de U et V en fonction de A et B.\n",
    "\n",
    "1. U\n",
    "\n",
    "| **A** | **B** | **U** |\n",
    "| ----- | ----- | ----- |\n",
    "| 0     | 0     | 0     |\n",
    "| 0     | 1     | 0     |\n",
    "| 1     | 0     | 1     |\n",
    "| 1     | 1     | 0     |\n",
    "\n",
    "2. V\n",
    "\n",
    "| **A** | **B** | **V** |\n",
    "| ----- | ----- | ----- |\n",
    "| 0     | 0     | 1     |\n",
    "| 0     | 1     | 0     |\n",
    "| 1     | 0     | 0     |\n",
    "| 1     | 1     | 0     |\n"
   ]
  },
  {
   "attachments": {},
   "cell_type": "markdown",
   "metadata": {},
   "source": [
    "**Correction**:\n",
    "\n",
    "1. U = A and not B\n",
    "2. V = not A and not B\n"
   ]
  },
  {
   "attachments": {},
   "cell_type": "markdown",
   "metadata": {},
   "source": [
    "### Exercice n°8\n",
    "\n",
    "On donne ci-dessous les tables de vérité de différentes expressions booléennes U, V et W. Retrouver les expressions de U, V et W en fonction de A et B et C.\n",
    "\n",
    "1. U\n",
    "\n",
    "| **A** | **B** | **C** | **U** |\n",
    "| ----- | ----- | ----- | ----- |\n",
    "| 0     | 0     | 0     | 1     |\n",
    "| 0     | 0     | 1     | 0     |\n",
    "| 0     | 1     | 0     | 0     |\n",
    "| 0     | 1     | 1     | 0     |\n",
    "| 1     | 0     | 0     | 0     |\n",
    "| 1     | 0     | 1     | 1     |\n",
    "| 1     | 1     | 0     | 0     |\n",
    "| 1     | 1     | 1     | 1     |\n",
    "\n",
    "2. V\n",
    "\n",
    "| **A** | **B** | **C** | **V** |\n",
    "| ----- | ----- | ----- | ----- |\n",
    "| 0     | 0     | 0     | 0     |\n",
    "| 0     | 0     | 1     | 0     |\n",
    "| 0     | 1     | 0     | 0     |\n",
    "| 0     | 1     | 1     | 0     |\n",
    "| 1     | 0     | 0     | 1     |\n",
    "| 1     | 0     | 1     | 0     |\n",
    "| 1     | 1     | 0     | 0     |\n",
    "| 1     | 1     | 1     | 1     |\n",
    "\n",
    "3. W\n",
    "\n",
    "| **A** | **B** | **C** | **W** |\n",
    "| ----- | ----- | ----- | ----- |\n",
    "| 0     | 0     | 0     | 1     |\n",
    "| 0     | 0     | 1     | 1     |\n",
    "| 0     | 1     | 0     | 0     |\n",
    "| 0     | 1     | 1     | 0     |\n",
    "| 1     | 0     | 0     | 1     |\n",
    "| 1     | 0     | 1     | 1     |\n",
    "| 1     | 1     | 0     | 0     |\n",
    "| 1     | 1     | 1     | 0     |\n"
   ]
  },
  {
   "attachments": {},
   "cell_type": "markdown",
   "metadata": {},
   "source": [
    "**Correction**:\n",
    "\n",
    "1. U = (not A and not B and not C) or (A and not B and C) or (A and B and C)\n",
    "\n",
    "   U = (not A and not B and not C) or (A and C)\n",
    "\n",
    "2. V = (A and not B and not C) or (A and B and C)\n",
    "\n",
    "3. W = (not A and not B and not C) or (not A and not B and C) or (A and not B and not C) or (A and not B and C)\n",
    "\n",
    "   W = not B\n"
   ]
  },
  {
   "attachments": {},
   "cell_type": "markdown",
   "metadata": {},
   "source": [
    "### Exercice n°9\n",
    "\n",
    "Dans l’Égypte ancienne, la protection de la tombe des Pharaons faisait l’objet d’une grande attention. Le sarcophage était porté dans la salle funéraire par des esclaves accompagnés d’un prêtre. Le couloir y conduisant était définitivement condamné après leur passage. Le prêtre quittait ensuite le tombeau par un passage secret. Pour éviter que des pillards puissent emprunter le même passage, celui-ci était fermé par une porte dont l’ouverture dépendait de la réponse à un énigme.\n",
    "\n",
    "Vous faites partie d’une équipe d’archéologues qui explore un tombeau récemment découvert. Après l'effondrement d'une partie des galeries souterraines, vous vous retrouvez dans le passage secret du prêtre. Le papyrus vous ayant permis de découvrir l’emplacement du tombeau vous donne les indications suivantes:\n",
    "\n",
    "> _\"Pour ouvrir la porte du passage secret, il faut suivre les **trois** instructions gravées sur la porte.Attention! Pour piéger les pillards, certaines instruction sont fausses et vous conduiront à une mort certaine:_\n",
    ">\n",
    "> - _soit les instructions de numéro pair sont vraies et les instructions de numéro impair sont fausses,_\n",
    "> - _soit les instructions de numéro impair sont vraies et les instructions de numéro pair sont fausses.\"_\n",
    "\n",
    "1. On note $\\mathbf{A_1}$, $\\mathbf{A_2}$ et $\\mathbf{A_3}$ les trois instructions gravées sur la porte. Retranscrivez les indications du papyrus sous forme d'une expression booléenne exprimée en fonction de $A_1$, $A_2$ et $A_3$.\n",
    "\n",
    "Vous arrivez enfin devant la porte du passage secret. Au pied de celle-ci se trouvent une dalle noire et une dalle blanche. Sur la porte sont gravées les trois instructions suivantes:\n",
    "\n",
    "- $\\mathbf{A_1}$: Pour ouvrir la porte, pose le pied sur la dalle blanche.\n",
    "- $\\mathbf{A_2}$: Pour ouvrir la porte, pose le pied à la fois sur la dalle blanche et sur la dalle noire.\n",
    "- $\\mathbf{A_3}$: Pour ouvrir la porte, ne pose surtout pas le pied sur la dalle noire.\n",
    "\n",
    "2. On définit les variables booléennes suivantes:\n",
    "\n",
    "- $\\mathbf{B}$ = il faut poser le pied sur la dalle blanche, et:\n",
    "- $\\mathbf{N}$ = il faut poser le pied sur la dalle noire.\n",
    "\n",
    "Exprimez les instructions $A_1$, $A_2$ et $A_3$ sous forme de formules booléennes dépendant de $B$ et $N$.\n",
    "\n",
    "3. En utilisant une table de vérité, déterminer l'action à effectuer.\n"
   ]
  },
  {
   "attachments": {},
   "cell_type": "markdown",
   "metadata": {},
   "source": [
    "**Correction**:\n",
    "\n",
    "1. S = ($A_1$ and not $A_2$ and $A_3$) or (not $A_1$ and $A_2$ and not $A_3$)\n",
    "\n",
    "2. $A_1$ = B; $A_2$ = B and N$; $A_3$ = not N\n",
    "\n",
    "3. S:\n",
    "\n",
    "| **B** | **N** | $\\mathbf{A_1}$ | $\\mathbf{A_2}$ | $\\mathbf{A_3}$ | ($A_1$ and not $A_2$ and $A_3$) | (not $A_1$ and $A_2$ and not $A_3$) | **S** |\n",
    "| ----- | ----- | -------------- | -------------- | -------------- | ------------------------------- | ----------------------------------- | ----- |\n",
    "| 0     | 0     | 0              | 0              | 1              | 0                               | 0                                   | 0     |\n",
    "| 0     | 1     | 0              | 0              | 0              | 0                               | 0                                   | 0     |\n",
    "| 1     | 0     | 1              | 0              | 1              | 1                               | 0                                   | 1     |\n",
    "| 1     | 1     | 1              | 1              | 0              | 0                               | 0                                   | 0     |\n",
    "\n",
    "Il faut poser le pied sur la dalle blanche et pas sur la dalle noire.\n"
   ]
  }
 ],
 "metadata": {
  "kernelspec": {
   "display_name": "Python 3",
   "language": "python",
   "name": "python3"
  },
  "language_info": {
   "name": "python",
   "version": "3.11.4"
  },
  "orig_nbformat": 4,
  "vscode": {
   "interpreter": {
    "hash": "aee8b7b246df8f9039afb4144a1f6fd8d2ca17a180786b69acc140d282b71a49"
   }
  }
 },
 "nbformat": 4,
 "nbformat_minor": 2
}
