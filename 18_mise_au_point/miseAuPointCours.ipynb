{
 "cells": [
  {
   "cell_type": "markdown",
   "metadata": {},
   "source": [
    "**Estelle Doriot**\n",
    "\n",
    "_NSI Tale_\n",
    "\n",
    "---\n",
    "\n",
    "# Mise au point de programmes\n",
    "\n",
    "---\n"
   ]
  },
  {
   "cell_type": "markdown",
   "metadata": {},
   "source": [
    "## Anotations de type\n"
   ]
  },
  {
   "cell_type": "code",
   "execution_count": 4,
   "metadata": {},
   "outputs": [
    {
     "ename": "TypeError",
     "evalue": "unsupported operand type(s) for +: 'int' and 'list'",
     "output_type": "error",
     "traceback": [
      "\u001b[0;31m---------------------------------------------------------------------------\u001b[0m",
      "\u001b[0;31mTypeError\u001b[0m                                 Traceback (most recent call last)",
      "Cell \u001b[0;32mIn[4], line 1\u001b[0m\n\u001b[0;32m----> 1\u001b[0m \u001b[38;5;241;43m1\u001b[39;49m\u001b[43m \u001b[49m\u001b[38;5;241;43m+\u001b[39;49m\u001b[43m \u001b[49m\u001b[43m[\u001b[49m\u001b[38;5;241;43m2\u001b[39;49m\u001b[43m,\u001b[49m\u001b[43m \u001b[49m\u001b[38;5;241;43m3\u001b[39;49m\u001b[43m]\u001b[49m\n",
      "\u001b[0;31mTypeError\u001b[0m: unsupported operand type(s) for +: 'int' and 'list'"
     ]
    }
   ],
   "source": [
    "1 + [2, 3]"
   ]
  },
  {
   "cell_type": "code",
   "execution_count": 5,
   "metadata": {},
   "outputs": [
    {
     "name": "stdout",
     "output_type": "stream",
     "text": [
      "bonjour\n"
     ]
    }
   ],
   "source": [
    "def ma_fonction(x: int) -> None:\n",
    "    print(x)\n",
    "\n",
    "\n",
    "ma_fonction(\"bonjour\")"
   ]
  },
  {
   "cell_type": "code",
   "execution_count": 6,
   "metadata": {},
   "outputs": [],
   "source": [
    "def moyenne(lst: list[float]) -> float:\n",
    "    total = 0\n",
    "    for el in lst:\n",
    "        total += el\n",
    "    return total / len(lst)"
   ]
  },
  {
   "cell_type": "code",
   "execution_count": 9,
   "metadata": {},
   "outputs": [
    {
     "name": "stdout",
     "output_type": "stream",
     "text": [
      "NOM: Jean Dupont – ADRESSE: 27, rue Lecourbe 75015 Paris\n",
      "NOM: Marie Durand – ADRESSE: 45, avenue des Champs-Elysées 75008 Paris\n"
     ]
    }
   ],
   "source": [
    "dico_personnes = dict[str, tuple[int, str, int, str]]\n",
    "\n",
    "carnet_adresses: dico_personnes = {\n",
    "    \"Jean Dupont\": (27, \"rue Lecourbe\", 75015, \"Paris\"),\n",
    "    \"Marie Durand\": (45, \"avenue des Champs-Elysées\", 75008, \"Paris\"),\n",
    "}\n",
    "\n",
    "\n",
    "def afficher(adresses: dico_personnes) -> None:\n",
    "    for cle, valeur in adresses.items():\n",
    "        print(f\"NOM: {cle} – ADRESSE: {valeur[0]}, {valeur[1]} {valeur[2]} {valeur[3]}\")\n",
    "\n",
    "\n",
    "afficher(carnet_adresses)"
   ]
  },
  {
   "cell_type": "code",
   "execution_count": 10,
   "metadata": {},
   "outputs": [],
   "source": [
    "from typing import TypeVar\n",
    "\n",
    "K = TypeVar(\"K\")\n",
    "V = TypeVar(\"V\")\n",
    "\n",
    "\n",
    "def find_in_dict(d: dict[K, V], val: K) -> bool:\n",
    "    return val in d.keys()"
   ]
  },
  {
   "cell_type": "markdown",
   "metadata": {},
   "source": [
    "## Exceptions\n"
   ]
  },
  {
   "cell_type": "code",
   "execution_count": 1,
   "metadata": {},
   "outputs": [
    {
     "ename": "ZeroDivisionError",
     "evalue": "division by zero",
     "output_type": "error",
     "traceback": [
      "\u001b[0;31m---------------------------------------------------------------------------\u001b[0m",
      "\u001b[0;31mZeroDivisionError\u001b[0m                         Traceback (most recent call last)",
      "Cell \u001b[0;32mIn[1], line 3\u001b[0m\n\u001b[1;32m      1\u001b[0m numerateur \u001b[38;5;241m=\u001b[39m \u001b[38;5;28mint\u001b[39m(\u001b[38;5;28minput\u001b[39m(\u001b[38;5;124m\"\u001b[39m\u001b[38;5;124mDonnez le numérateur: \u001b[39m\u001b[38;5;124m\"\u001b[39m))\n\u001b[1;32m      2\u001b[0m denominateur \u001b[38;5;241m=\u001b[39m \u001b[38;5;28mint\u001b[39m(\u001b[38;5;28minput\u001b[39m(\u001b[38;5;124m\"\u001b[39m\u001b[38;5;124mDonnez le dénominateur: \u001b[39m\u001b[38;5;124m\"\u001b[39m))\n\u001b[0;32m----> 3\u001b[0m \u001b[38;5;28mprint\u001b[39m(\u001b[43mnumerateur\u001b[49m\u001b[43m \u001b[49m\u001b[38;5;241;43m/\u001b[39;49m\u001b[43m \u001b[49m\u001b[43mdenominateur\u001b[49m)\n",
      "\u001b[0;31mZeroDivisionError\u001b[0m: division by zero"
     ]
    }
   ],
   "source": [
    "numerateur = int(input(\"Donnez le numérateur: \"))\n",
    "denominateur = int(input(\"Donnez le dénominateur: \"))\n",
    "print(numerateur / denominateur)"
   ]
  },
  {
   "cell_type": "code",
   "execution_count": 2,
   "metadata": {},
   "outputs": [
    {
     "name": "stdout",
     "output_type": "stream",
     "text": [
      "Il faut entrer un dénominateur non nul\n"
     ]
    }
   ],
   "source": [
    "try:\n",
    "    numerateur = int(input(\"Donnez le numérateur: \"))\n",
    "    denominateur = int(input(\"Donnez le dénominateur: \"))\n",
    "    print(numerateur / denominateur)\n",
    "except:\n",
    "    print(\"Il faut entrer un dénominateur non nul\")"
   ]
  },
  {
   "cell_type": "code",
   "execution_count": 3,
   "metadata": {},
   "outputs": [
    {
     "name": "stdout",
     "output_type": "stream",
     "text": [
      "Il faut entrer un dénominateur non nul\n"
     ]
    }
   ],
   "source": [
    "try:\n",
    "    numerateur = int(input(\"Donnez le numérateur: \"))\n",
    "    denominateur = int(input(\"Donnez le dénominateur: \"))\n",
    "    print(numerateur / denominateur)\n",
    "except NameError:\n",
    "    print(\"La variable n'a pas été initialisée\")\n",
    "except TypeError:\n",
    "    print(\n",
    "        \"Vous n'avez pas donné un nombre entier pour le numérateur ou le dénominateur\"\n",
    "    )\n",
    "except ZeroDivisionError:\n",
    "    print(\"Il faut entrer un dénominateur non nul\")"
   ]
  }
 ],
 "metadata": {
  "kernelspec": {
   "display_name": "Python 3",
   "language": "python",
   "name": "python3"
  },
  "language_info": {
   "codemirror_mode": {
    "name": "ipython",
    "version": 3
   },
   "file_extension": ".py",
   "mimetype": "text/x-python",
   "name": "python",
   "nbconvert_exporter": "python",
   "pygments_lexer": "ipython3",
   "version": "3.11.6"
  }
 },
 "nbformat": 4,
 "nbformat_minor": 2
}
