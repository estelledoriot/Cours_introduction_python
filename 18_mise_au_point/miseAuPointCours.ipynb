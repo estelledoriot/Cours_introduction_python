{
 "cells": [
  {
   "cell_type": "markdown",
   "metadata": {},
   "source": [
    "**Estelle Doriot**\n",
    "\n",
    "_NSI Tale_\n",
    "\n",
    "---\n",
    "\n",
    "# Mise au point de programmes\n",
    "\n",
    "---\n"
   ]
  },
  {
   "cell_type": "markdown",
   "metadata": {},
   "source": [
    "## Anotations de type\n"
   ]
  },
  {
   "cell_type": "code",
   "execution_count": 4,
   "metadata": {},
   "outputs": [
    {
     "ename": "TypeError",
     "evalue": "unsupported operand type(s) for +: 'int' and 'list'",
     "output_type": "error",
     "traceback": [
      "\u001b[0;31m---------------------------------------------------------------------------\u001b[0m",
      "\u001b[0;31mTypeError\u001b[0m                                 Traceback (most recent call last)",
      "Cell \u001b[0;32mIn[4], line 1\u001b[0m\n\u001b[0;32m----> 1\u001b[0m \u001b[38;5;241;43m1\u001b[39;49m\u001b[43m \u001b[49m\u001b[38;5;241;43m+\u001b[39;49m\u001b[43m \u001b[49m\u001b[43m[\u001b[49m\u001b[38;5;241;43m2\u001b[39;49m\u001b[43m,\u001b[49m\u001b[43m \u001b[49m\u001b[38;5;241;43m3\u001b[39;49m\u001b[43m]\u001b[49m\n",
      "\u001b[0;31mTypeError\u001b[0m: unsupported operand type(s) for +: 'int' and 'list'"
     ]
    }
   ],
   "source": [
    "1 + [2, 3]"
   ]
  },
  {
   "cell_type": "code",
   "execution_count": 5,
   "metadata": {},
   "outputs": [
    {
     "name": "stdout",
     "output_type": "stream",
     "text": [
      "bonjour\n"
     ]
    }
   ],
   "source": [
    "def ma_fonction(x: int) -> None:\n",
    "    print(x)\n",
    "\n",
    "\n",
    "ma_fonction(\"bonjour\")"
   ]
  },
  {
   "cell_type": "code",
   "execution_count": 6,
   "metadata": {},
   "outputs": [],
   "source": [
    "def moyenne(lst: list[float]) -> float:\n",
    "    total = 0\n",
    "    for el in lst:\n",
    "        total += el\n",
    "    return total / len(lst)"
   ]
  },
  {
   "cell_type": "code",
   "execution_count": 9,
   "metadata": {},
   "outputs": [
    {
     "name": "stdout",
     "output_type": "stream",
     "text": [
      "NOM: Jean Dupont – ADRESSE: 27, rue Lecourbe 75015 Paris\n",
      "NOM: Marie Durand – ADRESSE: 45, avenue des Champs-Elysées 75008 Paris\n"
     ]
    }
   ],
   "source": [
    "dico_personnes = dict[str, tuple[int, str, int, str]]\n",
    "\n",
    "carnet_adresses: dico_personnes = {\n",
    "    \"Jean Dupont\": (27, \"rue Lecourbe\", 75015, \"Paris\"),\n",
    "    \"Marie Durand\": (45, \"avenue des Champs-Elysées\", 75008, \"Paris\"),\n",
    "}\n",
    "\n",
    "\n",
    "def afficher(adresses: dico_personnes) -> None:\n",
    "    for cle, valeur in adresses.items():\n",
    "        print(f\"NOM: {cle} – ADRESSE: {valeur[0]}, {valeur[1]} {valeur[2]} {valeur[3]}\")\n",
    "\n",
    "\n",
    "afficher(carnet_adresses)"
   ]
  },
  {
   "cell_type": "code",
   "execution_count": 10,
   "metadata": {},
   "outputs": [],
   "source": [
    "from typing import TypeVar\n",
    "\n",
    "K = TypeVar(\"K\")\n",
    "V = TypeVar(\"V\")\n",
    "\n",
    "\n",
    "def find_in_dict(d: dict[K, V], val: K) -> bool:\n",
    "    return val in d.keys()"
   ]
  },
  {
   "cell_type": "markdown",
   "metadata": {},
   "source": [
    "## Exceptions\n"
   ]
  },
  {
   "cell_type": "code",
   "execution_count": 1,
   "metadata": {},
   "outputs": [
    {
     "ename": "ZeroDivisionError",
     "evalue": "division by zero",
     "output_type": "error",
     "traceback": [
      "\u001b[0;31m---------------------------------------------------------------------------\u001b[0m",
      "\u001b[0;31mZeroDivisionError\u001b[0m                         Traceback (most recent call last)",
      "Cell \u001b[0;32mIn[1], line 3\u001b[0m\n\u001b[1;32m      1\u001b[0m numerateur \u001b[38;5;241m=\u001b[39m \u001b[38;5;28mint\u001b[39m(\u001b[38;5;28minput\u001b[39m(\u001b[38;5;124m\"\u001b[39m\u001b[38;5;124mDonnez le numérateur: \u001b[39m\u001b[38;5;124m\"\u001b[39m))\n\u001b[1;32m      2\u001b[0m denominateur \u001b[38;5;241m=\u001b[39m \u001b[38;5;28mint\u001b[39m(\u001b[38;5;28minput\u001b[39m(\u001b[38;5;124m\"\u001b[39m\u001b[38;5;124mDonnez le dénominateur: \u001b[39m\u001b[38;5;124m\"\u001b[39m))\n\u001b[0;32m----> 3\u001b[0m \u001b[38;5;28mprint\u001b[39m(\u001b[43mnumerateur\u001b[49m\u001b[43m \u001b[49m\u001b[38;5;241;43m/\u001b[39;49m\u001b[43m \u001b[49m\u001b[43mdenominateur\u001b[49m)\n",
      "\u001b[0;31mZeroDivisionError\u001b[0m: division by zero"
     ]
    }
   ],
   "source": [
    "numerateur = int(input(\"Donnez le numérateur: \"))\n",
    "denominateur = int(input(\"Donnez le dénominateur: \"))\n",
    "print(numerateur / denominateur)"
   ]
  },
  {
   "cell_type": "code",
   "execution_count": 2,
   "metadata": {},
   "outputs": [
    {
     "name": "stdout",
     "output_type": "stream",
     "text": [
      "Il faut entrer un dénominateur non nul\n"
     ]
    }
   ],
   "source": [
    "try:\n",
    "    numerateur = int(input(\"Donnez le numérateur: \"))\n",
    "    denominateur = int(input(\"Donnez le dénominateur: \"))\n",
    "    print(numerateur / denominateur)\n",
    "except:\n",
    "    print(\"Il faut entrer un dénominateur non nul\")"
   ]
  },
  {
   "cell_type": "code",
   "execution_count": 3,
   "metadata": {},
   "outputs": [
    {
     "name": "stdout",
     "output_type": "stream",
     "text": [
      "Il faut entrer un dénominateur non nul\n"
     ]
    }
   ],
   "source": [
    "while True:\n",
    "    try:\n",
    "        numerateur = int(input(\"Donnez le numérateur: \"))\n",
    "        denominateur = int(input(\"Donnez le dénominateur: \"))\n",
    "        print(numerateur / denominateur)\n",
    "        break\n",
    "    except TypeError:\n",
    "        print(\n",
    "            \"Vous n'avez pas donné un nombre entier pour le numérateur ou le dénominateur\"\n",
    "        )\n",
    "    except ZeroDivisionError:\n",
    "        print(\"Il faut entrer un dénominateur non nul\")"
   ]
  },
  {
   "cell_type": "code",
   "execution_count": 1,
   "metadata": {},
   "outputs": [
    {
     "name": "stdout",
     "output_type": "stream",
     "text": [
      "Le fichier alice.txt contient environ 29504 mots.\n",
      "Le fichier voyage-centre-terre.txt contient environ 70103 mots.\n",
      "Désolé, le fichier notre-dame.txt n'existe pas.\n",
      "Le fichier trois-mousquetaires.txt contient environ 228440 mots.\n"
     ]
    }
   ],
   "source": [
    "def count_words(filename: str) -> None:\n",
    "    try:\n",
    "        with open(filename, \"r\", encoding=\"utf-8\") as fichier:\n",
    "            contents = fichier.read()\n",
    "    except FileNotFoundError:\n",
    "        print(f\"Désolé, le fichier {filename} n'existe pas.\")\n",
    "    else:\n",
    "        words = contents.split()\n",
    "        num_words = len(words)\n",
    "        print(f\"Le fichier {filename} contient environ {num_words} mots.\")\n",
    "\n",
    "\n",
    "filenames = [\n",
    "    \"alice.txt\",\n",
    "    \"voyage-centre-terre.txt\",\n",
    "    \"notre-dame.txt\",\n",
    "    \"trois-mousquetaires.txt\",\n",
    "]\n",
    "\n",
    "for filename in filenames:\n",
    "    count_words(filename)"
   ]
  },
  {
   "cell_type": "code",
   "execution_count": 2,
   "metadata": {},
   "outputs": [
    {
     "ename": "TypeError",
     "evalue": "Les coefficients doivent être de type int ou float",
     "output_type": "error",
     "traceback": [
      "\u001b[0;31m---------------------------------------------------------------------------\u001b[0m",
      "\u001b[0;31mTypeError\u001b[0m                                 Traceback (most recent call last)",
      "Cell \u001b[0;32mIn[2], line 17\u001b[0m\n\u001b[1;32m     13\u001b[0m             \u001b[38;5;28;01mraise\u001b[39;00m \u001b[38;5;167;01mValueError\u001b[39;00m(\u001b[38;5;124m\"\u001b[39m\u001b[38;5;124mLe premier coefficient doit être non nul\u001b[39m\u001b[38;5;124m\"\u001b[39m)\n\u001b[1;32m     14\u001b[0m         \u001b[38;5;28mself\u001b[39m\u001b[38;5;241m.\u001b[39ma, \u001b[38;5;28mself\u001b[39m\u001b[38;5;241m.\u001b[39mb, \u001b[38;5;28mself\u001b[39m\u001b[38;5;241m.\u001b[39mc \u001b[38;5;241m=\u001b[39m a, b, c\n\u001b[0;32m---> 17\u001b[0m \u001b[43mPolynome\u001b[49m\u001b[43m(\u001b[49m\u001b[43m(\u001b[49m\u001b[38;5;241;43m2\u001b[39;49m\u001b[43m,\u001b[49m\u001b[43m \u001b[49m\u001b[38;5;241;43m4\u001b[39;49m\u001b[43m,\u001b[49m\u001b[43m \u001b[49m\u001b[38;5;124;43m\"\u001b[39;49m\u001b[38;5;124;43mtoto\u001b[39;49m\u001b[38;5;124;43m\"\u001b[39;49m\u001b[43m)\u001b[49m\u001b[43m)\u001b[49m\n",
      "Cell \u001b[0;32mIn[2], line 11\u001b[0m, in \u001b[0;36mPolynome.__init__\u001b[0;34m(self, t)\u001b[0m\n\u001b[1;32m      5\u001b[0m a, b, c \u001b[38;5;241m=\u001b[39m t\n\u001b[1;32m      6\u001b[0m \u001b[38;5;28;01mif\u001b[39;00m (\n\u001b[1;32m      7\u001b[0m     \u001b[38;5;129;01mnot\u001b[39;00m (\u001b[38;5;28misinstance\u001b[39m(a, (\u001b[38;5;28mint\u001b[39m, \u001b[38;5;28mfloat\u001b[39m)))\n\u001b[1;32m      8\u001b[0m     \u001b[38;5;129;01mor\u001b[39;00m \u001b[38;5;129;01mnot\u001b[39;00m (\u001b[38;5;28misinstance\u001b[39m(b, (\u001b[38;5;28mint\u001b[39m, \u001b[38;5;28mfloat\u001b[39m)))\n\u001b[1;32m      9\u001b[0m     \u001b[38;5;129;01mor\u001b[39;00m \u001b[38;5;129;01mnot\u001b[39;00m (\u001b[38;5;28misinstance\u001b[39m(c, (\u001b[38;5;28mint\u001b[39m, \u001b[38;5;28mfloat\u001b[39m)))\n\u001b[1;32m     10\u001b[0m ):\n\u001b[0;32m---> 11\u001b[0m     \u001b[38;5;28;01mraise\u001b[39;00m \u001b[38;5;167;01mTypeError\u001b[39;00m(\u001b[38;5;124m\"\u001b[39m\u001b[38;5;124mLes coefficients doivent être de type int ou float\u001b[39m\u001b[38;5;124m\"\u001b[39m)\n\u001b[1;32m     12\u001b[0m \u001b[38;5;28;01mif\u001b[39;00m a \u001b[38;5;241m==\u001b[39m \u001b[38;5;241m0\u001b[39m:\n\u001b[1;32m     13\u001b[0m     \u001b[38;5;28;01mraise\u001b[39;00m \u001b[38;5;167;01mValueError\u001b[39;00m(\u001b[38;5;124m\"\u001b[39m\u001b[38;5;124mLe premier coefficient doit être non nul\u001b[39m\u001b[38;5;124m\"\u001b[39m)\n",
      "\u001b[0;31mTypeError\u001b[0m: Les coefficients doivent être de type int ou float"
     ]
    }
   ],
   "source": [
    "class Polynome:\n",
    "    def __init__(self, t):\n",
    "        if len(t) > 3:\n",
    "            raise ValueError(f\"Vous avez donné {len(t)} éléments au lieu de 3\")\n",
    "        a, b, c = t\n",
    "        if (\n",
    "            not (isinstance(a, (int, float)))\n",
    "            or not (isinstance(b, (int, float)))\n",
    "            or not (isinstance(c, (int, float)))\n",
    "        ):\n",
    "            raise TypeError(\"Les coefficients doivent être de type int ou float\")\n",
    "        if a == 0:\n",
    "            raise ValueError(\"Le premier coefficient doit être non nul\")\n",
    "        self.a, self.b, self.c = a, b, c\n",
    "\n",
    "\n",
    "Polynome((2, 4, \"toto\"))"
   ]
  },
  {
   "cell_type": "code",
   "execution_count": null,
   "metadata": {},
   "outputs": [],
   "source": [
    "class NoDigitError(Exception):\n",
    "    pass\n",
    "\n",
    "\n",
    "class NoLetterError(Exception):\n",
    "    pass\n",
    "\n",
    "\n",
    "class TooShortError(Exception):\n",
    "    pass\n",
    "\n",
    "\n",
    "class Account:\n",
    "    def __init__(self, id, password):\n",
    "        if not any(letter.is_digit() for letter in password):\n",
    "            raise NoDigitError(\"Il faut au moins un chiffre dans le mot de passe\")\n",
    "        if not any(letter.is_alpha() for letter in password):\n",
    "            raise NoLetterError(\"Il faut au moins une lettre dans le mot de passe\")\n",
    "        if len(password) < 8:\n",
    "            raise TooShortError(\"Le mot de passe doit contenir au moins 8 caractères\")\n",
    "        self.id = id\n",
    "        self.password = password"
   ]
  }
 ],
 "metadata": {
  "kernelspec": {
   "display_name": "Python 3",
   "language": "python",
   "name": "python3"
  },
  "language_info": {
   "codemirror_mode": {
    "name": "ipython",
    "version": 3
   },
   "file_extension": ".py",
   "mimetype": "text/x-python",
   "name": "python",
   "nbconvert_exporter": "python",
   "pygments_lexer": "ipython3",
   "version": "3.11.6"
  }
 },
 "nbformat": 4,
 "nbformat_minor": 2
}
