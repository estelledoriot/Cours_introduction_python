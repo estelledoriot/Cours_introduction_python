{
 "cells": [
  {
   "cell_type": "markdown",
   "metadata": {},
   "source": [
    "**Estelle Doriot**\n",
    "\n",
    "_NSI 1ère_\n",
    "\n",
    "---\n",
    "# TD : Diviseurs\n",
    "---\n",
    "\n",
    "### Exercice n°1\n",
    "\n",
    "Soient $a$ et $b$ deux entiers naturels. On dit que $b$ est un diviseur de $a$ si $a = b \\times d$ où $d$ est un entier naturel. \n",
    "\n",
    "1. Quels sont les diviseurs de $23494$?\n"
   ]
  },
  {
   "cell_type": "code",
   "execution_count": 1,
   "metadata": {},
   "outputs": [
    {
     "name": "stdout",
     "output_type": "stream",
     "text": [
      "Les diviseurs de 23494 sont :\n",
      "1\n",
      "2\n",
      "17\n",
      "34\n",
      "691\n",
      "1382\n",
      "11747\n",
      "23494\n"
     ]
    }
   ],
   "source": [
    "def diviseurs(n: int) -> None:\n",
    "    for i in range(1, n+1): # on parcourt tous les entiers de 1 a n pour trouver les diviseurs de n\n",
    "        if n % i == 0: # si i divise n\n",
    "            print(i) # alors on affiche i\n",
    "\n",
    "print(\"Les diviseurs de 23494 sont :\")\n",
    "diviseurs(23494)"
   ]
  },
  {
   "cell_type": "markdown",
   "metadata": {},
   "source": [
    "2. Combien de diviseurs admet le nombre $12^6$ ? (en python $12^6$ s’écrit `12**6`)\n"
   ]
  },
  {
   "cell_type": "code",
   "execution_count": 2,
   "metadata": {},
   "outputs": [
    {
     "name": "stdout",
     "output_type": "stream",
     "text": [
      "12**6 a 91 diviseurs\n"
     ]
    }
   ],
   "source": [
    "def nb_diviseurs(n: int) -> int:\n",
    "    a = 0 # on definit un compteur a\n",
    "    for i in range(1, n+1):\n",
    "        if n % i == 0: # si i divise n\n",
    "            a += 1 # on incremente le compteur\n",
    "    return a\n",
    "\n",
    "print(f\"12**6 a {nb_diviseurs(12**6)} diviseurs\")"
   ]
  },
  {
   "cell_type": "markdown",
   "metadata": {},
   "source": [
    "3. Parmi tous les nombres de 1 à 1000, quel est celui qui compte le plus de diviseurs?"
   ]
  },
  {
   "cell_type": "code",
   "execution_count": 3,
   "metadata": {},
   "outputs": [
    {
     "name": "stdout",
     "output_type": "stream",
     "text": [
      "Le nombre entre 1 et 1000 qui a le plus de diviseurs est: 840\n"
     ]
    }
   ],
   "source": [
    "a = 1 # nombre qui a le plus grand nombre de diviseurs\n",
    "b = 1 # plus grand nombre de diviseurs\n",
    "for i in range(1, 1001):\n",
    "    if nb_diviseurs(i) > b: # si le nombre de diviseurs de i est plus grand que b\n",
    "        b = nb_diviseurs(i) # on remplace b par le nombre de diviseurs de i\n",
    "        a = i # on remplace a par i\n",
    "\n",
    "print(f\"Le nombre entre 1 et 1000 qui a le plus de diviseurs est: {a}\")"
   ]
  },
  {
   "cell_type": "markdown",
   "metadata": {},
   "source": [
    "### Exercice n°2\n",
    "\n",
    "On note $\\sigma(n)$ (lire « sigma de n ») la somme des diviseurs d’un entier $n$. \n",
    "\n",
    "1. Vérifier que $\\sigma(2020) = 4284$.\n"
   ]
  },
  {
   "cell_type": "code",
   "execution_count": 10,
   "metadata": {},
   "outputs": [
    {
     "name": "stdout",
     "output_type": "stream",
     "text": [
      "La somme des diviseurs de 2020 est: 4284\n"
     ]
    }
   ],
   "source": [
    "def somme_diviseurs(n: int) -> int:\n",
    "    somme = 0 # somme va contenir la somme des diviseurs\n",
    "    for i in range(1, n + 1):\n",
    "        if n % i == 0: # si i est un diviseur de n\n",
    "            somme += i # on ajoute i a la somme des diviseurs\n",
    "    return somme\n",
    "\n",
    "print(f\"La somme des diviseurs de 2020 est: {somme_diviseurs(2020)}\")"
   ]
  },
  {
   "cell_type": "markdown",
   "metadata": {},
   "source": [
    "2. Parmi les nombres entiers inférieurs à 1000, quel est celui dont la somme des diviseurs est la plus grande?"
   ]
  },
  {
   "cell_type": "code",
   "execution_count": 11,
   "metadata": {},
   "outputs": [
    {
     "name": "stdout",
     "output_type": "stream",
     "text": [
      "Le nombre entre 1 et 1000 dont la somme des diviseurs est la plus grande est: 960\n"
     ]
    }
   ],
   "source": [
    "nb = 1 # contient la plus grande somme de diviseurs\n",
    "maxi = 1 # contient le nombre qui a la plus grande somme de diviseurs\n",
    "for i in range(1, 1001):\n",
    "    r = somme_diviseurs(i)\n",
    "    if r > nb: # si la somme des diviseurs de i est plus grande que nb\n",
    "        nb = r # on remplace nb par la somme des diviseurs de i\n",
    "        maxi = i # on remplace maxi par i\n",
    "\n",
    "print(f\"Le nombre entre 1 et 1000 dont la somme des diviseurs est la plus grande est: {maxi}\")"
   ]
  },
  {
   "cell_type": "markdown",
   "metadata": {},
   "source": [
    "### Exercice n°3\n",
    "\n",
    "Un nombre est dit parfait lorsqu’il est égal à la somme de ses diviseurs excepté lui-même. Par exemple, 6 est parfait car ses diviseurs sont 1, 2, 3 et 6, et $1+2+3=6$.\n",
    "\n",
    "1. Vérifierque 28 est un nombre parfait.\n"
   ]
  },
  {
   "cell_type": "code",
   "execution_count": 12,
   "metadata": {},
   "outputs": [
    {
     "name": "stdout",
     "output_type": "stream",
     "text": [
      "Le nombre 28 est parfait\n"
     ]
    }
   ],
   "source": [
    "def parfait(n: int) -> bool:\n",
    "    return somme_diviseurs(n) == 2 * n\n",
    "\n",
    "if parfait(28):\n",
    "    print(\"Le nombre 28 est parfait\")\n",
    "else:\n",
    "    print(\"Le nombre 28 n'est pas parfait\")"
   ]
  },
  {
   "cell_type": "markdown",
   "metadata": {},
   "source": [
    "2. Déterminer tous les nombres parfaits inférieurs à 10000."
   ]
  },
  {
   "cell_type": "code",
   "execution_count": 13,
   "metadata": {},
   "outputs": [
    {
     "name": "stdout",
     "output_type": "stream",
     "text": [
      "Les nombres parfaits entre 1 et 10000 sont:\n",
      "6\n",
      "28\n",
      "496\n",
      "8128\n"
     ]
    }
   ],
   "source": [
    "print(\"Les nombres parfaits entre 1 et 10000 sont:\")\n",
    "for i in range(1, 10001):\n",
    "    if parfait(i):\n",
    "        print(i)"
   ]
  },
  {
   "cell_type": "markdown",
   "metadata": {},
   "source": [
    "### Exercice n°4\n",
    "\n",
    "Un nombre est dit premier s’il n’admet que deux diviseurs (à savoir 1 et lui-même).\n",
    "\n",
    "1. Pierre de Fermat(1601–1655) a conjecturé que tous les nombres de la forme $2^{2^n} + 1$ étaient premiers.\n",
    "   \n",
    "    a. Vérifier que $2^{2^3} + 1$ est un nombre premier."
   ]
  },
  {
   "cell_type": "code",
   "execution_count": 6,
   "metadata": {},
   "outputs": [
    {
     "name": "stdout",
     "output_type": "stream",
     "text": [
      "2**(2**3)+1 est premier\n"
     ]
    }
   ],
   "source": [
    "from math import floor, sqrt\n",
    "\n",
    "def est_premier(n: int) -> bool:\n",
    "    if n == 1:\n",
    "        return False # 1 n'est pas premier\n",
    "    for i in range(2, floor(sqrt(n))+1):\n",
    "        if n % i == 0: # si n admet un diviseur autre que 1 et lui-même il n'est pas premier\n",
    "            return False\n",
    "    return True # sinon il est premier\n",
    "\n",
    "if est_premier(2**(2**3)+1):\n",
    "    print(\"2**(2**3)+1 est premier\")\n",
    "else:\n",
    "    print(\"2**(2**3)+1 n'est pas premier\")"
   ]
  },
  {
   "cell_type": "markdown",
   "metadata": {},
   "source": [
    "\n",
    "b. Montrer que la conjecture de Fermat est fausse.\n"
   ]
  },
  {
   "cell_type": "code",
   "execution_count": 7,
   "metadata": {},
   "outputs": [
    {
     "name": "stdout",
     "output_type": "stream",
     "text": [
      "Le premier nombre de Fermat qui n'est pas premier est: F(5)\n"
     ]
    }
   ],
   "source": [
    "def test_Fermat() -> int:\n",
    "    n = 0\n",
    "    while est_premier(2**(2**n)+1): # tant que le nombre de Fermat est premier\n",
    "        n += 1 # on calcule le nombre de Fermat suivant\n",
    "    return n\n",
    "\n",
    "print(f\"Le premier nombre de Fermat qui n'est pas premier est: F({test_Fermat()})\")"
   ]
  },
  {
   "cell_type": "markdown",
   "metadata": {},
   "source": [
    "2. Les nombres de Mersenne (1588–1648) sont de la forme $2^p − 1$ où $p$ est un nombre premier. Est-il vrai que tous les nombres de Mersenne sont premiers ?\n"
   ]
  },
  {
   "cell_type": "code",
   "execution_count": 8,
   "metadata": {},
   "outputs": [
    {
     "name": "stdout",
     "output_type": "stream",
     "text": [
      "Le premier nombre de Mersenne qui n'est pas premier est le n°11\n"
     ]
    }
   ],
   "source": [
    "def test_Mersenne() -> int:\n",
    "    n = 2\n",
    "    while not est_premier(n) or est_premier(2**n-1):\n",
    "        n += 1\n",
    "    return n\n",
    "\n",
    "print(f\"Le premier nombre de Mersenne qui n'est pas premier est le n°{test_Mersenne()}\")"
   ]
  },
  {
   "cell_type": "markdown",
   "metadata": {},
   "source": [
    "\n",
    "\n",
    "3. Combien y a-t-il de nombres premiers inférieurs à 1000?"
   ]
  },
  {
   "cell_type": "code",
   "execution_count": 9,
   "metadata": {},
   "outputs": [
    {
     "name": "stdout",
     "output_type": "stream",
     "text": [
      "Il y a 168 nmobres premiers inférieurs à 1000.\n"
     ]
    }
   ],
   "source": [
    "def nb_premiers(n: int) -> int:\n",
    "    nb = 0 # nb est un compteur qui compte le nombre de nombres premiers\n",
    "    i = 2\n",
    "    while i <= n: # tant que i est plus petit que n\n",
    "        if est_premier(i): # si i est premier\n",
    "            nb += 1 # on incremente le compteur\n",
    "        i += 1\n",
    "    return nb\n",
    "\n",
    "print(f\"Il y a {nb_premiers(1000)} nmobres premiers inférieurs à 1000.\")"
   ]
  },
  {
   "cell_type": "markdown",
   "metadata": {},
   "source": [
    "### Exercice n°5\n",
    "\n",
    "Les suites de Syracuse sont définies à partir d’un terme initial $N$ , qui est un entier naturel non nul.\n",
    "\n",
    "On applique alors le procédé suivant au nombre N :\n",
    "- s’il est pair, on le divise par 2;\n",
    "- s’il est impair, on le multiplie par 3 et on ajoute 1.\n",
    "\n",
    "Puis on répète l’opération pour obtenir une suite d’entiers.\n",
    "\n",
    "Par exemple, à partir de $N = 10$, on obtient la suite de nombres: $10,5,16,8,4,2,1,4,2,1,4,2,1$,etc.\n",
    "\n",
    "Sur la base de données empiriques (des observations dans un grand nombre de cas), on suppose que pour tout terme initial $N$, la suite finit par boucler sur la séquence $4, 2, 1$, et l’on décide d’arrêter lorsque l’on parvient au nombre 1.\n",
    "\n",
    "1. On désigne par « temps de vol » le nombre d’étapes aboutissant au nombre 1. Pour N = 10, il est égal à 6. \n",
    "\n",
    "    a) Vérifier que le temps de vol pour N = 2020 est égal à 63.\n"
   ]
  },
  {
   "cell_type": "code",
   "execution_count": 14,
   "metadata": {},
   "outputs": [
    {
     "name": "stdout",
     "output_type": "stream",
     "text": [
      "Le temps de vol de 2020 est égal à 63\n"
     ]
    }
   ],
   "source": [
    "def syracuse(n: int) -> int:\n",
    "    a = n\n",
    "    i = 0\n",
    "    while  a != 1:\n",
    "        if a % 2 == 0:\n",
    "            a = a // 2\n",
    "        else:\n",
    "            a = a * 3 + 1\n",
    "        i += 1\n",
    "    return i\n",
    "\n",
    "print(f\"Le temps de vol de 2020 est égal à {syracuse(2020)}\")"
   ]
  },
  {
   "cell_type": "markdown",
   "metadata": {},
   "source": [
    "b) Parmi tous les nombres entiers inférieurs à 1000, quel est celui dont le temps de vol est le plus long?\n"
   ]
  },
  {
   "cell_type": "code",
   "execution_count": 15,
   "metadata": {},
   "outputs": [
    {
     "name": "stdout",
     "output_type": "stream",
     "text": [
      "Parmi les nombres entre 1 et 1000, celui qui a le temps de vol le plus long est: 871\n"
     ]
    }
   ],
   "source": [
    "a = 1\n",
    "t = 0\n",
    "for i in range(1, 1001):\n",
    "    r = syracuse(i)\n",
    "    if r > t:\n",
    "        t = r\n",
    "        a = i\n",
    "\n",
    "print(f\"Parmi les nombres entre 1 et 1000, celui qui a le temps de vol le plus long est: {a}\")"
   ]
  },
  {
   "cell_type": "markdown",
   "metadata": {},
   "source": [
    "2. L’altitude maximale d’une suite de Syracue est le plus grand nombre atteint. Il vaut 16 pour N = 10.\n",
    "\n",
    "    a) Vérifier que l’altitude maximale pour N = 255 est égale à 13 120.\n"
   ]
  },
  {
   "cell_type": "code",
   "execution_count": 16,
   "metadata": {},
   "outputs": [
    {
     "name": "stdout",
     "output_type": "stream",
     "text": [
      "L'altitude maximale de 255 est: 13120\n"
     ]
    }
   ],
   "source": [
    "def altitude(n: int) -> int:\n",
    "    a = n\n",
    "    i = n\n",
    "    while a != 1:\n",
    "        if a % 2 == 0:\n",
    "            a = a // 2\n",
    "        else:\n",
    "            a = a * 3 + 1\n",
    "        if a > i:\n",
    "            i = a\n",
    "    return i\n",
    "\n",
    "print(f\"L'altitude maximale de 255 est: {altitude(255)}\")"
   ]
  },
  {
   "cell_type": "markdown",
   "metadata": {},
   "source": [
    "\n",
    "b) Parmi tous les entiers inférieurs à 1000, quel est celui dont l’altitude maximale est la plus grande?"
   ]
  },
  {
   "cell_type": "code",
   "execution_count": 17,
   "metadata": {},
   "outputs": [
    {
     "name": "stdout",
     "output_type": "stream",
     "text": [
      "Parmi les nombres entre 1 et 1000, celui a l'altitude la plus grande est 703\n"
     ]
    }
   ],
   "source": [
    "a = 0\n",
    "j = 1\n",
    "for i in range(1, 1001):\n",
    "    r = altitude(i)\n",
    "    if r > a:\n",
    "        a = r\n",
    "        j = i\n",
    "\n",
    "print(f\"Parmi les nombres entre 1 et 1000, celui a l'altitude la plus grande est {j}\")"
   ]
  },
  {
   "cell_type": "markdown",
   "metadata": {},
   "source": [
    "### Exercice n°6\n",
    "\n",
    "La suite de Fibonacci est la suite logique dont les premiers termes sont : $1 ; 1 ; 2 ; 3 ; 5 ; 8 ; 13 ; 21 ; 34$ ; etc.\n",
    "Chaque terme est calculé en faisant la somme des deux précédents. On numérote $F_1 =1$, $F_2 =1$, $F_3 =2$, $F_4 =3$, etc. les termes de la suite de Fibonacci.\n",
    "\n",
    "1. Vérifier que $F_{12} = 144$.\n"
   ]
  },
  {
   "cell_type": "code",
   "execution_count": 18,
   "metadata": {},
   "outputs": [
    {
     "name": "stdout",
     "output_type": "stream",
     "text": [
      "F12 = 144\n"
     ]
    }
   ],
   "source": [
    "def fibo(n: int) -> int:\n",
    "    a = 1\n",
    "    b = 1\n",
    "    for i in range(n - 1):\n",
    "        a, b = b, a + b\n",
    "    return a\n",
    "\n",
    "print(f\"F12 = {fibo(12)}\")"
   ]
  },
  {
   "cell_type": "markdown",
   "metadata": {},
   "source": [
    "2. De combien de chiffres est composé $F_{100}$?\n"
   ]
  },
  {
   "cell_type": "code",
   "execution_count": 19,
   "metadata": {},
   "outputs": [
    {
     "name": "stdout",
     "output_type": "stream",
     "text": [
      "F100 est composé de 21 chiffres\n"
     ]
    }
   ],
   "source": [
    "def nb_chiffres(n: int) -> int:\n",
    "    a = n\n",
    "    i = 0\n",
    "    while a >= 1:\n",
    "        a /= 10\n",
    "        i += 1\n",
    "    return i\n",
    "\n",
    "print(f\"F100 est composé de {nb_chiffres(fibo(100))} chiffres\")"
   ]
  },
  {
   "cell_type": "markdown",
   "metadata": {},
   "source": [
    "\n",
    "3. Parmi les 100 premiers termes de la suite de Fibonacci, lesquels sont premiers?"
   ]
  },
  {
   "cell_type": "code",
   "execution_count": 20,
   "metadata": {},
   "outputs": [
    {
     "name": "stdout",
     "output_type": "stream",
     "text": [
      "Les nombres de Fibonacci (inférieurs à 100) premiers sont:\n",
      "F_2 = 2\n",
      "F_3 = 3\n",
      "F_4 = 5\n",
      "F_6 = 13\n",
      "F_10 = 89\n",
      "F_12 = 233\n",
      "F_16 = 1597\n",
      "F_22 = 28657\n",
      "F_28 = 514229\n",
      "F_42 = 433494437\n",
      "F_46 = 2971215073\n",
      "F_82 = 99194853094755497\n"
     ]
    }
   ],
   "source": [
    "print(\"Les nombres de Fibonacci (inférieurs à 100) premiers sont:\")\n",
    "a = 1\n",
    "b = 1\n",
    "for i in range(1, 100):\n",
    "    a, b = b, a + b\n",
    "    if est_premier(a):\n",
    "        print(f\"F_{i} = {a}\")"
   ]
  },
  {
   "cell_type": "markdown",
   "metadata": {},
   "source": [
    "4. On définit la suite des quotients de la suite de Fibonacci par $Q_1 = \\frac{F_2}{F_1} = 1$, $Q_2 = \\frac{F_3}{F_2} = 2$, $Q_3 = \\frac{F_4}{F_3} = 1,5$, $Q_4 = \\frac{F_5}{F_4}$ etc. \n",
    "\n",
    "    a) Calculer $Q_{10}$, $Q_{20}$ et $Q_{30}$. \n",
    "    \n",
    "    b) Que remarque-t-on?"
   ]
  },
  {
   "cell_type": "code",
   "execution_count": 21,
   "metadata": {},
   "outputs": [
    {
     "name": "stdout",
     "output_type": "stream",
     "text": [
      "La suite converge vers: 1.618033988749895\n"
     ]
    }
   ],
   "source": [
    "def quotient(n: int) -> float:\n",
    "    a = 1\n",
    "    b = 1\n",
    "    q = 1\n",
    "    for i in range(n - 1):\n",
    "        a, b = b, a + b\n",
    "        q = b / a\n",
    "    return q\n",
    "\n",
    "print(f\"La suite converge vers: {quotient(1000)}\")"
   ]
  }
 ],
 "metadata": {
  "interpreter": {
   "hash": "aee8b7b246df8f9039afb4144a1f6fd8d2ca17a180786b69acc140d282b71a49"
  },
  "kernelspec": {
   "display_name": "Python 3.10.0 64-bit",
   "language": "python",
   "name": "python3"
  },
  "language_info": {
   "codemirror_mode": {
    "name": "ipython",
    "version": 3
   },
   "file_extension": ".py",
   "mimetype": "text/x-python",
   "name": "python",
   "nbconvert_exporter": "python",
   "pygments_lexer": "ipython3",
   "version": "3.10.0 (v3.10.0:b494f5935c, Oct  4 2021, 14:59:19) [Clang 12.0.5 (clang-1205.0.22.11)]"
  },
  "orig_nbformat": 4
 },
 "nbformat": 4,
 "nbformat_minor": 2
}
