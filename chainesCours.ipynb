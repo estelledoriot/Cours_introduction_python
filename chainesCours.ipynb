{
 "cells": [
  {
   "cell_type": "markdown",
   "metadata": {},
   "source": [
    "**Estelle Doriot**\n",
    "\n",
    "_NSI 1ère_\n",
    "\n",
    "---\n",
    "# Cours : Chaînes de caractères\n",
    "---\n",
    "\n",
    "## Les chaînes de caractères"
   ]
  },
  {
   "cell_type": "code",
   "execution_count": 1,
   "metadata": {},
   "outputs": [
    {
     "ename": "SyntaxError",
     "evalue": "unterminated string literal (detected at line 1) (4091806764.py, line 1)",
     "output_type": "error",
     "traceback": [
      "\u001b[0;36m  Input \u001b[0;32mIn [1]\u001b[0;36m\u001b[0m\n\u001b[0;31m    a = 'J'aime Python.'\u001b[0m\n\u001b[0m                       ^\u001b[0m\n\u001b[0;31mSyntaxError\u001b[0m\u001b[0;31m:\u001b[0m unterminated string literal (detected at line 1)\n"
     ]
    }
   ],
   "source": [
    "a = 'J'aime Python.'"
   ]
  },
  {
   "cell_type": "code",
   "execution_count": 2,
   "metadata": {},
   "outputs": [],
   "source": [
    "m1 = 'il a dit: \"bonjour\"'\n",
    "m2 = \"il a dit: \\\"bonjour\\\"\"\n",
    "m3 = \"Les sanglots longs\\nDes violons\\nDe l'automne\\nBlessent mon coeur\\nD'une langueur\\nMonotone.\""
   ]
  },
  {
   "cell_type": "code",
   "execution_count": 3,
   "metadata": {},
   "outputs": [],
   "source": [
    "texte = \"\"\"Les sanglots longs\n",
    "Des violons\n",
    "De l'automne\n",
    "Blessent mon coeur\n",
    "D'une langueur\n",
    "Monotone.\"\"\""
   ]
  },
  {
   "cell_type": "markdown",
   "metadata": {},
   "source": [
    "## Opérations sur les chaînes de caractères"
   ]
  },
  {
   "cell_type": "code",
   "execution_count": 4,
   "metadata": {},
   "outputs": [
    {
     "name": "stdout",
     "output_type": "stream",
     "text": [
      "True\n",
      "7\n",
      "j\n",
      "jo\n",
      "bonjour Marie\n",
      "bonjourbonjourbonjour\n"
     ]
    }
   ],
   "source": [
    "a = \"bonjour\"\n",
    "print(\"b\" in a)\n",
    "print(len(a))\n",
    "print(a[3])\n",
    "print(a[3:5])\n",
    "print(\"bonjour\" + \" \" + \"Marie\")\n",
    "print(\"bonjour\" * 3)"
   ]
  },
  {
   "cell_type": "code",
   "execution_count": 5,
   "metadata": {},
   "outputs": [],
   "source": [
    "age = 16\n",
    "message = \"Voici mon age: \" + str(age)"
   ]
  },
  {
   "cell_type": "code",
   "execution_count": 6,
   "metadata": {},
   "outputs": [
    {
     "ename": "TypeError",
     "evalue": "'str' object does not support item assignment",
     "output_type": "error",
     "traceback": [
      "\u001b[0;31m---------------------------------------------------------------------------\u001b[0m",
      "\u001b[0;31mTypeError\u001b[0m                                 Traceback (most recent call last)",
      "\u001b[1;32m/Users/estelledoriot/Mon Drive/Workspace/Python/Cours_python/chainesCours.ipynb Cellule 8\u001b[0m in \u001b[0;36m<cell line: 2>\u001b[0;34m()\u001b[0m\n\u001b[1;32m      <a href='vscode-notebook-cell:/Users/estelledoriot/Mon%20Drive/Workspace/Python/Cours_python/chainesCours.ipynb#ch0000007?line=0'>1</a>\u001b[0m a \u001b[39m=\u001b[39m \u001b[39m\"\u001b[39m\u001b[39mbonjour\u001b[39m\u001b[39m\"\u001b[39m\n\u001b[0;32m----> <a href='vscode-notebook-cell:/Users/estelledoriot/Mon%20Drive/Workspace/Python/Cours_python/chainesCours.ipynb#ch0000007?line=1'>2</a>\u001b[0m a[\u001b[39m0\u001b[39m] \u001b[39m=\u001b[39m \u001b[39m\"\u001b[39m\u001b[39mB\u001b[39m\u001b[39m\"\u001b[39m\n",
      "\u001b[0;31mTypeError\u001b[0m: 'str' object does not support item assignment"
     ]
    }
   ],
   "source": [
    "a = \"bonjour\"\n",
    "a[0] = \"B\""
   ]
  },
  {
   "cell_type": "markdown",
   "metadata": {},
   "source": [
    "## Les fonctions ord et chr"
   ]
  },
  {
   "cell_type": "code",
   "execution_count": 7,
   "metadata": {},
   "outputs": [
    {
     "name": "stdout",
     "output_type": "stream",
     "text": [
      "c\n",
      "65\n"
     ]
    }
   ],
   "source": [
    "print(chr(99))\n",
    "print(ord('A'))"
   ]
  },
  {
   "cell_type": "markdown",
   "metadata": {},
   "source": [
    "## Reconstruction d'une chaîne de caractères"
   ]
  },
  {
   "cell_type": "code",
   "execution_count": 1,
   "metadata": {},
   "outputs": [],
   "source": [
    "lst1 = [1, 2, 5, 7, 12, 16, 89, 24]\n",
    "lst2 = []\n",
    "\n",
    "for el in lst1:\n",
    "    if el % 2 == 0:\n",
    "        lst2.append(el)"
   ]
  },
  {
   "cell_type": "code",
   "execution_count": 2,
   "metadata": {},
   "outputs": [],
   "source": [
    "ch1 = \"Les sanglots longs des violons de l'automne\"\n",
    "ch2 = \"\"\n",
    "\n",
    "for lettre in ch2:\n",
    "    if lettre in \"aeiouy\":\n",
    "        ch2 += lettre"
   ]
  }
 ],
 "metadata": {
  "kernelspec": {
   "display_name": "Python 3.10.0 64-bit",
   "language": "python",
   "name": "python3"
  },
  "language_info": {
   "codemirror_mode": {
    "name": "ipython",
    "version": 3
   },
   "file_extension": ".py",
   "mimetype": "text/x-python",
   "name": "python",
   "nbconvert_exporter": "python",
   "pygments_lexer": "ipython3",
   "version": "3.10.0"
  },
  "orig_nbformat": 4,
  "vscode": {
   "interpreter": {
    "hash": "aee8b7b246df8f9039afb4144a1f6fd8d2ca17a180786b69acc140d282b71a49"
   }
  }
 },
 "nbformat": 4,
 "nbformat_minor": 2
}
