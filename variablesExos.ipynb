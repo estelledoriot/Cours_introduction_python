{
 "cells": [
  {
   "attachments": {},
   "cell_type": "markdown",
   "metadata": {},
   "source": [
    "**Estelle Doriot**\n",
    "\n",
    "_NSI 1ère_\n",
    "\n",
    "---\n",
    "\n",
    "# Exercices : Variables et types\n",
    "\n",
    "---\n"
   ]
  },
  {
   "attachments": {},
   "cell_type": "markdown",
   "metadata": {},
   "source": [
    "## Exercice n°1\n",
    "\n",
    "Déterminer si les suites de symboles sont des expressions ou des instructions.\n",
    "\n",
    "1. `x + 1 / (x * x + 1)`\n",
    "2. `x = y + 1`\n",
    "3. `x < y + 1`\n",
    "4. `f = y >= x + 1`\n",
    "5. `x == y + 1`\n"
   ]
  },
  {
   "attachments": {},
   "cell_type": "markdown",
   "metadata": {},
   "source": [
    "### Correction\n",
    "\n",
    "> 1. Expression\n",
    "> 2. Instruction\n",
    "> 3. Expression\n",
    "> 4. Instruction\n",
    "> 5. Expression\n"
   ]
  },
  {
   "attachments": {},
   "cell_type": "markdown",
   "metadata": {},
   "source": [
    "## Exercice n°2\n",
    "\n",
    "Donner le type des variables suivantes:\n",
    "\n",
    "1. `a = 2`\n",
    "2. `b = 2.0`\n",
    "3. `c = 2 + 3`\n",
    "4. `d = 2 + 3.0`\n",
    "5. `e = 5 / 2`\n",
    "6. `f = 5 // 2`\n",
    "7. `g = \"bonjour\"`\n",
    "8. `h = False`\n",
    "9. `i = 2 < 3`\n",
    "10. `i = \"2 < 3\"`\n"
   ]
  },
  {
   "cell_type": "code",
   "execution_count": 1,
   "metadata": {},
   "outputs": [
    {
     "name": "stdout",
     "output_type": "stream",
     "text": [
      "<class 'int'>\n",
      "<class 'float'>\n",
      "<class 'int'>\n",
      "<class 'float'>\n",
      "<class 'float'>\n",
      "<class 'int'>\n",
      "<class 'str'>\n",
      "<class 'bool'>\n",
      "<class 'bool'>\n",
      "<class 'str'>\n"
     ]
    }
   ],
   "source": [
    "print(type(2))\n",
    "print(type(2.0))\n",
    "print(type(2 + 3))\n",
    "print(type(2 + 3.0))\n",
    "print(type(5 / 2))\n",
    "print(type(5 // 2))\n",
    "print(type(\"bonjour\"))\n",
    "print(type(False))\n",
    "print(type(2 < 3))\n",
    "print(type(\"2 < 3\"))"
   ]
  },
  {
   "attachments": {},
   "cell_type": "markdown",
   "metadata": {},
   "source": [
    "## Exercice n°3\n",
    "\n",
    "1. Quelle instruction provoquera l'incrémentation de la variable `a`?\n",
    "2. Sa décrémentation ?\n",
    "3. Son doublement ?\n"
   ]
  },
  {
   "cell_type": "code",
   "execution_count": 2,
   "metadata": {},
   "outputs": [
    {
     "name": "stdout",
     "output_type": "stream",
     "text": [
      "3\n",
      "2\n",
      "4\n"
     ]
    }
   ],
   "source": [
    "a = 2\n",
    "# 1)\n",
    "a = a + 1\n",
    "print(a)\n",
    "# 2)\n",
    "a = a - 1\n",
    "print(a)\n",
    "# 3)\n",
    "a = a * 2\n",
    "print(a)"
   ]
  },
  {
   "attachments": {},
   "cell_type": "markdown",
   "metadata": {},
   "source": [
    "## Exercice n°4\n",
    "\n",
    "Quelle est la valeur affichée après l'exécution des instructions suivantes ?\n",
    "\n",
    "1. Script 1\n",
    "\n",
    "```python\n",
    "a = 5\n",
    "a = a + 1\n",
    "b = a\n",
    "b = b ** 2 - a\n",
    "print(b)\n",
    "```\n"
   ]
  },
  {
   "cell_type": "code",
   "execution_count": 3,
   "metadata": {},
   "outputs": [
    {
     "name": "stdout",
     "output_type": "stream",
     "text": [
      "30\n"
     ]
    }
   ],
   "source": [
    "a = 5\n",
    "a = a + 1\n",
    "b = a\n",
    "b = b**2 - a\n",
    "print(b)\n"
   ]
  },
  {
   "attachments": {},
   "cell_type": "markdown",
   "metadata": {},
   "source": [
    "2. Script 2\n",
    "\n",
    "```python\n",
    "a = 5\n",
    "b = 6\n",
    "a = a - b\n",
    "b = b + a\n",
    "a = b - a\n",
    "print(a, b)\n",
    "```\n"
   ]
  },
  {
   "cell_type": "code",
   "execution_count": 4,
   "metadata": {},
   "outputs": [
    {
     "name": "stdout",
     "output_type": "stream",
     "text": [
      "6 5\n"
     ]
    }
   ],
   "source": [
    "a = 5\n",
    "b = 6\n",
    "a = a - b\n",
    "b = b + a\n",
    "a = b - a\n",
    "print(a, b)"
   ]
  },
  {
   "attachments": {},
   "cell_type": "markdown",
   "metadata": {},
   "source": [
    "## Exercice n°5\n",
    "\n",
    "Écrire un programme qui demande à l'utilisateur le rayon d'un cercle, et qui affiche à l'écran le périmètre et l'aire de ce cercle. On rappelle que pour un cercle de rayon $r$, $p = 2 \\pi r$ et $a = \\pi r^2$. La constante $\\pi$ est accessible dans le module `math` et s'appelle `pi`.\n"
   ]
  },
  {
   "cell_type": "code",
   "execution_count": 5,
   "metadata": {},
   "outputs": [
    {
     "name": "stdout",
     "output_type": "stream",
     "text": [
      "Le périmètre du cercle est: 62.83185307179586\n",
      "L'aire du cercle est: 314.1592653589793\n"
     ]
    }
   ],
   "source": [
    "from math import pi\n",
    "\n",
    "r = float(input(\"Rayon du cercle: \"))\n",
    "print(\"Le périmètre du cercle est:\", 2 * pi * r)\n",
    "print(\"L'aire du cercle est:\", pi * r**2)\n"
   ]
  },
  {
   "attachments": {},
   "cell_type": "markdown",
   "metadata": {},
   "source": [
    "## Exercice n°6\n",
    "\n",
    "Afficher le quotient et le reste de la division euclidienne de 147 par 19.\n"
   ]
  },
  {
   "cell_type": "code",
   "execution_count": 6,
   "metadata": {},
   "outputs": [
    {
     "name": "stdout",
     "output_type": "stream",
     "text": [
      "Quotient: 7\n",
      "Reste: 14\n"
     ]
    }
   ],
   "source": [
    "a = 147\n",
    "b = 19\n",
    "print(\"Quotient:\", a // b)\n",
    "print(\"Reste:\", a % b)"
   ]
  },
  {
   "attachments": {},
   "cell_type": "markdown",
   "metadata": {},
   "source": [
    "## Exercice n°7\n",
    "\n",
    "Ecrire un programme qui demande à l'utilisateur d'entrer un nombre de secondes et qui l'affiche sous la forme d'heures/minutes/secondes.\n"
   ]
  },
  {
   "cell_type": "code",
   "execution_count": 7,
   "metadata": {},
   "outputs": [
    {
     "name": "stdout",
     "output_type": "stream",
     "text": [
      "0/12/30\n"
     ]
    }
   ],
   "source": [
    "entree = int(input(\"Donnez un nombre de secondes: \"))\n",
    "heures = entree // 3600\n",
    "reste = entree % 3600\n",
    "minutes = reste // 60\n",
    "secondes = reste % 60\n",
    "print(f\"{heures}/{minutes}/{secondes}\")"
   ]
  },
  {
   "attachments": {},
   "cell_type": "markdown",
   "metadata": {},
   "source": [
    "## Exercice n°8\n",
    "\n",
    "On veut écrire un programme qui va permuter les valeurs des deux variables `a` et `b` saisies en entrée. On propose le programme suivant:\n",
    "\n",
    "```python\n",
    "a = int(input(\"valeur de a: \"))\n",
    "b = int(input(\"valeur de b: \"))\n",
    "a = b\n",
    "b = a\n",
    "print(\"a =\", a, \"et b =\", b)\n",
    "```\n",
    "\n",
    "1. Tester ce programme pour `a = 605` et `b = 506`. Obtient-on le résultat attendu ?\n"
   ]
  },
  {
   "cell_type": "code",
   "execution_count": 8,
   "metadata": {},
   "outputs": [
    {
     "name": "stdout",
     "output_type": "stream",
     "text": [
      "a = 15 et b = 15\n"
     ]
    }
   ],
   "source": [
    "a = int(input(\"valeur de a: \"))\n",
    "b = int(input(\"valeur de b: \"))\n",
    "a = b\n",
    "b = a\n",
    "print(\"a =\", a, \"et b =\", b)"
   ]
  },
  {
   "attachments": {},
   "cell_type": "markdown",
   "metadata": {},
   "source": [
    "2. Compléter le tableau suivant qui affiche pour chaque ligne du programme les valeurs des variables `a` et `b`.\n",
    "\n",
    "| Ligne                           | Variable a | Variable b |\n",
    "| ------------------------------- | ---------- | ---------- |\n",
    "| a = int(input(\"valeur de a: \")) | 605        |            |\n",
    "| b = int(input(\"valeur de b: \")) | 605        | 506        |\n",
    "| a = b                           |            |            |\n",
    "| b = a                           |            |            |\n",
    "| print ( \"a = \", a, \"et b =\", b) |            |            |\n"
   ]
  },
  {
   "attachments": {},
   "cell_type": "markdown",
   "metadata": {},
   "source": [
    "### Correction\n",
    "\n",
    "| Ligne                           | Variable a | Variable b |\n",
    "| ------------------------------- | ---------- | ---------- |\n",
    "| a = int(input(\"valeur de a: \")) | 605        |            |\n",
    "| b = int(input(\"valeur de b: \")) | 605        | 506        |\n",
    "| a = b                           | 506        | 506        |\n",
    "| b = a                           | 506        | 506        |\n",
    "| print ( \"a = \", a, \"et b =\", b) | 506        | 506        |\n",
    "\n",
    "L'instruction `a = b` a écrasé la valeur initiale de la variable `a` qui est définitivement perdue.\n"
   ]
  },
  {
   "attachments": {},
   "cell_type": "markdown",
   "metadata": {},
   "source": [
    "3. Proposer une modification du programme qui permute les valeurs des variables |a| et |b| saisies en entrée.\n"
   ]
  },
  {
   "attachments": {},
   "cell_type": "markdown",
   "metadata": {},
   "source": [
    "### Correction\n",
    "\n",
    "On peut rajouter une variable supplémentaire `c` qui va stocker temporairement la valeur initiale de la variable `a`.\n"
   ]
  },
  {
   "cell_type": "code",
   "execution_count": 10,
   "metadata": {},
   "outputs": [
    {
     "name": "stdout",
     "output_type": "stream",
     "text": [
      "a = 20 et b = 10\n"
     ]
    }
   ],
   "source": [
    "a = int(input(\"valeur de a: \"))\n",
    "b = int(input(\"valeur de b: \"))\n",
    "c = a\n",
    "a = b\n",
    "b = c\n",
    "print(\"a =\", a, \"et b =\", b)"
   ]
  },
  {
   "attachments": {},
   "cell_type": "markdown",
   "metadata": {},
   "source": [
    "Une autre possibilité consiste à utiliser la possibilité d'affectations multiples qui existe en python :\n"
   ]
  },
  {
   "cell_type": "code",
   "execution_count": 11,
   "metadata": {},
   "outputs": [
    {
     "name": "stdout",
     "output_type": "stream",
     "text": [
      "a = 20 et b = 10\n"
     ]
    }
   ],
   "source": [
    "a = int(input(\"valeur de a: \"))\n",
    "b = int(input(\"valeur de b: \"))\n",
    "a, b = b, a\n",
    "print(\"a =\", a, \"et b =\", b)"
   ]
  }
 ],
 "metadata": {
  "interpreter": {
   "hash": "aee8b7b246df8f9039afb4144a1f6fd8d2ca17a180786b69acc140d282b71a49"
  },
  "kernelspec": {
   "display_name": "Python 3.7.4 64-bit",
   "language": "python",
   "name": "python3"
  },
  "language_info": {
   "codemirror_mode": {
    "name": "ipython",
    "version": 3
   },
   "file_extension": ".py",
   "mimetype": "text/x-python",
   "name": "python",
   "nbconvert_exporter": "python",
   "pygments_lexer": "ipython3",
   "version": "3.11.4"
  },
  "orig_nbformat": 4
 },
 "nbformat": 4,
 "nbformat_minor": 2
}
