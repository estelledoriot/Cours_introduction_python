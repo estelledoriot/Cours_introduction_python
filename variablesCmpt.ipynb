{
 "cells": [
  {
   "cell_type": "markdown",
   "metadata": {},
   "source": [
    "**Estelle Doriot**\n",
    "\n",
    "_NSI 1ère_\n",
    "\n",
    "---\n",
    "# Cours : Compléments sur les variables\n",
    "---"
   ]
  },
  {
   "cell_type": "code",
   "execution_count": 1,
   "metadata": {},
   "outputs": [],
   "source": [
    "from metakernel import register_ipython_magics\n",
    "register_ipython_magics()"
   ]
  },
  {
   "cell_type": "markdown",
   "metadata": {},
   "source": [
    "## Variables\n",
    "\n",
    "La fonction `id` renvoie l'identifiant de l'objet donné en paramètre."
   ]
  },
  {
   "cell_type": "code",
   "execution_count": 6,
   "metadata": {},
   "outputs": [
    {
     "data": {
      "text/html": [
       "\n",
       "        <iframe\n",
       "            width=\"100%\"\n",
       "            height=\"500\"\n",
       "            src=\"https://pythontutor.com/iframe-embed.html#code=%0Ax%20%3D%207%0Ay%20%3D%208%0Aprint%28%22Identifiant%20de%20x%3A%22%2C%20id%28x%29%29%0Aprint%28%22Identifiant%20de%20y%3A%22%2C%20id%28y%29%29%0A&origin=opt-frontend.js&cumulative=false&heapPrimitives=false&textReferences=false&py=3&rawInputLstJSON=%5B%5D&curInstr=0&codeDivWidth=350&codeDivHeight=400\"\n",
       "            frameborder=\"0\"\n",
       "            allowfullscreen\n",
       "        ></iframe>\n",
       "        "
      ],
      "text/plain": [
       "<IPython.lib.display.IFrame at 0x7ff15e050c90>"
      ]
     },
     "metadata": {},
     "output_type": "display_data"
    }
   ],
   "source": [
    "%%tutor # Ajouter %%tutor sur la 1ère la ligne pour intégration de Python tutor\n",
    "\n",
    "x = 7\n",
    "y = 8\n",
    "print(\"Identifiant de x:\", id(x))\n",
    "print(\"Identifiant de y:\", id(y))"
   ]
  },
  {
   "cell_type": "markdown",
   "metadata": {},
   "source": [
    "## Portée des variables\n",
    "\n",
    "**Exercice n°1** : Que se passe-t-il lors de l'exécution du programme suivant ?\n",
    "\n",
    "```python\n",
    "def factorielle(n):\n",
    "\ta = 1\n",
    "\tfor i in range(1, n+1):\n",
    "\t\ta = a * i\n",
    "\treturn a\n",
    "\t\n",
    "factorielle(4)\n",
    "print(a)\n",
    "```"
   ]
  },
  {
   "cell_type": "code",
   "execution_count": 21,
   "metadata": {},
   "outputs": [
    {
     "ename": "NameError",
     "evalue": "name 'a' is not defined",
     "output_type": "error",
     "traceback": [
      "\u001b[0;31m---------------------------------------------------------------------------\u001b[0m",
      "\u001b[0;31mNameError\u001b[0m                                 Traceback (most recent call last)",
      "\u001b[0;32m<ipython-input-21-20834f4e6a87>\u001b[0m in \u001b[0;36m<module>\u001b[0;34m\u001b[0m\n\u001b[1;32m      6\u001b[0m \u001b[0;34m\u001b[0m\u001b[0m\n\u001b[1;32m      7\u001b[0m \u001b[0mfactorielle\u001b[0m\u001b[0;34m(\u001b[0m\u001b[0;36m4\u001b[0m\u001b[0;34m)\u001b[0m\u001b[0;34m\u001b[0m\u001b[0;34m\u001b[0m\u001b[0m\n\u001b[0;32m----> 8\u001b[0;31m \u001b[0mprint\u001b[0m\u001b[0;34m(\u001b[0m\u001b[0ma\u001b[0m\u001b[0;34m)\u001b[0m\u001b[0;34m\u001b[0m\u001b[0;34m\u001b[0m\u001b[0m\n\u001b[0m",
      "\u001b[0;31mNameError\u001b[0m: name 'a' is not defined"
     ]
    }
   ],
   "source": [
    "def factorielle(n):\n",
    "\ta = 1\n",
    "\tfor i in range(1, n+1):\n",
    "\t\ta = a * i\n",
    "\treturn a\n",
    "\t\n",
    "factorielle(4)\n",
    "print(a)"
   ]
  },
  {
   "cell_type": "markdown",
   "metadata": {},
   "source": [
    "`print(a)` déclenche une erreur car la variable `a` est une variable locale à la fonction `factorielle` et n'existe plus dans le programme principal lors de l'appel `print(a)`.\n",
    "\n",
    "Une fonction peut accéder à la valeur d'une variable globale :"
   ]
  },
  {
   "cell_type": "code",
   "execution_count": 22,
   "metadata": {},
   "outputs": [
    {
     "name": "stdout",
     "output_type": "stream",
     "text": [
      "b = 24\n"
     ]
    }
   ],
   "source": [
    "a = 8\n",
    "\n",
    "def truc(n):\n",
    "\treturn n * a\n",
    "\n",
    "b = truc(3)\n",
    "print(\"b =\", b)"
   ]
  },
  {
   "cell_type": "markdown",
   "metadata": {},
   "source": [
    "Par contre, une fonction ne peut pas modifier directement une variable globale. Dans le programme suivant, on veut écrire une fonction `incremente1` qui ajoute `1` à la variable globale `a`."
   ]
  },
  {
   "cell_type": "code",
   "execution_count": 25,
   "metadata": {},
   "outputs": [
    {
     "ename": "UnboundLocalError",
     "evalue": "local variable 'a' referenced before assignment",
     "output_type": "error",
     "traceback": [
      "\u001b[0;31m---------------------------------------------------------------------------\u001b[0m",
      "\u001b[0;31mUnboundLocalError\u001b[0m                         Traceback (most recent call last)",
      "\u001b[0;32m<ipython-input-25-8803cbb9ad62>\u001b[0m in \u001b[0;36m<module>\u001b[0;34m\u001b[0m\n\u001b[1;32m      4\u001b[0m         \u001b[0ma\u001b[0m \u001b[0;34m=\u001b[0m \u001b[0ma\u001b[0m \u001b[0;34m+\u001b[0m \u001b[0;36m1\u001b[0m\u001b[0;34m\u001b[0m\u001b[0;34m\u001b[0m\u001b[0m\n\u001b[1;32m      5\u001b[0m \u001b[0;34m\u001b[0m\u001b[0m\n\u001b[0;32m----> 6\u001b[0;31m \u001b[0mincremente1\u001b[0m\u001b[0;34m(\u001b[0m\u001b[0;34m)\u001b[0m\u001b[0;34m\u001b[0m\u001b[0;34m\u001b[0m\u001b[0m\n\u001b[0m\u001b[1;32m      7\u001b[0m \u001b[0mprint\u001b[0m\u001b[0;34m(\u001b[0m\u001b[0;34m\"a =\"\u001b[0m\u001b[0;34m,\u001b[0m \u001b[0ma\u001b[0m\u001b[0;34m)\u001b[0m\u001b[0;34m\u001b[0m\u001b[0;34m\u001b[0m\u001b[0m\n",
      "\u001b[0;32m<ipython-input-25-8803cbb9ad62>\u001b[0m in \u001b[0;36mincremente1\u001b[0;34m()\u001b[0m\n\u001b[1;32m      2\u001b[0m \u001b[0;34m\u001b[0m\u001b[0m\n\u001b[1;32m      3\u001b[0m \u001b[0;32mdef\u001b[0m \u001b[0mincremente1\u001b[0m\u001b[0;34m(\u001b[0m\u001b[0;34m)\u001b[0m\u001b[0;34m:\u001b[0m\u001b[0;34m\u001b[0m\u001b[0;34m\u001b[0m\u001b[0m\n\u001b[0;32m----> 4\u001b[0;31m         \u001b[0ma\u001b[0m \u001b[0;34m=\u001b[0m \u001b[0ma\u001b[0m \u001b[0;34m+\u001b[0m \u001b[0;36m1\u001b[0m\u001b[0;34m\u001b[0m\u001b[0;34m\u001b[0m\u001b[0m\n\u001b[0m\u001b[1;32m      5\u001b[0m \u001b[0;34m\u001b[0m\u001b[0m\n\u001b[1;32m      6\u001b[0m \u001b[0mincremente1\u001b[0m\u001b[0;34m(\u001b[0m\u001b[0;34m)\u001b[0m\u001b[0;34m\u001b[0m\u001b[0;34m\u001b[0m\u001b[0m\n",
      "\u001b[0;31mUnboundLocalError\u001b[0m: local variable 'a' referenced before assignment"
     ]
    }
   ],
   "source": [
    "a = 8\n",
    "\n",
    "def incremente1():\n",
    "\ta = a + 1\n",
    "\n",
    "incremente1()\n",
    "print(\"a =\", a)"
   ]
  },
  {
   "cell_type": "markdown",
   "metadata": {},
   "source": [
    "Si l'on veut modifier la valeur d'une variable globale à l'intérieur d'une fonction, il faut utiliser le mot-clé `global`."
   ]
  },
  {
   "cell_type": "code",
   "execution_count": 26,
   "metadata": {},
   "outputs": [
    {
     "name": "stdout",
     "output_type": "stream",
     "text": [
      "a = 9\n"
     ]
    }
   ],
   "source": [
    "a = 8\n",
    "\n",
    "def incremente2():\n",
    "\tglobal a\n",
    "\ta = a + 1\n",
    "\n",
    "incremente2()\n",
    "print(\"a =\", a)"
   ]
  },
  {
   "cell_type": "markdown",
   "metadata": {},
   "source": [
    "Une bonne façon d'écrire une fonction `incremente` qui n'utilise pas le mot-clé `global`:"
   ]
  },
  {
   "cell_type": "code",
   "execution_count": 27,
   "metadata": {},
   "outputs": [
    {
     "name": "stdout",
     "output_type": "stream",
     "text": [
      "a = 9\n"
     ]
    }
   ],
   "source": [
    "a = 8\n",
    "\n",
    "def incremente3(b):\n",
    "\tb = b + 1\n",
    "\treturn b\n",
    "\t\n",
    "a = incremente3(a)\n",
    "print(\"a =\", a)"
   ]
  },
  {
   "cell_type": "markdown",
   "metadata": {},
   "source": [
    "## Variables muables, variables immuables\n",
    "\n",
    "### Copie des variables\n",
    "\n",
    "1. Variables immuables"
   ]
  },
  {
   "cell_type": "code",
   "execution_count": 12,
   "metadata": {},
   "outputs": [
    {
     "data": {
      "text/html": [
       "\n",
       "        <iframe\n",
       "            width=\"100%\"\n",
       "            height=\"500\"\n",
       "            src=\"https://pythontutor.com/iframe-embed.html#code=%0A%23%20cr%C3%A9ation%20des%20variables%0Avar_1%20%3D%20%22Hello%20world%22%0Avar_2%20%3D%20var_1%20%20%20%20%0Aadr_1%2C%20typ_1%20%3D%20hex%28id%28var_1%29%29%2C%20type%28var_1%29%0Aadr_2%2C%20typ_2%20%3D%20hex%28id%28var_2%29%29%2C%20type%28var_2%29%0Aprint%28%22la%20variable%20var_1%20est%20un%20%22%2C%20typ_1%2C%20%22%20d%27adresse%20%22%2C%20adr_1%2C%20%22%20et%20de%20valeur%3A%20%22%2C%20var_1%29%0Aprint%28%22la%20variable%20var_2%20est%20un%20%22%2C%20typ_2%2C%20%22%20d%27adresse%20%22%2C%20adr_2%2C%20%22%20et%20de%20valeur%3A%20%22%2C%20var_2%29%0A%23%20modification%20de%20la%20premi%C3%A8re%20variable%0Aprint%28%22--%3E%20modification%20de%20la%20valeur%20de%20var_1%22%29%0Avar_1%20%3D%20var_1%20%2B%20%22%21%22%0Aadr_1%2C%20typ_1%20%3D%20hex%28id%28var_1%29%29%2C%20type%28var_1%29%0Aadr_2%2C%20typ_2%20%3D%20hex%28id%28var_2%29%29%2C%20type%28var_2%29%0Aprint%28%22la%20variable%20var_1%20est%20un%20%22%2C%20typ_1%2C%20%22%20d%27adresse%20%22%2C%20adr_1%2C%20%22%20et%20de%20valeur%3A%20%22%2C%20var_1%29%0Aprint%28%22la%20variable%20var_2%20est%20un%20%22%2C%20typ_2%2C%20%22%20d%27adresse%20%22%2C%20adr_2%2C%20%22%20et%20de%20valeur%3A%20%22%2C%20var_2%29%0A&origin=opt-frontend.js&cumulative=false&heapPrimitives=false&textReferences=false&py=3&rawInputLstJSON=%5B%5D&curInstr=0&codeDivWidth=350&codeDivHeight=400\"\n",
       "            frameborder=\"0\"\n",
       "            allowfullscreen\n",
       "        ></iframe>\n",
       "        "
      ],
      "text/plain": [
       "<IPython.lib.display.IFrame at 0x7ff15e050b10>"
      ]
     },
     "metadata": {},
     "output_type": "display_data"
    }
   ],
   "source": [
    "%%tutor # Ajouter %%tutor sur la 1ère la ligne pour intégration de Python tutor\n",
    "\n",
    "# création des variables\n",
    "var_1 = \"Hello world\"\n",
    "var_2 = var_1    \n",
    "adr_1, typ_1 = hex(id(var_1)), type(var_1)\n",
    "adr_2, typ_2 = hex(id(var_2)), type(var_2)\n",
    "print(\"la variable var_1 est un \", typ_1, \" d'adresse \", adr_1, \" et de valeur: \", var_1)\n",
    "print(\"la variable var_2 est un \", typ_2, \" d'adresse \", adr_2, \" et de valeur: \", var_2)\n",
    "# modification de la première variable\n",
    "print(\"--> modification de la valeur de var_1\")\n",
    "var_1 = var_1 + \"!\"\n",
    "adr_1, typ_1 = hex(id(var_1)), type(var_1)\n",
    "adr_2, typ_2 = hex(id(var_2)), type(var_2)\n",
    "print(\"la variable var_1 est un \", typ_1, \" d'adresse \", adr_1, \" et de valeur: \", var_1)\n",
    "print(\"la variable var_2 est un \", typ_2, \" d'adresse \", adr_2, \" et de valeur: \", var_2)"
   ]
  },
  {
   "cell_type": "markdown",
   "metadata": {},
   "source": [
    "2. Variables muables"
   ]
  },
  {
   "cell_type": "code",
   "execution_count": 14,
   "metadata": {},
   "outputs": [
    {
     "data": {
      "text/html": [
       "\n",
       "        <iframe\n",
       "            width=\"100%\"\n",
       "            height=\"500\"\n",
       "            src=\"https://pythontutor.com/iframe-embed.html#code=%0A%23%20cr%C3%A9ation%20des%20variables%0Avar_1%20%3D%20%5B0%2C%201%2C%202%2C%203%2C%204%5D%0Avar_2%20%3D%20var_1%20%20%20%20%0Aadr_1%2C%20typ_1%20%3D%20hex%28id%28var_1%29%29%2C%20type%28var_1%29%0Aadr_2%2C%20typ_2%20%3D%20hex%28id%28var_2%29%29%2C%20type%28var_2%29%0Aprint%28%22la%20variable%20var_1%20est%20un%20%22%2C%20typ_1%2C%20%22%20d%27adresse%20%22%2C%20adr_1%2C%20%22%20et%20de%20valeur%3A%20%22%2C%20var_1%29%0Aprint%28%22la%20variable%20var_2%20est%20un%20%22%2C%20typ_2%2C%20%22%20d%27adresse%20%22%2C%20adr_2%2C%20%22%20et%20de%20valeur%3A%20%22%2C%20var_2%29%0A%23%20modification%20de%20la%20premi%C3%A8re%20variable%0Aprint%28%22--%3E%20modification%20de%20la%20valeur%20de%20var_1%22%29%0Avar_1%5B2%5D%20%3D%209%0Aadr_1%2C%20typ_1%20%3D%20hex%28id%28var_1%29%29%2C%20type%28var_1%29%0Aadr_2%2C%20typ_2%20%3D%20hex%28id%28var_2%29%29%2C%20type%28var_2%29%0Aprint%28%22la%20variable%20var_1%20est%20un%20%22%2C%20typ_1%2C%20%22%20d%27adresse%20%22%2C%20adr_1%2C%20%22%20et%20de%20valeur%3A%20%22%2C%20var_1%29%0Aprint%28%22la%20variable%20var_2%20est%20un%20%22%2C%20typ_2%2C%20%22%20d%27adresse%20%22%2C%20adr_2%2C%20%22%20et%20de%20valeur%3A%20%22%2C%20var_2%29%0A&origin=opt-frontend.js&cumulative=false&heapPrimitives=false&textReferences=false&py=3&rawInputLstJSON=%5B%5D&curInstr=0&codeDivWidth=350&codeDivHeight=400\"\n",
       "            frameborder=\"0\"\n",
       "            allowfullscreen\n",
       "        ></iframe>\n",
       "        "
      ],
      "text/plain": [
       "<IPython.lib.display.IFrame at 0x7ff15e092c90>"
      ]
     },
     "metadata": {},
     "output_type": "display_data"
    }
   ],
   "source": [
    "%%tutor # Ajouter %%tutor sur la 1ère la ligne pour intégration de Python tutor\n",
    "\n",
    "# création des variables\n",
    "var_1 = [0, 1, 2, 3, 4]\n",
    "var_2 = var_1    \n",
    "adr_1, typ_1 = hex(id(var_1)), type(var_1)\n",
    "adr_2, typ_2 = hex(id(var_2)), type(var_2)\n",
    "print(\"la variable var_1 est un \", typ_1, \" d'adresse \", adr_1, \" et de valeur: \", var_1)\n",
    "print(\"la variable var_2 est un \", typ_2, \" d'adresse \", adr_2, \" et de valeur: \", var_2)\n",
    "# modification de la première variable\n",
    "print(\"--> modification de la valeur de var_1\")\n",
    "var_1[2] = 9\n",
    "adr_1, typ_1 = hex(id(var_1)), type(var_1)\n",
    "adr_2, typ_2 = hex(id(var_2)), type(var_2)\n",
    "print(\"la variable var_1 est un \", typ_1, \" d'adresse \", adr_1, \" et de valeur: \", var_1)\n",
    "print(\"la variable var_2 est un \", typ_2, \" d'adresse \", adr_2, \" et de valeur: \", var_2)"
   ]
  },
  {
   "cell_type": "markdown",
   "metadata": {},
   "source": [
    "Pour réaliser une copie distincte d'une liste, on utilise la méthode `copy()`."
   ]
  },
  {
   "cell_type": "code",
   "execution_count": 16,
   "metadata": {},
   "outputs": [
    {
     "data": {
      "text/html": [
       "\n",
       "        <iframe\n",
       "            width=\"100%\"\n",
       "            height=\"500\"\n",
       "            src=\"https://pythontutor.com/iframe-embed.html#code=%0A%23%20cr%C3%A9ation%20des%20variables%0Avar_1%20%3D%20%5B0%2C%201%2C%202%2C%203%2C%204%5D%0Avar_2%20%3D%20var_1.copy%28%29%0Aadr_1%2C%20typ_1%20%3D%20hex%28id%28var_1%29%29%2C%20type%28var_1%29%0Aadr_2%2C%20typ_2%20%3D%20hex%28id%28var_2%29%29%2C%20type%28var_2%29%0Aprint%28%22la%20variable%20var_1%20est%20un%20%22%2C%20typ_1%2C%20%22%20d%27adresse%20%22%2C%20adr_1%2C%20%22%20et%20de%20valeur%3A%20%22%2C%20var_1%29%0Aprint%28%22la%20variable%20var_2%20est%20un%20%22%2C%20typ_2%2C%20%22%20d%27adresse%20%22%2C%20adr_2%2C%20%22%20et%20de%20valeur%3A%20%22%2C%20var_2%29%0A%23%20modification%20de%20la%20premi%C3%A8re%20variable%0Aprint%28%22--%3E%20modification%20de%20la%20valeur%20de%20var_1%22%29%0Avar_1%5B2%5D%20%3D%209%0Aadr_1%2C%20typ_1%20%3D%20hex%28id%28var_1%29%29%2C%20type%28var_1%29%0Aadr_2%2C%20typ_2%20%3D%20hex%28id%28var_2%29%29%2C%20type%28var_2%29%0Aprint%28%22la%20variable%20var_1%20est%20un%20%22%2C%20typ_1%2C%20%22%20d%27adresse%20%22%2C%20adr_1%2C%20%22%20et%20de%20valeur%3A%20%22%2C%20var_1%29%0Aprint%28%22la%20variable%20var_2%20est%20un%20%22%2C%20typ_2%2C%20%22%20d%27adresse%20%22%2C%20adr_2%2C%20%22%20et%20de%20valeur%3A%20%22%2C%20var_2%29%0A&origin=opt-frontend.js&cumulative=false&heapPrimitives=false&textReferences=false&py=3&rawInputLstJSON=%5B%5D&curInstr=0&codeDivWidth=350&codeDivHeight=400\"\n",
       "            frameborder=\"0\"\n",
       "            allowfullscreen\n",
       "        ></iframe>\n",
       "        "
      ],
      "text/plain": [
       "<IPython.lib.display.IFrame at 0x7ff15e0a20d0>"
      ]
     },
     "metadata": {},
     "output_type": "display_data"
    }
   ],
   "source": [
    "%%tutor # Ajouter %%tutor sur la 1ère la ligne pour intégration de Python tutor\n",
    "\n",
    "# création des variables\n",
    "var_1 = [0, 1, 2, 3, 4]\n",
    "var_2 = var_1.copy()\n",
    "adr_1, typ_1 = hex(id(var_1)), type(var_1)\n",
    "adr_2, typ_2 = hex(id(var_2)), type(var_2)\n",
    "print(\"la variable var_1 est un \", typ_1, \" d'adresse \", adr_1, \" et de valeur: \", var_1)\n",
    "print(\"la variable var_2 est un \", typ_2, \" d'adresse \", adr_2, \" et de valeur: \", var_2)\n",
    "# modification de la première variable\n",
    "print(\"--> modification de la valeur de var_1\")\n",
    "var_1[2] = 9\n",
    "adr_1, typ_1 = hex(id(var_1)), type(var_1)\n",
    "adr_2, typ_2 = hex(id(var_2)), type(var_2)\n",
    "print(\"la variable var_1 est un \", typ_1, \" d'adresse \", adr_1, \" et de valeur: \", var_1)\n",
    "print(\"la variable var_2 est un \", typ_2, \" d'adresse \", adr_2, \" et de valeur: \", var_2)"
   ]
  },
  {
   "cell_type": "markdown",
   "metadata": {},
   "source": [
    "**Exercice n°2** : \n",
    "\n",
    "On souhaite écrire un programme de jeu de morpion. Pour stocker l'état du jeu, on a besoin d'un tableau à 2 dimensions avec 3 lignes et 3 colonnes. Supposons que l'on initialise le tableau avec la commande suivante:\n",
    "\n",
    "```python\n",
    "jeu = [['']*3]*3\n",
    "```\n",
    "\n",
    "Cela vous semble-t-il correct? Pour vérifier, testez le script suivant où le premier joueur joue son tour:\n",
    "\n",
    "```python\n",
    "jeu = [['']*3]*3\n",
    "jeu[1][1] = 'X'\n",
    "print(jeu)\t\n",
    "```\n",
    "\n",
    "Que proposez-vous pour initialiser correctement le tableau?"
   ]
  },
  {
   "cell_type": "code",
   "execution_count": 17,
   "metadata": {},
   "outputs": [
    {
     "data": {
      "text/html": [
       "\n",
       "        <iframe\n",
       "            width=\"100%\"\n",
       "            height=\"500\"\n",
       "            src=\"https://pythontutor.com/iframe-embed.html#code=%0Ajeu%20%3D%20%5B%5B%27%27%5D%2A3%5D%2A3%0Ajeu%5B1%5D%5B1%5D%20%3D%20%27X%27%0Aprint%28jeu%29%09%0A&origin=opt-frontend.js&cumulative=false&heapPrimitives=false&textReferences=false&py=3&rawInputLstJSON=%5B%5D&curInstr=0&codeDivWidth=350&codeDivHeight=400\"\n",
       "            frameborder=\"0\"\n",
       "            allowfullscreen\n",
       "        ></iframe>\n",
       "        "
      ],
      "text/plain": [
       "<IPython.lib.display.IFrame at 0x7ff15e0890d0>"
      ]
     },
     "metadata": {},
     "output_type": "display_data"
    }
   ],
   "source": [
    "%%tutor # Ajouter %%tutor sur la 1ère la ligne pour intégration de Python tutor\n",
    "\n",
    "jeu = [['']*3]*3\n",
    "jeu[1][1] = 'X'\n",
    "print(jeu)\t"
   ]
  },
  {
   "cell_type": "markdown",
   "metadata": {},
   "source": [
    "Les trois lignes du jeu pointent vers le même objet liste au lieu de pointer vers des trois listes distinctes. Donc lorsque l'on modifie une ligne, on modifie également les autres, ce qui ne permet pas de représenter correctement l'état du jeu.\n",
    "\n",
    "Pour créer des lignes distinctes, il faudrait, par exemple, écrire le code suivant :\n",
    "\n",
    "```python\n",
    "jeu = [['']*3 for i in range(3)]\n",
    "```"
   ]
  },
  {
   "cell_type": "code",
   "execution_count": 18,
   "metadata": {},
   "outputs": [
    {
     "data": {
      "text/html": [
       "\n",
       "        <iframe\n",
       "            width=\"100%\"\n",
       "            height=\"500\"\n",
       "            src=\"https://pythontutor.com/iframe-embed.html#code=%0Ajeu%20%3D%20%5B%5B%27%27%5D%2A3%20for%20i%20in%20range%283%29%5D%0Ajeu%5B1%5D%5B1%5D%20%3D%20%27X%27%0Aprint%28jeu%29%09%0A&origin=opt-frontend.js&cumulative=false&heapPrimitives=false&textReferences=false&py=3&rawInputLstJSON=%5B%5D&curInstr=0&codeDivWidth=350&codeDivHeight=400\"\n",
       "            frameborder=\"0\"\n",
       "            allowfullscreen\n",
       "        ></iframe>\n",
       "        "
      ],
      "text/plain": [
       "<IPython.lib.display.IFrame at 0x7ff15e089510>"
      ]
     },
     "metadata": {},
     "output_type": "display_data"
    }
   ],
   "source": [
    "%%tutor # Ajouter %%tutor sur la 1ère la ligne pour intégration de Python tutor\n",
    "\n",
    "jeu = [['']*3 for i in range(3)]\n",
    "jeu[1][1] = 'X'\n",
    "print(jeu)\t"
   ]
  },
  {
   "cell_type": "markdown",
   "metadata": {},
   "source": [
    "## Passage de paramètres dans une fonction"
   ]
  },
  {
   "cell_type": "code",
   "execution_count": 20,
   "metadata": {},
   "outputs": [
    {
     "data": {
      "text/html": [
       "\n",
       "        <iframe\n",
       "            width=\"100%\"\n",
       "            height=\"500\"\n",
       "            src=\"https://pythontutor.com/iframe-embed.html#code=%0A%23%20intialisation%0Avar_1%20%3D%20%22Hello%20world%22%0Avar_2%20%3D%20%5B1%2C%202%2C%203%5D%0Aprint%28%22--%3E%20initialisation%20des%20variables%22%29%0Aprint%28%22var_1%20%3D%22%2C%20var_1%2C%20%22et%20var_2%20%3D%22%2C%20var_2%29%0A%0A%23%20d%C3%A9finition%20de%20la%20fonction%0Adef%20fonction%28a%2C%20b%29%3A%0A%20%20%20%20a%20%3D%20a%20%2B%20%22%21%22%0A%20%20%20%20b%5B1%5D%20%3D%207%0A%20%20%20%20print%28%22--%3E%20%C3%A0%20l%27int%C3%A9rieur%20de%20la%20fonction%22%29%0A%20%20%20%20print%28%22a%20%3D%22%2C%20a%2C%20%22et%20b%20%3D%22%2C%20b%29%0A%20%20%20%20%0A%23%20ex%C3%A9cution%0Afonction%28var_1%2C%20var_2%29%0Aprint%28%22--%3E%20apr%C3%A8s%20l%27ex%C3%A9cution%22%29%0Aprint%28%22var_1%20%3D%22%2C%20var_1%2C%20%22et%20var_2%20%3D%22%2C%20var_2%29%0A&origin=opt-frontend.js&cumulative=false&heapPrimitives=false&textReferences=false&py=3&rawInputLstJSON=%5B%5D&curInstr=0&codeDivWidth=350&codeDivHeight=400\"\n",
       "            frameborder=\"0\"\n",
       "            allowfullscreen\n",
       "        ></iframe>\n",
       "        "
      ],
      "text/plain": [
       "<IPython.lib.display.IFrame at 0x7ff15e092150>"
      ]
     },
     "metadata": {},
     "output_type": "display_data"
    }
   ],
   "source": [
    "%%tutor # Ajouter %%tutor sur la 1ère la ligne pour intégration de Python tutor\n",
    "\n",
    "# intialisation\n",
    "var_1 = \"Hello world\"\n",
    "var_2 = [1, 2, 3]\n",
    "print(\"--> initialisation des variables\")\n",
    "print(\"var_1 =\", var_1, \"et var_2 =\", var_2)\n",
    "\n",
    "# définition de la fonction\n",
    "def fonction(a, b):\n",
    "    a = a + \"!\"\n",
    "    b[1] = 7\n",
    "    print(\"--> à l'intérieur de la fonction\")\n",
    "    print(\"a =\", a, \"et b =\", b)\n",
    "    \n",
    "# exécution\n",
    "fonction(var_1, var_2)\n",
    "print(\"--> après l'exécution\")\n",
    "print(\"var_1 =\", var_1, \"et var_2 =\", var_2)"
   ]
  }
 ],
 "metadata": {
  "interpreter": {
   "hash": "aee8b7b246df8f9039afb4144a1f6fd8d2ca17a180786b69acc140d282b71a49"
  },
  "kernelspec": {
   "display_name": "Python 3.7.4 64-bit",
   "language": "python",
   "name": "python3"
  },
  "language_info": {
   "codemirror_mode": {
    "name": "ipython",
    "version": 3
   },
   "file_extension": ".py",
   "mimetype": "text/x-python",
   "name": "python",
   "nbconvert_exporter": "python",
   "pygments_lexer": "ipython3",
   "version": "3.10.0"
  },
  "orig_nbformat": 4
 },
 "nbformat": 4,
 "nbformat_minor": 2
}
