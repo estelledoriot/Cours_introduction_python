{
 "cells": [
  {
   "attachments": {},
   "cell_type": "markdown",
   "metadata": {},
   "source": [
    "**Estelle Doriot**\n",
    "\n",
    "_NSI 1ère_\n",
    "\n",
    "---\n",
    "\n",
    "# Exercices : Spécification et tests\n",
    "\n",
    "---\n",
    "\n",
    "### Exercice n°1\n",
    "\n",
    "Rajouter la signature des fonctions définies ci-dessous.\n",
    "\n",
    "1.\n",
    "\n",
    "```python\n",
    "def hypothenuse(a, b):\n",
    "    return sqrt(a**2 + b**2)\n",
    "```\n"
   ]
  },
  {
   "cell_type": "code",
   "execution_count": 1,
   "metadata": {},
   "outputs": [],
   "source": [
    "from math import sqrt\n",
    "\n",
    "\n",
    "def hypothenuse(a: float, b: float) -> float:\n",
    "    return sqrt(a**2 + b**2)"
   ]
  },
  {
   "attachments": {},
   "cell_type": "markdown",
   "metadata": {},
   "source": [
    "2.\n",
    "\n",
    "```python\n",
    "def power_sum(n, k):\n",
    "    s = 0\n",
    "    for m in range(1, n + 1):\n",
    "        s = s + m ** k\n",
    "    return s\n",
    "```\n"
   ]
  },
  {
   "cell_type": "code",
   "execution_count": 2,
   "metadata": {},
   "outputs": [],
   "source": [
    "def power_sum(n: int, k: int) -> int:\n",
    "    s = 0\n",
    "    for m in range(1, n + 1):\n",
    "        s = s + m**k\n",
    "    return s"
   ]
  },
  {
   "attachments": {},
   "cell_type": "markdown",
   "metadata": {},
   "source": [
    "3.\n",
    "\n",
    "```python\n",
    "def is_prime(n):\n",
    "    if n < 2:\n",
    "        return False\n",
    "    for d in range(n):\n",
    "        if n % d == 0:\n",
    "            return False\n",
    "    return True\n",
    "```\n"
   ]
  },
  {
   "cell_type": "code",
   "execution_count": 3,
   "metadata": {},
   "outputs": [],
   "source": [
    "def is_prime(n: int) -> bool:\n",
    "    if n < 2:\n",
    "        return False\n",
    "    for d in range(n):\n",
    "        if n % d == 0:\n",
    "            return False\n",
    "    return True\n"
   ]
  },
  {
   "attachments": {},
   "cell_type": "markdown",
   "metadata": {},
   "source": [
    "4.\n",
    "\n",
    "```python\n",
    "def mean(l):\n",
    "    n = len(l)\n",
    "    s = 0\n",
    "    for e in l:\n",
    "        s += e\n",
    "    return s / n\n",
    "```\n"
   ]
  },
  {
   "cell_type": "code",
   "execution_count": 4,
   "metadata": {},
   "outputs": [],
   "source": [
    "def mean(l: list) -> float:\n",
    "    n = len(l)\n",
    "    s = 0\n",
    "    for e in l:\n",
    "        s += e\n",
    "    return s / n\n"
   ]
  },
  {
   "attachments": {},
   "cell_type": "markdown",
   "metadata": {},
   "source": [
    "5.\n",
    "\n",
    "```python\n",
    "def is_even(n):\n",
    "    return n % 2 == 0\n",
    "```\n"
   ]
  },
  {
   "cell_type": "code",
   "execution_count": 5,
   "metadata": {},
   "outputs": [],
   "source": [
    "def is_even(n: int) -> bool:\n",
    "    return n % 2 == 0\n"
   ]
  },
  {
   "attachments": {},
   "cell_type": "markdown",
   "metadata": {},
   "source": [
    "6.\n",
    "\n",
    "```python\n",
    "def pair(n):\n",
    "\tif n % 2 == 0:\n",
    "\t\tprint(f\"{n} est pair\")\n",
    "\telse:\n",
    "\t\tprint(f\"{n} est impair\")\n",
    "```\n"
   ]
  },
  {
   "cell_type": "code",
   "execution_count": 6,
   "metadata": {},
   "outputs": [],
   "source": [
    "def pair(n: int) -> None:\n",
    "    if n % 2 == 0:\n",
    "        print(f\"{n} est pair\")\n",
    "    else:\n",
    "        print(f\"{n} est impair\")"
   ]
  },
  {
   "attachments": {},
   "cell_type": "markdown",
   "metadata": {},
   "source": [
    "### Exercice n°2\n",
    "\n",
    "La fonction ci-dessous renvoie le prix TTC (toutes taxes comprises) à partir d'un prix HT (hors taxes) et du taux de TVA exprimé en pourcentage.\n",
    "\n",
    "```python\n",
    "def prixTTC(prixHT, taux):\n",
    "    return prixHT * (1 + taux / 100)\n",
    "```\n",
    "\n",
    "Améliorer le code précédent en précisant le typage de chaque paramètre et en documentant cette fonction.\n"
   ]
  },
  {
   "cell_type": "code",
   "execution_count": 7,
   "metadata": {},
   "outputs": [],
   "source": [
    "def prixTTC(prixHT: float, taux: float) -> float:\n",
    "    \"\"\"calcule le prix TTC d'un produit à partir de son prix hors taxe et du taux de TVA\n",
    "\n",
    "    Args:\n",
    "        prixHT (float): prix hors taxe du produit\n",
    "        taux (float): taux de TVA (20 si le taux est de 20%)\n",
    "\n",
    "    Returns:\n",
    "        float: le prix TTC du produit\n",
    "    \"\"\"\n",
    "    return prixHT * (1 + taux / 100)\n"
   ]
  },
  {
   "attachments": {},
   "cell_type": "markdown",
   "metadata": {},
   "source": [
    "### Exercice n°3\n",
    "\n",
    "1. Copier cette fonction dans un éditeur python puis l'exécuter. Que signifie l'erreur signalée ?\n",
    "\n",
    "```python\n",
    "def val_abs(a, b):\n",
    "    if a - b > 0:\n",
    "        return a - b\n",
    "    else\n",
    "        return b - a\n",
    "```\n"
   ]
  },
  {
   "cell_type": "code",
   "execution_count": 8,
   "metadata": {},
   "outputs": [
    {
     "ename": "SyntaxError",
     "evalue": "expected ':' (2834722910.py, line 4)",
     "output_type": "error",
     "traceback": [
      "\u001b[0;36m  Cell \u001b[0;32mIn[8], line 4\u001b[0;36m\u001b[0m\n\u001b[0;31m    else\u001b[0m\n\u001b[0m        ^\u001b[0m\n\u001b[0;31mSyntaxError\u001b[0m\u001b[0;31m:\u001b[0m expected ':'\n"
     ]
    }
   ],
   "source": [
    "def val_abs(a, b):\n",
    "    if a - b > 0:\n",
    "        return a - b\n",
    "    else\n",
    "        return b - a"
   ]
  },
  {
   "attachments": {},
   "cell_type": "markdown",
   "metadata": {},
   "source": [
    "**Correction**: il s'agit d'une erreur de syntaxe car il manque les \":\" à la fin de la ligne 4\n"
   ]
  },
  {
   "attachments": {},
   "cell_type": "markdown",
   "metadata": {},
   "source": [
    "2. Corriger cette erreur.\n"
   ]
  },
  {
   "cell_type": "code",
   "execution_count": 9,
   "metadata": {},
   "outputs": [],
   "source": [
    "def val_abs(a, b):\n",
    "    if a - b > 0:\n",
    "        return a - b\n",
    "    else:\n",
    "        return b - a\n"
   ]
  },
  {
   "attachments": {},
   "cell_type": "markdown",
   "metadata": {},
   "source": [
    "### Exercice n°4\n",
    "\n",
    "1. Copier le code de cette fonction dans un éditeur python puis l'exécuter.\n",
    "\n",
    "```python\n",
    "def multi(a, b):\n",
    "    while b > 0:\n",
    "        result = result + a\n",
    "        b = b - 1\n",
    "    return result\n",
    "```\n"
   ]
  },
  {
   "cell_type": "code",
   "execution_count": 10,
   "metadata": {},
   "outputs": [],
   "source": [
    "def multi(a, b):\n",
    "    while b > 0:\n",
    "        result = result + a\n",
    "        b = b - 1\n",
    "    return result\n"
   ]
  },
  {
   "attachments": {},
   "cell_type": "markdown",
   "metadata": {},
   "source": [
    "2. Effectuer un appel à la fonction `multi`. Que signifie l'erreur signalée ?\n"
   ]
  },
  {
   "cell_type": "code",
   "execution_count": 11,
   "metadata": {},
   "outputs": [
    {
     "ename": "UnboundLocalError",
     "evalue": "cannot access local variable 'result' where it is not associated with a value",
     "output_type": "error",
     "traceback": [
      "\u001b[0;31m---------------------------------------------------------------------------\u001b[0m",
      "\u001b[0;31mUnboundLocalError\u001b[0m                         Traceback (most recent call last)",
      "Cell \u001b[0;32mIn[11], line 1\u001b[0m\n\u001b[0;32m----> 1\u001b[0m multi(\u001b[39m4\u001b[39;49m, \u001b[39m5\u001b[39;49m)\n",
      "Cell \u001b[0;32mIn[10], line 3\u001b[0m, in \u001b[0;36mmulti\u001b[0;34m(a, b)\u001b[0m\n\u001b[1;32m      1\u001b[0m \u001b[39mdef\u001b[39;00m \u001b[39mmulti\u001b[39m(a, b):\n\u001b[1;32m      2\u001b[0m     \u001b[39mwhile\u001b[39;00m b \u001b[39m>\u001b[39m \u001b[39m0\u001b[39m:\n\u001b[0;32m----> 3\u001b[0m         result \u001b[39m=\u001b[39m result \u001b[39m+\u001b[39m a\n\u001b[1;32m      4\u001b[0m         b \u001b[39m=\u001b[39m b \u001b[39m-\u001b[39m \u001b[39m1\u001b[39m\n\u001b[1;32m      5\u001b[0m     \u001b[39mreturn\u001b[39;00m result\n",
      "\u001b[0;31mUnboundLocalError\u001b[0m: cannot access local variable 'result' where it is not associated with a value"
     ]
    }
   ],
   "source": [
    "multi(4, 5)\n"
   ]
  },
  {
   "attachments": {},
   "cell_type": "markdown",
   "metadata": {},
   "source": [
    "**Correction**: On obtient une erreur de type `UnboundLocalError`. La variable `result` a été utilisée dans la boucle sans avoir été initialisée au préalable.\n"
   ]
  },
  {
   "attachments": {},
   "cell_type": "markdown",
   "metadata": {},
   "source": [
    "3. Corrigez ensuite cette erreur.\n"
   ]
  },
  {
   "cell_type": "code",
   "execution_count": 12,
   "metadata": {},
   "outputs": [
    {
     "name": "stdout",
     "output_type": "stream",
     "text": [
      "20\n"
     ]
    }
   ],
   "source": [
    "def multi(a, b):\n",
    "    result = 0\n",
    "    while b > 0:\n",
    "        result = result + a\n",
    "        b = b - 1\n",
    "    return result\n",
    "\n",
    "\n",
    "print(multi(4, 5))"
   ]
  },
  {
   "attachments": {},
   "cell_type": "markdown",
   "metadata": {},
   "source": [
    "### Exercice n°5\n",
    "\n",
    "Dans la fonction ci-dessous, quelle précondition permet de garantir que la boucle `while` se termine ?\n",
    "\n",
    "```python\n",
    "def seuil(u0, r):\n",
    "    # assert ...\n",
    "    n = 0\n",
    "    u = u0\n",
    "    while u < 1000 :\n",
    "        u = u + r\n",
    "        n = n + 1\n",
    "    return n\n",
    "```\n"
   ]
  },
  {
   "cell_type": "code",
   "execution_count": 13,
   "metadata": {},
   "outputs": [
    {
     "name": "stdout",
     "output_type": "stream",
     "text": [
      "100\n"
     ]
    },
    {
     "ename": "AssertionError",
     "evalue": "r doit être strictement positif",
     "output_type": "error",
     "traceback": [
      "\u001b[0;31m---------------------------------------------------------------------------\u001b[0m",
      "\u001b[0;31mAssertionError\u001b[0m                            Traceback (most recent call last)",
      "Cell \u001b[0;32mIn[13], line 11\u001b[0m\n\u001b[1;32m      8\u001b[0m     \u001b[39mreturn\u001b[39;00m n\n\u001b[1;32m     10\u001b[0m \u001b[39mprint\u001b[39m(seuil(\u001b[39m5\u001b[39m, \u001b[39m10\u001b[39m))\n\u001b[0;32m---> 11\u001b[0m \u001b[39mprint\u001b[39m(seuil(\u001b[39m4\u001b[39;49m, \u001b[39m-\u001b[39;49m\u001b[39m2\u001b[39;49m))\n",
      "Cell \u001b[0;32mIn[13], line 2\u001b[0m, in \u001b[0;36mseuil\u001b[0;34m(u0, r)\u001b[0m\n\u001b[1;32m      1\u001b[0m \u001b[39mdef\u001b[39;00m \u001b[39mseuil\u001b[39m(u0, r):\n\u001b[0;32m----> 2\u001b[0m     \u001b[39massert\u001b[39;00m r \u001b[39m>\u001b[39m \u001b[39m0\u001b[39m, \u001b[39m\"\u001b[39m\u001b[39mr doit être strictement positif\u001b[39m\u001b[39m\"\u001b[39m\n\u001b[1;32m      3\u001b[0m     n \u001b[39m=\u001b[39m \u001b[39m0\u001b[39m\n\u001b[1;32m      4\u001b[0m     u \u001b[39m=\u001b[39m u0\n",
      "\u001b[0;31mAssertionError\u001b[0m: r doit être strictement positif"
     ]
    }
   ],
   "source": [
    "def seuil(u0, r):\n",
    "    assert r > 0, \"r doit être strictement positif\"\n",
    "    n = 0\n",
    "    u = u0\n",
    "    while u < 1000:\n",
    "        u = u + r\n",
    "        n = n + 1\n",
    "    return n\n",
    "\n",
    "\n",
    "print(seuil(5, 10))\n",
    "print(seuil(4, -2))"
   ]
  },
  {
   "attachments": {},
   "cell_type": "markdown",
   "metadata": {},
   "source": [
    "### Exercice n°6\n",
    "\n",
    "1. On décide de ranger des oeufs dans des boîtes de six. Programmer la fonction `nb_boites(n:int) -> int` qui prend en paramètre un entier `n` correspondant à un nombre d’oeufs et renvoie le nombre de boîtes nécessaires pour ranger les oeufs.\n",
    "2. Vérifier que la fonction est correcte grâce aux tests suivants:\n",
    "\n",
    "```python\n",
    "assert nb_boites(8) == 2\n",
    "assert nb_boites(3) == 1\n",
    "assert nb_boites(6) == 1\n",
    "assert nb_boites(38) == 7\n",
    "assert nb_boites(600) == 100\n",
    "assert nb_boites(601) == 101\n",
    "assert nb_boites(0) == 0\n",
    "```\n",
    "\n",
    "3. Documenter la fonction et rajouter une précondition sur `n`.\n"
   ]
  },
  {
   "cell_type": "code",
   "execution_count": 14,
   "metadata": {},
   "outputs": [],
   "source": [
    "from math import ceil\n",
    "\n",
    "\n",
    "def nb_boites(n: int) -> int:\n",
    "    \"\"\"calcule le nombre de boites de 6 oeufs nécessaire pour ranger un nombre donné d'oeufs\n",
    "\n",
    "    Args:\n",
    "        n (int): nombre d'oeufs (n >= 0)\n",
    "\n",
    "    Returns:\n",
    "        int: nombre de boites pour stocker les oeufs\n",
    "    \"\"\"\n",
    "    assert type(n) == int and n >= 0\n",
    "\n",
    "    return ceil(n / 6)\n",
    "\n",
    "\n",
    "assert nb_boites(8) == 2\n",
    "assert nb_boites(3) == 1\n",
    "assert nb_boites(6) == 1\n",
    "assert nb_boites(38) == 7\n",
    "assert nb_boites(600) == 100\n",
    "assert nb_boites(601) == 101\n",
    "assert nb_boites(0) == 0"
   ]
  },
  {
   "attachments": {},
   "cell_type": "markdown",
   "metadata": {},
   "source": [
    "### Exercice n°7\n",
    "\n",
    "On donne ci-dessous la définition d'une fonction `somme_impair()`.\n",
    "\n",
    "```python\n",
    "def somme_impair(n: int) -> int:\n",
    "    \"\"\"calcule la somme des n premiers entiers impairs\n",
    "\n",
    "    Args:\n",
    "        n (int): entier strictement positif\n",
    "\n",
    "    Returns:\n",
    "        int: somme des n premiers entiers impairs\n",
    "    \"\"\"\n",
    "\n",
    "    s = 0\n",
    "    for i in range(n):\n",
    "        s = s + 2*i+1\n",
    "    return s\n",
    "```\n",
    "\n",
    "Ajoutez une assertion pour renforcer les spécifications de cette fonction.\n"
   ]
  },
  {
   "cell_type": "code",
   "execution_count": 15,
   "metadata": {},
   "outputs": [],
   "source": [
    "def somme_impair(n: int) -> int:\n",
    "    \"\"\"calcule la somme des n premiers entiers impairs\n",
    "\n",
    "    Args:\n",
    "        n (int): entier strictement positif\n",
    "\n",
    "    Returns:\n",
    "        int: somme des n premiers entiers impairs\n",
    "    \"\"\"\n",
    "\n",
    "    assert (\n",
    "        type(n) == int and n > 0\n",
    "    ), \"le paramètre doit être un entier strictement positif\"\n",
    "\n",
    "    s = 0\n",
    "    for i in range(n):\n",
    "        s = s + 2 * i + 1\n",
    "    return s"
   ]
  },
  {
   "attachments": {},
   "cell_type": "markdown",
   "metadata": {},
   "source": [
    "### Exercice n°8\n",
    "\n",
    "Une expression est bien parenthésée si les parenthèses `\"()\"`, les crochets `\"[]\"` et les accolades `\"{}\"` sont correctement appairés. Considérons une fonction `est_valide(s)` qui prend une chaîne de caractères représentant une expression, et renvoie `True` si celle-ci est bien parenthésée, et `False` sinon.\n",
    "\n",
    "Un jeu possible de tests pour cette fonction est le suivant :\n",
    "\n",
    "```python\n",
    "assert est_valide(\"(x[x+y])-1\"), \"echec pour s = (x[x+y])-1\"\n",
    "assert est_valide(\"{([]){}()}\"), \"echec pour s = {([]){}()}\"\n",
    "assert est_valide(\"x[][]y()\"), \"echec pour s = x[][]y()\"\n",
    "assert not est_valide(\"{(x+y)]\"), \"echec pour s = {(x+y)]\"\n",
    "assert not est_valide(\"((()\"), \"echec pour s = ((()\"\n",
    "```\n",
    "\n",
    "1. Vérifier que ce jeu de tests ne suffit pas à mettre en défaut la fonction ci-dessous.\n",
    "\n",
    "```python\n",
    "def est_valide(s):\n",
    "    cpt1, cpt2, cpt3 = 0, 0, 0\n",
    "    for c in s:\n",
    "        if c == \"(\":\n",
    "            cpt1 += 1\n",
    "        elif c == \")\":\n",
    "            cpt1 -= 1\n",
    "        elif c == \"[\":\n",
    "            cpt2 += 1\n",
    "        elif c == \"]\":\n",
    "            cpt2 -= 1\n",
    "        elif c == \"{\":\n",
    "            cpt3 += 1\n",
    "        elif c == \"}\":\n",
    "            cpt3 -= 1\n",
    "    return cpt1 == 0 and cpt2 == 0 and cpt3 == 0\n",
    "```\n"
   ]
  },
  {
   "cell_type": "code",
   "execution_count": 16,
   "metadata": {},
   "outputs": [],
   "source": [
    "def est_valide(s):\n",
    "    cpt1, cpt2, cpt3 = 0, 0, 0\n",
    "    for c in s:\n",
    "        if c == \"(\":\n",
    "            cpt1 += 1\n",
    "        elif c == \")\":\n",
    "            cpt1 -= 1\n",
    "        elif c == \"[\":\n",
    "            cpt2 += 1\n",
    "        elif c == \"]\":\n",
    "            cpt2 -= 1\n",
    "        elif c == \"{\":\n",
    "            cpt3 += 1\n",
    "        elif c == \"}\":\n",
    "            cpt3 -= 1\n",
    "    return cpt1 == 0 and cpt2 == 0 and cpt3 == 0\n",
    "\n",
    "\n",
    "assert est_valide(\"(x[x+y])-1\"), \"echec pour s = (x[x+y])-1\"\n",
    "assert est_valide(\"{([]){}()}\"), \"echec pour s = {([]){}()}\"\n",
    "assert est_valide(\"x[][]y()\"), \"echec pour s = x[][]y()\"\n",
    "assert not est_valide(\"{(x+y)]\"), \"echec pour s = {(x+y)]\"\n",
    "assert not est_valide(\"((()\"), \"echec pour s = ((()\""
   ]
  },
  {
   "attachments": {},
   "cell_type": "markdown",
   "metadata": {},
   "source": [
    "2. Comment compléter le jeu de tests pour qu'il invalide cette fonction ?\n"
   ]
  },
  {
   "attachments": {},
   "cell_type": "markdown",
   "metadata": {},
   "source": [
    "**Correction**: La fonction précédente vérifie qu'il y a autant de parenthèses ouvrantes que de parenthèses fermantes, et de même pour les crochets et les accolades. Par contre, elle ne vérifie pas dans quel ordre ces parenthèses, crochets et accolades sont ouverts et fermés. On peut prendre par exemple la condition suivante pour vérifier que la fonction `est_valide` n'est pas correcte:\n",
    "\n",
    "```python\n",
    "assert not est_valide(\"([)]\"), \"echec pour s = ([)]\"\n",
    "```\n"
   ]
  },
  {
   "cell_type": "code",
   "execution_count": 17,
   "metadata": {},
   "outputs": [
    {
     "ename": "AssertionError",
     "evalue": "echec pour s = ([)]",
     "output_type": "error",
     "traceback": [
      "\u001b[0;31m---------------------------------------------------------------------------\u001b[0m",
      "\u001b[0;31mAssertionError\u001b[0m                            Traceback (most recent call last)",
      "Cell \u001b[0;32mIn[17], line 1\u001b[0m\n\u001b[0;32m----> 1\u001b[0m \u001b[39massert\u001b[39;00m \u001b[39mnot\u001b[39;00m est_valide(\u001b[39m\"\u001b[39m\u001b[39m([)]\u001b[39m\u001b[39m\"\u001b[39m), \u001b[39m\"\u001b[39m\u001b[39mechec pour s = ([)]\u001b[39m\u001b[39m\"\u001b[39m\n",
      "\u001b[0;31mAssertionError\u001b[0m: echec pour s = ([)]"
     ]
    }
   ],
   "source": [
    "assert not est_valide(\"([)]\"), \"echec pour s = ([)]\"\n"
   ]
  },
  {
   "cell_type": "code",
   "execution_count": 18,
   "metadata": {},
   "outputs": [],
   "source": [
    "def est_valide2(s: str) -> bool:\n",
    "    \"\"\"teste si une expression est bien parenthésée\n",
    "\n",
    "    Args:\n",
    "        s (str): une chaîne de caractères représentant une expression mathématique\n",
    "    Returns:\n",
    "        bool: True si s est bien parenthésée, False sinon\n",
    "    \"\"\"\n",
    "    correspondance = {\"(\": \")\", \"{\": \"}\", \"[\": \"]\"}\n",
    "\n",
    "    pile = []\n",
    "    for c in s:\n",
    "        if c in \"({[\":\n",
    "            pile.append(c)\n",
    "        elif c in \")}]\":\n",
    "            if pile == [] or c != correspondance[pile[-1]]:\n",
    "                return False\n",
    "            else:\n",
    "                pile.pop()\n",
    "    return pile == []\n",
    "\n",
    "\n",
    "assert est_valide2(\"(x[x+y])-1\"), \"echec pour s = (x[x+y])-1\"\n",
    "assert est_valide2(\"{([]){}()}\"), \"echec pour s = {([]){}()}\"\n",
    "assert est_valide2(\"x[][]y()\"), \"echec pour s = x[][]y()\"\n",
    "assert not est_valide2(\"{(x+y)]\"), \"echec pour s = {(x+y)]\"\n",
    "assert not est_valide2(\"((()\"), \"echec pour s = ((()\"\n",
    "assert not est_valide2(\"([)]\"), \"echec pour s = ([)]\""
   ]
  },
  {
   "attachments": {},
   "cell_type": "markdown",
   "metadata": {},
   "source": [
    "### Exercice n°9\n",
    "\n",
    "La fonction `is_prime_dumb` (_dumb_ = stupide) ci-dessous est censée (?) renvoyer la valeur `True` lorsque le paramètre `n` est un nombre premier, et `False` sinon.\n",
    "\n",
    "```python\n",
    "def is_prime_dumb(n):\n",
    "    if n % 1 == 0 and n % n == 0 : # si n est divisible par 1 et par lui-meme\n",
    "        return True\n",
    "    else :\n",
    "        return False\n",
    "```\n",
    "\n",
    "Pour mettre en évidence les défauts de cette fonction, on considère les jeux de tests suivants :\n",
    "\n",
    "**Jeu n°1**\n",
    "\n",
    "```python\n",
    "assert is_prime_dumb(17), \"echec pour n = 17\"\n",
    "```\n",
    "\n",
    "**Jeu n°2**\n",
    "\n",
    "```python\n",
    "assert not is_prime_dumb(16), \"echec pour n = 16\"\n",
    "```\n",
    "\n",
    "**Jeu n°3**\n",
    "\n",
    "```python\n",
    "for n in [2, 3, 5, 7, 11, 13, 17, 19]:\n",
    "    assert is_prime_dumb(n), \"echec pour n = \" + str(n)\n",
    "```\n",
    "\n",
    "**Jeu n°4**\n",
    "\n",
    "```python\n",
    "for n in range(2, 20):\n",
    "    if n in [2, 3, 5, 7, 11, 13, 17, 19]:\n",
    "        prime = True\n",
    "    else :\n",
    "        prime = False\n",
    "    assert is_prime_dumb(n) == prime, \"echec pour n = \" + str(n)\n",
    "```\n",
    "\n",
    "1. Parmi ces jeux de tests, lesquels sont à même de montrer que la fonction `is_prime_dumb` n'est pas correcte ?\n"
   ]
  },
  {
   "attachments": {},
   "cell_type": "markdown",
   "metadata": {},
   "source": [
    "**Correction** :\n",
    "\n",
    "La fonction `is_prime_dumb` renvoie `True` pour tous les entiers non nuls car tout entier non nul est divisible par 1 et lui-même. Pour montrer que la fonction `is_prime_dumb` est correcte, il faut donc tester sur un contre-exemple. Les jeux n°2 et n°4 permettent de montrer que la fonction n'est pas correcte.\n"
   ]
  },
  {
   "cell_type": "code",
   "execution_count": 19,
   "metadata": {},
   "outputs": [],
   "source": [
    "def is_prime_dumb(n):\n",
    "    if n % 1 == 0 and n % n == 0:  # si n est divisible par 1 et par lui-meme\n",
    "        return True\n",
    "    else:\n",
    "        return False\n",
    "\n",
    "\n",
    "# Jeu n°1\n",
    "assert is_prime_dumb(17), \"echec pour n = 17\""
   ]
  },
  {
   "cell_type": "code",
   "execution_count": 20,
   "metadata": {},
   "outputs": [
    {
     "ename": "AssertionError",
     "evalue": "echec pour n = 16",
     "output_type": "error",
     "traceback": [
      "\u001b[0;31m---------------------------------------------------------------------------\u001b[0m",
      "\u001b[0;31mAssertionError\u001b[0m                            Traceback (most recent call last)",
      "Cell \u001b[0;32mIn[20], line 2\u001b[0m\n\u001b[1;32m      1\u001b[0m \u001b[39m# Jeu n°2\u001b[39;00m\n\u001b[0;32m----> 2\u001b[0m \u001b[39massert\u001b[39;00m \u001b[39mnot\u001b[39;00m is_prime_dumb(\u001b[39m16\u001b[39m), \u001b[39m\"\u001b[39m\u001b[39mechec pour n = 16\u001b[39m\u001b[39m\"\u001b[39m\n",
      "\u001b[0;31mAssertionError\u001b[0m: echec pour n = 16"
     ]
    }
   ],
   "source": [
    "# Jeu n°2\n",
    "assert not is_prime_dumb(16), \"echec pour n = 16\"\n"
   ]
  },
  {
   "cell_type": "code",
   "execution_count": 21,
   "metadata": {},
   "outputs": [],
   "source": [
    "# Jeu n°3\n",
    "for n in [2, 3, 5, 7, 11, 13, 17, 19]:\n",
    "    assert is_prime_dumb(n), \"echec pour n = \" + str(n)\n"
   ]
  },
  {
   "cell_type": "code",
   "execution_count": 22,
   "metadata": {},
   "outputs": [
    {
     "ename": "AssertionError",
     "evalue": "echec pour n = 4",
     "output_type": "error",
     "traceback": [
      "\u001b[0;31m---------------------------------------------------------------------------\u001b[0m",
      "\u001b[0;31mAssertionError\u001b[0m                            Traceback (most recent call last)",
      "Cell \u001b[0;32mIn[22], line 7\u001b[0m\n\u001b[1;32m      5\u001b[0m \u001b[39melse\u001b[39;00m :\n\u001b[1;32m      6\u001b[0m     prime \u001b[39m=\u001b[39m \u001b[39mFalse\u001b[39;00m\n\u001b[0;32m----> 7\u001b[0m \u001b[39massert\u001b[39;00m is_prime_dumb(n) \u001b[39m==\u001b[39m prime, \u001b[39m\"\u001b[39m\u001b[39mechec pour n = \u001b[39m\u001b[39m\"\u001b[39m \u001b[39m+\u001b[39m \u001b[39mstr\u001b[39m(n)\n",
      "\u001b[0;31mAssertionError\u001b[0m: echec pour n = 4"
     ]
    }
   ],
   "source": [
    "# Jeu n°4\n",
    "for n in range(2, 20):\n",
    "    if n in [2, 3, 5, 7, 11, 13, 17, 19]:\n",
    "        prime = True\n",
    "    else:\n",
    "        prime = False\n",
    "    assert is_prime_dumb(n) == prime, \"echec pour n = \" + str(n)"
   ]
  },
  {
   "attachments": {},
   "cell_type": "markdown",
   "metadata": {},
   "source": [
    "2. Quel jeu de tests vous paraît le plus fiable ?\n"
   ]
  },
  {
   "attachments": {},
   "cell_type": "markdown",
   "metadata": {},
   "source": [
    "**Correction**:\n",
    "\n",
    "Le jeu n°4 est plus fiable que le jeu n°2 car il teste plus de valeurs, avec à la fois des exemples et des contre-exemples.\n"
   ]
  },
  {
   "attachments": {},
   "cell_type": "markdown",
   "metadata": {},
   "source": [
    "3. On considère maintenant la fonction suivante :\n",
    "\n",
    "```python\n",
    "def is_prime_2(n):\n",
    "    return n == 2 or 2**n % n == 2\n",
    "```\n",
    "\n",
    "a. Vérifier que cette fonction passe avec succès tous les jeux de tests présentés.\n"
   ]
  },
  {
   "cell_type": "code",
   "execution_count": 23,
   "metadata": {},
   "outputs": [],
   "source": [
    "def is_prime_2(n):\n",
    "    return n == 2 or 2**n % n == 2\n",
    "\n",
    "\n",
    "# Jeu n°1\n",
    "assert is_prime_2(17), \"echec pour n = 17\"\n",
    "\n",
    "# Jeu n°2\n",
    "assert not is_prime_2(16), \"echec pour n = 16\"\n",
    "\n",
    "# Jeu n°3\n",
    "for n in [2, 3, 5, 7, 11, 13, 17, 19]:\n",
    "    assert is_prime_2(n), \"echec pour n = \" + str(n)\n",
    "\n",
    "# Jeu n°4\n",
    "for n in range(2, 20):\n",
    "    if n in [2, 3, 5, 7, 11, 13, 17, 19]:\n",
    "        prime = True\n",
    "    else:\n",
    "        prime = False\n",
    "    assert is_prime_2(n) == prime, \"echec pour n = \" + str(n)"
   ]
  },
  {
   "attachments": {},
   "cell_type": "markdown",
   "metadata": {},
   "source": [
    "b. Mettre en défaut cette fonction en trouvant un contre-exemple.\n"
   ]
  },
  {
   "cell_type": "code",
   "execution_count": 24,
   "metadata": {},
   "outputs": [
    {
     "name": "stdout",
     "output_type": "stream",
     "text": [
      "341\n"
     ]
    }
   ],
   "source": [
    "from math import sqrt, floor\n",
    "\n",
    "\n",
    "def premier(n):\n",
    "    if n < 2:\n",
    "        return False\n",
    "    for i in range(2, floor(sqrt(n) + 1)):\n",
    "        if n % i == 0:\n",
    "            return False\n",
    "    return True\n",
    "\n",
    "\n",
    "i = 2\n",
    "while premier(i) or not is_prime_2(i):\n",
    "    i += 1\n",
    "print(i)"
   ]
  },
  {
   "attachments": {},
   "cell_type": "markdown",
   "metadata": {},
   "source": [
    "### Exercice n°10\n",
    "\n",
    "La fonction `meme_signe(a, b)` doit renvoyer `True` lorsque `a` et `b` sont des entiers de même signe et `False` dans le cas contraire. On considère que 0 est positif et négatif.\n",
    "\n",
    "1. Complétez le corps de cette fonction en respectant ses spécifications. Remplacez l'instruction pass par une assertion pour vérifier que les paramètres saisis sont bien des entiers.\n",
    "\n",
    "```python\n",
    "def meme_signe(a: int, b: int) -> bool:\n",
    "    \"\"\"vérifie si deux nombres sont de même signe\n",
    "\n",
    "    Args:\n",
    "        a (int): un entier\n",
    "        b (int): un entier\n",
    "\n",
    "    Returns:\n",
    "        bool: True si a et b sont de même signe, False sinon\n",
    "    \"\"\"\n",
    "    pass\n",
    "```\n"
   ]
  },
  {
   "cell_type": "code",
   "execution_count": 25,
   "metadata": {},
   "outputs": [],
   "source": [
    "def meme_signe(a: int, b: int) -> bool:\n",
    "    \"\"\"vérifie si deux nombres sont de même signe\n",
    "\n",
    "    Args:\n",
    "        a (int): un entier\n",
    "        b (int): un entier\n",
    "\n",
    "    Returns:\n",
    "        bool: True si a et b sont de même signe, False sinon\n",
    "    \"\"\"\n",
    "    assert type(a) == int and type(b) == int, \"les paramètres doivent être des entiers\"\n",
    "\n",
    "    return a * b >= 0"
   ]
  },
  {
   "attachments": {},
   "cell_type": "markdown",
   "metadata": {},
   "source": [
    "2. Ajoutez un jeu de test pour vérifier la validité de votre fonction. Testez votre programme en l'exécutant et vérifier que les tests ne renvoient aucune erreur.\n"
   ]
  },
  {
   "cell_type": "code",
   "execution_count": 26,
   "metadata": {},
   "outputs": [],
   "source": [
    "assert meme_signe(2, 4)\n",
    "assert not meme_signe(-2, 4)\n",
    "assert not meme_signe(6, -5)\n",
    "assert meme_signe(-4, -2)\n",
    "assert meme_signe(0, -3)\n"
   ]
  }
 ],
 "metadata": {
  "kernelspec": {
   "display_name": "Python 3",
   "language": "python",
   "name": "python3"
  },
  "language_info": {
   "codemirror_mode": {
    "name": "ipython",
    "version": 3
   },
   "file_extension": ".py",
   "mimetype": "text/x-python",
   "name": "python",
   "nbconvert_exporter": "python",
   "pygments_lexer": "ipython3",
   "version": "3.11.4"
  },
  "orig_nbformat": 4,
  "vscode": {
   "interpreter": {
    "hash": "aee8b7b246df8f9039afb4144a1f6fd8d2ca17a180786b69acc140d282b71a49"
   }
  }
 },
 "nbformat": 4,
 "nbformat_minor": 2
}
