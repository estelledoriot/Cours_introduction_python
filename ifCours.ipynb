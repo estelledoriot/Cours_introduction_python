{
 "cells": [
  {
   "attachments": {},
   "cell_type": "markdown",
   "metadata": {},
   "source": [
    "**Estelle Doriot**\n",
    "\n",
    "_NSI 1ère_\n",
    "\n",
    "---\n",
    "# Cours : Structures conditionnelles\n",
    "---\n",
    "\n",
    "## If \n",
    "\n",
    "**Exemple** : On demande à une personne son âge pour savoir si elle peut voir un film interdit aux moins de 16 ans. Si cette personne a plus de 16 ans, on lui répond \"OK, vous pouvez voir ce film\". Si elle a moins de 16 ans, on lui répond \"Désolé, vous êtes trop jeune pour voir ce film\"."
   ]
  },
  {
   "cell_type": "code",
   "execution_count": 1,
   "metadata": {},
   "outputs": [
    {
     "name": "stdout",
     "output_type": "stream",
     "text": [
      "Désolé, vous êtes trop jeune pour voir ce film\n"
     ]
    }
   ],
   "source": [
    "age = int(input(\"Quel est votre âge ?\"))\n",
    "if age >= 16:\n",
    "    print(\"OK, vous pouvez voir ce film\")\n",
    "if age < 16:\n",
    "    print(\"Désolé, vous êtes trop jeune pour voir ce film\")"
   ]
  },
  {
   "attachments": {},
   "cell_type": "markdown",
   "metadata": {},
   "source": [
    "## If ... else"
   ]
  },
  {
   "cell_type": "code",
   "execution_count": 2,
   "metadata": {},
   "outputs": [
    {
     "name": "stdout",
     "output_type": "stream",
     "text": [
      "Désolé, vous êtes trop jeune pour voir ce film\n"
     ]
    }
   ],
   "source": [
    "age = int(input(\"Quel est votre âge ?\"))\n",
    "if age >= 16:\n",
    "    print(\"OK, vous pouvez voir ce film\")\n",
    "else:\n",
    "    print(\"Désolé, vous êtes trop jeune pour voir ce film\")"
   ]
  },
  {
   "attachments": {},
   "cell_type": "markdown",
   "metadata": {},
   "source": [
    "## if ... elif ... else\n",
    "\n",
    "**Exemple** : On veut compléter le programme précédent en affichant \"Patience, tu as presque l'âge requis\" pour les personnes de 14 et 15 ans."
   ]
  },
  {
   "cell_type": "code",
   "execution_count": 3,
   "metadata": {},
   "outputs": [
    {
     "name": "stdout",
     "output_type": "stream",
     "text": [
      "Patience, tu as presque l'âge requis\n"
     ]
    }
   ],
   "source": [
    "age = int(input(\"Quel est votre âge ?\"))\n",
    "if age >= 16:\n",
    "    print(\"OK, vous pouvez voir ce film\")\n",
    "elif age >= 14:\n",
    "    print(\"Patience, tu as presque l'âge requis\")\n",
    "else:\n",
    "    print(\"Désolé, vous êtes trop jeune pour voir ce film\")"
   ]
  },
  {
   "attachments": {},
   "cell_type": "markdown",
   "metadata": {},
   "source": [
    "## Opérateurs booléens\n",
    "\n",
    "**Exemple** : Soit $a$, $b$, $c$ trois longueurs, il est possible de créer un triangle dont les trois côtés ont pour longueurs $a$, $b$ et $c$ si la longueur de chaque côté est inférieure à la somme des longueurs des deux autres côtés. Ecrire un programme qui demande à l'utilisateur trois longueurs et qui affiche si les trois nombres donnés peuvent être les côtés d'un triangle."
   ]
  },
  {
   "cell_type": "code",
   "execution_count": 4,
   "metadata": {},
   "outputs": [
    {
     "name": "stdout",
     "output_type": "stream",
     "text": [
      "C'est un triangle !\n"
     ]
    }
   ],
   "source": [
    "a = int(input(\"Longueur du premier côté: \"))\n",
    "b = int(input(\"Longueur du deuxième côté: \"))\n",
    "c = int(input(\"Longueur du troisième côté: \"))\n",
    "\n",
    "if (a <= b + c) and (b <= a + c) and (c <= a + b):\n",
    "    print(\"C'est un triangle !\")\n",
    "else : \n",
    "    print(\"Ce n'est pas un triangle\")"
   ]
  },
  {
   "attachments": {},
   "cell_type": "markdown",
   "metadata": {},
   "source": [
    "## Structures conditionnelles imbriquées"
   ]
  },
  {
   "cell_type": "code",
   "execution_count": 5,
   "metadata": {},
   "outputs": [
    {
     "name": "stdout",
     "output_type": "stream",
     "text": [
      "Température positive\n",
      "Il fait encore un peu frisquet.\n"
     ]
    }
   ],
   "source": [
    "t = float(input(\"Quelle est la température (°C): \"))\n",
    "\n",
    "if t <= 0:\n",
    "    print(\"Température négative ou nulle: risque de gel\")\n",
    "    if t < -10:\n",
    "        print(\"Oh là là, c'est le pôle nord ici !\")\n",
    "else:\n",
    "    print(\"Température positive\")\n",
    "    if t >= 25:\n",
    "        print(\"Sortez les t-shirts !\")\n",
    "    elif t > 18:\n",
    "        print(\"Il fait encore un peu frisquet.\")\n",
    "    else:\n",
    "        print(\"Mais garde ton manteau...\")"
   ]
  }
 ],
 "metadata": {
  "interpreter": {
   "hash": "aee8b7b246df8f9039afb4144a1f6fd8d2ca17a180786b69acc140d282b71a49"
  },
  "kernelspec": {
   "display_name": "Python 3.7.4 64-bit",
   "language": "python",
   "name": "python3"
  },
  "language_info": {
   "codemirror_mode": {
    "name": "ipython",
    "version": 3
   },
   "file_extension": ".py",
   "mimetype": "text/x-python",
   "name": "python",
   "nbconvert_exporter": "python",
   "pygments_lexer": "ipython3",
   "version": "3.11.4"
  },
  "orig_nbformat": 4
 },
 "nbformat": 4,
 "nbformat_minor": 2
}
