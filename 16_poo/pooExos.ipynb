{
 "cells": [
  {
   "attachments": {},
   "cell_type": "markdown",
   "metadata": {},
   "source": [
    "**Estelle Doriot**\n",
    "\n",
    "_NSI Tale_\n",
    "\n",
    "---\n",
    "\n",
    "# Exercices: Programmation orientée objet\n",
    "\n",
    "---\n"
   ]
  },
  {
   "attachments": {},
   "cell_type": "markdown",
   "metadata": {},
   "source": [
    "### Exercice n° 1: (Compte bancaire)\n",
    "\n",
    "Écrire une classe `CompteBancaire`.\n",
    "\n",
    "1. Les objets sont initialisés avec le nom du titulaire et le solde. L’argument solde doit être facultatif et avoir une valeur prédéfinie zéro.\n",
    "\n",
    "2. Ajouter deux méthodes `depot(self, somme)` et `retrait(self, somme)` pour changer le solde. La méthode `retrait` doit effectuer le retrait si le solde est suffisant (supérieur au montant qu'on souhaite retirer). Sinon elle doit afficher un message et ne pas effectuer le débit.\n",
    "\n",
    "3. Ajouter une méthode `get_solde(self)` qui montre le solde courant.\n",
    "\n",
    "4. Ajouter une méthode `est_positif(self)` qui renvoie `True` si le solde du compte est positif.\n",
    "\n",
    "5. Ecrire une méthode `__str__` qui permettra l'affichage avec `print`.\n",
    "\n",
    "6. Compléter le script en créant un compte, verser de l'argent puis effectuer un débit.\n"
   ]
  },
  {
   "cell_type": "code",
   "execution_count": 1,
   "metadata": {},
   "outputs": [
    {
     "name": "stdout",
     "output_type": "stream",
     "text": [
      "Compte de Jean Dupont - solde : 4800\n"
     ]
    }
   ],
   "source": [
    "class CompteBancaire:\n",
    "    def __init__(self, titulaire: str, solde: float = 0) -> None:\n",
    "        self.titulaire = titulaire\n",
    "        self.solde = solde\n",
    "\n",
    "    def depot(self, somme: float) -> None:\n",
    "        assert somme > 0\n",
    "        self.solde += somme\n",
    "\n",
    "    def retrait(self, somme: float) -> None:\n",
    "        assert somme > 0\n",
    "        if somme > self.solde:\n",
    "            print(\"Vous n'avez pas assez d'argent\")\n",
    "            return\n",
    "        self.solde -= somme\n",
    "\n",
    "    def get_solde(self) -> float:\n",
    "        return self.solde\n",
    "\n",
    "    def est_positif(self) -> bool:\n",
    "        return self.solde > 0\n",
    "\n",
    "    def __str__(self) -> str:\n",
    "        return f\"Compte de {self.titulaire} - solde : {self.solde}\"\n",
    "\n",
    "\n",
    "compte_1 = CompteBancaire(\"Jean Dupont\")\n",
    "compte_1.depot(5000)\n",
    "compte_1.retrait(200)\n",
    "print(compte_1)"
   ]
  },
  {
   "cell_type": "markdown",
   "metadata": {},
   "source": [
    "### Exercice n°2\n",
    "\n",
    "On suppose écrites les classes Piece et Appartement, dont on vous donne les en-têtes de méthodes :\n",
    "\n",
    "```python\n",
    "class Piece:\n",
    "    def __init__(self, nom: str, surface: float):\n",
    "        self.nom = nom\n",
    "        self.surface = surface\n",
    "\n",
    "    # Accesseurs: retournent les attributs d'un objet de cette classe\n",
    "    def get_surface(self) -> float:\n",
    "        return self.surface\n",
    "\n",
    "    def get_nom(self) -> str:\n",
    "        return self.nom\n",
    "\n",
    "    # Mutateur\n",
    "    def set_surface(self, s: float):\n",
    "        ...\n",
    "\n",
    "class Appartement:\n",
    "    def __init__(self, nom: str):\n",
    "        # L'objet est une liste de pièces (objets issus de la classe Piece)\n",
    "        self.liste_pieces = []\n",
    "        self.nom = nom\n",
    "\n",
    "    def get_nom(self) -> str:\n",
    "        # Accesseurs:\n",
    "        return self.nom\n",
    "\n",
    "    # pour ajouter une pièce de classe Piece\n",
    "    def ajouter(self, piece: Piece):\n",
    "        ...\n",
    "\n",
    "    # pour avoir le nombre de pièces de l'appartement\n",
    "    def nb_pieces(self):\n",
    "        ...\n",
    "\n",
    "    # retourne la surface totale de l'appartement (un float)\n",
    "    def surface_totale(self):\n",
    "        ...\n",
    "\n",
    "    # retourne la liste des pièces avec les surfaces\n",
    "    def get_liste_pieces(self): # sous forme d'une liste de tuples\n",
    "        ...\n",
    "```\n",
    "\n",
    "1. Écrire les méthodes constructeurs des deux classes.\n",
    "2. Finaliser la classe Piece. Écrire les méthodes accesseurs et mutateurs de la classe Piece.\n",
    "3. Finaliser la classe Appartement.\n",
    "\n",
    "(a) Écrire la méthode qui permet d’ajouter une pièce |ajouter(self, piece)| de la liste de pièces présentes dans l’appartement.\n",
    "\n",
    "(b) Écrire la méthode qui permet de retourner le nombre de pièces |nb_pieces(self)| présentes dans l’appartement.\n",
    "\n",
    "(c) Écrire la méthode |surface_totale(self)|, qui renvoie la surface totale de l’appartement.\n",
    "\n",
    "(d) Écrire la méthode |get_liste_pieces(self)|, qui renvoie la liste des pièces de l’appartement.\n"
   ]
  },
  {
   "cell_type": "code",
   "execution_count": 43,
   "metadata": {},
   "outputs": [],
   "source": [
    "class Piece:\n",
    "    def __init__(self, nom: str, surface: float) -> None:\n",
    "        self.nom = nom\n",
    "        self.surface = surface\n",
    "\n",
    "    # Accesseurs: retournent les attributs d'un objet de cette classe\n",
    "    def get_surface(self) -> float:\n",
    "        return self.surface\n",
    "\n",
    "    def get_nom(self) -> str:\n",
    "        return self.nom\n",
    "\n",
    "    # Mutateur\n",
    "    def set_surface(self, s: float) -> None:\n",
    "        assert s > 0\n",
    "        self.surface = s\n",
    "\n",
    "\n",
    "class Appartement:\n",
    "    def __init__(self, nom: str) -> None:\n",
    "        self.liste_pieces = []\n",
    "        self.nom = nom\n",
    "\n",
    "    # Accesseurs:\n",
    "    def get_nom(self) -> str:\n",
    "        return self.nom\n",
    "\n",
    "    # pour ajouter une pièce de classe Piece\n",
    "    def ajouter(self, piece: Piece) -> None:\n",
    "        self.liste_pieces.append(piece)\n",
    "\n",
    "    # pour avoir le nombre de pièces de l'appartement\n",
    "    def nb_pieces(self) -> int:\n",
    "        return len(self.liste_pieces)\n",
    "\n",
    "    # retourne la surface totale de l'appartement (un float)\n",
    "    def surface_totale(self) -> float:\n",
    "        return sum(piece.get_surface() for piece in self.liste_pieces)\n",
    "\n",
    "    # retourne la liste des pièces avec les surfaces\n",
    "    def get_liste_pieces(\n",
    "        self,\n",
    "    ) -> list[tuple[str, float]]:\n",
    "        return [(piece.get_nom(), piece.get_surface()) for piece in self.liste_pieces]"
   ]
  },
  {
   "cell_type": "markdown",
   "metadata": {},
   "source": [
    "4. créer une pièce « chambre1 », de surface 20 m2 et une pièce « chambre2 », de surface 15 m2.\n"
   ]
  },
  {
   "cell_type": "code",
   "execution_count": 44,
   "metadata": {},
   "outputs": [],
   "source": [
    "chambre1 = Piece(\"chambre1\", 20)\n",
    "chambre2 = Piece(\"chambre2\", 15)"
   ]
  },
  {
   "cell_type": "markdown",
   "metadata": {},
   "source": [
    "5. créer une pièce « séjour », de surface 25 m2 et une pièce « sdb », de surface 10 m2.\n"
   ]
  },
  {
   "cell_type": "code",
   "execution_count": 45,
   "metadata": {},
   "outputs": [],
   "source": [
    "sejour = Piece(\"séjour\", 25)\n",
    "sdb = Piece(\"sdb\", 10)"
   ]
  },
  {
   "cell_type": "markdown",
   "metadata": {},
   "source": [
    "6. créer une pièce « cuisine », de surface 12 m2.\n"
   ]
  },
  {
   "cell_type": "code",
   "execution_count": 39,
   "metadata": {},
   "outputs": [],
   "source": [
    "cuisine = Piece(\"cuisine\", 12)"
   ]
  },
  {
   "cell_type": "markdown",
   "metadata": {},
   "source": [
    "7. créer un appartement « appart205 » qui contiendra toutes les pièces créées.\n"
   ]
  },
  {
   "cell_type": "code",
   "execution_count": 46,
   "metadata": {},
   "outputs": [],
   "source": [
    "appart205 = Appartement(\"appart205\")\n",
    "appart205.ajouter(chambre1)\n",
    "appart205.ajouter(chambre2)\n",
    "appart205.ajouter(sejour)\n",
    "appart205.ajouter(sdb)\n",
    "appart205.ajouter(cuisine)"
   ]
  },
  {
   "cell_type": "markdown",
   "metadata": {},
   "source": [
    "8. afficher la surface totale de l’appartement créé.\n"
   ]
  },
  {
   "cell_type": "code",
   "execution_count": 47,
   "metadata": {},
   "outputs": [
    {
     "name": "stdout",
     "output_type": "stream",
     "text": [
      "82\n"
     ]
    }
   ],
   "source": [
    "print(appart205.surface_totale())"
   ]
  },
  {
   "cell_type": "markdown",
   "metadata": {},
   "source": [
    "9. afficher la liste des pièces et surfaces de l’appartement créé.\n"
   ]
  },
  {
   "cell_type": "code",
   "execution_count": 48,
   "metadata": {},
   "outputs": [
    {
     "name": "stdout",
     "output_type": "stream",
     "text": [
      "[('chambre1', 20), ('chambre2', 15), ('séjour', 25), ('sdb', 10), ('cuisine', 12)]\n"
     ]
    }
   ],
   "source": [
    "print(appart205.get_liste_pieces())"
   ]
  },
  {
   "attachments": {},
   "cell_type": "markdown",
   "metadata": {},
   "source": [
    "### Exercice n°3\n",
    "\n",
    "Dans un jeu de stratégie au tour par tour, les joueurs dirigent des équipes de guerriers qui vont se combattre. Un guerrier est connu par son nom et est caractérisé par :\n",
    "\n",
    "- `nom` : le nom du personnage\n",
    "- `pts_vie` : ses points de vie, qu'il perd au fur et à mesure des combats;\n",
    "- `force` : sa force, qui détermine la puissance des coups qu'il porte à ses adversaires;\n",
    "- `adresse` : son adresse, qui détermine son habileté à atteindre son adversaire, (valeur entre 0 et 100);\n",
    "- `nb_coups` : le nombre de coups qu'il peut porter lors d'une attaque;\n",
    "- `armure` : son armure, qui le protège et atténue les coups qu'il reçoit, (valeur entre 0 et 100).\n",
    "\n",
    "Nous modéliserons un guerrier en python par une classe `Personnage` dont les attributs seront les caractéristiques citées ci-dessus.\n",
    "\n",
    "1. Définir la classe `Personnage`.\n"
   ]
  },
  {
   "cell_type": "code",
   "execution_count": null,
   "metadata": {},
   "outputs": [],
   "source": [
    "class Personnage:\n",
    "    def __init__(\n",
    "        self,\n",
    "        nom: str,\n",
    "        pts_vie: int,\n",
    "        force: int,\n",
    "        adresse: int,\n",
    "        nb_coups: int,\n",
    "        armure: int,\n",
    "    ) -> None:\n",
    "        self.nom = nom\n",
    "        self.pts_vie = pts_vie\n",
    "        self.force = force\n",
    "        self.adresse = adresse\n",
    "        self.nb_coups = nb_coups\n",
    "        self.armure = armure"
   ]
  },
  {
   "cell_type": "markdown",
   "metadata": {},
   "source": [
    "On pourra définir les personnages suivants:\n",
    "\n",
    "```python\n",
    "perso1 = Personnage(\n",
    "    nom=\"Helmut\", pts_vie=100, force=6, adresse=75, nb_coups=3, armure=30\n",
    ")\n",
    "perso4 = Personnage(\n",
    "    nom=\"Boris\", pts_vie=100, force=3, adresse=30, nb_coups=3, armure=15\n",
    ")\n",
    "```\n",
    "\n",
    "2. Un personnage est vivant si ses points de vie sont strictement positifs. Définir la méthode `est_vivant()` qui est un prédicat qui teste si un guerrier donné en paramètre est vivant ou non.\n"
   ]
  },
  {
   "cell_type": "code",
   "execution_count": null,
   "metadata": {},
   "outputs": [],
   "source": [
    "class Personnage:\n",
    "    def __init__(\n",
    "        self,\n",
    "        nom: str,\n",
    "        pts_vie: int,\n",
    "        force: int,\n",
    "        adresse: int,\n",
    "        nb_coups: int,\n",
    "        armure: int,\n",
    "    ) -> None:\n",
    "        self.nom = nom\n",
    "        self.pts_vie = pts_vie\n",
    "        self.force = force\n",
    "        self.adresse = adresse\n",
    "        self.nb_coups = nb_coups\n",
    "        self.armure = armure\n",
    "\n",
    "    def est_vivant(self) -> bool:\n",
    "        return self.pts_vie > 0"
   ]
  },
  {
   "cell_type": "markdown",
   "metadata": {},
   "source": [
    "3. Il peut être utile de définir une méthode qui résume l'état du personnage, en affichant ses différentes caractéristiques. Définir cette méthode que l'on nommera `etat()`. Par exemple, on obtiendra l'affichage:\n",
    "\n",
    "```\n",
    ">>> perso1.etat()\n",
    "Helmut est vivant avec 100 points de vie(ou mort). Il possède les caractéristiques suivantes :\n",
    "- force : 6\n",
    "- adresse : 75\n",
    "- nombre de coups par attaque : 3\n",
    "- armure d'efficacité : 30\n",
    "```\n"
   ]
  },
  {
   "cell_type": "code",
   "execution_count": 1,
   "metadata": {},
   "outputs": [
    {
     "name": "stdout",
     "output_type": "stream",
     "text": [
      "Helmut est vivant avec 100 points de vie. \n",
      "- force : 6\n",
      "- adresse : 75\n",
      "- nombre de coups par attaque : 3\n",
      "- armure d'efficacité : 30\n"
     ]
    }
   ],
   "source": [
    "class Personnage:\n",
    "    def __init__(\n",
    "        self,\n",
    "        nom: str,\n",
    "        pts_vie: int,\n",
    "        force: int,\n",
    "        adresse: int,\n",
    "        nb_coups: int,\n",
    "        armure: int,\n",
    "    ) -> None:\n",
    "        self.nom = nom\n",
    "        self.pts_vie = pts_vie\n",
    "        self.force = force\n",
    "        self.adresse = adresse\n",
    "        self.nb_coups = nb_coups\n",
    "        self.armure = armure\n",
    "\n",
    "    def est_vivant(self) -> bool:\n",
    "        return self.pts_vie > 0\n",
    "\n",
    "    def etat(self) -> None:\n",
    "        print(\n",
    "            f\"{self.nom} est \" + f\"vivant avec {self.pts_vie} points de vie. \"\n",
    "            if self.est_vivant()\n",
    "            else \"mort. \" + \"Il possède les caractéristiques suivantes :\"\n",
    "        )\n",
    "        print(f\"- force : {self.force}\")\n",
    "        print(f\"- adresse : {self.adresse}\")\n",
    "        print(f\"- nombre de coups par attaque : {self.nb_coups}\")\n",
    "        print(f\"- armure d'efficacité : {self.armure}\")\n",
    "\n",
    "\n",
    "perso1 = Personnage(\n",
    "    nom=\"Helmut\", pts_vie=100, force=6, adresse=75, nb_coups=3, armure=30\n",
    ")\n",
    "perso1.etat()"
   ]
  },
  {
   "cell_type": "markdown",
   "metadata": {},
   "source": [
    "4. Lorsqu'un guerrier donne un coup à un adversaire, la valeur du coup est celui de sa force. Néanmoins, il faut d'abord déterminer si l'adversaire sera atteint. Cette possibilité est tirée au hasard, avec une probabilité de réussite indiquée par l'adresse qui est un pourcentage de chance de réussir. Un guerrier mort, ou un guerrier qui n'atteint pas son adversaire, porte un coup d'une force nulle.\n",
    "\n",
    "Proposez la méthode `donne_un_coup()` qui retourne la valeur du coup porté par un guerrier donné.\n"
   ]
  },
  {
   "cell_type": "code",
   "execution_count": 3,
   "metadata": {},
   "outputs": [
    {
     "name": "stdout",
     "output_type": "stream",
     "text": [
      "Helmut est vivant avec 100 points de vie. \n",
      "- force : 6\n",
      "- adresse : 75\n",
      "- nombre de coups par attaque : 3\n",
      "- armure d'efficacité : 30\n",
      "6\n",
      "6\n",
      "0\n",
      "6\n"
     ]
    }
   ],
   "source": [
    "from random import randint\n",
    "\n",
    "\n",
    "class Personnage:\n",
    "    def __init__(\n",
    "        self,\n",
    "        nom: str,\n",
    "        pts_vie: int,\n",
    "        force: int,\n",
    "        adresse: int,\n",
    "        nb_coups: int,\n",
    "        armure: int,\n",
    "    ) -> None:\n",
    "        self.nom = nom\n",
    "        self.pts_vie = pts_vie\n",
    "        self.force = force\n",
    "        self.adresse = adresse\n",
    "        self.nb_coups = nb_coups\n",
    "        self.armure = armure\n",
    "\n",
    "    def est_vivant(self) -> bool:\n",
    "        return self.pts_vie > 0\n",
    "\n",
    "    def etat(self) -> None:\n",
    "        print(\n",
    "            f\"{self.nom} est \" + f\"vivant avec {self.pts_vie} points de vie. \"\n",
    "            if self.est_vivant()\n",
    "            else \"mort. \" + \"Il possède les caractéristiques suivantes :\"\n",
    "        )\n",
    "        print(f\"- force : {self.force}\")\n",
    "        print(f\"- adresse : {self.adresse}\")\n",
    "        print(f\"- nombre de coups par attaque : {self.nb_coups}\")\n",
    "        print(f\"- armure d'efficacité : {self.armure}\")\n",
    "\n",
    "    def donne_un_coup(self) -> int:\n",
    "        if not self.est_vivant() or randint(0, 100) > self.adresse:\n",
    "            return 0\n",
    "        return self.force\n",
    "\n",
    "\n",
    "perso1 = Personnage(\n",
    "    nom=\"Helmut\", pts_vie=100, force=6, adresse=75, nb_coups=3, armure=30\n",
    ")\n",
    "perso1.etat()\n",
    "print(perso1.donne_un_coup())\n",
    "print(perso1.donne_un_coup())\n",
    "print(perso1.donne_un_coup())\n",
    "print(perso1.donne_un_coup())"
   ]
  },
  {
   "cell_type": "markdown",
   "metadata": {},
   "source": [
    "5. Lorsqu'un guerrier reçoit un coup, son armure le protège. La valeur de son armure est appliquée comme un pourcentage de coefficient de protection sur la force du coup reçu. Ainsi, un guerrier qui reçoit un coup de 5 points, mais qui a une armure avec un coefficient de protection de 20%, voit diminuer ses points de vie de 4 points seulement.\n",
    "\n",
    "Proposez la méthode `prend_un_coup(force)` qui, pour un guerrier et une force de coups donnés, diminue les points de vie du guerrier. Un guerrier ne peut jamais avoir des points de vie négatifs.\n"
   ]
  },
  {
   "cell_type": "code",
   "execution_count": 8,
   "metadata": {},
   "outputs": [
    {
     "name": "stdout",
     "output_type": "stream",
     "text": [
      "Helmut est vivant avec 100 points de vie. \n",
      "- force : 6\n",
      "- adresse : 75\n",
      "- nombre de coups par attaque : 3\n",
      "- armure d'efficacité : 30\n",
      "6\n",
      "Helmut est vivant avec 94 points de vie. \n",
      "- force : 6\n",
      "- adresse : 75\n",
      "- nombre de coups par attaque : 3\n",
      "- armure d'efficacité : 30\n"
     ]
    }
   ],
   "source": [
    "from random import randint\n",
    "\n",
    "\n",
    "class Personnage:\n",
    "    def __init__(\n",
    "        self,\n",
    "        nom: str,\n",
    "        pts_vie: int,\n",
    "        force: int,\n",
    "        adresse: int,\n",
    "        nb_coups: int,\n",
    "        armure: int,\n",
    "    ) -> None:\n",
    "        self.nom = nom\n",
    "        self.pts_vie = pts_vie\n",
    "        self.force = force\n",
    "        self.adresse = adresse\n",
    "        self.nb_coups = nb_coups\n",
    "        self.armure = armure\n",
    "\n",
    "    def est_vivant(self) -> bool:\n",
    "        return self.pts_vie > 0\n",
    "\n",
    "    def etat(self) -> None:\n",
    "        print(\n",
    "            f\"{self.nom} est \" + f\"vivant avec {self.pts_vie} points de vie. \"\n",
    "            if self.est_vivant()\n",
    "            else \"mort. \" + \"Il possède les caractéristiques suivantes :\"\n",
    "        )\n",
    "        print(f\"- force : {self.force}\")\n",
    "        print(f\"- adresse : {self.adresse}\")\n",
    "        print(f\"- nombre de coups par attaque : {self.nb_coups}\")\n",
    "        print(f\"- armure d'efficacité : {self.armure}\")\n",
    "\n",
    "    def donne_un_coup(self) -> int:\n",
    "        if not self.est_vivant() or randint(0, 100) > self.adresse:\n",
    "            return 0\n",
    "        return self.force\n",
    "\n",
    "    def prend_un_coup(self, force: int) -> None:\n",
    "        degats = round(force * (100 - self.armure) / 100)\n",
    "        self.pts_vie = max(0, self.pts_vie - degats)\n",
    "\n",
    "\n",
    "perso1 = Personnage(\n",
    "    nom=\"Helmut\", pts_vie=100, force=6, adresse=75, nb_coups=3, armure=30\n",
    ")\n",
    "perso1.etat()\n",
    "print(perso1.donne_un_coup())\n",
    "perso1.prend_un_coup(8)\n",
    "perso1.etat()"
   ]
  },
  {
   "cell_type": "markdown",
   "metadata": {},
   "source": [
    "6. Lors d'une attaque d'un guerrier sur un autre, le premier guerrier porte ses `nbCoups` au deuxième, puis, si le deuxième est encore vivant, c'est à son tour de donner des coups au premier.\n",
    "\n",
    "Proposez la fonction `attaque()` qui gère l'attaque de deux guerriers donnés. Ici, c'est une fonction, donc c'est en dehors de la classe.\n"
   ]
  },
  {
   "cell_type": "code",
   "execution_count": 13,
   "metadata": {},
   "outputs": [
    {
     "name": "stdout",
     "output_type": "stream",
     "text": [
      "Helmut est vivant avec 98 points de vie. \n",
      "- force : 6\n",
      "- adresse : 75\n",
      "- nombre de coups par attaque : 3\n",
      "- armure d'efficacité : 30\n",
      "Boris est vivant avec 85 points de vie. \n",
      "- force : 3\n",
      "- adresse : 30\n",
      "- nombre de coups par attaque : 3\n",
      "- armure d'efficacité : 15\n"
     ]
    }
   ],
   "source": [
    "def attaque(guerrier1: Personnage, guerrier2: Personnage) -> None:\n",
    "    for _ in range(guerrier1.nb_coups):\n",
    "        guerrier2.prend_un_coup(guerrier1.donne_un_coup())\n",
    "    if not guerrier2.est_vivant():\n",
    "        return\n",
    "    for _ in range(guerrier2.nb_coups):\n",
    "        guerrier1.prend_un_coup(guerrier2.donne_un_coup())\n",
    "\n",
    "\n",
    "perso1 = Personnage(\n",
    "    nom=\"Helmut\", pts_vie=100, force=6, adresse=75, nb_coups=3, armure=30\n",
    ")\n",
    "perso4 = Personnage(\n",
    "    nom=\"Boris\", pts_vie=100, force=3, adresse=30, nb_coups=3, armure=15\n",
    ")\n",
    "\n",
    "attaque(perso1, perso4)\n",
    "perso1.etat()\n",
    "perso4.etat()"
   ]
  },
  {
   "cell_type": "markdown",
   "metadata": {},
   "source": [
    "7. Imaginez maintenant, un combat qui est une suite d'attaques entre deux guerriers. Le premier à attaquer est celui avec la plus grande adresse. Le combat se termine lorsqu'un des deux personnages est mort. Un message est alors affiché, par exemple:\n",
    "\n",
    "```\n",
    ">>> combat(perso1, perso4)\n",
    "Dans le combat Helmut contre Boris, Helmut a gagné !!\n",
    "```\n",
    "\n",
    "Proposez une fonction `combat()` qui gère le combat entre deux personnages.\n"
   ]
  },
  {
   "cell_type": "code",
   "execution_count": 15,
   "metadata": {},
   "outputs": [
    {
     "name": "stdout",
     "output_type": "stream",
     "text": [
      "Dans le combat Helmut contre Boris, Helmut a gagné !!\n"
     ]
    }
   ],
   "source": [
    "def combat(guerrier1: Personnage, guerrier2: Personnage) -> None:\n",
    "    if guerrier1.adresse >= guerrier2.adresse:\n",
    "        premier, deuxieme = guerrier1, guerrier2\n",
    "    else:\n",
    "        premier, deuxieme = guerrier2, guerrier1\n",
    "    while premier.est_vivant() and deuxieme.est_vivant():\n",
    "        attaque(premier, deuxieme)\n",
    "    vainqueur = premier if premier.est_vivant() else deuxieme\n",
    "    print(\n",
    "        f\"Dans le combat {guerrier1.nom} contre {guerrier2.nom}, {vainqueur.nom} a gagné !!\"\n",
    "    )\n",
    "\n",
    "\n",
    "perso1 = Personnage(\n",
    "    nom=\"Helmut\", pts_vie=100, force=6, adresse=75, nb_coups=3, armure=30\n",
    ")\n",
    "perso4 = Personnage(\n",
    "    nom=\"Boris\", pts_vie=100, force=3, adresse=30, nb_coups=3, armure=15\n",
    ")\n",
    "combat(perso1, perso4)"
   ]
  },
  {
   "cell_type": "markdown",
   "metadata": {},
   "source": [
    "### Exercice n° 4: (Heures)\n",
    "\n",
    "La classe `Heure` permet de représenter une heure de la journée. Les objets possèdent 3 attributs : `h`, `m` et `s` qui correspondent aux heures, minutes et secondes.\n",
    "\n",
    "Ainsi, l’heure `14:26:17` sera représentée par `Heure(14, 26, 17)`. Les heures doivent donc aller de `00:00:00` à `23:59:59`.\n",
    "\n",
    "1. Compléter le constructeur de la classe `Heure`. Il prend comme paramètres, en\n",
    "   plus de `self`, 3 entiers positifs `h`, `m` et `s`. Au final, il faut avoir 0 ≤ self.h < 24, 0 ≤ self.m < 60 et 0 ≤ self.s < 60. Si les paramètres ne vérifient pas ces conditions, il faut adapter les valeurs. Par exemple 12:00:70 correspond à 12:01:10, ou encore 23:62:00 deviendra 00:02:00.\n"
   ]
  },
  {
   "cell_type": "code",
   "execution_count": 1,
   "metadata": {},
   "outputs": [],
   "source": [
    "class Heure:\n",
    "    def __init__(self, h: int, m: int, s: int) -> None:\n",
    "        self.s = s % 60\n",
    "        self.m = (m + s // 60) % 60\n",
    "        self.h = (h + (m + s // 60) // 60) % 24"
   ]
  },
  {
   "cell_type": "markdown",
   "metadata": {},
   "source": [
    "2. Compléter la méthode `__repr__(self)` qui renvoie le texte permettant de re-créer l’objet `Heure(h, m, s)`.\n"
   ]
  },
  {
   "cell_type": "code",
   "execution_count": 3,
   "metadata": {},
   "outputs": [
    {
     "name": "stdout",
     "output_type": "stream",
     "text": [
      "Heure(12, 7, 15)\n",
      "Heure(0, 0, 20)\n",
      "Heure(0, 2, 0)\n"
     ]
    }
   ],
   "source": [
    "class Heure:\n",
    "    def __init__(self, h: int, m: int, s: int) -> None:\n",
    "        self.s = s % 60\n",
    "        self.m = (m + s // 60) % 60\n",
    "        self.h = (h + (m + s // 60) // 60) % 24\n",
    "\n",
    "    def __repr__(self) -> str:\n",
    "        return f\"Heure({self.h}, {self.m}, {self.s})\"\n",
    "\n",
    "\n",
    "print(Heure(12, 7, 15))\n",
    "print(Heure(23, 59, 80))\n",
    "print(Heure(23, 62, 00))"
   ]
  },
  {
   "cell_type": "markdown",
   "metadata": {},
   "source": [
    "3. Compléter la méthode `__str__(self)` qui renvoie un texte correspondant à\n",
    "   l’heure sous le format `'Xh Ym Zs'`, où X, Y et Z sont les valeurs des différents attributs de l'instance.\n"
   ]
  },
  {
   "cell_type": "code",
   "execution_count": 4,
   "metadata": {},
   "outputs": [
    {
     "name": "stdout",
     "output_type": "stream",
     "text": [
      "12h 7m 15s\n",
      "0h 0m 20s\n"
     ]
    }
   ],
   "source": [
    "class Heure:\n",
    "    def __init__(self, h: int, m: int, s: int) -> None:\n",
    "        self.s = s % 60\n",
    "        self.m = (m + s // 60) % 60\n",
    "        self.h = (h + (m + s // 60) // 60) % 24\n",
    "\n",
    "    def __repr__(self) -> str:\n",
    "        return f\"Heure({self.h}, {self.m}, {self.s})\"\n",
    "\n",
    "    def __str__(self) -> str:\n",
    "        return f\"{self.h}h {self.m}m {self.s}s\"\n",
    "\n",
    "\n",
    "print(Heure(12, 7, 15))\n",
    "print(Heure(23, 59, 80))"
   ]
  },
  {
   "cell_type": "markdown",
   "metadata": {},
   "source": [
    "4. Compléter la méthode `avance(self, s)` qui avance l’heure de l’objet de `s`\n",
    "   secondes. Là encore, il faudra s’assurer que les valeurs stockées sont conformes.\n"
   ]
  },
  {
   "cell_type": "code",
   "execution_count": 5,
   "metadata": {},
   "outputs": [
    {
     "name": "stdout",
     "output_type": "stream",
     "text": [
      "12h 8m 35s\n"
     ]
    }
   ],
   "source": [
    "class Heure:\n",
    "    def __init__(self, h: int, m: int, s: int) -> None:\n",
    "        self.s = s % 60\n",
    "        self.m = (m + s // 60) % 60\n",
    "        self.h = (h + (m + s // 60) // 60) % 24\n",
    "\n",
    "    def __repr__(self) -> str:\n",
    "        return f\"Heure({self.h}, {self.m}, {self.s})\"\n",
    "\n",
    "    def __str__(self) -> str:\n",
    "        return f\"{self.h}h {self.m}m {self.s}s\"\n",
    "\n",
    "    def avance(self, s: int) -> None:\n",
    "        self.s = (self.s + s) % 60\n",
    "        self.m = (self.m + (self.s + s) // 60) % 60\n",
    "        self.h = (self.h + (self.m + (self.s + s) // 60) // 60) % 24\n",
    "\n",
    "\n",
    "h = Heure(12, 7, 15)\n",
    "h.avance(80)\n",
    "print(h)"
   ]
  },
  {
   "cell_type": "markdown",
   "metadata": {},
   "source": [
    "5. Nous allons compléter la classe `Heure2` qui ne stocke que les secondes écoulées depuis 00:00:00. Compléter le constructeur `__init__(self, h, m, s)`, qui convertit l’heure donnée en secondes, qui peuvent donc dépasser 60, mais pas 86 400, le nombre de secondes dans une journée.\n"
   ]
  },
  {
   "cell_type": "code",
   "execution_count": 7,
   "metadata": {},
   "outputs": [
    {
     "name": "stdout",
     "output_type": "stream",
     "text": [
      "73055\n"
     ]
    }
   ],
   "source": [
    "class Heure2:\n",
    "    def __init__(self, h: int, m: int, s: int) -> None:\n",
    "        self.s = (h * 3600 + m * 60 + s) % 86400\n",
    "\n",
    "\n",
    "h = Heure2(20, 17, 35)\n",
    "print(h.s)"
   ]
  },
  {
   "cell_type": "markdown",
   "metadata": {},
   "source": [
    "6. Compléter la méthode `_conversion(self)` qui renvoie un triplet `(h, m, s)`\n",
    "   qui correspond à l’heure stockée.\n"
   ]
  },
  {
   "cell_type": "code",
   "execution_count": 9,
   "metadata": {},
   "outputs": [
    {
     "name": "stdout",
     "output_type": "stream",
     "text": [
      "(20, 17, 35)\n",
      "(21, 11, 25)\n"
     ]
    }
   ],
   "source": [
    "class Heure2:\n",
    "    def __init__(self, h: int, m: int, s: int) -> None:\n",
    "        self.s = (h * 3600 + m * 60 + s) % 86400\n",
    "\n",
    "    def _conversion(self) -> tuple[int, int, int]:\n",
    "        return (self.s // 3600, (self.s % 3600) // 60, self.s % 60)\n",
    "\n",
    "\n",
    "print(Heure2(20, 17, 35)._conversion())\n",
    "print(Heure2(20, 70, 85)._conversion())"
   ]
  },
  {
   "cell_type": "markdown",
   "metadata": {},
   "source": [
    "7. Compléter la méthode `__repr__(self)` qui renvoie le texte permettant de\n",
    "   recréer l’objet `Heure2(h, m, s)`.\n"
   ]
  },
  {
   "cell_type": "code",
   "execution_count": 10,
   "metadata": {},
   "outputs": [
    {
     "name": "stdout",
     "output_type": "stream",
     "text": [
      "Heure2(20, 17, 35)\n",
      "Heure2(21, 11, 25)\n"
     ]
    }
   ],
   "source": [
    "class Heure2:\n",
    "    def __init__(self, h: int, m: int, s: int) -> None:\n",
    "        self.s = (h * 3600 + m * 60 + s) % 86400\n",
    "\n",
    "    def _conversion(self) -> tuple[int, int, int]:\n",
    "        return (self.s // 3600, (self.s % 3600) // 60, self.s % 60)\n",
    "\n",
    "    def __repr__(self) -> str:\n",
    "        return f\"Heure2{self._conversion()}\"\n",
    "\n",
    "\n",
    "print(Heure2(20, 17, 35))\n",
    "print(Heure2(20, 70, 85))"
   ]
  },
  {
   "cell_type": "markdown",
   "metadata": {},
   "source": [
    "8. Compléter la méthode `__str__(self)` qui renvoie un texte correspondant à\n",
    "   l’heure sous le format `'Xh Ym Zs'`, où X, Y et Z sont les attributs de l'instance.\n"
   ]
  },
  {
   "cell_type": "code",
   "execution_count": 17,
   "metadata": {},
   "outputs": [
    {
     "name": "stdout",
     "output_type": "stream",
     "text": [
      "20h 17m 35s\n",
      "21h 11m 25s\n"
     ]
    }
   ],
   "source": [
    "class Heure2:\n",
    "    def __init__(self, h: int, m: int, s: int) -> None:\n",
    "        self.s = (h * 3600 + m * 60 + s) % 86400\n",
    "\n",
    "    def _conversion(self) -> tuple[int, int, int]:\n",
    "        return (self.s // 3600, (self.s % 3600) // 60, self.s % 60)\n",
    "\n",
    "    def __repr__(self) -> str:\n",
    "        return f\"Heure2{self._conversion()}\"\n",
    "\n",
    "    def __str__(self) -> str:\n",
    "        h, m, s = self._conversion()\n",
    "        return f\"{h}h {m}m {s}s\"\n",
    "\n",
    "\n",
    "print(Heure2(20, 17, 35))\n",
    "print(Heure2(20, 70, 85))"
   ]
  },
  {
   "cell_type": "markdown",
   "metadata": {},
   "source": [
    "9. Compléter la méthode `avance(self, s)` qui avance l’heure de l’objet de `s`\n",
    "   secondes.\n"
   ]
  },
  {
   "cell_type": "code",
   "execution_count": 18,
   "metadata": {},
   "outputs": [
    {
     "name": "stdout",
     "output_type": "stream",
     "text": [
      "8h 6m 14s\n"
     ]
    }
   ],
   "source": [
    "class Heure2:\n",
    "    def __init__(self, h: int, m: int, s: int) -> None:\n",
    "        self.s = (h * 3600 + m * 60 + s) % 86400\n",
    "\n",
    "    def _conversion(self) -> tuple[int, int, int]:\n",
    "        return (self.s // 3600, (self.s % 3600) // 60, self.s % 60)\n",
    "\n",
    "    def __repr__(self) -> str:\n",
    "        return f\"Heure2{self._conversion()}\"\n",
    "\n",
    "    def __str__(self) -> str:\n",
    "        h, m, s = self._conversion()\n",
    "        return f\"{h}h {m}m {s}s\"\n",
    "\n",
    "    def avance(self, s: int) -> None:\n",
    "        self.s = (self.s + s) % 86400\n",
    "\n",
    "\n",
    "h = Heure2(7, 59, 14)\n",
    "h.avance(420)\n",
    "print(h)"
   ]
  },
  {
   "cell_type": "markdown",
   "metadata": {},
   "source": [
    "10. Compléter la méthode `__eq__(self, other)` qui renvoie un booléen équivalent à self = other.\n"
   ]
  },
  {
   "cell_type": "code",
   "execution_count": 19,
   "metadata": {},
   "outputs": [
    {
     "name": "stdout",
     "output_type": "stream",
     "text": [
      "True\n",
      "False\n"
     ]
    }
   ],
   "source": [
    "from typing import Self\n",
    "\n",
    "\n",
    "class Heure2:\n",
    "    def __init__(self, h: int, m: int, s: int) -> None:\n",
    "        self.s = (h * 3600 + m * 60 + s) % 86400\n",
    "\n",
    "    def _conversion(self) -> tuple[int, int, int]:\n",
    "        return (self.s // 3600, (self.s % 3600) // 60, self.s % 60)\n",
    "\n",
    "    def __repr__(self) -> str:\n",
    "        return f\"Heure2{self._conversion()}\"\n",
    "\n",
    "    def __str__(self) -> str:\n",
    "        h, m, s = self._conversion()\n",
    "        return f\"{h}h {m}m {s}s\"\n",
    "\n",
    "    def avance(self, s: int) -> None:\n",
    "        self.s = (self.s + s) % 86400\n",
    "\n",
    "    def __eq__(self, other: Self) -> bool:\n",
    "        return self.s == other.s\n",
    "\n",
    "\n",
    "print(Heure2(0, 0, 80) == Heure2(0, 1, 20))\n",
    "print(Heure2(15, 12, 10) == Heure2(15, 12, 11))"
   ]
  },
  {
   "cell_type": "markdown",
   "metadata": {},
   "source": [
    "11. Compléter la méthode `copy(self)` qui renvoie un nouvel objet de classe\n",
    "    `Heure2` égal à `self`.\n"
   ]
  },
  {
   "cell_type": "code",
   "execution_count": 21,
   "metadata": {},
   "outputs": [
    {
     "name": "stdout",
     "output_type": "stream",
     "text": [
      "17h 0m 0s\n",
      "17h 1m 30s\n",
      "17h 0m 0s\n"
     ]
    }
   ],
   "source": [
    "from typing import Self\n",
    "\n",
    "\n",
    "class Heure2:\n",
    "    def __init__(self, h: int, m: int, s: int) -> None:\n",
    "        self.s = (h * 3600 + m * 60 + s) % 86400\n",
    "\n",
    "    def _conversion(self) -> tuple[int, int, int]:\n",
    "        return (self.s // 3600, (self.s % 3600) // 60, self.s % 60)\n",
    "\n",
    "    def __repr__(self) -> str:\n",
    "        return f\"Heure2{self._conversion()}\"\n",
    "\n",
    "    def __str__(self) -> str:\n",
    "        h, m, s = self._conversion()\n",
    "        return f\"{h}h {m}m {s}s\"\n",
    "\n",
    "    def avance(self, s: int) -> None:\n",
    "        self.s = (self.s + s) % 86400\n",
    "\n",
    "    def __eq__(self, other: Self) -> bool:\n",
    "        return self.s == other.s\n",
    "\n",
    "    def copy(self) -> Self:\n",
    "        return Heure2(0, 0, self.s)\n",
    "\n",
    "\n",
    "h = Heure2(17, 0, 0)\n",
    "h2 = h.copy()\n",
    "print(h2)\n",
    "h.avance(90)\n",
    "print(h)\n",
    "print(h2)"
   ]
  },
  {
   "cell_type": "markdown",
   "metadata": {},
   "source": [
    "### Exercice n°5 (Rectangle)\n",
    "\n",
    "1. On veut définir une classe `Rectangle`:\n",
    "\n",
    "- x, y : coordonnées du coin supérieur gauche du rectangle.\n",
    "- w, h : largeur, hauteur du rectangle.\n",
    "  Ecrire le constructeur de la classe `Rectangle`.\n"
   ]
  },
  {
   "cell_type": "code",
   "execution_count": 22,
   "metadata": {},
   "outputs": [],
   "source": [
    "class Rectangle:\n",
    "    def __init__(self, x, y, w, h) -> None:\n",
    "        self.x = x\n",
    "        self.y = y\n",
    "        self.w = w\n",
    "        self.h = h"
   ]
  },
  {
   "cell_type": "markdown",
   "metadata": {},
   "source": [
    "2. Ecrire une méthode `perimeter(self) -> float` qui renvoie le périmètre de l’instance.\n"
   ]
  },
  {
   "cell_type": "code",
   "execution_count": 23,
   "metadata": {},
   "outputs": [],
   "source": [
    "class Rectangle:\n",
    "    def __init__(self, x, y, w, h) -> None:\n",
    "        self.x = x\n",
    "        self.y = y\n",
    "        self.w = w\n",
    "        self.h = h\n",
    "\n",
    "    def perimeter(self) -> float:\n",
    "        return 2 * (self.w + self.h)"
   ]
  },
  {
   "cell_type": "markdown",
   "metadata": {},
   "source": [
    "3. Ecrire une méthode `area(self) -> float` qui renvoie l’aire de l’instance.\n"
   ]
  },
  {
   "cell_type": "code",
   "execution_count": 24,
   "metadata": {},
   "outputs": [],
   "source": [
    "class Rectangle:\n",
    "    def __init__(self, x, y, w, h) -> None:\n",
    "        self.x = x\n",
    "        self.y = y\n",
    "        self.w = w\n",
    "        self.h = h\n",
    "\n",
    "    def perimeter(self) -> float:\n",
    "        return 2 * (self.w + self.h)\n",
    "\n",
    "    def area(self) -> float:\n",
    "        return self.w * self.h"
   ]
  },
  {
   "cell_type": "markdown",
   "metadata": {},
   "source": [
    "4. Ecrire une méthode `contains(self, x: int, y: int) -> bool` qui renvoie `True` si l’instance contient le point de coordonnées `(x, y)`, et `False` sinon.\n"
   ]
  },
  {
   "cell_type": "code",
   "execution_count": 25,
   "metadata": {},
   "outputs": [],
   "source": [
    "class Rectangle:\n",
    "    def __init__(self, x, y, w, h) -> None:\n",
    "        self.x = x\n",
    "        self.y = y\n",
    "        self.w = w\n",
    "        self.h = h\n",
    "\n",
    "    def perimeter(self) -> float:\n",
    "        return 2 * (self.w + self.h)\n",
    "\n",
    "    def area(self) -> float:\n",
    "        return self.w * self.h\n",
    "\n",
    "    def contains(self, x: int, y: int) -> bool:\n",
    "        return self.x <= x <= self.x + self.w and self.y <= y <= self.y + self.h"
   ]
  },
  {
   "cell_type": "markdown",
   "metadata": {},
   "source": [
    "5. Ecrire une méthode `get_intersection(self, rect: Self) -> None | Self` qui renvoie `None` si l'instance et rect ne s’intersectent pas et qui renvoie le rectangle intersection sinon.\n"
   ]
  },
  {
   "cell_type": "code",
   "execution_count": null,
   "metadata": {},
   "outputs": [],
   "source": [
    "from typing import Self\n",
    "\n",
    "\n",
    "class Rectangle:\n",
    "    def __init__(self, x, y, w, h) -> None:\n",
    "        self.x = x\n",
    "        self.y = y\n",
    "        self.w = w\n",
    "        self.h = h\n",
    "\n",
    "    def perimeter(self) -> float:\n",
    "        return 2 * (self.w + self.h)\n",
    "\n",
    "    def area(self) -> float:\n",
    "        return self.w * self.h\n",
    "\n",
    "    def contains(self, x: int, y: int) -> bool:\n",
    "        return self.x <= x <= self.x + self.w and self.y <= y <= self.y + self.h\n",
    "\n",
    "    def get_intersection(self, rect: Self) -> Self | None:\n",
    "        x = max(self.x, rect.x)\n",
    "        x2 = min(self.x + self.w, rect.x + rect.w)\n",
    "        y = max(self.y, rect.y)\n",
    "        y2 = min(self.y + self.h, rect.y + rect.h)\n",
    "        return None if x2 <= x or y2 <= y else Rectangle(x, y, x2 - x, y2 - y)"
   ]
  },
  {
   "cell_type": "markdown",
   "metadata": {},
   "source": [
    "6. Ecire une méthode `intersects(self, rect: Self) -> bool` qui renvoie `True` si l’instance et `rect` s’intersectent, `False` sinon.\n"
   ]
  },
  {
   "cell_type": "code",
   "execution_count": null,
   "metadata": {},
   "outputs": [],
   "source": [
    "from typing import Self\n",
    "\n",
    "\n",
    "class Rectangle:\n",
    "    def __init__(self, x, y, w, h) -> None:\n",
    "        self.x = x\n",
    "        self.y = y\n",
    "        self.w = w\n",
    "        self.h = h\n",
    "\n",
    "    def perimeter(self) -> float:\n",
    "        return 2 * (self.w + self.h)\n",
    "\n",
    "    def area(self) -> float:\n",
    "        return self.w * self.h\n",
    "\n",
    "    def contains(self, x: int, y: int) -> bool:\n",
    "        return self.x <= x <= self.x + self.w and self.y <= y <= self.y + self.h\n",
    "\n",
    "    def get_intersection(self, rect: Self) -> Self | None:\n",
    "        x = max(self.x, rect.x)\n",
    "        x2 = min(self.x + self.w, rect.x + rect.w)\n",
    "        y = max(self.y, rect.y)\n",
    "        y2 = min(self.y + self.h, rect.y + rect.h)\n",
    "        return None if x2 <= x or y2 <= y else Rectangle(x, y, x2 - x, y2 - y)\n",
    "\n",
    "    def instersects(self, rect: Self) -> bool:\n",
    "        return self.get_intersection(rect) is not None"
   ]
  },
  {
   "cell_type": "markdown",
   "metadata": {},
   "source": [
    "### Exercice n°6: (Jeu de bataille)\n",
    "\n",
    "L’objectif de ce projet est de réaliser un jeu de bataille comprenant 4 classes.\n",
    "\n",
    "1. Compléter la classe `Carte` suivante:\n",
    "\n",
    "```python\n",
    "# Variables globales\n",
    "couleurs = (\"CARREAU\", \"COEUR\", \"TREFLE\", \"PIQUE\")\n",
    "noms = [\"2\", \"3\", \"4\", \"5\", \"6\", \"7\", \"8\", \"9\", \"10\", \"Valet\", \"Dame\", \"Roi\", \"As\"]\n",
    "valeurs = {\"2\": 2, \"3\": 3, \"4\": 4, \"5\": 5, \"6\": 6, \"7\": 7, \"8\": 8, \"9\": 9, \"10\": 10, \"Valet\": 11, \"Dame\": 12, \"Roi\": 13, \"As\": 14}\n",
    "\n",
    "# Classe Carte\n",
    "class Carte:\n",
    "    def __init__(self, nom, couleur):\n",
    "        self.__nom = nom\n",
    "        self.__couleur = valeur\n",
    "        self.__valeur = ...\n",
    "\n",
    "    def set_nom(self, nom):\n",
    "        # setter\n",
    "        ...\n",
    "\n",
    "    def get_nom(self):\n",
    "        # getter\n",
    "        ...\n",
    "\n",
    "    def get_couleur(self):\n",
    "        # getter\n",
    "        ...\n",
    "\n",
    "    def get_valeur(self):\n",
    "        # getter\n",
    "        ...\n",
    "\n",
    "    def __eq__(self, carte):\n",
    "        \"\"\"Renvoie True si les cartes ont même valeur, False sinon\"\"\"\n",
    "\n",
    "    def __gt__(self, carte):\n",
    "        \"\"\"Renvoie True si la valeur de self est supérieure à celle de carte,\n",
    "        False sinon\"\"\"\n",
    "\n",
    "    def _lt_(self, carte):\n",
    "        \"\"\"Renvoie True si la valeur de self est inferieure à celle de carte,\n",
    "        False sinon\"\"\"\n",
    "\n",
    "    def __repr__(self) -> str:\n",
    "        \"\"\"Affiche la valeur de la carte\"\"\"\n",
    "\n",
    "    def __str__(self) -> str:\n",
    "        \"\"\"Affiche la valeur de la carte\"\"\"\n",
    "```\n",
    "\n",
    "(a) Compléter le constructeur de la classe `Carte`. Compléter les anotations de types. Lever une exception si le nom et la couleur de la carte ne sont pas dans `couleurs` et `noms`.\n",
    "\n",
    "(b) Compléter les accesseurs et les mutateurs de la classe `Carte`.\n",
    "\n",
    "(c) Compléter les méthodes spéciales de la classe `Carte` pour pouvoir comparer des cartes.\n"
   ]
  },
  {
   "cell_type": "code",
   "execution_count": 14,
   "metadata": {},
   "outputs": [],
   "source": [
    "from typing import Self\n",
    "\n",
    "\n",
    "# Variables globales\n",
    "couleurs = (\"CARREAU\", \"COEUR\", \"TREFLE\", \"PIQUE\")\n",
    "noms = [\"2\", \"3\", \"4\", \"5\", \"6\", \"7\", \"8\", \"9\", \"10\", \"Valet\", \"Dame\", \"Roi\", \"As\"]\n",
    "valeurs = {\n",
    "    \"2\": 2,\n",
    "    \"3\": 3,\n",
    "    \"4\": 4,\n",
    "    \"5\": 5,\n",
    "    \"6\": 6,\n",
    "    \"7\": 7,\n",
    "    \"8\": 8,\n",
    "    \"9\": 9,\n",
    "    \"10\": 10,\n",
    "    \"Valet\": 11,\n",
    "    \"Dame\": 12,\n",
    "    \"Roi\": 13,\n",
    "    \"As\": 14,\n",
    "}\n",
    "\n",
    "\n",
    "class Carte:\n",
    "    \"\"\"classe Carte:\n",
    "    - nom de la carte: 2, 3, 4, 5, 6, 7, 8, 9, 10, Valet, Dame, Roi, As\n",
    "    - couleur de la carte : CARREAU, COEUR, TREFLE, PIQUE\n",
    "    - valeur de la carte\n",
    "    \"\"\"\n",
    "\n",
    "    def __init__(self, nom: str, couleur: str) -> None:\n",
    "        if nom not in noms:\n",
    "            raise NameError(f\"Le nom de la carte est incorrect: {nom}\")\n",
    "        if couleur not in couleurs:\n",
    "            raise NameError(f\"La couleur de la carte est incorrecte: {couleur}\")\n",
    "        self.__nom = nom\n",
    "        self.__couleur = couleur\n",
    "        self.__valeur = valeurs[nom]\n",
    "\n",
    "    def set_nom(self, nom: str) -> None:\n",
    "        \"\"\"modifie le nom (et la valeur) de la carte\"\"\"\n",
    "        if nom not in noms:\n",
    "            raise NameError(f\"Le nom de la carte est incorrect: {nom}\")\n",
    "        self.__nom = nom\n",
    "        self.__valeur = valeurs[nom]\n",
    "\n",
    "    def get_nom(self) -> str:\n",
    "        \"\"\"renvoie le nom de la carte\"\"\"\n",
    "        return self.__nom\n",
    "\n",
    "    def get_couleur(self) -> str:\n",
    "        \"\"\"renvoie la couleur de la carte\"\"\"\n",
    "        return self.__couleur\n",
    "\n",
    "    def get_valeur(self) -> int:\n",
    "        \"\"\"renvoie la valeur de la carte\"\"\"\n",
    "        return self.__valeur\n",
    "\n",
    "    def __eq__(self, carte: Self):\n",
    "        \"\"\"Renvoie True si les cartes ont même valeur, False sinon\"\"\"\n",
    "        return self.__valeur == carte.__valeur\n",
    "\n",
    "    def __gt__(self, carte: Self):\n",
    "        \"\"\"Renvoie True si la valeur de self est supérieure à celle de carte,\n",
    "        False sinon\"\"\"\n",
    "        return self.__valeur > carte.__valeur\n",
    "\n",
    "    def __lt__(self, carte: Self):\n",
    "        \"\"\"Renvoie True si la valeur de self est inferieure à celle de carte,\n",
    "        False sinon\"\"\"\n",
    "        return self.__valeur < carte.__valeur\n",
    "\n",
    "    def __repr__(self) -> str:\n",
    "        \"\"\"Affiche la valeur de la carte\"\"\"\n",
    "        return (\n",
    "            f\"Carte(nom={self.__nom}, couleur={self.__couleur}, valeur={self.__valeur})\"\n",
    "        )\n",
    "\n",
    "    def __str__(self) -> str:\n",
    "        \"\"\"Affiche la valeur de la carte\"\"\"\n",
    "        return f\"{self.__nom} de {self.__couleur}\""
   ]
  },
  {
   "cell_type": "markdown",
   "metadata": {},
   "source": [
    "(d) Vérifier que la classe fonctionne avec le script suivant:\n",
    "\n",
    "```python\n",
    "valet_coeur = Carte(\"Valet\", \"COEUR\")\n",
    "print(repr(valet_coeur))\n",
    "valet_coeur.set_nom(\"Dame\")\n",
    "print(repr(valet_coeur))\n",
    "# Essai des exceptions: cette instruction conduit à une erreur\n",
    "dameCarreau = Carte(\"Dame\", \"COooEUR\")\n",
    "```\n",
    "\n",
    "On doit obtenir l'affichage suivant:\n",
    "\n",
    "```\n",
    "Carte(nom=Valet, couleur=COEUR, valeur=11)\n",
    "Carte(nom=Dame, couleur=COEUR, valeur=12)\n",
    "NameError: La couleur de la carte est incorrecte: COooEUR\n",
    "```\n"
   ]
  },
  {
   "cell_type": "code",
   "execution_count": 16,
   "metadata": {},
   "outputs": [
    {
     "name": "stdout",
     "output_type": "stream",
     "text": [
      "Carte(nom=Valet, couleur=COEUR, valeur=11)\n",
      "Carte(nom=Dame, couleur=COEUR, valeur=12)\n"
     ]
    },
    {
     "ename": "NameError",
     "evalue": "La couleur de la carte est incorrecte: COooEUR",
     "output_type": "error",
     "traceback": [
      "\u001b[0;31m---------------------------------------------------------------------------\u001b[0m",
      "\u001b[0;31mNameError\u001b[0m                                 Traceback (most recent call last)",
      "\u001b[1;32m/Users/estelledoriot/Mon Drive/Workspace/Python/Cours_python/16_poo/pooExos.ipynb Cellule 35\u001b[0m line \u001b[0;36m6\n\u001b[1;32m      <a href='vscode-notebook-cell:/Users/estelledoriot/Mon%20Drive/Workspace/Python/Cours_python/16_poo/pooExos.ipynb#X45sZmlsZQ%3D%3D?line=3'>4</a>\u001b[0m \u001b[39mprint\u001b[39m(\u001b[39mrepr\u001b[39m(valet_coeur))\n\u001b[1;32m      <a href='vscode-notebook-cell:/Users/estelledoriot/Mon%20Drive/Workspace/Python/Cours_python/16_poo/pooExos.ipynb#X45sZmlsZQ%3D%3D?line=4'>5</a>\u001b[0m \u001b[39m# Essai des exceptions: cette instruction conduit à une erreur\u001b[39;00m\n\u001b[0;32m----> <a href='vscode-notebook-cell:/Users/estelledoriot/Mon%20Drive/Workspace/Python/Cours_python/16_poo/pooExos.ipynb#X45sZmlsZQ%3D%3D?line=5'>6</a>\u001b[0m dameCarreau \u001b[39m=\u001b[39m Carte(\u001b[39m\"\u001b[39;49m\u001b[39mDame\u001b[39;49m\u001b[39m\"\u001b[39;49m, \u001b[39m\"\u001b[39;49m\u001b[39mCOooEUR\u001b[39;49m\u001b[39m\"\u001b[39;49m)\n",
      "\u001b[1;32m/Users/estelledoriot/Mon Drive/Workspace/Python/Cours_python/16_poo/pooExos.ipynb Cellule 35\u001b[0m line \u001b[0;36m3\n\u001b[1;32m     <a href='vscode-notebook-cell:/Users/estelledoriot/Mon%20Drive/Workspace/Python/Cours_python/16_poo/pooExos.ipynb#X45sZmlsZQ%3D%3D?line=32'>33</a>\u001b[0m     \u001b[39mraise\u001b[39;00m \u001b[39mNameError\u001b[39;00m(\u001b[39mf\u001b[39m\u001b[39m\"\u001b[39m\u001b[39mLe nom de la carte est incorrect: \u001b[39m\u001b[39m{\u001b[39;00mnom\u001b[39m}\u001b[39;00m\u001b[39m\"\u001b[39m)\n\u001b[1;32m     <a href='vscode-notebook-cell:/Users/estelledoriot/Mon%20Drive/Workspace/Python/Cours_python/16_poo/pooExos.ipynb#X45sZmlsZQ%3D%3D?line=33'>34</a>\u001b[0m \u001b[39mif\u001b[39;00m couleur \u001b[39mnot\u001b[39;00m \u001b[39min\u001b[39;00m couleurs:\n\u001b[0;32m---> <a href='vscode-notebook-cell:/Users/estelledoriot/Mon%20Drive/Workspace/Python/Cours_python/16_poo/pooExos.ipynb#X45sZmlsZQ%3D%3D?line=34'>35</a>\u001b[0m     \u001b[39mraise\u001b[39;00m \u001b[39mNameError\u001b[39;00m(\u001b[39mf\u001b[39m\u001b[39m\"\u001b[39m\u001b[39mLa couleur de la carte est incorrecte: \u001b[39m\u001b[39m{\u001b[39;00mcouleur\u001b[39m}\u001b[39;00m\u001b[39m\"\u001b[39m)\n\u001b[1;32m     <a href='vscode-notebook-cell:/Users/estelledoriot/Mon%20Drive/Workspace/Python/Cours_python/16_poo/pooExos.ipynb#X45sZmlsZQ%3D%3D?line=35'>36</a>\u001b[0m \u001b[39mself\u001b[39m\u001b[39m.\u001b[39m__nom \u001b[39m=\u001b[39m nom\n\u001b[1;32m     <a href='vscode-notebook-cell:/Users/estelledoriot/Mon%20Drive/Workspace/Python/Cours_python/16_poo/pooExos.ipynb#X45sZmlsZQ%3D%3D?line=36'>37</a>\u001b[0m \u001b[39mself\u001b[39m\u001b[39m.\u001b[39m__couleur \u001b[39m=\u001b[39m couleur\n",
      "\u001b[0;31mNameError\u001b[0m: La couleur de la carte est incorrecte: COooEUR"
     ]
    }
   ],
   "source": [
    "valet_coeur = Carte(\"Valet\", \"COEUR\")\n",
    "print(repr(valet_coeur))\n",
    "valet_coeur.set_nom(\"Dame\")\n",
    "print(repr(valet_coeur))\n",
    "# Essai des exceptions: cette instruction conduit à une erreur\n",
    "dameCarreau = Carte(\"Dame\", \"COooEUR\")"
   ]
  },
  {
   "cell_type": "markdown",
   "metadata": {},
   "source": [
    "2. Compléter la classe JeuCarte\n",
    "\n",
    "```python\n",
    "import random  # Nécessaire pour mélanger le jeu\n",
    "\n",
    "\n",
    "class JeuCartes:\n",
    "    def __init__(self, nbCartes=52):\n",
    "        # Le jeu doit comporter 32 ou 52 cartes, effectuer un contrôle\n",
    "        self.jeu = []  # self.jeu est une liste des self.nbCartes\n",
    "        ...  # à compléter\n",
    "\n",
    "    def get_taille_jeu(self):\n",
    "        \"\"\"Renvoie le nombre de cartes du jeu\"\"\"\n",
    "\n",
    "    def creer_jeu(self):  # utilise des objet\n",
    "        \"\"\"Créée la liste des cartes de l'attribut self.jeu\"\"\"\n",
    "\n",
    "    def get_jeu(self):\n",
    "        \"\"\"Renvoie la liste des cartes correspondant à l'attribut self.jeu\"\"\"\n",
    "\n",
    "    def melanger(self):  # utiliser le module random ...\n",
    "        \"\"\"Mélange sur place les cartes de la liste des cartes associée au champ self.jeu\"\"\"\n",
    "\n",
    "    def distribuer_carte(self):\n",
    "        \"\"\"Cette fonction permet de distribuer une carte à un joueur. Elle retourne la carte\"\"\"\n",
    "\n",
    "    def distribuer_jeu(self, nb_joueurs, nb_cartes):\n",
    "        \"\"\"Cette méthode distribue nb_cartes à chacun des nb_joueurs,\n",
    "        s'il n'y a pas assez de cartes, elle lève une exception\"\"\"\n",
    "```\n",
    "\n",
    "(a) Compléter le constructeur de la classe `JeuCartes`.\n",
    "\n",
    "(b) Compléter les méthodes de la classe `JeuCartes`.\n"
   ]
  },
  {
   "cell_type": "code",
   "execution_count": 17,
   "metadata": {},
   "outputs": [],
   "source": [
    "import random  # Nécessaire pour mélanger le jeu\n",
    "\n",
    "\n",
    "class JeuCartes:\n",
    "    def __init__(self, nb_cartes: int = 52):\n",
    "        # Le jeu doit comporter 32 ou 52 cartes\n",
    "        if nb_cartes not in [32, 52]:\n",
    "            raise ValueError(f\"Nombre de cartes incorrect: {nb_cartes}\")\n",
    "        self.nb_cartes = nb_cartes\n",
    "        self.jeu = []  # self.jeu est une liste des cartes\n",
    "        self.creer_jeu()\n",
    "\n",
    "    def get_taille_jeu(self) -> int:\n",
    "        \"\"\"Renvoie le nombre de cartes du jeu\"\"\"\n",
    "        return self.nb_cartes\n",
    "\n",
    "    def creer_jeu(self) -> None:\n",
    "        \"\"\"Créée la liste des cartes de l'attribut self.jeu\"\"\"\n",
    "        debut = 0 if self.nb_cartes == 52 else 5\n",
    "        self.jeu = [Carte(nom, couleur) for nom in noms[debut:] for couleur in couleurs]\n",
    "\n",
    "    def get_jeu(self) -> list[Carte]:\n",
    "        \"\"\"Renvoie la liste des cartes correspondant à l'attribut self.jeu\"\"\"\n",
    "        return self.jeu\n",
    "\n",
    "    def melanger(self):\n",
    "        \"\"\"Mélange sur place les cartes de la liste des cartes associée au champ self.jeu\"\"\"\n",
    "        random.shuffle(self.jeu)\n",
    "\n",
    "    def distribuer_carte(self) -> Carte:\n",
    "        \"\"\"Cette fonction permet de distribuer une carte à un joueur. Elle retourne la carte\"\"\"\n",
    "        return self.jeu.pop(0)\n",
    "\n",
    "    def distribuer_jeu(self, nb_joueurs: int, nb_cartes: int) -> list[list[Carte]]:\n",
    "        \"\"\"Cette méthode distribue nb_cartes à chacun des nb_joueurs, ...\"\"\"\n",
    "        if nb_joueurs * nb_cartes > len(self.jeu):\n",
    "            raise IndexError(\"Pas assez de cartes dans le jeu.\")\n",
    "        return [\n",
    "            [self.distribuer_carte() for _ in range(nb_cartes)]\n",
    "            for _ in range(nb_joueurs)\n",
    "        ]"
   ]
  },
  {
   "cell_type": "markdown",
   "metadata": {},
   "source": [
    "(c) Vérifier que la classe `JeuCartes` fonctionne bien avec le script suivant:\n",
    "\n",
    "```python\n",
    "jeu52 = JeuCartes(52)\n",
    "jeu52.melanger()\n",
    "L = jeu52.get_jeu()\n",
    "carte = L[2]  # la 3e carte\n",
    "print(repr(carte))\n",
    "\n",
    "# Distribution de 4 cartes à 3 joueurs\n",
    "distribution1 = jeu52.distribuer_jeu(3, 4)\n",
    "for i in range(3):\n",
    "    print(\"Joueur\", i + 1, \":\")\n",
    "    liste_cartes = distribution1[i]\n",
    "    for carte in liste_cartes:\n",
    "        print(\"   \", carte)\n",
    "\n",
    "# Distribution de 10 cartes à 6 joueurs pour générer une exception (6X10 > 52)\n",
    "jeu52 = JeuCartes(52)\n",
    "jeu52.melanger()\n",
    "distribution2 = jeu52.distribuer_jeu(6, 10)\n",
    "```\n"
   ]
  },
  {
   "cell_type": "code",
   "execution_count": 18,
   "metadata": {},
   "outputs": [
    {
     "name": "stdout",
     "output_type": "stream",
     "text": [
      "Carte(nom=Dame, couleur=COEUR, valeur=12)\n",
      "Joueur 1 :\n",
      "    Roi de COEUR\n",
      "    9 de COEUR\n",
      "    Dame de COEUR\n",
      "    3 de COEUR\n",
      "Joueur 2 :\n",
      "    Valet de CARREAU\n",
      "    Valet de PIQUE\n",
      "    10 de PIQUE\n",
      "    4 de CARREAU\n",
      "Joueur 3 :\n",
      "    3 de CARREAU\n",
      "    5 de COEUR\n",
      "    8 de TREFLE\n",
      "    As de TREFLE\n"
     ]
    },
    {
     "ename": "IndexError",
     "evalue": "Pas assez de cartes dans le jeu.",
     "output_type": "error",
     "traceback": [
      "\u001b[0;31m---------------------------------------------------------------------------\u001b[0m",
      "\u001b[0;31mIndexError\u001b[0m                                Traceback (most recent call last)",
      "\u001b[1;32m/Users/estelledoriot/Mon Drive/Workspace/Python/Cours_python/16_poo/pooExos.ipynb Cellule 38\u001b[0m line \u001b[0;36m1\n\u001b[1;32m     <a href='vscode-notebook-cell:/Users/estelledoriot/Mon%20Drive/Workspace/Python/Cours_python/16_poo/pooExos.ipynb#X51sZmlsZQ%3D%3D?line=15'>16</a>\u001b[0m jeu52 \u001b[39m=\u001b[39m JeuCartes(\u001b[39m52\u001b[39m)\n\u001b[1;32m     <a href='vscode-notebook-cell:/Users/estelledoriot/Mon%20Drive/Workspace/Python/Cours_python/16_poo/pooExos.ipynb#X51sZmlsZQ%3D%3D?line=16'>17</a>\u001b[0m jeu52\u001b[39m.\u001b[39mmelanger()\n\u001b[0;32m---> <a href='vscode-notebook-cell:/Users/estelledoriot/Mon%20Drive/Workspace/Python/Cours_python/16_poo/pooExos.ipynb#X51sZmlsZQ%3D%3D?line=17'>18</a>\u001b[0m distribution2 \u001b[39m=\u001b[39m jeu52\u001b[39m.\u001b[39;49mdistribuer_jeu(\u001b[39m6\u001b[39;49m, \u001b[39m10\u001b[39;49m)\n",
      "\u001b[1;32m/Users/estelledoriot/Mon Drive/Workspace/Python/Cours_python/16_poo/pooExos.ipynb Cellule 38\u001b[0m line \u001b[0;36m3\n\u001b[1;32m     <a href='vscode-notebook-cell:/Users/estelledoriot/Mon%20Drive/Workspace/Python/Cours_python/16_poo/pooExos.ipynb#X51sZmlsZQ%3D%3D?line=34'>35</a>\u001b[0m \u001b[39m\u001b[39m\u001b[39m\"\"\"Cette méthode distribue nb_cartes à chacun des nb_joueurs, ...\"\"\"\u001b[39;00m\n\u001b[1;32m     <a href='vscode-notebook-cell:/Users/estelledoriot/Mon%20Drive/Workspace/Python/Cours_python/16_poo/pooExos.ipynb#X51sZmlsZQ%3D%3D?line=35'>36</a>\u001b[0m \u001b[39mif\u001b[39;00m nb_joueurs \u001b[39m*\u001b[39m nb_cartes \u001b[39m>\u001b[39m \u001b[39mlen\u001b[39m(\u001b[39mself\u001b[39m\u001b[39m.\u001b[39mjeu):\n\u001b[0;32m---> <a href='vscode-notebook-cell:/Users/estelledoriot/Mon%20Drive/Workspace/Python/Cours_python/16_poo/pooExos.ipynb#X51sZmlsZQ%3D%3D?line=36'>37</a>\u001b[0m     \u001b[39mraise\u001b[39;00m \u001b[39mIndexError\u001b[39;00m(\u001b[39m\"\u001b[39m\u001b[39mPas assez de cartes dans le jeu.\u001b[39m\u001b[39m\"\u001b[39m)\n\u001b[1;32m     <a href='vscode-notebook-cell:/Users/estelledoriot/Mon%20Drive/Workspace/Python/Cours_python/16_poo/pooExos.ipynb#X51sZmlsZQ%3D%3D?line=37'>38</a>\u001b[0m \u001b[39mreturn\u001b[39;00m [\n\u001b[1;32m     <a href='vscode-notebook-cell:/Users/estelledoriot/Mon%20Drive/Workspace/Python/Cours_python/16_poo/pooExos.ipynb#X51sZmlsZQ%3D%3D?line=38'>39</a>\u001b[0m     [\u001b[39mself\u001b[39m\u001b[39m.\u001b[39mdistribuer_carte() \u001b[39mfor\u001b[39;00m _ \u001b[39min\u001b[39;00m \u001b[39mrange\u001b[39m(nb_cartes)]\n\u001b[1;32m     <a href='vscode-notebook-cell:/Users/estelledoriot/Mon%20Drive/Workspace/Python/Cours_python/16_poo/pooExos.ipynb#X51sZmlsZQ%3D%3D?line=39'>40</a>\u001b[0m     \u001b[39mfor\u001b[39;00m _ \u001b[39min\u001b[39;00m \u001b[39mrange\u001b[39m(nb_joueurs)\n\u001b[1;32m     <a href='vscode-notebook-cell:/Users/estelledoriot/Mon%20Drive/Workspace/Python/Cours_python/16_poo/pooExos.ipynb#X51sZmlsZQ%3D%3D?line=40'>41</a>\u001b[0m ]\n",
      "\u001b[0;31mIndexError\u001b[0m: Pas assez de cartes dans le jeu."
     ]
    }
   ],
   "source": [
    "jeu52 = JeuCartes(52)\n",
    "jeu52.melanger()\n",
    "L = jeu52.get_jeu()\n",
    "carte = L[2]  # la 3e carte\n",
    "print(repr(carte))\n",
    "\n",
    "# Distribution de 4 cartes à 3 joueurs\n",
    "distribution1 = jeu52.distribuer_jeu(3, 4)\n",
    "for i in range(3):\n",
    "    print(\"Joueur\", i + 1, \":\")\n",
    "    liste_cartes = distribution1[i]\n",
    "    for carte in liste_cartes:\n",
    "        print(\"   \", carte)\n",
    "\n",
    "# Distribution de 10 cartes à 6 joueurs pour générer une exception (6X10 > 52)\n",
    "jeu52 = JeuCartes(52)\n",
    "jeu52.melanger()\n",
    "distribution2 = jeu52.distribuer_jeu(6, 10)"
   ]
  },
  {
   "cell_type": "markdown",
   "metadata": {},
   "source": [
    "3. Créer une classe Joueur ayant les attributs suivants :\n",
    "\n",
    "- `nom` : nom du joueur;\n",
    "- `main_joueur` : liste des cartes (objets de type `Carte`) dans la main du joueur.\n",
    "\n",
    "Cette classe devra implémenter les méthodes suivantes :\n",
    "\n",
    "- `set_main()` : définit la main du joueur, donc la liste de ses cartes au début du jeu;\n",
    "- `get_nom()` : accesseur de l’attribut nom;\n",
    "- `get_nb_cartes()` : accesseur du champ nb_cartes;\n",
    "- `jouer_carte()` : enlève et renvoie la dernière carte (objet de type Carte) de la main du joueur pour la jouer, ou retourne None s’il n’y a plus de cartes dans la main du joueur;\n",
    "- `inserer_main()` : fonction qui insère les cartes de la liste des cartes gagnées dans la main du Joueur\n"
   ]
  },
  {
   "cell_type": "code",
   "execution_count": 19,
   "metadata": {},
   "outputs": [],
   "source": [
    "class Joueur:\n",
    "    def __init__(self, nom: str) -> None:\n",
    "        self.nom = nom\n",
    "        self.main_joueur = []\n",
    "\n",
    "    def set_main(self, main: list[Carte]) -> None:\n",
    "        self.main_joueur = main\n",
    "\n",
    "    def get_nom(self) -> str:\n",
    "        return self.nom\n",
    "\n",
    "    def get_nb_cartes(self) -> int:\n",
    "        return len(self.main_joueur)\n",
    "\n",
    "    def jouer_carte(self) -> Carte | None:\n",
    "        return None if not self.main_joueur else self.main_joueur.pop()\n",
    "\n",
    "    def inserer_main(self, gagnees: list[Carte]) -> None:\n",
    "        self.main_joueur.extend(gagnees)"
   ]
  },
  {
   "cell_type": "markdown",
   "metadata": {},
   "source": [
    "4. La classe bataille doit instancier un jeu de cartes, deux joueurs et implémanter la méthode jouer.\n"
   ]
  },
  {
   "attachments": {},
   "cell_type": "markdown",
   "metadata": {},
   "source": [
    "### Exercice n°7: (Nombres rationnels)\n",
    "\n",
    "Python comme la plupart des langages ne dispose pas d’une structure de données de type rationnel (des fractions..) Nous allons en créer une ...(même s’il est certain que cela existe déjà...)\n",
    "\n",
    "On doit créer une classe Rationnel dont les instances auront les attributs numerateur et\n",
    "denominateur(celui-ci ne pourra être nul!!) et des méthodes pour:\n",
    "\n",
    "- Simplifier la fraction et normaliser son écriture\n",
    "- Additionner deux fractions\n",
    "- Soustraire deux fractions\n",
    "- Multiplier et diviser deux fractions\n",
    "\n",
    "La fraction $\\frac{12}{-15}$ doit s’écrire $\\frac{−4}{5}$. Il y a eu simplification par le PGCD de 12 et 15 et transfert du signe au numérateur.\n",
    "\n",
    "Il nous faudra:\n",
    "\n",
    "- Une fonction qui calcule le PGCD\n",
    "- Une méthode pour simplifier et normaliser la fraction.\n",
    "\n",
    "1. Ecrire une classe `Rationnel` avec son constructeur et la méthode `__repr__` pour afficher la fraction $\\frac{4}{5}$ sous la forme: `4/5`. On déclenchera une erreur lorsque le dénominateur est nul.\n"
   ]
  },
  {
   "cell_type": "code",
   "execution_count": 3,
   "metadata": {},
   "outputs": [
    {
     "name": "stdout",
     "output_type": "stream",
     "text": [
      "12/-15\n",
      "7/1\n"
     ]
    }
   ],
   "source": [
    "class Rationnel:\n",
    "    def __init__(self, num: int, denom: int = 1) -> None:\n",
    "        assert denom != 0, \"Le dénominateur ne peut pas être nul\"\n",
    "        self.num = num\n",
    "        self.denom = denom\n",
    "\n",
    "    def __repr__(self) -> str:\n",
    "        return f\"{self.num}/{self.denom}\"\n",
    "\n",
    "\n",
    "f1 = Rationnel(12, -15)\n",
    "print(f1)\n",
    "\n",
    "f2 = Rationnel(7)\n",
    "print(f2)"
   ]
  },
  {
   "attachments": {},
   "cell_type": "markdown",
   "metadata": {},
   "source": [
    "2. Simplification de la fraction : Pour cela il nous faut une fonction qui calcule le PGCD de deux entiers.\n",
    "\n",
    "a. Écrire une fonction `pgcd(x: int, y: int) -> int` qui retourne le pgcd des entiers x et y passés en paramètres.\n"
   ]
  },
  {
   "cell_type": "code",
   "execution_count": 4,
   "metadata": {},
   "outputs": [],
   "source": [
    "def pgcd(x: int, y: int) -> int:\n",
    "    while y != 0:\n",
    "        x, y = y, x % y\n",
    "    return x\n",
    "\n",
    "\n",
    "assert pgcd(15, 12) == 3\n",
    "assert pgcd(11, 15) == 1"
   ]
  },
  {
   "attachments": {},
   "cell_type": "markdown",
   "metadata": {},
   "source": [
    "b. Rajouter une méthode `normalise` qui simplifie la fraction. Puis rajouter un appel à la méthode `normalise` dans le constructeur pour que cette opération soit faite automatiquement.\n"
   ]
  },
  {
   "cell_type": "code",
   "execution_count": 5,
   "metadata": {},
   "outputs": [
    {
     "name": "stdout",
     "output_type": "stream",
     "text": [
      "-4/5\n",
      "7/1\n"
     ]
    }
   ],
   "source": [
    "class Rationnel:\n",
    "    def __init__(self, num: int, denom: int = 1) -> None:\n",
    "        assert denom != 0, \"Le dénominateur ne peut pas être nul\"\n",
    "        self.num = num\n",
    "        self.denom = denom\n",
    "        self.normalise()\n",
    "\n",
    "    def __repr__(self) -> str:\n",
    "        return f\"{self.num}/{self.denom}\"\n",
    "\n",
    "    def normalise(self) -> None:\n",
    "        g = pgcd(self.num, self.denom)\n",
    "        self.num //= g\n",
    "        self.denom //= g\n",
    "        if self.denom < 0:\n",
    "            self.num = -self.num\n",
    "            self.denom = -self.denom\n",
    "\n",
    "\n",
    "f1 = Rationnel(12, -15)\n",
    "print(f1)\n",
    "\n",
    "f2 = Rationnel(7)\n",
    "print(f2)"
   ]
  },
  {
   "attachments": {},
   "cell_type": "markdown",
   "metadata": {},
   "source": [
    "3. Pour pouvoir utiliser le symbole `+` pour faire une addition entre deux nombres rationnels, il faut écrire une méthode `__add__(self, other)` qui renvoie un nombre rationnel qui est le résultat de l'addition de deux fractions.\n",
    "\n",
    "On vérifiera que $\\frac{2}{7} + \\frac{5}{3} = \\frac{41}{21}$\n"
   ]
  },
  {
   "cell_type": "code",
   "execution_count": 6,
   "metadata": {},
   "outputs": [
    {
     "name": "stdout",
     "output_type": "stream",
     "text": [
      "41/21\n"
     ]
    }
   ],
   "source": [
    "from typing import Self\n",
    "\n",
    "\n",
    "class Rationnel:\n",
    "    def __init__(self, num: int, denom: int = 1) -> None:\n",
    "        assert denom != 0, \"Le dénominateur ne peut pas être nul\"\n",
    "        self.num = num\n",
    "        self.denom = denom\n",
    "        self.normalise()\n",
    "\n",
    "    def __repr__(self) -> str:\n",
    "        return f\"{self.num}/{self.denom}\"\n",
    "\n",
    "    def __add__(self, other: Self) -> Self:\n",
    "        return Rationnel(\n",
    "            self.num * other.denom + other.num * self.denom, self.denom * other.denom\n",
    "        )\n",
    "\n",
    "    def normalise(self) -> None:\n",
    "        g = pgcd(self.num, self.denom)\n",
    "        self.num //= g\n",
    "        self.denom //= g\n",
    "        if self.denom < 0:\n",
    "            self.num = -self.num\n",
    "            self.denom = -self.denom\n",
    "\n",
    "\n",
    "f1 = Rationnel(2, 7)\n",
    "f2 = Rationnel(5, 3)\n",
    "print(f1 + f2)"
   ]
  },
  {
   "attachments": {},
   "cell_type": "markdown",
   "metadata": {},
   "source": [
    "4. Effectuer les autres opérations.\n",
    "\n",
    "- Pour la soustraction `-` on utilise la fonction : `__sub__(self, other)`\n",
    "- Pour la multiplication `*` on utilise la fonction : `__mul__(self, other)`\n",
    "- Pour la division `/` ce sera : `__truediv__(self, other)`, il faudra gérer la division par 0\n"
   ]
  },
  {
   "cell_type": "code",
   "execution_count": 7,
   "metadata": {},
   "outputs": [
    {
     "name": "stdout",
     "output_type": "stream",
     "text": [
      "2/7 + 7/4 = 57/28\n",
      "2/7 - 7/4 = -41/28\n",
      "2/7 * 7/4 = 1/2\n",
      "2/7 / 7/4 = 8/49\n"
     ]
    }
   ],
   "source": [
    "from decimal import DivisionByZero\n",
    "from typing import Self\n",
    "\n",
    "\n",
    "class Rationnel:\n",
    "    def __init__(self, num: int, denom: int = 1) -> None:\n",
    "        assert denom != 0, \"Le dénominateur ne peut pas être nul\"\n",
    "        self.num = num\n",
    "        self.denom = denom\n",
    "        self.normalise()\n",
    "\n",
    "    def __repr__(self) -> str:\n",
    "        return f\"{self.num}/{self.denom}\"\n",
    "\n",
    "    def __add__(self, other: Self) -> Self:\n",
    "        return Rationnel(\n",
    "            self.num * other.denom + other.num * self.denom, self.denom * other.denom\n",
    "        )\n",
    "\n",
    "    def __sub__(self, other: Self) -> Self:\n",
    "        return Rationnel(\n",
    "            self.num * other.denom - other.num * self.denom, self.denom * other.denom\n",
    "        )\n",
    "\n",
    "    def __mul__(self, other: Self) -> Self:\n",
    "        return Rationnel(self.num * other.num, self.denom * other.denom)\n",
    "\n",
    "    def __truediv__(self, other: Self) -> Self:\n",
    "        if other.num == 0:\n",
    "            raise (DivisionByZero())\n",
    "        return Rationnel(self.num * other.denom, self.denom * other.num)\n",
    "\n",
    "    def normalise(self) -> None:\n",
    "        g = pgcd(self.num, self.denom)\n",
    "        self.num //= g\n",
    "        self.denom //= g\n",
    "        if self.denom < 0:\n",
    "            self.num = -self.num\n",
    "            self.denom = -self.denom\n",
    "\n",
    "\n",
    "f1 = Rationnel(2, 7)\n",
    "f2 = Rationnel(21, 12)\n",
    "print(f\"{f1} + {f2} = {f1 + f2}\")\n",
    "print(f\"{f1} - {f2} = {f1 - f2}\")\n",
    "print(f\"{f1} * {f2} = {f1 * f2}\")\n",
    "print(f\"{f1} / {f2} = {f1 / f2}\")"
   ]
  },
  {
   "cell_type": "markdown",
   "metadata": {},
   "source": [
    "5. Ecrire une méthode `est_entier(self)` qui renvoie un booléen indiquant si la fraction est égale à un nombre entier ou pas.\n",
    "\n",
    "Ecrire une méthode `decimal(self)` qui renvoie la valeur décimale, approchée si nécessaire, de la fraction.\n"
   ]
  },
  {
   "cell_type": "code",
   "execution_count": null,
   "metadata": {},
   "outputs": [],
   "source": [
    "from typing import Self\n",
    "\n",
    "\n",
    "class Rationnel:\n",
    "    def __init__(self, num: int, denom: int = 1) -> None:\n",
    "        assert denom != 0, \"Le dénominateur ne peut pas être nul\"\n",
    "        self.num = num\n",
    "        self.denom = denom\n",
    "        self.normalise()\n",
    "\n",
    "    def __repr__(self) -> str:\n",
    "        return f\"{self.num}/{self.denom}\"\n",
    "\n",
    "    def __add__(self, other: Self) -> Self:\n",
    "        return Rationnel(\n",
    "            self.num * other.denom + other.num * self.denom, self.denom * other.denom\n",
    "        )\n",
    "\n",
    "    def __sub__(self, other: Self) -> Self:\n",
    "        return Rationnel(\n",
    "            self.num * other.denom - other.num * self.denom, self.denom * other.denom\n",
    "        )\n",
    "\n",
    "    def __mul__(self, other: Self) -> Self:\n",
    "        return Rationnel(self.num * other.num, self.denom * other.denom)\n",
    "\n",
    "    def __truediv__(self, other: Self) -> Self:\n",
    "        if other.num == 0:\n",
    "            raise (DivisionByZero())\n",
    "        return Rationnel(self.num * other.denom, self.denom * other.num)\n",
    "\n",
    "    def normalise(self) -> None:\n",
    "        g = pgcd(self.num, self.denom)\n",
    "        self.num //= g\n",
    "        self.denom //= g\n",
    "        if self.denom < 0:\n",
    "            self.num = -self.num\n",
    "            self.denom = -self.denom\n",
    "\n",
    "    def est_entier(self) -> bool:\n",
    "        return self.denom == 1\n",
    "\n",
    "    def decimal(self) -> float:\n",
    "        return self.num / self.denom"
   ]
  },
  {
   "attachments": {},
   "cell_type": "markdown",
   "metadata": {},
   "source": [
    "6. Le nombre d’Euler : $e = 2,718281....$ vérifie l’égalité suivante:\n",
    "\n",
    "$e = \\frac{1}{1} + \\frac{1}{1 \\times 2} + \\frac{1}{1 \\times 2 \\times 3} + \\dots + \\frac{1}{1 \\times 2 \\times 3 \\times \\dots \\times n} + \\dots$\n",
    "\n",
    "En utilisant la classe Rationnel, écrire une fonction `nombre_euler(n: int) -> Rationnel` qui renvoie une fraction qui permet d’obtenir une approximation de `e`.\n"
   ]
  },
  {
   "cell_type": "code",
   "execution_count": 8,
   "metadata": {},
   "outputs": [
    {
     "name": "stdout",
     "output_type": "stream",
     "text": [
      "6235301/3628800\n",
      "1.7182818011463845\n"
     ]
    }
   ],
   "source": [
    "def euler(n: int) -> Rationnel:\n",
    "    e = Rationnel(0)\n",
    "    terme = Rationnel(1)\n",
    "    for i in range(1, n + 1):\n",
    "        terme *= Rationnel(1, i)\n",
    "        e += terme\n",
    "    return e\n",
    "\n",
    "\n",
    "euler_approx = euler(10)\n",
    "print(euler_approx)\n",
    "print(euler_approx.num / euler_approx.denom)"
   ]
  },
  {
   "attachments": {},
   "cell_type": "markdown",
   "metadata": {},
   "source": [
    "7. Toujours en utilisant la classe Rationnel, écrire une fonction qui permet d’obtenir une\n",
    "   fraction donnant une approximation du nombre `pi` par la formule:\n",
    "\n",
    "$\\pi = 4 \\times (1 − \\frac{1}{3} + \\frac{1}{5} − \\frac{1}{7} + \\frac{1}{9} − \\dots + \\frac{(−1)^n}{2n + 1} + \\dots)$\n"
   ]
  },
  {
   "cell_type": "code",
   "execution_count": 9,
   "metadata": {},
   "outputs": [
    {
     "name": "stdout",
     "output_type": "stream",
     "text": [
      "8304519683050930315868351728478581371218237057610107475627876427688700564658702331560588/2635106162757236442495826303084698495565581115509040892412867358728390766099042109898375\n",
      "3.1514934010709905\n"
     ]
    }
   ],
   "source": [
    "def pi(n: int) -> Rationnel:\n",
    "    pi_approx = Rationnel(0)\n",
    "    for i in range(n + 1):\n",
    "        pi_approx += Rationnel(1, 2 * i + 1) if i % 2 == 0 else Rationnel(-1, 2 * i + 1)\n",
    "    return Rationnel(4) * pi_approx\n",
    "\n",
    "\n",
    "pi_approx = pi(100)\n",
    "print(pi_approx)\n",
    "print(pi_approx.num / pi_approx.denom)"
   ]
  },
  {
   "attachments": {},
   "cell_type": "markdown",
   "metadata": {},
   "source": [
    "### Exercice n°8 (Points)\n",
    "\n",
    "Soit $M$ un point du plan $(\\vec{x},\\vec{y})$ et de coordonnées cartésiennes $x_M$ et $y_M$ dans un repère $R (0, \\vec{x}, \\vec{y})$. On peut considérer le point comme un objet géométrique, possédant 2 attributs : ses coordonnées dans R.\n",
    "\n",
    "1. Créer une classe `Point` avec son constructeur, qui représente un point de R.\n"
   ]
  },
  {
   "cell_type": "code",
   "execution_count": 10,
   "metadata": {},
   "outputs": [],
   "source": [
    "class Point:\n",
    "    def __init__(self, x: float, y: float) -> None:\n",
    "        self.x = x\n",
    "        self.y = y"
   ]
  },
  {
   "attachments": {},
   "cell_type": "markdown",
   "metadata": {},
   "source": [
    "2. Définir la méthode `__repr__` de la classe `Point` pour que le point M de coordonnées $(1, 2)$ s'affiche `P(1, 2)`.\n"
   ]
  },
  {
   "cell_type": "code",
   "execution_count": 11,
   "metadata": {},
   "outputs": [
    {
     "name": "stdout",
     "output_type": "stream",
     "text": [
      "P(1, 2)\n"
     ]
    }
   ],
   "source": [
    "class Point:\n",
    "    def __init__(self, x: float, y: float) -> None:\n",
    "        self.x = x\n",
    "        self.y = y\n",
    "\n",
    "    def __repr__(self) -> str:\n",
    "        return f\"P({self.x}, {self.y})\"\n",
    "\n",
    "\n",
    "M = Point(1, 2)\n",
    "print(M)"
   ]
  },
  {
   "cell_type": "markdown",
   "metadata": {},
   "source": [
    "3. Ecrire une méthode `__eq__` qui teste l'égalité entre deux points:\n"
   ]
  },
  {
   "cell_type": "code",
   "execution_count": 62,
   "metadata": {},
   "outputs": [],
   "source": [
    "from typing import Self\n",
    "\n",
    "\n",
    "class Point:\n",
    "    def __init__(self, x: float, y: float) -> None:\n",
    "        self.x = x\n",
    "        self.y = y\n",
    "\n",
    "    def __repr__(self) -> str:\n",
    "        return f\"P({self.x}, {self.y})\"\n",
    "\n",
    "    def __eq__(self, other: Self) -> bool:\n",
    "        return self.x == other.x and self.y == other.y\n",
    "\n",
    "\n",
    "assert Point(1, 1) == Point(1, 1)"
   ]
  },
  {
   "attachments": {},
   "cell_type": "markdown",
   "metadata": {},
   "source": [
    "4. Écrire une méthode `distance(self, p)` admettant 2 objets de type Point (dont l’objet lui-même) comme paramètres et renvoyant la valeur de la distance entre ces deux points. Vérifier que la distance entre les points $(1, 4)$ et $(5, 1)$ est $5.0$.\n"
   ]
  },
  {
   "cell_type": "code",
   "execution_count": 63,
   "metadata": {},
   "outputs": [],
   "source": [
    "from math import sqrt\n",
    "from typing import Self\n",
    "\n",
    "\n",
    "class Point:\n",
    "    def __init__(self, x: float, y: float) -> None:\n",
    "        self.x = x\n",
    "        self.y = y\n",
    "\n",
    "    def __repr__(self) -> str:\n",
    "        return f\"P({self.x}, {self.y})\"\n",
    "\n",
    "    def __eq__(self, other: Self) -> bool:\n",
    "        return self.x == other.x and self.y == other.y\n",
    "\n",
    "    def distance(self, p: Self) -> float:\n",
    "        return sqrt((self.x - p.x) ** 2 + (self.y - p.y) ** 2)\n",
    "\n",
    "\n",
    "M = Point(1, 4)\n",
    "N = Point(5, 1)\n",
    "\n",
    "assert M.distance(N) == 5.0"
   ]
  },
  {
   "cell_type": "markdown",
   "metadata": {},
   "source": [
    "5. Créer la méthode `milieu(self, p: 'Point') -> 'Point'` : qui permet de calculer les coordonnées du point M, milieu du segment défini par le point de l’objet courant self et l’objet Point p passé en paramètre. Cette méthode renvoie l'objet Point M.\n"
   ]
  },
  {
   "cell_type": "code",
   "execution_count": 65,
   "metadata": {},
   "outputs": [],
   "source": [
    "from math import sqrt\n",
    "from typing import Self\n",
    "\n",
    "\n",
    "class Point:\n",
    "    def __init__(self, x: float, y: float) -> None:\n",
    "        self.x = x\n",
    "        self.y = y\n",
    "\n",
    "    def __repr__(self) -> str:\n",
    "        return f\"P({self.x}, {self.y})\"\n",
    "\n",
    "    def __eq__(self, other: Self) -> bool:\n",
    "        return self.x == other.x and self.y == other.y\n",
    "\n",
    "    def distance(self, p: Self) -> float:\n",
    "        return sqrt((self.x - p.x) ** 2 + (self.y - p.y) ** 2)\n",
    "\n",
    "    def milieu(self, p: Self) -> Self:\n",
    "        return Point((self.x + p.x) / 2, (self.y + p.y) / 2)\n",
    "\n",
    "\n",
    "M = Point(1, 4)\n",
    "N = Point(5, 2)\n",
    "\n",
    "assert M.milieu(N) == Point(3, 3)"
   ]
  },
  {
   "attachments": {},
   "cell_type": "markdown",
   "metadata": {},
   "source": [
    "6. Pour afficher ce point graphiquement on peut utiliser le module `pylab`:\n",
    "\n",
    "```python\n",
    "import pylab\n",
    "# tracé d'un simple point :\n",
    "pylab.plot(x, y, \".\")\n",
    "# pour placer toute la figure dans un repère orthonormé :\n",
    "pylab.axis('scaled')\n",
    "# affichage de la figure :\n",
    "pylab.show()\n",
    "```\n",
    "\n",
    "Rajouter à la classe Point une méthode `dessiner` permettant d’afficher graphiquement les instances de `Point` dans un espace orthonormé.\n",
    "\n",
    "On vérifiera que les instructions suivantes\n",
    "\n",
    "```python\n",
    "p1 = Point(4, 4)\n",
    "p1.dessiner()\n",
    "p2 = Point(2, 5)\n",
    "p2.dessiner()\n",
    "p3 = Point(-1, 2)\n",
    "p3.dessiner()\n",
    "```\n",
    "\n",
    "affichent :\n",
    "\n",
    "![](troispoints.png)\n"
   ]
  },
  {
   "cell_type": "code",
   "execution_count": 14,
   "metadata": {},
   "outputs": [
    {
     "data": {
      "image/png": "[encoded data removed]",
      "text/plain": [
       "<Figure size 640x480 with 1 Axes>"
      ]
     },
     "metadata": {},
     "output_type": "display_data"
    }
   ],
   "source": [
    "from math import sqrt\n",
    "import pylab\n",
    "from typing import Self\n",
    "\n",
    "\n",
    "class Point:\n",
    "    def __init__(self, x: float, y: float) -> None:\n",
    "        self.x = x\n",
    "        self.y = y\n",
    "\n",
    "    def __repr__(self) -> str:\n",
    "        return f\"P({self.x}, {self.y})\"\n",
    "\n",
    "    def __eq__(self, other: Self) -> bool:\n",
    "        return self.x == other.x and self.y == other.y\n",
    "\n",
    "    def distance(self, p: Self) -> float:\n",
    "        return sqrt((self.x - p.x) ** 2 + (self.y - p.y) ** 2)\n",
    "\n",
    "    def milieu(self, p: Self) -> Self:\n",
    "        return Point((self.x + p.x) / 2, (self.y + p.y) / 2)\n",
    "\n",
    "    def dessiner(self) -> None:\n",
    "        pylab.plot(self.x, self.y, \".\")\n",
    "\n",
    "\n",
    "p1 = Point(4, 4)\n",
    "p1.dessiner()\n",
    "p2 = Point(2, 5)\n",
    "p2.dessiner()\n",
    "p3 = Point(-1, 2)\n",
    "p3.dessiner()\n",
    "\n",
    "pylab.axis(\"scaled\")\n",
    "pylab.show()"
   ]
  },
  {
   "attachments": {},
   "cell_type": "markdown",
   "metadata": {},
   "source": [
    "7. De même que pour le point, on peut définir un vecteur par ses 2 coordonnées dans le repère R. Ecrire une classe `Vecteur`.\n"
   ]
  },
  {
   "cell_type": "code",
   "execution_count": 15,
   "metadata": {},
   "outputs": [],
   "source": [
    "class Vecteur:\n",
    "    def __init__(self, x: float, y: float) -> None:\n",
    "        self.x = x\n",
    "        self.y = y"
   ]
  },
  {
   "attachments": {},
   "cell_type": "markdown",
   "metadata": {},
   "source": [
    "8. Et pour en tracer un représentant dans le plan, on utilise la fonction `pylab.quiver`:\n",
    "\n",
    "```python\n",
    "pylab.quiver(x0, y0, x, y, units='xy', scale=1)\n",
    "```\n",
    "\n",
    "Implémenter une méthode dessiner, admettant un seul paramètre `p` (en plus de l’objet lui même bien sûr) de type `Point` et permettant d’afficher un représentant de ce vecteur au point `p`.\n",
    "\n",
    "Ainsi, si on rajoute les commandes suivantes aux précédentes :\n",
    "\n",
    "```python\n",
    "v1 = Vecteur(1,2)\n",
    "v1.dessiner(p3)\n",
    "\n",
    "v2 = Vecteur(-3,-1)\n",
    "v2.dessiner(p1)\n",
    "v2.dessiner(p2)\n",
    "```\n",
    "\n",
    "On doit voir apparaitre :\n",
    "\n",
    "![](troisfleches.png)\n"
   ]
  },
  {
   "cell_type": "code",
   "execution_count": 16,
   "metadata": {},
   "outputs": [
    {
     "data": {
      "image/png": "[encoded data removed]",
      "text/plain": [
       "<Figure size 640x480 with 1 Axes>"
      ]
     },
     "metadata": {},
     "output_type": "display_data"
    }
   ],
   "source": [
    "import pylab\n",
    "\n",
    "\n",
    "class Vecteur:\n",
    "    def __init__(self, x: float, y: float) -> None:\n",
    "        self.x = x\n",
    "        self.y = y\n",
    "\n",
    "    def dessiner(self, p: Point) -> None:\n",
    "        p.dessiner()\n",
    "        pylab.quiver(p.x, p.y, self.x, self.y, units=\"xy\", scale=1)\n",
    "\n",
    "\n",
    "v1 = Vecteur(1, 2)\n",
    "v1.dessiner(p3)\n",
    "v2 = Vecteur(-3, -1)\n",
    "v2.dessiner(p1)\n",
    "v2.dessiner(p2)\n",
    "\n",
    "pylab.axis(\"scaled\")\n",
    "pylab.show()"
   ]
  },
  {
   "attachments": {},
   "cell_type": "markdown",
   "metadata": {},
   "source": [
    "9. Parmi les noms de méthodes spéciales, il en existe une permettant d’utiliser le symbole « + » pour faire une « somme » de deux objets, de mêmes types ou pas : la méthode `__add__()`.\n",
    "\n",
    "Écrire la méthode `__add__`, acceptant comme argument (en plus du vecteur lui-même, `self`) un autre vecteur `v`, et en renvoyant le vecteur somme.\n",
    "\n",
    "Le résultat doit permettre de faire ça (après avoir implémenté une méthode `__repr__()`comme pour le point) :\n",
    "\n",
    "```python\n",
    ">>> u = Vecteur(1, 5)\n",
    ">>> v = Vecteur(1, 4)\n",
    ">>> u + v\n",
    "v(2, 9)\n",
    "```\n"
   ]
  },
  {
   "cell_type": "code",
   "execution_count": 17,
   "metadata": {},
   "outputs": [
    {
     "name": "stdout",
     "output_type": "stream",
     "text": [
      "v(2, 9)\n"
     ]
    }
   ],
   "source": [
    "import pylab\n",
    "from typing import Self\n",
    "\n",
    "\n",
    "class Vecteur:\n",
    "    def __init__(self, x: float, y: float) -> None:\n",
    "        self.x = x\n",
    "        self.y = y\n",
    "\n",
    "    def __repr__(self) -> str:\n",
    "        return f\"v({self.x}, {self.y})\"\n",
    "\n",
    "    def __add__(self, v: Self) -> Self:\n",
    "        return Vecteur(self.x + v.x, self.y + v.y)\n",
    "\n",
    "    def dessiner(self, p: Point) -> None:\n",
    "        p.dessiner()\n",
    "        pylab.quiver(p.x, p.y, self.x, self.y, units=\"xy\", scale=1)\n",
    "\n",
    "\n",
    "u = Vecteur(1, 5)\n",
    "v = Vecteur(1, 4)\n",
    "print(u + v)"
   ]
  },
  {
   "cell_type": "markdown",
   "metadata": {},
   "source": [
    "10. On considère une classe Droite disposant des attributs suivants:\n",
    "\n",
    "- p1 : un attribut public de type Point\n",
    "- p2 : un attribut public de type Point\n",
    "\n",
    "Créer une méthode `coeff_dir() -> float` qui renvoie en sortie un float : le coefficient directeur a de la droite :\n",
    "\n",
    "$a = \\frac{y_b - y_a}{x_b - x_a}$\n"
   ]
  },
  {
   "cell_type": "code",
   "execution_count": null,
   "metadata": {},
   "outputs": [],
   "source": [
    "class Droite:\n",
    "    def __init__(self, p1: Point, p2: Point) -> None:\n",
    "        self.p1 = p1\n",
    "        self.p2 = p2\n",
    "\n",
    "    def coeff_dir(self) -> float:\n",
    "        return (self.p2.y - self.p1.y) / (self.p2.x - self.p1.x)"
   ]
  },
  {
   "cell_type": "markdown",
   "metadata": {},
   "source": [
    "11. Créer une méthode `parallele(d1:Droite, d2:Droite)->bool` qui accepte en argument d'entrée deux droites d1 et d2, et renvoie en sortie si elles sont parallèles (True), ou pas (False)\n",
    "\n",
    "Créer une méthode `secantes(d1:Droite, d2:Droite)->bool` qui accepte en argument d'entrée deux droites d1 et d2, et renvoie en sortie si elles sont sécantes (True), ou pas (False)\n"
   ]
  },
  {
   "cell_type": "code",
   "execution_count": null,
   "metadata": {},
   "outputs": [],
   "source": [
    "from typing import Self\n",
    "\n",
    "\n",
    "class Droite:\n",
    "    def __init__(self, p1: Point, p2: Point) -> None:\n",
    "        self.p1 = p1\n",
    "        self.p2 = p2\n",
    "\n",
    "    def coeff_dir(self) -> float:\n",
    "        return (self.p2.y - self.p1.y) / (self.p2.x - self.p1.x)\n",
    "\n",
    "    @classmethod\n",
    "    def parallele(cls, d1: Self, d2: Self) -> bool:\n",
    "        return d1.coeff_dir() == d2.coeff_dir()\n",
    "\n",
    "    @classmethod\n",
    "    def secantes(cls, d1: Self, d2: Self) -> bool:\n",
    "        return not Droite.parallele(d1, d2)"
   ]
  },
  {
   "cell_type": "markdown",
   "metadata": {},
   "source": [
    "12. Soit (AB) la droite passant par les points A (xA, yA) et B (xB, yB).\n",
    "\n",
    "Ecrire une méthode `equation_reduite()` qui renvoie les deux coefficients a et b de l'équation réduite y=ax+b, donnés par les deux formules suivantes :\n",
    "\n",
    "$a = \\frac{y_b - y_a}{x_b - x_a}$\n",
    "\n",
    "et\n",
    "\n",
    "$b = \\frac{x_b y_a - x_a y_b}{x_b - x_a}$\n",
    "\n",
    "Ecrire une méthode `affiche_equation_reduite()` qui renvoie une chaîne de caractères affichant l'équation réduite de la droite y=ax+b de l'instance courante.\n"
   ]
  },
  {
   "cell_type": "code",
   "execution_count": null,
   "metadata": {},
   "outputs": [],
   "source": [
    "from typing import Self\n",
    "\n",
    "\n",
    "class Droite:\n",
    "    def __init__(self, p1: Point, p2: Point) -> None:\n",
    "        self.p1 = p1\n",
    "        self.p2 = p2\n",
    "\n",
    "    def coeff_dir(self) -> float:\n",
    "        return (self.p2.y - self.p1.y) / (self.p2.x - self.p1.x)\n",
    "\n",
    "    @classmethod\n",
    "    def parallele(cls, d1: Self, d2: Self) -> bool:\n",
    "        return d1.coeff_dir() == d2.coeff_dir()\n",
    "\n",
    "    @classmethod\n",
    "    def secantes(cls, d1: Self, d2: Self) -> bool:\n",
    "        return not Droite.parallele(d1, d2)\n",
    "\n",
    "    def equation_reduite(self) -> tuple[float, float]:\n",
    "        return (\n",
    "            self.coeff_dir(),\n",
    "            (self.p2.x * self.p1.y - self.p1.x * self.p2.y) / (self.p2.x - self.p1.x),\n",
    "        )"
   ]
  },
  {
   "cell_type": "markdown",
   "metadata": {},
   "source": [
    "13. Créer une méthode `passe_par(p: Point) -> bool` qui renvoie un booléen: `True` si l'instance courante de la droite passe par le point p (les coordonnées du point p vérifient l'équation de la droite), `False` sinon.\n"
   ]
  },
  {
   "cell_type": "code",
   "execution_count": null,
   "metadata": {},
   "outputs": [],
   "source": [
    "from typing import Self\n",
    "\n",
    "\n",
    "class Droite:\n",
    "    def __init__(self, p1: Point, p2: Point) -> None:\n",
    "        self.p1 = p1\n",
    "        self.p2 = p2\n",
    "\n",
    "    def coeff_dir(self) -> float:\n",
    "        return (self.p2.y - self.p1.y) / (self.p2.x - self.p1.x)\n",
    "\n",
    "    @classmethod\n",
    "    def parallele(cls, d1: Self, d2: Self) -> bool:\n",
    "        return d1.coeff_dir() == d2.coeff_dir()\n",
    "\n",
    "    @classmethod\n",
    "    def secantes(cls, d1: Self, d2: Self) -> bool:\n",
    "        return not Droite.parallele(d1, d2)\n",
    "\n",
    "    def equation_reduite(self) -> tuple[float, float]:\n",
    "        return (\n",
    "            self.coeff_dir(),\n",
    "            (self.p2.x * self.p1.y - self.p1.x * self.p2.y) / (self.p2.x - self.p1.x),\n",
    "        )\n",
    "\n",
    "    def passe_par(self, p: Point) -> bool:\n",
    "        a, b = self.equation_reduite()\n",
    "        return abs(p.y - a * p.x + b) < 1e-10"
   ]
  },
  {
   "cell_type": "markdown",
   "metadata": {},
   "source": [
    "### Exercice n°9 (Polynômes)\n",
    "\n",
    "On se donne la classe Poly suivante (à compléter) :\n",
    "\n",
    "```python\n",
    "class Poly:\n",
    "  def __init__(self, ...etc...):\n",
    "    # ... à compléter ...\n",
    "```\n",
    "\n",
    "1. Compléter le constructeur `__init__(self, p=None)` de sorte que: il reçoive en entrée un argument `p` sous forme d'une liste Python. Nous modéliserons les polynômes donnés en entrée pour instancier un objet de la classe `Poly`, par une logique inspirée des exemples suivants :\n",
    "\n",
    "- `[5]`: $5x^0 = 5$ (dans ce cas, le degré du polynôme vaut 0)\n",
    "- `[3,5]`: $3x^1+5x^0 = 3x+5$ (dans ce cas, le degré du polynôme vaut 1)\n",
    "- `[2,3,5]`: $2x^2+3x^1+5x^0 = 2x^2+3x+5$ (dans ce cas, le degré du polynôme vaut 2)\n",
    "- `[4,2,3,5]`: $4x^3+2x^2+3x^1+5x^0 = 4x^3+2x^2+3x+5$ (dans ce cas, le degré du polynôme vaut 3)\n",
    "  etc..\n",
    "\n",
    "Créer un attribut public d'instance, `coeffs` qui contient la liste des coefficients `[a_n,..,a_2,a_1,a_0]` modélisant le polynôme $a_n x^n + \\dots + a_2 x^2 + a_1 x + a_0$.\n"
   ]
  },
  {
   "cell_type": "code",
   "execution_count": 6,
   "metadata": {},
   "outputs": [],
   "source": [
    "class Poly:\n",
    "    def __init__(self, p: list[float] | None = None) -> None:\n",
    "        self.coeffs: list[float] = [0] if p is None else p"
   ]
  },
  {
   "cell_type": "markdown",
   "metadata": {},
   "source": [
    "2. Créer une méthode magique `__repr__()` qui représente le polynôme de l'instance courante self dans un Terminal, sous la forme `a_n x^n + ...+ a_2 x^2 + a_1 x + a_0` où $a_n$, ... , $a_2$, $a_1$, $a_0$ désignent les coefficients du polynôme.\n",
    "\n",
    "On pourra améliorer l'affichage dans Terminal en affichant, par exemple : $7x^2-3x+5$ plutôt que $7x^2+-3x+5$.\n"
   ]
  },
  {
   "cell_type": "code",
   "execution_count": 13,
   "metadata": {},
   "outputs": [
    {
     "name": "stdout",
     "output_type": "stream",
     "text": [
      "x^3+2x^2+3x+4\n",
      "7x^2-3x+5\n"
     ]
    }
   ],
   "source": [
    "class Poly:\n",
    "    def __init__(self, p: list[float] | None = None) -> None:\n",
    "        self.coeffs: list[float] = [0] if p is None else p\n",
    "\n",
    "    def __repr__(self) -> str:\n",
    "        res = \"\"\n",
    "        deg = len(self.coeffs) - 1\n",
    "        for i, p in enumerate(self.coeffs):\n",
    "            if p == 0:\n",
    "                pass\n",
    "            elif p == 1:\n",
    "                res += f\"+{1 if i == deg else ''}{'x' if i < deg else ''}{f'^{str(deg - i)}' if i < deg - 1 else ''}\"\n",
    "            elif p > 0:\n",
    "                res += f\"+{p}{'x' if i < deg else ''}{f'^{str(deg - i)}' if i < deg - 1 else ''}\"\n",
    "            else:\n",
    "                res += f\"{p}{'x' if i < deg else ''}{f'^{str(deg - i)}' if i < deg - 1 else ''}\"\n",
    "        if res == \"\":\n",
    "            return \"0\"\n",
    "        elif res[0] == \"+\":\n",
    "            return res[1:]\n",
    "        else:\n",
    "            return res\n",
    "\n",
    "\n",
    "p = Poly([1, 2, 3, 4])\n",
    "print(p)\n",
    "p2 = Poly([7, -3, 5])\n",
    "print(p2)"
   ]
  },
  {
   "cell_type": "markdown",
   "metadata": {},
   "source": [
    "3. Créer une méthode `degre()` qui renvoie le degré de l'instance courante self\n"
   ]
  },
  {
   "cell_type": "code",
   "execution_count": 9,
   "metadata": {},
   "outputs": [],
   "source": [
    "class Poly:\n",
    "    def __init__(self, p: list[float] | None = None) -> None:\n",
    "        self.coeffs: list[float] = [0] if p is None else p\n",
    "\n",
    "    def __repr__(self) -> str:\n",
    "        res = \"\"\n",
    "        deg = len(self.coeffs) - 1\n",
    "        for i, p in enumerate(self.coeffs):\n",
    "            if p == 0:\n",
    "                pass\n",
    "            elif p == 1:\n",
    "                res += f\"+{1 if i == deg else ''}{'x' if i < deg else ''}{f'^{str(deg - i)}' if i < deg - 1 else ''}\"\n",
    "            elif p > 0:\n",
    "                res += f\"+{p}{'x' if i < deg else ''}{f'^{str(deg - i)}' if i < deg - 1 else ''}\"\n",
    "            else:\n",
    "                res += f\"{p}{'x' if i < deg else ''}{f'^{str(deg - i)}' if i < deg - 1 else ''}\"\n",
    "        if res == \"\":\n",
    "            return \"0\"\n",
    "        elif res[0] == \"+\":\n",
    "            return res[1:]\n",
    "        else:\n",
    "            return res\n",
    "\n",
    "    @property\n",
    "    def degre(self) -> int:\n",
    "        return len(self.coeffs) - 1"
   ]
  },
  {
   "cell_type": "markdown",
   "metadata": {},
   "source": [
    "4. Créer une méthode `coeff(n: int) -> float` telle que:\n",
    "\n",
    "- elle reçoit en entrée un entier `n`\n",
    "- elle renvoie en sortie : le coefficient `a_n` correspondant au monôme $x^n$, lorsque ce monôme existe dans le polynôme, ou bien, $0$ lorsque ce monôme n'existe pas dans le polynôme\n"
   ]
  },
  {
   "cell_type": "code",
   "execution_count": 11,
   "metadata": {},
   "outputs": [
    {
     "name": "stdout",
     "output_type": "stream",
     "text": [
      "7\n",
      "-3\n"
     ]
    }
   ],
   "source": [
    "class Poly:\n",
    "    def __init__(self, p: list[float] | None = None) -> None:\n",
    "        self.coeffs: list[float] = [0] if p is None else p\n",
    "\n",
    "    def __repr__(self) -> str:\n",
    "        res = \"\"\n",
    "        deg = len(self.coeffs) - 1\n",
    "        for i, p in enumerate(self.coeffs):\n",
    "            if p == 0:\n",
    "                pass\n",
    "            elif p == 1:\n",
    "                res += f\"+{1 if i == deg else ''}{'x' if i < deg else ''}{f'^{str(deg - i)}' if i < deg - 1 else ''}\"\n",
    "            elif p > 0:\n",
    "                res += f\"+{p}{'x' if i < deg else ''}{f'^{str(deg - i)}' if i < deg - 1 else ''}\"\n",
    "            else:\n",
    "                res += f\"{p}{'x' if i < deg else ''}{f'^{str(deg - i)}' if i < deg - 1 else ''}\"\n",
    "        if res == \"\":\n",
    "            return \"0\"\n",
    "        elif res[0] == \"+\":\n",
    "            return res[1:]\n",
    "        else:\n",
    "            return res\n",
    "\n",
    "    @property\n",
    "    def degre(self) -> int:\n",
    "        return len(self.coeffs) - 1\n",
    "\n",
    "    def coeff(self, n: int) -> float:\n",
    "        return self.coeffs[self.degre - n] if n <= self.degre else 0\n",
    "\n",
    "\n",
    "p2 = Poly([7, -3, 5])\n",
    "print(p2.coeff(2))\n",
    "print(p2.coeff(1))"
   ]
  },
  {
   "cell_type": "markdown",
   "metadata": {},
   "source": [
    "5. Créer une méthode publique `oppose()` qui renvoie le polynôme opposé du polynôme de l'instance courante `self`. Le polynôme opposé est le polynôme dont chaque coefficient a été transformé en son opposé (l'opposé d'un coefficent $a_n$ est $-a_n$)\n"
   ]
  },
  {
   "cell_type": "code",
   "execution_count": 14,
   "metadata": {},
   "outputs": [
    {
     "name": "stdout",
     "output_type": "stream",
     "text": [
      "-7x^2+3x-5\n"
     ]
    }
   ],
   "source": [
    "from typing import Self\n",
    "\n",
    "\n",
    "class Poly:\n",
    "    def __init__(self, p: list[float] | None = None) -> None:\n",
    "        self.coeffs: list[float] = [0] if p is None else p\n",
    "\n",
    "    def __repr__(self) -> str:\n",
    "        res = \"\"\n",
    "        deg = len(self.coeffs) - 1\n",
    "        for i, p in enumerate(self.coeffs):\n",
    "            if p == 0:\n",
    "                pass\n",
    "            elif p == 1:\n",
    "                res += f\"+{1 if i == deg else ''}{'x' if i < deg else ''}{f'^{str(deg - i)}' if i < deg - 1 else ''}\"\n",
    "            elif p > 0:\n",
    "                res += f\"+{p}{'x' if i < deg else ''}{f'^{str(deg - i)}' if i < deg - 1 else ''}\"\n",
    "            else:\n",
    "                res += f\"{p}{'x' if i < deg else ''}{f'^{str(deg - i)}' if i < deg - 1 else ''}\"\n",
    "        if res == \"\":\n",
    "            return \"0\"\n",
    "        elif res[0] == \"+\":\n",
    "            return res[1:]\n",
    "        else:\n",
    "            return res\n",
    "\n",
    "    @property\n",
    "    def degre(self) -> int:\n",
    "        return len(self.coeffs) - 1\n",
    "\n",
    "    def coeff(self, n: int) -> float:\n",
    "        return self.coeffs[self.degre - n] if n <= self.degre else 0\n",
    "\n",
    "    def oppose(self) -> Self:\n",
    "        return Poly([-1 * coeff for coeff in self.coeffs])\n",
    "\n",
    "\n",
    "p2 = Poly([7, -3, 5])\n",
    "p3 = p2.oppose()\n",
    "print(p3)"
   ]
  },
  {
   "cell_type": "markdown",
   "metadata": {},
   "source": [
    "6. Créer une méthode magique `__eq__()` qui teste l'égalité de deux polynômes : rappelons que deux polynômes sont égaux si et seulement si:\n",
    "\n",
    "- leur degré est le même\n",
    "- tous leurs coefficents sont égaux deux à deux (pour les monômes correspondants)\n",
    "\n",
    "Cette méthode renvoie donc un booléen:\n",
    "\n",
    "- `True` lorsque les deux polynômes sont égaux\n",
    "- `False` sinon : lorsque les deux polynômes NE sont PAS égaux\n"
   ]
  },
  {
   "cell_type": "code",
   "execution_count": 15,
   "metadata": {},
   "outputs": [
    {
     "name": "stdout",
     "output_type": "stream",
     "text": [
      "True\n"
     ]
    }
   ],
   "source": [
    "from typing import Self\n",
    "\n",
    "\n",
    "class Poly:\n",
    "    def __init__(self, p: list[float] | None = None) -> None:\n",
    "        self.coeffs: list[float] = [0] if p is None else p\n",
    "\n",
    "    def __repr__(self) -> str:\n",
    "        res = \"\"\n",
    "        deg = len(self.coeffs) - 1\n",
    "        for i, p in enumerate(self.coeffs):\n",
    "            if p == 0:\n",
    "                pass\n",
    "            elif p == 1:\n",
    "                res += f\"+{1 if i == deg else ''}{'x' if i < deg else ''}{f'^{str(deg - i)}' if i < deg - 1 else ''}\"\n",
    "            elif p > 0:\n",
    "                res += f\"+{p}{'x' if i < deg else ''}{f'^{str(deg - i)}' if i < deg - 1 else ''}\"\n",
    "            else:\n",
    "                res += f\"{p}{'x' if i < deg else ''}{f'^{str(deg - i)}' if i < deg - 1 else ''}\"\n",
    "        if res == \"\":\n",
    "            return \"0\"\n",
    "        elif res[0] == \"+\":\n",
    "            return res[1:]\n",
    "        else:\n",
    "            return res\n",
    "\n",
    "    @property\n",
    "    def degre(self) -> int:\n",
    "        return len(self.coeffs) - 1\n",
    "\n",
    "    def coeff(self, n: int) -> float:\n",
    "        return self.coeffs[self.degre - n] if n <= self.degre else 0\n",
    "\n",
    "    def oppose(self) -> Self:\n",
    "        return Poly([-1 * coeff for coeff in self.coeffs])\n",
    "\n",
    "    def __eq__(self, other: Self) -> bool:\n",
    "        return self.coeffs == other.coeffs\n",
    "\n",
    "\n",
    "p2 = Poly([7, -3, 5])\n",
    "p3 = Poly([7, -3, 5])\n",
    "print(p2 == p3)"
   ]
  },
  {
   "cell_type": "markdown",
   "metadata": {},
   "source": [
    "7. Créer une méthode magique `__add__()` qui ajoute deux polynômes. Cette méthode magique renvoie donc un object de classe `Poly`.\n"
   ]
  },
  {
   "cell_type": "code",
   "execution_count": 25,
   "metadata": {},
   "outputs": [
    {
     "name": "stdout",
     "output_type": "stream",
     "text": [
      "14x^2-6x+10\n"
     ]
    }
   ],
   "source": [
    "from typing import Self\n",
    "\n",
    "\n",
    "class Poly:\n",
    "    def __init__(self, p: list[float] | None = None) -> None:\n",
    "        self.coeffs: list[float] = [0] if p is None else p\n",
    "\n",
    "    def __repr__(self) -> str:\n",
    "        res = \"\"\n",
    "        deg = len(self.coeffs) - 1\n",
    "        for i, p in enumerate(self.coeffs):\n",
    "            if p == 0:\n",
    "                pass\n",
    "            elif p == 1:\n",
    "                res += f\"+{1 if i == deg else ''}{'x' if i < deg else ''}{f'^{str(deg - i)}' if i < deg - 1 else ''}\"\n",
    "            elif p > 0:\n",
    "                res += f\"+{p}{'x' if i < deg else ''}{f'^{str(deg - i)}' if i < deg - 1 else ''}\"\n",
    "            else:\n",
    "                res += f\"{p}{'x' if i < deg else ''}{f'^{str(deg - i)}' if i < deg - 1 else ''}\"\n",
    "        if res == \"\":\n",
    "            return \"0\"\n",
    "        elif res[0] == \"+\":\n",
    "            return res[1:]\n",
    "        else:\n",
    "            return res\n",
    "\n",
    "    @property\n",
    "    def degre(self) -> int:\n",
    "        return len(self.coeffs) - 1\n",
    "\n",
    "    def coeff(self, n: int) -> float:\n",
    "        return self.coeffs[self.degre - n] if n <= self.degre else 0\n",
    "\n",
    "    def oppose(self) -> Self:\n",
    "        return Poly([-1 * coeff for coeff in self.coeffs])\n",
    "\n",
    "    def __eq__(self, other: Self) -> bool:\n",
    "        return self.coeffs == other.coeffs\n",
    "\n",
    "    def __add__(self, other: Self) -> Self:\n",
    "        p = Poly(\n",
    "            [\n",
    "                self.coeff(i) + other.coeff(i)\n",
    "                for i in range(max(self.degre, other.degre), -1, -1)\n",
    "            ]\n",
    "        )\n",
    "        while len(p.coeffs) > 1 and p.coeffs[0] == 0:\n",
    "            p.coeffs.pop(0)\n",
    "        return p\n",
    "\n",
    "\n",
    "p2 = Poly([7, -3, 5])\n",
    "p3 = Poly([7, -3, 5])\n",
    "print(p2 + p3)"
   ]
  },
  {
   "cell_type": "markdown",
   "metadata": {},
   "source": [
    "8. Créer une méthode magique `__sub__()` qui soustrait deux polynômes. Cette méthode magique renvoie donc un object de classe Poly.\n"
   ]
  },
  {
   "cell_type": "code",
   "execution_count": 26,
   "metadata": {},
   "outputs": [
    {
     "name": "stdout",
     "output_type": "stream",
     "text": [
      "0\n",
      "[0]\n"
     ]
    }
   ],
   "source": [
    "from typing import Self\n",
    "\n",
    "\n",
    "class Poly:\n",
    "    def __init__(self, p: list[float] | None = None) -> None:\n",
    "        self.coeffs: list[float] = [0] if p is None else p\n",
    "\n",
    "    def __repr__(self) -> str:\n",
    "        res = \"\"\n",
    "        deg = len(self.coeffs) - 1\n",
    "        for i, p in enumerate(self.coeffs):\n",
    "            if p == 0:\n",
    "                pass\n",
    "            elif p == 1:\n",
    "                res += f\"+{1 if i == deg else ''}{'x' if i < deg else ''}{f'^{str(deg - i)}' if i < deg - 1 else ''}\"\n",
    "            elif p > 0:\n",
    "                res += f\"+{p}{'x' if i < deg else ''}{f'^{str(deg - i)}' if i < deg - 1 else ''}\"\n",
    "            else:\n",
    "                res += f\"{p}{'x' if i < deg else ''}{f'^{str(deg - i)}' if i < deg - 1 else ''}\"\n",
    "        if res == \"\":\n",
    "            return \"0\"\n",
    "        elif res[0] == \"+\":\n",
    "            return res[1:]\n",
    "        else:\n",
    "            return res\n",
    "\n",
    "    @property\n",
    "    def degre(self) -> int:\n",
    "        return len(self.coeffs) - 1\n",
    "\n",
    "    def coeff(self, n: int) -> float:\n",
    "        return self.coeffs[self.degre - n] if n <= self.degre else 0\n",
    "\n",
    "    def oppose(self) -> Self:\n",
    "        return Poly([-1 * coeff for coeff in self.coeffs])\n",
    "\n",
    "    def __eq__(self, other: Self) -> bool:\n",
    "        return self.coeffs == other.coeffs\n",
    "\n",
    "    def __add__(self, other: Self) -> Self:\n",
    "        p = Poly(\n",
    "            [\n",
    "                self.coeff(i) + other.coeff(i)\n",
    "                for i in range(max(self.degre, other.degre), -1, -1)\n",
    "            ]\n",
    "        )\n",
    "        while len(p.coeffs) > 1 and p.coeffs[0] == 0:\n",
    "            p.coeffs.pop(0)\n",
    "        return p\n",
    "\n",
    "    def __sub__(self, other: Self) -> Self:\n",
    "        return self + other.oppose()\n",
    "\n",
    "\n",
    "p2 = Poly([7, -3, 5])\n",
    "p3 = Poly([7, -3, 5])\n",
    "p4 = p2 - p3\n",
    "print(p4)\n",
    "print(p4.coeffs)"
   ]
  },
  {
   "cell_type": "markdown",
   "metadata": {},
   "source": [
    "9. Créer une méthode magique `__mul__()` qui multiplie deux polynômes. Cette méthode magique renvoie donc un object de classe Poly.\n"
   ]
  },
  {
   "cell_type": "code",
   "execution_count": 27,
   "metadata": {},
   "outputs": [
    {
     "name": "stdout",
     "output_type": "stream",
     "text": [
      "49x^4-42x^3+79x^2-30x+25\n"
     ]
    }
   ],
   "source": [
    "from typing import Self\n",
    "\n",
    "\n",
    "class Poly:\n",
    "    def __init__(self, p: list[float] | None = None) -> None:\n",
    "        self.coeffs: list[float] = [0] if p is None else p\n",
    "\n",
    "    def __repr__(self) -> str:\n",
    "        res = \"\"\n",
    "        deg = len(self.coeffs) - 1\n",
    "        for i, p in enumerate(self.coeffs):\n",
    "            if p == 0:\n",
    "                pass\n",
    "            elif p == 1:\n",
    "                res += f\"+{1 if i == deg else ''}{'x' if i < deg else ''}{f'^{str(deg - i)}' if i < deg - 1 else ''}\"\n",
    "            elif p > 0:\n",
    "                res += f\"+{p}{'x' if i < deg else ''}{f'^{str(deg - i)}' if i < deg - 1 else ''}\"\n",
    "            else:\n",
    "                res += f\"{p}{'x' if i < deg else ''}{f'^{str(deg - i)}' if i < deg - 1 else ''}\"\n",
    "        if res == \"\":\n",
    "            return \"0\"\n",
    "        elif res[0] == \"+\":\n",
    "            return res[1:]\n",
    "        else:\n",
    "            return res\n",
    "\n",
    "    @property\n",
    "    def degre(self) -> int:\n",
    "        return len(self.coeffs) - 1\n",
    "\n",
    "    def coeff(self, n: int) -> float:\n",
    "        return self.coeffs[self.degre - n] if n <= self.degre else 0\n",
    "\n",
    "    def oppose(self) -> Self:\n",
    "        return Poly([-1 * coeff for coeff in self.coeffs])\n",
    "\n",
    "    def __eq__(self, other: Self) -> bool:\n",
    "        return self.coeffs == other.coeffs\n",
    "\n",
    "    def __add__(self, other: Self) -> Self:\n",
    "        p = Poly(\n",
    "            [\n",
    "                self.coeff(i) + other.coeff(i)\n",
    "                for i in range(max(self.degre, other.degre), -1, -1)\n",
    "            ]\n",
    "        )\n",
    "        while len(p.coeffs) > 1 and p.coeffs[0] == 0:\n",
    "            p.coeffs.pop(0)\n",
    "        return p\n",
    "\n",
    "    def __sub__(self, other: Self) -> Self:\n",
    "        return self + other.oppose()\n",
    "\n",
    "    def __mul__(self, other: Self) -> Self:\n",
    "        res = Poly()\n",
    "        for i in range(other.degre + 1):\n",
    "            res += Poly([other.coeff(i) * coeff for coeff in self.coeffs] + [0] * i)\n",
    "        return res\n",
    "\n",
    "\n",
    "p2 = Poly([7, -3, 5])\n",
    "p3 = Poly([7, -3, 5])\n",
    "print(p2 * p3)"
   ]
  },
  {
   "cell_type": "markdown",
   "metadata": {},
   "source": [
    "10. Créer une méthode magique `__pow__(n: int)` qui calcule le polynôme à la puissance un nombre entier (positif) `n`. Cette méthode magique renvoie donc un object de classe Poly.\n"
   ]
  },
  {
   "cell_type": "code",
   "execution_count": 28,
   "metadata": {},
   "outputs": [
    {
     "name": "stdout",
     "output_type": "stream",
     "text": [
      "49x^4-42x^3+79x^2-30x+25\n"
     ]
    }
   ],
   "source": [
    "from typing import Self\n",
    "\n",
    "\n",
    "class Poly:\n",
    "    def __init__(self, p: list[float] | None = None) -> None:\n",
    "        self.coeffs: list[float] = [0] if p is None else p\n",
    "\n",
    "    def __repr__(self) -> str:\n",
    "        res = \"\"\n",
    "        deg = len(self.coeffs) - 1\n",
    "        for i, p in enumerate(self.coeffs):\n",
    "            if p == 0:\n",
    "                pass\n",
    "            elif p == 1:\n",
    "                res += f\"+{1 if i == deg else ''}{'x' if i < deg else ''}{f'^{str(deg - i)}' if i < deg - 1 else ''}\"\n",
    "            elif p > 0:\n",
    "                res += f\"+{p}{'x' if i < deg else ''}{f'^{str(deg - i)}' if i < deg - 1 else ''}\"\n",
    "            else:\n",
    "                res += f\"{p}{'x' if i < deg else ''}{f'^{str(deg - i)}' if i < deg - 1 else ''}\"\n",
    "        if res == \"\":\n",
    "            return \"0\"\n",
    "        elif res[0] == \"+\":\n",
    "            return res[1:]\n",
    "        else:\n",
    "            return res\n",
    "\n",
    "    @property\n",
    "    def degre(self) -> int:\n",
    "        return len(self.coeffs) - 1\n",
    "\n",
    "    def coeff(self, n: int) -> float:\n",
    "        return self.coeffs[self.degre - n] if n <= self.degre else 0\n",
    "\n",
    "    def oppose(self) -> Self:\n",
    "        return Poly([-1 * coeff for coeff in self.coeffs])\n",
    "\n",
    "    def __eq__(self, other: Self) -> bool:\n",
    "        return self.coeffs == other.coeffs\n",
    "\n",
    "    def __add__(self, other: Self) -> Self:\n",
    "        p = Poly(\n",
    "            [\n",
    "                self.coeff(i) + other.coeff(i)\n",
    "                for i in range(max(self.degre, other.degre), -1, -1)\n",
    "            ]\n",
    "        )\n",
    "        while len(p.coeffs) > 1 and p.coeffs[0] == 0:\n",
    "            p.coeffs.pop(0)\n",
    "        return p\n",
    "\n",
    "    def __sub__(self, other: Self) -> Self:\n",
    "        return self + other.oppose()\n",
    "\n",
    "    def __mul__(self, other: Self) -> Self:\n",
    "        res = Poly()\n",
    "        for i in range(other.degre + 1):\n",
    "            res += Poly([other.coeff(i) * coeff for coeff in self.coeffs] + [0] * i)\n",
    "        return res\n",
    "\n",
    "    def __pow__(self, n: int) -> Self:\n",
    "        res = Poly([1])\n",
    "        for _ in range(n):\n",
    "            res *= self\n",
    "        return res\n",
    "\n",
    "\n",
    "p2 = Poly([7, -3, 5])\n",
    "print(p2**2)"
   ]
  },
  {
   "cell_type": "markdown",
   "metadata": {},
   "source": [
    "11. On dispose de la propriété suivante pour des polynômes :\n",
    "\n",
    "> Propriété 1. Vers la division euclidienne polynômiale, un début...\n",
    "> Soit $A$ et $B$ deux polynômes, avec $B \\neq 0$, alors il existe un unique couple $(Q_1, R_1)$ de deux polynômes $Q_1$ et $R_1$ tels que :\n",
    ">\n",
    "> - $Q_1$ est un monôme de la forme $aX^n$, avec $deg(Q1) = deg(A) - deg(B)$\n",
    "> - $A = Q_1 \\times B + R_1$, donc $R_1 = A - B \\times Q_1$\n",
    "> - $deg(R_1) < deg(A)$\n",
    "\n",
    "Créer une méthode `divmodmono(B:Poly) -> tuple(Q1,P1)` telle que:\n",
    "\n",
    "- elle reçoit en entrée l'instance courante `self` d'un Polynôme $A$ et un Polynôme $B$,\n",
    "- elle renvoie en sortie le tuple des deux instances $(Q_1, R_1)$ de classe `Poly`, telles que décrites précécemment\n"
   ]
  },
  {
   "cell_type": "code",
   "execution_count": 29,
   "metadata": {},
   "outputs": [
    {
     "name": "stdout",
     "output_type": "stream",
     "text": [
      "(x^3, -2.0x^3+3x^2-2x)\n"
     ]
    }
   ],
   "source": [
    "from typing import Self\n",
    "\n",
    "\n",
    "class Poly:\n",
    "    def __init__(self, p: list[float] | None = None) -> None:\n",
    "        self.coeffs: list[float] = [0] if p is None else p\n",
    "\n",
    "    def __repr__(self) -> str:\n",
    "        res = \"\"\n",
    "        deg = len(self.coeffs) - 1\n",
    "        for i, p in enumerate(self.coeffs):\n",
    "            if p == 0:\n",
    "                pass\n",
    "            elif p == 1:\n",
    "                res += f\"+{1 if i == deg else ''}{'x' if i < deg else ''}{f'^{str(deg - i)}' if i < deg - 1 else ''}\"\n",
    "            elif p > 0:\n",
    "                res += f\"+{p}{'x' if i < deg else ''}{f'^{str(deg - i)}' if i < deg - 1 else ''}\"\n",
    "            else:\n",
    "                res += f\"{p}{'x' if i < deg else ''}{f'^{str(deg - i)}' if i < deg - 1 else ''}\"\n",
    "        if res == \"\":\n",
    "            return \"0\"\n",
    "        elif res[0] == \"+\":\n",
    "            return res[1:]\n",
    "        else:\n",
    "            return res\n",
    "\n",
    "    @property\n",
    "    def degre(self) -> int:\n",
    "        return len(self.coeffs) - 1\n",
    "\n",
    "    def coeff(self, n: int) -> float:\n",
    "        return self.coeffs[self.degre - n] if n <= self.degre else 0\n",
    "\n",
    "    def oppose(self) -> Self:\n",
    "        return Poly([-1 * coeff for coeff in self.coeffs])\n",
    "\n",
    "    def __eq__(self, other: Self) -> bool:\n",
    "        return self.coeffs == other.coeffs\n",
    "\n",
    "    def __add__(self, other: Self) -> Self:\n",
    "        p = Poly(\n",
    "            [\n",
    "                self.coeff(i) + other.coeff(i)\n",
    "                for i in range(max(self.degre, other.degre), -1, -1)\n",
    "            ]\n",
    "        )\n",
    "        while len(p.coeffs) > 1 and p.coeffs[0] == 0:\n",
    "            p.coeffs.pop(0)\n",
    "        return p\n",
    "\n",
    "    def __sub__(self, other: Self) -> Self:\n",
    "        return self + other.oppose()\n",
    "\n",
    "    def __mul__(self, other: Self) -> Self:\n",
    "        res = Poly()\n",
    "        for i in range(other.degre + 1):\n",
    "            res += Poly([other.coeff(i) * coeff for coeff in self.coeffs] + [0] * i)\n",
    "        return res\n",
    "\n",
    "    def __pow__(self, n: int) -> Self:\n",
    "        res = Poly([1])\n",
    "        for _ in range(n):\n",
    "            res *= self\n",
    "        return res\n",
    "\n",
    "    def divmodmono(self, B: Self) -> tuple[Self, Self]:\n",
    "        if self.degre < B.degre:\n",
    "            return (Poly(), B)\n",
    "        q1 = Poly([(self.coeffs[0] / B.coeffs[0])] + [0] * (self.degre - B.degre))\n",
    "        r1 = self - q1 * B\n",
    "        return (q1, r1)\n",
    "\n",
    "\n",
    "a = Poly([1, -1, -1, 3, -2, 0])\n",
    "b = Poly([1, -1, 1])\n",
    "print(a.divmodmono(b))"
   ]
  },
  {
   "cell_type": "markdown",
   "metadata": {},
   "source": [
    "12. Division Euclidienne Polynômiale\n",
    "\n",
    "> La Division Euclidienne Polynômiale d'un Polynôme $A$ par un Polynôme $B$, avec $B \\neq 0$, quelquefois appelée plus simplement Division Polynômiale de $A$ par $B$, est une opération arithmétique algorithmique généralisant la division euclienne dans le cas des polynômes. La division polynômiale de $A$ par $B$ détermine de manière unique un couple de deux polynômes ($Q$, $R$) tel que :\n",
    ">\n",
    "> - $A = BQ + R$\n",
    "> - $0 \\leq deg(R) < deg(B)$\n",
    "\n",
    "Créer une méthode magique `__divmod__(B:Poly)->tuple(Q:Poly, R:Poly)` telle que:\n",
    "\n",
    "- elle reçoit en entrée l'instance courante self du Polynôme $A$ et un Polynôme $B$\n",
    "- elle renvoie en sortie un tuple constitué du quotient $Q$ (=un polynôme) et du reste $R$ (=un polynôme) de la division euclidienne polynômiale de $A$ par $B$.\n",
    "\n",
    "Cette méthode magique renvoie donc un tuple de deux objets de classe Poly.\n"
   ]
  },
  {
   "cell_type": "code",
   "execution_count": 35,
   "metadata": {},
   "outputs": [
    {
     "name": "stdout",
     "output_type": "stream",
     "text": [
      "x^3-2.0x+1 x-1.0\n"
     ]
    }
   ],
   "source": [
    "from typing import Self\n",
    "\n",
    "\n",
    "class Poly:\n",
    "    def __init__(self, p: list[float] | None = None) -> None:\n",
    "        self.coeffs: list[float] = [0] if p is None else p\n",
    "\n",
    "    def __repr__(self) -> str:\n",
    "        res = \"\"\n",
    "        deg = len(self.coeffs) - 1\n",
    "        for i, p in enumerate(self.coeffs):\n",
    "            if p == 0:\n",
    "                pass\n",
    "            elif p == 1:\n",
    "                res += f\"+{1 if i == deg else ''}{'x' if i < deg else ''}{f'^{str(deg - i)}' if i < deg - 1 else ''}\"\n",
    "            elif p > 0:\n",
    "                res += f\"+{p}{'x' if i < deg else ''}{f'^{str(deg - i)}' if i < deg - 1 else ''}\"\n",
    "            else:\n",
    "                res += f\"{p}{'x' if i < deg else ''}{f'^{str(deg - i)}' if i < deg - 1 else ''}\"\n",
    "        if res == \"\":\n",
    "            return \"0\"\n",
    "        elif res[0] == \"+\":\n",
    "            return res[1:]\n",
    "        else:\n",
    "            return res\n",
    "\n",
    "    @property\n",
    "    def degre(self) -> int:\n",
    "        return len(self.coeffs) - 1\n",
    "\n",
    "    def coeff(self, n: int) -> float:\n",
    "        return self.coeffs[self.degre - n] if n <= self.degre else 0\n",
    "\n",
    "    def oppose(self) -> Self:\n",
    "        return Poly([-1 * coeff for coeff in self.coeffs])\n",
    "\n",
    "    def __eq__(self, other: Self) -> bool:\n",
    "        return self.coeffs == other.coeffs\n",
    "\n",
    "    def __add__(self, other: Self) -> Self:\n",
    "        p = Poly(\n",
    "            [\n",
    "                self.coeff(i) + other.coeff(i)\n",
    "                for i in range(max(self.degre, other.degre), -1, -1)\n",
    "            ]\n",
    "        )\n",
    "        while len(p.coeffs) > 1 and p.coeffs[0] == 0:\n",
    "            p.coeffs.pop(0)\n",
    "        return p\n",
    "\n",
    "    def __sub__(self, other: Self) -> Self:\n",
    "        return self + other.oppose()\n",
    "\n",
    "    def __mul__(self, other: Self) -> Self:\n",
    "        res = Poly()\n",
    "        for i in range(other.degre + 1):\n",
    "            res += Poly([other.coeff(i) * coeff for coeff in self.coeffs] + [0] * i)\n",
    "        return res\n",
    "\n",
    "    def __pow__(self, n: int) -> Self:\n",
    "        res = Poly([1])\n",
    "        for _ in range(n):\n",
    "            res *= self\n",
    "        return res\n",
    "\n",
    "    def divmodmono(self, B: Self) -> tuple[Self, Self]:\n",
    "        if self.degre < B.degre:\n",
    "            return (Poly(), B)\n",
    "        q1 = Poly([(self.coeffs[0] / B.coeffs[0])] + [0] * (self.degre - B.degre))\n",
    "        r1 = self - q1 * B\n",
    "        return (q1, r1)\n",
    "\n",
    "    def __divmod__(self, B: Self) -> tuple[Self, Self]:\n",
    "        q, r = self.divmodmono(B)\n",
    "        while r.degre >= B.degre:\n",
    "            q2, r = r.divmodmono(B)\n",
    "            q += q2\n",
    "        return (q, r)\n",
    "\n",
    "\n",
    "a = Poly([1, -1, -1, 3, -2, 0])\n",
    "b = Poly([1, -1, 1])\n",
    "q, r = a.__divmod__(b)\n",
    "print(q, r)"
   ]
  },
  {
   "cell_type": "markdown",
   "metadata": {},
   "source": [
    "13. En déduire une méthode magique `__floordiv__()` qui renvoie (uniquement) le quotient (=un polynôme) de la division euclidienne entre deux polynômes. Cette méthode magique renvoie donc un objet de classe Poly.\n",
    "\n",
    "En déduire une méthode magique `__mod__()` qui renvoie (uniquement) le reste (=un polynôme) de la division euclidienne entre deux polynômes. Cette méthode magique renvoie donc un objet de classe Poly.\n"
   ]
  },
  {
   "cell_type": "code",
   "execution_count": 36,
   "metadata": {},
   "outputs": [
    {
     "name": "stdout",
     "output_type": "stream",
     "text": [
      "x^3-2.0x+1\n",
      "x-1.0\n"
     ]
    }
   ],
   "source": [
    "from typing import Self\n",
    "\n",
    "\n",
    "class Poly:\n",
    "    def __init__(self, p: list[float] | None = None) -> None:\n",
    "        self.coeffs: list[float] = [0] if p is None else p\n",
    "\n",
    "    def __repr__(self) -> str:\n",
    "        res = \"\"\n",
    "        deg = len(self.coeffs) - 1\n",
    "        for i, p in enumerate(self.coeffs):\n",
    "            if p == 0:\n",
    "                pass\n",
    "            elif p == 1:\n",
    "                res += f\"+{1 if i == deg else ''}{'x' if i < deg else ''}{f'^{str(deg - i)}' if i < deg - 1 else ''}\"\n",
    "            elif p > 0:\n",
    "                res += f\"+{p}{'x' if i < deg else ''}{f'^{str(deg - i)}' if i < deg - 1 else ''}\"\n",
    "            else:\n",
    "                res += f\"{p}{'x' if i < deg else ''}{f'^{str(deg - i)}' if i < deg - 1 else ''}\"\n",
    "        if res == \"\":\n",
    "            return \"0\"\n",
    "        elif res[0] == \"+\":\n",
    "            return res[1:]\n",
    "        else:\n",
    "            return res\n",
    "\n",
    "    @property\n",
    "    def degre(self) -> int:\n",
    "        return len(self.coeffs) - 1\n",
    "\n",
    "    def coeff(self, n: int) -> float:\n",
    "        return self.coeffs[self.degre - n] if n <= self.degre else 0\n",
    "\n",
    "    def oppose(self) -> Self:\n",
    "        return Poly([-1 * coeff for coeff in self.coeffs])\n",
    "\n",
    "    def __eq__(self, other: Self) -> bool:\n",
    "        return self.coeffs == other.coeffs\n",
    "\n",
    "    def __add__(self, other: Self) -> Self:\n",
    "        p = Poly(\n",
    "            [\n",
    "                self.coeff(i) + other.coeff(i)\n",
    "                for i in range(max(self.degre, other.degre), -1, -1)\n",
    "            ]\n",
    "        )\n",
    "        while len(p.coeffs) > 1 and p.coeffs[0] == 0:\n",
    "            p.coeffs.pop(0)\n",
    "        return p\n",
    "\n",
    "    def __sub__(self, other: Self) -> Self:\n",
    "        return self + other.oppose()\n",
    "\n",
    "    def __mul__(self, other: Self) -> Self:\n",
    "        res = Poly()\n",
    "        for i in range(other.degre + 1):\n",
    "            res += Poly([other.coeff(i) * coeff for coeff in self.coeffs] + [0] * i)\n",
    "        return res\n",
    "\n",
    "    def __pow__(self, n: int) -> Self:\n",
    "        res = Poly([1])\n",
    "        for _ in range(n):\n",
    "            res *= self\n",
    "        return res\n",
    "\n",
    "    def divmodmono(self, B: Self) -> tuple[Self, Self]:\n",
    "        if self.degre < B.degre:\n",
    "            return (Poly(), B)\n",
    "        q1 = Poly([(self.coeffs[0] / B.coeffs[0])] + [0] * (self.degre - B.degre))\n",
    "        r1 = self - q1 * B\n",
    "        return (q1, r1)\n",
    "\n",
    "    def __divmod__(self, B: Self) -> tuple[Self, Self]:\n",
    "        q, r = self.divmodmono(B)\n",
    "        while r.degre >= B.degre:\n",
    "            q2, r = r.divmodmono(B)\n",
    "            q += q2\n",
    "        return (q, r)\n",
    "\n",
    "    def __floordiv__(self, B: Self) -> Self:\n",
    "        return self.__divmod__(B)[0]\n",
    "\n",
    "    def __mod__(self, B: Self) -> Self:\n",
    "        return self.__divmod__(B)[1]\n",
    "\n",
    "\n",
    "a = Poly([1, -1, -1, 3, -2, 0])\n",
    "b = Poly([1, -1, 1])\n",
    "print(a // b)\n",
    "print(a % b)"
   ]
  }
 ],
 "metadata": {
  "kernelspec": {
   "display_name": "Python 3",
   "language": "python",
   "name": "python3"
  },
  "language_info": {
   "codemirror_mode": {
    "name": "ipython",
    "version": 3
   },
   "file_extension": ".py",
   "mimetype": "text/x-python",
   "name": "python",
   "nbconvert_exporter": "python",
   "pygments_lexer": "ipython3",
   "version": "3.11.6"
  },
  "orig_nbformat": 4,
  "vscode": {
   "interpreter": {
    "hash": "aee8b7b246df8f9039afb4144a1f6fd8d2ca17a180786b69acc140d282b71a49"
   }
  }
 },
 "nbformat": 4,
 "nbformat_minor": 2
}
