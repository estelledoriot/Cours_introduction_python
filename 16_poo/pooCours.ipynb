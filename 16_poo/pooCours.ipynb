{
 "cells": [
  {
   "attachments": {},
   "cell_type": "markdown",
   "metadata": {},
   "source": [
    "**Estelle Doriot**\n",
    "\n",
    "_NSI Tale_\n",
    "\n",
    "---\n",
    "\n",
    "# Programmation orientée objet\n",
    "\n",
    "---\n"
   ]
  },
  {
   "attachments": {},
   "cell_type": "markdown",
   "metadata": {},
   "source": [
    "## Les classes\n"
   ]
  },
  {
   "cell_type": "code",
   "execution_count": 1,
   "metadata": {},
   "outputs": [],
   "source": [
    "class Orque:  # on crée la classe Orque\n",
    "    pass\n",
    "\n",
    "\n",
    "shagrat = Orque()  # on crée une instance d'Orque"
   ]
  },
  {
   "cell_type": "code",
   "execution_count": 2,
   "metadata": {},
   "outputs": [
    {
     "name": "stdout",
     "output_type": "stream",
     "text": [
      "Ash nazg durbatulûk! Mon nom est Shagrat.\n"
     ]
    }
   ],
   "source": [
    "class Orque:\n",
    "    def salut(self):  # une méthode de la classe Orque\n",
    "        print(f\"Ash nazg durbatulûk! Mon nom est {self.nom}.\")\n",
    "\n",
    "\n",
    "shagrat = Orque()\n",
    "shagrat.nom = \"Shagrat\"  # on crée l'attribut nom pour Shagrat\n",
    "shagrat.salut()  # on appelle la méthode salut sur Shagrat"
   ]
  },
  {
   "cell_type": "code",
   "execution_count": 3,
   "metadata": {},
   "outputs": [
    {
     "name": "stdout",
     "output_type": "stream",
     "text": [
      "True\n",
      "<class '__main__.Orque'>\n"
     ]
    }
   ],
   "source": [
    "print(isinstance(shagrat, Orque))\n",
    "print(type(shagrat))"
   ]
  },
  {
   "cell_type": "markdown",
   "metadata": {},
   "source": [
    "## Les constructeurs\n"
   ]
  },
  {
   "cell_type": "code",
   "execution_count": 5,
   "metadata": {},
   "outputs": [
    {
     "ename": "AttributeError",
     "evalue": "'Orque' object has no attribute 'nom'",
     "output_type": "error",
     "traceback": [
      "\u001b[0;31m---------------------------------------------------------------------------\u001b[0m",
      "\u001b[0;31mAttributeError\u001b[0m                            Traceback (most recent call last)",
      "\u001b[1;32m/Users/estelledoriot/Mon Drive/Workspace/Python/Cours_python/16_poo/pooCours.ipynb Cellule 7\u001b[0m line \u001b[0;36m2\n\u001b[1;32m      <a href='vscode-notebook-cell:/Users/estelledoriot/Mon%20Drive/Workspace/Python/Cours_python/16_poo/pooCours.ipynb#X15sZmlsZQ%3D%3D?line=0'>1</a>\u001b[0m ugluk \u001b[39m=\u001b[39m Orque()\n\u001b[0;32m----> <a href='vscode-notebook-cell:/Users/estelledoriot/Mon%20Drive/Workspace/Python/Cours_python/16_poo/pooCours.ipynb#X15sZmlsZQ%3D%3D?line=1'>2</a>\u001b[0m \u001b[39mprint\u001b[39m(ugluk\u001b[39m.\u001b[39;49mnom)\n",
      "\u001b[0;31mAttributeError\u001b[0m: 'Orque' object has no attribute 'nom'"
     ]
    }
   ],
   "source": [
    "ugluk = Orque()\n",
    "print(ugluk.nom)"
   ]
  },
  {
   "cell_type": "code",
   "execution_count": 6,
   "metadata": {},
   "outputs": [
    {
     "name": "stdout",
     "output_type": "stream",
     "text": [
      "Ugluk 0 120 120 Saroumane\n",
      "Ash nazg durbatulûk! Mon nom est Ugluk.\n",
      "20\n",
      "Shagrat 0 100 100 Sauron\n",
      "Ash nazg durbatulûk! Mon nom est Shagrat.\n"
     ]
    }
   ],
   "source": [
    "class Orque:\n",
    "    def __init__(self, nom, vie_max, maitre=\"Sauron\"):  # constructeur\n",
    "        self.nom = nom\n",
    "        self.points = 0\n",
    "        self.vie_max = vie_max\n",
    "        self.vie = self.vie_max\n",
    "        self.maitre = maitre\n",
    "\n",
    "    def salut(self):\n",
    "        print(f\"Ash nazg durbatulûk! Mon nom est {self.nom}.\")\n",
    "\n",
    "    def gagne_points(self, quantite):\n",
    "        self.points += quantite\n",
    "\n",
    "\n",
    "ugluk = Orque(\"Ugluk\", 120, \"Saroumane\")\n",
    "print(ugluk.nom, ugluk.points, ugluk.vie_max, ugluk.vie, ugluk.maitre)\n",
    "ugluk.salut()\n",
    "ugluk.gagne_points(20)\n",
    "print(ugluk.points)\n",
    "\n",
    "shagrat = Orque(\"Shagrat\", 100)  # Par défaut: maitre = Sauron\n",
    "print(shagrat.nom, shagrat.points, shagrat.vie_max, shagrat.vie, shagrat.maitre)\n",
    "shagrat.salut()"
   ]
  },
  {
   "cell_type": "code",
   "execution_count": 7,
   "metadata": {},
   "outputs": [
    {
     "name": "stdout",
     "output_type": "stream",
     "text": [
      "{'nom': 'Shagrat', 'points': 0, 'vie_max': 100, 'vie': 100, 'maitre': 'Sauron'}\n"
     ]
    }
   ],
   "source": [
    "print(shagrat.__dict__)"
   ]
  },
  {
   "cell_type": "markdown",
   "metadata": {},
   "source": [
    "## Les attributs et méthodes de classe\n"
   ]
  },
  {
   "cell_type": "code",
   "execution_count": 8,
   "metadata": {},
   "outputs": [
    {
     "name": "stdout",
     "output_type": "stream",
     "text": [
      "Nombre d'orques: 0\n",
      "Création de l'orque Ugluk\n",
      "Nombre d'orques: 1\n",
      "Création de l'orque Shagrat\n",
      "Nombre d'orques: 2\n"
     ]
    }
   ],
   "source": [
    "class Orque:\n",
    "    nb_orques_crees = 0\n",
    "\n",
    "    def __init__(self, nom, vie_max, maitre=\"Sauron\"):\n",
    "        self.nom = nom\n",
    "        self.points = 0\n",
    "        self.vie_max = vie_max\n",
    "        self.vie = self.vie_max\n",
    "        self.maitre = maitre\n",
    "        Orque.nb_orques_crees += 1\n",
    "\n",
    "    def salut(self):\n",
    "        print(f\"Ash nazg durbatulûk! Mon nom est {self.nom}.\")\n",
    "\n",
    "    def gagne_points(self, quantite):\n",
    "        self.points += quantite\n",
    "\n",
    "\n",
    "print(f\"Nombre d'orques: {Orque.nb_orques_crees}\")\n",
    "\n",
    "print(\"Création de l'orque Ugluk\")\n",
    "ugluk = Orque(\"Ugluk\", 120, \"Saroumane\")\n",
    "print(f\"Nombre d'orques: {Orque.nb_orques_crees}\")\n",
    "\n",
    "print(\"Création de l'orque Shagrat\")\n",
    "shagrat = Orque(\"Shagrat\", 100)\n",
    "print(f\"Nombre d'orques: {Orque.nb_orques_crees}\")"
   ]
  },
  {
   "cell_type": "code",
   "execution_count": 11,
   "metadata": {},
   "outputs": [],
   "source": [
    "import time\n",
    "\n",
    "\n",
    "class Date:\n",
    "    # Constructeur par défaut\n",
    "    def __init__(self, year, month, day):\n",
    "        self.year = year\n",
    "        self.month = month\n",
    "        self.day = day\n",
    "\n",
    "    # Constructeur alternatif sous forme de methode de classe\n",
    "    @classmethod\n",
    "    def today(cls):\n",
    "        t = time.localtime()\n",
    "        return cls(t.tm_year, t.tm_mon, t.tm_mday)\n",
    "\n",
    "\n",
    "date_1 = Date(2021, 12, 24)  # constructeur par défaut\n",
    "date_2 = Date.today()  # Méthode de classe"
   ]
  },
  {
   "cell_type": "markdown",
   "metadata": {},
   "source": [
    "## Encapsulation\n"
   ]
  },
  {
   "cell_type": "code",
   "execution_count": null,
   "metadata": {},
   "outputs": [],
   "source": [
    "class Orque:\n",
    "    def __init__(self, nom, vie_max):\n",
    "        self.nom = nom  # attribut public\n",
    "        self._points = 0  # attribut protégé\n",
    "        self.__vie_max = vie_max  # attribut privé"
   ]
  },
  {
   "cell_type": "code",
   "execution_count": null,
   "metadata": {},
   "outputs": [],
   "source": [
    "class Orque:\n",
    "    nb_orques_crees = 0\n",
    "\n",
    "    def __init__(self, nom, vie_max, maitre=\"Sauron\"):\n",
    "        self._nom = nom\n",
    "        self._points = 0\n",
    "        self._vie_max = vie_max\n",
    "        self._vie = self._vie_max\n",
    "        self._maitre = maitre\n",
    "        Orque.nb_orques_crees += 1\n",
    "\n",
    "    def salut(self):\n",
    "        print(f\"Ash nazg durbatulûk! Mon nom est {self._nom}.\")\n",
    "\n",
    "    def gagne_points(self, quantite):\n",
    "        self._points += quantite"
   ]
  }
 ],
 "metadata": {
  "kernelspec": {
   "display_name": "Python 3",
   "language": "python",
   "name": "python3"
  },
  "language_info": {
   "codemirror_mode": {
    "name": "ipython",
    "version": 3
   },
   "file_extension": ".py",
   "mimetype": "text/x-python",
   "name": "python",
   "nbconvert_exporter": "python",
   "pygments_lexer": "ipython3",
   "version": "3.11.6"
  },
  "orig_nbformat": 4,
  "vscode": {
   "interpreter": {
    "hash": "aee8b7b246df8f9039afb4144a1f6fd8d2ca17a180786b69acc140d282b71a49"
   }
  }
 },
 "nbformat": 4,
 "nbformat_minor": 2
}
