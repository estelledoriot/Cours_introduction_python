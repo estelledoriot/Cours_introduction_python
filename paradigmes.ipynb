{
 "cells": [
  {
   "cell_type": "markdown",
   "metadata": {},
   "source": [
    "**Estelle Doriot**\n",
    "\n",
    "_NSI Tale_\n",
    "\n",
    "---\n",
    "\n",
    "# Exercices : Paradigmes de programmation\n",
    "\n",
    "---\n"
   ]
  },
  {
   "cell_type": "markdown",
   "metadata": {},
   "source": [
    "### Exercice n°1\n",
    "\n",
    "Voici différents programmes permettant l'affichage des 10 chiffres entiers dans l'ordre décroissant. Préciser pour chacun des programmes le type de paradigme auquel il correspond.\n",
    "\n",
    "1. Programme 1 :\n",
    "\n",
    "```python\n",
    "def decompter(n: int) -> None:\n",
    "    if n >= 0:\n",
    "        print(n)\n",
    "        decompter(n-1)\n",
    "\n",
    "decompter(9)\n",
    "```\n",
    "\n",
    "2. Programme 2:\n",
    "\n",
    "```python\n",
    "for i in range(10):\n",
    "\tprint(9 - i)\n",
    "```\n",
    "\n",
    "3. Programme 3:\n",
    "\n",
    "```python\n",
    "class Nombres():\n",
    "    def __init__(self,valeur):\n",
    "        self.valeur = valeur\n",
    "\n",
    "    def diminuer(self):\n",
    "        self.valeur -= 1\n",
    "\n",
    "    def positif(self):\n",
    "        return self.valeur >= 0\n",
    "\n",
    "    def __str__(self):\n",
    "        return str(self.valeur)\n",
    "\n",
    "n = Nombres(9)\n",
    "while n.positif() :\n",
    "    print(n)\n",
    "    n.diminuer()\n",
    "```\n",
    "\n",
    "4. Programme 4:\n",
    "\n",
    "```html\n",
    "<p id=\"lieu_affichage\"></p>\n",
    "<button onclick=\"decompte()\">Diminuer</button>\n",
    "<script>\n",
    "  let n = 9;\n",
    "  function decompte() {\n",
    "    if (n >= 0) {\n",
    "      document.getElementById(\"lieu_affichage\").innerHTML += n + \"<br>\";\n",
    "      n = n - 1;\n",
    "    }\n",
    "  }\n",
    "</script>\n",
    "```\n"
   ]
  },
  {
   "cell_type": "markdown",
   "metadata": {},
   "source": [
    "**Correction**:\n",
    "\n",
    "1. Paradigme fonctionnel\n",
    "2. Paradigme impératif\n",
    "3. Paradigme objet\n",
    "4. Paradigme événementiel\n"
   ]
  },
  {
   "cell_type": "markdown",
   "metadata": {},
   "source": [
    "### Exercice n°2\n",
    "\n",
    "Voici un script\n",
    "\n",
    "```python\n",
    "n = 1\n",
    "def ajouter(k):\n",
    "    \"\"\"fonction qui ajoute le nombre entier k entrée comme argument à la variable n renvoie la somme obtenue\"\"\"\n",
    "    global n\n",
    "    n += k\n",
    "    return n\n",
    "```\n",
    "\n",
    "1. Sans exécuter le script, deviner le résultat des deux appels `ajouter(2)` identiques successifs.\n",
    "2. Pourquoi l'exécution du même appel ne conduit pas au même résultat ?\n",
    "3. La fonction `ajouter` est-elle une fonction à effet de bord ?\n",
    "4. Écrire une version de la fonction `ajouter` sans effet de bord.\n"
   ]
  },
  {
   "cell_type": "markdown",
   "metadata": {},
   "source": [
    "**Correction**:\n",
    "\n",
    "1. 3, 5\n",
    "2. on modifie une variable globale qui est commune à tous les appels de la fonction `ajouter`.\n",
    "3. oui car on modifie la variable `n`.\n",
    "4.\n"
   ]
  },
  {
   "cell_type": "code",
   "execution_count": 1,
   "metadata": {},
   "outputs": [],
   "source": [
    "def ajouter(k, n):\n",
    "    \"\"\"fonction qui ajoute les nombres entiers k et n donnés en argument à la et renvoie la somme obtenue\"\"\"\n",
    "    return k + n\n",
    "\n",
    "\n",
    "n = ajouter(2, 1)"
   ]
  },
  {
   "cell_type": "markdown",
   "metadata": {},
   "source": [
    "### Exercice n°3\n",
    "\n",
    "Voici un script\n",
    "\n",
    "```python\n",
    "def doubler_tout(L: list) -> None:\n",
    "    \"\"\"procédure qui double chaque élément d'une liste de flottants\"\"\"\n",
    "    for i in range(len(L)):\n",
    "        L[i] *= 2\n",
    "    print(L)\n",
    "```\n",
    "\n",
    "1. Sans exécuter le script, deviner l'effet des deux appels `doubler_tout([1,4.5,8,7])` identiques successifs.\n",
    "2. La fonction `doubler_tout` est-elle une fonction à effet de bord ?\n",
    "3. Exécuter le code suivant :\n",
    "\n",
    "```python\n",
    "L = [1, 2, 3]\n",
    "doubler_tout(L)\n",
    "doubler_tout(L)\n",
    "print(L)\n",
    "```\n",
    "\n",
    "Que remarquez-vous ? Expliquez pourquoi.\n"
   ]
  },
  {
   "cell_type": "markdown",
   "metadata": {},
   "source": [
    "**Correction**:\n",
    "\n",
    "1. [2, 9.0, 16, 14], et [4, 18.0, 32, 28]\n",
    "2. Il y a des effets de bord car la list L est modifiée.\n",
    "3. La liste L est modifiée.\n"
   ]
  },
  {
   "cell_type": "code",
   "execution_count": 2,
   "metadata": {},
   "outputs": [
    {
     "name": "stdout",
     "output_type": "stream",
     "text": [
      "[2, 4, 6]\n",
      "[4, 8, 12]\n",
      "[4, 8, 12]\n"
     ]
    }
   ],
   "source": [
    "def doubler_tout(L: list) -> None:\n",
    "    \"\"\"procédure qui double chaque élément d'une liste de flottants\"\"\"\n",
    "    for i in range(len(L)):\n",
    "        L[i] *= 2\n",
    "    print(L)\n",
    "\n",
    "\n",
    "L = [1, 2, 3]\n",
    "doubler_tout(L)\n",
    "doubler_tout(L)\n",
    "print(L)\n"
   ]
  },
  {
   "cell_type": "markdown",
   "metadata": {},
   "source": [
    "### Exercice n°4\n",
    "\n",
    "Voici une fonction `est_pair` :\n",
    "\n",
    "```python\n",
    "n = 4\n",
    "\n",
    "def est_pair() -> bool:\n",
    "    return n % 2 == 0\n",
    "```\n",
    "\n",
    "1. Cette fonction `est_pair` respecte-t-elle le paradigme fonctionnel ?\n",
    "2. Réécrire cette fonction de sorte qu'elle respecte désormais le paradigme fonctionnel.\n"
   ]
  },
  {
   "cell_type": "markdown",
   "metadata": {},
   "source": [
    "**Correction**:\n",
    "\n",
    "1. Non, car le résultat dépend d'une variable globale.\n"
   ]
  },
  {
   "cell_type": "code",
   "execution_count": 3,
   "metadata": {},
   "outputs": [],
   "source": [
    "def est_pair(n: int) -> bool:\n",
    "    return n % 2 == 0"
   ]
  },
  {
   "cell_type": "markdown",
   "metadata": {},
   "source": [
    "### Exercice n°5\n",
    "\n",
    "1. Voici une fonction `sommer` :\n",
    "\n",
    "```python\n",
    "def sommer(L: list) -> int:\n",
    "    \"\"\"L est une liste d'entiers. Cette fonction renvoie la somme des éléments de la liste L\"\"\"\n",
    "    s = 0\n",
    "    for i in range(len(L)):\n",
    "        s += L[i]\n",
    "    return s\n",
    "```\n",
    "\n",
    "Cette fonction `sommer` respecte-t-elle le paradigme fonctionnel ? Pourquoi ?\n",
    "\n",
    "2. Voici une fonction `somme` :\n",
    "\n",
    "```python\n",
    "def somme(L: list, val: int) -> int:\n",
    "    \"\"\"L est une liste d'entiers. Cette fonction renvoie la somme des éléments de la liste L avec val\"\"\"\n",
    "    if len(L) == 0:\n",
    "        return val\n",
    "    else:\n",
    "        return somme(L[1:], val + L[0])\n",
    "```\n",
    "\n",
    "Cette fonction `somme` respecte-t-elle le paradigme fonctionnel ?\n"
   ]
  },
  {
   "cell_type": "markdown",
   "metadata": {},
   "source": [
    "**Correction**:\n",
    "\n",
    "1. La fonction `sommer` n'est pas fonctionnelle car il y a une boucle, et la variable `s` est modifiée au cours de l'exécution.\n",
    "2. La fonction `somme` respecte le paradigme fonctionnel.\n"
   ]
  }
 ],
 "metadata": {
  "kernelspec": {
   "display_name": "Python 3",
   "language": "python",
   "name": "python3"
  },
  "language_info": {
   "codemirror_mode": {
    "name": "ipython",
    "version": 3
   },
   "file_extension": ".py",
   "mimetype": "text/x-python",
   "name": "python",
   "nbconvert_exporter": "python",
   "pygments_lexer": "ipython3",
   "version": "3.11.4"
  },
  "orig_nbformat": 4
 },
 "nbformat": 4,
 "nbformat_minor": 2
}
