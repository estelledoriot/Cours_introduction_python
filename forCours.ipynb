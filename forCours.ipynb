{
 "cells": [
  {
   "attachments": {},
   "cell_type": "markdown",
   "metadata": {},
   "source": [
    "**Estelle Doriot**\n",
    "\n",
    "_NSI 1ère_\n",
    "\n",
    "---\n",
    "# Cours : Boucles for\n",
    "---\n",
    "\n",
    "## Boucles"
   ]
  },
  {
   "cell_type": "code",
   "execution_count": 1,
   "metadata": {},
   "outputs": [
    {
     "name": "stdout",
     "output_type": "stream",
     "text": [
      "bonjour\n",
      "bonjour\n",
      "bonjour\n",
      "bonjour\n"
     ]
    }
   ],
   "source": [
    "for i in range(4):\n",
    "    print(\"bonjour\")"
   ]
  },
  {
   "cell_type": "code",
   "execution_count": 2,
   "metadata": {},
   "outputs": [
    {
     "name": "stdout",
     "output_type": "stream",
     "text": [
      "0\n",
      "1\n",
      "2\n",
      "3\n",
      "4\n"
     ]
    }
   ],
   "source": [
    "for i in range(5):\n",
    "    print(i)"
   ]
  },
  {
   "attachments": {},
   "cell_type": "markdown",
   "metadata": {},
   "source": [
    "## Boucles imbriquées\n",
    "\n",
    "**Exemple**: Programme qui affiche tous les nombres pairs inférieurs à $n$."
   ]
  },
  {
   "cell_type": "code",
   "execution_count": 3,
   "metadata": {},
   "outputs": [
    {
     "name": "stdout",
     "output_type": "stream",
     "text": [
      "Voici les nombres pairs inférieurs à 10: \n",
      "0\n",
      "2\n",
      "4\n",
      "6\n",
      "8\n"
     ]
    }
   ],
   "source": [
    "n = int(input(\"Veuillez donner un nombre entier: \"))\n",
    "\n",
    "print(f\"Voici les nombres pairs inférieurs à {n}: \")\n",
    "for i in range(n):\n",
    "    if i % 2 == 0:\n",
    "        print(i)"
   ]
  },
  {
   "cell_type": "code",
   "execution_count": 4,
   "metadata": {},
   "outputs": [
    {
     "name": "stdout",
     "output_type": "stream",
     "text": [
      "1 1\n",
      "1 2\n",
      "2 1\n",
      "2 2\n",
      "3 1\n",
      "3 2\n"
     ]
    }
   ],
   "source": [
    "for i in range(1,4):\n",
    "    for j in range(1,3):\n",
    "        print(i, j)"
   ]
  },
  {
   "attachments": {},
   "cell_type": "markdown",
   "metadata": {},
   "source": [
    "## Variables et boucles\n",
    "\n",
    "Affiche le nombre de multiples de 3 inférieurs à 50."
   ]
  },
  {
   "cell_type": "code",
   "execution_count": 5,
   "metadata": {},
   "outputs": [
    {
     "name": "stdout",
     "output_type": "stream",
     "text": [
      "16\n"
     ]
    }
   ],
   "source": [
    "c = 0\n",
    "for i in range(1, 51):\n",
    "    if i % 3 == 0:\n",
    "        c = c + 1\n",
    "print(c)"
   ]
  },
  {
   "attachments": {},
   "cell_type": "markdown",
   "metadata": {},
   "source": [
    "Affiche la somme des entiers de 1 à 7."
   ]
  },
  {
   "cell_type": "code",
   "execution_count": 6,
   "metadata": {},
   "outputs": [
    {
     "name": "stdout",
     "output_type": "stream",
     "text": [
      "28\n"
     ]
    }
   ],
   "source": [
    "s = 0\n",
    "for i in range(1, 8):\n",
    "    s = s + i\n",
    "print(s)"
   ]
  },
  {
   "attachments": {},
   "cell_type": "markdown",
   "metadata": {},
   "source": [
    "## Interruption de boucle\n",
    "\n",
    "Affiche si un nombre est premier ou non."
   ]
  },
  {
   "cell_type": "code",
   "execution_count": 7,
   "metadata": {},
   "outputs": [
    {
     "name": "stdout",
     "output_type": "stream",
     "text": [
      "10 n'est pas premier\n"
     ]
    }
   ],
   "source": [
    "n = int(input(\"Donner un entier: \"))\n",
    "\n",
    "res = True\n",
    "\n",
    "for i in range(2, n):\n",
    "    if n % i == 0:\n",
    "        res = False\n",
    "\n",
    "if n == 1:\n",
    "    print(\"1 n'est pas premier\")\n",
    "elif res:\n",
    "    print(f\"{n} est premier\")\n",
    "else:\n",
    "    print(f\"{n} n'est pas premier\")"
   ]
  },
  {
   "cell_type": "code",
   "execution_count": 8,
   "metadata": {},
   "outputs": [
    {
     "name": "stdout",
     "output_type": "stream",
     "text": [
      "10 n'est pas premier\n"
     ]
    }
   ],
   "source": [
    "n = int(input(\"Donner un entier: \"))\n",
    "\n",
    "res = True\n",
    "\n",
    "for i in range(2, n):\n",
    "    if n % i == 0:\n",
    "        res = False\n",
    "        break\n",
    "\n",
    "if n == 1:\n",
    "    print(\"1 n'est pas premier\")\n",
    "elif res:\n",
    "    print(f\"{n} est premier\")\n",
    "else:\n",
    "    print(f\"{n} n'est pas premier\")"
   ]
  }
 ],
 "metadata": {
  "interpreter": {
   "hash": "aee8b7b246df8f9039afb4144a1f6fd8d2ca17a180786b69acc140d282b71a49"
  },
  "kernelspec": {
   "display_name": "Python 3.10.0 64-bit",
   "language": "python",
   "name": "python3"
  },
  "language_info": {
   "codemirror_mode": {
    "name": "ipython",
    "version": 3
   },
   "file_extension": ".py",
   "mimetype": "text/x-python",
   "name": "python",
   "nbconvert_exporter": "python",
   "pygments_lexer": "ipython3",
   "version": "3.11.3"
  },
  "orig_nbformat": 4
 },
 "nbformat": 4,
 "nbformat_minor": 2
}
