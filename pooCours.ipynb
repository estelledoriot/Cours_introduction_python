{
 "cells": [
  {
   "attachments": {},
   "cell_type": "markdown",
   "metadata": {},
   "source": [
    "**Estelle Doriot**\n",
    "\n",
    "_NSI Tale_\n",
    "\n",
    "---\n",
    "\n",
    "# Programmation orientée objet\n",
    "\n",
    "---\n"
   ]
  },
  {
   "attachments": {},
   "cell_type": "markdown",
   "metadata": {},
   "source": [
    "## Les classes\n"
   ]
  },
  {
   "cell_type": "code",
   "execution_count": 1,
   "metadata": {},
   "outputs": [],
   "source": [
    "class Orque:  # on crée la classe Orque\n",
    "    pass\n",
    "\n",
    "\n",
    "shagrat = Orque()  # on crée une instance d'Orque"
   ]
  },
  {
   "cell_type": "code",
   "execution_count": 2,
   "metadata": {},
   "outputs": [
    {
     "name": "stdout",
     "output_type": "stream",
     "text": [
      "Ash nazg durbatulûk! Mon nom est Shagrat.\n"
     ]
    }
   ],
   "source": [
    "class Orque:\n",
    "    def salut(self):  # une méthode de la classe Orque\n",
    "        print(f\"Ash nazg durbatulûk! Mon nom est {self.nom}.\")\n",
    "\n",
    "\n",
    "shagrat = Orque()\n",
    "shagrat.nom = \"Shagrat\"  # on crée l'attribut nom pour Shagrat\n",
    "shagrat.salut()  # on appelle la méthode salut sur Shagrat"
   ]
  },
  {
   "cell_type": "code",
   "execution_count": 3,
   "metadata": {},
   "outputs": [
    {
     "name": "stdout",
     "output_type": "stream",
     "text": [
      "True\n"
     ]
    }
   ],
   "source": [
    "print(isinstance(shagrat, Orque))\n"
   ]
  },
  {
   "cell_type": "code",
   "execution_count": 4,
   "metadata": {},
   "outputs": [
    {
     "name": "stdout",
     "output_type": "stream",
     "text": [
      "Ugluk 120 Saroumane\n",
      "Ash nazg durbatulûk! Mon nom est Ugluk.\n",
      "Shagrat 100 Sauron\n",
      "Ash nazg durbatulûk! Mon nom est Shagrat.\n"
     ]
    }
   ],
   "source": [
    "class Orque:\n",
    "    def __init__(self, nom, poids, maitre=\"Sauron\"):  # constructeur\n",
    "        self.nom = nom\n",
    "        self.poids = poids\n",
    "        self.maitre = maitre\n",
    "\n",
    "    def salut(self):\n",
    "        print(f\"Ash nazg durbatulûk! Mon nom est {self.nom}.\")\n",
    "\n",
    "\n",
    "ugluk = Orque(\"Ugluk\", 120, \"Saroumane\")\n",
    "print(ugluk.nom, ugluk.poids, ugluk.maitre)\n",
    "ugluk.salut()\n",
    "\n",
    "shagrat = Orque(\"Shagrat\", 100)  # Par défaut: maitre = Sauron\n",
    "print(shagrat.nom, shagrat.poids, shagrat.maitre)\n",
    "shagrat.salut()"
   ]
  },
  {
   "cell_type": "code",
   "execution_count": 5,
   "metadata": {},
   "outputs": [
    {
     "name": "stdout",
     "output_type": "stream",
     "text": [
      "{'nom': 'Shagrat', 'poids': 100, 'maitre': 'Sauron'}\n"
     ]
    }
   ],
   "source": [
    "print(shagrat.__dict__)\n"
   ]
  },
  {
   "cell_type": "code",
   "execution_count": 6,
   "metadata": {},
   "outputs": [
    {
     "name": "stdout",
     "output_type": "stream",
     "text": [
      "Nombre d'orques: 0\n",
      "Création de l'orque Ugluk\n",
      "Nombre d'orques: 1\n",
      "Création de l'orque Shagrat\n",
      "Nombre d'orques: 2\n"
     ]
    }
   ],
   "source": [
    "class Orque:\n",
    "    nb_orques_crees = 0\n",
    "\n",
    "    def __init__(self, nom, poids, maitre=\"Sauron\"):\n",
    "        self.nom = nom\n",
    "        self.poids = poids\n",
    "        self.maitre = maitre\n",
    "        Orque.nb_orques_crees += 1\n",
    "\n",
    "    def salut(self):\n",
    "        print(f\"Ash nazg durbatulûk! Mon nom est {self.nom}.\")\n",
    "\n",
    "\n",
    "print(f\"Nombre d'orques: {Orque.nb_orques_crees}\")\n",
    "\n",
    "print(\"Création de l'orque Ugluk\")\n",
    "ugluk = Orque(\"Ugluk\", 120, \"Saroumane\")\n",
    "print(f\"Nombre d'orques: {Orque.nb_orques_crees}\")\n",
    "\n",
    "print(\"Création de l'orque Shagrat\")\n",
    "shagrat = Orque(\"Shagrat\", 100)\n",
    "print(f\"Nombre d'orques: {Orque.nb_orques_crees}\")"
   ]
  }
 ],
 "metadata": {
  "kernelspec": {
   "display_name": "Python 3",
   "language": "python",
   "name": "python3"
  },
  "language_info": {
   "codemirror_mode": {
    "name": "ipython",
    "version": 3
   },
   "file_extension": ".py",
   "mimetype": "text/x-python",
   "name": "python",
   "nbconvert_exporter": "python",
   "pygments_lexer": "ipython3",
   "version": "3.11.4"
  },
  "orig_nbformat": 4,
  "vscode": {
   "interpreter": {
    "hash": "aee8b7b246df8f9039afb4144a1f6fd8d2ca17a180786b69acc140d282b71a49"
   }
  }
 },
 "nbformat": 4,
 "nbformat_minor": 2
}
