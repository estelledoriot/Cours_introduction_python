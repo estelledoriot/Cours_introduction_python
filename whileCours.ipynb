{
 "cells": [
  {
   "cell_type": "markdown",
   "metadata": {},
   "source": [
    "**Estelle Doriot**\n",
    "\n",
    "_NSI 1ère_\n",
    "\n",
    "---\n",
    "# Cours : Boucles while\n",
    "---\n",
    "\n",
    "## Boucle while\n",
    "\n",
    "En 2018 la population mondiale est estimée à 7.577 milliards et son taux annuel de croissance est d'environ 1.2\\%. Pour savoir à partir de quelle année la population mondiale dépassera 10 milliards, on va chercher à calculer la population chaque année à partir de 2018 à l'aide d'une boucle."
   ]
  },
  {
   "cell_type": "code",
   "execution_count": 1,
   "metadata": {},
   "outputs": [
    {
     "name": "stdout",
     "output_type": "stream",
     "text": [
      "La population sera de 10088569433.767284 en 2042.\n"
     ]
    }
   ],
   "source": [
    "population = 7577000000\n",
    "année = 2018\n",
    "\n",
    "while population < 10**10 :\n",
    "    année += 1\n",
    "    population = population * 1.012\n",
    "    \n",
    "print(f\"La population sera de {population} en {année}.\")"
   ]
  },
  {
   "cell_type": "markdown",
   "metadata": {},
   "source": [
    "## Boucle infinie\n",
    "\n",
    "Horloge :"
   ]
  },
  {
   "cell_type": "code",
   "execution_count": 3,
   "metadata": {},
   "outputs": [
    {
     "name": "stdout",
     "output_type": "stream",
     "text": [
      "début\n",
      "tic\n",
      "tac\n",
      "tic\n",
      "tac\n",
      "tic\n",
      "tac\n",
      "tic\n",
      "tac\n",
      "tic\n",
      "tac\n",
      "tic\n",
      "tac\n",
      "tic\n",
      "tac\n",
      "tic\n",
      "tac\n",
      "tic\n",
      "tac\n",
      "tic\n",
      "tac\n"
     ]
    },
    {
     "ename": "KeyboardInterrupt",
     "evalue": "",
     "output_type": "error",
     "traceback": [
      "\u001b[0;31m---------------------------------------------------------------------------\u001b[0m",
      "\u001b[0;31mKeyboardInterrupt\u001b[0m                         Traceback (most recent call last)",
      "\u001b[1;32m/Users/estelledoriot/Mon Drive/Workspace/Python/Cours_python/whileCours.ipynb Cell 4'\u001b[0m in \u001b[0;36m<cell line: 6>\u001b[0;34m()\u001b[0m\n\u001b[1;32m      <a href='vscode-notebook-cell:/Users/estelledoriot/Mon%20Drive/Workspace/Python/Cours_python/whileCours.ipynb#ch0000004?line=3'>4</a>\u001b[0m \u001b[39mprint\u001b[39m(\u001b[39m\"\u001b[39m\u001b[39mdébut\u001b[39m\u001b[39m\"\u001b[39m)\n\u001b[1;32m      <a href='vscode-notebook-cell:/Users/estelledoriot/Mon%20Drive/Workspace/Python/Cours_python/whileCours.ipynb#ch0000004?line=5'>6</a>\u001b[0m \u001b[39mwhile\u001b[39;00m n \u001b[39m>\u001b[39m \u001b[39m0\u001b[39m :\n\u001b[0;32m----> <a href='vscode-notebook-cell:/Users/estelledoriot/Mon%20Drive/Workspace/Python/Cours_python/whileCours.ipynb#ch0000004?line=6'>7</a>\u001b[0m     sleep(\u001b[39m1\u001b[39;49m) \u001b[39m# attendre 1 seconde\u001b[39;00m\n\u001b[1;32m      <a href='vscode-notebook-cell:/Users/estelledoriot/Mon%20Drive/Workspace/Python/Cours_python/whileCours.ipynb#ch0000004?line=7'>8</a>\u001b[0m     \u001b[39mif\u001b[39;00m n \u001b[39m%\u001b[39m \u001b[39m2\u001b[39m \u001b[39m==\u001b[39m \u001b[39m1\u001b[39m :\n\u001b[1;32m      <a href='vscode-notebook-cell:/Users/estelledoriot/Mon%20Drive/Workspace/Python/Cours_python/whileCours.ipynb#ch0000004?line=8'>9</a>\u001b[0m         \u001b[39mprint\u001b[39m(\u001b[39m\"\u001b[39m\u001b[39mtic\u001b[39m\u001b[39m\"\u001b[39m)\n",
      "\u001b[0;31mKeyboardInterrupt\u001b[0m: "
     ]
    }
   ],
   "source": [
    "from time import sleep\n",
    "\n",
    "n = 1\n",
    "print(\"début\")\n",
    "\n",
    "while n > 0 :\n",
    "    sleep(1) # attendre 1 seconde\n",
    "    if n % 2 == 1 :\n",
    "        print(\"tic\")\n",
    "    else:\n",
    "        print(\"tac\")\n",
    "    n += 1\n",
    "    \n",
    "print(\"fin\")"
   ]
  },
  {
   "cell_type": "markdown",
   "metadata": {},
   "source": [
    "## Lien entre boucle for et boucle while"
   ]
  },
  {
   "cell_type": "code",
   "execution_count": 4,
   "metadata": {},
   "outputs": [
    {
     "name": "stdout",
     "output_type": "stream",
     "text": [
      "La somme est 15150.\n"
     ]
    }
   ],
   "source": [
    "somme = 0\n",
    "\n",
    "for i in range(100, 201):\n",
    "    somme += i\n",
    "\n",
    "print(f\"La somme est {somme}.\")    "
   ]
  },
  {
   "cell_type": "code",
   "execution_count": 5,
   "metadata": {},
   "outputs": [
    {
     "name": "stdout",
     "output_type": "stream",
     "text": [
      "La somme est 15150.\n"
     ]
    }
   ],
   "source": [
    "somme = 0\n",
    "i = 100\n",
    "\n",
    "while i < 201 :\n",
    "    somme += i\n",
    "    i += 1\n",
    "    \n",
    "print(f\"La somme est {somme}.\")"
   ]
  }
 ],
 "metadata": {
  "interpreter": {
   "hash": "aee8b7b246df8f9039afb4144a1f6fd8d2ca17a180786b69acc140d282b71a49"
  },
  "kernelspec": {
   "display_name": "Python 3.10.0 64-bit",
   "language": "python",
   "name": "python3"
  },
  "language_info": {
   "codemirror_mode": {
    "name": "ipython",
    "version": 3
   },
   "file_extension": ".py",
   "mimetype": "text/x-python",
   "name": "python",
   "nbconvert_exporter": "python",
   "pygments_lexer": "ipython3",
   "version": "3.10.0"
  },
  "orig_nbformat": 4
 },
 "nbformat": 4,
 "nbformat_minor": 2
}
