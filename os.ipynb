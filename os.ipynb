{
 "cells": [
  {
   "attachments": {},
   "cell_type": "markdown",
   "metadata": {},
   "source": [
    "**Estelle Doriot**\n",
    "\n",
    "_NSI 1ère_\n",
    "\n",
    "---\n",
    "# Exercices : Systèmes d'exploitation\n",
    "---\n"
   ]
  },
  {
   "attachments": {},
   "cell_type": "markdown",
   "metadata": {},
   "source": [
    "### Exercice n°1\n",
    "\n",
    "On considère l'arborescence suivante:\n",
    "![](arborescence2.png)\n",
    "\n",
    "1. Donner le chemins absolu du fichiers `cat`.\n",
    "2. Donner le chemins absolu du fichiers `rapport.odt`.\n",
    "3. Supposons que le répertoire courant est `/home/elsa` et de là je veux accéder au fichier `rapport.odt`, quel sera le chemin relatif pour accéder à ce fichier ?\n",
    "4. Supposons que le répertoire courant est `photos_vac` et de là je veux accéder au fichier `gdbd_3.jpg`, quel sera le chemin relatif pour accéder à ce fichier ?\n",
    "5. Déterminer le chemin relatif permettant d'accéder au fichier `photo_1.jpg` depuis le dossier `boulot`."
   ]
  },
  {
   "attachments": {},
   "cell_type": "markdown",
   "metadata": {},
   "source": [
    "**Correction**:\n",
    "\n",
    "1. `/bin/cat`\n",
    "2. `/home/elsa/documents/boulot/rapport.odt`\n",
    "3. `documents/boulot/rapport.odt`\n",
    "4. `../ski/gbd_3.jpg`\n",
    "5. `../../../max/images/photos_vac/photo_1.jpg`"
   ]
  },
  {
   "attachments": {},
   "cell_type": "markdown",
   "metadata": {},
   "source": [
    "### Exercice n°2\n",
    "\n",
    "On considère l'arborescence suivante:\n",
    "![](arborescence3.png)\n",
    "\n",
    "1. Déterminer les chemins absolus permettant d'accéder:\n",
    "   \n",
    "    a. au fichier `index.html`\n",
    "\n",
    "    b. au fichier `style.css`\n",
    "\n",
    "    c. au fichier `script.js`\n",
    "\n",
    "    d. au fichier `bateau.png`\n",
    "\n",
    "    e. au fichier `Salaires.ods`\n",
    "\n",
    "    f. au fichier `monfichier.odt`\n",
    "\n",
    "    g. au fichier `chmod`\n",
    "\n",
    "2. Déterminer les chemins relatifs permettant d'accéder:\n",
    "\n",
    "    a. au fichier `style.css` depuis le répertoire `monsite`\n",
    "\n",
    "    b. au fichier `script.js` depuis le répertoire `monsite`\n",
    "\n",
    "    c. au fichier `style.css` depuis le répertoire `js`\n",
    "\n",
    "    d. au fichier `bateau.png` depuis le répertoire `monsite`\n",
    "\n",
    "    e. au fichier `Salaires.ods` depuis le répertoire `Documents` d'Emma\n",
    "\n",
    "    f. au fichier `monfichier.odt` depuis le répertoire `Travail`\n",
    "\n",
    "    g. au fichier `index.html` depuis le répertoire `ftp`\n",
    "\n",
    "    h. au fichier `monfichier.odt` depuis le répertoire `monsite`"
   ]
  },
  {
   "attachments": {},
   "cell_type": "markdown",
   "metadata": {},
   "source": [
    "**Correction**:\n",
    "\n",
    "1. Chemins absolus:\n",
    "   \n",
    "    a. `/srv/http/monsite/index.html`\n",
    "\n",
    "    b. `/srv/http/monsite/css/style.css`\n",
    "\n",
    "    c. `/srv/http/monsite/js/script.js`\n",
    "\n",
    "    d. `/srv/http/monsite/img/bateau.png`\n",
    "\n",
    "    e. `/home/emma/Documents/Travail/Salaires.ods`\n",
    "\n",
    "    f. `/home/emma/Documents/monfichier.odt`\n",
    "\n",
    "    g. `/bin/chmod`\n",
    "\n",
    "2. Chemins relatifs\n",
    "\n",
    "    a. `css/style.css`\n",
    "\n",
    "    b. `js/script.js`\n",
    "\n",
    "    c. `../css/style.css`\n",
    "\n",
    "    d. `img/bateau.png`\n",
    "\n",
    "    e. `Travail/Salaires.ods`\n",
    "\n",
    "    f. `../monfichier.odt`\n",
    "\n",
    "    g. `../http/monsite/index.html`\n",
    "\n",
    "    h. `../../../home/emma/Documents/monfichier.odt`"
   ]
  },
  {
   "attachments": {},
   "cell_type": "markdown",
   "metadata": {},
   "source": [
    "### Exercice n°3\n",
    "\n",
    "Dans un terminal :\n",
    "1. Saisissez la commande pour vous rendre dans le dossier `/etc/dpkg` en utilisant un chemin absolu.\n",
    "2. Depuis ce dossier, saissisez la commande en navigation absolue pour vous rendre dans votre dossier personnel.\n",
    "3. A présent, saisissez la commande en navigation relative pour vous rendre dans le dossier `/etc/dpkg`.\n",
    "4. Enfin, revenez dans votre dossier personnel en utilisant un chemin relatif.\n",
    "5. Depuis ce répertoire courant, listez de façon lisibles tous les fichiers (y compris les fichiers cachés) du dossier `/etc/dpkg`."
   ]
  },
  {
   "attachments": {},
   "cell_type": "markdown",
   "metadata": {},
   "source": [
    "**Correction**:\n",
    "\n",
    "1. `cd /etc/dpkg`\n",
    "2. `cd ~`\n",
    "3. `cd ../../etc/dpkg`\n",
    "4. `cd ../../home/mon_identifiant`\n",
    "5. `ls -al /etc/dpkg`"
   ]
  },
  {
   "attachments": {},
   "cell_type": "markdown",
   "metadata": {},
   "source": [
    "### Exercice n°4\n",
    "\n",
    "Placez-vous dans votre répertoire personnel.\n",
    "\n",
    "1. Créez un dossier nommé `test`.\n",
    "2. Allez dans ce répertoire puis créez trois fichiers nommés respectivement `test1.txt`, `test2.txt` et `test3.txt`.\n",
    "3. Déplacez le fichier `test1.txt` dans votre dossier personnel.\n",
    "4. Renommez le fichier `test3.txt` en `test1.txt`.\n",
    "5. Supprimez le fichier `test2.txt`.\n",
    "6. Revenez dans votre répertoire personnel et supprimez le dossier `test`. Vérifiez que votre répertoire personnel ne contient plus le dossier `test` mais contient bien le fichier `test1.txt`."
   ]
  },
  {
   "attachments": {},
   "cell_type": "markdown",
   "metadata": {},
   "source": [
    "**Correction**:\n",
    "\n",
    "1. \n",
    "```bash\n",
    "cd ~\n",
    "mkdir test\n",
    "```\n",
    "\n",
    "2. \n",
    "```bash\n",
    "cd test\n",
    "touch test1.txt\n",
    "touch test2.txt\n",
    "touch test3.txt\n",
    "```\n",
    "\n",
    "3. `mv test1.txt ..`\n",
    "\n",
    "4. `mv test3.txt test1.txt`\n",
    "\n",
    "5. `rm test2.txt`\n",
    "\n",
    "6. \n",
    "```bash\n",
    "cd ..\n",
    "rm -r test\n",
    "```"
   ]
  }
 ],
 "metadata": {
  "language_info": {
   "name": "python"
  },
  "orig_nbformat": 4
 },
 "nbformat": 4,
 "nbformat_minor": 2
}
