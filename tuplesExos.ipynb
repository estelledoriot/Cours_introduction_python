{
 "cells": [
  {
   "cell_type": "markdown",
   "metadata": {},
   "source": [
    "**Estelle Doriot**\n",
    "\n",
    "_NSI 1ère_\n",
    "\n",
    "---\n",
    "# Exercices : Tuples\n",
    "---\n",
    "\n",
    "### Exercice n° 1\n",
    "\n",
    "```python\n",
    "jours1 = (\"lundi\", \"mardi\", \"mercredi\", \"jeudi\", \"vendredi\")\n",
    "jours2 = (\"samedi\", \"dimanche\")\n",
    "```\n",
    "\n",
    "Répondez aux questions suivantes à l'aide d'instructions python:\n",
    "1. Tester si `\"samedi\"` est un élément de `jours1`.\n",
    "2. Donner la longueur de `jours2`.\n",
    "3. Tester si `jours1` est égal à `jours2`.\n",
    "4. Donner le deuxième élément de `jours1`.\n",
    "5. Créer un tuple `semaine` par concaténation de `jours1` et `jours2`."
   ]
  },
  {
   "cell_type": "code",
   "execution_count": 1,
   "metadata": {},
   "outputs": [
    {
     "name": "stdout",
     "output_type": "stream",
     "text": [
      "False\n",
      "2\n",
      "False\n",
      "mardi\n",
      "('lundi', 'mardi', 'mercredi', 'jeudi', 'vendredi', 'samedi', 'dimanche')\n"
     ]
    }
   ],
   "source": [
    "jours1 = (\"lundi\", \"mardi\", \"mercredi\", \"jeudi\", \"vendredi\")\n",
    "jours2 = (\"samedi\", \"dimanche\")\n",
    "\n",
    "print(\"samedi\" in jours1)\n",
    "print(len(jours2))\n",
    "print(jours1 == jours2)\n",
    "print(jours1[1])\n",
    "semaine = jours1 + jours2\n",
    "print(semaine)"
   ]
  },
  {
   "cell_type": "markdown",
   "metadata": {},
   "source": [
    "### Exercice n°2\n",
    "\n",
    "1. Ecrire une fonction `parité(lst:list) -> tuple` qui renvoie 2 listes: la liste des éléments pairs de `lst` et la liste des éléments impairs de `lst`."
   ]
  },
  {
   "cell_type": "code",
   "execution_count": 17,
   "metadata": {},
   "outputs": [],
   "source": [
    "def parité(lst : list) -> tuple:\n",
    "    \"\"\"trie les nombres pairs et impairs d'une liste\n",
    "    \n",
    "    Args:\n",
    "        lst (list): liste d'entiers\n",
    "\n",
    "    Returns:\n",
    "        tuple: liste des nombres pairs de lst et liste des nombres impairs de lst\n",
    "    \"\"\"\n",
    "    pairs = []\n",
    "    impairs = []\n",
    "    for el in lst:\n",
    "        if el % 2 == 0:\n",
    "            pairs.append(el)\n",
    "        else:\n",
    "            impairs.append(el)\n",
    "    return pairs, impairs\n",
    "\n",
    "assert parité([1, 4, 6, 7, 3, 2, 4]) == ([4, 6, 2, 4], [1, 7, 3])"
   ]
  },
  {
   "cell_type": "markdown",
   "metadata": {},
   "source": [
    "2. Ecrire une fonction `seuil(lst:list, s:int) -> tuple` qui prend en argument une liste `lst` et un entier `s` et qui renvoie la liste des éléments de `lst` inférieurs à `s` et la liste des éléments supérieurs à `s`."
   ]
  },
  {
   "cell_type": "code",
   "execution_count": 19,
   "metadata": {},
   "outputs": [],
   "source": [
    "def seuil(lst : list, s : int) -> tuple:\n",
    "    \"\"\"trie les éléments d'une liste par rapport à un seuil\n",
    "\n",
    "    Args:\n",
    "        lst (list): une liste d'entiers\n",
    "        s (int): un entier\n",
    "\n",
    "    Returns:\n",
    "        tuple: liste des entiers de lst >= s, liste des entiers de lst < s\n",
    "    \"\"\"\n",
    "    inf = []\n",
    "    sup = []\n",
    "    for el in lst:\n",
    "        if el >= s:\n",
    "            sup.append(el)\n",
    "        else:\n",
    "            inf.append(el)\n",
    "    return sup, inf\n",
    "\n",
    "assert seuil([2, 9, 5, 3, 8, 1, 6, 7], 4) == ([9, 5, 8, 6, 7], [2, 3, 1])"
   ]
  },
  {
   "cell_type": "markdown",
   "metadata": {},
   "source": [
    "### Exercice n°3\n",
    "\n",
    "1. Ecrire une fonction `conversion_secondes(a:int, j:int, h:int, m:int, s:int) -> int` qui convertit une durée de `a` années, `j` jours, `h` heures, `m` minutes et `s` secondes en secondes."
   ]
  },
  {
   "cell_type": "code",
   "execution_count": 2,
   "metadata": {},
   "outputs": [],
   "source": [
    "def conversion_secondes(a:int, j:int, h:int, m:int, s:int) -> int:\n",
    "    \"\"\"convertit une durée en années/jours/heures/minutes/secondes en secondes\n",
    "\n",
    "    Args:\n",
    "        a (int): nombre d'années\n",
    "        j (int): nombre de jours\n",
    "        h (int): nombre d'heures\n",
    "        m (int): nombre de minutes\n",
    "        s (int): nombre de secondes\n",
    "\n",
    "    Returns:\n",
    "        int: durée convertie en secondes\n",
    "    \"\"\"\n",
    "    return ((((a * 365 + j) * 24 + h) * 60) + m) * 60 + s\n",
    "\n",
    "assert conversion_secondes(0, 0, 1, 5, 36) == 3936"
   ]
  },
  {
   "cell_type": "markdown",
   "metadata": {},
   "source": [
    "2. Ecrire une fonction `conversion_ajms(sec:int) -> tuple` qui convertit en années, jours, heures, minutes, secondes une durée en secondes."
   ]
  },
  {
   "cell_type": "code",
   "execution_count": 7,
   "metadata": {},
   "outputs": [],
   "source": [
    "def conversion_ajms(sec:int) -> tuple:\n",
    "    \"\"\"convertit une durée en secondes en années/jours/heures/minutes/secondes\n",
    "\n",
    "    Args:\n",
    "        sec (int): nombre de secondes\n",
    "\n",
    "    Returns:\n",
    "        tuple: sec convertit en années/jours/heures/minutes/secondes\n",
    "    \"\"\"\n",
    "    s = sec % 60\n",
    "    r = sec // 60\n",
    "    m = r % 60\n",
    "    r = r // 60\n",
    "    h = r % 24\n",
    "    r = r // 24\n",
    "    j = r % 365\n",
    "    a = r // 365\n",
    "    return (a, j, h, m, s)\n",
    "\n",
    "assert conversion_ajms(3000000000) == (95, 47, 5, 20, 0)"
   ]
  },
  {
   "cell_type": "markdown",
   "metadata": {},
   "source": [
    "### Exercice n°4\n",
    "\n",
    "Écrire une fonction `duree(debut:tuple, fin:tuple) -> tuple` qui reçoit deux paramètres `debut` et `fin`. Ces derniers sont des couples (tuples de deux composantes) dont la première composante représente une heure et la seconde les minutes. Cette fonction doit calculer la durée qui s’est écoulée entre ces deux instants. Le résultat sera donné sous la forme d’un tuple `(heure, minutes)`.\n",
    "\n",
    "L’appel `duree ((14, 39), (18, 45))` doit retourner `(4, 6)` et l’appel `duree ((6, 0), (5, 15))` doit retourner `(23, 15)`."
   ]
  },
  {
   "cell_type": "code",
   "execution_count": 8,
   "metadata": {},
   "outputs": [],
   "source": [
    "def duree (debut:tuple, fin:tuple) -> tuple:\n",
    "    \"\"\"retourne la durée écoulée entre deux instants\n",
    "\n",
    "    Args:\n",
    "        debut (tuple): instant de début sous forme (heures, minutes) \n",
    "        fin (tuple): instant de fin sous forme (heures, minutes) \n",
    "\n",
    "    Returns:\n",
    "        tuple: durée entre début et fin sous forme (heures, minutes)\n",
    "    \"\"\"\n",
    "    h1, m1 = debut\n",
    "    h2, m2 = fin\n",
    "    minutes = (m2 - m1) % 60\n",
    "    if m1 > m2:\n",
    "        retenue = 1\n",
    "    else:\n",
    "        retenue = 0\n",
    "    heures = (h2 - h1 - retenue) % 24\n",
    "    return (heures, minutes)\n",
    "\n",
    "assert duree ((14, 39), (18, 45)) == (4, 6)\n",
    "assert duree ((6, 0), (5, 15)) == (23, 15)"
   ]
  },
  {
   "cell_type": "markdown",
   "metadata": {},
   "source": [
    "### Exercice n°5\n",
    "\n",
    "1. Écrire une fonction `distance(p1:tuple, p2:tuple) -> float` qui prend en argument les coordonnées de deux points (représentés par des tuples) et renvoie la distance les séparant."
   ]
  },
  {
   "cell_type": "code",
   "execution_count": 9,
   "metadata": {},
   "outputs": [],
   "source": [
    "from math import sqrt\n",
    "\n",
    "def distance(p1:tuple, p2:tuple) -> float:\n",
    "    \"\"\"calcule la distance entre deux points du plan\n",
    "\n",
    "    Args:\n",
    "        p1 (tuple): un point du plan\n",
    "        p2 (tuple): un point du plan\n",
    "\n",
    "    Returns:\n",
    "        float: distance entre p1 et p2\n",
    "    \"\"\"\n",
    "    x1, y1 = p1\n",
    "    x2, y2 = p2\n",
    "    return sqrt((x1 - x2) ** 2 + (y1 - y2) ** 2)\n",
    "\n",
    "assert distance((1, 3), (4, 7)) == 5"
   ]
  },
  {
   "cell_type": "markdown",
   "metadata": {},
   "source": [
    "2. Ecrire une fonction `plus_proche_voisin(points:list, p:tuple) -> tuple` qui prend en argument une liste de points, ainsi que celles d’un point p et qui renvoie le point de la liste qui est le plus proche de p."
   ]
  },
  {
   "cell_type": "code",
   "execution_count": 10,
   "metadata": {},
   "outputs": [],
   "source": [
    "def plus_proche_voisin(points:list, p:tuple) -> tuple:\n",
    "    \"\"\"détermine le plus proche voisin d'un point\n",
    "\n",
    "    Args:\n",
    "        points (list): liste de points\n",
    "        p (tuple): un point\n",
    "\n",
    "    Returns:\n",
    "        tuple: plus proche voisin de p dans la liste points\n",
    "    \"\"\"\n",
    "    assert points != []\n",
    "    \n",
    "    ppv = points[0]\n",
    "    for e in points:\n",
    "        if distance(e, p) < distance(ppv, p):\n",
    "            ppv = e\n",
    "    return ppv\n",
    "\n",
    "assert plus_proche_voisin([(0,0),(1,1),(4,5),(3,7),(5,1)],(2,0)) == (1,1)"
   ]
  },
  {
   "cell_type": "markdown",
   "metadata": {},
   "source": [
    "### Exercice n°6\n",
    "\n",
    "Dans un jeu de cartes de 32 cartes, les cartes sont identifiées par :\n",
    "- une couleur: ♠, ♥, ♦, ♣;\n",
    "- une valeur: 7, 8, 9, 10, V, D, R, A\n",
    "\n",
    "\n",
    "1. Écrire une fonction `creer_jeu(couleurs:tuple, valeurs:tuple) -> list` qui prend en argument deux tuples: `couleurs` et `valeurs`,\n",
    "et qui renvoie la liste de toutes les cartes : `[(7,♠), (8,♠), (9,♠), ...]`"
   ]
  },
  {
   "cell_type": "code",
   "execution_count": 11,
   "metadata": {},
   "outputs": [
    {
     "name": "stdout",
     "output_type": "stream",
     "text": [
      "Jeu: [('♠', 7), ('♠', 8), ('♠', 9), ('♠', 10), ('♠', 'V'), ('♠', 'D'), ('♠', 'R'), ('♠', 'A'), ('♥', 7), ('♥', 8), ('♥', 9), ('♥', 10), ('♥', 'V'), ('♥', 'D'), ('♥', 'R'), ('♥', 'A'), ('♦', 7), ('♦', 8), ('♦', 9), ('♦', 10), ('♦', 'V'), ('♦', 'D'), ('♦', 'R'), ('♦', 'A'), ('♣', 7), ('♣', 8), ('♣', 9), ('♣', 10), ('♣', 'V'), ('♣', 'D'), ('♣', 'R'), ('♣', 'A')]\n"
     ]
    }
   ],
   "source": [
    "couleurs = ('♠','♥','♦','♣')\n",
    "valeurs = (7,8,9,10,'V','D','R','A')\n",
    "\n",
    "def creer_jeu(couleurs:tuple, valeurs:tuple) -> list:\n",
    "    \"\"\"crée un jeu de carte complet\n",
    "\n",
    "    Args:\n",
    "        couleurs (tuple): couleurs des cartes\n",
    "        valeurs (tuple): valeurs des cartes\n",
    "\n",
    "    Returns:\n",
    "        list: liste des cartes\n",
    "    \"\"\"\n",
    "    l = []\n",
    "    for e1 in couleurs:\n",
    "        for e2 in valeurs:\n",
    "            l.append((e1, e2))\n",
    "    return l\n",
    "\n",
    "jeu = creer_jeu(couleurs, valeurs)\n",
    "print(\"Jeu:\", jeu)"
   ]
  },
  {
   "cell_type": "markdown",
   "metadata": {},
   "source": [
    "2. Écrire une fonction `carte_hasard(jeu:list) -> tuple` qui prend en argument le jeu de carte complet, et renvoie une carte\n",
    "tirée au hasard. On pourra utiliser la fonction `randint(a,b)` du module `random`."
   ]
  },
  {
   "cell_type": "code",
   "execution_count": 12,
   "metadata": {},
   "outputs": [
    {
     "name": "stdout",
     "output_type": "stream",
     "text": [
      "Carte au hasard: ('♣', 9)\n"
     ]
    }
   ],
   "source": [
    "from random import randint\n",
    "\n",
    "def carte_hasard(jeu : list) -> tuple:\n",
    "    \"\"\"tire une carte au hasard dans le jeu\n",
    "\n",
    "    Args:\n",
    "        jeu (list): le jeu de cartes complet\n",
    "\n",
    "    Returns:\n",
    "        tuple: une carte au hasard\n",
    "    \"\"\"\n",
    "    n = len(jeu)\n",
    "    return jeu[randint(0,n-1)]\n",
    "\n",
    "print(\"Carte au hasard:\", carte_hasard(jeu))"
   ]
  },
  {
   "cell_type": "markdown",
   "metadata": {},
   "source": [
    "3. Écrire une fonction `main(nb_cartes:int, jeu:list) -> list` qui prend en argument un entier `nb_cartes` et une liste `jeu` qui\n",
    "renvoie une liste qui contient `nb_cartes` piochées au hasard dans jeu."
   ]
  },
  {
   "cell_type": "code",
   "execution_count": 13,
   "metadata": {},
   "outputs": [
    {
     "name": "stdout",
     "output_type": "stream",
     "text": [
      "Créer une main: [('♣', 'R'), ('♥', 'D'), ('♥', 'V'), ('♣', 9), ('♣', 7)]\n"
     ]
    }
   ],
   "source": [
    "def main(nb_cartes : int, jeu : list) -> list:\n",
    "    \"\"\"tire un nombre de cartes donné en argument parmi le jeu complet\n",
    "\n",
    "    Args:\n",
    "        nb_cartes (int): nombre de cartes à piocher\n",
    "        jeu (list): jeu de cartes complet\n",
    "\n",
    "    Returns:\n",
    "        list: main de nb_cartes tirées au hasard dans jeu\n",
    "    \"\"\"\n",
    "    l = []\n",
    "    for i in range(nb_cartes):\n",
    "        n = len(jeu)\n",
    "        carte = jeu[randint(0, n-1)]\n",
    "        l.append(carte)\n",
    "        jeu.remove(carte)\n",
    "    return l\n",
    "\n",
    "print(\"Créer une main:\", main(5,jeu))"
   ]
  },
  {
   "cell_type": "markdown",
   "metadata": {},
   "source": [
    "4. Écrire une fonction `melange(jeu:list) -> list` qui prend en argument une liste jeu et qui renvoie la liste des cartes\n",
    "mélangée."
   ]
  },
  {
   "cell_type": "code",
   "execution_count": 14,
   "metadata": {},
   "outputs": [
    {
     "name": "stdout",
     "output_type": "stream",
     "text": [
      "Jeu mélangé: [('♦', 'D'), ('♣', 8), ('♠', 'A'), ('♦', 8), ('♠', 7), ('♣', 'R'), ('♥', 'V'), ('♣', 7), ('♥', 'D'), ('♦', 'V'), ('♥', 'R'), ('♦', 10), ('♠', 9), ('♣', 'D'), ('♣', 'V'), ('♠', 'V'), ('♦', 9), ('♥', 'A'), ('♦', 'A'), ('♦', 7), ('♥', 7), ('♣', 9), ('♣', 'A'), ('♥', 10), ('♠', 'D'), ('♥', 8), ('♦', 'R'), ('♠', 8), ('♣', 10), ('♠', 'R'), ('♥', 9), ('♠', 10)]\n"
     ]
    }
   ],
   "source": [
    "def melange(jeu : list) -> list:\n",
    "    \"\"\"mélange un jeu de cartes\n",
    "\n",
    "    Args:\n",
    "        jeu (list): jeu initial\n",
    "\n",
    "    Returns:\n",
    "        list: jeu mélangé\n",
    "    \"\"\"\n",
    "    return main(len(jeu),jeu)\n",
    "\n",
    "jeu = creer_jeu(couleurs,valeurs)\n",
    "jeu_melange = melange(jeu)\n",
    "print(\"Jeu mélangé:\", jeu_melange)"
   ]
  }
 ],
 "metadata": {
  "kernelspec": {
   "display_name": "Python 3.10.0 64-bit",
   "language": "python",
   "name": "python3"
  },
  "language_info": {
   "codemirror_mode": {
    "name": "ipython",
    "version": 3
   },
   "file_extension": ".py",
   "mimetype": "text/x-python",
   "name": "python",
   "nbconvert_exporter": "python",
   "pygments_lexer": "ipython3",
   "version": "3.10.0"
  },
  "orig_nbformat": 4,
  "vscode": {
   "interpreter": {
    "hash": "aee8b7b246df8f9039afb4144a1f6fd8d2ca17a180786b69acc140d282b71a49"
   }
  }
 },
 "nbformat": 4,
 "nbformat_minor": 2
}
