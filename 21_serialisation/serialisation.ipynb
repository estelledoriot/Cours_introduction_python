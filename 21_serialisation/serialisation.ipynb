{
 "cells": [
  {
   "cell_type": "markdown",
   "metadata": {},
   "source": [
    "**Estelle Doriot**\n",
    "\n",
    "---\n",
    "\n",
    "# Sérialisation\n",
    "\n",
    "---\n"
   ]
  },
  {
   "cell_type": "markdown",
   "metadata": {},
   "source": [
    "### CSV\n"
   ]
  },
  {
   "cell_type": "code",
   "execution_count": 1,
   "metadata": {},
   "outputs": [],
   "source": [
    "villains = [\n",
    "    [\"Doctor\", \"No\"],\n",
    "    [\"Rosa\", \"Klebb\"],\n",
    "    [\"Mister\", \"Big\"],\n",
    "    [\"Auric\", \"Goldfinger\"],\n",
    "    [\"Ernst\", \"Blofeld\"],\n",
    "]"
   ]
  },
  {
   "cell_type": "code",
   "execution_count": 5,
   "metadata": {},
   "outputs": [],
   "source": [
    "import csv\n",
    "\n",
    "with open(\"villains.csv\", \"wt\") as fichier:\n",
    "    csv_writer = csv.writer(fichier)\n",
    "    csv_writer.writerows(villains)"
   ]
  },
  {
   "cell_type": "code",
   "execution_count": 7,
   "metadata": {},
   "outputs": [
    {
     "name": "stdout",
     "output_type": "stream",
     "text": [
      "[['Doctor', 'No'], ['Rosa', 'Klebb'], ['Mister', 'Big'], ['Auric', 'Goldfinger'], ['Ernst', 'Blofeld']]\n"
     ]
    }
   ],
   "source": [
    "import csv\n",
    "\n",
    "with open(\"villains.csv\", \"rt\") as fichier:\n",
    "    csv_reader = csv.reader(fichier)\n",
    "    villains = list(csv_reader)\n",
    "\n",
    "print(villains)"
   ]
  },
  {
   "cell_type": "code",
   "execution_count": 8,
   "metadata": {},
   "outputs": [
    {
     "name": "stdout",
     "output_type": "stream",
     "text": [
      "[{'prenom': 'Doctor', 'nom': 'No'}, {'prenom': 'Rosa', 'nom': 'Klebb'}, {'prenom': 'Mister', 'nom': 'Big'}, {'prenom': 'Auric', 'nom': 'Goldfinger'}, {'prenom': 'Ernst', 'nom': 'Blofeld'}]\n"
     ]
    }
   ],
   "source": [
    "import csv\n",
    "\n",
    "with open(\"villains.csv\", \"rt\") as fichier:\n",
    "    csv_reader = csv.DictReader(fichier, fieldnames=[\"prenom\", \"nom\"])\n",
    "    villains = list(csv_reader)\n",
    "\n",
    "print(villains)"
   ]
  },
  {
   "cell_type": "code",
   "execution_count": 9,
   "metadata": {},
   "outputs": [],
   "source": [
    "import csv\n",
    "\n",
    "villains = [\n",
    "    {\"prenom\": \"Doctor\", \"nom\": \"No\"},\n",
    "    {\"prenom\": \"Rosa\", \"nom\": \"Klebb\"},\n",
    "    {\"prenom\": \"Mister\", \"nom\": \"Big\"},\n",
    "    {\"prenom\": \"Auric\", \"nom\": \"Goldfinger\"},\n",
    "    {\"prenom\": \"Ernst\", \"nom\": \"Blofeld\"},\n",
    "]\n",
    "\n",
    "with open(\"villains.csv\", \"wt\") as fichier:\n",
    "    csv_writer = csv.DictWriter(fichier, [\"prenom\", \"nom\"])\n",
    "    csv_writer.writeheader()\n",
    "    csv_writer.writerows(villains)"
   ]
  },
  {
   "cell_type": "markdown",
   "metadata": {},
   "source": [
    "### JSON\n"
   ]
  },
  {
   "cell_type": "code",
   "execution_count": 10,
   "metadata": {},
   "outputs": [],
   "source": [
    "pays = {\n",
    "    \"pays\": [\n",
    "        {\"n\": \"France\", \"c\": \"Paris\"},\n",
    "        {\"n\": \"Espagne\", \"c\": \"Madrid\"},\n",
    "        {\"n\": \"Italie\", \"c\": \"Rome\"},\n",
    "    ],\n",
    "    \"properties\": {\"n\": \"nom\", \"c\": \"capitale\"},\n",
    "}"
   ]
  },
  {
   "cell_type": "code",
   "execution_count": 11,
   "metadata": {},
   "outputs": [
    {
     "name": "stdout",
     "output_type": "stream",
     "text": [
      "{\"pays\": [{\"n\": \"France\", \"c\": \"Paris\"}, {\"n\": \"Espagne\", \"c\": \"Madrid\"}, {\"n\": \"Italie\", \"c\": \"Rome\"}], \"properties\": {\"n\": \"nom\", \"c\": \"capitale\"}}\n"
     ]
    }
   ],
   "source": [
    "import json\n",
    "\n",
    "pays_json = json.dumps(pays)\n",
    "print(pays_json)"
   ]
  },
  {
   "cell_type": "code",
   "execution_count": 12,
   "metadata": {},
   "outputs": [],
   "source": [
    "import json\n",
    "\n",
    "with open(\"pays.json\", \"w\") as fichier:\n",
    "    json.dump(pays, fichier, indent=2)"
   ]
  },
  {
   "cell_type": "code",
   "execution_count": 13,
   "metadata": {},
   "outputs": [
    {
     "name": "stdout",
     "output_type": "stream",
     "text": [
      "{'pays': [{'n': 'France', 'c': 'Paris'}, {'n': 'Espagne', 'c': 'Madrid'}, {'n': 'Italie', 'c': 'Rome'}], 'properties': {'n': 'nom', 'c': 'capitale'}}\n"
     ]
    }
   ],
   "source": [
    "import json\n",
    "\n",
    "pays2 = json.loads(pays_json)\n",
    "print(pays2)"
   ]
  },
  {
   "cell_type": "code",
   "execution_count": 14,
   "metadata": {},
   "outputs": [
    {
     "name": "stdout",
     "output_type": "stream",
     "text": [
      "{'pays': [{'n': 'France', 'c': 'Paris'}, {'n': 'Espagne', 'c': 'Madrid'}, {'n': 'Italie', 'c': 'Rome'}], 'properties': {'n': 'nom', 'c': 'capitale'}}\n"
     ]
    }
   ],
   "source": [
    "import json\n",
    "\n",
    "with open(\"pays.json\", \"r\") as fichier:\n",
    "    pays3 = json.load(fichier)\n",
    "\n",
    "print(pays3)"
   ]
  },
  {
   "cell_type": "markdown",
   "metadata": {},
   "source": [
    "### base64\n"
   ]
  },
  {
   "cell_type": "code",
   "execution_count": 18,
   "metadata": {},
   "outputs": [
    {
     "name": "stdout",
     "output_type": "stream",
     "text": [
      "b'iVBORw0KGgoAAAANSUhEUgAAAUAAAADVBAMAAADUYjTdAAAABGdBTUEAALGPC/xhBQAAACBjSFJNAAB6JgAAgIQAAPoAAACA6AAAdTAAAOpgAAA6mAAAF3CculE8AAAAHlBMVEUAI5UAH5Nbcbr9/f7////+/f3zdX/sJTXtKTkAAADhkGO2AAAAAWJLR0QJ8dml7AAAAAd0SU1FB+cJEAUaMuSt3cQAAACrSURBVHja7c5RFQAQAASwk0UVGWQRQWwd7vncEiwpjLkK+9xCBAUFBQUFBQUFBQUFBQUFBQUFBQUFBQUFBQUFBQUFBQUFBQUFBQUFBQUFBQUFBQUFBQUFBQUFBQUFBQUFBQUFBQUFBQUFBQUFBQUFBQUFBQUFBQUFBQUFBQUFBQUFBQUFBQUFBQUFBQUFBQUFBQUFBQUFBQUFBQUFBQUFBQUFBQUFBQUFPwYfnbFFmLiPvfAAAAAldEVYdGRhdGU6Y3JlYXRlADIwMjMtMDktMTZUMDU6MjY6NTArMDA6MDA/LYA5AAAAJXRFWHRkYXRlOm1vZGlmeQAyMDIzLTA5LTE2VDA1OjI2OjUwKzAwOjAwTnA4hQAAAABJRU5ErkJggg=='\n"
     ]
    }
   ],
   "source": [
    "import base64\n",
    "\n",
    "with open(\"fr.png\", \"rb\") as fichier:\n",
    "    data = base64.b64encode(fichier.read())\n",
    "\n",
    "print(data)"
   ]
  },
  {
   "cell_type": "code",
   "execution_count": 19,
   "metadata": {},
   "outputs": [
    {
     "name": "stdout",
     "output_type": "stream",
     "text": [
      "b'\\x89PNG\\r\\n\\x1a\\n\\x00\\x00\\x00\\rIHDR\\x00\\x00\\x01@\\x00\\x00\\x00\\xd5\\x04\\x03\\x00\\x00\\x00\\xd4b4\\xdd\\x00\\x00\\x00\\x04gAMA\\x00\\x00\\xb1\\x8f\\x0b\\xfca\\x05\\x00\\x00\\x00 cHRM\\x00\\x00z&\\x00\\x00\\x80\\x84\\x00\\x00\\xfa\\x00\\x00\\x00\\x80\\xe8\\x00\\x00u0\\x00\\x00\\xea`\\x00\\x00:\\x98\\x00\\x00\\x17p\\x9c\\xbaQ<\\x00\\x00\\x00\\x1ePLTE\\x00#\\x95\\x00\\x1f\\x93[q\\xba\\xfd\\xfd\\xfe\\xff\\xff\\xff\\xfe\\xfd\\xfd\\xf3u\\x7f\\xec%5\\xed)9\\x00\\x00\\x00\\xe1\\x90c\\xb6\\x00\\x00\\x00\\x01bKGD\\t\\xf1\\xd9\\xa5\\xec\\x00\\x00\\x00\\x07tIME\\x07\\xe7\\t\\x10\\x05\\x1a2\\xe4\\xad\\xdd\\xc4\\x00\\x00\\x00\\xabIDATx\\xda\\xed\\xceQ\\x15\\x00\\x10\\x00\\x04\\xb0\\x93E\\x15\\x19d\\x11Al\\x1d\\xee\\xf9\\xdc\\x12,)\\x8c\\xb9\\n\\xfb\\xdcB\\x04\\x05\\x05\\x05\\x05\\x05\\x05\\x05\\x05\\x05\\x05\\x05\\x05\\x05\\x05\\x05\\x05\\x05\\x05\\x05\\x05\\x05\\x05\\x05\\x05\\x05\\x05\\x05\\x05\\x05\\x05\\x05\\x05\\x05\\x05\\x05\\x05\\x05\\x05\\x05\\x05\\x05\\x05\\x05\\x05\\x05\\x05\\x05\\x05\\x05\\x05\\x05\\x05\\x05\\x05\\x05\\x05\\x05\\x05\\x05\\x05\\x05\\x05\\x05\\x05\\x05\\x05\\x05\\x05\\x05\\x05\\x05\\x05\\x05\\x05\\x05\\x05\\x05\\x05\\x05\\x05\\x05\\x05\\x05\\x05\\x05\\x05\\x05\\x05\\x05\\x05\\x05\\x05\\x05\\x05\\x05\\x05\\x05\\x05\\x05\\x05\\x05\\x05\\x05\\x05\\x05\\x05\\x05\\x05\\x05\\x05\\x05\\x05\\x05\\x05\\x05\\x05\\x05\\x05\\x05\\x05\\x05\\x05\\x05\\x05\\x05\\x05\\x05\\x05\\x05\\x05\\x05?\\x06\\x1f\\x9d\\xb1E\\x98\\xb8\\x8f\\xbd\\xf0\\x00\\x00\\x00%tEXtdate:create\\x002023-09-16T05:26:50+00:00?-\\x809\\x00\\x00\\x00%tEXtdate:modify\\x002023-09-16T05:26:50+00:00Np8\\x85\\x00\\x00\\x00\\x00IEND\\xaeB`\\x82'\n"
     ]
    }
   ],
   "source": [
    "import base64\n",
    "\n",
    "data = b\"iVBORw0KGgoAAAANSUhEUgAAAUAAAADVBAMAAADUYjTdAAAABGdBTUEAALGPC/xhBQAAACBjSFJNAAB6JgAAgIQAAPoAAACA6AAAdTAAAOpgAAA6mAAAF3CculE8AAAAHlBMVEUAI5UAH5Nbcbr9/f7////+/f3zdX/sJTXtKTkAAADhkGO2AAAAAWJLR0QJ8dml7AAAAAd0SU1FB+cJEAUaMuSt3cQAAACrSURBVHja7c5RFQAQAASwk0UVGWQRQWwd7vncEiwpjLkK+9xCBAUFBQUFBQUFBQUFBQUFBQUFBQUFBQUFBQUFBQUFBQUFBQUFBQUFBQUFBQUFBQUFBQUFBQUFBQUFBQUFBQUFBQUFBQUFBQUFBQUFBQUFBQUFBQUFBQUFBQUFBQUFBQUFBQUFBQUFBQUFBQUFBQUFBQUFBQUFBQUFBQUFBQUFBQUFBQUFPwYfnbFFmLiPvfAAAAAldEVYdGRhdGU6Y3JlYXRlADIwMjMtMDktMTZUMDU6MjY6NTArMDA6MDA/LYA5AAAAJXRFWHRkYXRlOm1vZGlmeQAyMDIzLTA5LTE2VDA1OjI2OjUwKzAwOjAwTnA4hQAAAABJRU5ErkJggg==\"\n",
    "\n",
    "data_decode = base64.b64decode(data)\n",
    "print(data_decode)"
   ]
  },
  {
   "cell_type": "markdown",
   "metadata": {},
   "source": [
    "### XML\n"
   ]
  },
  {
   "cell_type": "code",
   "execution_count": 20,
   "metadata": {},
   "outputs": [
    {
     "name": "stdout",
     "output_type": "stream",
     "text": [
      "menu\n"
     ]
    }
   ],
   "source": [
    "import xml.etree.ElementTree as et\n",
    "\n",
    "tree = et.ElementTree(file=\"menu.xml\")\n",
    "root = tree.getroot()\n",
    "print(root.tag)"
   ]
  },
  {
   "cell_type": "code",
   "execution_count": 23,
   "metadata": {},
   "outputs": [
    {
     "name": "stdout",
     "output_type": "stream",
     "text": [
      "Meal: breakfast – attributes: {'hours': '7-11'}\n",
      "\tFood: breakfast burritos – attributes: {'price': '$6.00'}\n",
      "\tFood: pancakes – attributes: {'price': '$4.00'}\n",
      "Meal: lunch – attributes: {'hours': '11-3'}\n",
      "\tFood: hamburger – attributes: {'price': '$5.00'}\n",
      "Meal: dinner – attributes: {'hours': '3-10'}\n",
      "\tFood: spaghetti – attributes: {'price': '$8.00'}\n"
     ]
    }
   ],
   "source": [
    "for child in root:\n",
    "    print(f\"Meal: {child.tag} – attributes: {child.attrib}\")\n",
    "    for grandchild in child:\n",
    "        print(f\"\\tFood: {grandchild.text} – attributes: {grandchild.attrib}\")"
   ]
  },
  {
   "cell_type": "markdown",
   "metadata": {},
   "source": [
    "### Pickle\n"
   ]
  },
  {
   "cell_type": "code",
   "execution_count": 24,
   "metadata": {},
   "outputs": [],
   "source": [
    "import pickle\n",
    "\n",
    "elt1 = 10\n",
    "elt2 = [30, \"bonjour\", 34.8]\n",
    "\n",
    "with open(\"f1.pkl\", \"wb\") as fichier:\n",
    "    pickle.dump(elt1, fichier)\n",
    "    pickle.dump(elt2, fichier)"
   ]
  },
  {
   "cell_type": "code",
   "execution_count": 25,
   "metadata": {},
   "outputs": [
    {
     "name": "stdout",
     "output_type": "stream",
     "text": [
      "10\n",
      "[30, 'bonjour', 34.8]\n"
     ]
    }
   ],
   "source": [
    "import pickle\n",
    "\n",
    "with open(\"f1.pkl\", \"rb\") as fichier:\n",
    "    elt1 = pickle.load(fichier)\n",
    "    elt2 = pickle.load(fichier)\n",
    "\n",
    "print(elt1)\n",
    "print(elt2)"
   ]
  },
  {
   "cell_type": "markdown",
   "metadata": {},
   "source": [
    "### Pathlib\n"
   ]
  },
  {
   "cell_type": "code",
   "execution_count": 28,
   "metadata": {},
   "outputs": [
    {
     "name": "stdout",
     "output_type": "stream",
     "text": [
      "/Users/estelledoriot/Mon Drive/Workspace/Python/Cours_python/21_serialisation\n",
      "/Users/estelledoriot/Mon Drive/Workspace/Python/Cours_python/21_serialisation\n"
     ]
    }
   ],
   "source": [
    "from pathlib import Path\n",
    "\n",
    "current = Path(\".\")\n",
    "print(current.absolute())\n",
    "current = Path.cwd()\n",
    "print(current)"
   ]
  }
 ],
 "metadata": {
  "kernelspec": {
   "display_name": "Python 3",
   "language": "python",
   "name": "python3"
  },
  "language_info": {
   "codemirror_mode": {
    "name": "ipython",
    "version": 3
   },
   "file_extension": ".py",
   "mimetype": "text/x-python",
   "name": "python",
   "nbconvert_exporter": "python",
   "pygments_lexer": "ipython3",
   "version": "3.11.6"
  }
 },
 "nbformat": 4,
 "nbformat_minor": 2
}
