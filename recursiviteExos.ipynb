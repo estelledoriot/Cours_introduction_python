{
 "cells": [
  {
   "cell_type": "markdown",
   "metadata": {},
   "source": [
    "**Estelle Doriot**\n",
    "\n",
    "_NSI Tale_\n",
    "\n",
    "---\n",
    "\n",
    "# Exercices : Récursivité\n",
    "\n",
    "---\n"
   ]
  },
  {
   "cell_type": "markdown",
   "metadata": {},
   "source": [
    "### Exercice n°1\n",
    "\n",
    "1. Proposez un algorithme récursif de calcul de la somme de deux entiers naturels $a$ et $b$ en supposant que les seules opérations de base dont vous disposez sont\n",
    "\n",
    "- le successeur de $a$ ($a+1$)\n",
    "- le prédécesseur de $a$ ($a-1$)\n",
    "- et les comparaisons à 0 d'un entier a : $a=0$, $a>0$ et $a<0$.\n",
    "\n",
    "Puis programmez cet algorithme en Python pour en faire une fonction `add` à deux paramètres.\n"
   ]
  },
  {
   "cell_type": "code",
   "execution_count": 8,
   "metadata": {},
   "outputs": [],
   "source": [
    "def successeur(a: int) -> int:\n",
    "    return a + 1\n",
    "\n",
    "\n",
    "def predecesseur(a: int) -> int:\n",
    "    return a - 1\n",
    "\n",
    "\n",
    "def add(a: int, b: int) -> int:\n",
    "    if b == 0:\n",
    "        return a\n",
    "    else:\n",
    "        return add(successeur(a), predecesseur((b)))\n",
    "\n",
    "\n",
    "assert add(5, 7) == 12\n"
   ]
  },
  {
   "cell_type": "markdown",
   "metadata": {},
   "source": [
    "2. Proposez un algorithme récursif de calcul du produit de deux entiers naturels $a$ et $b$ en supposant que les seules opérations de base dont vous disposez sont:\n",
    "\n",
    "- la somme de deux entiers $a$ et $b$ (définie à la question précédente)\n",
    "- le prédécesseur de $a$ ($a-1$)\n",
    "- et la comparaison à 0 d'un entier a : $a=0$.\n",
    "\n",
    "Puis programmez cet algorithme en Python pour en faire une fonction `produit` à deux paramètres.\n"
   ]
  },
  {
   "cell_type": "code",
   "execution_count": 10,
   "metadata": {},
   "outputs": [],
   "source": [
    "def produit(a: int, b: int) -> int:\n",
    "    if b == 0:\n",
    "        return 0\n",
    "    else:\n",
    "        return add(a, produit(a, predecesseur(b)))\n",
    "\n",
    "\n",
    "assert produit(5, 7) == 35"
   ]
  },
  {
   "cell_type": "markdown",
   "metadata": {},
   "source": [
    "### Exercice n°2\n",
    "\n",
    "La factorielle $n!$ d’un nombre entier $n > 1$ est définie par $n! = 1 \\times 2 \\times 3 \\times \\dots \\times n$.\n",
    "\n",
    "1. Quelle est la relation de récurrence vérifiée par la factorielle ?\n",
    "\n",
    "   (En d’autres termes, exprimer n! en fonction de (n − 1)!)\n"
   ]
  },
  {
   "cell_type": "markdown",
   "metadata": {},
   "source": [
    "**Correction**: $n! = (n-1)! \\times n$\n"
   ]
  },
  {
   "cell_type": "markdown",
   "metadata": {},
   "source": [
    "2. On considère la fonction ci-dessous.\n",
    "\n",
    "```python\n",
    "def factorielle(n):\n",
    "    return n * factorielle(n-1)\n",
    "```\n",
    "\n",
    "(a) Expliquer pourquoi cette fonction ne renvoie pas la valeur attendue pour l’appel `factorielle(4)`.\n"
   ]
  },
  {
   "cell_type": "code",
   "execution_count": 1,
   "metadata": {},
   "outputs": [
    {
     "ename": "RecursionError",
     "evalue": "maximum recursion depth exceeded",
     "output_type": "error",
     "traceback": [
      "\u001b[0;31m---------------------------------------------------------------------------\u001b[0m",
      "\u001b[0;31mRecursionError\u001b[0m                            Traceback (most recent call last)",
      "Cell \u001b[0;32mIn[1], line 4\u001b[0m\n\u001b[1;32m      1\u001b[0m \u001b[39mdef\u001b[39;00m \u001b[39mfactorielle\u001b[39m(n):\n\u001b[1;32m      2\u001b[0m     \u001b[39mreturn\u001b[39;00m n \u001b[39m*\u001b[39m factorielle(n\u001b[39m-\u001b[39m\u001b[39m1\u001b[39m)\n\u001b[0;32m----> 4\u001b[0m factorielle(\u001b[39m4\u001b[39;49m)\n",
      "Cell \u001b[0;32mIn[1], line 2\u001b[0m, in \u001b[0;36mfactorielle\u001b[0;34m(n)\u001b[0m\n\u001b[1;32m      1\u001b[0m \u001b[39mdef\u001b[39;00m \u001b[39mfactorielle\u001b[39m(n):\n\u001b[0;32m----> 2\u001b[0m     \u001b[39mreturn\u001b[39;00m n \u001b[39m*\u001b[39m factorielle(n\u001b[39m-\u001b[39;49m\u001b[39m1\u001b[39;49m)\n",
      "Cell \u001b[0;32mIn[1], line 2\u001b[0m, in \u001b[0;36mfactorielle\u001b[0;34m(n)\u001b[0m\n\u001b[1;32m      1\u001b[0m \u001b[39mdef\u001b[39;00m \u001b[39mfactorielle\u001b[39m(n):\n\u001b[0;32m----> 2\u001b[0m     \u001b[39mreturn\u001b[39;00m n \u001b[39m*\u001b[39m factorielle(n\u001b[39m-\u001b[39;49m\u001b[39m1\u001b[39;49m)\n",
      "    \u001b[0;31m[... skipping similar frames: factorielle at line 2 (2971 times)]\u001b[0m\n",
      "Cell \u001b[0;32mIn[1], line 2\u001b[0m, in \u001b[0;36mfactorielle\u001b[0;34m(n)\u001b[0m\n\u001b[1;32m      1\u001b[0m \u001b[39mdef\u001b[39;00m \u001b[39mfactorielle\u001b[39m(n):\n\u001b[0;32m----> 2\u001b[0m     \u001b[39mreturn\u001b[39;00m n \u001b[39m*\u001b[39m factorielle(n\u001b[39m-\u001b[39;49m\u001b[39m1\u001b[39;49m)\n",
      "\u001b[0;31mRecursionError\u001b[0m: maximum recursion depth exceeded"
     ]
    }
   ],
   "source": [
    "def factorielle(n):\n",
    "    return n * factorielle(n - 1)\n",
    "\n",
    "\n",
    "factorielle(4)"
   ]
  },
  {
   "cell_type": "markdown",
   "metadata": {},
   "source": [
    "**Correction**: on atteint la limite de récursion. Il manque la condition d'arrêt.\n"
   ]
  },
  {
   "cell_type": "markdown",
   "metadata": {},
   "source": [
    "(b) Corriger la fonction pour qu’elle renvoie bien la valeur de n! pour une valeur entière du paramètre n.\n"
   ]
  },
  {
   "cell_type": "code",
   "execution_count": null,
   "metadata": {},
   "outputs": [],
   "source": [
    "def factorielle(n: int) -> int:\n",
    "    if n == 1:\n",
    "        return 1\n",
    "    else:\n",
    "        return n * factorielle(n - 1)"
   ]
  },
  {
   "cell_type": "markdown",
   "metadata": {},
   "source": [
    "(c) Combien d’appels récursifs de la fonction sont factorielle sont réalisés lors de l’appel `factorielle(4)` ?\n"
   ]
  },
  {
   "cell_type": "markdown",
   "metadata": {},
   "source": [
    "**Correction**: L'appel `factorielle(4)` réalise 4 appels à la fonction `factorielle`.\n"
   ]
  },
  {
   "cell_type": "markdown",
   "metadata": {},
   "source": [
    "(d) Ajouter la précondition sur n. Que penser de ces tests ?\n"
   ]
  },
  {
   "cell_type": "code",
   "execution_count": null,
   "metadata": {},
   "outputs": [],
   "source": [
    "def factorielle(n: int) -> int:\n",
    "    assert isinstance(n, int) and n >= 1\n",
    "\n",
    "    if n <= 1:\n",
    "        return 1\n",
    "    else:\n",
    "        return n * factorielle(n - 1)\n"
   ]
  },
  {
   "cell_type": "markdown",
   "metadata": {},
   "source": [
    "### Exercice n°3\n",
    "\n",
    "Une suite $(u_n)$ est dite géométrique de raison $q$ si $u_{n+1} = u_n \\times q$ pour tout entier naturel $n$.\n",
    "\n",
    "1. Écrire une fonction récursive `suite_geo(u0, q, n)` qui prend en argument le terme initial u0 d’une suite géométrique de raison q et renvoie la valeur un du n–ième terme.\n"
   ]
  },
  {
   "cell_type": "code",
   "execution_count": 4,
   "metadata": {},
   "outputs": [],
   "source": [
    "def suite_geo_recursive(u0: float, q: float, n: int) -> float:\n",
    "    assert isinstance(n, int) and n >= 0\n",
    "    if n == 0:\n",
    "        return u0\n",
    "    else:\n",
    "        return q * suite_geo_recursive(u0, q, n - 1)\n",
    "\n",
    "\n",
    "assert suite_geo_recursive(1, 2, 0) == 1\n",
    "assert suite_geo_recursive(1, 2, 3) == 8\n"
   ]
  },
  {
   "cell_type": "markdown",
   "metadata": {},
   "source": [
    "2. Donner une version itérative de la fonction `suite_geo(u0, q, n)`.\n"
   ]
  },
  {
   "cell_type": "code",
   "execution_count": 5,
   "metadata": {},
   "outputs": [],
   "source": [
    "def suite_geo_iterative(u0: float, q: float, n: int) -> float:\n",
    "    assert isinstance(n, int) and n >= 0\n",
    "    u = u0\n",
    "    for _ in range(n):\n",
    "        u *= q\n",
    "    return u\n",
    "\n",
    "\n",
    "assert suite_geo_iterative(1, 2, 0) == 1\n",
    "assert suite_geo_iterative(1, 2, 3) == 8\n"
   ]
  },
  {
   "cell_type": "markdown",
   "metadata": {},
   "source": [
    "3. Comparer le nombre de multiplications effectuées lors du calcul de un dans chacun des cas précédents.\n"
   ]
  },
  {
   "cell_type": "markdown",
   "metadata": {},
   "source": [
    "**Correction**: il y a $n$ multiplications effectuées pour calculer $u_n$ avec la méthode récursive et la méthode itérative.\n"
   ]
  },
  {
   "cell_type": "markdown",
   "metadata": {},
   "source": [
    "### Exercice n°4\n",
    "\n",
    "Compléter la fonction `nombre_chiffres(n)` qui renvoie le nombre de chiffres de `n`. Vous ne devez pas convertir le nombre en texte pour obtenir le résultat.\n",
    "\n",
    "```python\n",
    "def nombre_chiffres(n):\n",
    "    if n < 10:\n",
    "        return 1\n",
    "    else:\n",
    "        return 1 + ...\n",
    "```\n"
   ]
  },
  {
   "cell_type": "code",
   "execution_count": 13,
   "metadata": {},
   "outputs": [],
   "source": [
    "def nombre_chiffres(n: int) -> int:\n",
    "    assert isinstance(n, int) and n >= 0\n",
    "    if n < 10:\n",
    "        return 1\n",
    "    else:\n",
    "        return 1 + nombre_chiffres(n // 10)\n",
    "\n",
    "\n",
    "assert nombre_chiffres(0) == 1\n",
    "assert nombre_chiffres(4) == 1\n",
    "assert nombre_chiffres(24) == 2\n",
    "assert nombre_chiffres(30) == 2\n"
   ]
  },
  {
   "cell_type": "markdown",
   "metadata": {},
   "source": [
    "### Exercice n°5\n",
    "\n",
    "La suite de Fibonacci est la suite $(F_n)$ définie par\n",
    "\n",
    "$F_0 = 0$, $F_1 = 1$, $F_n = F_{n−1} + F_{n−2}$ pour tout entier naturel n > 2.\n",
    "\n",
    "1. Calculer $F_8$.\n"
   ]
  },
  {
   "cell_type": "markdown",
   "metadata": {},
   "source": [
    "**Correction**: $F_0 = 0, F_1 = 1, F_2 = 1, F_3 = 2, F_4 = 3, F_5 = 5, F_6 = 8, F_7 = 13, F_8 = 21$\n"
   ]
  },
  {
   "cell_type": "markdown",
   "metadata": {},
   "source": [
    "2. Écrire une fonction récursive `fibonacci(n)` qui renvoie la valeur de $F_n$.\n"
   ]
  },
  {
   "cell_type": "code",
   "execution_count": 6,
   "metadata": {},
   "outputs": [],
   "source": [
    "def fibonacci(n: int) -> int:\n",
    "    assert isinstance(n, int) and n >= 0\n",
    "    if n == 0:\n",
    "        return 0\n",
    "    elif n == 1:\n",
    "        return 1\n",
    "    else:\n",
    "        return fibonacci(n - 1) + fibonacci(n - 2)\n",
    "\n",
    "\n",
    "assert fibonacci(8) == 21\n"
   ]
  },
  {
   "cell_type": "markdown",
   "metadata": {},
   "source": [
    "3. Estimer le nombre d’appels récursifs effectués lors de l’appel `fibonacci(8)`.\n"
   ]
  },
  {
   "cell_type": "markdown",
   "metadata": {},
   "source": [
    "**Correction**: il y a $O(2^n)$ appels récursifs pour calculer $F_n$.\n"
   ]
  },
  {
   "cell_type": "markdown",
   "metadata": {},
   "source": [
    "### Exercice n°6\n",
    "\n",
    "La suite logistique de paramètre $p \\in \\left[ 0 ; 4 \\right]$ est la suite $(u_n)$ définie par\n",
    "\n",
    "$u_0 = 1/2$ et $u_{n+1} = p u_n (1 − u_n)$ pour tout entier naturel n > 0\n",
    "\n",
    "En utilisant la relation de récurrence précédente, on peut écrire la fonction suivant pour calculer le n-ième terme de la suite:\n",
    "\n",
    "```python\n",
    "def logistique(p, n):\n",
    "    if n == 0: # condition d’arret\n",
    "        return 0.5\n",
    "    else :\n",
    "        return p * logistique(p, n-1) * (1 - logistique(p, n-1))\n",
    "```\n",
    "\n",
    "1. Calculer le nombre d’appels récursifs effectués lors de l’appel `logistique(p, n)`.\n"
   ]
  },
  {
   "cell_type": "markdown",
   "metadata": {},
   "source": [
    "**Correction**: il y a $O(2^n)$ appels de la fonction logistique pour calculer le terme $u_n$.\n"
   ]
  },
  {
   "cell_type": "markdown",
   "metadata": {},
   "source": [
    "2. Quelle amélioration peut-on apporter pour diminuer considérablement le nombre d’appels récursifs ?\n"
   ]
  },
  {
   "cell_type": "code",
   "execution_count": 7,
   "metadata": {},
   "outputs": [],
   "source": [
    "def logistique(p: float, n: int) -> float:\n",
    "    assert 0 <= p <= 4 and isinstance(n, int) and n >= 0\n",
    "    if n == 0:\n",
    "        return 0.5\n",
    "    else:\n",
    "        res = logistique(p, n - 1)\n",
    "        return p * res * (1 - res)\n"
   ]
  },
  {
   "cell_type": "markdown",
   "metadata": {},
   "source": [
    "### Exercice n°7\n",
    "\n",
    "Écrire en python une fonction récursive `pgcd(a,b)` renvoyant le plus grand diviseur commun de\n",
    "deux nombres `a` et `b`. Pour cela on utilisera le résultat mathématique suivant :\n",
    "$pgcd(a,b) = pgcd(b,r)$, où $r$ reste de la division euclidienne de $a$ par $b$.\n"
   ]
  },
  {
   "cell_type": "code",
   "execution_count": 14,
   "metadata": {},
   "outputs": [],
   "source": [
    "def pgcd(a: int, b: int) -> int:\n",
    "    assert isinstance(a, int) and isinstance(b, int) and a >= 0 and b >= 0\n",
    "    if b == 0:\n",
    "        return a\n",
    "    else:\n",
    "        return pgcd(b, a % b)\n",
    "\n",
    "\n",
    "assert pgcd(20, 5) == 5\n",
    "assert pgcd(13, 7) == 1\n"
   ]
  },
  {
   "cell_type": "markdown",
   "metadata": {},
   "source": [
    "### Exercice n°8\n",
    "\n",
    "La fonction d’Ackermann $A(m, n)$ est définie pour tous entiers naturels $m$ et $n$ par:\n",
    "\n",
    "$A(m, n) = $\n",
    "\n",
    "- n + 1 si m = 0\n",
    "- A(m − 1, 1) si m > 0 et n = 0\n",
    "- A(m − 1, A(m, n − 1)) si m > 0 et n > 0.\n",
    "\n",
    "1. Écrire une fonction récursive `ackermann(m, n)` qui renvoie la valeur de $A(m, n)$. Vérifier que A(3, 3) = 61 et A(3, 4) = 125.\n"
   ]
  },
  {
   "cell_type": "code",
   "execution_count": 18,
   "metadata": {},
   "outputs": [],
   "source": [
    "def ackermann(m: int, n: int) -> int:\n",
    "    assert isinstance(m, int) and isinstance(n, int) and m >= 0 and n >= 0\n",
    "    if m == 0:\n",
    "        return n + 1\n",
    "    elif n == 0:\n",
    "        return ackermann(m - 1, 1)\n",
    "    else:\n",
    "        return ackermann(m - 1, ackermann(m, n - 1))\n",
    "\n",
    "\n",
    "assert ackermann(3, 3) == 61\n",
    "assert ackermann(3, 4) == 125\n"
   ]
  },
  {
   "cell_type": "markdown",
   "metadata": {},
   "source": [
    "2. Quelle est la valeur de A(4, 1) ? de A(4, 2) ?\n"
   ]
  },
  {
   "cell_type": "code",
   "execution_count": 12,
   "metadata": {},
   "outputs": [
    {
     "ename": "RecursionError",
     "evalue": "maximum recursion depth exceeded",
     "output_type": "error",
     "traceback": [
      "\u001b[0;31m---------------------------------------------------------------------------\u001b[0m",
      "\u001b[0;31mRecursionError\u001b[0m                            Traceback (most recent call last)",
      "Cell \u001b[0;32mIn[12], line 1\u001b[0m\n\u001b[0;32m----> 1\u001b[0m \u001b[39mprint\u001b[39m(ackermann(\u001b[39m4\u001b[39;49m, \u001b[39m1\u001b[39;49m))\n\u001b[1;32m      2\u001b[0m \u001b[39mprint\u001b[39m(ackermann(\u001b[39m4\u001b[39m, \u001b[39m2\u001b[39m))\n",
      "Cell \u001b[0;32mIn[11], line 7\u001b[0m, in \u001b[0;36mackermann\u001b[0;34m(m, n)\u001b[0m\n\u001b[1;32m      5\u001b[0m     \u001b[39mreturn\u001b[39;00m ackermann(m\u001b[39m-\u001b[39m\u001b[39m1\u001b[39m, \u001b[39m1\u001b[39m)\n\u001b[1;32m      6\u001b[0m \u001b[39melse\u001b[39;00m:\n\u001b[0;32m----> 7\u001b[0m     \u001b[39mreturn\u001b[39;00m ackermann(m\u001b[39m-\u001b[39;49m\u001b[39m1\u001b[39;49m, ackermann(m, n\u001b[39m-\u001b[39;49m\u001b[39m1\u001b[39;49m))\n",
      "Cell \u001b[0;32mIn[11], line 7\u001b[0m, in \u001b[0;36mackermann\u001b[0;34m(m, n)\u001b[0m\n\u001b[1;32m      5\u001b[0m     \u001b[39mreturn\u001b[39;00m ackermann(m\u001b[39m-\u001b[39m\u001b[39m1\u001b[39m, \u001b[39m1\u001b[39m)\n\u001b[1;32m      6\u001b[0m \u001b[39melse\u001b[39;00m:\n\u001b[0;32m----> 7\u001b[0m     \u001b[39mreturn\u001b[39;00m ackermann(m\u001b[39m-\u001b[39m\u001b[39m1\u001b[39m, ackermann(m, n\u001b[39m-\u001b[39;49m\u001b[39m1\u001b[39;49m))\n",
      "    \u001b[0;31m[... skipping similar frames: ackermann at line 7 (2970 times)]\u001b[0m\n",
      "Cell \u001b[0;32mIn[11], line 7\u001b[0m, in \u001b[0;36mackermann\u001b[0;34m(m, n)\u001b[0m\n\u001b[1;32m      5\u001b[0m     \u001b[39mreturn\u001b[39;00m ackermann(m\u001b[39m-\u001b[39m\u001b[39m1\u001b[39m, \u001b[39m1\u001b[39m)\n\u001b[1;32m      6\u001b[0m \u001b[39melse\u001b[39;00m:\n\u001b[0;32m----> 7\u001b[0m     \u001b[39mreturn\u001b[39;00m ackermann(m\u001b[39m-\u001b[39m\u001b[39m1\u001b[39m, ackermann(m, n\u001b[39m-\u001b[39;49m\u001b[39m1\u001b[39;49m))\n",
      "Cell \u001b[0;32mIn[11], line 5\u001b[0m, in \u001b[0;36mackermann\u001b[0;34m(m, n)\u001b[0m\n\u001b[1;32m      3\u001b[0m     \u001b[39mreturn\u001b[39;00m n\u001b[39m+\u001b[39m\u001b[39m1\u001b[39m\n\u001b[1;32m      4\u001b[0m \u001b[39melif\u001b[39;00m n \u001b[39m==\u001b[39m \u001b[39m0\u001b[39m:\n\u001b[0;32m----> 5\u001b[0m     \u001b[39mreturn\u001b[39;00m ackermann(m\u001b[39m-\u001b[39;49m\u001b[39m1\u001b[39;49m, \u001b[39m1\u001b[39;49m)\n\u001b[1;32m      6\u001b[0m \u001b[39melse\u001b[39;00m:\n\u001b[1;32m      7\u001b[0m     \u001b[39mreturn\u001b[39;00m ackermann(m\u001b[39m-\u001b[39m\u001b[39m1\u001b[39m, ackermann(m, n\u001b[39m-\u001b[39m\u001b[39m1\u001b[39m))\n",
      "\u001b[0;31mRecursionError\u001b[0m: maximum recursion depth exceeded"
     ]
    }
   ],
   "source": [
    "print(ackermann(4, 1))\n",
    "print(ackermann(4, 2))\n"
   ]
  },
  {
   "cell_type": "markdown",
   "metadata": {},
   "source": [
    "### Exercice n°9\n",
    "\n",
    "Par compréhension de liste, créer une liste `liste` contenant 10 nombres entiers aléatoires entre 1 et 50.\n",
    "\n",
    "1. Écrire une fonction récursive `maxi(liste: list) -> int` qui détermine le maximum d'une liste `liste` de nombres entiers.\n",
    "2. Écrire une fonction récursive `mini(liste: list) -> int` qui détermine le maximum d'une liste `liste` de nombres entiers.\n",
    "3. Écrire une fonction récursive avec accumulateur `somme_list_rec(liste: list, somme: int = 0) -> int`: qui prend un paramètre une liste de nombres et renvoie la somme des termes de cette liste. Par exemple: `somme_list_rec([4, 7, 2])` renvoie 13.\n"
   ]
  },
  {
   "cell_type": "code",
   "execution_count": 15,
   "metadata": {},
   "outputs": [
    {
     "name": "stdout",
     "output_type": "stream",
     "text": [
      "[39, 46, 13, 42, 31, 48, 7, 15, 20, 33]\n",
      "48\n",
      "7\n",
      "294\n"
     ]
    }
   ],
   "source": [
    "from random import randint\n",
    "\n",
    "\n",
    "def maxi(liste: list) -> int:\n",
    "    assert liste != []\n",
    "\n",
    "    def aux(liste: list, maxi: int) -> int:\n",
    "        if liste == []:\n",
    "            return maxi\n",
    "        else:\n",
    "            return aux(liste[1:], maxi if maxi > liste[0] else liste[0])\n",
    "\n",
    "    return aux(liste, liste[0])\n",
    "\n",
    "\n",
    "def mini(liste: list) -> int:\n",
    "    assert liste != []\n",
    "\n",
    "    def aux(liste: list, mini: int) -> int:\n",
    "        if liste == []:\n",
    "            return mini\n",
    "        else:\n",
    "            return aux(liste[1:], mini if mini < liste[0] else liste[0])\n",
    "\n",
    "    return aux(liste, liste[0])\n",
    "\n",
    "\n",
    "def somme_liste_rec(liste: list, somme: int = 0) -> int:\n",
    "    if liste == []:\n",
    "        return somme\n",
    "    else:\n",
    "        return somme_liste_rec(liste[1:], somme + liste[0])\n",
    "\n",
    "\n",
    "liste = [randint(1, 50) for _ in range(10)]\n",
    "print(liste)\n",
    "print(maxi(liste))\n",
    "print(mini(liste))\n",
    "print(somme_liste_rec(liste))"
   ]
  },
  {
   "cell_type": "markdown",
   "metadata": {},
   "source": [
    "### Exercice n°10\n",
    "\n",
    "1. Soit `s` une chaine de caractères, écrire un algorithme récursif permettant de déterminer sa longueur (on n'utilisera pas la fonction `len`).\n"
   ]
  },
  {
   "cell_type": "code",
   "execution_count": 19,
   "metadata": {},
   "outputs": [],
   "source": [
    "def longueur(s: str) -> int:\n",
    "    if s == \"\":\n",
    "        return 0\n",
    "    else:\n",
    "        return 1 + longueur(s[1:])\n",
    "\n",
    "\n",
    "assert longueur(\"\") == 0\n",
    "assert longueur(\"a\") == 1\n",
    "assert longueur(\"hello\") == 5"
   ]
  },
  {
   "cell_type": "markdown",
   "metadata": {},
   "source": [
    "2. Soit `phrase` une chaîne de caractère. Proposer une fonction récursive `inverse(phrase: str) -> str` qui accepte en entrée une chaîne `phrase` en argument, et qui renvoie en sortie une chaîne inversée. Exemple : `allo` devient `olla`\n"
   ]
  },
  {
   "cell_type": "code",
   "execution_count": 20,
   "metadata": {},
   "outputs": [],
   "source": [
    "def inverse(phrase: str) -> str:\n",
    "    if phrase == \"\":\n",
    "        return \"\"\n",
    "    else:\n",
    "        return inverse(phrase[1:]) + phrase[0]\n",
    "\n",
    "\n",
    "assert inverse(\"hello\") == \"olleh\"\n"
   ]
  },
  {
   "cell_type": "markdown",
   "metadata": {},
   "source": [
    "3. Un palindrome est un mot dont les lettres lues de gauche à droite sont les mêmes que celles lues de droite à gauche. Les mots radar, elle, été, ici sont des palindromes. Ecrire une fonction récursive qui teste si un mot est un palindrome.\n"
   ]
  },
  {
   "cell_type": "code",
   "execution_count": 23,
   "metadata": {},
   "outputs": [],
   "source": [
    "def palindrome(mot: str) -> bool:\n",
    "    if mot == \"\":\n",
    "        return True\n",
    "    else:\n",
    "        return mot[0] == mot[-1] and palindrome(mot[1:-1])\n",
    "\n",
    "\n",
    "assert palindrome(\"été\")\n",
    "assert palindrome(\"radar\")\n",
    "assert palindrome(\"elle\")\n",
    "assert not palindrome(\"dinosaure\")"
   ]
  },
  {
   "cell_type": "markdown",
   "metadata": {},
   "source": [
    "### Exercice n°11\n",
    "\n",
    "On définit le nombre de combinaisons de $p$ parmi $n$ par $\\binom{n}{p} = \\frac{n!}{p! (n-p)!}$.\n",
    "\n",
    "On peut démontrer que $\\binom{n}{p} = \\binom{n-1}{p-1} + \\binom{n-1}{p}$.\n",
    "\n",
    "Écrire une fonction qui calcule les nombres de combinaisons.\n"
   ]
  },
  {
   "cell_type": "code",
   "execution_count": 24,
   "metadata": {},
   "outputs": [],
   "source": [
    "def combinaisons(n: int, p: int) -> int:\n",
    "    if p == 0 or p == n:\n",
    "        return 1\n",
    "    else:\n",
    "        return combinaisons(n - 1, p - 1) + combinaisons(n - 1, p)\n",
    "\n",
    "\n",
    "assert combinaisons(10, 0) == 1\n",
    "assert combinaisons(10, 10) == 1\n",
    "assert combinaisons(10, 1) == 10\n",
    "assert combinaisons(10, 2) == 45\n"
   ]
  },
  {
   "cell_type": "markdown",
   "metadata": {},
   "source": [
    "### Exercice n°12\n",
    "\n",
    "On cherche à décomposer un entier en une somme d’entiers :\n",
    "\n",
    "```\n",
    "4 = 1 + 1 + 1 + 1\n",
    "4 = 1 + 1 + 2\n",
    "4 = 2 + 1 + 1\n",
    "4 = 1 + 2 + 1\n",
    "...\n",
    "```\n",
    "\n",
    "Ecrire une fonction `decompose(n)` qui donne la liste de toutes les décompositions du nombre `n`. Par exemple `decompose(4)` donne `[[1, 1, 1, 1], [1, 1, 2], [1, 2, 1], [1, 3], [2, 1, 1], [2, 2], [3, 1], [4]]`.\n"
   ]
  },
  {
   "cell_type": "code",
   "execution_count": 28,
   "metadata": {},
   "outputs": [
    {
     "name": "stdout",
     "output_type": "stream",
     "text": [
      "[[1]]\n",
      "[[1, 1], [2]]\n",
      "[[1, 1, 1], [1, 2], [2, 1], [3]]\n",
      "[[1, 1, 1, 1], [1, 1, 2], [1, 2, 1], [1, 3], [2, 1, 1], [2, 2], [3, 1], [4]]\n"
     ]
    }
   ],
   "source": [
    "def dec(n: int) -> list:\n",
    "    if n == 0:\n",
    "        return [[]]\n",
    "    else:\n",
    "        res = []\n",
    "        for i in range(1, n + 1):\n",
    "            for liste in dec(n - i):\n",
    "                res.append([i] + liste)\n",
    "        return res\n",
    "\n",
    "\n",
    "print(dec(1))\n",
    "print(dec(2))\n",
    "print(dec(3))\n",
    "print(dec(4))"
   ]
  },
  {
   "cell_type": "markdown",
   "metadata": {},
   "source": [
    "### Exercice n°13\n",
    "\n",
    "On appelle **permutation** d’une chaîne de caractères `s` toute chaîne de même longueur que `s` contenant les mêmes caractères que `s`. Par exemple, la chaîne 'eadbc' est une permutation de la chaîne 'abcde'.\n",
    "\n",
    "Écrire une fonction récursive qui construit la liste de toutes les permutations possibles d’une chaîne `s`.\n"
   ]
  },
  {
   "cell_type": "code",
   "execution_count": 35,
   "metadata": {},
   "outputs": [
    {
     "name": "stdout",
     "output_type": "stream",
     "text": [
      "['abc', 'acb', 'bac', 'bca', 'cab', 'cba']\n"
     ]
    }
   ],
   "source": [
    "def permutations(chaine: str) -> list:\n",
    "    if len(chaine) == 0:\n",
    "        return [\"\"]\n",
    "    else:\n",
    "        res = []\n",
    "        for index, lettre in enumerate(chaine):\n",
    "            for el in permutations(chaine[:index] + chaine[index + 1 :]):\n",
    "                res.append(lettre + el)\n",
    "        return res\n",
    "\n",
    "\n",
    "print(permutations(\"abc\"))"
   ]
  },
  {
   "cell_type": "markdown",
   "metadata": {},
   "source": [
    "### Exercice n°14\n",
    "\n",
    "Réaliser la figure ci-dessous en utilisant une fonction récursive.\n",
    "\n",
    "La figure est composée de 50 segments dont les longueurs sont égales à 10, 15, 20, etc.\n",
    "\n",
    "![](carre.png)\n"
   ]
  },
  {
   "cell_type": "code",
   "execution_count": 2,
   "metadata": {},
   "outputs": [],
   "source": [
    "import ipyturtle3 as turtle"
   ]
  },
  {
   "cell_type": "code",
   "execution_count": 11,
   "metadata": {},
   "outputs": [
    {
     "data": {
      "application/vnd.jupyter.widget-view+json": {
       "model_id": "1c4a905cca154ff58807ac65e1a5a6ea",
       "version_major": 2,
       "version_minor": 0
      },
      "text/plain": [
       "Canvas(width=500)"
      ]
     },
     "metadata": {},
     "output_type": "display_data"
    }
   ],
   "source": [
    "myCanvas = turtle.Canvas(width=500, height=500)\n",
    "display(myCanvas)\n",
    "myTS = turtle.TurtleScreen(myCanvas)\n",
    "t = turtle.Turtle(myTS)\n",
    "\n",
    "\n",
    "def carre(taille: int, n: int) -> None:\n",
    "    if n == 0:\n",
    "        t.setheading(180)\n",
    "    else:\n",
    "        carre(taille - 5, n - 1)\n",
    "        t.right(90)\n",
    "        t.forward(taille)\n",
    "\n",
    "\n",
    "t.speed(0)\n",
    "carre(250, 50)"
   ]
  },
  {
   "cell_type": "markdown",
   "metadata": {},
   "source": [
    "### Exercice n°15\n",
    "\n",
    "On veut faire pousser un arbre. À chaque étape, on trace un segment et à l'extrémité du segment, on fait pousser deux branches. L'une avec une déviation de +37 degrés et l'autre avec une déviation de -37 degrés par rapport à la branche précédente.\n",
    "\n",
    "À chaque étape, la taille de la branche diminue.\n",
    "\n",
    "![](arbres.png)\n",
    "\n",
    "Construire une fonction qui dessine un tel arbre de rang $n$ et de longueur $long$\n"
   ]
  },
  {
   "cell_type": "code",
   "execution_count": 12,
   "metadata": {},
   "outputs": [
    {
     "data": {
      "application/vnd.jupyter.widget-view+json": {
       "model_id": "4dd07f1e6a174c01bff01358ff7f2014",
       "version_major": 2,
       "version_minor": 0
      },
      "text/plain": [
       "Canvas(width=500)"
      ]
     },
     "metadata": {},
     "output_type": "display_data"
    }
   ],
   "source": [
    "myCanvas = turtle.Canvas(width=500, height=500)\n",
    "display(myCanvas)\n",
    "myTS = turtle.TurtleScreen(myCanvas)\n",
    "t = turtle.Turtle(myTS)\n",
    "\n",
    "\n",
    "def arbre(taille: float, n: int) -> None:\n",
    "    if n > 0:\n",
    "        t.forward(taille)\n",
    "        t.right(37)\n",
    "        arbre(taille * 0.75, n - 1)\n",
    "        t.left(2 * 37)\n",
    "        arbre(taille * 0.75, n - 1)\n",
    "        t.right(37)\n",
    "        t.backward(taille)\n",
    "\n",
    "\n",
    "t.speed(0)\n",
    "t.penup()\n",
    "t.goto(0, -100)\n",
    "t.pendown()\n",
    "t.setheading(90)\n",
    "arbre(100, 9)\n"
   ]
  },
  {
   "cell_type": "markdown",
   "metadata": {},
   "source": [
    "### Exercice n°16\n",
    "\n",
    "Écrire une fonction `arbre_pythagore(n, longueur, alpha)` qui permet de\n",
    "tracer la fractale suivante, appelée arbre de Pythagore :\n",
    "\n",
    "![](arbre_pythagore.png)\n",
    "\n",
    "Les branches sont formées par des carrés qui se séparent en deux branches. Les branches\n",
    "sont séparées par un triangle rectangle dont un des angles, noté α, définit l’inclinaison du\n",
    "triangle.\n",
    "\n",
    "Remarque: Si l’hypoténuse d’un triangle rectangle mesure l, alors le côté adjacent à l’angle α mesure l × cosα et le côté opposé l × sinα. Vous allez avoir besoin des fonctions trigonométriques, qui sont fournies par la bibliothèque math. Les angles utilisés sont exprimés en radians. Les calculs se font donc ainsi :\n",
    "\n",
    "```python\n",
    ">>> from math import cos, sin, radians\n",
    ">>> cos(radians(30))\n",
    "0.8660254037844387\n",
    ">>> sin(radians(30))\n",
    "0.49999999999999994\n",
    "```\n"
   ]
  },
  {
   "cell_type": "code",
   "execution_count": 13,
   "metadata": {},
   "outputs": [
    {
     "data": {
      "application/vnd.jupyter.widget-view+json": {
       "model_id": "086af21c85d149dfacb2eef3e8776748",
       "version_major": 2,
       "version_minor": 0
      },
      "text/plain": [
       "Canvas(width=500)"
      ]
     },
     "metadata": {},
     "output_type": "display_data"
    }
   ],
   "source": [
    "from math import cos, sin, radians\n",
    "\n",
    "myCanvas = turtle.Canvas(width=500, height=500)\n",
    "display(myCanvas)\n",
    "myTS = turtle.TurtleScreen(myCanvas)\n",
    "t = turtle.Turtle(myTS)\n",
    "\n",
    "\n",
    "def carré(taille: float) -> None:\n",
    "    for _ in range(4):\n",
    "        t.forward(taille)\n",
    "        t.right(90)\n",
    "\n",
    "\n",
    "def arbre_pythagore(n: int, longueur: float, alpha: int) -> None:\n",
    "    if n == 1:\n",
    "        carré(longueur)\n",
    "    else:\n",
    "        carré(longueur)\n",
    "        t.forward(longueur)\n",
    "        t.left(90 - alpha)\n",
    "        arbre_pythagore(n - 1, longueur * sin(radians(alpha)), alpha)\n",
    "        t.right(90)\n",
    "        t.forward(longueur * sin(radians(alpha)))\n",
    "        arbre_pythagore(n - 1, longueur * cos(radians(alpha)), alpha)\n",
    "        t.backward(longueur * sin(radians(alpha)))\n",
    "        t.left(alpha)\n",
    "        t.backward(longueur)\n",
    "\n",
    "\n",
    "t.speed(0)\n",
    "t.penup()\n",
    "t.goto(0, -100)\n",
    "t.pendown()\n",
    "t.setheading(90)\n",
    "arbre_pythagore(10, 50, 45)\n"
   ]
  },
  {
   "cell_type": "markdown",
   "metadata": {},
   "source": [
    "### Exercice n°17\n",
    "\n",
    "Construire la figure suivante :\n",
    "\n",
    "![](carres.svg)\n",
    "\n",
    "On pourra écrire une fonction:\n",
    "\n",
    "```python\n",
    "def carré(cx, cy, longueur):\n",
    "    ...\n",
    "```\n",
    "\n",
    "qui trace un carré de centre (cx, cy) et de côté `longueur`.\n"
   ]
  },
  {
   "cell_type": "code",
   "execution_count": 14,
   "metadata": {},
   "outputs": [
    {
     "data": {
      "application/vnd.jupyter.widget-view+json": {
       "model_id": "dc25f9f0dbab42b3a74ab45c17a8f3a3",
       "version_major": 2,
       "version_minor": 0
      },
      "text/plain": [
       "Canvas(width=500)"
      ]
     },
     "metadata": {},
     "output_type": "display_data"
    }
   ],
   "source": [
    "myCanvas = turtle.Canvas(width=500, height=500)\n",
    "display(myCanvas)\n",
    "myTS = turtle.TurtleScreen(myCanvas)\n",
    "t = turtle.Turtle(myTS)\n",
    "\n",
    "\n",
    "def carré(cx: int, cy: int, longueur: int) -> None:\n",
    "    t.goto(cx - longueur // 2, cy - longueur // 2)\n",
    "    t.setheading(90)\n",
    "    t.pensize(longueur // 20)\n",
    "    t.pendown()\n",
    "    for _ in range(4):\n",
    "        t.forward(longueur)\n",
    "        t.right(90)\n",
    "    t.penup()\n",
    "\n",
    "\n",
    "def figure(n: int, longueur: int, cx: int = 0, cy: int = 0) -> None:\n",
    "    if n == 1:\n",
    "        carré(cx, cy, longueur)\n",
    "    else:\n",
    "        carré(cx, cy, longueur)\n",
    "        figure(n - 1, longueur // 2, cx - longueur // 2, cy - longueur // 2)\n",
    "        figure(n - 1, longueur // 2, cx - longueur // 2, cy + longueur // 2)\n",
    "        figure(n - 1, longueur // 2, cx + longueur // 2, cy - longueur // 2)\n",
    "        figure(n - 1, longueur // 2, cx + longueur // 2, cy + longueur // 2)\n",
    "\n",
    "\n",
    "t.speed(0)\n",
    "t.penup()\n",
    "figure(4, 200)"
   ]
  },
  {
   "cell_type": "markdown",
   "metadata": {},
   "source": [
    "### Exercice n°18\n",
    "\n",
    "1. La courbe de Koch est d'une fractale qui est composée de 4 copies d'elle-même réduites d'un facteur 1/3 et disposée avec des angles de 60°, comme sur la figure ci-dessous :\n",
    "\n",
    "![](von_koch_intro.svg)\n",
    "\n",
    "Cette figure, avec ces arcs de cercles en guise d'aide, sera utile pour écrire une fonction telle que `koch(n, d)` trace une approximation de cette fractale de niveau `n` en déplaçant la tortue globalement d'une distance `d`.\n"
   ]
  },
  {
   "cell_type": "code",
   "execution_count": 16,
   "metadata": {},
   "outputs": [
    {
     "data": {
      "application/vnd.jupyter.widget-view+json": {
       "model_id": "d63d71e19a874ec8a14eb14fba52246b",
       "version_major": 2,
       "version_minor": 0
      },
      "text/plain": [
       "Canvas(width=500)"
      ]
     },
     "metadata": {},
     "output_type": "display_data"
    }
   ],
   "source": [
    "myCanvas = turtle.Canvas(width=500, height=500)\n",
    "display(myCanvas)\n",
    "myTS = turtle.TurtleScreen(myCanvas)\n",
    "t = turtle.Turtle(myTS)\n",
    "\n",
    "\n",
    "def koch(n: int, d: float) -> None:\n",
    "    if n == 1:\n",
    "        t.forward(d)\n",
    "    else:\n",
    "        koch(n - 1, d / 3)\n",
    "        t.left(60)\n",
    "        koch(n - 1, d / 3)\n",
    "        t.right(120)\n",
    "        koch(n - 1, d / 3)\n",
    "        t.left(60)\n",
    "        koch(n - 1, d / 3)\n",
    "\n",
    "\n",
    "t.speed(0)\n",
    "t.penup()\n",
    "t.goto(-200, -100)\n",
    "t.pendown()\n",
    "koch(6, 400)\n"
   ]
  },
  {
   "cell_type": "markdown",
   "metadata": {},
   "source": [
    "2. dessiner un flocon de Von Koch, à l'aide de la figure ci-dessous, en réutilisant la fonction de la question précédente.\n",
    "\n",
    "![](flocon.svg)\n"
   ]
  },
  {
   "cell_type": "code",
   "execution_count": 17,
   "metadata": {},
   "outputs": [
    {
     "data": {
      "application/vnd.jupyter.widget-view+json": {
       "model_id": "22190638cdc84db0b30ead7b7c26f753",
       "version_major": 2,
       "version_minor": 0
      },
      "text/plain": [
       "Canvas(width=500)"
      ]
     },
     "metadata": {},
     "output_type": "display_data"
    }
   ],
   "source": [
    "myCanvas = turtle.Canvas(width=500, height=500)\n",
    "display(myCanvas)\n",
    "myTS = turtle.TurtleScreen(myCanvas)\n",
    "t = turtle.Turtle(myTS)\n",
    "\n",
    "\n",
    "def flocon(n: int, d: int) -> None:\n",
    "    for _ in range(3):\n",
    "        koch(n, d)\n",
    "        t.right(120)\n",
    "\n",
    "\n",
    "t.speed(0)\n",
    "t.penup()\n",
    "t.goto(-200, 100)\n",
    "t.pendown()\n",
    "flocon(5, 400)\n"
   ]
  },
  {
   "cell_type": "markdown",
   "metadata": {},
   "source": [
    "### Exercice n°19\n",
    "\n",
    "On cherche à tracer la fractale de Vicsek. On part d'un carré, on le découpe en 9, et on ne conserve que 5 des neuf morceaux. Et on recommence... En observant ces étapes :\n",
    "\n",
    "![](vicsek.svg)\n",
    "\n",
    "Ecrire une fonction `vicsek(n: int, c: int)` pour tracer la figure ci-dessous:\n",
    "![](vicsek_1.svg)\n"
   ]
  },
  {
   "cell_type": "code",
   "execution_count": 18,
   "metadata": {},
   "outputs": [
    {
     "data": {
      "application/vnd.jupyter.widget-view+json": {
       "model_id": "0a2b8d5f49be40e7ab89c19b7ab27247",
       "version_major": 2,
       "version_minor": 0
      },
      "text/plain": [
       "Canvas(width=500)"
      ]
     },
     "metadata": {},
     "output_type": "display_data"
    }
   ],
   "source": [
    "myCanvas = turtle.Canvas(width=500, height=500)\n",
    "display(myCanvas)\n",
    "myTS = turtle.TurtleScreen(myCanvas)\n",
    "t = turtle.Turtle(myTS)\n",
    "\n",
    "\n",
    "def carré_plein(cx: float, cy: float, longueur: float) -> None:\n",
    "    t.goto(cx - longueur // 2, cy - longueur // 2)\n",
    "    t.setheading(90)\n",
    "    t.pendown()\n",
    "    t.begin_fill()\n",
    "    for _ in range(4):\n",
    "        t.forward(longueur)\n",
    "        t.right(90)\n",
    "    t.end_fill()\n",
    "    t.penup()\n",
    "\n",
    "\n",
    "def vicsek(n: int, longueur: float, cx: float = 0, cy: float = 0) -> None:\n",
    "    if n == 1:\n",
    "        carré_plein(cx, cy, longueur)\n",
    "    else:\n",
    "        vicsek(n - 1, longueur / 3, cx - longueur / 3, cy)\n",
    "        vicsek(n - 1, longueur / 3, cx, cy)\n",
    "        vicsek(n - 1, longueur / 3, cx + longueur / 3, cy)\n",
    "        vicsek(n - 1, longueur / 3, cx, cy - longueur / 3)\n",
    "        vicsek(n - 1, longueur / 3, cx, cy + longueur / 3)\n",
    "\n",
    "\n",
    "t.fillcolor(\"black\")\n",
    "t.speed(0)\n",
    "t.penup()\n",
    "vicsek(5, 300)\n"
   ]
  },
  {
   "cell_type": "markdown",
   "metadata": {},
   "source": [
    "### Exercice n°20\n",
    "\n",
    "Utiliser une fonction récursive pour réaliser les triangles de Sierpinski ci-dessous.\n",
    "\n",
    "![](sierpinski.png)\n"
   ]
  },
  {
   "cell_type": "code",
   "execution_count": 6,
   "metadata": {},
   "outputs": [
    {
     "data": {
      "application/vnd.jupyter.widget-view+json": {
       "model_id": "6920e735417549168fcd405004dbdd34",
       "version_major": 2,
       "version_minor": 0
      },
      "text/plain": [
       "Canvas(width=500)"
      ]
     },
     "metadata": {},
     "output_type": "display_data"
    }
   ],
   "source": [
    "myCanvas = turtle.Canvas(width=500, height=500)\n",
    "display(myCanvas)\n",
    "myTS = turtle.TurtleScreen(myCanvas)\n",
    "t = turtle.Turtle(myTS)\n",
    "\n",
    "\n",
    "def triangle_plein(taille: float) -> None:\n",
    "    t.pendown()\n",
    "    t.begin_fill()\n",
    "    for _ in range(3):\n",
    "        t.forward(taille)\n",
    "        t.left(120)\n",
    "    t.end_fill()\n",
    "    t.penup()\n",
    "\n",
    "\n",
    "def sierpinski(n: int, taille: float) -> None:\n",
    "    if n == 1:\n",
    "        triangle_plein(taille)\n",
    "    else:\n",
    "        sierpinski(n - 1, taille / 2)\n",
    "        t.forward(taille / 2)\n",
    "        sierpinski(n - 1, taille / 2)\n",
    "        t.backward(taille / 2)\n",
    "        t.left(60)\n",
    "        t.forward(taille / 2)\n",
    "        t.right(60)\n",
    "        sierpinski(n - 1, taille / 2)\n",
    "        t.left(60)\n",
    "        t.backward(taille / 2)\n",
    "        t.right(60)\n",
    "\n",
    "\n",
    "t.speed(0)\n",
    "t.penup()\n",
    "t.goto(-200, -200)\n",
    "sierpinski(6, 400)\n"
   ]
  },
  {
   "cell_type": "markdown",
   "metadata": {},
   "source": [
    "### Exercice n°21\n",
    "\n",
    "Construire une fonction qui dessine un tapis de Sierpinski de rang $n$ et de longueur $taille$.\n"
   ]
  },
  {
   "cell_type": "code",
   "execution_count": 8,
   "metadata": {},
   "outputs": [
    {
     "data": {
      "application/vnd.jupyter.widget-view+json": {
       "model_id": "41cbaba42595412a85ef1e4992282ef5",
       "version_major": 2,
       "version_minor": 0
      },
      "text/plain": [
       "Canvas(width=500)"
      ]
     },
     "metadata": {},
     "output_type": "display_data"
    }
   ],
   "source": [
    "myCanvas = turtle.Canvas(width=500, height=500)\n",
    "display(myCanvas)\n",
    "myTS = turtle.TurtleScreen(myCanvas)\n",
    "t = turtle.Turtle(myTS)\n",
    "\n",
    "\n",
    "def carré_plein(cx: float, cy: float, longueur: float) -> None:\n",
    "    t.goto(cx - longueur // 2, cy - longueur // 2)\n",
    "    t.setheading(90)\n",
    "    t.pendown()\n",
    "    t.begin_fill()\n",
    "    for _ in range(4):\n",
    "        t.forward(longueur)\n",
    "        t.right(90)\n",
    "    t.end_fill()\n",
    "    t.penup()\n",
    "\n",
    "\n",
    "def tapis_sierpinski(n: int, taille: float, cx: int = 0, cy: int = 0) -> None:\n",
    "    if n == 1:\n",
    "        carré_plein(cx, cy, taille / 3)\n",
    "    else:\n",
    "        for x in [cx - taille / 3, cx, cx + taille / 3]:\n",
    "            for y in [cy - taille / 3, cy, cy + taille / 3]:\n",
    "                if x == cx and y == cy:\n",
    "                    carré_plein(cx, cy, taille / 3)\n",
    "                else:\n",
    "                    tapis_sierpinski(n - 1, taille / 3, x, y)\n",
    "\n",
    "\n",
    "t.speed(0)\n",
    "t.penup()\n",
    "tapis_sierpinski(4, 400)"
   ]
  },
  {
   "cell_type": "markdown",
   "metadata": {},
   "source": [
    "### Exercice n°22\n",
    "\n",
    "Ecrire une fonction récursive qui trace la fractale suivante:\n",
    "![](croix.png)\n"
   ]
  },
  {
   "cell_type": "code",
   "execution_count": null,
   "metadata": {},
   "outputs": [
    {
     "data": {
      "application/vnd.jupyter.widget-view+json": {
       "model_id": "b4bea1d4a0d843fcb495708e9b4d2edf",
       "version_major": 2,
       "version_minor": 0
      },
      "text/plain": [
       "Canvas(width=500)"
      ]
     },
     "metadata": {},
     "output_type": "display_data"
    }
   ],
   "source": [
    "myCanvas = turtle.Canvas(width=500, height=500)\n",
    "display(myCanvas)\n",
    "myTS = turtle.TurtleScreen(myCanvas)\n",
    "t = turtle.Turtle(myTS)\n",
    "\n",
    "\n",
    "def carré_plein(cx: float, cy: float, longueur: float) -> None:\n",
    "    t.goto(cx - longueur // 2, cy - longueur // 2)\n",
    "    t.setheading(90)\n",
    "    t.pendown()\n",
    "    t.begin_fill()\n",
    "    for _ in range(4):\n",
    "        t.forward(longueur)\n",
    "        t.right(90)\n",
    "    t.end_fill()\n",
    "    t.penup()\n",
    "\n",
    "\n",
    "def drapeau(n: int, taille: float, cx: float = 0, cy: float = 0) -> None:\n",
    "    if n > 0:\n",
    "        # croix\n",
    "        carré_plein(cx, cy, taille / 5)\n",
    "        carré_plein(cx - taille / 5, cy, taille / 5)\n",
    "        carré_plein(cx + taille / 5, cy, taille / 5)\n",
    "        carré_plein(cx, cy - taille / 5, taille / 5)\n",
    "        carré_plein(cx, cy + taille / 5, taille / 5)\n",
    "        # récursion 2/5\n",
    "        drapeau(n - 1, taille * 2 / 5, cx + taille * 3 / 10, cy + taille * 3 / 10)\n",
    "        drapeau(n - 1, taille * 2 / 5, cx + taille * 3 / 10, cy - taille * 3 / 10)\n",
    "        drapeau(n - 1, taille * 2 / 5, cx - taille * 3 / 10, cy + taille * 3 / 10)\n",
    "        drapeau(n - 1, taille * 2 / 5, cx - taille * 3 / 10, cy - taille * 3 / 10)\n",
    "        # récursion 1/5\n",
    "        drapeau(n - 1, taille / 5, cx - taille * 2 / 5, cy)\n",
    "        drapeau(n - 1, taille / 5, cx + taille * 2 / 5, cy)\n",
    "        drapeau(n - 1, taille / 5, cx, cy - taille * 2 / 5)\n",
    "        drapeau(n - 1, taille / 5, cx, cy + taille * 2 / 5)\n",
    "\n",
    "\n",
    "t.penup()\n",
    "t.speed(0)\n",
    "drapeau(3, 400)\n"
   ]
  },
  {
   "cell_type": "markdown",
   "metadata": {},
   "source": [
    "### Exercice n°23\n",
    "\n",
    "1. Le schéma ci-dessous représente une figure fractale à différentes étapes.\n",
    "\n",
    "![](cercles.png)\n",
    "\n",
    "La construction vérifie les propriétés suivantes :\n",
    "\n",
    "- Les cercles voisins sont tangents, c’est-à-dire qu’ils se touchent en un seul point.\n",
    "- Le rayon est divisé par deux lorsqu’on va vers la droite ou le bas.\n",
    "- Deux cercles tangents ont des centres qui ont la même abscisse ou la même ordonnée.\n",
    "\n",
    "Vous disposez d’une fonction `cercle(cx, cy, rayon)` qui trace un cercle de centre (cx, cy) et de\n",
    "rayon `rayon`.\n",
    "\n",
    "Écrire une fonction récursive `figure(n, taille, cx, cy)` qui trace la fractale à l’étape\n",
    "`n`, avec le grand cercle centré en (cx, cy) et de rayon `taille`.\n"
   ]
  },
  {
   "cell_type": "code",
   "execution_count": 31,
   "metadata": {},
   "outputs": [
    {
     "data": {
      "application/vnd.jupyter.widget-view+json": {
       "model_id": "b8a6afec19df4f4d920aebe21fac429c",
       "version_major": 2,
       "version_minor": 0
      },
      "text/plain": [
       "Canvas(width=500)"
      ]
     },
     "metadata": {},
     "output_type": "display_data"
    }
   ],
   "source": [
    "from math import sin, radians\n",
    "\n",
    "myCanvas = turtle.Canvas(width=500, height=500)\n",
    "display(myCanvas)\n",
    "myTS = turtle.TurtleScreen(myCanvas)\n",
    "t = turtle.Turtle(myTS)\n",
    "\n",
    "\n",
    "def cercle(cx: float, cy: float, rayon: float) -> None:\n",
    "    t.goto(cx, cy + rayon)\n",
    "    t.setheading(0)\n",
    "    t.pendown()\n",
    "    for _ in range(360):\n",
    "        t.forward(2 * rayon * sin(radians(1 / 2)))\n",
    "        t.right(1)\n",
    "    t.penup()\n",
    "\n",
    "\n",
    "def figure(n: int, taille: float, cx: float = 0, cy: float = 0) -> None:\n",
    "    if n > 0:\n",
    "        t.pensize(n)\n",
    "        cercle(cx, cy, taille)\n",
    "        figure(n - 1, taille / 2, cx + taille * 3 / 2, cy)\n",
    "        figure(n - 1, taille / 2, cx, cy - taille * 3 / 2)\n",
    "\n",
    "\n",
    "t.speed(0)\n",
    "t.penup()\n",
    "figure(4, 50)\n"
   ]
  },
  {
   "cell_type": "markdown",
   "metadata": {},
   "source": [
    "2. La figure suivante est similaire à la précédente, mais avec trois cercles à chaque étape.\n",
    "\n",
    "![](circle_3.svg)\n",
    "\n",
    "Cependant, l'orientation des sous-figures est différente. On rajoute deux paramètres `dx`, `dy` qui donne l'orientation de l'étape actuelle.\n"
   ]
  },
  {
   "cell_type": "code",
   "execution_count": 33,
   "metadata": {},
   "outputs": [
    {
     "data": {
      "application/vnd.jupyter.widget-view+json": {
       "model_id": "c55b0f4b691146ccbc351fc7bb024f48",
       "version_major": 2,
       "version_minor": 0
      },
      "text/plain": [
       "Canvas(width=500)"
      ]
     },
     "metadata": {},
     "output_type": "display_data"
    }
   ],
   "source": [
    "myCanvas = turtle.Canvas(width=500, height=500)\n",
    "display(myCanvas)\n",
    "myTS = turtle.TurtleScreen(myCanvas)\n",
    "t = turtle.Turtle(myTS)\n",
    "\n",
    "\n",
    "def figure_3(\n",
    "    n: int,\n",
    "    taille: float,\n",
    "    cx: float = 0,\n",
    "    cy: float = 0,\n",
    "    dx: int | None = None,\n",
    "    dy: int | None = None,\n",
    ") -> None:\n",
    "    if n > 0:\n",
    "        t.pensize(n)\n",
    "        cercle(cx, cy, taille)\n",
    "        decalage = taille * 3 / 2\n",
    "        for ddx, ddy in [(-1, 0), (1, 0), (0, 1), (0, -1)]:\n",
    "            if (ddx, ddy) != (dx, dy):\n",
    "                figure_3(\n",
    "                    n - 1,\n",
    "                    taille / 2,\n",
    "                    cx + ddx * decalage,\n",
    "                    cy + ddy * decalage,\n",
    "                    -ddx,\n",
    "                    -ddy,\n",
    "                )\n",
    "\n",
    "\n",
    "t.speed(0)\n",
    "t.penup()\n",
    "figure_3(3, 50, 0, 0, 0, -1)\n"
   ]
  },
  {
   "cell_type": "markdown",
   "metadata": {},
   "source": [
    "3. Sans modifier la fonction de la question précédente, afficher la figure ci-dessous:\n",
    "\n",
    "![](circle_4.svg)\n"
   ]
  },
  {
   "cell_type": "code",
   "execution_count": 34,
   "metadata": {},
   "outputs": [
    {
     "data": {
      "application/vnd.jupyter.widget-view+json": {
       "model_id": "ba628931088f40d89923870878100b7d",
       "version_major": 2,
       "version_minor": 0
      },
      "text/plain": [
       "Canvas(width=500)"
      ]
     },
     "metadata": {},
     "output_type": "display_data"
    }
   ],
   "source": [
    "myCanvas = turtle.Canvas(width=500, height=500)\n",
    "display(myCanvas)\n",
    "myTS = turtle.TurtleScreen(myCanvas)\n",
    "t = turtle.Turtle(myTS)\n",
    "\n",
    "\n",
    "t.speed(0)\n",
    "t.penup()\n",
    "figure_3(3, 50)\n"
   ]
  },
  {
   "cell_type": "markdown",
   "metadata": {},
   "source": [
    "### Exercice n°24\n",
    "\n",
    "La courbe du dragon se construit ainsi :\n",
    "\n",
    "- Si t = 0, l’ordinateur doit dessiner une ligne. C’est la base (ou l’initiateur). La longueur a peu d’importance. On définit la longueur une fois avec s.\n",
    "- Sinon, si t > 0 : Dragon(t) = Dragon (t−1) ↱ Dragon (t −1).\n",
    "\n",
    "C’est la règle de récursivité (ou le\n",
    "générateur). L’ordinateur doit dessiner une courbe de dragon avec profondeur de récursion t−1.\n",
    "Cela donne :\n",
    "\n",
    "- Dessiner Dragon (t−1)\n",
    "- Tourner à gauche (90°)\n",
    "- Dessiner Dragon (t−1)\n",
    "\n",
    "![](dragon.png)\n",
    "\n",
    "Il y a un petit problème : on ne peut pas dessiner `Dragon(t−1)` exactement de la même façon les deux fois. En effet, le premier `Dragon (t−1)` est dessiné vers l’extérieur en partant du milieu de `Dragon(t)`. Ensuite on tourne de 90°.\n",
    "\n",
    "Le deuxième `Dragon(t−1)` est dessiné à l’inverse du milieu de `Dragon(t)` vers l’extérieur. Pour que les deux `Dragon(t−1)` soit représentée de la même façon, le deuxième `Dragon(t−1)` doit être dessiné en miroir. Cela veut dire que tous les angles (a) sont en miroir et (b) doivent être dessinés dans l’ordre inverse.\n",
    "\n",
    "L’astuce consiste à donner un signe qui indique le sens (vz = 1 veut dire « + », vz = −1 veut dire\n",
    "« − »). On dessine d’abord un `Dragon (t−1)` avec signe positif (vz = 1). Ensuite on tourne de 90°\n",
    "et dessinons un `Dragon (t−1)` avec signe négatif (vz = −1).\n",
    "\n",
    "- Dessiner Dragon (t −1) signe (+)\n",
    "- Tourner à gauche (vz·90°)\n",
    "- Dessiner Dragon (t−1) signe (−)\n",
    "\n",
    "Écrire le programme.\n"
   ]
  },
  {
   "cell_type": "code",
   "execution_count": 31,
   "metadata": {},
   "outputs": [
    {
     "data": {
      "application/vnd.jupyter.widget-view+json": {
       "model_id": "b3e30c7512f840308a2684dbe4ce66e1",
       "version_major": 2,
       "version_minor": 0
      },
      "text/plain": [
       "Canvas(width=500)"
      ]
     },
     "metadata": {},
     "output_type": "display_data"
    }
   ],
   "source": [
    "myCanvas = turtle.Canvas(width=500, height=500)\n",
    "display(myCanvas)\n",
    "myTS = turtle.TurtleScreen(myCanvas)\n",
    "t = turtle.Turtle(myTS)\n",
    "\n",
    "\n",
    "def dragon(n: int, taille: float, sens: int = 1) -> None:\n",
    "    if n == 1:\n",
    "        t.forward(taille)\n",
    "    else:\n",
    "        dragon(n - 1, taille, 1)\n",
    "        t.left(90 * sens)\n",
    "        dragon(n - 1, taille, -1)\n",
    "\n",
    "\n",
    "t.speed(0)\n",
    "dragon(12, 5)\n"
   ]
  },
  {
   "cell_type": "markdown",
   "metadata": {},
   "source": [
    "### Exercice n°25\n",
    "\n",
    "Dessiner la fractale suivante:\n",
    "\n",
    "![](courbe_c.png)\n"
   ]
  },
  {
   "cell_type": "code",
   "execution_count": 19,
   "metadata": {},
   "outputs": [
    {
     "data": {
      "application/vnd.jupyter.widget-view+json": {
       "model_id": "3120da8d75884b048ab70406004da3f8",
       "version_major": 2,
       "version_minor": 0
      },
      "text/plain": [
       "Canvas(width=500)"
      ]
     },
     "metadata": {},
     "output_type": "display_data"
    }
   ],
   "source": [
    "from math import sqrt\n",
    "\n",
    "myCanvas = turtle.Canvas(width=500, height=500)\n",
    "display(myCanvas)\n",
    "myTS = turtle.TurtleScreen(myCanvas)\n",
    "t = turtle.Turtle(myTS)\n",
    "\n",
    "\n",
    "def courbe_c(n: int, taille: float) -> None:\n",
    "    if n == 0:\n",
    "        t.forward(taille)\n",
    "    else:\n",
    "        courbe_c(n - 1, taille / sqrt(2))\n",
    "        t.left(90 * (n - 2))\n",
    "        courbe_c(n - 1, taille / sqrt(2))\n",
    "\n",
    "\n",
    "n = 10\n",
    "t.setheading(45 * n)\n",
    "t.speed(0)\n",
    "courbe_c(n, 150)"
   ]
  },
  {
   "cell_type": "markdown",
   "metadata": {},
   "source": [
    "### Exercice n°26\n",
    "\n",
    "Le problème des tours de Hanoï consiste à déplacer tous les disques de la tour 1 sur la tour 3 en respectant les deux règles suivantes :\n",
    "\n",
    "- on ne peut déplacer qu’un disque à la fois ;\n",
    "- il n’est pas permis de déposer un disque sur un autre plus petit.\n",
    "\n",
    "![](hanoi.png)\n",
    "\n",
    "Ce problème admet une solution récursive simple :\n",
    "\n",
    "- déplacer n − 1 disques vers la tour 2 ;\n",
    "- déplacer le dernier disque de la tour 1 vers la tour 3 ;\n",
    "- déplacer les n − 1 disques de la tour 2 vers la tour 3.\n",
    "\n",
    "1. Programmer une fonction hanoi qui affiche la liste des déplacements à effectuer pour déplacer n disques de la tour 1 sur la tour 3.\n",
    "2. Quel est le nombre de déplacements pour n = 6 ? Pour n quelconque ?\n"
   ]
  },
  {
   "cell_type": "code",
   "execution_count": null,
   "metadata": {},
   "outputs": [],
   "source": [
    "# TODO"
   ]
  },
  {
   "cell_type": "markdown",
   "metadata": {},
   "source": [
    "### Exercice n°27\n",
    "\n",
    "On définit la suite de Tribonacci par la relation de récurrence : $u_0 = u_1 = 0$, $u_2 = 1$\n",
    "et, pour tout n entier, $u_{n+3} = u_{n+2} + u_{n+1} + u_n$.\n",
    "\n",
    "1. Quel est l’écueil à éviter lorsqu’on programme le calcul du n-ième terme de la suite de Tribonacci de manière récursive ?\n",
    "\n",
    "2. Proposer une version itérative du calcul de $u_n$.\n",
    "\n",
    "3. Proposer une version récursive efficace du calcul de un qui utilise un dictionnaire stockant les valeurs déjà calculées de $u_n$.\n"
   ]
  },
  {
   "cell_type": "code",
   "execution_count": null,
   "metadata": {},
   "outputs": [],
   "source": [
    "# TODO\n"
   ]
  }
 ],
 "metadata": {
  "kernelspec": {
   "display_name": "Python 3",
   "language": "python",
   "name": "python3"
  },
  "language_info": {
   "codemirror_mode": {
    "name": "ipython",
    "version": 3
   },
   "file_extension": ".py",
   "mimetype": "text/x-python",
   "name": "python",
   "nbconvert_exporter": "python",
   "pygments_lexer": "ipython3",
   "version": "3.11.4"
  },
  "orig_nbformat": 4
 },
 "nbformat": 4,
 "nbformat_minor": 2
}
