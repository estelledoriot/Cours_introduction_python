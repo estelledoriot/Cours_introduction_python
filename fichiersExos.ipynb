{
 "cells": [
  {
   "cell_type": "markdown",
   "metadata": {},
   "source": [
    "**Estelle Doriot**\n",
    "\n",
    "_NSI 1ère_\n",
    "\n",
    "---\n",
    "# Exercices : Fichiers\n",
    "---\n",
    "\n",
    "### Exercice n° 1\n",
    "\n",
    "1. Téléchargez le fichier notes.txt et enregistrez-le dans votre répertoire de travail. \n",
    "\n",
    "Créez un script Python qui lit chaque ligne de ce fichier, extrait les notes sous forme de float et les stocke dans une liste.\n",
    "\n",
    "Terminez le script en calculant et affichant la moyenne des notes."
   ]
  },
  {
   "cell_type": "code",
   "execution_count": 2,
   "metadata": {},
   "outputs": [
    {
     "name": "stdout",
     "output_type": "stream",
     "text": [
      "13.375\n"
     ]
    }
   ],
   "source": [
    "notes = []\n",
    "\n",
    "with open('notes.txt', 'r', encoding='utf-8') as fichier:\n",
    "    for ligne in fichier:\n",
    "        notes.append(float(ligne))\n",
    "\n",
    "total = 0\n",
    "for note in notes:\n",
    "    total += note\n",
    "print(total/len(notes))"
   ]
  },
  {
   "cell_type": "markdown",
   "metadata": {},
   "source": [
    "2. Le script réécrira ensuite les notes dans le fichier notes2.txt avec une note par ligne suivie de « recalé » si la note est inférieure à 10 et « admis » si la note est supérieure ou égale à 10. "
   ]
  },
  {
   "cell_type": "code",
   "execution_count": 4,
   "metadata": {},
   "outputs": [],
   "source": [
    "with open('notes2.txt', 'w', encoding='utf-8') as fichier:\n",
    "    for note in notes:\n",
    "        if note >= 10:\n",
    "            fichier.write(f\"{note} admis\\n\")\n",
    "        else:\n",
    "            fichier.write(f\"{note} recalé\\n\")"
   ]
  },
  {
   "attachments": {},
   "cell_type": "markdown",
   "metadata": {},
   "source": [
    "## Exercice n°2\n",
    "\n",
    "1. Écrire un programme qui crée un dictionnaire `puys` sous la forme `{nom: altitude}` à partir du fichier `Chaine-des-Puys.txt`."
   ]
  },
  {
   "cell_type": "code",
   "execution_count": 8,
   "metadata": {},
   "outputs": [
    {
     "name": "stdout",
     "output_type": "stream",
     "text": [
      "{'Puy de La Vache': 1167.0, 'Grand Suchet': 1231.0, 'Puy de Dôme': 1465.0, 'Grand Sarcouy': 1147.0, 'Puy Chopine': 1181.0, 'Puy de Louchadière': 1199.0, 'Puy Pariou': 1209.0, 'Puy de Côme': 1252.0, 'Puy de la Nugère': 994.0, 'Puy de la Bannière': 733.0, 'Puy des Goules': 1146.0, 'Puy de Mercœur ': 1249.0, 'Puy de Jume': 1163.0, 'Puy de Lassolas': 1187.0}\n"
     ]
    }
   ],
   "source": [
    "with open('Chaine-des-Puys.txt', 'r', encoding='utf-8') as fichier:\n",
    "    puys = {ligne.split('\\t')[0]: float(ligne.split('\\t')[1]) for ligne in fichier}\n",
    "print(puys)"
   ]
  },
  {
   "cell_type": "markdown",
   "metadata": {},
   "source": [
    "2. Écrire une fonction `leJustePuy(altitude:float) -> str` permettant de donner le nom du puy le plus proche de l’altitude passée en argument, sans la dépasser, toujours à partir du fichier `Chaine-des-Puys.txt`."
   ]
  },
  {
   "cell_type": "code",
   "execution_count": 9,
   "metadata": {},
   "outputs": [
    {
     "name": "stdout",
     "output_type": "stream",
     "text": [
      "Puy de Louchadière\n"
     ]
    }
   ],
   "source": [
    "def leJustePuy(altitude: float) -> str:\n",
    "    \"\"\"donne le nom du puy le plus proche de l’altitude passée en argument, sans la dépasser\n",
    "\n",
    "    Args:\n",
    "        altitude (float): l'altitude de référence\n",
    "\n",
    "    Returns:\n",
    "        str: nom du puy dont l'altitude est la plus proche d'altitude en restant inférieure\n",
    "    \"\"\"\n",
    "    res = None\n",
    "    alt = 0\n",
    "    for cle, valeur in puys.items():\n",
    "        if valeur <= altitude and altitude - alt > altitude - valeur:\n",
    "            res = cle\n",
    "            alt = valeur\n",
    "    return res\n",
    "\n",
    "assert leJustePuy(1200) == \"Puy de Louchadière\""
   ]
  }
 ],
 "metadata": {
  "kernelspec": {
   "display_name": "Python 3.10.0 64-bit",
   "language": "python",
   "name": "python3"
  },
  "language_info": {
   "codemirror_mode": {
    "name": "ipython",
    "version": 3
   },
   "file_extension": ".py",
   "mimetype": "text/x-python",
   "name": "python",
   "nbconvert_exporter": "python",
   "pygments_lexer": "ipython3",
   "version": "3.10.0 (v3.10.0:b494f5935c, Oct  4 2021, 14:59:19) [Clang 12.0.5 (clang-1205.0.22.11)]"
  },
  "orig_nbformat": 4,
  "vscode": {
   "interpreter": {
    "hash": "aee8b7b246df8f9039afb4144a1f6fd8d2ca17a180786b69acc140d282b71a49"
   }
  }
 },
 "nbformat": 4,
 "nbformat_minor": 2
}
