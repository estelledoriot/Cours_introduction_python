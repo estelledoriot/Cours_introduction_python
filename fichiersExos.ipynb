{
 "cells": [
  {
   "attachments": {},
   "cell_type": "markdown",
   "metadata": {},
   "source": [
    "**Estelle Doriot**\n",
    "\n",
    "_NSI 1ère_\n",
    "\n",
    "---\n",
    "# Exercices : Fichiers\n",
    "---\n",
    "\n",
    "### Exercice n° 1\n",
    "\n",
    "1. Téléchargez le fichier `notes.txt` et enregistrez-le dans votre répertoire de travail. \n",
    "\n",
    "Créez un script Python qui lit chaque ligne de ce fichier, extrait les notes sous forme de float et les stocke dans une liste.\n",
    "\n",
    "Terminez le script en calculant et affichant la moyenne des notes."
   ]
  },
  {
   "cell_type": "code",
   "execution_count": 1,
   "metadata": {},
   "outputs": [
    {
     "name": "stdout",
     "output_type": "stream",
     "text": [
      "13.375\n"
     ]
    }
   ],
   "source": [
    "notes = []\n",
    "\n",
    "with open('notes.txt', 'r', encoding='utf-8') as fichier:\n",
    "    for ligne in fichier:\n",
    "        notes.append(float(ligne))\n",
    "\n",
    "total = 0\n",
    "for note in notes:\n",
    "    total += note\n",
    "print(total/len(notes))"
   ]
  },
  {
   "attachments": {},
   "cell_type": "markdown",
   "metadata": {},
   "source": [
    "2. Le script réécrira ensuite les notes dans le fichier `notes2.txt` avec une note par ligne suivie de « recalé » si la note est inférieure à 10 et « admis » si la note est supérieure ou égale à 10. "
   ]
  },
  {
   "cell_type": "code",
   "execution_count": 2,
   "metadata": {},
   "outputs": [],
   "source": [
    "with open('notes2.txt', 'w', encoding='utf-8') as fichier:\n",
    "    for note in notes:\n",
    "        if note >= 10:\n",
    "            fichier.write(f\"{note} admis\\n\")\n",
    "        else:\n",
    "            fichier.write(f\"{note} recalé\\n\")"
   ]
  },
  {
   "attachments": {},
   "cell_type": "markdown",
   "metadata": {},
   "source": [
    "## Exercice n°2\n",
    "\n",
    "1. Écrire un programme qui crée un dictionnaire `puys` sous la forme `{nom: altitude}` à partir du fichier `Chaine-des-Puys.txt`."
   ]
  },
  {
   "cell_type": "code",
   "execution_count": 3,
   "metadata": {},
   "outputs": [
    {
     "name": "stdout",
     "output_type": "stream",
     "text": [
      "{'Puy de La Vache': 1167.0, 'Grand Suchet': 1231.0, 'Puy de Dôme': 1465.0, 'Grand Sarcouy': 1147.0, 'Puy Chopine': 1181.0, 'Puy de Louchadière': 1199.0, 'Puy Pariou': 1209.0, 'Puy de Côme': 1252.0, 'Puy de la Nugère': 994.0, 'Puy de la Bannière': 733.0, 'Puy des Goules': 1146.0, 'Puy de Mercœur ': 1249.0, 'Puy de Jume': 1163.0, 'Puy de Lassolas': 1187.0}\n"
     ]
    }
   ],
   "source": [
    "with open('Chaine-des-Puys.txt', 'r', encoding='utf-8') as fichier:\n",
    "    puys = {ligne.split('\\t')[0]: float(ligne.split('\\t')[1]) for ligne in fichier}\n",
    "print(puys)"
   ]
  },
  {
   "attachments": {},
   "cell_type": "markdown",
   "metadata": {},
   "source": [
    "2. Écrire une fonction `leJustePuy(altitude:float) -> str` permettant de donner le nom du puy le plus proche de l’altitude passée en argument, sans la dépasser, toujours à partir du fichier `Chaine-des-Puys.txt`."
   ]
  },
  {
   "cell_type": "code",
   "execution_count": 4,
   "metadata": {},
   "outputs": [],
   "source": [
    "def leJustePuy(altitude: float) -> str:\n",
    "    \"\"\"donne le nom du puy le plus proche de l’altitude passée en argument, sans la dépasser\n",
    "\n",
    "    Args:\n",
    "        altitude (float): l'altitude de référence\n",
    "\n",
    "    Returns:\n",
    "        str: nom du puy dont l'altitude est la plus proche d'altitude en restant inférieure\n",
    "    \"\"\"\n",
    "    nom_max = \"\"\n",
    "    alt_max = 0\n",
    "    for cle, valeur in puys.items():\n",
    "        if valeur <= altitude and altitude - alt_max > altitude - valeur:\n",
    "            nom_max = cle\n",
    "            alt_max = valeur\n",
    "    return nom_max\n",
    "\n",
    "assert leJustePuy(1200) == \"Puy de Louchadière\""
   ]
  },
  {
   "attachments": {},
   "cell_type": "markdown",
   "metadata": {},
   "source": [
    "### Exercice n°3\n",
    "\n",
    "1. Ecrire un script qui stocke dans une variable le premier **mot** d'une chaîne de caractères et qui l'affiche.\n",
    "\n",
    "Un mot est une suite de caractères composée uniquement de lettres. Pour tester si un caractère est une lettre, on pourra utiliser la méthode `isalpha()`.\n",
    "\n",
    "Par exemple :\n",
    "```python\n",
    ">>> \"s\".isalpha()\n",
    "True\n",
    ">>> \",\".isalpha()\n",
    "False\n",
    "```\n",
    "\n",
    "Tester votre code avec la chaîne de caractères `\"Quelqu'un a ouvert la porte\"` dont le premier mot est `Quelq`"
   ]
  },
  {
   "cell_type": "code",
   "execution_count": 5,
   "metadata": {},
   "outputs": [
    {
     "name": "stdout",
     "output_type": "stream",
     "text": [
      "Quelqu\n"
     ]
    }
   ],
   "source": [
    "chaine = \"Quelqu'un a ouvert la porte\"\n",
    "mot = ''\n",
    "for lettre in chaine:\n",
    "    if lettre.isalpha():\n",
    "        mot += lettre\n",
    "    else:\n",
    "        break\n",
    "print(mot)"
   ]
  },
  {
   "attachments": {},
   "cell_type": "markdown",
   "metadata": {},
   "source": [
    "2. Compléter le script de la question précédente pour stocker dans une liste tous les mots contenus dans une chaîne de caractères. "
   ]
  },
  {
   "cell_type": "code",
   "execution_count": 6,
   "metadata": {},
   "outputs": [
    {
     "name": "stdout",
     "output_type": "stream",
     "text": [
      "['Quelqu', 'un', 'a', 'ouvert', 'la', 'porte']\n"
     ]
    }
   ],
   "source": [
    "chaine = \"Quelqu'un a ouvert la porte\"\n",
    "liste_mots = []\n",
    "mot = ''\n",
    "\n",
    "for lettre in chaine:\n",
    "    if lettre.isalpha():\n",
    "        mot += lettre\n",
    "    elif mot != '':\n",
    "        liste_mots.append(mot)\n",
    "        mot = ''\n",
    "if mot != '':\n",
    "    liste_mots.append(mot)\n",
    "\n",
    "print(liste_mots)"
   ]
  },
  {
   "attachments": {},
   "cell_type": "markdown",
   "metadata": {},
   "source": [
    "3. En s'inspirant du code écrit à la question précédente, écrire une fonction `liste_des_mots(nom_fichier: str) -> list` qui prend en argument un chaîne de caractères représentant le nom d'un fichier et qui renvoie une liste contenant tous les mots contenus dans ce fichier. \n",
    "\n",
    "Les mots seront tous en minuscules. Pour écrire un mot en minuscule, on utilise la méthode `lower()`. Par exemple:\n",
    "```python\n",
    ">>> \"Bonjour\".lower()\n",
    "bonjour\n",
    "```\n",
    "\n",
    "Puis afficher la liste des mots contenus dans le fichier `Zola.txt`."
   ]
  },
  {
   "cell_type": "code",
   "execution_count": 7,
   "metadata": {},
   "outputs": [
    {
     "name": "stdout",
     "output_type": "stream",
     "text": [
      "['et', 'sous', 'ses', 'pieds', 'les', 'coups', 'profonds', 'les', 'coups', 'obstinés', 'des', 'rivelaines', 'continuaient', 'les', 'camarades', 'étaient', 'tous', 'là', 'il', 'les', 'entendait', 'le', 'suivre', 'à', 'chaque', 'enjambée', 'n', 'était', 'ce', 'pas', 'la', 'maheude', 'sous', 'cette', 'pièce', 'de', 'betteraves', 'l', 'échine', 'cassée', 'dont', 'le', 'souffle', 'montait', 'si', 'rauque', 'accompagné', 'par', 'le', 'ronflement', 'du', 'ventilateur', 'a', 'gauche', 'à', 'droite', 'plus', 'loin', 'il', 'croyait', 'en', 'reconnaître', 'd', 'autres', 'sous', 'les', 'blés', 'les', 'haies', 'vives', 'les', 'jeunes', 'arbres', 'maintenant', 'en', 'plein', 'ciel', 'le', 'soleil', 'd', 'avril', 'rayonnait', 'dans', 'sa', 'gloire', 'échauffant', 'la', 'terre', 'qui', 'enfantait', 'du', 'flanc', 'nourricier', 'jaillissait', 'la', 'vie', 'les', 'bourgeons', 'crevaient', 'en', 'feuilles', 'vertes', 'les', 'champs', 'tressaillaient', 'de', 'la', 'poussée', 'des', 'herbes', 'de', 'toutes', 'parts', 'des', 'graines', 'se', 'gonflaient', 's', 'allongeaient', 'gerçaient', 'la', 'plaine', 'travaillées', 'd', 'un', 'besoin', 'de', 'chaleur', 'et', 'de', 'lumière', 'un', 'débordement', 'de', 'sève', 'coulait', 'avec', 'des', 'voix', 'chuchotantes', 'le', 'bruit', 'des', 'germes', 's', 'épandait', 'en', 'un', 'grand', 'baiser', 'encore', 'encore', 'de', 'plus', 'en', 'plus', 'distinctement', 'comme', 's', 'ils', 'se', 'fussent', 'rapprochés', 'du', 'sol', 'les', 'camarades', 'tapaient', 'aux', 'rayons', 'enflammés', 'de', 'l', 'astre', 'par', 'cette', 'matinée', 'de', 'jeunesse', 'c', 'était', 'de', 'cette', 'rumeur', 'que', 'la', 'campagne', 'était', 'grosse', 'des', 'hommes', 'poussaient', 'une', 'armée', 'noire', 'vengeresse', 'qui', 'germait', 'lentement', 'dans', 'les', 'sillons', 'grandissant', 'pour', 'les', 'récoltes', 'du', 'siècle', 'futur', 'et', 'dont', 'la', 'germination', 'allait', 'faire', 'bientôt', 'éclater', 'la', 'terre']\n"
     ]
    }
   ],
   "source": [
    "def liste_des_mots(nom_fichier: str) -> list:\n",
    "    \"\"\"donne la liste des mots (en minuscules) contenus dans un fichier\n",
    "\n",
    "    Args:\n",
    "        nom_fichier (str): le nom du fichier\n",
    "\n",
    "    Returns:\n",
    "        list: la liste des mots du fichier\n",
    "    \"\"\"\n",
    "    liste_mots = []\n",
    "    with open(nom_fichier, 'r', encoding='utf-8') as fichier:\n",
    "        mot = ''\n",
    "        for lettre in fichier.read():\n",
    "            if lettre.isalpha():\n",
    "                mot += lettre\n",
    "            else:\n",
    "                if mot != '':\n",
    "                    liste_mots.append(mot.lower())\n",
    "                mot = ''\n",
    "        if mot != '':\n",
    "            liste_mots.append(mot.lower())\n",
    "    return liste_mots\n",
    "\n",
    "print(liste_des_mots(\"Zola.txt\"))"
   ]
  },
  {
   "attachments": {},
   "cell_type": "markdown",
   "metadata": {},
   "source": [
    "4. En s'inspirant du code écrit à la question précédente, écrire une fonction `occurrences_des_mots(nom_fichier: str) -> dict` qui prend en argument un chaîne de caractères contenant le nom d'un fichier et qui renvoie un dictionnaire sous la forme `{mot: nb_occurrences}` dont les clés sont les mots contenus dans ce fichier et les valeurs sont les nombres d'occurrences de ces mots. Comme pour la question précédente, les mots seront tous en minuscule.\n",
    "\n",
    "Puis afficher les fréquences des mots contenus dans le fichier `Zola.txt`."
   ]
  },
  {
   "cell_type": "code",
   "execution_count": 8,
   "metadata": {},
   "outputs": [
    {
     "name": "stdout",
     "output_type": "stream",
     "text": [
      "{'et': 3, 'sous': 3, 'ses': 1, 'pieds': 1, 'les': 12, 'coups': 2, 'profonds': 1, 'obstinés': 1, 'des': 6, 'rivelaines': 1, 'continuaient': 1, 'camarades': 2, 'étaient': 1, 'tous': 1, 'là': 1, 'il': 2, 'entendait': 1, 'le': 5, 'suivre': 1, 'à': 2, 'chaque': 1, 'enjambée': 1, 'n': 1, 'était': 3, 'ce': 1, 'pas': 1, 'la': 8, 'maheude': 1, 'cette': 3, 'pièce': 1, 'de': 10, 'betteraves': 1, 'l': 2, 'échine': 1, 'cassée': 1, 'dont': 2, 'souffle': 1, 'montait': 1, 'si': 1, 'rauque': 1, 'accompagné': 1, 'par': 2, 'ronflement': 1, 'du': 4, 'ventilateur': 1, 'a': 1, 'gauche': 1, 'droite': 1, 'plus': 3, 'loin': 1, 'croyait': 1, 'en': 5, 'reconnaître': 1, 'd': 3, 'autres': 1, 'blés': 1, 'haies': 1, 'vives': 1, 'jeunes': 1, 'arbres': 1, 'maintenant': 1, 'plein': 1, 'ciel': 1, 'soleil': 1, 'avril': 1, 'rayonnait': 1, 'dans': 2, 'sa': 1, 'gloire': 1, 'échauffant': 1, 'terre': 2, 'qui': 2, 'enfantait': 1, 'flanc': 1, 'nourricier': 1, 'jaillissait': 1, 'vie': 1, 'bourgeons': 1, 'crevaient': 1, 'feuilles': 1, 'vertes': 1, 'champs': 1, 'tressaillaient': 1, 'poussée': 1, 'herbes': 1, 'toutes': 1, 'parts': 1, 'graines': 1, 'se': 2, 'gonflaient': 1, 's': 3, 'allongeaient': 1, 'gerçaient': 1, 'plaine': 1, 'travaillées': 1, 'un': 3, 'besoin': 1, 'chaleur': 1, 'lumière': 1, 'débordement': 1, 'sève': 1, 'coulait': 1, 'avec': 1, 'voix': 1, 'chuchotantes': 1, 'bruit': 1, 'germes': 1, 'épandait': 1, 'grand': 1, 'baiser': 1, 'encore': 2, 'distinctement': 1, 'comme': 1, 'ils': 1, 'fussent': 1, 'rapprochés': 1, 'sol': 1, 'tapaient': 1, 'aux': 1, 'rayons': 1, 'enflammés': 1, 'astre': 1, 'matinée': 1, 'jeunesse': 1, 'c': 1, 'rumeur': 1, 'que': 1, 'campagne': 1, 'grosse': 1, 'hommes': 1, 'poussaient': 1, 'une': 1, 'armée': 1, 'noire': 1, 'vengeresse': 1, 'germait': 1, 'lentement': 1, 'sillons': 1, 'grandissant': 1, 'pour': 1, 'récoltes': 1, 'siècle': 1, 'futur': 1, 'germination': 1, 'allait': 1, 'faire': 1, 'bientôt': 1, 'éclater': 1}\n"
     ]
    }
   ],
   "source": [
    "def occurrences_des_mots(nom_fichier: str) -> dict:\n",
    "    \"\"\"donne la frequence des mots contenus dans un fichier\n",
    "\n",
    "    Args:\n",
    "        nom_fichier (str): le nom du fichier\n",
    "\n",
    "    Returns:\n",
    "        dict: les clés sont les mots du fichier (en minuscules) et les valeurs sont les nombres d'occurrences des mots\n",
    "    \"\"\"\n",
    "    mots = {}\n",
    "    with open(nom_fichier, 'r', encoding='utf-8') as fichier:\n",
    "        mot = ''\n",
    "        for lettre in fichier.read():\n",
    "            if lettre.isalpha():\n",
    "                mot += lettre\n",
    "            elif mot != '':\n",
    "                if mot.lower() not in mots:\n",
    "                    mots[mot.lower()] = 1\n",
    "                else:\n",
    "                    mots[mot.lower()] += 1\n",
    "                mot = ''\n",
    "        if mot != '':\n",
    "            if mot.lower() not in mots:\n",
    "                mots[mot.lower()] = 1\n",
    "            else:\n",
    "                mots[mot.lower()] += 1\n",
    "    return mots\n",
    "\n",
    "print(occurrences_des_mots('Zola.txt'))"
   ]
  },
  {
   "attachments": {},
   "cell_type": "markdown",
   "metadata": {},
   "source": [
    "5. Calculer les occurrences des mots du fichier `trois-mousquetaires.txt` en utilisant la fonction de la question précédente.\n",
    "\n",
    "Vérifier que le mot `'milady'` apparaît 712 fois et que le mot `'cardinal'` apparaît 553 fois."
   ]
  },
  {
   "cell_type": "code",
   "execution_count": 9,
   "metadata": {},
   "outputs": [],
   "source": [
    "mots_mousquetaires = occurrences_des_mots('trois-mousquetaires.txt')\n",
    "\n",
    "assert mots_mousquetaires['milady'] == 712\n",
    "assert mots_mousquetaires['cardinal'] == 553"
   ]
  },
  {
   "attachments": {},
   "cell_type": "markdown",
   "metadata": {},
   "source": [
    "6. Ecrire une fonction `sauvegarde_occurrences(nom_fichier_source: str, nom_fichier_resultat: str) -> None` qui sauvegarde dans un fichier de résultats le dictionnaire des occurrences des mots provenant d'un fichier source. Dans le fichier de résultats, on affichera un mot par ligne suivi d'une virgule puis de son nombre d'occurrences, sous la forme :\n",
    "\n",
    "```\n",
    "milady,712\n",
    "cardinal,553\n",
    "```\n",
    "\n",
    "Sauvegarder les occurrences des mots du fichier `trois-mousquetaires.txt` en utilisant la fonction créée."
   ]
  },
  {
   "cell_type": "code",
   "execution_count": 10,
   "metadata": {},
   "outputs": [],
   "source": [
    "def sauvegarde_occurrences(fichier_source: str, fichier_resultat: str) -> None:\n",
    "    \"\"\"sauvegarde les occurrences des mots d'un fichier source dans un fichier résultat\n",
    "\n",
    "    Args:\n",
    "        fichier_source (str): nom du fichier source\n",
    "        fichier_resultat (str): nom du fichier dans lequel on stocke le résultat\n",
    "    \"\"\"\n",
    "    occurrences = occurrences_des_mots(fichier_source)\n",
    "    with open(fichier_resultat, 'w', encoding='utf-8') as fichier:\n",
    "        for cle, valeur in occurrences.items():\n",
    "            fichier.write(f'{cle},{valeur}\\n')\n",
    "\n",
    "sauvegarde_occurrences('trois-mousquetaires.txt', 'occurrences-mousquetaires.txt')"
   ]
  },
  {
   "attachments": {},
   "cell_type": "markdown",
   "metadata": {},
   "source": [
    "7. Un digramme est une série de 2 mots consécutifs. On souhaite prédire le mot suivant un mot fixé à partir de statistiques réalisées sur un roman. Pour cela, on va calculer pour chaque digramme du texte sa fréquence relative par rapport à l’ensemble des digrammes qui ont le même commencement. Par exemple, dans les « Trois mousquetaires », le digramme `chez milady` a une fréquence de $0,0319$ par rapport à l’ensemble des digrammes commençant par `chez`.\n",
    "\n",
    "On va commencer par découper le texte source en une liste de mots avec la fonciton `liste_des_mots` de la question 3., puis on va parcourir cette liste en construisant un dictionnaire `prochain` tel que par exemple `prochain['de']` est lui-même un dictionnaire dont les clefs sont les mots suivants `'de'` et les valeurs le nombre de fois où le digramme ainsi constitué se rencontre dans le texte.\n",
    "\n",
    "Écrire une fonction `prochains(fichier_source: str) -> dict` qui prend en paramètre un fichier texte source et qui renvoie le dictionnaire prochain décrit ci-dessus."
   ]
  },
  {
   "cell_type": "code",
   "execution_count": 11,
   "metadata": {},
   "outputs": [],
   "source": [
    "def prochains(fichier_source: str) -> dict:\n",
    "    \"\"\"détermine les digrammes présents dans un fichier source\n",
    "\n",
    "    Args:\n",
    "        fichier_source (str): nom du fichier source\n",
    "\n",
    "    Returns:\n",
    "        dict: les clés sont les mots du fichier et les valeurs sont les dictionnaires des mots qui suivent les clés avec leur nombre d'occurrences\n",
    "    \"\"\"\n",
    "    mots = liste_des_mots(fichier_source)\n",
    "    digrammes = {}\n",
    "    for i in range(len(mots) - 1):\n",
    "        mot = mots[i]\n",
    "        suivant = mots[i+1]\n",
    "        if mot not in digrammes:\n",
    "            digrammes[mot] = {}\n",
    "        if suivant not in digrammes[mot]:\n",
    "            digrammes[mot][suivant] = 1\n",
    "        else:\n",
    "            digrammes[mot][suivant] += 1\n",
    "    return digrammes\n",
    "\n",
    "prochains_mousquetaires = prochains('trois-mousquetaires.txt')\n",
    "\n",
    "assert prochains_mousquetaires['pose'] == {'qui': 2, 'gracieuse': 1, 'et': 1}\n",
    "assert prochains_mousquetaires['de']['buckingham'] == 60"
   ]
  },
  {
   "attachments": {},
   "cell_type": "markdown",
   "metadata": {},
   "source": [
    "8. Ecrire une fonction `somme_occurrences(histo: dict) -> int` qui renvoie la somme des effectifs d’un histogramme `histo` qui est un dictionnaire de couples `(mot, effectif)`."
   ]
  },
  {
   "cell_type": "code",
   "execution_count": 12,
   "metadata": {},
   "outputs": [],
   "source": [
    "def somme_occurrences(histo: dict) -> int:\n",
    "    \"\"\"calcule la somme des effectifs des mots d'un dictionnaire\n",
    "\n",
    "    Args:\n",
    "        histo (dict): un dictionnaire de couples (mot, effectif)\n",
    "\n",
    "    Returns:\n",
    "        int: la somme des effectifs des mots\n",
    "    \"\"\"\n",
    "    somme = 0\n",
    "    for valeur in histo.values():\n",
    "        somme += valeur\n",
    "    return somme\n",
    "\n",
    "assert somme_occurrences({'et': 1, 'gracieuse': 1, 'qui': 2}) == 4"
   ]
  },
  {
   "attachments": {},
   "cell_type": "markdown",
   "metadata": {},
   "source": [
    "9. Ecrire une fonction `prochains_frequences(fichier_source: str) -> dict` qui prend en paramètre un fichier texte source et qui renvoie un dictionnaire de dictionnaires de fréquences."
   ]
  },
  {
   "cell_type": "code",
   "execution_count": 13,
   "metadata": {},
   "outputs": [
    {
     "name": "stdout",
     "output_type": "stream",
     "text": [
      "0.03187250996015936\n"
     ]
    }
   ],
   "source": [
    "def prochains_frequences(fichier_source: str) -> dict:\n",
    "    \"\"\"renvoie le dictionnaire des fréquences de digrammes\n",
    "\n",
    "    Args:\n",
    "        fichier_source (str): nom du fichier source\n",
    "\n",
    "    Returns:\n",
    "        dict: dictionnaire dont les clés sont les mots du fichier source et les valeurs sont des dictionnaires contenant les mots qui suivent les clés avec leur fréquence\n",
    "    \"\"\"\n",
    "    prochains_eff = prochains(fichier_source)\n",
    "    prochains_freq = {}\n",
    "    for mot, suivants in prochains_eff.items():\n",
    "        somme = somme_occurrences(suivants)\n",
    "        suivants_freq = {mot: occ/somme for mot, occ in suivants.items()}\n",
    "        prochains_freq[mot] = suivants_freq\n",
    "    return prochains_freq\n",
    "\n",
    "prochains_freq_mousquetaires = prochains_frequences('trois-mousquetaires.txt')\n",
    "print(prochains_freq_mousquetaires['chez']['milady'])\n",
    "\n",
    "assert prochains_freq_mousquetaires['pose']['gracieuse'] == 0.25\n",
    "assert prochains_freq_mousquetaires['pose']['et'] == 0.25\n",
    "assert prochains_freq_mousquetaires['pose']['qui'] == 0.5"
   ]
  }
 ],
 "metadata": {
  "kernelspec": {
   "display_name": "Python 3.10.0 64-bit",
   "language": "python",
   "name": "python3"
  },
  "language_info": {
   "codemirror_mode": {
    "name": "ipython",
    "version": 3
   },
   "file_extension": ".py",
   "mimetype": "text/x-python",
   "name": "python",
   "nbconvert_exporter": "python",
   "pygments_lexer": "ipython3",
   "version": "3.11.3"
  },
  "orig_nbformat": 4,
  "vscode": {
   "interpreter": {
    "hash": "aee8b7b246df8f9039afb4144a1f6fd8d2ca17a180786b69acc140d282b71a49"
   }
  }
 },
 "nbformat": 4,
 "nbformat_minor": 2
}
