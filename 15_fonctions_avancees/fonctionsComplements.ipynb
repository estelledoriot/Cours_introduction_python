{
 "cells": [
  {
   "cell_type": "markdown",
   "metadata": {},
   "source": [
    "**Estelle Doriot**\n",
    "\n",
    "_NSI Tale_\n",
    "\n",
    "---\n",
    "\n",
    "# Cours : Compléments sur les fonctions\n",
    "\n",
    "---\n"
   ]
  },
  {
   "cell_type": "markdown",
   "metadata": {},
   "source": [
    "## Opérateur ternaire\n"
   ]
  },
  {
   "cell_type": "code",
   "execution_count": 2,
   "metadata": {},
   "outputs": [],
   "source": [
    "a = 2\n",
    "b = 5\n",
    "\n",
    "if a > b:\n",
    "    resultat = a\n",
    "else:\n",
    "    resultat = b\n",
    "\n",
    "resultat = a if a > b else b"
   ]
  },
  {
   "cell_type": "markdown",
   "metadata": {},
   "source": [
    "## Compléments sur les boucles\n"
   ]
  },
  {
   "cell_type": "code",
   "execution_count": 4,
   "metadata": {},
   "outputs": [
    {
     "name": "stdout",
     "output_type": "stream",
     "text": [
      "Aucun entier pair trouvé\n"
     ]
    }
   ],
   "source": [
    "nombres = [1, 3, 5, 7]\n",
    "trouvé = False\n",
    "for nombre in nombres:\n",
    "    if nombre % 2 == 0:\n",
    "        print(f\"Trouvé l'entier pair {nombre}\")\n",
    "        trouvé = True\n",
    "        break\n",
    "if not trouvé:\n",
    "    print(\"Aucun entier pair trouvé\")\n"
   ]
  },
  {
   "cell_type": "code",
   "execution_count": 5,
   "metadata": {},
   "outputs": [
    {
     "name": "stdout",
     "output_type": "stream",
     "text": [
      "Aucun entier pair trouvé\n"
     ]
    }
   ],
   "source": [
    "nombres = [1, 3, 5, 7]\n",
    "for nombre in nombres:\n",
    "    if nombre % 2 == 0:\n",
    "        print(f\"Trouvé l'entier pair {nombre}\")\n",
    "        break\n",
    "else:\n",
    "    print(\"Aucun entier pair trouvé\")"
   ]
  },
  {
   "cell_type": "code",
   "execution_count": 6,
   "metadata": {},
   "outputs": [
    {
     "name": "stdout",
     "output_type": "stream",
     "text": [
      "0\n",
      "1\n",
      "3\n",
      "4\n",
      "5\n"
     ]
    }
   ],
   "source": [
    "for i in range(6):\n",
    "    if i == 2:\n",
    "        continue\n",
    "    print(i)"
   ]
  },
  {
   "cell_type": "markdown",
   "metadata": {},
   "source": [
    "## Arguments par défaut\n"
   ]
  },
  {
   "cell_type": "code",
   "execution_count": 9,
   "metadata": {},
   "outputs": [
    {
     "name": "stdout",
     "output_type": "stream",
     "text": [
      "4.497941445275415\n",
      "5.0\n"
     ]
    }
   ],
   "source": [
    "def norme(x: float, y: float, k: int = 2) -> float:\n",
    "    return (x**k + y**k) ** (1 / k)\n",
    "\n",
    "\n",
    "print(norme(3, 4, 3))\n",
    "print(norme(3, 4))  # k = 2\n"
   ]
  },
  {
   "cell_type": "code",
   "execution_count": 11,
   "metadata": {},
   "outputs": [
    {
     "name": "stdout",
     "output_type": "stream",
     "text": [
      "[10]\n",
      "[10, 5]\n"
     ]
    }
   ],
   "source": [
    "from random import randint\n",
    "\n",
    "\n",
    "def add_random_number(resultat=[]):\n",
    "    resultat.append(randint(0, 10))\n",
    "    return resultat\n",
    "\n",
    "\n",
    "print(add_random_number())\n",
    "print(add_random_number())\n"
   ]
  },
  {
   "cell_type": "code",
   "execution_count": 13,
   "metadata": {},
   "outputs": [
    {
     "name": "stdout",
     "output_type": "stream",
     "text": [
      "[3]\n",
      "[5]\n"
     ]
    }
   ],
   "source": [
    "def add_random_number(resultat=None):\n",
    "    if resultat is None:\n",
    "        resultat = []\n",
    "    resultat.append(randint(0, 10))\n",
    "    return resultat\n",
    "\n",
    "\n",
    "print(add_random_number())\n",
    "print(add_random_number())\n"
   ]
  },
  {
   "cell_type": "code",
   "execution_count": 16,
   "metadata": {},
   "outputs": [
    {
     "name": "stdout",
     "output_type": "stream",
     "text": [
      "5\n",
      "5\n",
      "5\n"
     ]
    }
   ],
   "source": [
    "def polynome(x, a, b, c):\n",
    "    return a * x**2 + b * x + c\n",
    "\n",
    "\n",
    "print(polynome(0, 1, 10, 5))\n",
    "print(polynome(a=1, b=10, c=5, x=0))\n",
    "print(polynome(0, b=10, c=5, a=1))\n"
   ]
  },
  {
   "cell_type": "markdown",
   "metadata": {},
   "source": [
    "## Nombre de paramètres variable\n"
   ]
  },
  {
   "cell_type": "code",
   "execution_count": 1,
   "metadata": {},
   "outputs": [
    {
     "name": "stdout",
     "output_type": "stream",
     "text": [
      "10\n",
      "14\n"
     ]
    }
   ],
   "source": [
    "def somme(*args):\n",
    "    total = 0\n",
    "    for el in args:\n",
    "        total += el\n",
    "    return total\n",
    "\n",
    "\n",
    "print(somme(1, 2, 3, 4))\n",
    "print(somme(5, 9))"
   ]
  },
  {
   "cell_type": "code",
   "execution_count": 2,
   "metadata": {},
   "outputs": [
    {
     "name": "stdout",
     "output_type": "stream",
     "text": [
      "21\n"
     ]
    }
   ],
   "source": [
    "liste1 = [2, 5, 7, 3]\n",
    "liste2 = [1, 5, 21, -15]\n",
    "print(max(*liste1, *liste2))\n"
   ]
  },
  {
   "cell_type": "code",
   "execution_count": 4,
   "metadata": {},
   "outputs": [
    {
     "name": "stdout",
     "output_type": "stream",
     "text": [
      "\n",
      "Préparation d'une pizza de 30 cm avec les garnitures :\n",
      "champignons\n",
      "sauce tomate\n",
      "mozzarella\n"
     ]
    }
   ],
   "source": [
    "def make_pizza(size, *toppings):\n",
    "    print(f\"\\nPréparation d'une pizza de {size} cm avec les garnitures :\")\n",
    "    for topping in toppings:\n",
    "        print(f\"{topping}\")\n",
    "\n",
    "\n",
    "make_pizza(30, \"champignons\", \"sauce tomate\", \"mozzarella\")"
   ]
  },
  {
   "cell_type": "code",
   "execution_count": 8,
   "metadata": {},
   "outputs": [
    {
     "name": "stdout",
     "output_type": "stream",
     "text": [
      "{'location': 'princeton', 'field': 'physique', 'first name': 'albert', 'last name': 'einstein'}\n"
     ]
    }
   ],
   "source": [
    "def build_profile(first, last, **user_info):\n",
    "    user_info[\"first name\"] = first\n",
    "    user_info[\"last name\"] = last\n",
    "    return user_info\n",
    "\n",
    "\n",
    "user_profile = build_profile(\n",
    "    \"albert\", \"einstein\", location=\"princeton\", field=\"physique\"\n",
    ")\n",
    "print(user_profile)"
   ]
  },
  {
   "cell_type": "markdown",
   "metadata": {},
   "source": [
    "## Passage d'une fonction en paramètre\n"
   ]
  },
  {
   "cell_type": "code",
   "execution_count": 18,
   "metadata": {},
   "outputs": [
    {
     "name": "stdout",
     "output_type": "stream",
     "text": [
      "[6, 120, 40320]\n",
      "[6, 120, 40320]\n",
      "[3, 5]\n",
      "[3, 5]\n",
      "16\n",
      "16\n",
      "120\n"
     ]
    }
   ],
   "source": [
    "def factorielle(n):\n",
    "    res = 1\n",
    "    for i in range(1, n + 1):\n",
    "        res *= i\n",
    "    return res\n",
    "\n",
    "\n",
    "L = [3, 5, 8]\n",
    "print(list(map(factorielle, L)))\n",
    "print([factorielle(n) for n in L])\n",
    "\n",
    "\n",
    "def impair(n):\n",
    "    return n % 2 == 1\n",
    "\n",
    "\n",
    "print(list(filter(impair, L)))\n",
    "print([n for n in L if impair(n)])\n",
    "\n",
    "from functools import reduce\n",
    "\n",
    "\n",
    "def add(x, y):\n",
    "    return x + y\n",
    "\n",
    "\n",
    "print(reduce(add, L))\n",
    "print(sum(L))\n",
    "\n",
    "from operator import mul\n",
    "\n",
    "\n",
    "def multiply(liste):\n",
    "    return reduce(mul, liste)\n",
    "\n",
    "\n",
    "print(multiply(L))"
   ]
  },
  {
   "cell_type": "markdown",
   "metadata": {},
   "source": [
    "## Fonctions lambda\n"
   ]
  },
  {
   "cell_type": "code",
   "execution_count": 19,
   "metadata": {},
   "outputs": [
    {
     "name": "stdout",
     "output_type": "stream",
     "text": [
      "16\n",
      "[31, 57, 111]\n"
     ]
    }
   ],
   "source": [
    "print((lambda x: x**2)(4))\n",
    "print(list(map(lambda x: x**2 + 5 * x + 7, L)))"
   ]
  },
  {
   "cell_type": "markdown",
   "metadata": {},
   "source": [
    "## Fonctions internes\n"
   ]
  },
  {
   "cell_type": "code",
   "execution_count": 20,
   "metadata": {},
   "outputs": [
    {
     "name": "stdout",
     "output_type": "stream",
     "text": [
      "5\n"
     ]
    }
   ],
   "source": [
    "def recherche(x, L):\n",
    "    def r(deb, fin):\n",
    "        if deb > fin:\n",
    "            return None\n",
    "        t = (deb + fin) // 2\n",
    "        if x == L[t]:\n",
    "            return t\n",
    "        elif x < L[t]:\n",
    "            return r(deb, t - 1)\n",
    "        else:\n",
    "            return r(t + 1, fin)\n",
    "\n",
    "    d, f = 0, len(L) - 1\n",
    "    return r(d, f)\n",
    "\n",
    "\n",
    "L = [3, 5, 8, 9, 15, 45, 123, 125]\n",
    "print(recherche(45, L))"
   ]
  },
  {
   "cell_type": "markdown",
   "metadata": {},
   "source": [
    "## Application partielle de fonctions\n"
   ]
  },
  {
   "cell_type": "code",
   "execution_count": 23,
   "metadata": {},
   "outputs": [
    {
     "name": "stdout",
     "output_type": "stream",
     "text": [
      "20\n",
      "15\n",
      "15\n"
     ]
    }
   ],
   "source": [
    "def addition(x, y):\n",
    "    return x + y\n",
    "\n",
    "\n",
    "print(addition(5, 15))\n",
    "\n",
    "\n",
    "def add_10(y):\n",
    "    return addition(10, y)\n",
    "\n",
    "\n",
    "print(add_10(5))\n",
    "\n",
    "from functools import partial\n",
    "\n",
    "add_10_partial = partial(addition, 10)\n",
    "print(add_10_partial(5))"
   ]
  }
 ],
 "metadata": {
  "kernelspec": {
   "display_name": "Python 3",
   "language": "python",
   "name": "python3"
  },
  "language_info": {
   "codemirror_mode": {
    "name": "ipython",
    "version": 3
   },
   "file_extension": ".py",
   "mimetype": "text/x-python",
   "name": "python",
   "nbconvert_exporter": "python",
   "pygments_lexer": "ipython3",
   "version": "3.11.4"
  },
  "orig_nbformat": 4
 },
 "nbformat": 4,
 "nbformat_minor": 2
}
