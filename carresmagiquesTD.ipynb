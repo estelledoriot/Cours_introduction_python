{
 "cells": [
  {
   "attachments": {},
   "cell_type": "markdown",
   "metadata": {},
   "source": [
    "**Estelle Doriot**\n",
    "\n",
    "_NSI 1ère_\n",
    "\n",
    "---\n",
    "# TD : carrés magiques\n",
    "---"
   ]
  },
  {
   "attachments": {},
   "cell_type": "markdown",
   "metadata": {},
   "source": [
    "## Partie 1 : Vérification de carrés magiques"
   ]
  },
  {
   "attachments": {},
   "cell_type": "markdown",
   "metadata": {},
   "source": [
    "Un carré magique d'ordre $n$ est un tableau à deux dimensions composé de $n$ lignes et $n$ colonnes, où chaque case contient un entier positif. Les nombres sont disposés de sorte que:\n",
    "\n",
    "- la somme des éléments de chaque **ligne** est toujours égale à la **constante magique $S$**,\n",
    "- la somme des éléments de chaque **colonne** est toujours égale à la **constante magique $S$**, \n",
    "- la somme des éléments de chaque **diagonale** est toujours égale à la **constante magique $S$**.\n",
    "\n",
    "Tous les entiers doivent être distincts."
   ]
  },
  {
   "attachments": {},
   "cell_type": "markdown",
   "metadata": {},
   "source": [
    "1. Créer une fonction `cree_tableau(n:int, p:int) -> list` qui renvoie une matrice de `n` lignes et `p` colonnes contenant des nombres entiers aléatoirement choisis entre 0 et 100."
   ]
  },
  {
   "cell_type": "code",
   "execution_count": 1,
   "metadata": {},
   "outputs": [
    {
     "name": "stdout",
     "output_type": "stream",
     "text": [
      "[[1, 1, 67, 43, 38, 43], [65, 80, 70, 1, 4, 19], [52, 82, 95, 73, 63, 80], [93, 56, 66, 16, 4, 94], [93, 24, 10, 30, 6, 6]]\n"
     ]
    }
   ],
   "source": [
    "from random import randint\n",
    "\n",
    "def cree_tableau(n: int, p: int) -> list:\n",
    "    \"\"\"génère une matrice de taille n x p contenant des nombres aléatoires entre 0 et 100\n",
    "\n",
    "    Args:\n",
    "        n (int): nombre de lignes\n",
    "        p (int): nombre de colonnes\n",
    "\n",
    "    Returns:\n",
    "        list: matrice aléatoire de taille n x p\n",
    "    \"\"\"\n",
    "    return [[randint(0, 100) for _ in range(p)] for _ in range(n)]\n",
    "\n",
    "print(cree_tableau(5, 6))"
   ]
  },
  {
   "attachments": {},
   "cell_type": "markdown",
   "metadata": {},
   "source": [
    "2. Ecrire une fonction `est_carrée(mat: list) -> bool` qui vérifie que la matrice `mat` est bien carrée (son nombre de lignes est égal à son nombre de colonnes). Cette fonction renverra `True` si la matrice est carrée, et `False` sinon."
   ]
  },
  {
   "cell_type": "code",
   "execution_count": 2,
   "metadata": {},
   "outputs": [],
   "source": [
    "def est_carrée(mat: list) -> bool:\n",
    "    \"\"\"vérifie que la matrice donnée en argument est carrée\n",
    "    \n",
    "    Args:\n",
    "        mat (list): une matrice d'entiers\n",
    "\n",
    "    Returns:\n",
    "        bool: True si mat est une matrice carrée, False sinon\n",
    "    \"\"\"\n",
    "    nb_lignes = len(mat)\n",
    "    for ligne in mat:\n",
    "        if len(ligne) != nb_lignes:\n",
    "            return False\n",
    "    return True\n",
    "\n",
    "assert not est_carrée([[1, 2], [3, 4], [5, 6]])\n",
    "assert est_carrée([[1, 2, 3], [4, 5, 6], [7, 8, 9]])\n",
    "assert not est_carrée([[1, 2, 3], [4, 5, 6], [7, 8]])"
   ]
  },
  {
   "attachments": {},
   "cell_type": "markdown",
   "metadata": {},
   "source": [
    "3. Ecrire une fonction `tous_distincts(mat: list) -> bool` qui vérifie que tous les entiers contenus dans `mat` sont distincts les uns des autres."
   ]
  },
  {
   "cell_type": "code",
   "execution_count": 3,
   "metadata": {},
   "outputs": [],
   "source": [
    "def tous_distincts(mat: list) -> bool:\n",
    "    \"\"\"Vérifie que tous les entiers contenus dans la matrice donnée en argument sont distincts\n",
    "\n",
    "    Args:\n",
    "        mat (list): une matrice d'entiers\n",
    "\n",
    "    Returns:\n",
    "        bool: True si tous les éléments de mat sont distincts, False sinon\n",
    "    \"\"\"\n",
    "    \n",
    "    assert est_carrée(mat)\n",
    "    \n",
    "    taille = len(mat)\n",
    "    trouvés = []\n",
    "    for i in range(taille):\n",
    "        for j in range(taille):\n",
    "            if mat[i][j] in trouvés:\n",
    "                return False\n",
    "            else:\n",
    "                trouvés.append(mat[i][j])\n",
    "    return True\n",
    "\n",
    "assert tous_distincts([[1, 2, 3], [4, 5, 6], [7, 8, 9]])\n",
    "assert not tous_distincts([[1, 2, 3], [4, 5, 2], [3, 8, 9]])"
   ]
  },
  {
   "attachments": {},
   "cell_type": "markdown",
   "metadata": {},
   "source": [
    "4. Ecrire une fonction `somme_ligne(mat:list, i:int) -> int` qui prend en paramètre une matrice carrée `mat` et renvoie la somme des chiffres de la ligne `i`. "
   ]
  },
  {
   "cell_type": "code",
   "execution_count": 4,
   "metadata": {},
   "outputs": [],
   "source": [
    "def somme_ligne(mat: list, i: int) -> int:\n",
    "    \"\"\"calcule la somme des éléments d'une ligne donnée d'une matrice\n",
    "\n",
    "    Args:\n",
    "        mat (list): une matrice carrée d'entiers\n",
    "        i (int): un entier\n",
    "\n",
    "    Returns:\n",
    "        int: somme des éléments de la ligne i de mat\n",
    "    \"\"\"\n",
    "    assert est_carrée(mat)\n",
    "    assert 0 <= i < len(mat)\n",
    "    \n",
    "    somme = 0\n",
    "    for j in range(len(mat)):\n",
    "        somme += mat[i][j]\n",
    "    return somme\n",
    "\n",
    "assert somme_ligne([[1]*4 for _ in range(4)], 0) == 4"
   ]
  },
  {
   "attachments": {},
   "cell_type": "markdown",
   "metadata": {},
   "source": [
    "5. Ecrire une fonction `somme_colonne(mat:list, j:int) -> int` qui prend en paramètre une matrice carrée `mat` et renvoie la somme des chiffres de la colonne `j`. "
   ]
  },
  {
   "cell_type": "code",
   "execution_count": 5,
   "metadata": {},
   "outputs": [],
   "source": [
    "def somme_colonne(mat: list, j: int) -> int:\n",
    "    \"\"\"calcule la somme des éléments d'une colonne donnée d'une matrice\n",
    "\n",
    "    Args:\n",
    "        mat (list): une matrice carrée d'entiers\n",
    "        j (int): un entier\n",
    "\n",
    "    Returns:\n",
    "        int: somme des éléments de la colonne j de mat\n",
    "    \"\"\"\n",
    "    assert est_carrée(mat)\n",
    "    assert 0 <= j < len(mat)\n",
    "    \n",
    "    somme = 0\n",
    "    for i in range(len(mat)):\n",
    "        somme += mat[i][j]\n",
    "    return somme\n",
    "\n",
    "assert somme_colonne([[1]*4 for _ in range(4)], 0) == 4"
   ]
  },
  {
   "attachments": {},
   "cell_type": "markdown",
   "metadata": {},
   "source": [
    "6. Ecrire une fonction `somme_diagonale1(mat:list) -> int` qui calcule la somme des éléments de la diagonale principale de `mat`. "
   ]
  },
  {
   "cell_type": "code",
   "execution_count": 6,
   "metadata": {},
   "outputs": [],
   "source": [
    "def somme_diagonale1(mat: list) -> int:\n",
    "    \"\"\"calcule la somme des éléments de la diagonale principale d'une matrice\n",
    "\n",
    "    Args:\n",
    "        mat (list): une matrice carrée d'entiers\n",
    "\n",
    "    Returns:\n",
    "        int: la somme des éléments de la diagonale principale de mat\n",
    "    \"\"\"\n",
    "    assert est_carrée(mat)\n",
    "    \n",
    "    somme = 0\n",
    "    for i in range(len(mat)):\n",
    "        somme += mat[i][i]\n",
    "    return somme\n",
    "\n",
    "assert somme_diagonale1([[1]*4 for _ in range(4)]) == 4"
   ]
  },
  {
   "attachments": {},
   "cell_type": "markdown",
   "metadata": {},
   "source": [
    "7. Ecrire une fonction `somme_diagonale2(mat:list) -> int` qui calcule la somme des éléments de la diagonale secondaire de `mat`."
   ]
  },
  {
   "cell_type": "code",
   "execution_count": 7,
   "metadata": {},
   "outputs": [],
   "source": [
    "def somme_diagonale2(mat: list) -> int:\n",
    "    \"\"\"calcule la somme des éléments de la diagonale secondaire d'une matrice\n",
    "\n",
    "    Args:\n",
    "        mat (list): une matrice carrée d'entiers\n",
    "\n",
    "    Returns:\n",
    "        int: la somme des éléments de la diagonale secondaire de mat\n",
    "    \"\"\"\n",
    "    assert est_carrée(mat)\n",
    "    \n",
    "    n = len(mat)\n",
    "    somme = 0\n",
    "    for i in range(n):\n",
    "        somme += mat[i][n-1-i]\n",
    "    return somme\n",
    "\n",
    "assert somme_diagonale2([[1]*4 for _ in range(4)]) == 4"
   ]
  },
  {
   "attachments": {},
   "cell_type": "markdown",
   "metadata": {},
   "source": [
    "8. En utilisant les fonctions précédentes, écrire une fonction `est_magique(mat: list) -> bool` qui renvoie `True` si la matrice `mat` est un carré magique et `False` sinon."
   ]
  },
  {
   "cell_type": "code",
   "execution_count": 8,
   "metadata": {},
   "outputs": [],
   "source": [
    "def est_magique(mat: list) -> bool:\n",
    "    \"\"\"vérifie que la matrice donnée en argument représente un carré magique, c'est-à-dire que la somme des éléments de chaque ligne, colonne et diagonale est égale au même nombre magique S\n",
    "\n",
    "    Args:\n",
    "        mat (list): une matrice d'entiers\n",
    "\n",
    "    Returns:\n",
    "        bool: True si mat est un carré magique, False sinon\n",
    "    \"\"\"\n",
    "    if not est_carrée(mat):\n",
    "        return False\n",
    "    if not tous_distincts(mat):\n",
    "        return False\n",
    "    S = somme_ligne(mat, 0)\n",
    "    for i in range(len(mat)):\n",
    "        if somme_ligne(mat, i) != S:\n",
    "            return False\n",
    "    for i in range(len(mat)):\n",
    "        if somme_colonne(mat, i) != S:\n",
    "            return False\n",
    "    if somme_diagonale1(mat) != S:\n",
    "        return False\n",
    "    if somme_diagonale2(mat) != S:\n",
    "        return False\n",
    "    return True\n",
    "\n",
    "assert est_magique([[2, 7, 6], [9, 5, 1], [4, 3, 8]])\n",
    "assert est_magique([[4, 14, 15, 1], [9, 7, 6, 12], [5, 11, 10, 8], [16, 2, 3, 13]])\n",
    "assert not est_magique([[4, 14, 15, 1], [9, 7, 6, 12], [5, 11, 10, 8], [2, 3, 13, 16]])"
   ]
  },
  {
   "attachments": {},
   "cell_type": "markdown",
   "metadata": {},
   "source": [
    "## Partie 2: Création de carrés magiques"
   ]
  },
  {
   "attachments": {},
   "cell_type": "markdown",
   "metadata": {},
   "source": [
    "On s'intéresse à une méthode pour générer des carrés magiques appelée **méthode siamoise**. Cette méthode ne fonctionne que sur des carrés d'une certaine taille ($n$ doit être impair) et dans certaines conditions.\n",
    "\n",
    "**Méthode**:\n",
    "- on place le 1 au milieu de la première ligne\n",
    "- on se décale d'une case en haut à droite pour placer le 2, et on procède de même pour le 3, le 4, ...\n",
    "- si on sort du carré, on revient de l'autre côté\n",
    "- si la prochaine case est occupée, on se déplace vers le bas à la place\n",
    "\n",
    "![](carre_magique.png)"
   ]
  },
  {
   "attachments": {},
   "cell_type": "markdown",
   "metadata": {},
   "source": [
    "1. Ecrire une fonction `afficher(mat: list) -> None` qui affiche la matrice `mat` en colonne de façon lisible."
   ]
  },
  {
   "cell_type": "code",
   "execution_count": 13,
   "metadata": {},
   "outputs": [
    {
     "name": "stdout",
     "output_type": "stream",
     "text": [
      "  17  24   1   8  15\n",
      "  23   5   7  14  16\n",
      "   4   6  13  20  22\n",
      "  10  12  19  21   3\n",
      "  11  18  25   2   9\n"
     ]
    }
   ],
   "source": [
    "def afficher(mat: list) -> None:\n",
    "    \"\"\"affiche une matrice de façon lisible\n",
    "\n",
    "    Args:\n",
    "        mat (list): une matrice de nombres\n",
    "    \"\"\"\n",
    "    for ligne in mat:\n",
    "        for nombre in ligne:\n",
    "            print(f'{nombre:4}', end='')\n",
    "        print()\n",
    "        \n",
    "afficher([[17, 24, 1, 8, 15], [23, 5, 7, 14, 16], [4, 6, 13, 20, 22], [10, 12, 19, 21, 3], [11, 18, 25, 2, 9]])"
   ]
  },
  {
   "attachments": {},
   "cell_type": "markdown",
   "metadata": {},
   "source": [
    "2. Ecrire une fonction `decalage1(n: int, i: int, j: int) -> tuple` qui prend en argument un entier `n` qui correspond à la taille de la matrice et deux entiers `i` et `j` qui correspondent aux coordonnées $(i, j)$ d'une case de la matrice. Cette fonction renvoie un tuple contenant les coordonnées de la case suivante à remplir, dans le cas normal, c'est-à-dire que:\n",
    "- on se décale d'une case en haut à droite\n",
    "- si on sort du carré, on revient de l'autre côté"
   ]
  },
  {
   "cell_type": "code",
   "execution_count": 17,
   "metadata": {},
   "outputs": [],
   "source": [
    "def decalage1(n: int, i: int, j: int) -> tuple:\n",
    "    \"\"\"calcule les coordonnées de la case suivante à remplir dans le cas normal:\n",
    "    - on se décale d'une case en haut à droite\n",
    "    - si on sort du carré, on revient de l'autre côté\n",
    "\n",
    "    Args:\n",
    "        n (int): taille de la matrice\n",
    "        i (int): numéro de la ligne\n",
    "        j (int): numéro de la colonne\n",
    "\n",
    "    Returns:\n",
    "        tuple: case suivante\n",
    "    \"\"\"\n",
    "    return (i-1) % n, (j+1) % n"
   ]
  },
  {
   "attachments": {},
   "cell_type": "markdown",
   "metadata": {},
   "source": [
    "3. Ecrire une fonction `decalage2(n: int, i: int, j: int) -> tuple` qui prend en argument un entier `n` qui correspond à la taille de la matrice et deux entiers `i` et `j` qui correspondent aux coordonnées $(i, j)$ d'une case de la matrice. Cette fonction renvoie un tuple contenant les coordonnées de la case suivante à remplir, dans le cas secondaire:\n",
    "- on se déplace vers le bas"
   ]
  },
  {
   "cell_type": "code",
   "execution_count": 18,
   "metadata": {},
   "outputs": [],
   "source": [
    "def decalage2(n: int, i: int, j: int) -> tuple:\n",
    "    \"\"\"calcule les coordonnées de la case suivante à remplir dans le cas normal:\n",
    "    - on se déplace vers le bas\n",
    "\n",
    "    Args:\n",
    "        n (int): taille de la matrice\n",
    "        i (int): numéro de la ligne\n",
    "        j (int): numéro de la colonne\n",
    "\n",
    "    Returns:\n",
    "        tuple: case suivante\n",
    "    \"\"\"\n",
    "    return (i+1) % n, j"
   ]
  },
  {
   "attachments": {},
   "cell_type": "markdown",
   "metadata": {},
   "source": [
    "4. Compléter la fonction `siamoise` ci-dessous, qui génère un carré magique de taille `n` en suivant la méthode siamoise décrite ci-dessus.\n",
    "\n",
    "```python\n",
    "def siamoise(n: int) -> list:\n",
    "    mat = ... # créer une matrice de taille n contenant des 0\n",
    "    nombre = 1 # nombre à placer dans la matrice\n",
    "    i = ... # numéro de la ligne du chiffre 1\n",
    "    j = ... # numéro de la colonne du chiffre 1\n",
    "    mat[i][j] = nombre\n",
    "    while nombre < ... : # compléter la condition d'arrêt\n",
    "        nombre += 1\n",
    "        k, l =  ... \n",
    "        if mat[k][l] == 0:\n",
    "            i, j = ...\n",
    "        else:\n",
    "            i, j = ...\n",
    "        mat[i][j] = nombre\n",
    "        \n",
    "    return mat\n",
    "```"
   ]
  },
  {
   "cell_type": "code",
   "execution_count": 19,
   "metadata": {},
   "outputs": [],
   "source": [
    "def siamoise(n: int) -> list:\n",
    "    \"\"\"génère un carré magique de taille n à partir de la méthode siamoise:\n",
    "    - on place le 1 au milieu de la première ligne\n",
    "    - on se décale d'une case en haut à droite pour placer le 2, et on procède de même pour le 3, le 4, ...\n",
    "    - si on sort du carré, on revient de l'autre côté\n",
    "    - si la prochaine case est occupée, on se déplace vers le bas à la place\n",
    "\n",
    "    Args:\n",
    "        n (int): taille du carré magique\n",
    "\n",
    "    Returns:\n",
    "        list: carré magique de taille n\n",
    "    \"\"\"\n",
    "    mat = [[0] * n for _ in range(n)]\n",
    "    nombre = 1\n",
    "    i = 0\n",
    "    j = n // 2\n",
    "    mat[i][j] = nombre\n",
    "    while nombre < n ** 2:\n",
    "        nombre += 1\n",
    "        k, l = decalage1(n, i, j)\n",
    "        if mat[k][l] == 0:\n",
    "            i, j = k, l\n",
    "        else:\n",
    "            i, j = decalage2(n, i, j)\n",
    "        mat[i][j] = nombre\n",
    "        \n",
    "    return mat\n",
    "\n",
    "assert siamoise(5) == [[17, 24, 1, 8, 15], [23, 5, 7, 14, 16], [4, 6, 13, 20, 22], [10, 12, 19, 21, 3], [11, 18, 25, 2, 9]]"
   ]
  },
  {
   "attachments": {},
   "cell_type": "markdown",
   "metadata": {},
   "source": [
    "5. Ecrire un programme qui vérifie que toutes les matrices de taille impaire entre 3 et 100 générées par la fonction `siamoise` de la question précédente sont bien des carrés magiques."
   ]
  },
  {
   "cell_type": "code",
   "execution_count": 22,
   "metadata": {},
   "outputs": [],
   "source": [
    "for i in range(3, 100, 2):\n",
    "    assert est_magique(siamoise(i))"
   ]
  }
 ],
 "metadata": {
  "kernelspec": {
   "display_name": "Python 3",
   "language": "python",
   "name": "python3"
  },
  "language_info": {
   "codemirror_mode": {
    "name": "ipython",
    "version": 3
   },
   "file_extension": ".py",
   "mimetype": "text/x-python",
   "name": "python",
   "nbconvert_exporter": "python",
   "pygments_lexer": "ipython3",
   "version": "3.10.0"
  },
  "orig_nbformat": 4
 },
 "nbformat": 4,
 "nbformat_minor": 2
}
