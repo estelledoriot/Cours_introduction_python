{
 "cells": [
  {
   "cell_type": "markdown",
   "metadata": {},
   "source": [
    "**Estelle Doriot**\n",
    "\n",
    "---\n",
    "\n",
    "# Structures de données avancées\n",
    "\n",
    "---\n"
   ]
  },
  {
   "cell_type": "markdown",
   "metadata": {},
   "source": [
    "### Enum\n"
   ]
  },
  {
   "cell_type": "code",
   "execution_count": 11,
   "metadata": {},
   "outputs": [],
   "source": [
    "today = \"Lundi\"\n",
    "\n",
    "if today == \"lundi\":\n",
    "    print(\"Nous somme le premier jour de la semaine\")"
   ]
  },
  {
   "cell_type": "code",
   "execution_count": 12,
   "metadata": {},
   "outputs": [],
   "source": [
    "LUNDI = 1\n",
    "MARDI = 2\n",
    "\n",
    "\n",
    "def activité(jour):\n",
    "    if jour == LUNDI:\n",
    "        print(\"Il y a tennis\")\n",
    "    elif jour == MARDI:\n",
    "        print(\"Il y a piscine\")"
   ]
  },
  {
   "cell_type": "code",
   "execution_count": 13,
   "metadata": {},
   "outputs": [],
   "source": [
    "from enum import Enum\n",
    "\n",
    "\n",
    "class Color(Enum):\n",
    "    RED = 1\n",
    "    GREEN = 2\n",
    "    BLUE = 3\n",
    "\n",
    "\n",
    "Colour = Enum(\"Colour\", [\"RED\", \"GREEN\", \"BLUE\"])"
   ]
  },
  {
   "cell_type": "code",
   "execution_count": 16,
   "metadata": {},
   "outputs": [],
   "source": [
    "Jour = Enum(\n",
    "    \"Jour\", [\"LUNDI\", \"MARDI\", \"MERCREDI\", \"JEUDI\", \"VENDREDI\", \"SAMEDI\", \"DIMANCHE\"]\n",
    ")\n",
    "\n",
    "courant = Jour.MERCREDI\n",
    "debut = Jour.LUNDI\n",
    "\n",
    "\n",
    "def activité(jour: Jour):\n",
    "    if jour == Jour.LUNDI:\n",
    "        print(\"Il y a tennis\")\n",
    "    elif jour == Jour.MARDI:\n",
    "        print(\"Il y a piscine\")"
   ]
  },
  {
   "cell_type": "code",
   "execution_count": 18,
   "metadata": {},
   "outputs": [
    {
     "name": "stdout",
     "output_type": "stream",
     "text": [
      "BLUE\n",
      "1\n"
     ]
    }
   ],
   "source": [
    "print(Color.BLUE.name)\n",
    "print(Color.RED.value)"
   ]
  },
  {
   "cell_type": "markdown",
   "metadata": {},
   "source": [
    "### Namedtuple\n"
   ]
  },
  {
   "cell_type": "code",
   "execution_count": 2,
   "metadata": {},
   "outputs": [
    {
     "name": "stdout",
     "output_type": "stream",
     "text": [
      "Monument(latitude=48.85826, longitude=2.2945, nom='Tour Eiffel', ville='Paris')\n"
     ]
    }
   ],
   "source": [
    "from collections import namedtuple\n",
    "\n",
    "Monument = namedtuple(\"Monument\", \"latitude longitude nom ville\")\n",
    "tour_eiffel = Monument(48.85826, 2.2945, \"Tour Eiffel\", \"Paris\")\n",
    "print(tour_eiffel)"
   ]
  },
  {
   "cell_type": "code",
   "execution_count": 3,
   "metadata": {},
   "outputs": [
    {
     "ename": "TypeError",
     "evalue": "Monument.__new__() missing 1 required positional argument: 'ville'",
     "output_type": "error",
     "traceback": [
      "\u001b[0;31m---------------------------------------------------------------------------\u001b[0m",
      "\u001b[0;31mTypeError\u001b[0m                                 Traceback (most recent call last)",
      "Cell \u001b[0;32mIn[3], line 1\u001b[0m\n\u001b[0;32m----> 1\u001b[0m tour_eiffel \u001b[38;5;241m=\u001b[39m \u001b[43mMonument\u001b[49m\u001b[43m(\u001b[49m\u001b[38;5;241;43m48.85826\u001b[39;49m\u001b[43m,\u001b[49m\u001b[43m \u001b[49m\u001b[38;5;241;43m2.2945\u001b[39;49m\u001b[43m,\u001b[49m\u001b[43m \u001b[49m\u001b[38;5;124;43m'\u001b[39;49m\u001b[38;5;124;43mTour Eiffel\u001b[39;49m\u001b[38;5;124;43m'\u001b[39;49m\u001b[43m)\u001b[49m\n",
      "\u001b[0;31mTypeError\u001b[0m: Monument.__new__() missing 1 required positional argument: 'ville'"
     ]
    }
   ],
   "source": [
    "tour_eiffel = Monument(48.85826, 2.2945, \"Tour Eiffel\")"
   ]
  },
  {
   "cell_type": "markdown",
   "metadata": {},
   "source": [
    "### Dataclass\n"
   ]
  },
  {
   "cell_type": "code",
   "execution_count": 4,
   "metadata": {},
   "outputs": [],
   "source": [
    "from dataclasses import dataclass\n",
    "\n",
    "\n",
    "@dataclass\n",
    "class Monument:\n",
    "    latitude: float\n",
    "    longitude: float\n",
    "    nom: str\n",
    "    ville: str"
   ]
  },
  {
   "cell_type": "code",
   "execution_count": 5,
   "metadata": {},
   "outputs": [
    {
     "name": "stdout",
     "output_type": "stream",
     "text": [
      "Monument(latitude=48.85826, longitude=2.2945, nom='Tour Eiffel', ville='Paris')\n"
     ]
    }
   ],
   "source": [
    "tour_eiffel = Monument(48.85826, 2.2945, \"Tour Eiffel\", \"Paris\")\n",
    "print(tour_eiffel)"
   ]
  },
  {
   "cell_type": "code",
   "execution_count": 6,
   "metadata": {},
   "outputs": [
    {
     "name": "stdout",
     "output_type": "stream",
     "text": [
      "(48.85826, 2.2945, 'Tour Eiffel', 'Paris')\n",
      "{'latitude': 48.85826, 'longitude': 2.2945, 'nom': 'Tour Eiffel', 'ville': 'Paris'}\n"
     ]
    }
   ],
   "source": [
    "from dataclasses import astuple, asdict\n",
    "\n",
    "print(astuple(tour_eiffel))\n",
    "print(asdict(tour_eiffel))"
   ]
  },
  {
   "cell_type": "code",
   "execution_count": 7,
   "metadata": {},
   "outputs": [],
   "source": [
    "tour_eiffel.pays = \"France\"\n",
    "tour_eiffel.longitude = -54.5889  # oups!"
   ]
  },
  {
   "cell_type": "code",
   "execution_count": 8,
   "metadata": {},
   "outputs": [],
   "source": [
    "from dataclasses import field\n",
    "\n",
    "\n",
    "@dataclass(frozen=True)\n",
    "class Monument:\n",
    "    latitude: float = field(repr=False)\n",
    "    longitude: float = field(repr=False)\n",
    "    nom: str\n",
    "    ville: str\n",
    "    pays: str = field(repr=False, default=\"\")\n",
    "\n",
    "\n",
    "tour_eiffel = Monument(48.85826, 2.2945, \"Tour Eiffel\", \"Paris\", \"France\")"
   ]
  },
  {
   "cell_type": "code",
   "execution_count": 9,
   "metadata": {},
   "outputs": [
    {
     "name": "stdout",
     "output_type": "stream",
     "text": [
      "Monument(nom='Tour Eiffel', ville='Paris')\n",
      "France\n"
     ]
    }
   ],
   "source": [
    "print(tour_eiffel)\n",
    "print(tour_eiffel.pays)"
   ]
  },
  {
   "cell_type": "code",
   "execution_count": 10,
   "metadata": {},
   "outputs": [
    {
     "ename": "FrozenInstanceError",
     "evalue": "cannot assign to field 'longitude'",
     "output_type": "error",
     "traceback": [
      "\u001b[0;31m---------------------------------------------------------------------------\u001b[0m",
      "\u001b[0;31mFrozenInstanceError\u001b[0m                       Traceback (most recent call last)",
      "Cell \u001b[0;32mIn[10], line 1\u001b[0m\n\u001b[0;32m----> 1\u001b[0m \u001b[43mtour_eiffel\u001b[49m\u001b[38;5;241;43m.\u001b[39;49m\u001b[43mlongitude\u001b[49m \u001b[38;5;241m=\u001b[39m \u001b[38;5;241m-\u001b[39m\u001b[38;5;241m54.5889\u001b[39m\n",
      "File \u001b[0;32m<string>:4\u001b[0m, in \u001b[0;36m__setattr__\u001b[0;34m(self, name, value)\u001b[0m\n",
      "\u001b[0;31mFrozenInstanceError\u001b[0m: cannot assign to field 'longitude'"
     ]
    }
   ],
   "source": [
    "tour_eiffel.longitude = -54.5889"
   ]
  },
  {
   "cell_type": "code",
   "execution_count": 2,
   "metadata": {},
   "outputs": [],
   "source": [
    "from dataclasses import dataclass, field\n",
    "\n",
    "\n",
    "@dataclass\n",
    "class Monument:\n",
    "    latitude: float = field(repr=False)\n",
    "    longitude: float = field(repr=False)\n",
    "    nom: str\n",
    "    ville: str\n",
    "    visites: list = field(default_factory=list)"
   ]
  },
  {
   "cell_type": "code",
   "execution_count": 3,
   "metadata": {},
   "outputs": [
    {
     "name": "stdout",
     "output_type": "stream",
     "text": [
      "Monument(nom='Tour Eiffel', ville='Paris', visites=['25 décembre'])\n"
     ]
    }
   ],
   "source": [
    "tour_eiffel = Monument(48.85826, 2.2945, \"Tour Eiffel\", \"Paris\")\n",
    "tour_eiffel.visites.append(\"25 décembre\")\n",
    "print(tour_eiffel)"
   ]
  },
  {
   "cell_type": "code",
   "execution_count": 4,
   "metadata": {},
   "outputs": [
    {
     "name": "stdout",
     "output_type": "stream",
     "text": [
      "False\n"
     ]
    }
   ],
   "source": [
    "@dataclass(order=True)\n",
    "class Investor:\n",
    "    sort_index: float = field(init=False, repr=False)\n",
    "    name: str\n",
    "    age: int\n",
    "    cash: float\n",
    "\n",
    "    def __post_init__(self):\n",
    "        self.sort_index = self.cash\n",
    "\n",
    "\n",
    "i1 = Investor(\"Mary\", 20, 1200)\n",
    "i2 = Investor(\"Clara\", 28, 2300)\n",
    "\n",
    "print(i2 < i1)"
   ]
  },
  {
   "cell_type": "code",
   "execution_count": null,
   "metadata": {},
   "outputs": [],
   "source": [
    "from dataclasses import dataclass\n",
    "from typing import ClassVar\n",
    "\n",
    "\n",
    "@dataclass\n",
    "class Person:\n",
    "    truc: ClassVar[int]"
   ]
  },
  {
   "cell_type": "markdown",
   "metadata": {},
   "source": [
    "### Defaultdict\n"
   ]
  },
  {
   "cell_type": "code",
   "execution_count": null,
   "metadata": {},
   "outputs": [],
   "source": [
    "references: dict[str, set[int]] = dict()\n",
    "\n",
    "with open(\"fichier.txt\", \"r\", encoding=\"utf-8\") as fichier:\n",
    "    contenu = fichier.read().split(\"\\n\")\n",
    "\n",
    "for numero, ligne in enumerate(contenu):\n",
    "    for mot in ligne.split():\n",
    "        references[mot].add(numero)"
   ]
  },
  {
   "cell_type": "code",
   "execution_count": null,
   "metadata": {},
   "outputs": [],
   "source": [
    "for numero, ligne in enumerate(contenu):\n",
    "    for mot in ligne.split():\n",
    "        if mot in references.keys():\n",
    "            references[mot].add(numero)\n",
    "        else:\n",
    "            references[mot] = {numero}"
   ]
  },
  {
   "cell_type": "code",
   "execution_count": null,
   "metadata": {},
   "outputs": [],
   "source": [
    "for numero, ligne in enumerate(contenu):\n",
    "    for mot in ligne.split():\n",
    "        try:\n",
    "            references[mot].add(numero)\n",
    "        except KeyError:\n",
    "            references[mot] = {numero}"
   ]
  },
  {
   "cell_type": "code",
   "execution_count": 5,
   "metadata": {},
   "outputs": [
    {
     "name": "stdout",
     "output_type": "stream",
     "text": [
      "1\n"
     ]
    }
   ],
   "source": [
    "from collections import defaultdict\n",
    "\n",
    "d = defaultdict(int)  # dictionnaire qui crée un entier par défaut\n",
    "d[\"a\"] += 1\n",
    "print(d[\"a\"])"
   ]
  },
  {
   "cell_type": "code",
   "execution_count": null,
   "metadata": {},
   "outputs": [],
   "source": [
    "references = defaultdict(set)\n",
    "for numero, ligne in enumerate(contenu):\n",
    "    for mot in ligne.split():\n",
    "        references[mot].add(numero)"
   ]
  }
 ],
 "metadata": {
  "kernelspec": {
   "display_name": "Python 3",
   "language": "python",
   "name": "python3"
  },
  "language_info": {
   "codemirror_mode": {
    "name": "ipython",
    "version": 3
   },
   "file_extension": ".py",
   "mimetype": "text/x-python",
   "name": "python",
   "nbconvert_exporter": "python",
   "pygments_lexer": "ipython3",
   "version": "3.11.6"
  }
 },
 "nbformat": 4,
 "nbformat_minor": 2
}
