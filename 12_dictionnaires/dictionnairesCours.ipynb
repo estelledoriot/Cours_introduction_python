{
 "cells": [
  {
   "attachments": {},
   "cell_type": "markdown",
   "metadata": {},
   "source": [
    "**Estelle Doriot**\n",
    "\n",
    "_NSI 1ère_\n",
    "\n",
    "---\n",
    "\n",
    "# Cours : Dictionnaires\n",
    "\n",
    "---\n",
    "\n",
    "## Définition\n"
   ]
  },
  {
   "cell_type": "code",
   "execution_count": 1,
   "metadata": {},
   "outputs": [
    {
     "name": "stdout",
     "output_type": "stream",
     "text": [
      "{'Harry Potter': 'Griffondor', 'Drago Malefoy': 'Serpentard', 'Luna Lovegood': 'Serdaigle', 'Cédric Diggory': 'Poufsouffle'}\n"
     ]
    }
   ],
   "source": [
    "dico_poudlard = {\n",
    "    \"Harry Potter\": \"Griffondor\",\n",
    "    \"Drago Malefoy\": \"Serpentard\",\n",
    "    \"Luna Lovegood\": \"Serdaigle\",\n",
    "    \"Cédric Diggory\": \"Poufsouffle\",\n",
    "}\n",
    "print(dico_poudlard)"
   ]
  },
  {
   "attachments": {},
   "cell_type": "markdown",
   "metadata": {},
   "source": [
    "## Opérations sur les dictionnaires\n"
   ]
  },
  {
   "cell_type": "code",
   "execution_count": 2,
   "metadata": {},
   "outputs": [
    {
     "name": "stdout",
     "output_type": "stream",
     "text": [
      "True\n",
      "4\n",
      "Serdaigle\n",
      "Serpentard\n",
      "{'Harry Potter': 'Griffondor', 'Drago Malefoy': 'Serpentard', 'Luna Lovegood': 'Serdaigle'}\n",
      "{'Harry Potter': 'Griffondor', 'Drago Malefoy': 'Serpentard', 'Luna Lovegood': 'Serdaigle', 'Hermione Granger': 'Griffondor', 'Neville Longdubat': 'Griffondor', 'Pansy Parkinson': 'Serpentard'}\n"
     ]
    }
   ],
   "source": [
    "print(\"Harry Potter\" in dico_poudlard)\n",
    "print(len(dico_poudlard))\n",
    "print(dico_poudlard[\"Luna Lovegood\"])\n",
    "print(dico_poudlard.get(\"Drago Malefoy\"))\n",
    "dico_poudlard.pop(\"Cédric Diggory\")\n",
    "print(dico_poudlard)\n",
    "eleves = {\n",
    "    \"Hermione Granger\": \"Griffondor\",\n",
    "    \"Neville Longdubat\": \"Griffondor\",\n",
    "    \"Pansy Parkinson\": \"Serpentard\",\n",
    "}\n",
    "dico_poudlard.update(eleves)\n",
    "print(dico_poudlard)"
   ]
  },
  {
   "cell_type": "code",
   "execution_count": 3,
   "metadata": {},
   "outputs": [
    {
     "name": "stdout",
     "output_type": "stream",
     "text": [
      "{'Harry Potter': 'Griffondor', 'Drago Malefoy': 'Serpentard', 'Luna Lovegood': 'Serdaigle', 'Hermione Granger': 'Griffondor', 'Neville Longdubat': 'Griffondor', 'Pansy Parkinson': 'Serpentard', 'Ron Weasley': 'Serpentard'}\n",
      "{'Harry Potter': 'Griffondor', 'Drago Malefoy': 'Serpentard', 'Luna Lovegood': 'Serdaigle', 'Hermione Granger': 'Griffondor', 'Neville Longdubat': 'Griffondor', 'Pansy Parkinson': 'Serpentard', 'Ron Weasley': 'Griffondor'}\n"
     ]
    }
   ],
   "source": [
    "dico_poudlard[\"Ron Weasley\"] = \"Serpentard\"\n",
    "print(dico_poudlard)\n",
    "dico_poudlard[\"Ron Weasley\"] = \"Griffondor\"\n",
    "print(dico_poudlard)"
   ]
  },
  {
   "attachments": {},
   "cell_type": "markdown",
   "metadata": {},
   "source": [
    "## Parcours de dictionnaires\n"
   ]
  },
  {
   "cell_type": "code",
   "execution_count": 4,
   "metadata": {},
   "outputs": [],
   "source": [
    "dico = {\"a\": 1, \"b\": 2}"
   ]
  },
  {
   "cell_type": "code",
   "execution_count": 5,
   "metadata": {},
   "outputs": [
    {
     "name": "stdout",
     "output_type": "stream",
     "text": [
      "a\n",
      "b\n"
     ]
    }
   ],
   "source": [
    "for clé in dico.keys():\n",
    "    print(clé)\n"
   ]
  },
  {
   "cell_type": "code",
   "execution_count": 6,
   "metadata": {},
   "outputs": [
    {
     "name": "stdout",
     "output_type": "stream",
     "text": [
      "1\n",
      "2\n"
     ]
    }
   ],
   "source": [
    "for valeur in dico.values():\n",
    "    print(valeur)\n"
   ]
  },
  {
   "cell_type": "code",
   "execution_count": 7,
   "metadata": {},
   "outputs": [
    {
     "name": "stdout",
     "output_type": "stream",
     "text": [
      "a 1\n",
      "b 2\n"
     ]
    }
   ],
   "source": [
    "for clé, valeur in dico.items():\n",
    "    print(clé, valeur)\n"
   ]
  }
 ],
 "metadata": {
  "kernelspec": {
   "display_name": "Python 3.10.0 64-bit",
   "language": "python",
   "name": "python3"
  },
  "language_info": {
   "codemirror_mode": {
    "name": "ipython",
    "version": 3
   },
   "file_extension": ".py",
   "mimetype": "text/x-python",
   "name": "python",
   "nbconvert_exporter": "python",
   "pygments_lexer": "ipython3",
   "version": "3.11.4"
  },
  "orig_nbformat": 4,
  "vscode": {
   "interpreter": {
    "hash": "aee8b7b246df8f9039afb4144a1f6fd8d2ca17a180786b69acc140d282b71a49"
   }
  }
 },
 "nbformat": 4,
 "nbformat_minor": 2
}
