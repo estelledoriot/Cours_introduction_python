{
 "cells": [
  {
   "cell_type": "markdown",
   "metadata": {},
   "source": [
    "**Estelle Doriot**\n",
    "\n",
    "_NSI Tale_\n",
    "\n",
    "---\n",
    "\n",
    "# Cours : Compléments sur les collections\n",
    "\n",
    "---\n"
   ]
  },
  {
   "cell_type": "markdown",
   "metadata": {},
   "source": [
    "## Chaînes de caractères\n"
   ]
  },
  {
   "cell_type": "code",
   "execution_count": 1,
   "metadata": {},
   "outputs": [
    {
     "name": "stdout",
     "output_type": "stream",
     "text": [
      "True\n",
      "7\n",
      "False\n",
      "True\n",
      "j\n",
      "jo\n",
      "bonjour Marie\n",
      "bonjourbonjourbonjour\n"
     ]
    }
   ],
   "source": [
    "a = \"bonjour\"  # création d'une chaîne de caractères\n",
    "print(\"b\" in a)\n",
    "print(len(a))  # longueur\n",
    "print(\"bonjour\" == \"bye\")  # test d'égalité\n",
    "print(\"bonjour\" < \"bye\")  # ordre alphabétique\n",
    "print(a[3])  # extraction d'un caractère\n",
    "print(a[3:5])  # extraction d'une sous-chaîne\n",
    "print(\"bonjour\" + \" \" + \"Marie\")  # concaténation\n",
    "print(\"bonjour\" * 3)  # duplication\n"
   ]
  },
  {
   "cell_type": "code",
   "execution_count": 11,
   "metadata": {},
   "outputs": [
    {
     "name": "stdout",
     "output_type": "stream",
     "text": [
      "ALICE, ASSISE AUPRÈS DE SA SŒUR SUR LE GAZON, COMMENÇAIT À S'ENNUYER DE RESTER LÀ À NE RIEN FAIRE; UNE OU DEUX FOIS ELLE AVAIT JETÉ LES YEUX SUR LE LIVRE QUE LISAIT SA SŒUR; MAIS QUOI! PAS D'IMAGES, PAS DE DIALOGUES! \"LA BELLE AVANCE,\" PENSAIT ALICE, \"QU'UN LIVRE SANS IMAGES, SANS CAUSERIES!\".\n",
      "alice, assise auprès de sa sœur sur le gazon, commençait à s'ennuyer de rester là à ne rien faire; une ou deux fois elle avait jeté les yeux sur le livre que lisait sa sœur; mais quoi! pas d'images, pas de dialogues! \"la belle avance,\" pensait alice, \"qu'un livre sans images, sans causeries!\".\n",
      "Alice, assise auprès de sa sœur sur le gazon, commençait à s'ennuyer de rester là à ne rien faire; une ou deux fois elle avait jeté les yeux sur le livre que lisait sa sœur; mais quoi! pas d'images, pas de dialogues! \"la belle avance,\" pensait alice, \"qu'un livre sans images, sans causeries!\".\n",
      "Alice, Assise Auprès De Sa Sœur Sur Le Gazon, Commençait À S'Ennuyer De Rester Là À Ne Rien Faire; Une Ou Deux Fois Elle Avait Jeté Les Yeux Sur Le Livre Que Lisait Sa Sœur; Mais Quoi! Pas D'Images, Pas De Dialogues! \"La Belle Avance,\" Pensait Alice, \"Qu'Un Livre Sans Images, Sans Causeries!\".\n",
      "39\n",
      "23\n",
      "39\n",
      "Marie, assise auprès de sa sœur sur le gazon, commençait à s'ennuyer de rester là à ne rien faire; une ou deux fois elle avait jeté les yeux sur le livre que lisait sa sœur; mais quoi! pas d'images, pas de dialogues! \"La belle avance,\" pensait Marie, \"qu'un livre sans images, sans causeries!\".\n",
      "23\n"
     ]
    }
   ],
   "source": [
    "texte_alice = \"\"\"Alice, assise auprès de sa sœur sur le gazon, commençait à s'ennuyer de rester là à ne rien faire; une ou deux fois elle avait jeté les yeux sur le livre que lisait sa sœur; mais quoi! pas d'images, pas de dialogues! \"La belle avance,\" pensait Alice, \"qu'un livre sans images, sans causeries!\".\"\"\"\n",
    "\n",
    "print(texte_alice.upper())  # met le texte en majuscules\n",
    "print(texte_alice.lower())  # met le texte en minuscules\n",
    "print(texte_alice.capitalize())  # met la première lettre en majuscule\n",
    "print(texte_alice.title())  # met la première lettre de chaque mot en majuscule\n",
    "print(texte_alice.index(\"g\"))  # indice de la première occurrence de 'g'\n",
    "print(texte_alice.count(\"a\"))  # nombre de 'a'\n",
    "print(texte_alice.find(\"gazon\"))  # position de \"gazon\"\n",
    "print(texte_alice.replace(\"Alice\", \"Marie\"))  # remplace une sous-chaîne par une autre\n",
    "print(\"   23   \".strip())  # supprime les espaces à droite et à gauche\n"
   ]
  },
  {
   "cell_type": "code",
   "execution_count": 13,
   "metadata": {},
   "outputs": [
    {
     "name": "stdout",
     "output_type": "stream",
     "text": [
      "['Alice,', 'assise', 'auprès', 'de', 'sa', 'sœur', 'sur', 'le', 'gazon,', 'commençait', 'à', \"s'ennuyer\", 'de', 'rester', 'là', 'à', 'ne', 'rien', 'faire;', 'une', 'ou', 'deux', 'fois', 'elle', 'avait', 'jeté', 'les', 'yeux', 'sur', 'le', 'livre', 'que', 'lisait', 'sa', 'sœur;', 'mais', 'quoi!', 'pas', \"d'images,\", 'pas', 'de', 'dialogues!', '\"La', 'belle', 'avance,\"', 'pensait', 'Alice,', '\"qu\\'un', 'livre', 'sans', 'images,', 'sans', 'causeries!\".']\n"
     ]
    }
   ],
   "source": [
    "print(texte_alice.split())"
   ]
  },
  {
   "cell_type": "code",
   "execution_count": 14,
   "metadata": {},
   "outputs": [
    {
     "name": "stdout",
     "output_type": "stream",
     "text": [
      "['nom', 'prenom', 'age', 'adresse', 'email', 'telephone']\n"
     ]
    }
   ],
   "source": [
    "entete = \"nom,prenom,age,adresse,email,telephone\"\n",
    "champs = entete.split(\",\")\n",
    "print(champs)"
   ]
  },
  {
   "cell_type": "code",
   "execution_count": 15,
   "metadata": {},
   "outputs": [
    {
     "name": "stdout",
     "output_type": "stream",
     "text": [
      "nom, prenom, age, adresse, email, telephone\n"
     ]
    }
   ],
   "source": [
    "print(\", \".join(champs))"
   ]
  },
  {
   "cell_type": "code",
   "execution_count": 16,
   "metadata": {},
   "outputs": [
    {
     "name": "stdout",
     "output_type": "stream",
     "text": [
      "10, 12, 15, 18, 20\n"
     ]
    }
   ],
   "source": [
    "notes = [10, 12, 15, 18, 20]\n",
    "# print(\", \".join(notes))\n",
    "print(\", \".join(str(note) for note in notes))"
   ]
  },
  {
   "cell_type": "code",
   "execution_count": 18,
   "metadata": {},
   "outputs": [
    {
     "name": "stdout",
     "output_type": "stream",
     "text": [
      "eaooeiooeauoe\n"
     ]
    }
   ],
   "source": [
    "ch1 = \"Les sanglots longs des violons de l'automne\"\n",
    "ch2 = \"\"\n",
    "\n",
    "for lettre in ch1:\n",
    "    if lettre in \"aeiouy\":\n",
    "        ch2 += lettre\n",
    "\n",
    "print(ch2)\n"
   ]
  },
  {
   "cell_type": "code",
   "execution_count": 19,
   "metadata": {},
   "outputs": [
    {
     "name": "stdout",
     "output_type": "stream",
     "text": [
      "eaooeiooeauoe\n"
     ]
    }
   ],
   "source": [
    "ch1 = \"Les sanglots longs des violons de l'automne\"\n",
    "ch2 = \"\".join(lettre for lettre in ch1 if lettre in \"aeiouy\")\n",
    "print(ch2)"
   ]
  },
  {
   "cell_type": "code",
   "execution_count": 20,
   "metadata": {},
   "outputs": [
    {
     "name": "stdout",
     "output_type": "stream",
     "text": [
      "False\n",
      "True\n",
      "True\n",
      "True\n",
      "False\n",
      "False\n",
      "True\n",
      "True\n"
     ]
    }
   ],
   "source": [
    "print(\"Bonjour\".isupper())\n",
    "print(\"bonjour\".islower())\n",
    "print(\"Bonjour\".istitle())\n",
    "print(\"Bonjour\".isalpha())\n",
    "print(\"12/04/21\".isdigit())\n",
    "print(\"12/04/21\".isalnum())\n",
    "print(\"Bonjour\".startswith(\"Bon\"))\n",
    "print(\"Bonjour\".endswith(\"jour\"))\n"
   ]
  },
  {
   "cell_type": "code",
   "execution_count": 22,
   "metadata": {},
   "outputs": [
    {
     "name": "stdout",
     "output_type": "stream",
     "text": [
      "Bonjour John, tu as 30 ans.\n"
     ]
    }
   ],
   "source": [
    "prenom = \"John\"\n",
    "age = 30\n",
    "print(f\"Bonjour {prenom}, tu as {age} ans.\")"
   ]
  },
  {
   "cell_type": "code",
   "execution_count": 23,
   "metadata": {},
   "outputs": [
    {
     "name": "stdout",
     "output_type": "stream",
     "text": [
      "2 pi avec 2 chiffres après la virgule 6.28\n"
     ]
    }
   ],
   "source": [
    "from math import pi\n",
    "\n",
    "print(f\"2 pi avec 2 chiffres après la virgule {2*pi:.2f}\")\n"
   ]
  },
  {
   "cell_type": "code",
   "execution_count": 27,
   "metadata": {},
   "outputs": [
    {
     "name": "stdout",
     "output_type": "stream",
     "text": [
      "0021\n",
      "021.00\n",
      "Marie      --    Dupont    --      124 €\n",
      "Jean       --  Martineau   --     1250 €\n"
     ]
    }
   ],
   "source": [
    "x = 21\n",
    "\n",
    "print(f\"{x:04d}\")  # 4 caractères avec des 0 au début\n",
    "\n",
    "y = 0.123456789\n",
    "\n",
    "print(\n",
    "    f\"{x:06.2f}\"\n",
    ")  # 6 chiffres au total, 2 chiffres après la virgule, complété par des 0 à gauche\n",
    "\n",
    "comptes = [(\"Marie\", \"Dupont\", 124), (\"Jean\", \"Martineau\", 1250)]\n",
    "for prenom, nom, solde in comptes:\n",
    "    print(f\"{prenom:<10} -- {nom:^12} -- {solde:>8} €\")"
   ]
  },
  {
   "cell_type": "markdown",
   "metadata": {},
   "source": [
    "## Tuples\n"
   ]
  },
  {
   "cell_type": "code",
   "execution_count": 28,
   "metadata": {},
   "outputs": [],
   "source": [
    "t1 = (1, 4, \"bonjour\", 4.6)\n",
    "t2 = ()  # un tuple vide\n",
    "t3 = (\"a\",)  # un tuple à 1 élément (la virgule est obligatoire)"
   ]
  },
  {
   "cell_type": "code",
   "execution_count": 31,
   "metadata": {},
   "outputs": [
    {
     "name": "stdout",
     "output_type": "stream",
     "text": [
      "(0, 3, 6, 9, 12, 15, 18)\n"
     ]
    }
   ],
   "source": [
    "t = tuple(i for i in range(20) if i % 3 == 0)\n",
    "print(t)"
   ]
  },
  {
   "cell_type": "code",
   "execution_count": 30,
   "metadata": {},
   "outputs": [
    {
     "name": "stdout",
     "output_type": "stream",
     "text": [
      "True\n",
      "4\n",
      "False\n",
      "True\n",
      "4\n",
      "(4, 'bonjour')\n",
      "(1, 4, 'bonjour', 4.6, 'a')\n",
      "('a', 'a', 'a', 'a')\n",
      "3\n",
      "12\n"
     ]
    }
   ],
   "source": [
    "t1 = (1, 4, \"bonjour\", 4.6)  # création d'un tuple\n",
    "t2 = ()\n",
    "print(\"bonjour\" in t1)  # appartenance\n",
    "print(len(t1))  # longueur\n",
    "print(t1 == t2)  # test d'égalité\n",
    "print((1, 4, 5) < (2, 2, 2))  # relation d'ordre\n",
    "print(t1[1])  # extraction d'un élément\n",
    "print(t1[1:3])  # extraction d'un sous-tuple\n",
    "t3 = (\"a\",)\n",
    "print(t1 + t3)  # concaténation\n",
    "print(t3 * 4)  # duplication\n",
    "t = (5, 3, 9, 12)\n",
    "print(min(t))  # minimum\n",
    "print(max(t))  # maximum"
   ]
  },
  {
   "cell_type": "markdown",
   "metadata": {},
   "source": [
    "## Listes\n"
   ]
  },
  {
   "cell_type": "code",
   "execution_count": 32,
   "metadata": {},
   "outputs": [
    {
     "name": "stdout",
     "output_type": "stream",
     "text": [
      "[0, 3, 6, 9, 12, 15, 18]\n"
     ]
    }
   ],
   "source": [
    "lst = [i for i in range(20) if i % 3 == 0]\n",
    "print(lst)"
   ]
  },
  {
   "cell_type": "code",
   "execution_count": 33,
   "metadata": {},
   "outputs": [
    {
     "name": "stdout",
     "output_type": "stream",
     "text": [
      "False\n",
      "4\n",
      "False\n",
      "2\n",
      "[2, 3]\n",
      "[1, 2, 3, 4, 10, 20, 30, 40]\n",
      "[1, 2, 3, 4, 1, 2, 3, 4, 1, 2, 3, 4]\n",
      "1\n",
      "40\n"
     ]
    }
   ],
   "source": [
    "lst1 = [1, 2, 3, 4]\n",
    "lst2 = [10, 20, 30, 40]\n",
    "print(15 in lst2)  # appartenance\n",
    "print(len(lst1))  # longueur\n",
    "print(lst1 == lst2)  # test d'égalité\n",
    "print(lst1[1])  # extraction d'un élément\n",
    "print(lst1[1:3])  # extraction d'un sous-tuple\n",
    "print(lst1 + lst2)  # concaténation\n",
    "print(lst1 * 3)  # duplication\n",
    "print(min(lst1))  # minimum\n",
    "print(max(lst2))  # maximum"
   ]
  }
 ],
 "metadata": {
  "kernelspec": {
   "display_name": "Python 3",
   "language": "python",
   "name": "python3"
  },
  "language_info": {
   "codemirror_mode": {
    "name": "ipython",
    "version": 3
   },
   "file_extension": ".py",
   "mimetype": "text/x-python",
   "name": "python",
   "nbconvert_exporter": "python",
   "pygments_lexer": "ipython3",
   "version": "3.11.4"
  },
  "orig_nbformat": 4
 },
 "nbformat": 4,
 "nbformat_minor": 2
}
