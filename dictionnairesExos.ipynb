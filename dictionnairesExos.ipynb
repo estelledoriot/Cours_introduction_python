{
 "cells": [
  {
   "attachments": {},
   "cell_type": "markdown",
   "metadata": {},
   "source": [
    "**Estelle Doriot**\n",
    "\n",
    "_NSI 1ère_\n",
    "\n",
    "---\n",
    "\n",
    "# Exercices : Dictionnaires\n",
    "\n",
    "---\n"
   ]
  },
  {
   "attachments": {},
   "cell_type": "markdown",
   "metadata": {},
   "source": [
    "### Exercice n°1\n",
    "\n",
    "On donne le dictionnaire suivant :\n",
    "\n",
    "```python\n",
    "turing = {'nom':'Turing', 'prenoms':('Alan','Mathison'), 'nationalite':'anglaise', 'naissance' : 1912, 'mort':1954}\n",
    "```\n",
    "\n",
    "1. Afficher les prénoms de Turing.\n"
   ]
  },
  {
   "cell_type": "code",
   "execution_count": 1,
   "metadata": {},
   "outputs": [
    {
     "name": "stdout",
     "output_type": "stream",
     "text": [
      "('Alan', 'Mathison')\n"
     ]
    }
   ],
   "source": [
    "turing = {\n",
    "    \"nom\": \"Turing\",\n",
    "    \"prenoms\": (\"Alan\", \"Mathison\"),\n",
    "    \"nationalite\": \"anglaise\",\n",
    "    \"naissance\": 1912,\n",
    "    \"mort\": 1954,\n",
    "}\n",
    "\n",
    "print(turing[\"prenoms\"])"
   ]
  },
  {
   "attachments": {},
   "cell_type": "markdown",
   "metadata": {},
   "source": [
    "2. Afficher sa nationalité.\n"
   ]
  },
  {
   "cell_type": "code",
   "execution_count": 2,
   "metadata": {},
   "outputs": [
    {
     "name": "stdout",
     "output_type": "stream",
     "text": [
      "anglaise\n"
     ]
    }
   ],
   "source": [
    "print(turing[\"nationalite\"])"
   ]
  },
  {
   "attachments": {},
   "cell_type": "markdown",
   "metadata": {},
   "source": [
    "3. Déterminer l'âge qu'avait Alan Turing à sa mort.\n"
   ]
  },
  {
   "cell_type": "code",
   "execution_count": 3,
   "metadata": {},
   "outputs": [
    {
     "name": "stdout",
     "output_type": "stream",
     "text": [
      "42\n"
     ]
    }
   ],
   "source": [
    "print(turing[\"mort\"] - turing[\"naissance\"])"
   ]
  },
  {
   "attachments": {},
   "cell_type": "markdown",
   "metadata": {},
   "source": [
    "### Exercice n°2\n",
    "\n",
    "Le personnage d'un jeu vidéo possède dans un sac un ensemble d'objets, chacun possédant un poids en kilogramme. Cet ensemble est modélisé par le dictionnaire `sac`. On suppose qu'à un moment donné, le personnage possède le sac suivant : `sac = {\"potion\":0.01, \"pain\":1, \"couverture\":2, \"couteau\":0.2, \"or\":0.1}`.\n",
    "\n",
    "1. Quel code Python permet de savoir la masse d'or présente dans le sac ?\n"
   ]
  },
  {
   "cell_type": "code",
   "execution_count": 4,
   "metadata": {},
   "outputs": [
    {
     "name": "stdout",
     "output_type": "stream",
     "text": [
      "0.1\n"
     ]
    }
   ],
   "source": [
    "sac = {\"potion\": 0.01, \"pain\": 1, \"couverture\": 2, \"couteau\": 0.2, \"or\": 0.1}\n",
    "\n",
    "print(sac[\"or\"])"
   ]
  },
  {
   "attachments": {},
   "cell_type": "markdown",
   "metadata": {},
   "source": [
    "2. Le personnage trouve un cristal de roche pesant 300 grammes, cristal qu'il décide de stocker dans son sac. Modifier le sac `sac` en conséquence.\n"
   ]
  },
  {
   "cell_type": "code",
   "execution_count": 5,
   "metadata": {},
   "outputs": [
    {
     "name": "stdout",
     "output_type": "stream",
     "text": [
      "{'potion': 0.01, 'pain': 1, 'couverture': 2, 'couteau': 0.2, 'or': 0.1, 'cristal': 0.3}\n"
     ]
    }
   ],
   "source": [
    "sac[\"cristal\"] = 0.3\n",
    "\n",
    "print(sac)"
   ]
  },
  {
   "attachments": {},
   "cell_type": "markdown",
   "metadata": {},
   "source": [
    "3. Ayant faim, le personnage mange 400 grammes de pain extrait de son sac. Modifier le sac `sac` en conséquence.\n"
   ]
  },
  {
   "cell_type": "code",
   "execution_count": 6,
   "metadata": {},
   "outputs": [
    {
     "name": "stdout",
     "output_type": "stream",
     "text": [
      "{'potion': 0.01, 'pain': 0.6, 'couverture': 2, 'couteau': 0.2, 'or': 0.1, 'cristal': 0.3}\n"
     ]
    }
   ],
   "source": [
    "sac[\"pain\"] -= 0.4\n",
    "\n",
    "print(sac)"
   ]
  },
  {
   "attachments": {},
   "cell_type": "markdown",
   "metadata": {},
   "source": [
    "4. Combien d'objets différents contient le sac du personnage finalement ?\n"
   ]
  },
  {
   "cell_type": "code",
   "execution_count": 7,
   "metadata": {},
   "outputs": [
    {
     "name": "stdout",
     "output_type": "stream",
     "text": [
      "6\n"
     ]
    }
   ],
   "source": [
    "print(len(sac))\n"
   ]
  },
  {
   "attachments": {},
   "cell_type": "markdown",
   "metadata": {},
   "source": [
    "### Exercice n°3\n",
    "\n",
    "L'ensemble des moyennes obtenues lors d'un trimestre par Bob apparaissent dans le dictionnaire suivant :\n",
    "\n",
    "```python\n",
    "moyennes = {\"nsi\":18, \"maths\":17, \"svt\":14, \"français\":14, \"lv1\":8, \"physique\":12 ,\"HG\":11}\n",
    "```\n",
    "\n",
    "Déterminer la moyenne de Bob en créant une fonction `moy(notes:dict) -> float` qui prend en paramètre un dictionnaire `notes` dont les valeurs sont des nombres et qui renvoie la moyenne de ces nombres.\n"
   ]
  },
  {
   "cell_type": "code",
   "execution_count": 8,
   "metadata": {},
   "outputs": [
    {
     "name": "stdout",
     "output_type": "stream",
     "text": [
      "13.428571428571429\n"
     ]
    }
   ],
   "source": [
    "def moy(notes: dict) -> float:\n",
    "    \"\"\"calcule la moyenne générale d'un élève dont les moyennes par matière sont données dans un dictionnaire\n",
    "\n",
    "    Args:\n",
    "        notes (dict): un dictionnaire qui donne les moyennes obtenues pour chaque matière\n",
    "\n",
    "    Returns:\n",
    "        float: la moyenne générale des notes de notes\n",
    "    \"\"\"\n",
    "    assert len(notes) != 0\n",
    "\n",
    "    total = 0\n",
    "    for value in notes.values():\n",
    "        total += value\n",
    "    return total / len(notes)\n",
    "\n",
    "\n",
    "moyennes = {\n",
    "    \"nsi\": 18,\n",
    "    \"maths\": 17,\n",
    "    \"svt\": 14,\n",
    "    \"français\": 14,\n",
    "    \"lv1\": 8,\n",
    "    \"physique\": 12,\n",
    "    \"HG\": 11,\n",
    "}\n",
    "print(moy(moyennes))"
   ]
  },
  {
   "attachments": {},
   "cell_type": "markdown",
   "metadata": {},
   "source": [
    "### Exercice n°4\n",
    "\n",
    "Pour rappel, la fonction `ord(lettre)` donne le point de code unicde d'un caractère et `chr(pt)` donne le caractère associé au point de code `pt`. Créer un dictionnaire `alphabet` qui donne le point de code de chaque lettre majuscule.\n"
   ]
  },
  {
   "cell_type": "code",
   "execution_count": 9,
   "metadata": {},
   "outputs": [
    {
     "name": "stdout",
     "output_type": "stream",
     "text": [
      "{'A': 65, 'B': 66, 'C': 67, 'D': 68, 'E': 69, 'F': 70, 'G': 71, 'H': 72, 'I': 73, 'J': 74, 'K': 75, 'L': 76, 'M': 77, 'N': 78, 'O': 79, 'P': 80, 'Q': 81, 'R': 82, 'S': 83, 'T': 84, 'U': 85, 'V': 86, 'W': 87, 'X': 88, 'Y': 89, 'Z': 90}\n"
     ]
    }
   ],
   "source": [
    "alphabet = {chr(i): i for i in range(ord(\"A\"), ord(\"Z\") + 1)}\n",
    "print(alphabet)"
   ]
  },
  {
   "attachments": {},
   "cell_type": "markdown",
   "metadata": {},
   "source": [
    "### Exercice n°5\n",
    "\n",
    "Monsieur Germain prépare sa liste de course avant d'aller faire ses courses pour être sûr de ne pas dépasser son budget. Pour cela, il vérifie les prix de chaque article dans un catalogue.\n",
    "\n",
    "Écrire une fonction `calcul_prix(produits:dict, catalogue:dict) -> float` où :\n",
    "\n",
    "- `produits` est un dictionnaire contenant, comme clés, les produits souhaités par Monsieur Germain et comme valeurs associées, la quantité désirée de chacun d’entre eux,\n",
    "- `catalogue` est un dictionnaire contenant tous les produits du magasin avec leur prix associé.\n",
    "\n",
    "La fonction retourne le montant total des achats de Monsieur Germain.\n",
    "\n",
    "L’appel suivant de la fonction :\n",
    "\n",
    "```python\n",
    "calcul_prix({\"brocoli\":2, \"mouchoirs\":5, \"bouteilles d'eau\":6},\n",
    "            {\"brocoli\":1.50, \"bouteilles d'eau\":1, \"bière\":2,\n",
    "             \"savon\":2.50, \"mouchoirs\":0.80})\n",
    "```\n",
    "\n",
    "doit retourner : `13.0`\n"
   ]
  },
  {
   "cell_type": "code",
   "execution_count": 10,
   "metadata": {},
   "outputs": [],
   "source": [
    "def calcul_prix(produits: dict, catalogue: dict) -> float:\n",
    "    \"\"\"calcul le prix des courses\n",
    "\n",
    "    Args:\n",
    "        produits (dict): les produits que veut acheter Monsieur Germain avec leur quantité\n",
    "        catalogue (dict): les produits disponibles avec le prix de chaque produit\n",
    "\n",
    "    Returns:\n",
    "        float: le prix total des courses de Monsieur Germain\n",
    "    \"\"\"\n",
    "    total = 0\n",
    "    for objet, qté in produits.items():\n",
    "        total += qté * catalogue[objet]\n",
    "    return total\n",
    "\n",
    "\n",
    "assert (\n",
    "    calcul_prix(\n",
    "        {\"brocoli\": 2, \"mouchoirs\": 5, \"bouteilles d'eau\": 6},\n",
    "        {\n",
    "            \"brocoli\": 1.50,\n",
    "            \"bouteilles d'eau\": 1,\n",
    "            \"bière\": 2,\n",
    "            \"savon\": 2.50,\n",
    "            \"mouchoirs\": 0.80,\n",
    "        },\n",
    "    )\n",
    "    == 13.0\n",
    ")"
   ]
  },
  {
   "attachments": {},
   "cell_type": "markdown",
   "metadata": {},
   "source": [
    "### Exercice n°6\n",
    "\n",
    "Écrire une fonction `extremes(nombres:list) -> dict` qui prend en paramètre une liste `nombres` de nombres a priori non triés, et qui renvoie la plus petite ainsi que la plus grande valeur de la liste sous la forme d'un dictionnaire à deux clés 'min' et 'max'. Si la liste est vide, les extrêmes n'existent pas ; on utilisera alors `None` pour chacun. On n'utilisera pas les fonctions `min` et `max` fournies par le langage.\n"
   ]
  },
  {
   "cell_type": "code",
   "execution_count": 11,
   "metadata": {},
   "outputs": [],
   "source": [
    "def extremes(nombres: list) -> dict:\n",
    "    \"\"\"détermine le minimum et le maximum des valeurs d'une liste\n",
    "\n",
    "    Args:\n",
    "        nombres (list): une liste de nombres\n",
    "\n",
    "    Returns:\n",
    "        dict: dictionnaire contenant le minimum et le maximum des valeurs de nombres\n",
    "    \"\"\"\n",
    "    min_max = {\"min\": None, \"max\": None}\n",
    "    for n in nombres:\n",
    "        if min_max[\"min\"] is None or n < min_max[\"min\"]:\n",
    "            min_max[\"min\"] = n\n",
    "        if min_max[\"max\"] is None or n > min_max[\"max\"]:\n",
    "            min_max[\"max\"] = n\n",
    "    return min_max\n",
    "\n",
    "\n",
    "assert extremes([0, 1, 4, 2, -2, 9, 3, 1, 7, 1]) == {\"min\": -2, \"max\": 9}\n",
    "assert extremes([37, 37]) == {\"min\": 37, \"max\": 37}\n",
    "assert extremes([]) == {\"min\": None, \"max\": None}"
   ]
  },
  {
   "attachments": {},
   "cell_type": "markdown",
   "metadata": {},
   "source": [
    "### Exercice n°7\n",
    "\n",
    "Une couleur en HTML est représentée par une chaine de caractères de sept caractères dont le premier est `'#'` ; les six autres, groupés 2 par 2 forment 3 entiers en hexadécimal (base 16). Le premier entier est la quantité de rouge ; le deuxième la quantité de vert et le troisième est la quantité de bleu. Ces trois valeurs hexadécimales sont comprises entre `\"00\"` et `\"FF\"`.\n",
    "\n",
    "Une autre façon de représenter une couleur est par un triplet $(r, v, b)$ de valeurs décimales comprises entre 0 et 255 : $r$ est la quantité de rouge, $v$ la quantité de vert et $b$ la quantité de bleu.\n",
    "\n",
    "On souhaite écrire une fonction `html_vers_rvb(html:str) -> tuple` qui prend une chaine de caractères représentant une couleur HTML en paramètre et qui renvoie le triplet de décimaux $(r, v, b)$ représentant la même couleur.\n",
    "\n",
    "On rappelle les valeurs décimales des 16 chiffres hexadécimaux sont : '0' vaut $0$, jusqu'à '9' qui vaut $9$, puis 'A' vaut $10$, 'B' vaut $11$ ainsi de suite jusqu'à 'F' qui vaut $15$.\n",
    "\n",
    "1. Compléter le dictionnaire `HEX_DEC` qui donne les valeurs décimales des chiffres hexadécimaux.\n"
   ]
  },
  {
   "cell_type": "code",
   "execution_count": 12,
   "metadata": {},
   "outputs": [],
   "source": [
    "HEX_DEC = {\n",
    "    \"0\": 0,\n",
    "    \"1\": 1,\n",
    "    \"2\": 2,\n",
    "    \"3\": 3,\n",
    "    \"4\": 4,\n",
    "    \"5\": 5,\n",
    "    \"6\": 6,\n",
    "    \"7\": 7,\n",
    "    \"8\": 8,\n",
    "    \"9\": 9,\n",
    "    \"A\": 10,\n",
    "    \"B\": 11,\n",
    "    \"C\": 12,\n",
    "    \"D\": 13,\n",
    "    \"E\": 14,\n",
    "    \"F\": 15,\n",
    "}"
   ]
  },
  {
   "attachments": {},
   "cell_type": "markdown",
   "metadata": {},
   "source": [
    "2. Écrire la définition de la fonction `hex_int(a:str, b:str) -> int` qui prend deux chaines d'un caractère en paramètres `a` et `b` ; de sorte que $(ab)_{16}$ est un entier en hexadécimal et renvoie la valeur décimale associée.\n"
   ]
  },
  {
   "cell_type": "code",
   "execution_count": 13,
   "metadata": {},
   "outputs": [],
   "source": [
    "def hex_int(a: str, b: str) -> int:\n",
    "    \"\"\"convertit un nombre hexadécimal en décimal\n",
    "\n",
    "    Args:\n",
    "        a (str): chiffre des seizaines en hexadécimal\n",
    "        b (str): chiffre des unités en hexadécimal\n",
    "\n",
    "    Returns:\n",
    "        int: (ab)_16 converti en décimal\n",
    "    \"\"\"\n",
    "    return HEX_DEC[a] * 16 + HEX_DEC[b]\n",
    "\n",
    "\n",
    "assert hex_int(\"B\", \"5\") == 181\n",
    "assert hex_int(\"0\", \"0\") == 0"
   ]
  },
  {
   "attachments": {},
   "cell_type": "markdown",
   "metadata": {},
   "source": [
    "3. Écrire la définition de la fonction `html_vers_rvb(html:str) -> tuple` en vous servant de la fonction précédente.\n"
   ]
  },
  {
   "cell_type": "code",
   "execution_count": 14,
   "metadata": {},
   "outputs": [],
   "source": [
    "def html_vers_rvb(html: str) -> tuple:\n",
    "    \"\"\"convertit une couleur en HTML en RVB\n",
    "\n",
    "    Args:\n",
    "        html (str): couleur en HTML\n",
    "\n",
    "    Returns:\n",
    "        tuple: couleur en RVB\n",
    "    \"\"\"\n",
    "    return (\n",
    "        hex_int(html[1], html[2]),\n",
    "        hex_int(html[3], html[4]),\n",
    "        hex_int(html[5], html[6]),\n",
    "    )\n",
    "\n",
    "\n",
    "assert html_vers_rvb(\"#C0392B\") == (192, 57, 43)\n",
    "assert html_vers_rvb(\"#00FF00\") == (0, 255, 0)\n",
    "assert html_vers_rvb(\"#000000\") == (0, 0, 0)"
   ]
  },
  {
   "attachments": {},
   "cell_type": "markdown",
   "metadata": {},
   "source": [
    "### Exercice n°8 : Anagramme\n",
    "\n",
    "1. Pour compter le nombre de fois que chaque caractère apparaît dans une phrase, écrire une fonction `occurrence_caracteres(phrase:str) -> dict` qui prend en paramètre une chaîne de caractères `phrase` et qui renvoie un dictionnaire dont les clés sont les caractères présents dans `phrase` et les valeurs sont le nombre de fois que ce caractère est présent dans `phrase`.\n"
   ]
  },
  {
   "cell_type": "code",
   "execution_count": 15,
   "metadata": {},
   "outputs": [],
   "source": [
    "def occurrence_caracteres(phrase: str) -> dict:\n",
    "    \"\"\"calcule le nombre d'occurrence de chaque caractère d'une phrase\n",
    "\n",
    "    Args:\n",
    "        phrase (str): une phrase\n",
    "\n",
    "    Returns:\n",
    "        dict: nombre d'occurrence de chaque caractère de phrase\n",
    "    \"\"\"\n",
    "    d = {}\n",
    "    for c in phrase:\n",
    "        if c not in d:\n",
    "            d[c] = 1\n",
    "        else:\n",
    "            d[c] += 1\n",
    "    return d\n",
    "\n",
    "\n",
    "assert occurrence_caracteres(\"Bonjour à tous !\") == {\n",
    "    \"B\": 1,\n",
    "    \"o\": 3,\n",
    "    \"n\": 1,\n",
    "    \"j\": 1,\n",
    "    \"u\": 2,\n",
    "    \"r\": 1,\n",
    "    \" \": 3,\n",
    "    \"à\": 1,\n",
    "    \"t\": 1,\n",
    "    \"s\": 1,\n",
    "    \"!\": 1,\n",
    "}\n",
    "assert occurrence_caracteres(\"ababbab\") == {\"a\": 3, \"b\": 4}"
   ]
  },
  {
   "attachments": {},
   "cell_type": "markdown",
   "metadata": {},
   "source": [
    "2. Une anagramme est un mot ou une expression obtenu en permutant les lettres d'un mot ou d'une expression de départ. Par exemple, \"gare\" est une anagramme de \"rage\". Ecrire une fonction `anagramme(mot1:str, mot2:str) -> bool` qui renvoie `True` si `mot1` est une anagramme de `mot2`. On pourra réutiliser la fonction écrite à la question précédente.\n"
   ]
  },
  {
   "cell_type": "code",
   "execution_count": 16,
   "metadata": {},
   "outputs": [],
   "source": [
    "def anagramme(mot1: str, mot2: str) -> bool:\n",
    "    \"\"\"détermine si deux mots sont des anagrammes l'un de l'autre\n",
    "\n",
    "    Args:\n",
    "        mot1 (str): un mot\n",
    "        mot2 (str): un mot\n",
    "\n",
    "    Returns:\n",
    "        bool: True si mot1 est une anagramme de mot2\n",
    "    \"\"\"\n",
    "    return occurrence_caracteres(mot1) == occurrence_caracteres(mot2)\n",
    "\n",
    "\n",
    "assert anagramme(\"gare\", \"rage\")"
   ]
  },
  {
   "attachments": {},
   "cell_type": "markdown",
   "metadata": {},
   "source": [
    "### Exercice n°9\n",
    "\n",
    "La fréquence d'apparition d'une lettre dans un texte ou une phrase est le pourcentage\n",
    "donné selon la formule :\n",
    "\n",
    "$\\text{fréquence d'apparition d'une lettre} = \\frac{\\text{nombre d'occurrences de la lettre} \\times 100}{\\text{nombre total de lettres}}$\n",
    "\n",
    "Par exemple, la phrase ESPRIT ES TU LA contient 12 lettres; la lettre E y apparaît 2 fois. La fréquence d'apparition de E dans cette phrase est donc : $f = \\frac{2 \\times 100}{12} = 16.66$\n",
    "\n",
    "1. Ecrire une fonction `frequence_lettres(message:str) -> dict` qui prend en argument une chaîne de caractères et qui renvoie un dictionnaire contenant les fréquences des lettres.\n"
   ]
  },
  {
   "cell_type": "code",
   "execution_count": 17,
   "metadata": {},
   "outputs": [
    {
     "name": "stdout",
     "output_type": "stream",
     "text": [
      "{'A': 8.333333333333334, 'B': 0.0, 'C': 0.0, 'D': 0.0, 'E': 16.666666666666668, 'F': 0.0, 'G': 0.0, 'H': 0.0, 'I': 8.333333333333334, 'J': 0.0, 'K': 0.0, 'L': 8.333333333333334, 'M': 0.0, 'N': 0.0, 'O': 0.0, 'P': 8.333333333333334, 'Q': 0.0, 'R': 8.333333333333334, 'S': 16.666666666666668, 'T': 16.666666666666668, 'U': 8.333333333333334, 'V': 0.0, 'W': 0.0, 'X': 0.0, 'Y': 0.0, 'Z': 0.0}\n"
     ]
    }
   ],
   "source": [
    "def frequence_lettres(message: str) -> dict:\n",
    "    \"\"\"caclcule la fréquence des lettres dans une chaîne de caractères\n",
    "\n",
    "    Args:\n",
    "        message (str): une chaine de caractères\n",
    "\n",
    "    Returns:\n",
    "        dict: dictionnaire des fréquences de lettres dans message\n",
    "    \"\"\"\n",
    "    freq = {chr(i): 0 for i in range(ord(\"A\"), ord(\"Z\") + 1)}\n",
    "    total = 0\n",
    "\n",
    "    for lettre in message:\n",
    "        if lettre != \" \":\n",
    "            total += 1\n",
    "            freq[lettre] += 1\n",
    "\n",
    "    return {key: freq[key] * 100 / total for key in freq}\n",
    "\n",
    "\n",
    "print(frequence_lettres(\"ESPRIT ES TU LA\"))"
   ]
  },
  {
   "attachments": {},
   "cell_type": "markdown",
   "metadata": {},
   "source": [
    "2. Voici la fréquence d'apparition des lettres selon la langue utilisée :\n",
    "\n",
    "| Lettre | Anglais | Français | Allemand | Espagnol |\n",
    "| ------ | ------- | -------- | -------- | -------- |\n",
    "| a      | 8.167%  | 8.173%   | 7.094%   | 12.027%  |\n",
    "| b      | 1.492%  | 0.901%   | 1.886%   | 2.215%   |\n",
    "| c      | 2.782%  | 3.345%   | 2.732%   | 4.019%   |\n",
    "| d      | 4.253%  | 3.669%   | 5.076%   | 5.010%   |\n",
    "| e      | 12.702% | 16.734%  | 16.396%  | 12.614%  |\n",
    "| f      | 2.228%  | 1.066%   | 1.656%   | 0.692%   |\n",
    "| g      | 2.015%  | 0.866%   | 3.009%   | 1.768%   |\n",
    "| h      | 6.094%  | 0.737%   | 4.577%   |  0.703%  |\n",
    "| i      | 6.966%  | 7.579%   | 6.550%   | 6.972%   |\n",
    "| j      | 0.153%  | 0.613%   | 0.268%   | 0.493%   |\n",
    "| k      | 0.772%  | 0.049%   | 1.417%   | 0.011%   |\n",
    "| l      | 4.025%  | 5.456%   | 3.437%   | 4.967%   |\n",
    "| m      | 2.406%  | 2.968%   | 2.534%   | 3.157%   |\n",
    "| n      | 6.749%  | 7.095%   | 9.776%   | 7.023%   |\n",
    "| o      | 7.507%  | 5.819%   | 3.037%   | 9.510%   |\n",
    "| p      | 1.929%  | 2.521%   | 0.670%   | 2.510%   |\n",
    "| q      | 0.095%  | 1.362%   | 0.018%   | 0.877%   |\n",
    "| r      | 5.987%  | 6.693%   | 7.003%   | 6.871%   |\n",
    "| s      | 6.327%  | 7.948%   | 7.577%   | 7.977%   |\n",
    "| t      | 9.056%  | 7.244%   | 6.154%   | 4.632%   |\n",
    "| u      | 2.758%  | 6.429%   | 5.161%   | 3.107%   |\n",
    "| v      | 0.978%  | 1.838%   | 0.846%   | 1.138%   |\n",
    "| w      | 2.360%  | 0.074%   | 1.921%   | 0.017%   |\n",
    "| x      | 0.150%  | 0.427%   | 0.034%   | 0.215%   |\n",
    "| y      | 1.974%  | 0.128%   | 0.039%   | 1.008%   |\n",
    "| z      | 0.074%  | 0.326%   | 1.134%   | 0.467%   |\n",
    "\n",
    "Dans quelles langues ont été écrits les quatre textes suivants (les lettres de\n",
    "chaque mot ont été mélangées).\n",
    "\n",
    "```python\n",
    "texte1 = \"TMAIER BERACUO RSU NU REBRA PRCEEH EIANTT NE ONS EBC NU GAOFREM EIMATR RERNAD APR L RDUOE LAHECLE UILTTNI A EUP SREP EC LGNGAEA TE RBONUJO ERMNOUSI DU UBRACEO QUE OVSU EEST LIJO UOE OUVS EM MSZELBE BAEU ASNS MIERNT IS RVETO AGRAME ES PRARPTOEA OEVTR AMGUPLE VUOS SEET EL PNIHXE DSE OSHET ED CSE BIOS A ESC MSOT LE OUBRCEA NE ES ESTN ASP DE IEJO TE OUPR ERRNOTM AS BELEL XOVI IL, OREVU NU RGLEA ECB ILESSA EBOMTR AS PIOER EL NRDAER S EN ISIAST TE ITD MNO NOB EUSRMNOI NRPEEAZP QEU UTOT EUTLRETA IVT XUA SPNEDE DE UECIL UOI L TECEOU TECET NEOCLVATU BNEI UN GMAEORF SNAS TUOED LE EOABURC OHENTXU TE NSCOFU UJRA SMIA UN EPU TRDA UO NO EN L Y ARRPEIDNT ULSP\"\n",
    "\n",
    "texte2 = \"WRE TREITE SO TSPA CUDHR AHNCT UND WIND SE STI RED AEVRT M'TI ESEIMN IDNK RE ATH END NEABNK WLOH NI EMD AMR ER AFTSS HIN IHSERC RE AHTL HIN MRWA EINM SHNO SAW SRTIBG UD SONGBA DNEI EIHSGTC ESISTH RAETV UD DEN LERNIOKG NITHC NDE LOENINKGRE TIM OKRN UDN CHWFSEI NEIM NSOH ES STI IEN BIFTRISEEEN DU BILESE IKDN OMKM EHG MIT MIR RAG ECHNOS EPELSI EIPSL IHC ITM RDI HNCMA BEUTN MBLUNE DINS NA DEM TNDRAS NMIEE UTETMMR AHT CAMHN UDNGEL GDAWEN MIEN EATRV MENI VEART DUN OSTHER DU CINTH SAW KNNOEIREGL RIM ILEES PRSTVRCIEH ISE IHGRU BEEILB RIGUH MNEI KNDI NI RDNEUR NATBRLET STAESUL EDR WNID\"\n",
    "\n",
    "texte3 = \"DSNOACAIF ORP ANU DAEDALRI DNAAEIMTI EQU NNCOSETE EL RSTEOUL SMA AACTFAITMNS UOE LE TSVAO OINSRVUE DEU S ANIGIICANOM EIORDP TOOD RTEIENS RPO LE ITOABOLRROA ED OIUAMALI USOP A NSSRCAEADLA TMREAAINXTADAUEE ROP GOARLS EMESS DE NNAMICLUIAPO Y LOVOIV A RES LE RHMEOB EOMDNEERPRD DE LOS RSOPMRIE OMTSIPE UEQ CUIDADE LE RTDAAOZ ED LSA CELSAL Y LA NICOIOPS ED LAS UESVNA SSACA Y ES ITRMNEEOD QEU AERFU EL UEQIN IIIRDEGAR LA. NAIORTREICP DE AL RRTEIA\"\n",
    "\n",
    "texte4 = \"IMTRUESMME DNA TEH LNGIIV SI EYAS SIFH REA GJPNUIM DNA HET TTNOCO IS GHIH OH OUYR DDADY SI IRHC DAN ROUY MA SI DOGO GKOILON OS USHH LTLIET BBYA NDOT OUY CYR NEO OF HESET GNSRONIM YUO RE NANGO SIER PU SNIGING NAD OULLY EPADRS YUOR GINSW DAN LYOLU KATE OT HET KSY TUB ITLL TATH MGNIRNO EREHT NATI INTGOHN ACN AHMR OYU TWIH DADYD NDA MYMMA NSTIDGAN YB\"\n",
    "```\n"
   ]
  },
  {
   "cell_type": "code",
   "execution_count": 18,
   "metadata": {},
   "outputs": [
    {
     "name": "stdout",
     "output_type": "stream",
     "text": [
      "français\n",
      "allemand\n",
      "espagnol\n",
      "anglais\n"
     ]
    }
   ],
   "source": [
    "freq_en = {\n",
    "    \"A\": 8.167,\n",
    "    \"B\": 1.492,\n",
    "    \"C\": 2.782,\n",
    "    \"D\": 4.253,\n",
    "    \"E\": 12.702,\n",
    "    \"F\": 2.228,\n",
    "    \"G\": 2.015,\n",
    "    \"H\": 6.094,\n",
    "    \"I\": 6.966,\n",
    "    \"J\": 0.153,\n",
    "    \"K\": 0.772,\n",
    "    \"L\": 4.025,\n",
    "    \"M\": 2.406,\n",
    "    \"N\": 6.749,\n",
    "    \"O\": 7.507,\n",
    "    \"P\": 1.929,\n",
    "    \"Q\": 0.095,\n",
    "    \"R\": 5.987,\n",
    "    \"S\": 6.327,\n",
    "    \"T\": 9.056,\n",
    "    \"U\": 2.758,\n",
    "    \"V\": 0.978,\n",
    "    \"W\": 2.360,\n",
    "    \"X\": 0.150,\n",
    "    \"Y\": 1.974,\n",
    "    \"Z\": 0.074,\n",
    "}\n",
    "\n",
    "freq_fr = {\n",
    "    \"A\": 8.173,\n",
    "    \"B\": 0.901,\n",
    "    \"C\": 3.345,\n",
    "    \"D\": 3.669,\n",
    "    \"E\": 16.734,\n",
    "    \"F\": 1.066,\n",
    "    \"G\": 0.866,\n",
    "    \"H\": 0.737,\n",
    "    \"I\": 7.579,\n",
    "    \"J\": 0.613,\n",
    "    \"K\": 0.049,\n",
    "    \"L\": 5.456,\n",
    "    \"M\": 2.968,\n",
    "    \"N\": 7.095,\n",
    "    \"O\": 5.819,\n",
    "    \"P\": 2.521,\n",
    "    \"Q\": 1.362,\n",
    "    \"R\": 6.693,\n",
    "    \"S\": 7.948,\n",
    "    \"T\": 7.244,\n",
    "    \"U\": 6.429,\n",
    "    \"V\": 1.838,\n",
    "    \"W\": 0.074,\n",
    "    \"X\": 0.427,\n",
    "    \"Y\": 0.128,\n",
    "    \"Z\": 0.326,\n",
    "}\n",
    "\n",
    "freq_de = {\n",
    "    \"A\": 7.094,\n",
    "    \"B\": 1.886,\n",
    "    \"C\": 2.732,\n",
    "    \"D\": 5.076,\n",
    "    \"E\": 16.396,\n",
    "    \"F\": 1.656,\n",
    "    \"G\": 3.009,\n",
    "    \"H\": 4.577,\n",
    "    \"I\": 6.550,\n",
    "    \"J\": 0.268,\n",
    "    \"K\": 1.417,\n",
    "    \"L\": 3.437,\n",
    "    \"M\": 2.534,\n",
    "    \"N\": 9.776,\n",
    "    \"O\": 3.037,\n",
    "    \"P\": 0.670,\n",
    "    \"Q\": 0.018,\n",
    "    \"R\": 7.003,\n",
    "    \"S\": 7.577,\n",
    "    \"T\": 6.154,\n",
    "    \"U\": 5.161,\n",
    "    \"V\": 0.846,\n",
    "    \"W\": 1.921,\n",
    "    \"X\": 0.034,\n",
    "    \"Y\": 0.039,\n",
    "    \"Z\": 1.134,\n",
    "}\n",
    "\n",
    "freq_es = {\n",
    "    \"A\": 12.027,\n",
    "    \"B\": 2.215,\n",
    "    \"C\": 4.019,\n",
    "    \"D\": 5.010,\n",
    "    \"E\": 12.614,\n",
    "    \"F\": 0.692,\n",
    "    \"G\": 1.768,\n",
    "    \"H\": 0.703,\n",
    "    \"I\": 6.972,\n",
    "    \"J\": 0.493,\n",
    "    \"K\": 0.011,\n",
    "    \"L\": 4.967,\n",
    "    \"M\": 3.157,\n",
    "    \"N\": 7.023,\n",
    "    \"O\": 9.510,\n",
    "    \"P\": 2.510,\n",
    "    \"Q\": 0.877,\n",
    "    \"R\": 6.871,\n",
    "    \"S\": 7.977,\n",
    "    \"T\": 4.632,\n",
    "    \"U\": 3.107,\n",
    "    \"V\": 1.138,\n",
    "    \"W\": 0.017,\n",
    "    \"X\": 0.215,\n",
    "    \"Y\": 1.008,\n",
    "    \"Z\": 0.467,\n",
    "}\n",
    "\n",
    "\n",
    "def distance2(dico1: dict, dico2: dict) -> float:\n",
    "    \"\"\"calcule la distance au carré entre deux distributions de fréquences de lettres\n",
    "\n",
    "    Args:\n",
    "        dico1 (dict): une distribution de fréquence de lettres\n",
    "        dico2 (dict): une distribution de fréquence de lettres\n",
    "\n",
    "    Returns:\n",
    "        float: distance entre les distributions dico1 et dico2\n",
    "    \"\"\"\n",
    "    alphabet = \"ABSCDEFGHIJKLMNOPQRSTUVWXYZ\"\n",
    "    dist2 = 0\n",
    "    for lettre in alphabet:\n",
    "        dist2 += (dico1[lettre] - dico2[lettre]) ** 2\n",
    "    return dist2\n",
    "\n",
    "\n",
    "texte1 = \"TMAIER BERACUO RSU NU REBRA PRCEEH EIANTT NE ONS EBC NU GAOFREM EIMATR RERNAD APR L RDUOE LAHECLE UILTTNI A EUP SREP EC LGNGAEA TE RBONUJO ERMNOUSI DU UBRACEO QUE OVSU EEST LIJO UOE OUVS EM MSZELBE BAEU A S N SMIERNT IS R E T O AGRAME ES PRARPTOEA OEVTR AMGUPLE VUOS SEET EL PNIHXE DSE OSHET ED CSE BIOS A ESC MSOT LE OUBRCEA NE ES ESTN ASP DE IEJO TE OUPR ERRNOTM AS BELEL XOVI IL OREVU NU RGLEA ECB ILESSA EBOMTR AS PIOER EL NRDAER S EN ISIAST TE ITD MNO NOB EUSRMNOI NRPEEAZP QEU UTOT EUTLRETA IVT XUA SPNEDE DE UECIL UOI L TECEOU TECET NEOCLVATU BNEI UN GMAEORF SNAS TUOED LE EOABURC OHENTXU TE NSCOFU UJRA SMIA UN EPU TRDA UO NO EN L Y ARRPEIDNT ULSP\"\n",
    "\n",
    "texte2 = \"WRE TREITE SO TSPA CUDHR AHNCT UND WIND SE STI RED AEVRT MTI ESEIMN IDNK RE ATH END NEABNK WLOH NI EMD AMR ER AFTSS HIN IHSERC RE AHTL HIN MRWA EINM SHNO SAW SRTIBG UD SONGBA DNEI EIHSGTC ESISTH RAETV UD DEN LERNIOKG NITHC NDE LOENINKGRE TIM OKRN UDN CHWFSEI NEIM NSOH ES STI IEN BIFTRISEEEN DU BILESE IKDN OMKM EHG MIT MIR RAG ECHNOS EPELSI EIPSL IHC ITM RDI HNCMA BEUTN MBLUNE DINS NA DEM TNDRAS NMIEE UTETMMR AHT CAMHN UDNGEL GDAWEN MIEN EATRV MENI VEART DUN OSTHER DU CINTH SAW KNNOEIREGL RIM ILEES PRSTVRCIEH ISE IHGRU BEEILB RIGUH MNEI KNDI NI RDNEUR NATBRLET STAESUL EDR WNID\"\n",
    "\n",
    "texte3 = \"DSNOACAIF ORP ANU DAEDALRI DNAAEIMTI EQU NNCOSETE EL RSTEOUL SMA AACTFAITMNS UOE LE TSVAO OINSRVUE DEU S ANIGIICANOM EIORDP TOOD RTEIENS RPO LE ITOABOLRROA ED OIUAMALI USOP A NSSRCAEADLA TMREAAINXTADAUEE ROP GOARLS EMESS DE NNAMICLUIAPO Y LOVOIV A RES LE RHMEOB EOMDNEERPRD DE LOS RSOPMRIE OMTSIPE UEQ CUIDADE LE RTDAAOZ ED LSA CELSAL Y LA NICOIOPS ED LAS UESVNA SSACA Y ES ITRMNEEOD QEU AERFU EL UEQIN IIIRDEGAR LA NAIORTREICP DE AL RRTEIA\"\n",
    "\n",
    "texte4 = \"IMTRUESMME DNA TEH LNGIIV SI EYAS SIFH REA GJPNUIM DNA HET TTNOCO IS GHIH OH OUYR DDADY SI IRHC DAN ROUY MA SI DOGO GKOILON OS USHH LTLIET BBYA NDOT OUY CYR NEO OF HESET GNSRONIM YUO RE NANGO SIER PU SNIGING NAD OULLY EPADRS YUOR GINSW DAN LYOLU KATE OT HET KSY TUB ITLL TATH MGNIRNO EREHT NATI INTGOHN ACN AHMR OYU TWIH DADYD NDA MYMMA NSTIDGAN YB\"\n",
    "\n",
    "\n",
    "def recherche_langue(texte: str) -> str:\n",
    "    \"\"\"recherche la langue dans laquelle est écrite un texte donné en paramètre\n",
    "\n",
    "    Args:\n",
    "        texte (str): un texte\n",
    "\n",
    "    Returns:\n",
    "        str: la langue du texte\n",
    "    \"\"\"\n",
    "    freq = frequence_lettres(texte)\n",
    "    distances = {\n",
    "        \"anglais\": distance2(freq, freq_en),\n",
    "        \"français\": distance2(freq, freq_fr),\n",
    "        \"allemand\": distance2(freq, freq_de),\n",
    "        \"espagnol\": distance2(freq, freq_es),\n",
    "    }\n",
    "    langue = \"anglais\"\n",
    "    distance = distances[\"anglais\"]\n",
    "    for clé, valeur in distances.items():\n",
    "        if valeur < distance:\n",
    "            langue = clé\n",
    "            distance = valeur\n",
    "    return langue\n",
    "\n",
    "\n",
    "print(recherche_langue(texte1))\n",
    "print(recherche_langue(texte2))\n",
    "print(recherche_langue(texte3))\n",
    "print(recherche_langue(texte4))"
   ]
  },
  {
   "attachments": {},
   "cell_type": "markdown",
   "metadata": {},
   "source": [
    "### Exercice n°10 : Bataille\n",
    "\n",
    "Dans un jeu de cartes de 54 cartes, les cartes sont organisées en 4 couleurs : pique, coeur, carreau, trèfle. On considère que la valeur d'une carte correspond à 2 si c'est un deux, 3 si c'est un trois, ..., 10 pour un dix, 11 pour un valet, 12 pour une dame, 13 pour un roi et 14 pour un as.\n",
    "\n",
    "1. Créer un dictionnaire nommé `valeur_carte` dont les clés sont les noms des cartes (2,3,...,10 , valet, Dame, Roi, As) et les valeurs les valeurs de ces clés. Par exemple votre dictionnaire devra renvoyer :\n",
    "\n",
    "```python\n",
    ">>> valeur_carte['valet']\n",
    "11\n",
    "```\n"
   ]
  },
  {
   "cell_type": "code",
   "execution_count": 19,
   "metadata": {},
   "outputs": [
    {
     "name": "stdout",
     "output_type": "stream",
     "text": [
      "{2: 2, 3: 3, 4: 4, 5: 5, 6: 6, 7: 7, 8: 8, 9: 9, 10: 10, 'valet': 11, 'dame': 12, 'roi': 13, 'as': 14}\n"
     ]
    }
   ],
   "source": [
    "liste_cartes = [2, 3, 4, 5, 6, 7, 8, 9, 10, \"valet\", \"dame\", \"roi\", \"as\"]\n",
    "valeur_carte = {liste_cartes[i]: i + 2 for i in range(len(liste_cartes))}\n",
    "print(valeur_carte)"
   ]
  },
  {
   "attachments": {},
   "cell_type": "markdown",
   "metadata": {},
   "source": [
    "2. Créer un dictionnaire nommé `jeu_carte` dont :\n",
    "   - les clés sont les 52 tuples (nom, couleur) des cartes d'un jeu de 52 cartes : ('2','pique') , ... ,('as','pique'), ('2','coeur'), ... ,('as','coeur')...\n",
    "   - et les valeurs, les valeurs de ces cartes (clés).\n",
    "\n",
    "Par exemple votre dictionnaire devra renvoyer :\n",
    "\n",
    "```python\n",
    ">>> jeu_carte[('dame','pique')]\n",
    "12\n",
    "```\n"
   ]
  },
  {
   "cell_type": "code",
   "execution_count": 20,
   "metadata": {},
   "outputs": [
    {
     "name": "stdout",
     "output_type": "stream",
     "text": [
      "{(2, '♠'): 2, (2, '♥'): 2, (2, '♦'): 2, (2, '♣'): 2, (3, '♠'): 3, (3, '♥'): 3, (3, '♦'): 3, (3, '♣'): 3, (4, '♠'): 4, (4, '♥'): 4, (4, '♦'): 4, (4, '♣'): 4, (5, '♠'): 5, (5, '♥'): 5, (5, '♦'): 5, (5, '♣'): 5, (6, '♠'): 6, (6, '♥'): 6, (6, '♦'): 6, (6, '♣'): 6, (7, '♠'): 7, (7, '♥'): 7, (7, '♦'): 7, (7, '♣'): 7, (8, '♠'): 8, (8, '♥'): 8, (8, '♦'): 8, (8, '♣'): 8, (9, '♠'): 9, (9, '♥'): 9, (9, '♦'): 9, (9, '♣'): 9, (10, '♠'): 10, (10, '♥'): 10, (10, '♦'): 10, (10, '♣'): 10, ('valet', '♠'): 11, ('valet', '♥'): 11, ('valet', '♦'): 11, ('valet', '♣'): 11, ('dame', '♠'): 12, ('dame', '♥'): 12, ('dame', '♦'): 12, ('dame', '♣'): 12, ('roi', '♠'): 13, ('roi', '♥'): 13, ('roi', '♦'): 13, ('roi', '♣'): 13, ('as', '♠'): 14, ('as', '♥'): 14, ('as', '♦'): 14, ('as', '♣'): 14}\n"
     ]
    }
   ],
   "source": [
    "couleurs = (\"♠\", \"♥\", \"♦\", \"♣\")\n",
    "jeu_carte = {\n",
    "    (nom, couleur): valeur\n",
    "    for nom, valeur in valeur_carte.items()\n",
    "    for couleur in couleurs\n",
    "}\n",
    "print(jeu_carte)"
   ]
  },
  {
   "attachments": {},
   "cell_type": "markdown",
   "metadata": {},
   "source": [
    "3. Créer une fonction `bataille(jeu_cartes:dict)` qui va choisir au hasard deux cartes distinctes du jeu, les afficher, comparer leur valeurs et donner la carte gagnante ou le cas d'égalité. On pourra utiliser la fonction `sample(liste, nb)` du module `random` qui choisit `nb` cartes au hasard dans la liste `liste`.\n"
   ]
  },
  {
   "cell_type": "code",
   "execution_count": 21,
   "metadata": {},
   "outputs": [
    {
     "name": "stdout",
     "output_type": "stream",
     "text": [
      "Le joueur 1 a tiré la carte ('as', '♣').\n",
      "Le joueur 2 a tiré la carte ('roi', '♣').\n",
      "Le joueur 1 gagne\n"
     ]
    }
   ],
   "source": [
    "from random import sample\n",
    "\n",
    "\n",
    "def bataille(jeu_cartes: dict) -> None:\n",
    "    \"\"\"joue une bataille entre deux cartes tirées au hasard et affiche la carte gagnante ou l'égalité le cas échéant\n",
    "\n",
    "    Args:\n",
    "        jeu_cartes (dict): un jeu de carte sous forme de dictionnaire où les clés sont des cartes au format (nombre, couleur) et les valeurs sont les valeurs de la carte à la bataille\n",
    "    \"\"\"\n",
    "    tirées = sample(list(jeu_cartes.keys()), 2)\n",
    "    print(f\"Le joueur 1 a tiré la carte {tirées[0]}.\")\n",
    "    print(f\"Le joueur 2 a tiré la carte {tirées[1]}.\")\n",
    "    if jeu_cartes[tirées[0]] == jeu_cartes[tirées[1]]:\n",
    "        print(\"Egalité\")\n",
    "    elif jeu_cartes[tirées[0]] > jeu_cartes[tirées[1]]:\n",
    "        print(\"Le joueur 1 gagne\")\n",
    "    else:\n",
    "        print(\"Le joueur 2 gagne\")\n",
    "\n",
    "\n",
    "bataille(jeu_carte)"
   ]
  },
  {
   "attachments": {},
   "cell_type": "markdown",
   "metadata": {},
   "source": [
    "### Exercice n°11 : Photos\n",
    "\n",
    "Lors de la prise d’une photo avec un appareil photo, des **métadonnées** sont encodés dans le fichier généré (au format compressé JPEG dans de nombreux cas) selon le standard EXIF.\n",
    "Ce standard regroupe un ensemble de clés décrivant des informations sur la photo telles que, par exemple :\n",
    "\n",
    "- la date et l’heure de prise de vue ;\n",
    "- le fabricant et le modèle de l’appareil ;\n",
    "- les dimensions (largeur / hauteur) ;\n",
    "- la résolution (horizontale / verticale) ;\n",
    "- la longueur de focale et autres informations techniques (valeur d’ouverture, flash, etc) ;\n",
    "- le lieu de prise de vue lorsque l’appareil dispose d’un système de localisation.\n",
    "\n",
    "Les valeurs associées à ces clés peuvent être de différents types (entier, séquence de bits, chaîne de caractère voire dictionnaire). Selon les appareils, toutes les valeurs ne sont pas nécessairement renseignées lors de l’écriture des métadonnées.\n",
    "\n",
    "En python, le module `PIL` fournit des méthodes qui permettent de récupérer les données EXIF d’une photo sous la forme d’un dictionnaire.\n",
    "\n",
    "1. a. Importer la photo `image_mystere.jpg` et afficher ses données EXIF en utilisant la méthode `_getexif()` grâce au code ci-dessous:\n",
    "\n",
    "```python\n",
    "import PIL.Image # importation du module Image de PIL\n",
    "\n",
    "img = PIL.Image.open(\"image_mystere.jpg\") # ouverture du fichier jpg\n",
    "exif_dico = img._getexif() # récupération des données EXIF\n",
    "```\n"
   ]
  },
  {
   "cell_type": "code",
   "execution_count": 22,
   "metadata": {},
   "outputs": [
    {
     "name": "stdout",
     "output_type": "stream",
     "text": [
      "\n",
      "Données EXIF :\n",
      "34853 :\t{0: b'\\x02\\x02\\x00\\x00', 1: 'N', 2: (48.0, 50.4225, 0.0), 3: 'E', 4: (2.0, 18.899, 0.0), 6: 55.2454}\n",
      "  296 :\t2\n",
      "34665 :\t228\n",
      "  271 :\tNIKON CORPORATION\n",
      "  272 :\tNIKON D7200\n",
      "  305 :\tAdobe Photoshop Lightroom 6.8 (Windows)\n",
      "  306 :\t2017:02:06 03:10:48\n",
      "  282 :\t300.0\n",
      "  283 :\t300.0\n",
      "36864 :\tb'0230'\n",
      "37377 :\t8.965784\n",
      "37378 :\t3.851999\n",
      "36867 :\t2015:11:30 16:26:55\n",
      "36868 :\t2015:11:30 16:26:55\n",
      "37380 :\t-0.3333333333333333\n",
      "37381 :\t3.8\n",
      "37383 :\t2\n",
      "37384 :\t0\n",
      "37385 :\t16\n",
      "37386 :\t22.0\n",
      "40961 :\t1\n",
      "41987 :\t0\n",
      "41988 :\t1.0\n",
      "41486 :\t2558.6412048339844\n",
      "41487 :\t2558.6412048339844\n",
      "41488 :\t3\n",
      "37521 :\t65\n",
      "37522 :\t65\n",
      "41994 :\t0\n",
      "41996 :\t0\n",
      "41495 :\t2\n",
      "41728 :\tb'\\x03'\n",
      "33434 :\t0.002\n",
      "33437 :\t3.8\n",
      "41729 :\tb'\\x01'\n",
      "34850 :\t4\n",
      "41730 :\tb'\\x02\\x00\\x02\\x00\\x00\\x01\\x01\\x02'\n",
      "41985 :\t0\n",
      "34855 :\t1250\n",
      "41986 :\t0\n",
      "34864 :\t2\n",
      "42033 :\t4325319\n",
      "42034 :\t(18.0, 105.0, 3.5, 5.6)\n",
      "42036 :\t18.0-105.0 mm f/3.5-5.6\n",
      "41989 :\t33\n",
      "41990 :\t0\n",
      "41991 :\t2\n",
      "41992 :\t0\n",
      "41993 :\t0\n"
     ]
    }
   ],
   "source": [
    "import PIL.Image  # importation du module Image de PIL\n",
    "\n",
    "img = PIL.Image.open(\"image_mystere.jpg\")  # ouverture du fichier jpg\n",
    "exif_dico = img._getexif()  # récupération des données EXIF\n",
    "\n",
    "\n",
    "def affiche_dico(dico: dict) -> None:\n",
    "    \"\"\"affiche les métadonnées contenues dans un dictionnaire\n",
    "\n",
    "    Args:\n",
    "        dico (dict): un dictionnaire de métadonnées EXIF\n",
    "    \"\"\"\n",
    "    for clé, valeur in dico.items():\n",
    "        print(f\"{clé:5} :\\t{valeur}\")\n",
    "\n",
    "\n",
    "# affichage des données EXIF\n",
    "print(\"\\nDonnées EXIF :\")\n",
    "affiche_dico(exif_dico)"
   ]
  },
  {
   "attachments": {},
   "cell_type": "markdown",
   "metadata": {},
   "source": [
    "b. Quel est le type des clés du dictionnaire `exif_dico` ?\n",
    "\n",
    "Ce sont des entiers.\n"
   ]
  },
  {
   "attachments": {},
   "cell_type": "markdown",
   "metadata": {},
   "source": [
    "2. Les clés du dictionnaire exif_dico ne renseignent pas quant à la nature des métadonnées enregistrées. Le module `PIL` fournit alors un dictionnaire qui associe à certains de ces nombres entiers une chaîne de caractères « plus éloquente » (comme \"ImageWidth\", \"DateTime\", etc.)\n",
    "\n",
    "   a. Recopier et exécuter le script ci-dessous.\n",
    "\n",
    "```python\n",
    "from PIL.ExifTags import TAGS\n",
    "print(TAGS)\n",
    "```\n"
   ]
  },
  {
   "cell_type": "code",
   "execution_count": 23,
   "metadata": {},
   "outputs": [
    {
     "name": "stdout",
     "output_type": "stream",
     "text": [
      "TAGS des données EXIF :\n",
      "    1 :\tInteropIndex\n",
      "   11 :\tProcessingSoftware\n",
      "  254 :\tNewSubfileType\n",
      "  255 :\tSubfileType\n",
      "  256 :\tImageWidth\n",
      "  257 :\tImageLength\n",
      "  258 :\tBitsPerSample\n",
      "  259 :\tCompression\n",
      "  262 :\tPhotometricInterpretation\n",
      "  263 :\tThresholding\n",
      "  264 :\tCellWidth\n",
      "  265 :\tCellLength\n",
      "  266 :\tFillOrder\n",
      "  269 :\tDocumentName\n",
      "  270 :\tImageDescription\n",
      "  271 :\tMake\n",
      "  272 :\tModel\n",
      "  273 :\tStripOffsets\n",
      "  274 :\tOrientation\n",
      "  277 :\tSamplesPerPixel\n",
      "  278 :\tRowsPerStrip\n",
      "  279 :\tStripByteCounts\n",
      "  280 :\tMinSampleValue\n",
      "  281 :\tMaxSampleValue\n",
      "  282 :\tXResolution\n",
      "  283 :\tYResolution\n",
      "  284 :\tPlanarConfiguration\n",
      "  285 :\tPageName\n",
      "  288 :\tFreeOffsets\n",
      "  289 :\tFreeByteCounts\n",
      "  290 :\tGrayResponseUnit\n",
      "  291 :\tGrayResponseCurve\n",
      "  292 :\tT4Options\n",
      "  293 :\tT6Options\n",
      "  296 :\tResolutionUnit\n",
      "  297 :\tPageNumber\n",
      "  301 :\tTransferFunction\n",
      "  305 :\tSoftware\n",
      "  306 :\tDateTime\n",
      "  315 :\tArtist\n",
      "  316 :\tHostComputer\n",
      "  317 :\tPredictor\n",
      "  318 :\tWhitePoint\n",
      "  319 :\tPrimaryChromaticities\n",
      "  320 :\tColorMap\n",
      "  321 :\tHalftoneHints\n",
      "  322 :\tTileWidth\n",
      "  323 :\tTileLength\n",
      "  324 :\tTileOffsets\n",
      "  325 :\tTileByteCounts\n",
      "  330 :\tSubIFDs\n",
      "  332 :\tInkSet\n",
      "  333 :\tInkNames\n",
      "  334 :\tNumberOfInks\n",
      "  336 :\tDotRange\n",
      "  337 :\tTargetPrinter\n",
      "  338 :\tExtraSamples\n",
      "  339 :\tSampleFormat\n",
      "  340 :\tSMinSampleValue\n",
      "  341 :\tSMaxSampleValue\n",
      "  342 :\tTransferRange\n",
      "  343 :\tClipPath\n",
      "  344 :\tXClipPathUnits\n",
      "  345 :\tYClipPathUnits\n",
      "  346 :\tIndexed\n",
      "  347 :\tJPEGTables\n",
      "  351 :\tOPIProxy\n",
      "  512 :\tJPEGProc\n",
      "  513 :\tJpegIFOffset\n",
      "  514 :\tJpegIFByteCount\n",
      "  515 :\tJpegRestartInterval\n",
      "  517 :\tJpegLosslessPredictors\n",
      "  518 :\tJpegPointTransforms\n",
      "  519 :\tJpegQTables\n",
      "  520 :\tJpegDCTables\n",
      "  521 :\tJpegACTables\n",
      "  529 :\tYCbCrCoefficients\n",
      "  530 :\tYCbCrSubSampling\n",
      "  531 :\tYCbCrPositioning\n",
      "  532 :\tReferenceBlackWhite\n",
      "  700 :\tXMLPacket\n",
      " 4096 :\tRelatedImageFileFormat\n",
      " 4097 :\tRelatedImageWidth\n",
      " 4098 :\tRelatedImageLength\n",
      "18246 :\tRating\n",
      "18249 :\tRatingPercent\n",
      "32781 :\tImageID\n",
      "33421 :\tCFARepeatPatternDim\n",
      "33423 :\tBatteryLevel\n",
      "33432 :\tCopyright\n",
      "33434 :\tExposureTime\n",
      "33437 :\tFNumber\n",
      "33723 :\tIPTCNAA\n",
      "34377 :\tImageResources\n",
      "34665 :\tExifOffset\n",
      "34675 :\tInterColorProfile\n",
      "34850 :\tExposureProgram\n",
      "34852 :\tSpectralSensitivity\n",
      "34853 :\tGPSInfo\n",
      "34855 :\tISOSpeedRatings\n",
      "34856 :\tOECF\n",
      "34857 :\tInterlace\n",
      "34858 :\tTimeZoneOffset\n",
      "34859 :\tSelfTimerMode\n",
      "34864 :\tSensitivityType\n",
      "34865 :\tStandardOutputSensitivity\n",
      "34866 :\tRecommendedExposureIndex\n",
      "34867 :\tISOSpeed\n",
      "34868 :\tISOSpeedLatitudeyyy\n",
      "34869 :\tISOSpeedLatitudezzz\n",
      "36864 :\tExifVersion\n",
      "36867 :\tDateTimeOriginal\n",
      "36868 :\tDateTimeDigitized\n",
      "36880 :\tOffsetTime\n",
      "36881 :\tOffsetTimeOriginal\n",
      "36882 :\tOffsetTimeDigitized\n",
      "37121 :\tComponentsConfiguration\n",
      "37122 :\tCompressedBitsPerPixel\n",
      "37377 :\tShutterSpeedValue\n",
      "37378 :\tApertureValue\n",
      "37379 :\tBrightnessValue\n",
      "37380 :\tExposureBiasValue\n",
      "37381 :\tMaxApertureValue\n",
      "37382 :\tSubjectDistance\n",
      "37383 :\tMeteringMode\n",
      "37384 :\tLightSource\n",
      "37385 :\tFlash\n",
      "37386 :\tFocalLength\n",
      "37389 :\tNoise\n",
      "37393 :\tImageNumber\n",
      "37394 :\tSecurityClassification\n",
      "37395 :\tImageHistory\n",
      "37398 :\tTIFF/EPStandardID\n",
      "37500 :\tMakerNote\n",
      "37510 :\tUserComment\n",
      "37520 :\tSubsecTime\n",
      "37521 :\tSubsecTimeOriginal\n",
      "37522 :\tSubsecTimeDigitized\n",
      "37888 :\tAmbientTemperature\n",
      "37889 :\tHumidity\n",
      "37890 :\tPressure\n",
      "37891 :\tWaterDepth\n",
      "37892 :\tAcceleration\n",
      "37893 :\tCameraElevationAngle\n",
      "40091 :\tXPTitle\n",
      "40092 :\tXPComment\n",
      "40093 :\tXPAuthor\n",
      "40094 :\tXPKeywords\n",
      "40095 :\tXPSubject\n",
      "40960 :\tFlashPixVersion\n",
      "40961 :\tColorSpace\n",
      "40962 :\tExifImageWidth\n",
      "40963 :\tExifImageHeight\n",
      "40964 :\tRelatedSoundFile\n",
      "40965 :\tExifInteroperabilityOffset\n",
      "41483 :\tFlashEnergy\n",
      "41484 :\tSpatialFrequencyResponse\n",
      "41486 :\tFocalPlaneXResolution\n",
      "41487 :\tFocalPlaneYResolution\n",
      "41488 :\tFocalPlaneResolutionUnit\n",
      "41492 :\tSubjectLocation\n",
      "41493 :\tExposureIndex\n",
      "41495 :\tSensingMethod\n",
      "41728 :\tFileSource\n",
      "41729 :\tSceneType\n",
      "41730 :\tCFAPattern\n",
      "41985 :\tCustomRendered\n",
      "41986 :\tExposureMode\n",
      "41987 :\tWhiteBalance\n",
      "41988 :\tDigitalZoomRatio\n",
      "41989 :\tFocalLengthIn35mmFilm\n",
      "41990 :\tSceneCaptureType\n",
      "41991 :\tGainControl\n",
      "41992 :\tContrast\n",
      "41993 :\tSaturation\n",
      "41994 :\tSharpness\n",
      "41995 :\tDeviceSettingDescription\n",
      "41996 :\tSubjectDistanceRange\n",
      "42016 :\tImageUniqueID\n",
      "42032 :\tCameraOwnerName\n",
      "42033 :\tBodySerialNumber\n",
      "42034 :\tLensSpecification\n",
      "42035 :\tLensMake\n",
      "42036 :\tLensModel\n",
      "42037 :\tLensSerialNumber\n",
      "42080 :\tCompositeImage\n",
      "42081 :\tCompositeImageCount\n",
      "42082 :\tCompositeImageExposureTimes\n",
      "42240 :\tGamma\n",
      "50341 :\tPrintImageMatching\n",
      "50706 :\tDNGVersion\n",
      "50707 :\tDNGBackwardVersion\n",
      "50708 :\tUniqueCameraModel\n",
      "50709 :\tLocalizedCameraModel\n",
      "50710 :\tCFAPlaneColor\n",
      "50711 :\tCFALayout\n",
      "50712 :\tLinearizationTable\n",
      "50713 :\tBlackLevelRepeatDim\n",
      "50714 :\tBlackLevel\n",
      "50715 :\tBlackLevelDeltaH\n",
      "50716 :\tBlackLevelDeltaV\n",
      "50717 :\tWhiteLevel\n",
      "50718 :\tDefaultScale\n",
      "50719 :\tDefaultCropOrigin\n",
      "50720 :\tDefaultCropSize\n",
      "50721 :\tColorMatrix1\n",
      "50722 :\tColorMatrix2\n",
      "50723 :\tCameraCalibration1\n",
      "50724 :\tCameraCalibration2\n",
      "50725 :\tReductionMatrix1\n",
      "50726 :\tReductionMatrix2\n",
      "50727 :\tAnalogBalance\n",
      "50728 :\tAsShotNeutral\n",
      "50729 :\tAsShotWhiteXY\n",
      "50730 :\tBaselineExposure\n",
      "50731 :\tBaselineNoise\n",
      "50732 :\tBaselineSharpness\n",
      "50733 :\tBayerGreenSplit\n",
      "50734 :\tLinearResponseLimit\n",
      "50735 :\tCameraSerialNumber\n",
      "50736 :\tLensInfo\n",
      "50737 :\tChromaBlurRadius\n",
      "50738 :\tAntiAliasStrength\n",
      "50739 :\tShadowScale\n",
      "50740 :\tDNGPrivateData\n",
      "50741 :\tMakerNoteSafety\n",
      "50778 :\tCalibrationIlluminant1\n",
      "50779 :\tCalibrationIlluminant2\n",
      "50780 :\tBestQualityScale\n",
      "50781 :\tRawDataUniqueID\n",
      "50827 :\tOriginalRawFileName\n",
      "50828 :\tOriginalRawFileData\n",
      "50829 :\tActiveArea\n",
      "50830 :\tMaskedAreas\n",
      "50831 :\tAsShotICCProfile\n",
      "50832 :\tAsShotPreProfileMatrix\n",
      "50833 :\tCurrentICCProfile\n",
      "50834 :\tCurrentPreProfileMatrix\n",
      "50879 :\tColorimetricReference\n",
      "50931 :\tCameraCalibrationSignature\n",
      "50932 :\tProfileCalibrationSignature\n",
      "50934 :\tAsShotProfileName\n",
      "50935 :\tNoiseReductionApplied\n",
      "50936 :\tProfileName\n",
      "50937 :\tProfileHueSatMapDims\n",
      "50938 :\tProfileHueSatMapData1\n",
      "50939 :\tProfileHueSatMapData2\n",
      "50940 :\tProfileToneCurve\n",
      "50941 :\tProfileEmbedPolicy\n",
      "50942 :\tProfileCopyright\n",
      "50964 :\tForwardMatrix1\n",
      "50965 :\tForwardMatrix2\n",
      "50966 :\tPreviewApplicationName\n",
      "50967 :\tPreviewApplicationVersion\n",
      "50968 :\tPreviewSettingsName\n",
      "50969 :\tPreviewSettingsDigest\n",
      "50970 :\tPreviewColorSpace\n",
      "50971 :\tPreviewDateTime\n",
      "50972 :\tRawImageDigest\n",
      "50973 :\tOriginalRawFileDigest\n",
      "50974 :\tSubTileBlockSize\n",
      "50975 :\tRowInterleaveFactor\n",
      "50981 :\tProfileLookTableDims\n",
      "50982 :\tProfileLookTableData\n",
      "51008 :\tOpcodeList1\n",
      "51009 :\tOpcodeList2\n",
      "51022 :\tOpcodeList3\n",
      "51041 :\tNoiseProfile\n",
      "37388 :\tSpatialFrequencyResponse\n",
      "37396 :\tSubjectLocation\n",
      "37397 :\tExposureIndex\n",
      "33422 :\tCFAPattern\n",
      "37387 :\tFlashEnergy\n"
     ]
    }
   ],
   "source": [
    "from PIL.ExifTags import TAGS\n",
    "\n",
    "print(\"TAGS des données EXIF :\")\n",
    "affiche_dico(TAGS)\n"
   ]
  },
  {
   "attachments": {},
   "cell_type": "markdown",
   "metadata": {},
   "source": [
    "b. Dans le dictionnaire TAGS, quelle valeur est associée à la clé 306 ? Que représente-t-elle ?\n"
   ]
  },
  {
   "cell_type": "code",
   "execution_count": 24,
   "metadata": {},
   "outputs": [
    {
     "name": "stdout",
     "output_type": "stream",
     "text": [
      "DateTime\n"
     ]
    }
   ],
   "source": [
    "print(TAGS[306])\n"
   ]
  },
  {
   "attachments": {},
   "cell_type": "markdown",
   "metadata": {},
   "source": [
    "c. Même question pour les clés 36867 et 36868.\n"
   ]
  },
  {
   "cell_type": "code",
   "execution_count": 25,
   "metadata": {},
   "outputs": [
    {
     "name": "stdout",
     "output_type": "stream",
     "text": [
      "DateTimeOriginal\n",
      "DateTimeDigitized\n"
     ]
    }
   ],
   "source": [
    "print(TAGS[36867])\n",
    "print(TAGS[36868])\n"
   ]
  },
  {
   "attachments": {},
   "cell_type": "markdown",
   "metadata": {},
   "source": [
    "d. Écrire une fonction `get_original_time(f:str) -> str` qui prend en argument le nom d’une image au format JPEG et renvoie sa date de prise de vue.\n"
   ]
  },
  {
   "cell_type": "code",
   "execution_count": 26,
   "metadata": {},
   "outputs": [],
   "source": [
    "def get_original_time(filename: str) -> str:\n",
    "    \"\"\"renvoie la date et l'heure d'une photo\n",
    "\n",
    "    Args:\n",
    "        filename (str): nom d'une image\n",
    "\n",
    "    Returns:\n",
    "        str: date et heure de la prise de vue\n",
    "    \"\"\"\n",
    "    img = PIL.Image.open(filename)\n",
    "    exif_dico = img._getexif()\n",
    "    for clé, valeur in TAGS.items():\n",
    "        if valeur == \"DateTimeOriginal\":\n",
    "            return exif_dico[clé]\n",
    "    return \"\"\n",
    "\n",
    "\n",
    "assert get_original_time(\"image_mystere.jpg\") == \"2015:11:30 16:26:55\""
   ]
  },
  {
   "attachments": {},
   "cell_type": "markdown",
   "metadata": {},
   "source": [
    "3. On s’intéresse dans cette question aux données de localisation de la photo `image_mystere.jpg`.\n",
    "\n",
    "   a. Quelle est la clé du dictionnaire `TAGS` dont la valeur est `GPSInfo` ?\n"
   ]
  },
  {
   "cell_type": "code",
   "execution_count": 27,
   "metadata": {},
   "outputs": [
    {
     "name": "stdout",
     "output_type": "stream",
     "text": [
      "Clé TAGS correspondant à GPSInfo: 34853\n"
     ]
    }
   ],
   "source": [
    "gps = \"\"\n",
    "for clé, valeur in TAGS.items():\n",
    "    if valeur == \"GPSInfo\":\n",
    "        gps = clé\n",
    "        break\n",
    "\n",
    "print(f\"Clé TAGS correspondant à GPSInfo: {gps}\")"
   ]
  },
  {
   "attachments": {},
   "cell_type": "markdown",
   "metadata": {},
   "source": [
    "b. Quel est le type de la valeur associé à la clé précédente dans le dictionnaire `exif_dico` ?\n"
   ]
  },
  {
   "cell_type": "code",
   "execution_count": 28,
   "metadata": {},
   "outputs": [
    {
     "name": "stdout",
     "output_type": "stream",
     "text": [
      "    0 :\tb'\\x02\\x02\\x00\\x00'\n",
      "    1 :\tN\n",
      "    2 :\t(48.0, 50.4225, 0.0)\n",
      "    3 :\tE\n",
      "    4 :\t(2.0, 18.899, 0.0)\n",
      "    6 :\t55.2454\n"
     ]
    }
   ],
   "source": [
    "affiche_dico(exif_dico[gps])\n"
   ]
  },
  {
   "attachments": {},
   "cell_type": "markdown",
   "metadata": {},
   "source": [
    "Il s'agit d'un dictionnaire.\n"
   ]
  },
  {
   "attachments": {},
   "cell_type": "markdown",
   "metadata": {},
   "source": [
    "c. Le module `PIL` fournit également un dictionnaire pour les données GPS. Recopier le code ci-dessous pour accéder aux tags GPS :\n",
    "\n",
    "```python\n",
    "from PIL.ExifTags import GPSTAGS\n",
    "print(GPSTAGS)\n",
    "```\n"
   ]
  },
  {
   "cell_type": "code",
   "execution_count": 29,
   "metadata": {},
   "outputs": [
    {
     "name": "stdout",
     "output_type": "stream",
     "text": [
      "GPSTAGS:\n",
      "    0 :\tGPSVersionID\n",
      "    1 :\tGPSLatitudeRef\n",
      "    2 :\tGPSLatitude\n",
      "    3 :\tGPSLongitudeRef\n",
      "    4 :\tGPSLongitude\n",
      "    5 :\tGPSAltitudeRef\n",
      "    6 :\tGPSAltitude\n",
      "    7 :\tGPSTimeStamp\n",
      "    8 :\tGPSSatellites\n",
      "    9 :\tGPSStatus\n",
      "   10 :\tGPSMeasureMode\n",
      "   11 :\tGPSDOP\n",
      "   12 :\tGPSSpeedRef\n",
      "   13 :\tGPSSpeed\n",
      "   14 :\tGPSTrackRef\n",
      "   15 :\tGPSTrack\n",
      "   16 :\tGPSImgDirectionRef\n",
      "   17 :\tGPSImgDirection\n",
      "   18 :\tGPSMapDatum\n",
      "   19 :\tGPSDestLatitudeRef\n",
      "   20 :\tGPSDestLatitude\n",
      "   21 :\tGPSDestLongitudeRef\n",
      "   22 :\tGPSDestLongitude\n",
      "   23 :\tGPSDestBearingRef\n",
      "   24 :\tGPSDestBearing\n",
      "   25 :\tGPSDestDistanceRef\n",
      "   26 :\tGPSDestDistance\n",
      "   27 :\tGPSProcessingMethod\n",
      "   28 :\tGPSAreaInformation\n",
      "   29 :\tGPSDateStamp\n",
      "   30 :\tGPSDifferential\n",
      "   31 :\tGPSHPositioningError\n"
     ]
    }
   ],
   "source": [
    "from PIL.ExifTags import GPSTAGS\n",
    "\n",
    "print(\"GPSTAGS:\")\n",
    "affiche_dico(GPSTAGS)\n"
   ]
  },
  {
   "attachments": {},
   "cell_type": "markdown",
   "metadata": {},
   "source": [
    "d. Quelles sont les valeurs associées aux longitudes et latitudes du lieu où la photo a été prise ?\n"
   ]
  },
  {
   "cell_type": "code",
   "execution_count": 30,
   "metadata": {},
   "outputs": [
    {
     "name": "stdout",
     "output_type": "stream",
     "text": [
      "Latitude de la photo : (48.0, 50.4225, 0.0)\n",
      "Longitude de la photo : (2.0, 18.899, 0.0)\n"
     ]
    }
   ],
   "source": [
    "latitude = tuple()\n",
    "longitude = tuple()\n",
    "\n",
    "for clé, valeur in GPSTAGS.items():\n",
    "    if valeur == \"GPSLatitude\":\n",
    "        latitude = exif_dico[gps][clé]\n",
    "    elif valeur == \"GPSLongitude\":\n",
    "        longitude = exif_dico[gps][clé]\n",
    "\n",
    "print(f\"Latitude de la photo : {latitude}\")\n",
    "print(f\"Longitude de la photo : {longitude}\")"
   ]
  },
  {
   "attachments": {},
   "cell_type": "markdown",
   "metadata": {},
   "source": [
    "e. Les coordonnées (longitudes et latitudes) sont des angles présentées sous la forme d’un triplet (d, m, s). La valeur en degrés de l’angle $\\alpha$ ainsi représenté s’obtient par le calcul suivant $\\alpha = d + \\frac{m}{60} + \\frac{s}{3600}$. Déterminer les coordonnées (longitudes, latitudes) du lieu où cette photo a été prise (on pourra vérifier avec un célèbre logiciel de cartographie en ligne).\n"
   ]
  },
  {
   "cell_type": "code",
   "execution_count": 31,
   "metadata": {},
   "outputs": [
    {
     "name": "stdout",
     "output_type": "stream",
     "text": [
      "Latitude de la photo (degres): 48.840375\n",
      "Longitude de la photo (degres): 2.314983333333333\n"
     ]
    }
   ],
   "source": [
    "latitude_degres = latitude[0] + latitude[1] / 60 + latitude[2] / 3600\n",
    "longitude_degres = longitude[0] + longitude[1] / 60 + longitude[2] / 3600\n",
    "\n",
    "print(f\"Latitude de la photo (degres): {float(latitude_degres)}\")\n",
    "print(f\"Longitude de la photo (degres): {float(longitude_degres)}\")"
   ]
  },
  {
   "attachments": {},
   "cell_type": "markdown",
   "metadata": {},
   "source": [
    "4. Écrire une fonction `donnees_exif(filename:str) -> dict` qui stocke les données EXIF d’une photo au format JPEG dans un dictionnaire dont les clés sont des chaînes de caractères « éloquentes » (à savoir les valeurs des dictionnaires TAGS et GPSTAGS).\n"
   ]
  },
  {
   "cell_type": "code",
   "execution_count": 32,
   "metadata": {},
   "outputs": [
    {
     "name": "stdout",
     "output_type": "stream",
     "text": [
      "Données EXIF claires de la photo :\n",
      "GPSInfo :\t{'GPSVersionID': b'\\x02\\x02\\x00\\x00', 'GPSLatitudeRef': 'N', 'GPSLatitude': (48.0, 50.4225, 0.0), 'GPSLongitudeRef': 'E', 'GPSLongitude': (2.0, 18.899, 0.0), 'GPSAltitude': 55.2454}\n",
      "ResolutionUnit :\t2\n",
      "ExifOffset :\t228\n",
      "Make  :\tNIKON CORPORATION\n",
      "Model :\tNIKON D7200\n",
      "Software :\tAdobe Photoshop Lightroom 6.8 (Windows)\n",
      "DateTime :\t2017:02:06 03:10:48\n",
      "XResolution :\t300.0\n",
      "YResolution :\t300.0\n",
      "ExifVersion :\tb'0230'\n",
      "ShutterSpeedValue :\t8.965784\n",
      "ApertureValue :\t3.851999\n",
      "DateTimeOriginal :\t2015:11:30 16:26:55\n",
      "DateTimeDigitized :\t2015:11:30 16:26:55\n",
      "ExposureBiasValue :\t-0.3333333333333333\n",
      "MaxApertureValue :\t3.8\n",
      "MeteringMode :\t2\n",
      "LightSource :\t0\n",
      "Flash :\t16\n",
      "FocalLength :\t22.0\n",
      "ColorSpace :\t1\n",
      "WhiteBalance :\t0\n",
      "DigitalZoomRatio :\t1.0\n",
      "FocalPlaneXResolution :\t2558.6412048339844\n",
      "FocalPlaneYResolution :\t2558.6412048339844\n",
      "FocalPlaneResolutionUnit :\t3\n",
      "SubsecTimeOriginal :\t65\n",
      "SubsecTimeDigitized :\t65\n",
      "Sharpness :\t0\n",
      "SubjectDistanceRange :\t0\n",
      "SensingMethod :\t2\n",
      "FileSource :\tb'\\x03'\n",
      "ExposureTime :\t0.002\n",
      "FNumber :\t3.8\n",
      "SceneType :\tb'\\x01'\n",
      "ExposureProgram :\t4\n",
      "CFAPattern :\tb'\\x02\\x00\\x02\\x00\\x00\\x01\\x01\\x02'\n",
      "CustomRendered :\t0\n",
      "ISOSpeedRatings :\t1250\n",
      "ExposureMode :\t0\n",
      "SensitivityType :\t2\n",
      "BodySerialNumber :\t4325319\n",
      "LensSpecification :\t(18.0, 105.0, 3.5, 5.6)\n",
      "LensModel :\t18.0-105.0 mm f/3.5-5.6\n",
      "FocalLengthIn35mmFilm :\t33\n",
      "SceneCaptureType :\t0\n",
      "GainControl :\t2\n",
      "Contrast :\t0\n",
      "Saturation :\t0\n"
     ]
    }
   ],
   "source": [
    "def donnees_exif(filename: str) -> dict:\n",
    "    \"\"\"donne les données EXIF d'une photo avec des clés explicites\n",
    "\n",
    "    Args:\n",
    "        filename (str): nom de fichier\n",
    "\n",
    "    Returns:\n",
    "        dict: dictionnaire de données EXIF avec des clés explicites\n",
    "    \"\"\"\n",
    "    img = PIL.Image.open(filename)\n",
    "    exif_dico = img._getexif()\n",
    "\n",
    "    exif_c = {TAGS[clé]: valeur for clé, valeur in exif_dico.items()}\n",
    "\n",
    "    gps = exif_c[\"GPSInfo\"]\n",
    "    exif_c[\"GPSInfo\"] = {GPSTAGS[clé]: valeur for clé, valeur in gps.items()}\n",
    "\n",
    "    return exif_c\n",
    "\n",
    "\n",
    "print(\"Données EXIF claires de la photo :\")\n",
    "affiche_dico(donnees_exif(\"image_mystere.jpg\"))"
   ]
  },
  {
   "attachments": {},
   "cell_type": "markdown",
   "metadata": {},
   "source": [
    "### Exercice n°12 : Chiffres romains\n",
    "\n",
    "Dans l'écriture des chiffres romains, on utilise les lettres I, V, X, L, C, D et M, qui ont pour valeurs respectives 1, 5, 10, 50, 100, 500 et 1000.\n",
    "\n",
    "Un nombre écrit en chiffres romains se lit de gauche à droite. En première approximation, sa valeur se détermine en faisant la somme des valeurs individuelles de chaque symbole, sauf quand l'un des symboles précède un symbole de valeur supérieure ; dans ce cas, on soustrait la valeur du premier symbole au deuxième.\n",
    "\n",
    "1. Ecrire une fonction `romain_vers_decimal(nb : str) -> int` qui prend en argument une chaîne de caractères `nb` représentant un nombre écrit en chiffres romains et qui renvoie ce nombre en écriture décimale.\n"
   ]
  },
  {
   "cell_type": "code",
   "execution_count": 33,
   "metadata": {},
   "outputs": [],
   "source": [
    "def romain_vers_decimal(nb: str) -> int:\n",
    "    \"\"\"convertit un nombre en chiffres romains en écriture décimale\n",
    "\n",
    "    Args:\n",
    "        nb (str): un nombre écrit en chiffres romains\n",
    "\n",
    "    Returns:\n",
    "        int: nb en écriture décimale\n",
    "    \"\"\"\n",
    "    dico = {\"M\": 1000, \"D\": 500, \"C\": 100, \"L\": 50, \"X\": 10, \"V\": 5, \"I\": 1}\n",
    "    valeur = 0\n",
    "    for i in range(len(nb) - 1):\n",
    "        if dico[nb[i]] < dico[nb[i + 1]]:\n",
    "            valeur -= dico[nb[i]]\n",
    "        else:\n",
    "            valeur += dico[nb[i]]\n",
    "    valeur += dico[nb[-1]]\n",
    "    return valeur\n",
    "\n",
    "\n",
    "assert romain_vers_decimal(\"I\") == 1\n",
    "assert romain_vers_decimal(\"V\") == 5\n",
    "assert romain_vers_decimal(\"X\") == 10\n",
    "assert romain_vers_decimal(\"XVIII\") == 18\n",
    "assert romain_vers_decimal(\"IX\") == 9\n",
    "assert romain_vers_decimal(\"DCLXVI\") == 666\n",
    "assert romain_vers_decimal(\"DIX\") == 509"
   ]
  },
  {
   "attachments": {},
   "cell_type": "markdown",
   "metadata": {},
   "source": [
    "2. Ecrire une fonction `decimal_vers_romain(nb: int) -> str` qui prend en argument un entier (inférieur à $5000$) et qui renvoie une chaîne de caractères représentant la valeur de cet entier en chiffres romains.\n"
   ]
  },
  {
   "cell_type": "code",
   "execution_count": 34,
   "metadata": {},
   "outputs": [],
   "source": [
    "def decimal_vers_romain(nb: int) -> str:\n",
    "    \"\"\"convertit un nombre en écriture décimale en chiffres romains\n",
    "\n",
    "    Args:\n",
    "        nb (int): un nombre en écriture décimale\n",
    "\n",
    "    Returns:\n",
    "        str: nb en chiffres romains\n",
    "    \"\"\"\n",
    "    assert nb < 5000\n",
    "\n",
    "    dico = {1000: \"M\", 500: \"D\", 100: \"C\", 50: \"L\", 10: \"X\", 5: \"V\", 1: \"I\"}\n",
    "    resultat = \"\"\n",
    "    for i in range(3, -1, -1):\n",
    "        coeff = nb // 10**i\n",
    "        nb %= 10**i\n",
    "        if coeff <= 3:\n",
    "            resultat += dico[10**i] * coeff\n",
    "        elif coeff == 4:\n",
    "            resultat += dico[10**i] + dico[5 * 10**i]\n",
    "        elif coeff <= 8:\n",
    "            resultat += dico[5 * 10**i] + dico[10**i] * (coeff - 5)\n",
    "        elif coeff == 9:\n",
    "            resultat += dico[10**i] + dico[10 ** (i + 1)]\n",
    "    return resultat\n",
    "\n",
    "\n",
    "assert decimal_vers_romain(1) == \"I\"\n",
    "assert decimal_vers_romain(2) == \"II\"\n",
    "assert decimal_vers_romain(3) == \"III\"\n",
    "assert decimal_vers_romain(4) == \"IV\"\n",
    "assert decimal_vers_romain(5) == \"V\"\n",
    "assert decimal_vers_romain(6) == \"VI\"\n",
    "assert decimal_vers_romain(7) == \"VII\"\n",
    "assert decimal_vers_romain(8) == \"VIII\"\n",
    "assert decimal_vers_romain(9) == \"IX\"\n",
    "assert decimal_vers_romain(10) == \"X\"\n",
    "assert decimal_vers_romain(18) == \"XVIII\"\n",
    "assert decimal_vers_romain(666) == \"DCLXVI\"\n",
    "assert decimal_vers_romain(509) == \"DIX\""
   ]
  }
 ],
 "metadata": {
  "kernelspec": {
   "display_name": "Python 3.10.0 64-bit",
   "language": "python",
   "name": "python3"
  },
  "language_info": {
   "codemirror_mode": {
    "name": "ipython",
    "version": 3
   },
   "file_extension": ".py",
   "mimetype": "text/x-python",
   "name": "python",
   "nbconvert_exporter": "python",
   "pygments_lexer": "ipython3",
   "version": "3.11.4"
  },
  "orig_nbformat": 4,
  "vscode": {
   "interpreter": {
    "hash": "aee8b7b246df8f9039afb4144a1f6fd8d2ca17a180786b69acc140d282b71a49"
   }
  }
 },
 "nbformat": 4,
 "nbformat_minor": 2
}
