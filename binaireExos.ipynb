{
 "cells": [
  {
   "attachments": {},
   "cell_type": "markdown",
   "metadata": {},
   "source": [
    "**Estelle Doriot**\n",
    "\n",
    "_NSI 1ère_\n",
    "\n",
    "---\n",
    "\n",
    "# Exercices : Binaire et bases de numération\n",
    "\n",
    "---\n",
    "\n",
    "### Exercice n° 1\n",
    "\n",
    "1. $1_{(2)}$\n",
    "2. $10_{(2)}$\n",
    "3. $11_{(2)}$\n",
    "4. $100_{(2)}$\n",
    "5. $1001_{(2)}$\n",
    "6. $1011_{(2)}$\n",
    "7. $1101_{(2)}$\n",
    "8. $11001_{(2)}$\n",
    "9. $10000000_{(2)}$\n",
    "10. $10100000_{(2)}$\n",
    "11. $10001101_{(2)}$\n",
    "12. $10101001_{(2)}$\n",
    "13. $1111_{(2)}$\n",
    "14. $11111_{(2)}$\n",
    "15. $111111_{(2)}$\n",
    "16. $11111111_{(2)}$\n"
   ]
  },
  {
   "attachments": {},
   "cell_type": "markdown",
   "metadata": {},
   "source": [
    "Correction :\n",
    "\n",
    "1. $1_{(2)} = 1$\n",
    "2. $10_{(2)} = 2$\n",
    "3. $11_{(2)} = 3$\n",
    "4. $100_{(2)} = 4$\n",
    "5. $1001_{(2)} = 9$\n",
    "6. $1011_{(2)} = 11$\n",
    "7. $1101_{(2)} = 13$\n",
    "8. $11001_{(2)} = 25$\n",
    "9. $10000000_{(2)} = 128$\n",
    "10. $10100000_{(2)} = 160$\n",
    "11. $10001101_{(2)} = 141$\n",
    "12. $10101001_{(2)} = 169$\n",
    "13. $1111_{(2)} = 15$\n",
    "14. $11111_{(2)} = 31$\n",
    "15. $111111_{(2)} = 63$\n",
    "16. $11111111_{(2)} = 255$\n"
   ]
  },
  {
   "attachments": {},
   "cell_type": "markdown",
   "metadata": {},
   "source": [
    "### Exercice n°2\n",
    "\n",
    "1. $10010_{(2)}$\n",
    "2. $10000011_{(2)}$\n",
    "3. $110101_{(2)}$\n",
    "4. $10100100_{(2)}$\n",
    "5. $10101010_{(2)}$\n",
    "6. $111111110_{(2)}$\n",
    "7. $100011_{(2)}$\n",
    "8. $10011_{(2)}$\n",
    "9. $110011_{(2)}$\n",
    "10. $1000011111_{(2)}$\n"
   ]
  },
  {
   "attachments": {},
   "cell_type": "markdown",
   "metadata": {},
   "source": [
    "Correction:\n",
    "\n",
    "1. $10010_{(2)} = 18$\n",
    "2. $10000011_{(2)} = 131$\n",
    "3. $110101_{(2)} = 53$\n",
    "4. $10100100_{(2)} = 164$\n",
    "5. $10101010_{(2)} = 170$\n",
    "6. $111111110_{(2)} = 510$\n",
    "7. $100011_{(2)} = 35$\n",
    "8. $10011_{(2)} = 19$\n",
    "9. $110011_{(2)} = 51$\n",
    "10. $1000011111_{(2)} = 543$\n"
   ]
  },
  {
   "attachments": {},
   "cell_type": "markdown",
   "metadata": {},
   "source": [
    "### Exercice n°3\n",
    "\n",
    "1. $101001_{(2)}$\n",
    "2. $110100_{(2)}$\n",
    "3. $123_{(4)}$\n",
    "4. $1230_{(4)}$\n",
    "5. $1010_{(4)}$\n",
    "6. $123_{(6)}$\n",
    "7. $AB_{(16)}$\n",
    "8. $FF_{(16)}$\n"
   ]
  },
  {
   "attachments": {},
   "cell_type": "markdown",
   "metadata": {},
   "source": [
    "Correction:\n",
    "\n",
    "1. $101001_{(2)} = 41$\n",
    "2. $110100_{(2)} = 52$\n",
    "3. $123_{(4)} = 27$\n",
    "4. $1230_{(4)} = 108$\n",
    "5. $1010_{(4)} = 68$\n",
    "6. $123_{(6)} = 51$\n",
    "7. $AB_{(16)} = 171$\n",
    "8. $FF_{(16)} = 255$\n"
   ]
  },
  {
   "attachments": {},
   "cell_type": "markdown",
   "metadata": {},
   "source": [
    "### Exercice n°4\n",
    "\n",
    "1. $4$\n",
    "2. $5$\n",
    "3. $6$\n",
    "4. $9$\n",
    "5. $16$\n",
    "6. $32$\n",
    "7. $64$\n",
    "8. $128$\n",
    "9. $33$\n",
    "10. $65$\n",
    "11. $66$\n",
    "12. $131$\n",
    "13. $150$\n",
    "14. $180$\n",
    "15. $220$\n",
    "16. $240$\n"
   ]
  },
  {
   "attachments": {},
   "cell_type": "markdown",
   "metadata": {},
   "source": [
    "Correction:\n",
    "\n",
    "1. $4 = 100_{(2)}$\n",
    "2. $5 = 101_{(2)}$\n",
    "3. $6 = 110_{(2)}$\n",
    "4. $9 = 1001_{(2)}$\n",
    "5. $16 = 10000_{(2)}$\n",
    "6. $32 = 100000_{(2)}$\n",
    "7. $64 = 1000000_{(2)}$\n",
    "8. $128 = 10000000_{(2)}$\n",
    "9. $33 = 100001_{(2)}$\n",
    "10. $65 = 1000001_{(2)}$\n",
    "11. $66 = 1000010_{(2)}$\n",
    "12. $131 = 10000011_{(2)}$\n",
    "13. $150 = 10010110_{(2)}$\n",
    "14. $180 = 10110100_{(2)}$\n",
    "15. $220 = 11011100_{(2)}$\n",
    "16. $240 = 11110000_{(2)}$\n"
   ]
  },
  {
   "attachments": {},
   "cell_type": "markdown",
   "metadata": {},
   "source": [
    "### Exercice n°5\n",
    "\n",
    "1. $97$\n",
    "2. $107$\n",
    "3. $77$\n",
    "4. $195$\n",
    "5. $185$\n",
    "6. $63$\n",
    "7. $31$\n",
    "8. $213$\n",
    "9. $48$\n",
    "10. $392$\n",
    "11. $197$\n",
    "12. $53$\n"
   ]
  },
  {
   "attachments": {},
   "cell_type": "markdown",
   "metadata": {},
   "source": [
    "Correction:\n",
    "\n",
    "1. $97 = 1100001_{(2)}$\n",
    "2. $107 = 1101011_{(2)}$\n",
    "3. $77 = 1001101_{(2)}$\n",
    "4. $195 = 11000011_{(2)}$\n",
    "5. $185 = 10111001_{(2)}$\n",
    "6. $63 = 111111_{(2)}$\n",
    "7. $31 = 11111_{(2)}$\n",
    "8. $213 = 11010101_{(2)}$\n",
    "9. $48 = 110000_{(2)}$\n",
    "10. $392 = 110001000_{(2)}$\n",
    "11. $197 = 11000101_{(2)}$\n",
    "12. $53 = 110101_{(2)}$\n"
   ]
  },
  {
   "attachments": {},
   "cell_type": "markdown",
   "metadata": {},
   "source": [
    "### Exercice n°6\n",
    "\n",
    "Effectuer les opérations binaires ci-dessous et vérifier les résultats obtenus.\n",
    "\n",
    "1. $1110 + 1011$\n",
    "2. $1011 + 1001$\n",
    "3. $1011 + 1011$\n",
    "4. $1111 + 1$\n"
   ]
  },
  {
   "attachments": {},
   "cell_type": "markdown",
   "metadata": {},
   "source": [
    "Correction:\n",
    "\n",
    "1. $1110 + 1011 = 11001$ et $14 + 11 = 25$\n",
    "2. $1011 + 1001 = 10100$ et $11 + 9 = 20$\n",
    "3. $1011 + 1011 = 10110$ et $11 + 11 = 22$\n",
    "4. $1111 + 1 = 10000$ et $15 + 1 = 16$\n"
   ]
  },
  {
   "attachments": {},
   "cell_type": "markdown",
   "metadata": {},
   "source": [
    "### Exercice n°7\n",
    "\n",
    "Effectuer les opérations binaires ci-dessous et vérifier les résultats obtenus.\n",
    "\n",
    "1. $1010 + 101$\n",
    "2. $1001 + 11$\n",
    "3. $1011 + 1101$\n",
    "4. $1111 + 11$\n"
   ]
  },
  {
   "attachments": {},
   "cell_type": "markdown",
   "metadata": {},
   "source": [
    "Correction:\n",
    "\n",
    "1. $1010 + 101 = 1111$ et $10 + 5 = 15$\n",
    "2. $1001 + 11 = 1100$ et $9 + 3 = 12$\n",
    "3. $1011 + 1101 = 11000$ et $11 + 13 = 24$\n",
    "4. $1111 + 11 = 10010$ et $15 + 3 = 18$\n"
   ]
  },
  {
   "attachments": {},
   "cell_type": "markdown",
   "metadata": {},
   "source": [
    "### Exercice n°8\n",
    "\n",
    "Effectuer les opérations binaires ci-dessous et vérifier les résultats obtenus.\n",
    "\n",
    "1. $1011 - 1001$\n",
    "2. $1010 - 111$\n",
    "3. $1100 - 1010$\n",
    "4. $1010 - 11$\n"
   ]
  },
  {
   "attachments": {},
   "cell_type": "markdown",
   "metadata": {},
   "source": [
    "Correction:\n",
    "\n",
    "1. $1011 - 1001 = 10$ et $11 - 9 = 2$\n",
    "2. $1010 - 111 = 11$ et $10 - 7 = 3$\n",
    "3. $1100 - 1010 = 10$ et $12 - 10 = 2$\n",
    "4. $1010 - 11  = 111$ et $10 - 3 = 7$\n"
   ]
  },
  {
   "attachments": {},
   "cell_type": "markdown",
   "metadata": {},
   "source": [
    "### Exercice n°9\n",
    "\n",
    "Compléter le tableau ci-dessous.\n",
    "\n",
    "| **Écriture décimale**     | $33$ | $100$ | $106$ | $200$ | $205$ | $255$ |\n",
    "| ------------------------- | ---- | ----- | ----- | ----- | ----- | ----- |\n",
    "| **Écriture binaire**      |      |       |       |       |       |       |\n",
    "| **Écriture hexadécimale** |      |       |       |       |       |       |\n"
   ]
  },
  {
   "attachments": {},
   "cell_type": "markdown",
   "metadata": {},
   "source": [
    "Correction:\n",
    "\n",
    "| **Écriture décimale**     | $33$       | $100$       | $106$       | $200$        | $205$        | $255$        |\n",
    "| ------------------------- | ---------- | ----------- | ----------- | ------------ | ------------ | ------------ |\n",
    "| **Écriture binaire**      | $10\\,0001$ | $110\\,0100$ | $110\\,1010$ | $1100\\,1000$ | $1100\\,1101$ | $1111\\,1111$ |\n",
    "| **Écriture hexadécimale** | $21$       | $64$        | $6A$        | $C8$         | $CD$         | $FF$         |\n"
   ]
  },
  {
   "attachments": {},
   "cell_type": "markdown",
   "metadata": {},
   "source": [
    "### Exercice n°10\n",
    "\n",
    "Donner la valeur décimale des nombres hexadécimaux suivants.\n",
    "\n",
    "1. FF\n",
    "2. 3A\n",
    "3. B2\n",
    "4. 12\n"
   ]
  },
  {
   "attachments": {},
   "cell_type": "markdown",
   "metadata": {},
   "source": [
    "Correction:\n",
    "\n",
    "1. $FF_{(16)} = 255$\n",
    "2. $3A_{(16)} = 58$\n",
    "3. $B2_{(16)} = 178$\n",
    "4. $12_{(16)} = 18$\n"
   ]
  },
  {
   "attachments": {},
   "cell_type": "markdown",
   "metadata": {},
   "source": [
    "### Exercice n°11\n",
    "\n",
    "1. Créer une fonction `binaire(n:int) -> str` qui renvoie l'écriture binaire de `n`, en utilisant les divisions successives.\n"
   ]
  },
  {
   "cell_type": "code",
   "execution_count": 1,
   "metadata": {},
   "outputs": [],
   "source": [
    "def binaire(n: int) -> str:\n",
    "    \"\"\"donne l'écriture binaire d'un nombre donné en argument en utilisant la méthode des divisions successives\n",
    "\n",
    "    Args:\n",
    "        n (int): un entier en écriture décimale\n",
    "\n",
    "    Returns:\n",
    "        str: un entier en écriture binaire\n",
    "    \"\"\"\n",
    "    binaire = \"\"\n",
    "    while n != 0:\n",
    "        binaire = str(n % 2) + binaire\n",
    "        n //= 2\n",
    "    return binaire\n",
    "\n",
    "\n",
    "assert binaire(2) == \"10\"\n",
    "assert binaire(243) == \"11110011\"\n",
    "assert binaire(35) == \"100011\""
   ]
  },
  {
   "attachments": {},
   "cell_type": "markdown",
   "metadata": {},
   "source": [
    "2. On peut généraliser cette méthode à une base $b$ quelconque. Créer une fonction `dec_to_base(n:int, b:int) -> str` qui renvoie l'écriture d'un entier `n` dans une base `b`, en utilisant les divisions successives.\n"
   ]
  },
  {
   "cell_type": "code",
   "execution_count": 2,
   "metadata": {},
   "outputs": [],
   "source": [
    "def dec_to_base(n: int, b: int) -> str:\n",
    "    \"\"\"donne l'écriture dans une base b d'un nombre donné en argument en utilisant la méthode des divisions successives\n",
    "\n",
    "    Args:\n",
    "        n (int): un entier en écriture décimale\n",
    "        b (int): la base dans laquelle on convertit n\n",
    "\n",
    "    Returns:\n",
    "        str: n converti dans la base b\n",
    "    \"\"\"\n",
    "    chiffres = \"0123456789ABCDEFGHIJKLMNOPQRSTUVWXYZ\"\n",
    "\n",
    "    resultat = \"\"\n",
    "    while n != 0:\n",
    "        resultat = chiffres[n % b] + resultat\n",
    "        n //= b\n",
    "    return resultat\n",
    "\n",
    "\n",
    "assert dec_to_base(2, 6) == \"2\"\n",
    "assert dec_to_base(243, 16) == \"F3\"\n",
    "assert dec_to_base(35, 4) == \"203\""
   ]
  },
  {
   "attachments": {},
   "cell_type": "markdown",
   "metadata": {},
   "source": [
    "### Exercice n°12\n",
    "\n",
    "1. Ecrire une fonction `binaire_valide(ch:str) -> bool` qui renvoie `True` si `ch` est un nombre binaire valide (ie, contient uniquement des 0 et des 1).\n"
   ]
  },
  {
   "cell_type": "code",
   "execution_count": 3,
   "metadata": {},
   "outputs": [],
   "source": [
    "def binaire_valide(ch: str) -> bool:\n",
    "    \"\"\"détermine si une chaîne de caractères forme un nombre binaire\n",
    "\n",
    "    Args:\n",
    "        ch (str): une chaîne de caractères\n",
    "\n",
    "    Returns:\n",
    "        bool: True si ch ne contient que des 0 et des 1\n",
    "    \"\"\"\n",
    "    for lettre in ch:\n",
    "        if lettre not in \"01\":\n",
    "            return False\n",
    "    return True\n",
    "\n",
    "\n",
    "assert binaire_valide(\"1010001\")\n",
    "assert not binaire_valide(\"124533\")\n",
    "assert not binaire_valide(\"abc10134\")"
   ]
  },
  {
   "attachments": {},
   "cell_type": "markdown",
   "metadata": {},
   "source": [
    "2. Sans utiliser la fonction `int()` de python, écrire une fonction `bin_to_dec(ch:str) -> int` qui prend en argument une chaîne de caractères `ch` représentant un nombre écrit en binaire et qui renvoie sa valeur décimale.\n"
   ]
  },
  {
   "cell_type": "code",
   "execution_count": 4,
   "metadata": {},
   "outputs": [],
   "source": [
    "def bin_to_dec(ch: str) -> int:\n",
    "    \"\"\"convertit un nombre binaire en décimal\n",
    "\n",
    "    Args:\n",
    "        ch (str): une chaîne de caractères représentant un nombre en binaire\n",
    "\n",
    "    Returns:\n",
    "        int: ch converti en décimal\n",
    "    \"\"\"\n",
    "    assert binaire_valide(ch)\n",
    "\n",
    "    n = len(ch)\n",
    "    s = 0\n",
    "    for i in range(n):\n",
    "        if ch[n - 1 - i] == \"1\":\n",
    "            s = s + 2**i\n",
    "    return s\n",
    "\n",
    "\n",
    "assert bin_to_dec(\"10\") == 2\n",
    "assert bin_to_dec(\"11111111\") == 255"
   ]
  },
  {
   "attachments": {},
   "cell_type": "markdown",
   "metadata": {},
   "source": [
    "3. Ecrire une fonction `hexa_valide(ch:str) -> bool` qui renvoie `True` si `ch` peut représenter un nombre écrit en hexadécimal.\n"
   ]
  },
  {
   "cell_type": "code",
   "execution_count": 5,
   "metadata": {},
   "outputs": [],
   "source": [
    "def hexa_valide(ch: str) -> bool:\n",
    "    \"\"\"vérifie si une chaîne de caractères peut représenter un nombre en hexadécimal\n",
    "\n",
    "    Args:\n",
    "        ch (str): une chaîne de caractères\n",
    "\n",
    "    Returns:\n",
    "        bool: True si ch ne contient que des chiffres ou A, B, C, D, E, F\n",
    "    \"\"\"\n",
    "    for lettre in ch:\n",
    "        if lettre not in \"0123456789ABCDEF\":\n",
    "            return False\n",
    "    return True\n",
    "\n",
    "\n",
    "assert hexa_valide(\"1023556\")\n",
    "assert hexa_valide(\"FF73DD\")\n",
    "assert not hexa_valide(\"4556MM\")"
   ]
  },
  {
   "attachments": {},
   "cell_type": "markdown",
   "metadata": {},
   "source": [
    "4. Ecrire une fonction `hexa_to_dec(ch:str) -> int` qui prend en argument une chaîne de caractères qui représente un nombre écrit en hexadécimal et qui renvoie sa valeur décimale.\n"
   ]
  },
  {
   "cell_type": "code",
   "execution_count": 6,
   "metadata": {},
   "outputs": [],
   "source": [
    "def convert_hexa(c: str) -> int:\n",
    "    \"\"\"convertit un chiffre hexadécimal en sa valeur décimale\n",
    "\n",
    "    Args:\n",
    "        c (str): un chiffre hexadécimal\n",
    "\n",
    "    Returns:\n",
    "        int: donne la valeur hexadécimale de c\n",
    "    \"\"\"\n",
    "    ptc = ord(c)\n",
    "\n",
    "    if ord(\"0\") <= ptc <= ord(\"9\"):\n",
    "        return ptc - ord(\"0\")\n",
    "\n",
    "    if ord(\"A\") <= ptc <= ord(\"F\"):\n",
    "        return ptc - ord(\"A\") + 10\n",
    "\n",
    "    return 0\n",
    "\n",
    "\n",
    "def hexa_to_dec(ch: str) -> int:\n",
    "    \"\"\"convertit un nombre hexadécimal en sa valeur décimale\n",
    "\n",
    "    Args:\n",
    "        ch (str): un nombre hexadécimal\n",
    "\n",
    "    Returns:\n",
    "        int: ch converti en décimal\n",
    "    \"\"\"\n",
    "    assert hexa_valide(ch)\n",
    "\n",
    "    n = len(ch)\n",
    "    s = 0\n",
    "    for i in range(n):\n",
    "        s = s + (16**i) * convert_hexa(ch[n - 1 - i])\n",
    "    return s\n",
    "\n",
    "\n",
    "assert hexa_to_dec(\"A\") == 10\n",
    "assert hexa_to_dec(\"FF\") == 255\n",
    "assert hexa_to_dec(\"10\") == 16"
   ]
  },
  {
   "attachments": {},
   "cell_type": "markdown",
   "metadata": {},
   "source": [
    "5. Ecrire une fonction `base_to_decimal(n:str, b:int) -> int` qui convertit un nombre `n` écrit dans la base `b` en sa valeur décimale.\n"
   ]
  },
  {
   "cell_type": "code",
   "execution_count": 7,
   "metadata": {},
   "outputs": [],
   "source": [
    "def base_to_decimal(n: str, b: int) -> int:\n",
    "    \"\"\"convertit un nombre écrit dans une base b en sa valeur décimale\n",
    "\n",
    "    Args:\n",
    "        n (str): un nombre exprimé dans une base b\n",
    "        b (int): la base\n",
    "\n",
    "    Returns:\n",
    "        int: n convertit en décimal\n",
    "    \"\"\"\n",
    "\n",
    "    chiffres = \"0123456789ABCDEFGHIJKLMNOPQRSTUVWXYZ\"\n",
    "    s = 0\n",
    "    for c in n:\n",
    "        s = s * b + chiffres.index(c)\n",
    "    return s\n",
    "\n",
    "\n",
    "assert base_to_decimal(\"210122\", 3) == 584\n",
    "assert base_to_decimal(\"1011011\", 2) == 91"
   ]
  },
  {
   "attachments": {},
   "cell_type": "markdown",
   "metadata": {},
   "source": [
    "### Exercice n°13\n",
    "\n",
    "Coder une fonction qui renvoie l'écriture littérale d'un nombre dont l'écriture décimale est comprise entre 1 et 999. Par exemple, l'appel `ecriture_litterale(97)` renvoie `'quatre vingt dix sept'`\n"
   ]
  },
  {
   "cell_type": "code",
   "execution_count": 8,
   "metadata": {},
   "outputs": [
    {
     "name": "stdout",
     "output_type": "stream",
     "text": [
      "quatre\n",
      "dix\n",
      "onze\n",
      "quinze\n",
      "dix-neuf\n",
      "vingt\n",
      "vingt-deux\n",
      "soixante-dix-cinq\n",
      "cent vingt-cinq\n",
      "trois cents quarante-sept\n",
      "quatre cents \n"
     ]
    }
   ],
   "source": [
    "def ecriture_litterale(n: int) -> str:\n",
    "    \"\"\"renvoie l'écriture littérale d'un nombre entre 1 et 999\n",
    "\n",
    "    Args:\n",
    "        n (int): un entier entre 1 et 999\n",
    "\n",
    "    Returns:\n",
    "        str: l'écriture littérale de n\n",
    "    \"\"\"\n",
    "\n",
    "    assert type(n) == int\n",
    "    assert n >= 1 and n <= 999\n",
    "\n",
    "    unites = [\n",
    "        \"zéro\",\n",
    "        \"un\",\n",
    "        \"deux\",\n",
    "        \"trois\",\n",
    "        \"quatre\",\n",
    "        \"cinq\",\n",
    "        \"six\",\n",
    "        \"sept\",\n",
    "        \"huit\",\n",
    "        \"neuf\",\n",
    "    ]\n",
    "    dix = [\n",
    "        \"dix\",\n",
    "        \"onze\",\n",
    "        \"douze\",\n",
    "        \"treize\",\n",
    "        \"quatorze\",\n",
    "        \"quinze\",\n",
    "        \"seize\",\n",
    "        \"dix-sept\",\n",
    "        \"dix-huit\",\n",
    "        \"dix-neuf\",\n",
    "    ]\n",
    "    dizaines = [\n",
    "        \"\",\n",
    "        \"dix\",\n",
    "        \"vingt\",\n",
    "        \"trente\",\n",
    "        \"quarante\",\n",
    "        \"cinquante\",\n",
    "        \"soixante\",\n",
    "        \"soixante-dix\",\n",
    "        \"quatre-vingt\",\n",
    "        \"quatre-vingt-dix\",\n",
    "    ]\n",
    "\n",
    "    if n < 10:\n",
    "        return unites[n]\n",
    "    if n < 20:\n",
    "        return dix[n % 10]\n",
    "    if n < 100:\n",
    "        return dizaines[n // 10] + (f\"-{unites[n % 10]}\" if n % 10 != 0 else \"\")\n",
    "    if n < 1000:\n",
    "        centaine = unites[n // 100]\n",
    "        return (f\"{centaine} cents \" if n // 100 >= 2 else \"cent \") + (\n",
    "            ecriture_litterale(n % 100) if n % 100 != 0 else \"\"\n",
    "        )\n",
    "\n",
    "    return \"\"\n",
    "\n",
    "\n",
    "print(ecriture_litterale(4))\n",
    "print(ecriture_litterale(10))\n",
    "print(ecriture_litterale(11))\n",
    "print(ecriture_litterale(15))\n",
    "print(ecriture_litterale(19))\n",
    "print(ecriture_litterale(20))\n",
    "print(ecriture_litterale(22))\n",
    "print(ecriture_litterale(75))\n",
    "print(ecriture_litterale(125))\n",
    "print(ecriture_litterale(347))\n",
    "print(ecriture_litterale(400))"
   ]
  }
 ],
 "metadata": {
  "kernelspec": {
   "display_name": "Python 3",
   "language": "python",
   "name": "python3"
  },
  "language_info": {
   "codemirror_mode": {
    "name": "ipython",
    "version": 3
   },
   "file_extension": ".py",
   "mimetype": "text/x-python",
   "name": "python",
   "nbconvert_exporter": "python",
   "pygments_lexer": "ipython3",
   "version": "3.11.4"
  },
  "orig_nbformat": 4,
  "vscode": {
   "interpreter": {
    "hash": "aee8b7b246df8f9039afb4144a1f6fd8d2ca17a180786b69acc140d282b71a49"
   }
  }
 },
 "nbformat": 4,
 "nbformat_minor": 2
}
