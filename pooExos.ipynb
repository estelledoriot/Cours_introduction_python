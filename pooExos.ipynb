{
 "cells": [
  {
   "attachments": {},
   "cell_type": "markdown",
   "metadata": {},
   "source": [
    "**Estelle Doriot**\n",
    "\n",
    "_NSI Tale_\n",
    "\n",
    "---\n",
    "# Exercices: Programmation orientée objet\n",
    "---\n"
   ]
  },
  {
   "attachments": {},
   "cell_type": "markdown",
   "metadata": {},
   "source": [
    "### Exercice n° \n",
    "\n",
    "Écrire une classe `Personnage`, avec son nom et ses points de vie comme attribut. Ajouter une méthode `combat(self,other)` qui diminue de façon aléatoire les points de vie de l’un des personnages."
   ]
  },
  {
   "cell_type": "code",
   "execution_count": 38,
   "metadata": {},
   "outputs": [],
   "source": [
    "from random import randint\n",
    "\n",
    "class Personnage:\n",
    "    \n",
    "    def __init__(self, nom: str, pv: int) -> None:\n",
    "        self.nom = nom\n",
    "        self.pv = pv\n",
    "        \n",
    "    def combat(self, other) -> None:\n",
    "        if randint(1, 2) == 1:\n",
    "            self.pv -= 5\n",
    "        else:\n",
    "            other.pv -= 5"
   ]
  },
  {
   "attachments": {},
   "cell_type": "markdown",
   "metadata": {},
   "source": [
    "### Exercice n° (Compte bancaire)\n",
    "\n",
    "Écrire une classe `CompteBancaire`. Les objets sont initialisés avec le nom du titulaire\n",
    "et le solde. L’argument solde doit être facultatif et avoir une valeur prédéfinie zéro.\n",
    "Ajouter deux méthodes `depot(self,somme)` et `retrait(self,somme)` pour changer le\n",
    "solde. Ajouter une méthode `affiche(self)` qui montre le solde courant."
   ]
  },
  {
   "cell_type": "code",
   "execution_count": 37,
   "metadata": {},
   "outputs": [],
   "source": [
    "class CompteBancaire:\n",
    "    \n",
    "    def __init__(self, titulaire: str, solde: float = 0) -> None:\n",
    "        self.titulaire = titulaire\n",
    "        self.solde = solde\n",
    "        \n",
    "    def depot(self, somme: float) -> None:\n",
    "        self.solde += somme\n",
    "    \n",
    "    def retrait(self, somme: float) -> None:\n",
    "        self.solde -= somme\n",
    "        \n",
    "    def affiche(self) -> None:\n",
    "        print(f\"Le solde du compte est: {self.solde}.\")"
   ]
  },
  {
   "attachments": {},
   "cell_type": "markdown",
   "metadata": {},
   "source": [
    "### Exercice n° (Nombres rationnels)\n",
    "\n",
    "Python comme la plupart des langages ne dispose pas d’une structure de données de type\n",
    "rationnel (des fractions..) Nous allons en créer une ...(même s’il est certain que cela existe déjà...)\n",
    "\n",
    "Le cahier des charges\n",
    "On doit créer une classe Rationnel dont les instances auront les attributs numerateur et\n",
    "denominateur(celui-ci ne pourra être nul!!) et des méthodes pour:\n",
    "- Simplifier la fraction et normaliser son écriture\n",
    "- Additionner deux fractions\n",
    "- Soustraire deux fractions\n",
    "- Multiplier et diviser deux fractions\n",
    "\n",
    "La fraction $\\frac{12}{-15}$ doit s’écrire $\\frac{−4}{5}$. Il y a eu simplification par le PGCD de 12 et 15 et transfert du signe au numérateur.\n",
    "\n",
    "Il nous faudra:\n",
    "- Une fonction qui calcule le PGCD\n",
    "- Une méthode pour simplifier et normaliser la fraction.\n",
    "\n",
    "1. Ecrire une classe `Rationnel` avec son constructeur et la méthode `__repr__` pour afficher la fraction $\\frac{4}{5}$ sous la forme: `4/5`. On déclenchera une erreur lorsque le dénominateur est nul."
   ]
  },
  {
   "cell_type": "code",
   "execution_count": 17,
   "metadata": {},
   "outputs": [
    {
     "name": "stdout",
     "output_type": "stream",
     "text": [
      "12/-15\n",
      "7/1\n"
     ]
    }
   ],
   "source": [
    "class Rationnel:\n",
    "    \n",
    "    def __init__(self, num: int, denom: int=1) -> None:\n",
    "        assert denom != 0, \"Le dénominateur ne peut pas être nul\"\n",
    "        self.num = num\n",
    "        self.denom = denom\n",
    "        \n",
    "    def __repr__(self) -> str:\n",
    "        return f\"{self.num}/{self.denom}\"\n",
    "    \n",
    "f1 = Rationnel(12, -15)\n",
    "print(f1)\n",
    "\n",
    "f2 = Rationnel(7)\n",
    "print(f2)"
   ]
  },
  {
   "attachments": {},
   "cell_type": "markdown",
   "metadata": {},
   "source": [
    "2. Simplification de la fraction : Pour cela il nous faut une fonction qui calcule le PGCD de deux entiers.\n",
    "\n",
    "a. Écrire une fonction `pgcd(x: int, y: int) -> int` qui retourne le pgcd des entiers x et y passés en paramètres."
   ]
  },
  {
   "cell_type": "code",
   "execution_count": 18,
   "metadata": {},
   "outputs": [],
   "source": [
    "def pgcd(x: int, y: int) -> int:\n",
    "    while y != 0:\n",
    "        x, y = y, x % y\n",
    "    return x\n",
    "\n",
    "assert pgcd(15, 12) == 3\n",
    "assert pgcd(11, 15) == 1"
   ]
  },
  {
   "attachments": {},
   "cell_type": "markdown",
   "metadata": {},
   "source": [
    "b. Rajouter une méthode `normalise` qui simplifie la fraction. Puis rajouter un appel à la méthode `normalise` dans le constructeur pour que cette opération soit faite automatiquement."
   ]
  },
  {
   "cell_type": "code",
   "execution_count": 19,
   "metadata": {},
   "outputs": [
    {
     "name": "stdout",
     "output_type": "stream",
     "text": [
      "-4/5\n",
      "7/1\n"
     ]
    }
   ],
   "source": [
    "class Rationnel:\n",
    "    \n",
    "    def __init__(self, num: int, denom: int=1) -> None:\n",
    "        assert denom != 0, \"Le dénominateur ne peut pas être nul\"\n",
    "        self.num = num\n",
    "        self.denom = denom\n",
    "        self.normalise()\n",
    "        \n",
    "    def __repr__(self) -> str:\n",
    "        return f\"{self.num}/{self.denom}\"\n",
    "    \n",
    "    def normalise(self) -> None:\n",
    "        g = pgcd(self.num, self.denom)\n",
    "        self.num //= g\n",
    "        self.denom //= g\n",
    "        if self.denom < 0:\n",
    "            self.num = -self.num\n",
    "            self.denom = -self.denom\n",
    "            \n",
    "f1 = Rationnel(12, -15)\n",
    "print(f1)\n",
    "\n",
    "f2 = Rationnel(7)\n",
    "print(f2)"
   ]
  },
  {
   "attachments": {},
   "cell_type": "markdown",
   "metadata": {},
   "source": [
    "3. Pour pouvoir utiliser le symbole `+` pour faire une addition entre deux nombres rationnels, il faut écrire une méthode `__add__(self, other)` qui renvoie un nombre rationnel qui est le résultat de l'addition de deux fractions.\n",
    "\n",
    "On vérifiera que $\\frac{2}{7} + \\frac{5}{3} = \\frac{41}{21}$\n"
   ]
  },
  {
   "cell_type": "code",
   "execution_count": 20,
   "metadata": {},
   "outputs": [
    {
     "name": "stdout",
     "output_type": "stream",
     "text": [
      "41/21\n"
     ]
    }
   ],
   "source": [
    "class Rationnel:\n",
    "    \n",
    "    def __init__(self, num: int, denom: int=1) -> None:\n",
    "        assert denom != 0, \"Le dénominateur ne peut pas être nul\"\n",
    "        self.num = num\n",
    "        self.denom = denom\n",
    "        self.normalise()\n",
    "        \n",
    "    def __repr__(self) -> str:\n",
    "        return f\"{self.num}/{self.denom}\"\n",
    "    \n",
    "    def __add__(self, other: Rationnel) -> Rationnel:\n",
    "        return Rationnel(self.num * other.denom + other.num * self.denom, \n",
    "                         self.denom * other.denom)\n",
    "    \n",
    "    def normalise(self) -> None:\n",
    "        g = pgcd(self.num, self.denom)\n",
    "        self.num //= g\n",
    "        self.denom //= g\n",
    "        if self.denom < 0:\n",
    "            self.num = -self.num\n",
    "            self.denom = -self.denom\n",
    "            \n",
    "f1 = Rationnel(2, 7)\n",
    "f2 = Rationnel(5, 3)\n",
    "print(f1 + f2)"
   ]
  },
  {
   "attachments": {},
   "cell_type": "markdown",
   "metadata": {},
   "source": [
    "4. Effectuer les autres opérations. \n",
    "\n",
    "- Pour la soustraction `-` on utilise la fonction : `__sub__(self, other)`\n",
    "- Pour la multiplication `*` on utilise la fonction : `__mul__(self, other)`\n",
    "- Pour la division `/` ce sera : `__truediv__(self, other)`, il faudra gérer la division par 0"
   ]
  },
  {
   "cell_type": "code",
   "execution_count": 21,
   "metadata": {},
   "outputs": [
    {
     "name": "stdout",
     "output_type": "stream",
     "text": [
      "2/7 + 7/4 = 57/28\n",
      "2/7 - 7/4 = -41/28\n",
      "2/7 * 7/4 = 1/2\n",
      "2/7 / 7/4 = 8/49\n"
     ]
    }
   ],
   "source": [
    "class Rationnel:\n",
    "    \n",
    "    def __init__(self, num: int, denom: int=1) -> None:\n",
    "        assert denom != 0, \"Le dénominateur ne peut pas être nul\"\n",
    "        self.num = num\n",
    "        self.denom = denom\n",
    "        self.normalise()\n",
    "        \n",
    "    def __repr__(self) -> str:\n",
    "        return f\"{self.num}/{self.denom}\"\n",
    "    \n",
    "    def __add__(self, other: Rationnel) -> Rationnel:\n",
    "        return Rationnel(self.num * other.denom + other.num * self.denom, \n",
    "                         self.denom * other.denom)\n",
    "        \n",
    "    def __sub__(self, other: Rationnel) -> Rationnel:\n",
    "        return Rationnel(self.num * other.denom - other.num * self.denom, \n",
    "                         self.denom * other.denom)\n",
    "        \n",
    "    def __mul__(self, other: Rationnel) -> Rationnel:\n",
    "        return Rationnel(self.num * other.num, \n",
    "                         self.denom * other.denom)\n",
    "        \n",
    "    def __truediv__(self, other: Rationnel) -> Rationnel:\n",
    "        return Rationnel(self.num * other.denom, \n",
    "                         self.denom * other.num)\n",
    "    \n",
    "    def normalise(self) -> None:\n",
    "        g = pgcd(self.num, self.denom)\n",
    "        self.num //= g\n",
    "        self.denom //= g\n",
    "        if self.denom < 0:\n",
    "            self.num = -self.num\n",
    "            self.denom = -self.denom\n",
    "            \n",
    "f1 = Rationnel(2, 7)\n",
    "f2 = Rationnel(21, 12)\n",
    "print(f\"{f1} + {f2} = {f1 + f2}\")\n",
    "print(f\"{f1} - {f2} = {f1 - f2}\")\n",
    "print(f\"{f1} * {f2} = {f1 * f2}\")\n",
    "print(f\"{f1} / {f2} = {f1 / f2}\")"
   ]
  },
  {
   "attachments": {},
   "cell_type": "markdown",
   "metadata": {},
   "source": [
    "5. Le nombre d’Euler : $e = 2,718281....$ vérifie l’égalité suivante:\n",
    "\n",
    "$e = \\frac{1}{1} + \\frac{1}{1 \\times 2} + \\frac{1}{1 \\times 2 \\times 3} + \\dots + \\frac{1}{1 \\times 2 \\times 3 \\times \\dots \\times n} + \\dots$\n",
    "\n",
    "En utilisant la classe Rationnel, écrire une fonction `nombre_euler(n: int) -> Rationnel` qui renvoie une fraction qui permet d’obtenir une approximation de `e`."
   ]
  },
  {
   "cell_type": "code",
   "execution_count": 24,
   "metadata": {},
   "outputs": [
    {
     "name": "stdout",
     "output_type": "stream",
     "text": [
      "6235301/3628800\n",
      "1.7182818011463845\n"
     ]
    }
   ],
   "source": [
    "def euler(n: int) -> Rationnel:\n",
    "    e = Rationnel(0)\n",
    "    terme = Rationnel(1)\n",
    "    for i in range(1, n + 1):\n",
    "        terme *= Rationnel(1, i) \n",
    "        e += terme\n",
    "    return e\n",
    "\n",
    "euler_approx = euler(10)\n",
    "print(euler_approx)\n",
    "print(euler_approx.num/euler_approx.denom)"
   ]
  },
  {
   "attachments": {},
   "cell_type": "markdown",
   "metadata": {},
   "source": [
    "6. Toujours en utilisant la classe Rationnel, écrire une fonction qui permet d’obtenir une\n",
    "fraction donnant une approximation du nombre `pi` par la formule:\n",
    "\n",
    "$\\pi = 4 \\times (1 − \\frac{1}{3} + \\frac{1}{5} − \\frac{1}{7} + \\frac{1}{9} − \\dots + \\frac{(−1)^n}{2n + 1} + \\dots)$"
   ]
  },
  {
   "cell_type": "code",
   "execution_count": 35,
   "metadata": {},
   "outputs": [
    {
     "name": "stdout",
     "output_type": "stream",
     "text": [
      "8304519683050930315868351728478581371218237057610107475627876427688700564658702331560588/2635106162757236442495826303084698495565581115509040892412867358728390766099042109898375\n",
      "3.1514934010709905\n"
     ]
    }
   ],
   "source": [
    "def pi(n: int) -> Rationnel:\n",
    "    pi_approx = Rationnel(0)\n",
    "    for i in range(n + 1):\n",
    "        pi_approx += (Rationnel(1, 2*i + 1) if i % 2 == 0 \n",
    "                      else Rationnel(-1, 2*i + 1))\n",
    "    return Rationnel(4) * pi_approx\n",
    "\n",
    "pi_approx = pi(100)\n",
    "print(pi_approx)\n",
    "print(pi_approx.num/pi_approx.denom)"
   ]
  },
  {
   "attachments": {},
   "cell_type": "markdown",
   "metadata": {},
   "source": [
    "\n",
    "### Exercice n° (Points)\n",
    "\n",
    "Soit $M$ un point du plan $(\\vec{x},\\vec{y})$ et de coordonnées cartésiennes $x_M$ et $y_M$ dans un repère $R (0, \\vec{x}, \\vec{y})$. On peut considérer le point comme un objet géométrique, possédant 2 attributs : ses coordonnées dans R.\n",
    "\n",
    "1. Créer une classe `Point` avec son constructeur, qui représente un point de R."
   ]
  },
  {
   "cell_type": "code",
   "execution_count": 1,
   "metadata": {},
   "outputs": [],
   "source": [
    "class Point:\n",
    "    \n",
    "    def __init__(self, x: float, y: float) -> None:\n",
    "        self.x = x\n",
    "        self.y = y"
   ]
  },
  {
   "attachments": {},
   "cell_type": "markdown",
   "metadata": {},
   "source": [
    "2. Définir la méthode `__repr__` de la classe `Point` pour que le point M de coordonnées $(1, 2)$ s'affiche `P(1, 2)`."
   ]
  },
  {
   "cell_type": "code",
   "execution_count": 2,
   "metadata": {},
   "outputs": [
    {
     "name": "stdout",
     "output_type": "stream",
     "text": [
      "P(1, 2)\n"
     ]
    }
   ],
   "source": [
    "class Point:\n",
    "    \n",
    "    def __init__(self, x: float, y: float) -> None:\n",
    "        self.x = x\n",
    "        self.y = y\n",
    "        \n",
    "    def __repr__(self) -> str:\n",
    "        return f\"P({self.x}, {self.y})\"\n",
    "    \n",
    "M = Point(1, 2)\n",
    "print(M)"
   ]
  },
  {
   "attachments": {},
   "cell_type": "markdown",
   "metadata": {},
   "source": [
    "3. Écrire une méthode `distance(self, p)` admettant 2 objets de type Point (dont l’objet lui-même) comme paramètres et renvoyant la valeur de la distance entre ces deux points. Vérifier que la distance entre les points $(1, 4)$ et $(5, 1)$ est $5.0$."
   ]
  },
  {
   "cell_type": "code",
   "execution_count": 5,
   "metadata": {},
   "outputs": [],
   "source": [
    "from math import sqrt\n",
    "\n",
    "class Point:\n",
    "    \n",
    "    def __init__(self, x: float, y: float) -> None:\n",
    "        self.x = x\n",
    "        self.y = y\n",
    "        \n",
    "    def __repr__(self) -> str:\n",
    "        return f\"P({self.x}, {self.y})\"\n",
    "    \n",
    "    def distance(self, p: Point) -> float:\n",
    "        return sqrt((self.x - p.x) ** 2 + (self.y - p.y) ** 2)\n",
    "    \n",
    "M = Point(1, 4)\n",
    "N = Point(5, 1)\n",
    "\n",
    "assert M.distance(N) == 5.0"
   ]
  },
  {
   "attachments": {},
   "cell_type": "markdown",
   "metadata": {},
   "source": [
    "4. Pour afficher ce point graphiquement on peut utiliser le module `pylab`:\n",
    "```python\n",
    "import pylab\n",
    "# tracé d'un simple point :\n",
    "pylab.plot(x, y, \".\")\n",
    "# pour placer toute la figure dans un repère orthonormé :\n",
    "pylab.axis('scaled')\n",
    "# affichage de la figure :\n",
    "pylab.show()\n",
    "```\n",
    "\n",
    "Rajouter à la classe Point une méthode `dessiner` permettant d’afficher graphiquement les instances de `Point` dans un espace orthonormé.\n",
    "\n",
    "On vérifiera que les instructions suivantes\n",
    "\n",
    "```python\n",
    "p1 = Point(4, 4)\n",
    "p1.dessiner()\n",
    "p2 = Point(2, 5)\n",
    "p2.dessiner()\n",
    "p3 = Point(-1, 2)\n",
    "p3.dessiner()\n",
    "```\n",
    "\n",
    "affichent :\n",
    "\n",
    "![](troispoints.png)"
   ]
  },
  {
   "cell_type": "code",
   "execution_count": 13,
   "metadata": {},
   "outputs": [
    {
     "data": {
      "image/png": "[encoded data removed]",
      "text/plain": [
       "<Figure size 432x288 with 1 Axes>"
      ]
     },
     "metadata": {
      "needs_background": "light"
     },
     "output_type": "display_data"
    }
   ],
   "source": [
    "from math import sqrt\n",
    "import pylab\n",
    "\n",
    "class Point:\n",
    "    \n",
    "    def __init__(self, x: float, y: float) -> None:\n",
    "        self.x = x\n",
    "        self.y = y\n",
    "        \n",
    "    def __repr__(self) -> str:\n",
    "        return f\"P({self.x}, {self.y})\"\n",
    "    \n",
    "    def distance(self, p: Point) -> float:\n",
    "        return sqrt((self.x - p.x) ** 2 + (self.y - p.y) ** 2)\n",
    "    \n",
    "    def dessiner(self) -> None:\n",
    "        pylab.plot(self.x, self.y, \".\")\n",
    "\n",
    "        \n",
    "p1 = Point(4, 4)\n",
    "p1.dessiner()\n",
    "p2 = Point(2, 5)\n",
    "p2.dessiner()\n",
    "p3 = Point(-1, 2)\n",
    "p3.dessiner()\n",
    "\n",
    "pylab.axis('scaled')\n",
    "pylab.show()\n"
   ]
  },
  {
   "attachments": {},
   "cell_type": "markdown",
   "metadata": {},
   "source": [
    "5. De même que pour le point, on peut définir un vecteur par ses 2 coordonnées dans le repère R. Ecrire une classe `Vecteur`."
   ]
  },
  {
   "cell_type": "code",
   "execution_count": 14,
   "metadata": {},
   "outputs": [],
   "source": [
    "class Vecteur:\n",
    "    \n",
    "    def __init__(self, x: float, y: float) -> None:\n",
    "        self.x = x\n",
    "        self.y = y"
   ]
  },
  {
   "attachments": {},
   "cell_type": "markdown",
   "metadata": {},
   "source": [
    "6. Et pour en tracer un représentant dans le plan, on utilise la fonction `pylab.quiver`:\n",
    "```python\n",
    "pylab.quiver(x0, y0, x, y, units='xy', scale=1)\n",
    "```\n",
    "\n",
    "Implémenter une méthode dessiner, admettant un seul paramètre `p` (en plus de l’objet lui même bien sûr) de type `Point` et permettant d’afficher un représentant de ce vecteur au point `p`.\n",
    "\n",
    "Ainsi, si on rajoute les commandes suivantes aux précédentes :\n",
    "```python\n",
    "v1 = Vecteur(1,2)\n",
    "v1.dessiner(p3)\n",
    "\n",
    "v2 = Vecteur(-3,-1)\n",
    "v2.dessiner(p1)\n",
    "v2.dessiner(p2)\n",
    "```\n",
    "\n",
    "On doit voir apparaitre :\n",
    "\n",
    "![](troisfleches.png)"
   ]
  },
  {
   "cell_type": "code",
   "execution_count": 15,
   "metadata": {},
   "outputs": [
    {
     "data": {
      "image/png": "[encoded data removed]",
      "text/plain": [
       "<Figure size 432x288 with 1 Axes>"
      ]
     },
     "metadata": {
      "needs_background": "light"
     },
     "output_type": "display_data"
    }
   ],
   "source": [
    "import pylab\n",
    "\n",
    "class Vecteur:\n",
    "    \n",
    "    def __init__(self, x: float, y: float) -> None:\n",
    "        self.x = x\n",
    "        self.y = y\n",
    "        \n",
    "    def dessiner(self, p: Point) -> None:\n",
    "        p.dessiner()\n",
    "        pylab.quiver(p.x, p.y, self.x, self.y, units='xy', scale=1)\n",
    "        \n",
    "v1 = Vecteur(1,2)\n",
    "v1.dessiner(p3)\n",
    "v2 = Vecteur(-3,-1)\n",
    "v2.dessiner(p1)\n",
    "v2.dessiner(p2)\n",
    "\n",
    "pylab.axis('scaled')\n",
    "pylab.show()"
   ]
  },
  {
   "attachments": {},
   "cell_type": "markdown",
   "metadata": {},
   "source": [
    "7. Parmi les noms de méthodes spéciales, il en existe une permettant d’utiliser le symbole « + » pour faire une « somme » de deux objets, de mêmes types ou pas : la méthode `__add__()`.\n",
    "\n",
    "Écrire la méthode `__add__`, acceptant comme argument (en plus du vecteur lui-même, `self`) un autre vecteur `v`, et en renvoyant le vecteur somme.\n",
    "\n",
    "Le résultat doit permettre de faire ça (après avoir implémenté une méthode `__repr__()`comme pour le point) :\n",
    "```python\n",
    ">>> u = Vecteur(1, 5)\n",
    ">>> v = Vecteur(1, 4) \n",
    ">>> u + v \n",
    "v(2, 9)\n",
    "```"
   ]
  },
  {
   "cell_type": "code",
   "execution_count": 16,
   "metadata": {},
   "outputs": [
    {
     "name": "stdout",
     "output_type": "stream",
     "text": [
      "v(2, 9)\n"
     ]
    }
   ],
   "source": [
    "import pylab\n",
    "\n",
    "class Vecteur:\n",
    "    \n",
    "    def __init__(self, x: float, y: float) -> None:\n",
    "        self.x = x\n",
    "        self.y = y\n",
    "        \n",
    "    def __repr__(self) -> str:\n",
    "        return f\"v({self.x}, {self.y})\"\n",
    "        \n",
    "    def __add__(self, v: Vecteur) -> Vecteur:\n",
    "        return Vecteur(self.x + v.x, self.y + v.y)\n",
    "        \n",
    "    def dessiner(self, p: Point) -> None:\n",
    "        p.dessiner()\n",
    "        pylab.quiver(p.x, p.y, self.x, self.y, units='xy', scale=1)\n",
    "        \n",
    "u = Vecteur(1, 5)\n",
    "v = Vecteur(1, 4) \n",
    "print(u + v)"
   ]
  }
 ],
 "metadata": {
  "kernelspec": {
   "display_name": "Python 3",
   "language": "python",
   "name": "python3"
  },
  "language_info": {
   "codemirror_mode": {
    "name": "ipython",
    "version": 3
   },
   "file_extension": ".py",
   "mimetype": "text/x-python",
   "name": "python",
   "nbconvert_exporter": "python",
   "pygments_lexer": "ipython3",
   "version": "3.10.0 (v3.10.0:b494f5935c, Oct  4 2021, 14:59:19) [Clang 12.0.5 (clang-1205.0.22.11)]"
  },
  "orig_nbformat": 4,
  "vscode": {
   "interpreter": {
    "hash": "aee8b7b246df8f9039afb4144a1f6fd8d2ca17a180786b69acc140d282b71a49"
   }
  }
 },
 "nbformat": 4,
 "nbformat_minor": 2
}
