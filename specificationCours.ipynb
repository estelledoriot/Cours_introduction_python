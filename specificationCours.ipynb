{
 "cells": [
  {
   "attachments": {},
   "cell_type": "markdown",
   "metadata": {},
   "source": [
    "**Estelle Doriot**\n",
    "\n",
    "_NSI 1ère_\n",
    "\n",
    "---\n",
    "# Spécification et tests\n",
    "---"
   ]
  },
  {
   "attachments": {},
   "cell_type": "markdown",
   "metadata": {},
   "source": [
    "## Bonnes pratiques de programmation"
   ]
  },
  {
   "cell_type": "code",
   "execution_count": 1,
   "metadata": {},
   "outputs": [],
   "source": [
    "def ajustement(valeur):\n",
    "    return (valeur % 400 == 0) or (valeur % 100 != 0 and valeur % 4 == 0)"
   ]
  },
  {
   "cell_type": "code",
   "execution_count": 2,
   "metadata": {},
   "outputs": [],
   "source": [
    "def est_bissextile(annee):\n",
    "    return (annee % 400 == 0) or (annee % 100 != 0 and annee % 4 == 0)"
   ]
  },
  {
   "attachments": {},
   "cell_type": "markdown",
   "metadata": {},
   "source": [
    "## Documenter ses fonctions"
   ]
  },
  {
   "cell_type": "code",
   "execution_count": 3,
   "metadata": {},
   "outputs": [],
   "source": [
    "def est_bissextile(annee):\n",
    "    \"\"\"détermine si une année est bissextile. Une année est bissextile si:\n",
    "    - son numéro est divisible par 4\n",
    "    - mais ce n'est pas un siècle (1900 n'est pas bissextile)\n",
    "    - sauf si l'année est divisible par 400 (2000 est bissextile)\n",
    "\n",
    "    Args:\n",
    "        annee (int): numéro de l'année\n",
    "\n",
    "    Returns:\n",
    "        bool: True si l'année est bissextile, False sinon\n",
    "    \"\"\"\n",
    "    return (annee % 400 == 0) or (annee % 100 != 0 and annee % 4 == 0)"
   ]
  },
  {
   "attachments": {},
   "cell_type": "markdown",
   "metadata": {},
   "source": [
    "## Signature d'une fonction"
   ]
  },
  {
   "cell_type": "code",
   "execution_count": 4,
   "metadata": {},
   "outputs": [],
   "source": [
    "def est_bissextile(annee: int) -> bool:\n",
    "    \"\"\"détermine si une année est bissextile. Une année est bissextile si:\n",
    "    - son numéro est divisible par 4\n",
    "    - mais ce n'est pas un siècle (1900 n'est pas bissextile)\n",
    "    - sauf si l'année est divisible par 400 (2000 est bissextile)\n",
    "\n",
    "    Args:\n",
    "        annee (int): numéro de l'année\n",
    "\n",
    "    Returns:\n",
    "        bool: True si l'année est bissextile, False sinon\n",
    "    \"\"\"\n",
    "    return (annee % 400 == 0) or (annee % 100 != 0 and annee % 4 == 0)"
   ]
  },
  {
   "cell_type": "code",
   "execution_count": 5,
   "metadata": {},
   "outputs": [],
   "source": [
    "def miroir(lst: list) -> None:\n",
    "    n = len(lst)\n",
    "    for i in range(n // 2):\n",
    "        temp = lst[i]\n",
    "        lst[i] = lst[n-1-i]\n",
    "        lst[n-1-i] = temp"
   ]
  },
  {
   "cell_type": "code",
   "execution_count": 6,
   "metadata": {},
   "outputs": [],
   "source": [
    "def division(numerateur, denominateur):\n",
    "    if denominateur == 0:\n",
    "        return \"Impossible de diviser par 0\"\n",
    "    if numerateur % denominateur == 0:\n",
    "        return numerateur // denominateur\n",
    "    return False"
   ]
  },
  {
   "attachments": {},
   "cell_type": "markdown",
   "metadata": {},
   "source": [
    "## Assertions"
   ]
  },
  {
   "cell_type": "code",
   "execution_count": 7,
   "metadata": {},
   "outputs": [],
   "source": [
    "def est_premier(n):\n",
    "    assert type(n) == int, \"n doit être un nombre entier\"\n",
    "    assert n > 0, \"n doit être strictement positif\"\n",
    "    if n == 1:\n",
    "        return False\n",
    "    for d in range(2, n):\n",
    "        if n % d == 0 :\n",
    "            return False\n",
    "    return True"
   ]
  }
 ],
 "metadata": {
  "kernelspec": {
   "display_name": "Python 3",
   "language": "python",
   "name": "python3"
  },
  "language_info": {
   "codemirror_mode": {
    "name": "ipython",
    "version": 3
   },
   "file_extension": ".py",
   "mimetype": "text/x-python",
   "name": "python",
   "nbconvert_exporter": "python",
   "pygments_lexer": "ipython3",
   "version": "3.11.3"
  },
  "orig_nbformat": 4,
  "vscode": {
   "interpreter": {
    "hash": "aee8b7b246df8f9039afb4144a1f6fd8d2ca17a180786b69acc140d282b71a49"
   }
  }
 },
 "nbformat": 4,
 "nbformat_minor": 2
}
