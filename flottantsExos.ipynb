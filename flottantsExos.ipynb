{
 "cells": [
  {
   "attachments": {},
   "cell_type": "markdown",
   "metadata": {},
   "source": [
    "**Estelle Doriot**\n",
    "\n",
    "_NSI 1ère_\n",
    "\n",
    "---\n",
    "# Exercices : Flottants\n",
    "---\n",
    "\n",
    "### Exercice n° 1\n",
    "\n",
    "Déterminer l'écriture binaire des nombres suivants:\n",
    "\n",
    "1. $17,2_{10}$\n",
    "2. $35,31_{10}$\n",
    "3. $5,25_{10}$\n",
    "4. $0,5_{10}$\n",
    "5. $128,375_{10}$\n",
    "6. $0,05_{10}$\n",
    "7. $5,84375_{10}$\n",
    "8. $0,2_{10}$"
   ]
  },
  {
   "attachments": {},
   "cell_type": "markdown",
   "metadata": {},
   "source": [
    "**Correction**:\n",
    "\n",
    "1. $17,2_{10}$\n",
    "\n",
    "$17_{10} = 1\\,0001_{2}$\n",
    "\n",
    "$0,2 \\times 2 = 0,4$\n",
    "\n",
    "$0,4 \\times 2 = 0,8$\n",
    "\n",
    "$0,8 \\times 2 = 1,6$\n",
    "\n",
    "$0,6 \\times 2 = 1,2$\n",
    "\n",
    "Donc $0,2_{10} = 0,00110011\\dots_2$ donc $17,2_{10} = 1\\,0001,0011\\,0011\\dots_2$\n",
    "\n",
    "2. $35,35_{10}$\n",
    "\n",
    "$35_{10} = 10\\,0011_2$\n",
    "\n",
    "$0,35 \\times 2 = 0,7$\n",
    "\n",
    "$0,7 \\times 2 = 1,4$\n",
    "\n",
    "$0,4 \\times 2 = 0,8$\n",
    "\n",
    "$0,8 \\times 2 = 1,6$\n",
    "\n",
    "$0,6 \\times 2 = 1,2$\n",
    "\n",
    "$0,2 \\times 2 = 0,4$\n",
    "\n",
    "Donc $0,35_{10} = 01\\,0110\\,0110\\dots_2$ donc $35,35_{10} = 10\\,0011,01\\,0110\\,0110\\dots_2$\n",
    "\n",
    "3. $5,25_{10}$\n",
    "\n",
    "$5_{10} = 101_2$\n",
    "\n",
    "$0,25 \\times 2 = 0,5$\n",
    "\n",
    "$0,5 \\times 2 = 1$\n",
    "\n",
    "Donc $0,25_{10} = 0,01_2$ donc $5,25_{10} = 101,01_2$\n",
    "\n",
    "4. $0,5_{10}$\n",
    "\n",
    "$0,5 \\times 2 = 1$\n",
    "\n",
    "Donc 0,5_{10} = 0,1_2$\n",
    "\n",
    "5. $128,375_{10}$\n",
    "\n",
    "$128_{10} = 1000\\,0000_2$\n",
    "\n",
    "$0,375 \\times 2 = 0,75$\n",
    "\n",
    "$0,75 \\times 2 = 1,5$\n",
    "\n",
    "$0,5 \\times 2 = 1$\n",
    "\n",
    "Donc $0,375_{10} = 0,011_2$ donc $128,375_{10} = 1000\\,0000,011_2$\n",
    "\n",
    "6. $0,05_{10}$\n",
    "\n",
    "$0,05 \\times 2 = 0,1$\n",
    "\n",
    "$0,1 \\times 2 = 0,2$\n",
    "\n",
    "$0,2 \\times 2 = 0,4$\n",
    "\n",
    "$0,4 \\times 2 = 0,8$\n",
    "\n",
    "$0,8 \\times 2 = 1,6$\n",
    "\n",
    "$0,6 \\times 2 = 1,2$\n",
    "\n",
    "Donc $0,05_{10} = 0,00\\,0011\\,0011\\dots_2$\n",
    "\n",
    "7. $5,84375_{10}$\n",
    "\n",
    "$5_{10} = 101_2$\n",
    "\n",
    "$0,84375 \\times 2 = 1,6875$\n",
    "$0,6875 \\times 2 = 1,375$\n",
    "$0,375 \\times 2 = 0,75$\n",
    "$0,75 \\times 2 = 1,5$\n",
    "$0,5 \\times 2 = 1$\n",
    "\n",
    "Donc $0,84375_{10} = 0,11011_2$ donc $5,84375_{10} = 101,11011_2$\n",
    "\n",
    "8. $0,2_{10}$\n",
    "\n",
    "$0,2 \\times 2 = 0,4$\n",
    "\n",
    "$0,4 \\times 2 = 0,8$\n",
    "\n",
    "$0,8 \\times 2 = 1,6$\n",
    "\n",
    "$0,6 \\times 2 = 1,2$\n",
    "\n",
    "Donc $0,2_{10} = 0,0011\\,0011\\dots_2$"
   ]
  },
  {
   "attachments": {},
   "cell_type": "markdown",
   "metadata": {},
   "source": [
    "### Exercice n°2\n",
    "\n",
    "Coder les nombres décimaux suivants sur 32 bits:\n",
    "\n",
    "1. $0,01203125$\n",
    "2. $0,1$"
   ]
  },
  {
   "attachments": {},
   "cell_type": "markdown",
   "metadata": {},
   "source": [
    "**Correction** : \n",
    "\n",
    "1. $0,01203125$\n",
    "\n",
    "Par multiplications par 2 successives, on obtient : $0,01203125 = 1,54 \\times 2^{-7}$\n",
    "\n",
    "On a donc: $\\text{signe} = 0$, $e+127 = 0111\\,1000$, $1,54 = 1,1000\\,1010\\,0011\\,1101\\,1000\\,101$\n",
    "\n",
    "On obtient donc la représentation suivante : $0 \\quad 0111\\,1000 \\quad 1000\\,1010\\,0011\\,1101\\,1000\\,101$\n",
    "\n",
    "2. $0,1$\n",
    "\n",
    "On a déjà vu que $0,1_{10} = 0,0001\\,1001\\,1001\\,1001\\,1001\\dots_2$\n",
    "\n",
    "Donc $\\text{signe} = 0$, $e+127 = -4+127 = 0111\\,1011$, $m = 1,1001\\,1001\\,1001\\,1001\\,1001\\,100$\n",
    "\n",
    "On obtient donc la représentation suivante : $0 \\quad 0111\\,1011 \\quad 1001\\,1001\\,1001\\,1001\\,1001\\,100$"
   ]
  },
  {
   "attachments": {},
   "cell_type": "markdown",
   "metadata": {},
   "source": [
    "### Exercice n°3\n",
    "\n",
    "Donner la valeur décimale des nombres codés sur 32 bits par : \n",
    "\n",
    "1. $1 \\quad 1000\\,0110 \\quad 101\\,0110\\,1100\\,0000\\,0000\\,0000$\n",
    "2. $1 \\quad 0111\\,1110 \\quad 111\\,1000\\,0000\\,0000\\,0000\\,0000$\n",
    "3. $0 \\quad 1000\\,0011 \\quad 111\\,0000\\,0000\\,0000\\,0000\\,0000$"
   ]
  },
  {
   "attachments": {},
   "cell_type": "markdown",
   "metadata": {},
   "source": [
    "**Correction** :\n",
    "\n",
    "1. $1 \\quad 1000\\,0110 \\quad 101\\,0110\\,1100\\,0000\\,0000\\,0000$\n",
    "\n",
    "Signe: -\n",
    "\n",
    "$e_{10} = 2^7 + 2^2 + 2 - 127 = 7$\n",
    "\n",
    "$m_{10} = 1 + 2^{-1} + 2^{-3} + 2^{-5} + 2^{-6} + 2^{-8} + 2^{-9} = 1,677734375$\n",
    "\n",
    "Donc $n = -1,677734375 \\times 2^7 = -214,75$\n",
    "\n",
    "2. $1 \\quad 0111\\,1110 \\quad 111\\,1000\\,0000\\,0000\\,0000\\,0000$\n",
    "\n",
    "Signe: -\n",
    "\n",
    "$e_{10} = 2^6 + 2^5 + 2^4 + 2^3 + 2^2 + 2 - 127 = -1$\n",
    "\n",
    "$m_{10} = 1 + 2^{-1} + 2^{-2} + 2^{-3} + 2^{-4} = 1,9375$\n",
    "\n",
    "Donc $n = -1,9375 \\times 2^{-1} = -0,96875$\n",
    "\n",
    "3. $0 \\quad 1000\\,0011 \\quad 111\\,0000\\,0000\\,0000\\,0000\\,0000$\n",
    "\n",
    "Signe: +\n",
    "\n",
    "$e_{10} = 2^7 + 2^1 + 2^0 - 127 = 4$\n",
    "\n",
    "$m_{10} = 1 + 2^{-1} + 2^{-2} + 2^{-3} = 1,875$\n",
    "\n",
    "Donc $n = 1,875 \\times 2^4 = 30$"
   ]
  },
  {
   "attachments": {},
   "cell_type": "markdown",
   "metadata": {},
   "source": [
    "### Exercice n°4\n",
    "\n",
    "Écrire une fonction `chaineBinDec(c:str) -> float` qui prend en argument une chaîne de caractères `c` représentant un nombre à virgule écrit en binaire et qui le convertit en décimal."
   ]
  },
  {
   "cell_type": "code",
   "execution_count": 1,
   "metadata": {},
   "outputs": [],
   "source": [
    "def chaineBinDec(c: str) -> float:\n",
    "    \"\"\"convertit un nombre à virgule en binaire dans le système décimal\n",
    "\n",
    "    Args:\n",
    "        c (str): chaîne de caractères représentant un nombre à virgule en binaire\n",
    "\n",
    "    Returns:\n",
    "        float: c convertit dans le système décimal\n",
    "    \"\"\"\n",
    "    partie_entiere = 0\n",
    "    i = 0\n",
    "    while i < len(c) and c[i] != \",\":\n",
    "        partie_entiere = partie_entiere * 2 + int(c[i])\n",
    "        i += 1\n",
    "    partie_decimale = 0\n",
    "    diviseur = 1\n",
    "    i += 1\n",
    "    while i < len(c):\n",
    "        diviseur /= 2\n",
    "        partie_decimale += int(c[i]) * diviseur\n",
    "        i += 1\n",
    "    return partie_entiere + partie_decimale\n",
    "    \n",
    "assert chaineBinDec('1,101') == 1.625\n",
    "assert chaineBinDec('101,001') == 5.125\n",
    "assert chaineBinDec('10000000,011') == 128.375"
   ]
  },
  {
   "attachments": {},
   "cell_type": "markdown",
   "metadata": {},
   "source": [
    "### Exercice n°5\n",
    "\n",
    "Écrire une fonction `chaineIEEE754(c:str) -> float` qui prend en argument une chaîne de caractères `c` représentant les bits d'un nombre flottant sur 32 bits et qui renvoie la valeur décimale de ce nombre."
   ]
  },
  {
   "cell_type": "code",
   "execution_count": 2,
   "metadata": {},
   "outputs": [],
   "source": [
    "def chaineIEEE754(c: str) -> float:\n",
    "    \"\"\"convertit un flottant codé sur 32 bits en sa valeur décimale\n",
    "\n",
    "    Args:\n",
    "        c (str): chaîne de caractères codant un flottant en binaire sur 32 bits\n",
    "\n",
    "    Returns:\n",
    "        float: valeur décimale de c\n",
    "    \"\"\"\n",
    "    signe = c[0]\n",
    "    exposant = c[1:9]\n",
    "    mantisse = c[9:]\n",
    "    s = 1 if signe == '0' else -1\n",
    "    e = int(exposant, 2) - 127\n",
    "    m = chaineBinDec(f\"1,{mantisse}\")\n",
    "    return s * m * 2 ** e\n",
    "\n",
    "assert chaineIEEE754(\"11000011010101101100000000000000\") == -214.75\n",
    "assert chaineIEEE754(\"10111111011110000000000000000000\") == -0.96875\n",
    "assert chaineIEEE754(\"01000001111100000000000000000000\") == 30.0"
   ]
  },
  {
   "attachments": {},
   "cell_type": "markdown",
   "metadata": {},
   "source": [
    "### Exercice n°6\n",
    "\n",
    "Comparer expliquer la différences d'affichage entre les instructions `print(2**1024)` et `print(2.0**1024)` ?"
   ]
  },
  {
   "cell_type": "code",
   "execution_count": 3,
   "metadata": {},
   "outputs": [
    {
     "name": "stdout",
     "output_type": "stream",
     "text": [
      "179769313486231590772930519078902473361797697894230657273430081157732675805500963132708477322407536021120113879871393357658789768814416622492847430639474124377767893424865485276302219601246094119453082952085005768838150682342462881473913110540827237163350510684586298239947245938479716304835356329624224137216\n"
     ]
    },
    {
     "ename": "OverflowError",
     "evalue": "(34, 'Result too large')",
     "output_type": "error",
     "traceback": [
      "\u001b[0;31m---------------------------------------------------------------------------\u001b[0m",
      "\u001b[0;31mOverflowError\u001b[0m                             Traceback (most recent call last)",
      "Cell \u001b[0;32mIn[3], line 2\u001b[0m\n\u001b[1;32m      1\u001b[0m \u001b[39mprint\u001b[39m(\u001b[39m2\u001b[39m\u001b[39m*\u001b[39m\u001b[39m*\u001b[39m\u001b[39m1024\u001b[39m)\n\u001b[0;32m----> 2\u001b[0m \u001b[39mprint\u001b[39m(\u001b[39m2.0\u001b[39;49m\u001b[39m*\u001b[39;49m\u001b[39m*\u001b[39;49m\u001b[39m1024\u001b[39;49m)\n",
      "\u001b[0;31mOverflowError\u001b[0m: (34, 'Result too large')"
     ]
    }
   ],
   "source": [
    "print(2**1024)\n",
    "print(2.0**1024)"
   ]
  },
  {
   "attachments": {},
   "cell_type": "markdown",
   "metadata": {},
   "source": [
    "### Exercice n°7\n",
    "\n",
    "Cet exercice a pour objectif d'étudier l'intérêt des nombres dénormalisés et quelques-unes de leurs particularités.\n",
    "1. Soit $x_1$ le plus petit nombre à virgule flottante normalisé strictement positif représentable sur 64 bits, et $x_2$ le plus petit nombre représentable strictement supérieur à $x_1$.\n",
    "Calculer $x_1 -x_2$. Combien vaut l'écart relatif $\\frac{x_1-x_2}{x_1-0}$.\n",
    "2. Refaire la même étude avec les deux plus petits nombres dénormalisés $y_1$ et $y_2$.\n",
    "3. Calculer également l'écart relatif $\\frac{y_2-y_1}{x_2-x_1}$ et interpréter ce résultat en termes de densité des nombres représentables dans différents intervalles.\n",
    "4. Expliquer pourquoi l'exposant des nombres dénormalisés doit être -1022 et non pas -1023 comme serait interprété l'exposant 00000000000 dans le cas d'un nombre normalisé."
   ]
  },
  {
   "attachments": {},
   "cell_type": "markdown",
   "metadata": {},
   "source": [
    "### Exercice n°8\n",
    "\n",
    "Montrer que, pour comparer deux nombres àvirgule flottantede mêmesigne, li suffit de les comparer bit par bit : si leurs bits les plusà gauche sont différents, celui dont ce bit vaut 1 est le plus grand; sinon on compare leurs bits suivants jusqu'à trouver deux bits différents pour pouvoirappliquer cette règle.\n",
    "(Cette règle ne s'applique bien entendu pas aux infinise taux NaN, dont on rappelle que l'exposant vaut 11111111111.)"
   ]
  }
 ],
 "metadata": {
  "kernelspec": {
   "display_name": "Python 3",
   "language": "python",
   "name": "python3"
  },
  "language_info": {
   "codemirror_mode": {
    "name": "ipython",
    "version": 3
   },
   "file_extension": ".py",
   "mimetype": "text/x-python",
   "name": "python",
   "nbconvert_exporter": "python",
   "pygments_lexer": "ipython3",
   "version": "3.11.3"
  },
  "orig_nbformat": 4,
  "vscode": {
   "interpreter": {
    "hash": "aee8b7b246df8f9039afb4144a1f6fd8d2ca17a180786b69acc140d282b71a49"
   }
  }
 },
 "nbformat": 4,
 "nbformat_minor": 2
}
