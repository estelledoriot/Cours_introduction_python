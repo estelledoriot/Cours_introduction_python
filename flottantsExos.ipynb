{
 "cells": [
  {
   "attachments": {},
   "cell_type": "markdown",
   "metadata": {},
   "source": [
    "**Estelle Doriot**\n",
    "\n",
    "_NSI 1ère_\n",
    "\n",
    "---\n",
    "\n",
    "# Exercices : Flottants\n",
    "\n",
    "---\n",
    "\n",
    "### Exercice n° 1\n",
    "\n",
    "Déterminer l'écriture binaire des nombres suivants:\n",
    "\n",
    "1. $17,2_{10}$\n",
    "2. $35,31_{10}$\n",
    "3. $5,25_{10}$\n",
    "4. $0,5_{10}$\n",
    "5. $128,375_{10}$\n",
    "6. $0,05_{10}$\n",
    "7. $5,84375_{10}$\n",
    "8. $0,2_{10}$\n"
   ]
  },
  {
   "attachments": {},
   "cell_type": "markdown",
   "metadata": {},
   "source": [
    "**Correction**:\n",
    "\n",
    "1. $17,2_{10}$\n",
    "\n",
    "$17_{10} = 1\\,0001_{2}$\n",
    "\n",
    "$0,2 \\times 2 = 0,4$\n",
    "\n",
    "$0,4 \\times 2 = 0,8$\n",
    "\n",
    "$0,8 \\times 2 = 1,6$\n",
    "\n",
    "$0,6 \\times 2 = 1,2$\n",
    "\n",
    "Donc $0,2_{10} = 0,00110011\\dots_2$ donc $17,2_{10} = 1\\,0001,0011\\,0011\\dots_2$\n",
    "\n",
    "2. $35,35_{10}$\n",
    "\n",
    "$35_{10} = 10\\,0011_2$\n",
    "\n",
    "$0,35 \\times 2 = 0,7$\n",
    "\n",
    "$0,7 \\times 2 = 1,4$\n",
    "\n",
    "$0,4 \\times 2 = 0,8$\n",
    "\n",
    "$0,8 \\times 2 = 1,6$\n",
    "\n",
    "$0,6 \\times 2 = 1,2$\n",
    "\n",
    "$0,2 \\times 2 = 0,4$\n",
    "\n",
    "Donc $0,35_{10} = 01\\,0110\\,0110\\dots_2$ donc $35,35_{10} = 10\\,0011,01\\,0110\\,0110\\dots_2$\n",
    "\n",
    "3. $5,25_{10}$\n",
    "\n",
    "$5_{10} = 101_2$\n",
    "\n",
    "$0,25 \\times 2 = 0,5$\n",
    "\n",
    "$0,5 \\times 2 = 1$\n",
    "\n",
    "Donc $0,25_{10} = 0,01_2$ donc $5,25_{10} = 101,01_2$\n",
    "\n",
    "4. $0,5_{10}$\n",
    "\n",
    "$0,5 \\times 2 = 1$\n",
    "\n",
    "Donc 0,5\\_{10} = 0,1_2$\n",
    "\n",
    "5. $128,375_{10}$\n",
    "\n",
    "$128_{10} = 1000\\,0000_2$\n",
    "\n",
    "$0,375 \\times 2 = 0,75$\n",
    "\n",
    "$0,75 \\times 2 = 1,5$\n",
    "\n",
    "$0,5 \\times 2 = 1$\n",
    "\n",
    "Donc $0,375_{10} = 0,011_2$ donc $128,375_{10} = 1000\\,0000,011_2$\n",
    "\n",
    "6. $0,05_{10}$\n",
    "\n",
    "$0,05 \\times 2 = 0,1$\n",
    "\n",
    "$0,1 \\times 2 = 0,2$\n",
    "\n",
    "$0,2 \\times 2 = 0,4$\n",
    "\n",
    "$0,4 \\times 2 = 0,8$\n",
    "\n",
    "$0,8 \\times 2 = 1,6$\n",
    "\n",
    "$0,6 \\times 2 = 1,2$\n",
    "\n",
    "Donc $0,05_{10} = 0,00\\,0011\\,0011\\dots_2$\n",
    "\n",
    "7. $5,84375_{10}$\n",
    "\n",
    "$5_{10} = 101_2$\n",
    "\n",
    "$0,84375 \\times 2 = 1,6875$\n",
    "$0,6875 \\times 2 = 1,375$\n",
    "$0,375 \\times 2 = 0,75$\n",
    "$0,75 \\times 2 = 1,5$\n",
    "$0,5 \\times 2 = 1$\n",
    "\n",
    "Donc $0,84375_{10} = 0,11011_2$ donc $5,84375_{10} = 101,11011_2$\n",
    "\n",
    "8. $0,2_{10}$\n",
    "\n",
    "$0,2 \\times 2 = 0,4$\n",
    "\n",
    "$0,4 \\times 2 = 0,8$\n",
    "\n",
    "$0,8 \\times 2 = 1,6$\n",
    "\n",
    "$0,6 \\times 2 = 1,2$\n",
    "\n",
    "Donc $0,2_{10} = 0,0011\\,0011\\dots_2$\n"
   ]
  },
  {
   "attachments": {},
   "cell_type": "markdown",
   "metadata": {},
   "source": [
    "### Exercice n°2\n",
    "\n",
    "Coder les nombres décimaux suivants sur 32 bits:\n",
    "\n",
    "1. $0,01203125$\n",
    "2. $0,1$\n"
   ]
  },
  {
   "attachments": {},
   "cell_type": "markdown",
   "metadata": {},
   "source": [
    "**Correction** :\n",
    "\n",
    "1. $0,01203125$\n",
    "\n",
    "Par multiplications par 2 successives, on obtient : $0,01203125 = 1,54 \\times 2^{-7}$\n",
    "\n",
    "On a donc: $\\text{signe} = 0$, $e+127 = 0111\\,1000$, $1,54 = 1,1000\\,1010\\,0011\\,1101\\,1000\\,101$\n",
    "\n",
    "On obtient donc la représentation suivante : $0 \\quad 0111\\,1000 \\quad 1000\\,1010\\,0011\\,1101\\,1000\\,101$\n",
    "\n",
    "2. $0,1$\n",
    "\n",
    "On a déjà vu que $0,1_{10} = 0,0001\\,1001\\,1001\\,1001\\,1001\\dots_2$\n",
    "\n",
    "Donc $\\text{signe} = 0$, $e+127 = -4+127 = 0111\\,1011$, $m = 1,1001\\,1001\\,1001\\,1001\\,1001\\,100$\n",
    "\n",
    "On obtient donc la représentation suivante : $0 \\quad 0111\\,1011 \\quad 1001\\,1001\\,1001\\,1001\\,1001\\,100$\n"
   ]
  },
  {
   "attachments": {},
   "cell_type": "markdown",
   "metadata": {},
   "source": [
    "### Exercice n°3\n",
    "\n",
    "Donner la valeur décimale des nombres codés sur 32 bits par :\n",
    "\n",
    "1. $1 \\quad 1000\\,0110 \\quad 101\\,0110\\,1100\\,0000\\,0000\\,0000$\n",
    "2. $1 \\quad 0111\\,1110 \\quad 111\\,1000\\,0000\\,0000\\,0000\\,0000$\n",
    "3. $0 \\quad 1000\\,0011 \\quad 111\\,0000\\,0000\\,0000\\,0000\\,0000$\n"
   ]
  },
  {
   "attachments": {},
   "cell_type": "markdown",
   "metadata": {},
   "source": [
    "**Correction** :\n",
    "\n",
    "1. $1 \\quad 1000\\,0110 \\quad 101\\,0110\\,1100\\,0000\\,0000\\,0000$\n",
    "\n",
    "Signe: -\n",
    "\n",
    "$e_{10} = 2^7 + 2^2 + 2 - 127 = 7$\n",
    "\n",
    "$m_{10} = 1 + 2^{-1} + 2^{-3} + 2^{-5} + 2^{-6} + 2^{-8} + 2^{-9} = 1,677734375$\n",
    "\n",
    "Donc $n = -1,677734375 \\times 2^7 = -214,75$\n",
    "\n",
    "2. $1 \\quad 0111\\,1110 \\quad 111\\,1000\\,0000\\,0000\\,0000\\,0000$\n",
    "\n",
    "Signe: -\n",
    "\n",
    "$e_{10} = 2^6 + 2^5 + 2^4 + 2^3 + 2^2 + 2 - 127 = -1$\n",
    "\n",
    "$m_{10} = 1 + 2^{-1} + 2^{-2} + 2^{-3} + 2^{-4} = 1,9375$\n",
    "\n",
    "Donc $n = -1,9375 \\times 2^{-1} = -0,96875$\n",
    "\n",
    "3. $0 \\quad 1000\\,0011 \\quad 111\\,0000\\,0000\\,0000\\,0000\\,0000$\n",
    "\n",
    "Signe: +\n",
    "\n",
    "$e_{10} = 2^7 + 2^1 + 2^0 - 127 = 4$\n",
    "\n",
    "$m_{10} = 1 + 2^{-1} + 2^{-2} + 2^{-3} = 1,875$\n",
    "\n",
    "Donc $n = 1,875 \\times 2^4 = 30$\n"
   ]
  },
  {
   "attachments": {},
   "cell_type": "markdown",
   "metadata": {},
   "source": [
    "### Exercice n°4\n",
    "\n",
    "1. Comment est représenté l'entier $5$?\n",
    "2. Et le nombre $5,0$ ?\n"
   ]
  },
  {
   "attachments": {},
   "cell_type": "markdown",
   "metadata": {},
   "source": [
    "**Correction**:\n",
    "\n",
    "1. L'entier $5$ est codé par 0000 ... 0000 0101\n",
    "\n",
    "2. $5 = 1,25 \\times 2^2$. On a donc:\n",
    "   - le signe: $0$ car $5$ est positif\n",
    "   - l'exposant: $127+2 = 129$ -> 1000 0001\n",
    "   - la mantisse : $1,25_{(10)} = 1,01_{(2)}$ -> 010 0000 ... 0000\n",
    "\n",
    "Donc $5,0$ est remprésenté par: 0 1000 0001 010 0000 0000 0000 0000 0000\n"
   ]
  },
  {
   "attachments": {},
   "cell_type": "markdown",
   "metadata": {},
   "source": [
    "### Exercice n°5\n",
    "\n",
    "Écrire une fonction `chaineBinDec(c:str) -> float` qui prend en argument une chaîne de caractères `c` représentant un nombre à virgule écrit en binaire et qui le convertit en décimal.\n"
   ]
  },
  {
   "cell_type": "code",
   "execution_count": 1,
   "metadata": {},
   "outputs": [],
   "source": [
    "def chaineBinDec(c: str) -> float:\n",
    "    \"\"\"convertit un nombre à virgule en binaire dans le système décimal\n",
    "\n",
    "    Args:\n",
    "        c (str): chaîne de caractères représentant un nombre à virgule en binaire\n",
    "\n",
    "    Returns:\n",
    "        float: c convertit dans le système décimal\n",
    "    \"\"\"\n",
    "    partie_entiere = 0\n",
    "    i = 0\n",
    "    while i < len(c) and c[i] != \",\":\n",
    "        partie_entiere = partie_entiere * 2 + int(c[i])\n",
    "        i += 1\n",
    "    partie_decimale = 0\n",
    "    diviseur = 1\n",
    "    i += 1\n",
    "    while i < len(c):\n",
    "        diviseur /= 2\n",
    "        partie_decimale += int(c[i]) * diviseur\n",
    "        i += 1\n",
    "    return partie_entiere + partie_decimale\n",
    "\n",
    "\n",
    "assert chaineBinDec(\"1,101\") == 1.625\n",
    "assert chaineBinDec(\"101,001\") == 5.125\n",
    "assert chaineBinDec(\"10000000,011\") == 128.375"
   ]
  },
  {
   "attachments": {},
   "cell_type": "markdown",
   "metadata": {},
   "source": [
    "### Exercice n°6\n",
    "\n",
    "Écrire une fonction `chaineIEEE754(c:str) -> float` qui prend en argument une chaîne de caractères `c` représentant les bits d'un nombre flottant sur 32 bits et qui renvoie la valeur décimale de ce nombre.\n"
   ]
  },
  {
   "cell_type": "code",
   "execution_count": 2,
   "metadata": {},
   "outputs": [],
   "source": [
    "def chaineIEEE754(c: str) -> float:\n",
    "    \"\"\"convertit un flottant codé sur 32 bits en sa valeur décimale\n",
    "\n",
    "    Args:\n",
    "        c (str): chaîne de caractères codant un flottant en binaire sur 32 bits\n",
    "\n",
    "    Returns:\n",
    "        float: valeur décimale de c\n",
    "    \"\"\"\n",
    "    signe = c[0]\n",
    "    exposant = c[1:9]\n",
    "    mantisse = c[9:]\n",
    "    s = 1 if signe == \"0\" else -1\n",
    "    e = int(exposant, 2) - 127\n",
    "    m = chaineBinDec(f\"1,{mantisse}\")\n",
    "    return s * m * 2**e\n",
    "\n",
    "\n",
    "assert chaineIEEE754(\"11000011010101101100000000000000\") == -214.75\n",
    "assert chaineIEEE754(\"10111111011110000000000000000000\") == -0.96875\n",
    "assert chaineIEEE754(\"01000001111100000000000000000000\") == 30.0"
   ]
  },
  {
   "attachments": {},
   "cell_type": "markdown",
   "metadata": {},
   "source": [
    "### Exercice n°7\n",
    "\n",
    "Comparer expliquer la différences d'affichage entre les instructions `print(2**1024)` et `print(2.0**1024)` ?\n"
   ]
  },
  {
   "cell_type": "code",
   "execution_count": 3,
   "metadata": {},
   "outputs": [
    {
     "name": "stdout",
     "output_type": "stream",
     "text": [
      "179769313486231590772930519078902473361797697894230657273430081157732675805500963132708477322407536021120113879871393357658789768814416622492847430639474124377767893424865485276302219601246094119453082952085005768838150682342462881473913110540827237163350510684586298239947245938479716304835356329624224137216\n"
     ]
    },
    {
     "ename": "OverflowError",
     "evalue": "(34, 'Result too large')",
     "output_type": "error",
     "traceback": [
      "\u001b[0;31m---------------------------------------------------------------------------\u001b[0m",
      "\u001b[0;31mOverflowError\u001b[0m                             Traceback (most recent call last)",
      "Cell \u001b[0;32mIn[3], line 2\u001b[0m\n\u001b[1;32m      1\u001b[0m \u001b[39mprint\u001b[39m(\u001b[39m2\u001b[39m\u001b[39m*\u001b[39m\u001b[39m*\u001b[39m\u001b[39m1024\u001b[39m)\n\u001b[0;32m----> 2\u001b[0m \u001b[39mprint\u001b[39m(\u001b[39m2.0\u001b[39;49m\u001b[39m*\u001b[39;49m\u001b[39m*\u001b[39;49m\u001b[39m1024\u001b[39;49m)\n",
      "\u001b[0;31mOverflowError\u001b[0m: (34, 'Result too large')"
     ]
    }
   ],
   "source": [
    "print(2**1024)\n",
    "print(2.0**1024)\n"
   ]
  },
  {
   "attachments": {},
   "cell_type": "markdown",
   "metadata": {},
   "source": [
    "**Correction**:\n",
    "\n",
    "- La taille des entiers n'est pas limitée, donc l'affichage de $2^1024$ ne pose pas de problème.\n",
    "- Les flottants en double précision possèdent un exposant codé sur 11 bits, donc la plus grande puissance de 2 représentable est $2^{2^{11-1}-1} = 2^{1023}$. L'affichage de $2^{1024}$ produit un dépassement de capacité.\n"
   ]
  },
  {
   "attachments": {},
   "cell_type": "markdown",
   "metadata": {},
   "source": [
    "### Exercice n°8\n",
    "\n",
    "On cherche à écrire un programme qui calcule les termes de la suite $(u_n)_n$ définie par : $u_0 = 2$, $u_1 = -4$, $u_{n+1} = 111 - \\frac{1130}{u_n} + \\frac{3000}{u_n \\times u_{n-1}}$\n",
    "\n",
    "1. Ecrire un programme qui utilise le type `float` pour calculer les 50 premiers termes de la suite $(u_n)_n$.\n"
   ]
  },
  {
   "cell_type": "code",
   "execution_count": 4,
   "metadata": {},
   "outputs": [
    {
     "name": "stdout",
     "output_type": "stream",
     "text": [
      "u0 = 2\n",
      "u1 = -4\n",
      "u2 = 18.5\n",
      "u3 = 9.378378378378379\n",
      "u4 = 7.801152737752169\n",
      "u5 = 7.154414480975333\n",
      "u6 = 6.806784736924811\n",
      "u7 = 6.592632768721792\n",
      "u8 = 6.449465934053933\n",
      "u9 = 6.348452060746624\n",
      "u10 = 6.274438662728116\n",
      "u11 = 6.218696768582163\n",
      "u12 = 6.17585385581539\n",
      "u13 = 6.142627170481006\n",
      "u14 = 6.120248704570159\n",
      "u15 = 6.166086559598099\n",
      "u16 = 7.235021165534931\n",
      "u17 = 22.062078463525793\n",
      "u18 = 78.57557488787224\n",
      "u19 = 98.34950312216536\n",
      "u20 = 99.8985692661829\n",
      "u21 = 99.99387098890278\n",
      "u22 = 99.99963038728635\n",
      "u23 = 99.99997773067949\n",
      "u24 = 99.99999865921669\n",
      "u25 = 99.99999991932181\n",
      "u26 = 99.99999999514776\n",
      "u27 = 99.99999999970828\n",
      "u28 = 99.99999999998246\n",
      "u29 = 99.99999999999893\n",
      "u30 = 99.99999999999993\n",
      "u31 = 99.99999999999999\n",
      "u32 = 100.0\n",
      "u33 = 100.0\n",
      "u34 = 100.0\n",
      "u35 = 100.0\n",
      "u36 = 100.0\n",
      "u37 = 100.0\n",
      "u38 = 100.0\n",
      "u39 = 100.0\n",
      "u40 = 100.0\n",
      "u41 = 100.0\n",
      "u42 = 100.0\n",
      "u43 = 100.0\n",
      "u44 = 100.0\n",
      "u45 = 100.0\n",
      "u46 = 100.0\n",
      "u47 = 100.0\n",
      "u48 = 100.0\n",
      "u49 = 100.0\n",
      "u50 = 100.0\n"
     ]
    }
   ],
   "source": [
    "u0 = 2\n",
    "print(f\"u0 = {u0}\")\n",
    "\n",
    "u1 = -4\n",
    "print(f\"u1 = {u1}\")\n",
    "\n",
    "for i in range(2, 51):\n",
    "    u2 = 111 - 1130 / u1 + 3000 / (u1 * u0)\n",
    "    print(f\"u{i} = {u2}\")\n",
    "    u0, u1 = u1, u2"
   ]
  },
  {
   "attachments": {},
   "cell_type": "markdown",
   "metadata": {},
   "source": [
    "2. Reprendre le programme précédent en utilisant des fractions à la place des flottants. Pour cela, on utilisera le module `fractions` comme suit:\n",
    "\n",
    "```python\n",
    "from fractions import Fraction as f\n",
    "a = f(3, 5) # crée la fraction 3/5\n",
    "```\n",
    "\n",
    "On convertira les fractions en flottants pour l'affichage des résultats.\n"
   ]
  },
  {
   "cell_type": "code",
   "execution_count": 5,
   "metadata": {},
   "outputs": [
    {
     "name": "stdout",
     "output_type": "stream",
     "text": [
      "u0 = 2\n",
      "u1 = -4\n",
      "u2 = 18.5\n",
      "u3 = 9.378378378378379\n",
      "u4 = 7.801152737752162\n",
      "u5 = 7.154414480975249\n",
      "u6 = 6.806784736923633\n",
      "u7 = 6.592632768704439\n",
      "u8 = 6.449465933790288\n",
      "u9 = 6.348452056654357\n",
      "u10 = 6.274438598216328\n",
      "u11 = 6.218695739802397\n",
      "u12 = 6.17583730492123\n",
      "u13 = 6.1423590812383555\n",
      "u14 = 6.11588306655108\n",
      "u15 = 6.094739439333681\n",
      "u16 = 6.077722304847243\n",
      "u17 = 6.063940322499809\n",
      "u18 = 6.052721761016152\n",
      "u19 = 6.043552110189269\n",
      "u20 = 6.036031881081857\n",
      "u21 = 6.029847325023902\n",
      "u22 = 6.024749652366848\n",
      "u23 = 6.020539984061516\n",
      "u24 = 6.017058257328988\n",
      "u25 = 6.014174914550819\n",
      "u26 = 6.011784587871333\n",
      "u27 = 6.0098012392984845\n",
      "u28 = 6.008154378912229\n",
      "u29 = 6.006786093031206\n",
      "u30 = 6.00564868877142\n",
      "u31 = 6.0047028131881754\n",
      "u32 = 6.0039159416664605\n",
      "u33 = 6.003261156305741\n",
      "u34 = 6.002716153954351\n",
      "u35 = 6.002262437440559\n",
      "u36 = 6.0018846538818815\n",
      "u37 = 6.001570051734219\n",
      "u38 = 6.001308034164964\n",
      "u39 = 6.001089790890184\n",
      "u40 = 6.000907994154527\n",
      "u41 = 6.00075654730535\n",
      "u42 = 6.000630376602839\n",
      "u43 = 6.000525258650572\n",
      "u44 = 6.000437677226518\n",
      "u45 = 6.0003647044182955\n",
      "u46 = 6.000303901876187\n",
      "u47 = 6.0002532387368674\n",
      "u48 = 6.000211023374175\n",
      "u49 = 6.0001758466271875\n",
      "u50 = 6.000146534561388\n"
     ]
    }
   ],
   "source": [
    "from fractions import Fraction as f\n",
    "\n",
    "u0 = 2\n",
    "print(f\"u0 = {u0}\")\n",
    "\n",
    "u1 = -4\n",
    "print(f\"u1 = {u1}\")\n",
    "\n",
    "for i in range(2, 51):\n",
    "    u2 = 111 - f(1130, u1) + f(3000, (u1 * u0))\n",
    "    print(f\"u{i} = {float(u2)}\")\n",
    "    u0, u1 = u1, u2"
   ]
  },
  {
   "attachments": {},
   "cell_type": "markdown",
   "metadata": {},
   "source": [
    "3. Comparer les résultats obtenues par les deux programmes.\n"
   ]
  },
  {
   "attachments": {},
   "cell_type": "markdown",
   "metadata": {},
   "source": [
    "**Correction**:\n",
    "\n",
    "Lorsque l'on utilise les flottants, les erreurs d'approximation s'accumulent, et la suite converge vers 100. Lorsque l'on utilise des valeurs exactes avec le module `fraction`, on voit qu'en réalité, la suite converge vers 6.\n"
   ]
  },
  {
   "attachments": {},
   "cell_type": "markdown",
   "metadata": {},
   "source": [
    "### Exercice n°9\n",
    "\n",
    "Cet exercice a pour objectif d'étudier l'intérêt des nombres dénormalisés et quelques-unes de leurs particularités.\n",
    "\n",
    "1. Soit $x_1$ le plus petit nombre à virgule flottante normalisé strictement positif représentable sur 64 bits, et $x_2$ le plus petit nombre représentable strictement supérieur à $x_1$.\n",
    "   Calculer $x_1 -x_2$. Combien vaut l'écart relatif $\\frac{x_1-x_2}{x_1-0}$.\n",
    "2. Refaire la même étude avec les deux plus petits nombres dénormalisés $y_1$ et $y_2$.\n",
    "3. Calculer également l'écart relatif $\\frac{y_2-y_1}{x_2-x_1}$ et interpréter ce résultat en termes de densité des nombres représentables dans différents intervalles.\n",
    "4. Expliquer pourquoi l'exposant des nombres dénormalisés doit être -1022 et non pas -1023 comme serait interprété l'exposant 00000000000 dans le cas d'un nombre normalisé.\n"
   ]
  },
  {
   "attachments": {},
   "cell_type": "markdown",
   "metadata": {},
   "source": [
    "**Correction**:\n",
    "\n",
    "1. $x_1 = 2^{-1022}$ et $x_2 = (1 + 2^{-52}) * 2^{-1022}$\n",
    "\n",
    "Donc $\\frac{x_1-x_2}{x_1-0} = - 2^{-52}$\n",
    "\n",
    "2. $y_1 = 2^{-52} \\times 2^{-1022}$ et $y_2 = 2^{-51} \\times 2^{-1022}$\n",
    "\n",
    "Donc $\\frac{y_1-y_2}{y_1-0} = - 1$\n",
    "\n",
    "3. $\\frac{y_2-y_1}{x_2-x_1} = \\frac{2^{-52} \\times 2^{-1022}}{2^{-52} \\times 2^{-1022}} = 1$\n"
   ]
  },
  {
   "attachments": {},
   "cell_type": "markdown",
   "metadata": {},
   "source": [
    "### Exercice n°10\n",
    "\n",
    "Montrer que, pour comparer deux nombres à virgule flottante de même signe, il suffit de les comparer bit par bit : si leurs bits les plus à gauche sont différents, celui dont ce bit vaut 1 est le plus grand; sinon on compare leurs bits suivants jusqu'à trouver deux bits différents pour pouvoir appliquer cette règle. (Cette règle ne s'applique bien entendu pas aux infinis et aux NaN, dont on rappelle que l'exposant vaut 11111111111.)\n"
   ]
  },
  {
   "attachments": {},
   "cell_type": "markdown",
   "metadata": {},
   "source": [
    "**Correction**:\n"
   ]
  },
  {
   "attachments": {},
   "cell_type": "markdown",
   "metadata": {},
   "source": [
    "### Exercice n°11 : Missile Patriot\n",
    "\n",
    "Une batterie de missiles Patriot détecte les missiles ennemis et les intercepte avec un contre-missile. La batterie mesure le temps pour prévoir le déplacement des missiles ennemis.\n",
    "\n",
    "Elle dispose d'un compteur (un entier) que nous appellerons `c` qui compte le nombre de dixièmes de secondes écoulées depuis sa mise en marche. Le temps écoulé `t` est calculé par l'opération suivante `t = 0.1 * c`. Nous nous intéresserons à l'erreur de calcul commise lors de cette multiplication.\n",
    "\n",
    "Le logiciel du Patriot utilise des nombres à virgule fixe ayant 24 chiffres après la virgule. Les chiffres au delà du 24e après la virgule sont tronqués.\n",
    "\n",
    "1. Ecrire en base 2 le nombre 0.1, on s'arrêtera à 24 chiffres après la virgule.\n",
    "\n",
    "On note $y$ le nombre obtenu en tronquant 0.1 à 24 chiffres après la virgule.\n",
    "\n",
    "2. Combien vaut $0.1 - y$ ?\n",
    "\n",
    "Le calcul à virgule fixe entraîne une erreur de calcul sur le dernier chiffre. On note $z$ le nombre obtenu en changeant le 24e bit après la virgule.\n",
    "\n",
    "3. Combien valent $y - z$ et $0.1 - z$ ?\n",
    "\n",
    "On note $\\epsilon = |0.1 - z|$. La batterie de missile Patriot fait une erreur de $\\epsilon$ en approximant $0.1$.\n",
    "\n",
    "Le 25 février 1991, six batteries de missile Patriot ont été déployées à Daharan (Arabie Saoudite) pendant 100 h.\n",
    "\n",
    "4. Exprimer en fonction de $\\epsilon$ l'erreur commise sur $t$ pendant 8h, puis au bout de 100h. Nous noterons $e_{8}$ et $e_{100}$ ces erreurs.\n",
    "\n",
    "5. Donnez une valeur approchée des erreurs précédentes.\n",
    "\n",
    "Un missile Patriot américain a raté l’interception d’un missile Scud irakien, ce dernier provoquant la mort de 28 personnes. Un Scud a une vitesse de croisière de Mach 5, soit environ 1702 m/s.\n",
    "\n",
    "6. Pendant un temps de $e_{100}$ de combien de mètres se déplace un Scud ?\n"
   ]
  },
  {
   "attachments": {},
   "cell_type": "markdown",
   "metadata": {},
   "source": [
    "**Correction**:\n",
    "\n",
    "1. $0.1 = 0,0001 \\, 1001 \\, 1001 \\dots$ donc $y = 0,0001 \\, 1001 \\, 1001 \\, 1001 \\, 1001 \\, 1001$\n",
    "2. $0.1 - y = 2^{-25} + 2^{-28} + 2^{-29} + 2^{-32} + \\dots \\approx 3.58 \\times 10^{-8}$\n",
    "3. $y - z = 2^{-24} \\approx 5.96 \\times 10^{-8}$ et $0.1 - z \\approx 9.54 \\times 10^{-8}$\n",
    "4. $e_8 = (10 \\times 60 \\times 60 \\times 8) \\times 0.1 \\times \\epsilon = 288 000 \\epsilon$ et $e_{100} = (10 \\times 60 \\times 60 \\times 100) \\times 0.1 \\times \\epsilon = 3 600 000 \\epsilon$\n",
    "5. $e_8 \\approx 0.027$ et $e_{100} \\approx 0.34$\n",
    "6. $d \\approx 0.34 \\times 1702 \\approx 584 m$\n"
   ]
  }
 ],
 "metadata": {
  "kernelspec": {
   "display_name": "Python 3",
   "language": "python",
   "name": "python3"
  },
  "language_info": {
   "codemirror_mode": {
    "name": "ipython",
    "version": 3
   },
   "file_extension": ".py",
   "mimetype": "text/x-python",
   "name": "python",
   "nbconvert_exporter": "python",
   "pygments_lexer": "ipython3",
   "version": "3.11.4"
  },
  "orig_nbformat": 4,
  "vscode": {
   "interpreter": {
    "hash": "aee8b7b246df8f9039afb4144a1f6fd8d2ca17a180786b69acc140d282b71a49"
   }
  }
 },
 "nbformat": 4,
 "nbformat_minor": 2
}
