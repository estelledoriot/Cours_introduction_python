{
 "cells": [
  {
   "cell_type": "markdown",
   "metadata": {},
   "source": [
    "**Estelle Doriot**\n",
    "\n",
    "_NSI 1ère_\n",
    "\n",
    "---\n",
    "# Exercices : Chaînes de caractères\n",
    "---\n",
    "\n",
    "### Exercice n°1\n",
    "\n",
    "Quelle instruction permet d'affecter à la variable `x` le dernier caractère d'une chaîne de caractères `ch`?"
   ]
  },
  {
   "cell_type": "code",
   "execution_count": 2,
   "metadata": {},
   "outputs": [
    {
     "name": "stdout",
     "output_type": "stream",
     "text": [
      "r\n"
     ]
    }
   ],
   "source": [
    "ch = \"bonjour\"\n",
    "x = ch[len(ch)-1]\n",
    "print(x)"
   ]
  },
  {
   "cell_type": "markdown",
   "metadata": {},
   "source": [
    "### Exercice n°2\n",
    "\n",
    "Quelle est la longueur de la chaîne de caractères `s = \"abn\\n\\\\\\\"\"`?"
   ]
  },
  {
   "cell_type": "code",
   "execution_count": 3,
   "metadata": {},
   "outputs": [
    {
     "name": "stdout",
     "output_type": "stream",
     "text": [
      "6\n"
     ]
    }
   ],
   "source": [
    "s = \"abn\\n\\\\\\\"\"\n",
    "print(len(s))"
   ]
  },
  {
   "attachments": {},
   "cell_type": "markdown",
   "metadata": {},
   "source": [
    "### Exercice n°3\n",
    "\n",
    "Un pangramme est une phrase comportant au moins une fois chaque lettre de l'alphabet. Par exemple, « Portez ce vieux whisky au juge blond qui fume » est un pangramme. Ecrire une fonction `pangramme(ch:str) -> bool` qui renvoie `True` si une chaîne de caractères est un pangramme."
   ]
  },
  {
   "cell_type": "code",
   "execution_count": 1,
   "metadata": {},
   "outputs": [],
   "source": [
    "def pangramme(ch: str) -> bool:\n",
    "    \"\"\"détermine si une chaîne de caractères donnée en argument est un pangramme (elle contient toutes les lettres de l'alphabet)\n",
    "\n",
    "    Args:\n",
    "        ch (str): une chaîne de caractères\n",
    "\n",
    "    Returns:\n",
    "        bool: True si ch est un pangramme\n",
    "    \"\"\"\n",
    "    alphabet = \"abcdefghijklmnopqrstuvwxyz\"\n",
    "    \n",
    "    for lettre in alphabet:\n",
    "        if lettre not in ch:\n",
    "            return False\n",
    "    return True\n",
    "\n",
    "assert pangramme(\"portez ce vieux whisky au juge blond qui fume\")"
   ]
  },
  {
   "cell_type": "markdown",
   "metadata": {},
   "source": [
    "### Exercice n°4\n",
    "\n",
    "1. Ecrire une fonction `nb_occurrences(ch:str, lt:str) -> int` qui compte combien de fois la lettre `lt` est présente dans la chaîne de caractères `ch`. On n'utilisera pas la méthode `count`."
   ]
  },
  {
   "cell_type": "code",
   "execution_count": 4,
   "metadata": {},
   "outputs": [],
   "source": [
    "def nb_occurrences(ch: str, lt: str) -> int:\n",
    "    \"\"\"calcule le nombre d'occurrences de lt dans ch\n",
    "\n",
    "    Args:\n",
    "        ch (str): une chaîne de caractères\n",
    "        lt (str): une lettre\n",
    "\n",
    "    Returns:\n",
    "        int: nombre d'occurences de lt dans ch\n",
    "    \"\"\"\n",
    "    c = 0\n",
    "    for lettre in ch:\n",
    "        if lettre == lt:\n",
    "            c += 1\n",
    "    return c\n",
    "\n",
    "assert nb_occurrences(\"alea jacta est\", \"a\") == 4"
   ]
  },
  {
   "cell_type": "markdown",
   "metadata": {},
   "source": [
    "2. On définit la chaîne de caractères `zola` comme suit :\n",
    "```python\n",
    "zola = \"Et, sous ses pieds, les coups profonds, les coups obstinés des rivelaines continuaient. Les camarades étaient tous là, il les entendait le suivre à chaque enjambée. N'était-ce pas la Maheude, sous cette pièce de betteraves, l'échine cassée, dont le souffle montait si rauque, accompagné par le ronflement du ventilateur ? A gauche, à droite, plus loin, il croyait en reconnaître d'autres, sous les blés, les haies vives, les jeunes arbres. Maintenant, en plein ciel, le soleil d'avril rayonnait dans sa gloire, échauffant la terre qui enfantait. Du flanc nourricier jaillissait la vie, les bourgeons crevaient en feuilles vertes, les champs tressaillaient de la poussée des herbes. De toutes parts, des graines se gonflaient, s'allongeaient, gerçaient la plaine, travaillées d'un besoin de chaleur et de lumière. Un débordement de sève coulait avec des voix chuchotantes, le bruit des germes s'épandait en un grand baiser. Encore, encore, de plus en plus distinctement, comme s'ils se fussent rapprochés du sol, les camarades tapaient. Aux rayons enflammés de l'astre, par cette matinée de jeunesse, c'était de cette rumeur que la campagne était grosse. Des hommes poussaient, une armée noire, vengeresse, qui germait lentement dans les sillons, grandissant pour les récoltes du siècle futur, et dont la germination allait faire bientôt éclater la terre.\"\n",
    "```\n",
    "\n",
    "Si l'on utilise la fonction `nb_occurrences` écrite à la question précédente pour compter le nombre de `\"e\"` avec l'appel `print(nb_occurrences(zola, \"e\"))`, les `\"E\"` majuscules ne seront pas comptés, ni les lettres accentuées. Pour compter la lettre `\"e\"` sous toutes ses formes, on voudrait pouvoir exécuter un appel `nb_occurrences2(zola, \"eéèêëEÉÈÊË\")`. \n",
    "\n",
    "Ecrire une fonction `nb_occurrences2(ch:str, s:str) -> int` qui compte combien de fois les lettres de la chaîne `s` sont présentes dans la chaîne `ch`."
   ]
  },
  {
   "cell_type": "code",
   "execution_count": 5,
   "metadata": {},
   "outputs": [
    {
     "name": "stdout",
     "output_type": "stream",
     "text": [
      "168\n",
      "195\n"
     ]
    }
   ],
   "source": [
    "def nb_occurrences2(ch: str, s: str) -> int:\n",
    "    \"\"\"calcule le nombre d'occurrences de lettres de s dans ch\n",
    "\n",
    "    Args:\n",
    "        ch (str): une chaîne de caractères\n",
    "        s (str): plusieurs lettres\n",
    "\n",
    "    Returns:\n",
    "        int: nombre d'occurences de lettres de s dans ch\n",
    "    \"\"\"\n",
    "    c = 0\n",
    "    for lettre in ch:\n",
    "        if lettre in s:\n",
    "            c += 1\n",
    "    return c\n",
    "\n",
    "assert nb_occurrences2(\"Alea jacta est\", \"aA\") == 4\n",
    "\n",
    "zola = \"Et, sous ses pieds, les coups profonds, les coups obstinés des rivelaines continuaient. Les camarades étaient tous là, il les entendait le suivre à chaque enjambée. N'était-ce pas la Maheude, sous cette pièce de betteraves, l'échine cassée, dont le souffle montait si rauque, accompagné par le ronflement du ventilateur ? A gauche, à droite, plus loin, il croyait en reconnaître d'autres, sous les blés, les haies vives, les jeunes arbres. Maintenant, en plein ciel, le soleil d'avril rayonnait dans sa gloire, échauffant la terre qui enfantait. Du flanc nourricier jaillissait la vie, les bourgeons crevaient en feuilles vertes, les champs tressaillaient de la poussée des herbes. De toutes parts, des graines se gonflaient, s'allongeaient, gerçaient la plaine, travaillées d'un besoin de chaleur et de lumière. Un débordement de sève coulait avec des voix chuchotantes, le bruit des germes s'épandait en un grand baiser. Encore, encore, de plus en plus distinctement, comme s'ils se fussent rapprochés du sol, les camarades tapaient. Aux rayons enflammés de l'astre, par cette matinée de jeunesse, c'était de cette rumeur que la campagne était grosse. Des hommes poussaient, une armée noire, vengeresse, qui germait lentement dans les sillons, grandissant pour les récoltes du siècle futur, et dont la germination allait faire bientôt éclater la terre.\"\n",
    "\n",
    "print(nb_occurrences(zola, \"e\"))\n",
    "print(nb_occurrences2(zola, \"eéèêëEÉÈÊË\"))"
   ]
  },
  {
   "cell_type": "markdown",
   "metadata": {},
   "source": [
    "3. Ecrire une fonction `nb_lettres(ch:str) -> int` qui renvoie le nombre de lettres que contient une chaîne de caractères `ch` (on ne comptera pas les signes de ponctuation ni les espaces). Vérifier que `s` contient 1090 lettres."
   ]
  },
  {
   "cell_type": "code",
   "execution_count": 6,
   "metadata": {},
   "outputs": [],
   "source": [
    "def nb_lettres(ch: str) -> int:\n",
    "    \"\"\"compte le nombre de lettres (sans compter les signes de ponctuation et les espaces) dans une chaîne de caractères\n",
    "\n",
    "    Args:\n",
    "        ch (str): une chaîne de caractères\n",
    "\n",
    "    Returns:\n",
    "        int: le nombre de lettres de ch\n",
    "    \"\"\"\n",
    "    c = 0\n",
    "    for lettre in ch:\n",
    "        if lettre not in \",;.:-()!' \":\n",
    "            c += 1\n",
    "    return c\n",
    "\n",
    "assert nb_lettres(\"Alea jacta est\") == 12\n",
    "assert nb_lettres(zola) == 1090"
   ]
  },
  {
   "cell_type": "markdown",
   "metadata": {},
   "source": [
    "4. On aimerait déterminer la proportion de `e` dans le texte `zola`. Ecrire une fonction `freq_lettres(ch:str, s:str) -> float` qui renvoie la proportion des lettres de la chaîne `s` dans la chaîne `ch`. Par exemple, l'appel `freq_lettres(\"Alea jacta est\", \"aA\")` renverra la valeur 4/12 = 0.333."
   ]
  },
  {
   "cell_type": "code",
   "execution_count": 7,
   "metadata": {},
   "outputs": [
    {
     "name": "stdout",
     "output_type": "stream",
     "text": [
      "0.1559633027522936\n",
      "0.17889908256880735\n"
     ]
    }
   ],
   "source": [
    "def freq_lettres(ch: str, s: str) -> float:\n",
    "    \"\"\"calcule la fréquence des lettres de s dans ch\n",
    "\n",
    "    Args:\n",
    "        ch (str): une chaîne de caractères\n",
    "        s (str): plusieurs lettres\n",
    "\n",
    "    Returns:\n",
    "        float: fréquence des lettres de s dans ch\n",
    "    \"\"\"\n",
    "    return nb_occurrences2(ch, s) / nb_lettres(ch)\n",
    "\n",
    "assert freq_lettres(\"Alea jacta est\", \"aA\") == 0.3333333333333333\n",
    "print(freq_lettres(zola, \"eE\"))\n",
    "print(freq_lettres(zola, \"eéèêëEÉÈÊË\"))"
   ]
  },
  {
   "cell_type": "markdown",
   "metadata": {},
   "source": [
    "### Exercice n°5\n",
    "\n",
    "1. Ecrire une fonction `filtre(ch:str, m:str) -> str` qui renvoie la chaîne de caractères `ch` à laquelle on a retiré toutes les lettres de `m`. Par exemple l'appel `filtre(\"un exemple\", \"ep\")` renvoie `\"un xml\"`."
   ]
  },
  {
   "cell_type": "code",
   "execution_count": 8,
   "metadata": {},
   "outputs": [],
   "source": [
    "def filtre(ch: str, m: str) -> str:\n",
    "    \"\"\"supprime des lettres d'une chaîne de caractères\n",
    "\n",
    "    Args:\n",
    "        ch (str): une chaîne de caractères\n",
    "        m (str): plusieurs lettres\n",
    "\n",
    "    Returns:\n",
    "        str: ch auquel on a retiré les lettres de m\n",
    "    \"\"\"\n",
    "    res = \"\"\n",
    "    for lettre in ch:\n",
    "        if lettre not in m:\n",
    "            res += lettre\n",
    "    return res\n",
    "\n",
    "assert filtre(\"un exemple\", \"ep\") == \"un xml\""
   ]
  },
  {
   "cell_type": "markdown",
   "metadata": {},
   "source": [
    "2. Ecrire une fonction `suppr_voyelles(ch:str) -> str` qui supprime toutes les voyelles de la chaîne de caractères `ch`. On réutilisera la fonction `filtre` de la question précédente."
   ]
  },
  {
   "cell_type": "code",
   "execution_count": 9,
   "metadata": {},
   "outputs": [],
   "source": [
    "def suppr_voyelles(ch: str) -> str:\n",
    "    \"\"\"supprime les voyelles d'une chaîne de caractères\n",
    "\n",
    "    Args:\n",
    "        ch (str): une chaîne de caractères\n",
    "\n",
    "    Returns:\n",
    "        str: ch sans les voyelles\n",
    "    \"\"\"\n",
    "    return filtre(ch, \"aàáâäeéèêëiìíîïoóòôöuúùûüyAÀÁÂÄEÉÈÊËIÍÌÎÏOÓÒÔÖUÚÙÛÜY\")\n",
    "\n",
    "assert suppr_voyelles(\"Alea jacta est\") == \"l jct st\""
   ]
  },
  {
   "cell_type": "markdown",
   "metadata": {},
   "source": [
    "### Exercice n°6 : Palindrome\n",
    "\n",
    "1. Un palindrome est un mot (ou un texte) qui reste le même qu'on le lise de gauche à droite ou de droite à gauche. Par exemple, été et laval sont des palindromes. Ecrire une fonction `est_palindrome(ch : str) -> bool` qui renvoie `True` si la chaîne de caractères `ch` est un palindrome."
   ]
  },
  {
   "cell_type": "code",
   "execution_count": 10,
   "metadata": {},
   "outputs": [],
   "source": [
    "def est_palindrome(ch: str) -> bool:\n",
    "    \"\"\"teste si une chaîne de caractères est un palindrome\n",
    "\n",
    "    Args:\n",
    "        ch (str): une chaîne de caractères\n",
    "\n",
    "    Returns:\n",
    "        bool: True si ch est un palindrome\n",
    "    \"\"\"\n",
    "    n = len(ch)\n",
    "    for i in range(n // 2):\n",
    "        if ch[i] != ch[n-1-i]:\n",
    "            return False\n",
    "    return True\n",
    "\n",
    "assert est_palindrome(\"été\")\n",
    "assert est_palindrome(\"ressasser\")\n",
    "assert not est_palindrome(\"bonjour\")"
   ]
  },
  {
   "cell_type": "markdown",
   "metadata": {},
   "source": [
    "2. Ecrire une fonction `miroir(ch:str) -> str` qui prend en argument une chaîne de caractères `ch` qui renvoie une chaîne de caractères qui contient les lettres de `ch` lues de droite à gauche. Par exemple, `miroir(\"abcd\")` renvoie `\"dcba\"`. On n'utilisera pas les tranches."
   ]
  },
  {
   "cell_type": "code",
   "execution_count": 11,
   "metadata": {},
   "outputs": [],
   "source": [
    "def miroir(ch: str) -> str:\n",
    "    \"\"\"met en miroir une chaîne de caractères\n",
    "\n",
    "    Args:\n",
    "        ch (str): une chaîne de caractères\n",
    "\n",
    "    Returns:\n",
    "        str: la chaîne miroir de ch\n",
    "    \"\"\"\n",
    "    n = len(ch)\n",
    "    res = \"\"\n",
    "    for i in range(n):\n",
    "        res += ch[n - 1 - i]\n",
    "    return res\n",
    "\n",
    "assert miroir(\"alea jacta est\") == \"tse atcaj aela\"\n",
    "\n",
    "# autre possibilité\n",
    "\n",
    "def miroir2(ch: str) -> str:\n",
    "    \"\"\"met en miroir une chaîne de caractères\n",
    "\n",
    "    Args:\n",
    "        ch (str): une chaîne de caractères\n",
    "\n",
    "    Returns:\n",
    "        str: la chaîne miroir de ch\n",
    "    \"\"\"\n",
    "    res = \"\"\n",
    "    for lettre in ch:\n",
    "        res = lettre + res\n",
    "    return res\n",
    "\n",
    "assert miroir2(\"alea jacta est\") == \"tse atcaj aela\""
   ]
  },
  {
   "cell_type": "markdown",
   "metadata": {},
   "source": [
    "3. Ecrire une autre version de la fonction `est_palindrome` qui fait appel à la fonction `miroir` écrite à la question précédente."
   ]
  },
  {
   "cell_type": "code",
   "execution_count": 12,
   "metadata": {},
   "outputs": [],
   "source": [
    "def est_palindrome2(ch: str) -> bool:\n",
    "    \"\"\"teste si une chaîne de caractères est un palindrome\n",
    "\n",
    "    Args:\n",
    "        ch (str): une chaîne de caractères\n",
    "\n",
    "    Returns:\n",
    "        bool: True si ch est un palindrome\n",
    "    \"\"\"\n",
    "    return ch == miroir(ch)\n",
    "\n",
    "assert est_palindrome2(\"été\")\n",
    "assert est_palindrome2(\"ressasser\")\n",
    "assert not est_palindrome2(\"bonjour\")"
   ]
  },
  {
   "cell_type": "markdown",
   "metadata": {},
   "source": [
    "### Exercice n°7 : ADN\n",
    "\n",
    "L’ADN est une macromolécule présente dans toutes les cellules des êtres vivants (ainsi que chez de nombreux virus). Elle contient toute l’information génétique des êtres vivants, qui gouverne leur développement physique, leur fonctionnement et leur reproduction.\n",
    "\n",
    "Les molécules d’ADN des cellules vivantes sont formées de deux brins enroulés l’un autour de l’autre en une «double hélice ». Sur chacun de ces deux brins d’ADN, 4 bases azotées différentes s’enchaînent : adénine (\"A\"), thymine (\"T\"), cytosine (\"C\") et guanine (\"G\"). Ces 4 bases ont des affinités deux à deux : l’adénine ne peut se lier qu’avec la thymine, la cytosine ne peut s’apparier qu’avec la guanine. Ce sont ces associations qui sont à l’origine de cette forme si particulière que présente naturellement l’ADN.\n",
    "\n",
    "1. Ecrire une fonction `est_adn(ch:str) -> bool` qui renvoie `True` si la chaîne de caractères `ch` représente un brin d'ADN."
   ]
  },
  {
   "cell_type": "code",
   "execution_count": 13,
   "metadata": {},
   "outputs": [],
   "source": [
    "def est_adn(ch: str) -> bool:\n",
    "    \"\"\"détermine si une chaîne de caractères représente un brin d'ADN\n",
    "\n",
    "    Args:\n",
    "        ch (str): un chaîne de caractères\n",
    "\n",
    "    Returns:\n",
    "        bool: True si ch représente un brin d'ADN\n",
    "    \"\"\"\n",
    "    for lettre in ch:\n",
    "        if lettre not in \"ATGC\":\n",
    "            return False\n",
    "    return True\n",
    "\n",
    "assert est_adn(\"AATTGGACGACC\")\n",
    "assert not est_adn(\"AAARTTGGGCC\")"
   ]
  },
  {
   "cell_type": "markdown",
   "metadata": {},
   "source": [
    "2. Écrire une fonction `fabrique_brin_adn(n:int) -> str` qui prend comme paramètre un entier `n` et renvoie une chaîne de caractères de longueur `n` qui représente un brin d'ADN généré au hasard. On rappelle que la fonction `randint(a, b)` du module `random` tire un nombre au hasard entre `a` et `b`. "
   ]
  },
  {
   "cell_type": "code",
   "execution_count": 14,
   "metadata": {},
   "outputs": [
    {
     "name": "stdout",
     "output_type": "stream",
     "text": [
      "AATGGCTTAA\n"
     ]
    }
   ],
   "source": [
    "from random import randint\n",
    "\n",
    "def fabrique_brin_adn(n: int) -> str:\n",
    "    \"\"\"génère aléatoirement un brin d'ADN\n",
    "\n",
    "    Args:\n",
    "        n (int): taille du brin d'ADN\n",
    "\n",
    "    Returns:\n",
    "        str: un brin d'ADN aléatoire de longueur n\n",
    "    \"\"\"\n",
    "    bases = \"ATGC\"\n",
    "    brin = \"\"\n",
    "    for _ in range(n):\n",
    "        numero = randint(0, 3)\n",
    "        brin += bases[numero]\n",
    "    return brin\n",
    "\n",
    "print(fabrique_brin_adn(10))"
   ]
  },
  {
   "cell_type": "markdown",
   "metadata": {},
   "source": [
    "3. Écrire une fonction `deduire_2e_brin_adn(ch:str) -> str` qui prend comme paramètre une chaîne de caractères `ch` représentant un brin d’ADN, et renvoie une une chaîne de caractère représentant le brin d’ADN manquant, nécessaire à la modélisation complète de l’ADN."
   ]
  },
  {
   "cell_type": "code",
   "execution_count": 15,
   "metadata": {},
   "outputs": [],
   "source": [
    "def deduire_2e_brin_adn(ch: str) -> str:\n",
    "    \"\"\"calcule le 2e brin d'ADN à partir d'un premier brin\n",
    "\n",
    "    Args:\n",
    "        ch (str): un brin d'ADN\n",
    "\n",
    "    Returns:\n",
    "        str: le 2e brin d'ADN correspondant à ch\n",
    "    \"\"\"\n",
    "    assert est_adn(ch)\n",
    "    \n",
    "    brin2 = \"\"\n",
    "    for lettre in ch:\n",
    "        if lettre == 'A':\n",
    "            brin2 += 'T'\n",
    "        elif lettre == 'T':\n",
    "            brin2 += 'A'\n",
    "        elif lettre == 'G':\n",
    "            brin2 += 'C'\n",
    "        elif lettre == 'C':\n",
    "            brin2 += 'G'\n",
    "    return brin2\n",
    "    \n",
    "assert deduire_2e_brin_adn(\"ATGAC\") == \"TACTG\""
   ]
  },
  {
   "cell_type": "markdown",
   "metadata": {},
   "source": [
    "4. Écrire une fonction `transcription_arn(ch:str) -> str` qui reçoit une chaîne de caractères en paramètre, correspondant à un brin codant d'ADN, et qui retourne la chaîne de caractère représentant le brin d'ARN correspondant. La transcription en ARN se traduit par le remplacement des nucléotides de Thymine par des nucléotides d'Uracile, que l'on représentera par le caractère 'U'."
   ]
  },
  {
   "cell_type": "code",
   "execution_count": 16,
   "metadata": {},
   "outputs": [],
   "source": [
    "def transcription_arn(ch: str) -> str:\n",
    "    \"\"\"génère un brin d'ARN à partir d'un brin d'ADN\n",
    "\n",
    "    Args:\n",
    "        ch (str): un brin d'ADN\n",
    "\n",
    "    Returns:\n",
    "        str: le brin d'ARN correspondant\n",
    "    \"\"\"\n",
    "    assert est_adn(ch)\n",
    "    \n",
    "    arn = \"\"\n",
    "    for lettre in ch:\n",
    "        if lettre == 'T':\n",
    "            arn += 'U'\n",
    "        else:\n",
    "            arn += lettre\n",
    "    return arn\n",
    "\n",
    "assert transcription_arn(\"ATTGCGTAC\") == \"AUUGCGUAC\""
   ]
  },
  {
   "cell_type": "markdown",
   "metadata": {},
   "source": [
    "### Exercice n°8 : Distance de Hamming\n",
    "\n",
    "La distance de Hamming entre deux mots est une notion utilisée dans de nombreux domaines (télécommunications, traitement du signal, ...). Elle est définie, pour deux mots de même longueur, comme le nombre de positions où les deux mots ont un caractère différent. \n",
    "\n",
    "1. Écrire une fonction `hamming(ch1:str,ch2:str) -> int` qui calcule la distance de Hamming entre deux mots lorsqu’ils ont la même longueur, et qui renvoie -1 sinon. Par exemple, `hamming(\"aaba\", \"aaha\")` renvoie `1`, `hamming(\"poire\", \"pomme\")` renvoie 2 et `hamming(\"stylo\", \"bouteille\")` renvoie `-1`."
   ]
  },
  {
   "cell_type": "code",
   "execution_count": 17,
   "metadata": {},
   "outputs": [],
   "source": [
    "def hamming(ch1: str, ch2: str) -> int:\n",
    "    \"\"\"calcule la distance de hamming entre deux mots (nombre de positions où les deux mots ont un caractère différent)\n",
    "\n",
    "    Args:\n",
    "        ch1 (str): un mot\n",
    "        ch2 (str): un mot\n",
    "\n",
    "    Returns:\n",
    "        int: distance de hamming entre ch1 et ch2\n",
    "    \"\"\"\n",
    "    if len(ch1) != len(ch2):\n",
    "        return -1\n",
    "    \n",
    "    distance = 0\n",
    "    for i in range(len(ch1)):\n",
    "        if ch1[i] != ch2[i]:\n",
    "            distance += 1\n",
    "    return distance\n",
    "\n",
    "assert hamming(\"aaba\", \"aaha\") == 1\n",
    "assert hamming(\"poire\", \"pomme\") == 2\n",
    "assert hamming(\"stylo\", \"bouteille\") == -1"
   ]
  },
  {
   "cell_type": "markdown",
   "metadata": {},
   "source": [
    "2. Joao vient d’arriver dans notre pays depuis le Portugal. Il a encore du mal avec la langue française. Malgré ses efforts considérables, il fait une faute d’orthographe quasi à chaque mot. Son souci est qu’il n’arrive pas toujours à écrire un mot correctement sans se tromper à une lettre près. Ainsi pour écrire « bonjour », il peut écrire « binjour ». Afin de l’aider, écrire une fonction `correcteur(mot:str, liste_mots:list) -> str` où `mot` est le mot que Joao écrit et `liste_mots` est une liste qui contient les mots (ayant la bonne orthographe) que Joao est susceptible d’utiliser. Cette fonction doit retourner le mot dont l’orthographe a été corrigée. L’appel suivant de la fonction : `correcteur(\"bonvour\", [\"chien\", \"chat\", \"train\", \"voiture\", \"bonjour\", \"merci\"])` doit retourner : `\"bonjour\"`."
   ]
  },
  {
   "cell_type": "code",
   "execution_count": 18,
   "metadata": {},
   "outputs": [],
   "source": [
    "def correcteur(mot: str, liste_mots: list) -> str:\n",
    "    \"\"\"trouve dans une liste de mots celui qui est le plus proche du mot donné en argument\n",
    "\n",
    "    Args:\n",
    "        mot (str): un mot\n",
    "        liste_mots (list): une liste de mots\n",
    "\n",
    "    Returns:\n",
    "        str: le mot de liste_mots le plus proche de mot\n",
    "    \"\"\"\n",
    "    assert len(liste_mots) != 0\n",
    "    \n",
    "    meilleur = liste_mots[0]\n",
    "    dist_min = hamming(mot, meilleur)\n",
    "    for m in liste_mots:\n",
    "        if len(m) == len(mot):\n",
    "            d = hamming(mot, m)\n",
    "            if dist_min == -1 or d < dist_min:\n",
    "                dist_min = d\n",
    "                meilleur = m\n",
    "    return meilleur\n",
    "\n",
    "assert correcteur(\"bonvour\", [\"chien\", \"chat\", \"train\", \"voiture\", \"bonjour\", \"merci\"]) == \"bonjour\"\n",
    "assert correcteur(\"vouture\", [\"chien\", \"chat\", \"train\", \"voiture\", \"bonjour\", \"merci\"]) == \"voiture\""
   ]
  },
  {
   "cell_type": "markdown",
   "metadata": {},
   "source": [
    "### Exercice n°9 : Mots à trous\n",
    "\n",
    "- Un mot est ici une chaine de caractères composée uniquement de lettres de l'alphabet.\n",
    "- Un mot à trous comporte également zéro, une ou plusieurs fois le caractère \".\".\n",
    "\n",
    "On dira que mot_complet correspond à `mot_a_trous`, si on peut remplacer chaque \".\" de `mot_a_trous` par une lettre de façon à obtenir `mot_complet`.\n",
    "\n",
    "- \"INFO.MA.IQUE\" est un mot à trous,\n",
    "- \"INFORMATIQUE\" est un mot qui lui correspond,\n",
    "- \"AUTOMATIQUE\" est un mot qui ne lui correspond pas.\n",
    "\n",
    "Écrire une fonction `correspond(mot_complet:str, mot_a_trous:str) -> bool` qui renvoie un booléen qui détermine si « `mot_complet` correspond à `mot_a_trous` »."
   ]
  },
  {
   "cell_type": "code",
   "execution_count": 19,
   "metadata": {},
   "outputs": [],
   "source": [
    "def correspond(mot_complet: str, mot_a_trous: str) -> bool:\n",
    "    \"\"\"vérifie si un mot complet correspond à un mot à trous\n",
    "\n",
    "    Args:\n",
    "        mot_complet (str): un mot complet\n",
    "        mot_a_trous (str): un mot à trou\n",
    "\n",
    "    Returns:\n",
    "        bool: vérifie si mot_complet correspond à mot_a_trous\n",
    "    \"\"\"\n",
    "    if len(mot_complet) != len(mot_a_trous):\n",
    "        return False\n",
    "    \n",
    "    for i in range(len(mot_complet)):\n",
    "        if mot_a_trous[i] != \".\" and mot_a_trous[i] != mot_complet[i]:\n",
    "            return False\n",
    "    return True\n",
    "    \n",
    "assert correspond(\"INFORMATIQUE\", \"INFO.MA.IQUE\")\n",
    "assert not correspond(\"AUTOMATIQUE\", \"INFO.MA.IQUE\")\n",
    "assert not correspond(\"INFO\", \"INFO.MA.IQUE\") \n",
    "assert not correspond(\"INFORMATIQUES\", \"INFO.MA.IQUE\")"
   ]
  },
  {
   "attachments": {},
   "cell_type": "markdown",
   "metadata": {},
   "source": [
    "### Exercice n°10\n",
    "\n",
    "Il existe en python une méthode `split(sep)` qui permet de découper une chaîne de caractères aux emplacements du séparateur `sep`, et qui renvoie les différents morceaux dans une liste.\n",
    "\n",
    "Par exemple, le programme suivant :\n",
    "```python\n",
    "c = \"hello world !\"\n",
    "lst = c.split(\" \")\n",
    "print(lst)\n",
    "```\n",
    "affiche la liste `[\"hello\", \"world\", \"!\"]`. La chaîne de caractères `\"hello world !\"` a été découpée au niveau des espaces. \n",
    "\n",
    "1. Qu'affiche le programme suivant:\n",
    "```python\n",
    "d = \"01/02/1997\"\n",
    "lst = d.split(\"/\")\n",
    "print(lst)\n",
    "``` "
   ]
  },
  {
   "cell_type": "code",
   "execution_count": 33,
   "metadata": {},
   "outputs": [
    {
     "name": "stdout",
     "output_type": "stream",
     "text": [
      "['01', '02', '1997']\n"
     ]
    }
   ],
   "source": [
    "d = \"01/02/1997\"\n",
    "lst = d.split(\"/\")\n",
    "print(lst)"
   ]
  },
  {
   "cell_type": "markdown",
   "metadata": {},
   "source": [
    "2. Ecrire une fonction `découpe(ch:str, sep:str) -> list` qui découpe une chaîne de caractères `ch` selon un séparateur `sep` sans utiliser la méthode `split`. "
   ]
  },
  {
   "cell_type": "code",
   "execution_count": 32,
   "metadata": {},
   "outputs": [],
   "source": [
    "def découpe(ch: str, sep: str) -> list:\n",
    "    \"\"\"découpe une chaîne de caractères au niveau d'un séparateur\n",
    "    \n",
    "    Args:\n",
    "        ch (str): une chaîne de caractères\n",
    "        sep (str): un séparateur\n",
    "\n",
    "    Returns:\n",
    "        list: liste des éléments de ch découpés au niveau de sep\n",
    "    \"\"\"\n",
    "    res = []\n",
    "    en_cours = \"\"\n",
    "    for lettre in ch:\n",
    "        if lettre != sep:\n",
    "            en_cours += lettre\n",
    "        else:\n",
    "            res.append(en_cours)\n",
    "            en_cours = \"\"\n",
    "    res.append(en_cours)\n",
    "    return res\n",
    "\n",
    "assert découpe(\"a-b-cd-efg\", \"-\") == [\"a\", \"b\", \"cd\", \"efg\"]"
   ]
  },
  {
   "cell_type": "markdown",
   "metadata": {},
   "source": [
    "3. Pour créer un annuaire, vous préférez que tous vos contacts soient écrits sous la forme \"Nom Prénom\". Ecrire une fonction `nom_prenom(ch:str) -> str` qui prend en argument le nom d'une personne sous la forme \"Prénom Nom\", et le renvoie sous la forme \"Nom Prénom\". Par exemple, l'appel `nom_prenom(\"Alan Turing\")` renvoie `\"Turing Alan\"`."
   ]
  },
  {
   "cell_type": "code",
   "execution_count": 38,
   "metadata": {},
   "outputs": [],
   "source": [
    "def nom_prenom(ch: str) -> str:\n",
    "    \"\"\"convertit un nom au format 'Nom Prénom\"\n",
    "\n",
    "    Args:\n",
    "        ch (str): le nom d'une personne, sous la forme \"Prénom Nom\"\n",
    "\n",
    "    Returns:\n",
    "        str: ch sous la forme \"Nom Prénom\"\n",
    "    \"\"\"\n",
    "    lst = découpe(ch, \" \")\n",
    "    return f\"{lst[1]} {lst[0]}\"\n",
    "\n",
    "assert nom_prenom(\"Alan Turing\") == \"Turing Alan\""
   ]
  },
  {
   "cell_type": "markdown",
   "metadata": {},
   "source": [
    "4. Ecrire une fonction `formate(lst:list) -> list` qui prend une liste de noms sous forme \"Prenom Nom\" et qui renvoie cette liste avec les noms au format \"Nom Prénom\". Par exemple, l'appel `formate([\"Alan Turing\", \"Ada Lovelace\", \"Donald Knuth\", \"Claude Shannon\", \"Grace Hopper\"])` renvoie bien la liste `[’Turing Alan’, ’Lovelace Ada’, ’Knuth Donald’, ’Shannon Claude’, ’Hopper Grace’]`."
   ]
  },
  {
   "cell_type": "code",
   "execution_count": 44,
   "metadata": {},
   "outputs": [],
   "source": [
    "def formate(lst: list) -> list:\n",
    "    \"\"\"formate une liste de noms au format \"Nom Prénom\"\n",
    "\n",
    "    Args:\n",
    "        lst (list): une liste de noms au format \"Prénom Nom\"\n",
    "\n",
    "    Returns:\n",
    "        list: la liste lst au format \"Nom Prénom\"\n",
    "    \"\"\"\n",
    "    for i in range(len(lst)):\n",
    "        lst[i] = nom_prenom(lst[i])\n",
    "    return lst\n",
    "\n",
    "assert formate([\"Alan Turing\", \"Ada Lovelace\", \"Donald Knuth\", \"Claude Shannon\", \"Grace Hopper\"]) == ['Turing Alan', 'Lovelace Ada', 'Knuth Donald', 'Shannon Claude', 'Hopper Grace']"
   ]
  },
  {
   "attachments": {},
   "cell_type": "markdown",
   "metadata": {},
   "source": [
    "### Exercice n°11 : Sous-chaînes\n",
    "\n",
    "1. Ecrire une fonction `appartient(ch:str, c:str) -> bool` qui renvoie `True` si la chaîne `c` est comprise dans la chaîne `ch`."
   ]
  },
  {
   "cell_type": "code",
   "execution_count": 12,
   "metadata": {},
   "outputs": [],
   "source": [
    "def appartient(ch: str, c: str) -> bool:\n",
    "    \"\"\"détermine si c est une sous-chaîne de ch\n",
    "\n",
    "    Args:\n",
    "        ch (str): une chaîne de caractères\n",
    "        c (str): une chaîne de caractères\n",
    "\n",
    "    Returns:\n",
    "        bool: True si c est une sous-chaîne de ch\n",
    "    \"\"\"\n",
    "    n = len(c)\n",
    "    for i in range(len(ch) + 1 - n):\n",
    "        if ch[i:i+n] == c:\n",
    "            return True\n",
    "    return False\n",
    "\n",
    "assert appartient(\"Bonjour\", \"our\")\n",
    "assert appartient(\"Les sanglots longs\", \"sanglots\")\n",
    "assert not appartient(\"Hier\", \"ab\")"
   ]
  },
  {
   "cell_type": "markdown",
   "metadata": {},
   "source": [
    "2. Écrire une fonction `intersection(v:str, w:str) -> str` qui calcule l’intersection entre deux chaînes de caractères `v` et `w`. On définit l’intersection de deux mots comme étant la plus grande partie commune à ces deux mots. Par exemple, l’intersection de « programme » et « grammaire » est « gramm ». Si les deux chaînes n’ont aucun caractère en commun, la fonction retourne la chaîne vide, `''`. Si plusieurs solutions sont possibles, la fonction retournera la sous-chaîne d’indice minimal dans `v`. Par exemple, `intersection('bbaacc', 'aabb')` renvoie `'bb'`."
   ]
  },
  {
   "cell_type": "code",
   "execution_count": 13,
   "metadata": {},
   "outputs": [],
   "source": [
    "def intersection(v: str, w: str) -> str:\n",
    "    \"\"\"trouve l'intersection (la plus grande partie commune) de deux mots\n",
    "\n",
    "    Args:\n",
    "        v (str): un mot\n",
    "        w (str): un mot\n",
    "\n",
    "    Returns:\n",
    "        str: l'intersection de v et w\n",
    "    \"\"\"\n",
    "    début = 0\n",
    "    fin = len(v)\n",
    "    while début < fin:\n",
    "        if v[début:fin] in w:\n",
    "            return v[début:fin]\n",
    "        début += 1\n",
    "        fin += 1\n",
    "        if fin == len(v) + 1:\n",
    "            fin = fin - début -1\n",
    "            début = 0\n",
    "    return ''\n",
    "\n",
    "assert intersection(\"bbaacc\", \"aabb\") == \"bb\"\n",
    "assert intersection(\"grammaire\", \"programme\") == \"gramm\"\n",
    "assert intersection(\"bonjour\", \"zut\") == \"u\""
   ]
  },
  {
   "attachments": {},
   "cell_type": "markdown",
   "metadata": {},
   "source": [
    "### Exercice n°12 : Préfixes et suffixes\n",
    "\n",
    "1. Ecrire une fonction `prefixe(ch:str, s:str) -> bool` qui renvoie `True` si la chaîne `s` est un préfixe de `ch`, c'est-à-dire si la chaîne `ch` commence par les lettres de la chaîne `s`. Par exemple, `bon` est un préfixe de `bonjour`."
   ]
  },
  {
   "cell_type": "code",
   "execution_count": 15,
   "metadata": {},
   "outputs": [],
   "source": [
    "def prefixe(ch: str, s: str) -> bool:\n",
    "    \"\"\"détermine si une chaîne de caractères est un préfixe d'une autre chaîne de caractères\n",
    "\n",
    "    Args:\n",
    "        ch (str): une chaîne de caractères\n",
    "        s (str): une chaîne de caractères\n",
    "\n",
    "    Returns:\n",
    "        bool: True si s est un préfixe de ch\n",
    "    \"\"\"\n",
    "    assert len(s) <= len(ch)\n",
    "    \n",
    "    n = len(s)\n",
    "    return s == ch[:n]\n",
    "\n",
    "assert prefixe(\"bonjour\", \"bon\")\n",
    "assert not prefixe(\"bonjour\", \"bun\")"
   ]
  },
  {
   "cell_type": "markdown",
   "metadata": {},
   "source": [
    "2. Ecrire une fonction `suffixe(ch:str, s:str) -> bool` qui renvoie `True` si la chaîne `s` est un suffixe de `ch`, c'est-à-dire si la chaîne `ch` se termine par les lettres de la chaîne `s`. Par exemple `jour` est un suffixe de `bonjour`."
   ]
  },
  {
   "cell_type": "code",
   "execution_count": 17,
   "metadata": {},
   "outputs": [],
   "source": [
    "def suffixe(ch: str, s: str) -> bool:\n",
    "    \"\"\"détermine si une chaîne de caractères est un suffixe d'une autre chaîne de caractères\n",
    "\n",
    "    Args:\n",
    "        ch (str): une chaîne de caractères\n",
    "        s (str): une chaîne de caractères\n",
    "\n",
    "    Returns:\n",
    "        bool: True si s est un suffixe de ch\n",
    "    \"\"\"\n",
    "    assert len(s) <= len(ch)\n",
    "    \n",
    "    n = len(s)\n",
    "    return s == ch[-n:]\n",
    "\n",
    "assert suffixe(\"bonjour\", \"jour\")\n",
    "assert not suffixe(\"bonjour\", \"joir\")"
   ]
  },
  {
   "cell_type": "markdown",
   "metadata": {},
   "source": [
    "3. Ecrire une fonction `bord(ch:str, s:str) -> bool` qui renvoie `True` si la chaîne `s` est un bord de `ch`, c'est-à-dire si `s` est à la fois un préfixe (strict) et un suffixe (strict) de `ch`. Par exemple `abra` est un bord de `abracadabra`."
   ]
  },
  {
   "cell_type": "code",
   "execution_count": 18,
   "metadata": {},
   "outputs": [],
   "source": [
    "def bord(ch: str, s: str) -> bool:\n",
    "    \"\"\"détermine si une chaîne de caractères est un bord d'une autre chaîne de caractères\n",
    "\n",
    "    Args:\n",
    "        ch (str): une chaîne de caractères\n",
    "        s (str): une chaîne de caractères\n",
    "\n",
    "    Returns:\n",
    "        bool: True si s est un bord de ch\n",
    "    \"\"\"\n",
    "    assert len(s) < len(ch)\n",
    "    \n",
    "    return prefixe(ch, s) and suffixe(ch, s)\n",
    "\n",
    "assert bord(\"abracadabra\", \"abra\")\n",
    "assert not bord(\"bonjour\", \"bo\")"
   ]
  },
  {
   "cell_type": "markdown",
   "metadata": {},
   "source": [
    "4. Ecrire une fonction `plus_grand_bord(ch:str) -> str` qui reçoit un mot `ch` et retourne le plus grand bord de ce mot. Exemples : `'a'` et `'abda'` sont des bords de `'abdabda'`. En effet, `'abdabda'` commence et se termine par `'a'`, ainsi que par `'abda'`. Le plus grand bord de `'abdabda'` est `'abda'`. Si `ch` n’a pas de bord, la fonction retourne la chaîne de caractères vide."
   ]
  },
  {
   "cell_type": "code",
   "execution_count": 20,
   "metadata": {},
   "outputs": [],
   "source": [
    "def plus_grand_bord(ch: str) -> str:\n",
    "    \"\"\"détermine le plus grand bord d'une chaîne de caractères\n",
    "\n",
    "    Args:\n",
    "        ch (str): une chaîne de caractères\n",
    "\n",
    "    Returns:\n",
    "        str: plus grand bord de ch\n",
    "    \"\"\"\n",
    "    n = len(ch) - 1\n",
    "    while n >= 0:\n",
    "        if ch[:n] == ch[-n:]:\n",
    "            return ch[:n]\n",
    "        n -= 1\n",
    "    return ''\n",
    "\n",
    "assert plus_grand_bord(\"abdabda\") == \"abda\""
   ]
  },
  {
   "attachments": {},
   "cell_type": "markdown",
   "metadata": {},
   "source": [
    "### Exercice n°13\n",
    "\n",
    "Ecrire une fonction `plus_long_palindrome(mot:str) -> str` qui renvoie le plus long palindrome inclus dans un mot. Lorsqu'il existe plusieurs palindromes de même longueur, on renverra le premier. Par exemple, le plus long palindrome inclus dans `abracadabra` est `aca` (ou `ada`), le plus long palindrome inclus dans `kayak` est `kayak` lui-même (c'est un palindrome), et le plus long palindrome inclus dans `abcd` est `a`."
   ]
  },
  {
   "cell_type": "code",
   "execution_count": 26,
   "metadata": {},
   "outputs": [],
   "source": [
    "def plus_long_palindrome(mot: str) -> str:\n",
    "    \"\"\"extrait le plus long palindrome d'un mot\n",
    "\n",
    "    Args:\n",
    "        mot (str): un mot\n",
    "\n",
    "    Returns:\n",
    "        str: le plus long palindrome contenu dans mot\n",
    "    \"\"\"\n",
    "    n = len(mot)\n",
    "    lmax = 0\n",
    "    m = \"\"\n",
    "    # sous-mots de longueur impaire\n",
    "    for i in range(n): # i = indice du milieu du mot\n",
    "        d = 1 # 1/2 longueur du sous-mot \n",
    "        while d <= i and d <= n - 1 - i and mot[i-d] == mot[i+d]:\n",
    "            d += 1\n",
    "        if 2 * d - 1 > lmax:\n",
    "            lmax = 2 * d - 1\n",
    "            m = mot[i-d+1 : i+d]\n",
    "    # sous-mots de longueur paire\n",
    "    for i in range(n-1): # i = indice du milieu du mot\n",
    "        d = 0 # 1/2 longeur du mot\n",
    "        while d <= i and d <= n - 2 - i and mot[i-d] == mot[i+1+d]:\n",
    "            d += 1\n",
    "        if 2 * d > lmax:\n",
    "            lmax = 2 * d\n",
    "            m = mot[i-d+1 : i+d+1]\n",
    "    return m\n",
    "\n",
    "assert plus_long_palindrome(\"abracadabra\") == \"aca\"\n",
    "assert plus_long_palindrome(\"laval\") == \"laval\"\n",
    "assert plus_long_palindrome(\"abcd\") == \"a\""
   ]
  },
  {
   "attachments": {},
   "cell_type": "markdown",
   "metadata": {},
   "source": [
    "### Exercice n°14\n",
    "\n",
    "Étant donné une chaîne de caractères `s` composée uniquement de `\"0\"` et de `\"1\"`, on autorise de changer un `\"0\"`\n",
    "en `\"1\"` pour créer la plus longue séquence de `\"1\"` consécutifs possible. Exemples :\n",
    "- si `s = \"011010111\"`, on obtient 5 `\"1\"` consécutifs en changeant le dernier `\"0\"` en `\"1\"`.\n",
    "- si `s = \"0111110011\"`, on obtient 6 `\"1\"` consécutifs en changeant par exemple le premier `\"0\"` en `\"1\"`.\n",
    "\n",
    "Écrire une fonction `plus_grande_longueur(s:str) -> int` qui prend en argument une chaîne de caractères `s` composée de `\"0\"` et de `\"1\"`, et renvoie la longueur de la plus longue chaîne de `\"1\"` consécutifs que l’on peut obtenir en changeant un seul `\"0\"` en `\"1\"`. "
   ]
  },
  {
   "cell_type": "code",
   "execution_count": 6,
   "metadata": {},
   "outputs": [],
   "source": [
    "def plus_grande_longueur(ch: str) -> int:\n",
    "    \"\"\"calcule la longueur de la plus longue chaîne de \"1\" consécutifs que l’on peut obtenir en changeant un seul \"0\" en \"1\"\n",
    "    \n",
    "    Args:\n",
    "        ch (str): une chaîne de caractères composée uniquement de 0 et 1\n",
    "\n",
    "    Returns:\n",
    "        int: la longueur de la plus longue chaîne de \"1\" consécutifs que l’on peut obtenir en changeant un seul \"0\" en \"1\"\n",
    "    \"\"\"\n",
    "    longueurs_partielles = [0] * len(ch)\n",
    "    for i in range(len(ch)):\n",
    "        nb_zeros = 0\n",
    "        for j in range(i, len(ch)):\n",
    "            if ch[j] == '0':\n",
    "                nb_zeros += 1\n",
    "            if nb_zeros == 2:\n",
    "                longueurs_partielles[i] = j - i\n",
    "                break\n",
    "        else:\n",
    "            longueurs_partielles[i] = len(ch) - i\n",
    "    return max(longueurs_partielles)\n",
    "\n",
    "assert plus_grande_longueur(\"00000\") == 1\n",
    "assert plus_grande_longueur(\"01010\") == 3\n",
    "assert plus_grande_longueur(\"11011101111\") == 8\n",
    "assert plus_grande_longueur(\"1000000111000000011111000001\") == 6\n",
    "assert plus_grande_longueur(\"00101001100011001111\") == 5\n",
    "assert plus_grande_longueur(\"111111101111111\") == 15\n",
    "assert plus_grande_longueur(\"0111111101111111\") == 15\n",
    "assert plus_grande_longueur(\"1111111011111110\") == 15\n",
    "assert plus_grande_longueur(\"1110011100111\") == 4\n",
    "assert plus_grande_longueur(\"111000111000111\") == 4\n",
    "assert plus_grande_longueur(\"110110011100111\") == 5\n",
    "assert plus_grande_longueur(\"101101110111101111101111110\") == 12"
   ]
  }
 ],
 "metadata": {
  "kernelspec": {
   "display_name": "Python 3.10.0 64-bit",
   "language": "python",
   "name": "python3"
  },
  "language_info": {
   "codemirror_mode": {
    "name": "ipython",
    "version": 3
   },
   "file_extension": ".py",
   "mimetype": "text/x-python",
   "name": "python",
   "nbconvert_exporter": "python",
   "pygments_lexer": "ipython3",
   "version": "3.10.0"
  },
  "orig_nbformat": 4,
  "vscode": {
   "interpreter": {
    "hash": "aee8b7b246df8f9039afb4144a1f6fd8d2ca17a180786b69acc140d282b71a49"
   }
  }
 },
 "nbformat": 4,
 "nbformat_minor": 2
}
