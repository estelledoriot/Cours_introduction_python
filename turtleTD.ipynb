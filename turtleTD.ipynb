{
 "cells": [
  {
   "attachments": {},
   "cell_type": "markdown",
   "metadata": {},
   "source": [
    "**Estelle Doriot**\n",
    "\n",
    "_NSI 1ère_\n",
    "\n",
    "---\n",
    "# TD : Turtle\n",
    "---"
   ]
  },
  {
   "cell_type": "code",
   "execution_count": 1,
   "metadata": {},
   "outputs": [],
   "source": [
    "import ipyturtle3 as turtle"
   ]
  },
  {
   "attachments": {},
   "cell_type": "markdown",
   "metadata": {},
   "source": [
    "## Exercice n°1\n",
    "\n",
    "1. Tracer un carré de côté 40."
   ]
  },
  {
   "cell_type": "code",
   "execution_count": 2,
   "metadata": {},
   "outputs": [
    {
     "data": {
      "application/vnd.jupyter.widget-view+json": {
       "model_id": "333123600fc1480783c10fd306da2aa9",
       "version_major": 2,
       "version_minor": 0
      },
      "text/plain": [
       "Canvas(height=250, width=500)"
      ]
     },
     "metadata": {},
     "output_type": "display_data"
    }
   ],
   "source": [
    "\n",
    "myCanvas = turtle.Canvas(width=500, height=250)\n",
    "display(myCanvas)\n",
    "myTS = turtle.TurtleScreen(myCanvas)\n",
    "t = turtle.Turtle(myTS)\n",
    "\n",
    "for i in range(4):\n",
    "    t.forward(40)\n",
    "    t.right(90)\n"
   ]
  },
  {
   "attachments": {},
   "cell_type": "markdown",
   "metadata": {},
   "source": [
    "2. Ecrire une fonction `carré()`. On veillera à ce que la tortue retourne à sa position et à son orientation d'origine."
   ]
  },
  {
   "cell_type": "code",
   "execution_count": 3,
   "metadata": {},
   "outputs": [
    {
     "data": {
      "application/vnd.jupyter.widget-view+json": {
       "model_id": "b4433a4c986345479de5951be50855d6",
       "version_major": 2,
       "version_minor": 0
      },
      "text/plain": [
       "Canvas(height=250, width=500)"
      ]
     },
     "metadata": {},
     "output_type": "display_data"
    }
   ],
   "source": [
    "myCanvas = turtle.Canvas(width=500, height=250)\n",
    "display(myCanvas)\n",
    "myTS = turtle.TurtleScreen(myCanvas)\n",
    "t = turtle.Turtle(myTS)\n",
    "\n",
    "def carré():\n",
    "    for i in range(4):\n",
    "        t.forward(40)\n",
    "        t.right(90)\n",
    "\n",
    "carré()"
   ]
  },
  {
   "attachments": {},
   "cell_type": "markdown",
   "metadata": {},
   "source": [
    "3. Utiliser la fonction `carré()` écrite à la question précédente pour créer la fonction `panneau()`"
   ]
  },
  {
   "cell_type": "code",
   "execution_count": 4,
   "metadata": {},
   "outputs": [
    {
     "data": {
      "application/vnd.jupyter.widget-view+json": {
       "model_id": "fbea8fe4a0504bef8189f6d087c496dc",
       "version_major": 2,
       "version_minor": 0
      },
      "text/plain": [
       "Canvas(height=250, width=500)"
      ]
     },
     "metadata": {},
     "output_type": "display_data"
    }
   ],
   "source": [
    "myCanvas = turtle.Canvas(width=500, height=250)\n",
    "display(myCanvas)\n",
    "myTS = turtle.TurtleScreen(myCanvas)\n",
    "t = turtle.Turtle(myTS)\n",
    "\n",
    "def panneau():\n",
    "    t.forward(60)\n",
    "    t.left(45)\n",
    "    carré()\n",
    "    t.right(45)\n",
    "    t.backward(60)\n",
    "\n",
    "panneau()"
   ]
  },
  {
   "attachments": {},
   "cell_type": "markdown",
   "metadata": {},
   "source": [
    "4. Utiliser la fonction `panneau()` pour créer une fonction `étoile8()`"
   ]
  },
  {
   "cell_type": "code",
   "execution_count": 5,
   "metadata": {},
   "outputs": [
    {
     "data": {
      "application/vnd.jupyter.widget-view+json": {
       "model_id": "2d0b2bb7f651445aa851d5ac9cf154cd",
       "version_major": 2,
       "version_minor": 0
      },
      "text/plain": [
       "Canvas(height=250, width=500)"
      ]
     },
     "metadata": {},
     "output_type": "display_data"
    }
   ],
   "source": [
    "myCanvas = turtle.Canvas(width=500, height=250)\n",
    "display(myCanvas)\n",
    "myTS = turtle.TurtleScreen(myCanvas)\n",
    "t = turtle.Turtle(myTS)\n",
    "\n",
    "def étoile8():\n",
    "    for i in range(8):\n",
    "        panneau()\n",
    "        t.left(360/8)\n",
    "        \n",
    "étoile8()"
   ]
  },
  {
   "attachments": {},
   "cell_type": "markdown",
   "metadata": {},
   "source": [
    "5. Réaliser de même une fonction `étoile11()`"
   ]
  },
  {
   "cell_type": "code",
   "execution_count": 6,
   "metadata": {},
   "outputs": [
    {
     "data": {
      "application/vnd.jupyter.widget-view+json": {
       "model_id": "7844ad71aebd451ab99c98d2dbd98849",
       "version_major": 2,
       "version_minor": 0
      },
      "text/plain": [
       "Canvas(height=250, width=500)"
      ]
     },
     "metadata": {},
     "output_type": "display_data"
    }
   ],
   "source": [
    "myCanvas = turtle.Canvas(width=500, height=250)\n",
    "display(myCanvas)\n",
    "myTS = turtle.TurtleScreen(myCanvas)\n",
    "t = turtle.Turtle(myTS)\n",
    "\n",
    "def étoile11():\n",
    "    for i in range(11):\n",
    "        panneau()\n",
    "        t.left(360/11)\n",
    "        \n",
    "étoile11()"
   ]
  },
  {
   "attachments": {},
   "cell_type": "markdown",
   "metadata": {},
   "source": [
    "6. Généraliser le raisonnement précédent pour écrire une fonction `étoile(n: int)` qui dessine une étoile comportant un nombre quelconque `n` de panneaux"
   ]
  },
  {
   "cell_type": "code",
   "execution_count": 7,
   "metadata": {},
   "outputs": [
    {
     "data": {
      "application/vnd.jupyter.widget-view+json": {
       "model_id": "d91d3aa74fe444f4801e8e498d6f116e",
       "version_major": 2,
       "version_minor": 0
      },
      "text/plain": [
       "Canvas(height=250, width=500)"
      ]
     },
     "metadata": {},
     "output_type": "display_data"
    }
   ],
   "source": [
    "myCanvas = turtle.Canvas(width=500, height=250)\n",
    "display(myCanvas)\n",
    "myTS = turtle.TurtleScreen(myCanvas)\n",
    "t = turtle.Turtle(myTS)\n",
    "\n",
    "def étoile(n: int):\n",
    "    for i in range(n):\n",
    "        panneau()\n",
    "        t.left(360/n)\n",
    "        \n",
    "étoile(20)"
   ]
  },
  {
   "attachments": {},
   "cell_type": "markdown",
   "metadata": {},
   "source": [
    "## Exercice n°2\n",
    "\n",
    "1. Ecrire une fonction `carré(c: int)` qui dessine un carré de côté `c`."
   ]
  },
  {
   "cell_type": "code",
   "execution_count": 8,
   "metadata": {},
   "outputs": [
    {
     "data": {
      "application/vnd.jupyter.widget-view+json": {
       "model_id": "fa53e2108cca4e1996a79ee563fa91e6",
       "version_major": 2,
       "version_minor": 0
      },
      "text/plain": [
       "Canvas(height=250, width=500)"
      ]
     },
     "metadata": {},
     "output_type": "display_data"
    }
   ],
   "source": [
    "myCanvas = turtle.Canvas(width=500, height=250)\n",
    "display(myCanvas)\n",
    "myTS = turtle.TurtleScreen(myCanvas)\n",
    "t = turtle.Turtle(myTS)\n",
    "\n",
    "def carré(c: int):\n",
    "    for i in range(4):\n",
    "        t.forward(c)\n",
    "        t.right(90)    \n",
    "\n",
    "carré(20)"
   ]
  },
  {
   "attachments": {},
   "cell_type": "markdown",
   "metadata": {},
   "source": [
    "2. Tracer la figure ci-dessous. Les carrés ont pour côtés 100, 80, 60, 40 et 20."
   ]
  },
  {
   "cell_type": "code",
   "execution_count": 9,
   "metadata": {},
   "outputs": [
    {
     "data": {
      "application/vnd.jupyter.widget-view+json": {
       "model_id": "5c1a6be7e90b49dba6cae600603770fe",
       "version_major": 2,
       "version_minor": 0
      },
      "text/plain": [
       "Canvas(height=800, width=800)"
      ]
     },
     "metadata": {},
     "output_type": "display_data"
    }
   ],
   "source": [
    "myCanvas = turtle.Canvas(width=800, height=800)\n",
    "display(myCanvas)\n",
    "myTS = turtle.TurtleScreen(myCanvas)\n",
    "t = turtle.Turtle(myTS)\n",
    "\n",
    "def branche():\n",
    "    taille = 100\n",
    "    for i in range(5):\n",
    "        carré(taille)\n",
    "        t.forward(taille)\n",
    "        taille -= 20\n",
    "    t.backward(100 + 80 + 60 + 40 + 20)\n",
    "\n",
    "def figure():\n",
    "    for i in range(4):\n",
    "        branche()\n",
    "        t.left(90)\n",
    "\n",
    "figure()"
   ]
  },
  {
   "attachments": {},
   "cell_type": "markdown",
   "metadata": {},
   "source": [
    "## Exercice n°3\n",
    "\n",
    "1. Ecrire une fonction `triangle(c: int)` qui dessine un triangle équilatéral de côté `c`."
   ]
  },
  {
   "cell_type": "code",
   "execution_count": 10,
   "metadata": {},
   "outputs": [
    {
     "data": {
      "application/vnd.jupyter.widget-view+json": {
       "model_id": "f913dc972a7947e6b71330784afeeb6b",
       "version_major": 2,
       "version_minor": 0
      },
      "text/plain": [
       "Canvas(height=250, width=500)"
      ]
     },
     "metadata": {},
     "output_type": "display_data"
    }
   ],
   "source": [
    "myCanvas = turtle.Canvas(width=500, height=250)\n",
    "display(myCanvas)\n",
    "myTS = turtle.TurtleScreen(myCanvas)\n",
    "t = turtle.Turtle(myTS)\n",
    "\n",
    "def triangle(c: int):\n",
    "    for i in range(3):\n",
    "        t.forward(c)\n",
    "        t.left(120)\n",
    "        \n",
    "triangle(100)"
   ]
  },
  {
   "attachments": {},
   "cell_type": "markdown",
   "metadata": {},
   "source": [
    "2. Ecrire une fonction `heptagone(c: int)` qui dessine un heptagone régulier de côté `c`."
   ]
  },
  {
   "cell_type": "code",
   "execution_count": 11,
   "metadata": {},
   "outputs": [
    {
     "data": {
      "application/vnd.jupyter.widget-view+json": {
       "model_id": "52f28e3926a340e2b0a958b98d42ef77",
       "version_major": 2,
       "version_minor": 0
      },
      "text/plain": [
       "Canvas(width=500)"
      ]
     },
     "metadata": {},
     "output_type": "display_data"
    }
   ],
   "source": [
    "myCanvas = turtle.Canvas(width=500, height=500)\n",
    "display(myCanvas)\n",
    "myTS = turtle.TurtleScreen(myCanvas)\n",
    "t = turtle.Turtle(myTS)\n",
    "\n",
    "def heptagone(c: int):\n",
    "    for i in range(7):\n",
    "        t.forward(c)\n",
    "        t.left(360/7)\n",
    "\n",
    "heptagone(100)"
   ]
  },
  {
   "attachments": {},
   "cell_type": "markdown",
   "metadata": {},
   "source": [
    "3. Ecrire une fonction `polygone(n: int, c: int)` qui dessine un polygone régulier à `n` côtés de taille `c` quelconque."
   ]
  },
  {
   "cell_type": "code",
   "execution_count": 12,
   "metadata": {},
   "outputs": [
    {
     "data": {
      "application/vnd.jupyter.widget-view+json": {
       "model_id": "a1bd9975512b459f853e074a1103f095",
       "version_major": 2,
       "version_minor": 0
      },
      "text/plain": [
       "Canvas(width=500)"
      ]
     },
     "metadata": {},
     "output_type": "display_data"
    }
   ],
   "source": [
    "myCanvas = turtle.Canvas(width=500, height=500)\n",
    "display(myCanvas)\n",
    "myTS = turtle.TurtleScreen(myCanvas)\n",
    "t = turtle.Turtle(myTS)\n",
    "\n",
    "def polygone(n: int, c: int):\n",
    "    for i in range(n):\n",
    "        t.forward(c)\n",
    "        t.left(360/n)\n",
    "      \n",
    "polygone(20, 25)"
   ]
  },
  {
   "attachments": {},
   "cell_type": "markdown",
   "metadata": {},
   "source": [
    "4. Réaliser la figure suivante"
   ]
  },
  {
   "cell_type": "code",
   "execution_count": 13,
   "metadata": {},
   "outputs": [
    {
     "data": {
      "application/vnd.jupyter.widget-view+json": {
       "model_id": "104c43e1dc7d4ccea0ec326f959c325f",
       "version_major": 2,
       "version_minor": 0
      },
      "text/plain": [
       "Canvas(width=500)"
      ]
     },
     "metadata": {},
     "output_type": "display_data"
    }
   ],
   "source": [
    "myCanvas = turtle.Canvas(width=500, height=500)\n",
    "display(myCanvas)\n",
    "myTS = turtle.TurtleScreen(myCanvas)\n",
    "t = turtle.Turtle(myTS)\n",
    "\n",
    "t.penup()\n",
    "t.goto(-200, 0)\n",
    "t.pendown()\n",
    "\n",
    "for i in range(3, 11):\n",
    "    polygone(i, 40)\n",
    "    t.forward(40)"
   ]
  },
  {
   "attachments": {},
   "cell_type": "markdown",
   "metadata": {},
   "source": [
    "5. Réaliser une fonction `rosace(n: int, c: int)` qui réalise les rosaces ci-dessous obtenues par rotation de `n` polygones réguliers de côté `c`."
   ]
  },
  {
   "cell_type": "code",
   "execution_count": 14,
   "metadata": {},
   "outputs": [
    {
     "data": {
      "application/vnd.jupyter.widget-view+json": {
       "model_id": "993837e0e13d445593fc59d7e909fb9d",
       "version_major": 2,
       "version_minor": 0
      },
      "text/plain": [
       "Canvas(width=500)"
      ]
     },
     "metadata": {},
     "output_type": "display_data"
    }
   ],
   "source": [
    "myCanvas = turtle.Canvas(width=500, height=500)\n",
    "display(myCanvas)\n",
    "myTS = turtle.TurtleScreen(myCanvas)\n",
    "t = turtle.Turtle(myTS)\n",
    "\n",
    "def rosace(n: int, c: int):\n",
    "    for i in range(n):\n",
    "        polygone(n, c)\n",
    "        t.right(360/n)\n",
    "\n",
    "rosace(8, 50)"
   ]
  },
  {
   "cell_type": "code",
   "execution_count": 15,
   "metadata": {},
   "outputs": [
    {
     "data": {
      "application/vnd.jupyter.widget-view+json": {
       "model_id": "f1a2eb7968af4338b91bcd4522399096",
       "version_major": 2,
       "version_minor": 0
      },
      "text/plain": [
       "Canvas(width=500)"
      ]
     },
     "metadata": {},
     "output_type": "display_data"
    }
   ],
   "source": [
    "myCanvas = turtle.Canvas(width=500, height=500)\n",
    "display(myCanvas)\n",
    "myTS = turtle.TurtleScreen(myCanvas)\n",
    "t = turtle.Turtle(myTS)\n",
    "\n",
    "rosace(20, 30)"
   ]
  },
  {
   "attachments": {},
   "cell_type": "markdown",
   "metadata": {},
   "source": [
    "## Exercice n°4\n",
    "\n",
    "1. On décide qu’un polygone à 360 côtés est une bonne approximation d’un cercle. Concevoir une fonction `cercle(r: float)` qui affiche un « cercle » (un polygone à 360 côtés) de rayon `r` quelconque, ainsi qu’un de ses diamètres."
   ]
  },
  {
   "cell_type": "code",
   "execution_count": 16,
   "metadata": {},
   "outputs": [
    {
     "data": {
      "application/vnd.jupyter.widget-view+json": {
       "model_id": "67f47a903e3a4ffa9ebb6d3e7577cc39",
       "version_major": 2,
       "version_minor": 0
      },
      "text/plain": [
       "Canvas(width=500)"
      ]
     },
     "metadata": {},
     "output_type": "display_data"
    }
   ],
   "source": [
    "from math import cos, pi\n",
    "\n",
    "myCanvas = turtle.Canvas(width=500, height=500)\n",
    "display(myCanvas)\n",
    "myTS = turtle.TurtleScreen(myCanvas)\n",
    "t = turtle.Turtle(myTS)\n",
    "\n",
    "def cercle(r: float):\n",
    "    c = 2 * r * cos(pi * (1/2 - 1/360))\n",
    "    polygone(360, c)\n",
    "    t.left(90)\n",
    "    t.forward(2 * r)\n",
    "\n",
    "cercle(100)"
   ]
  },
  {
   "attachments": {},
   "cell_type": "markdown",
   "metadata": {},
   "source": [
    "2. Ecrire une fonction `spirale()` qui trace une spirale"
   ]
  },
  {
   "cell_type": "code",
   "execution_count": 17,
   "metadata": {},
   "outputs": [
    {
     "data": {
      "application/vnd.jupyter.widget-view+json": {
       "model_id": "a6d9f3fa3edb4eeea0940956147f9814",
       "version_major": 2,
       "version_minor": 0
      },
      "text/plain": [
       "Canvas(height=250, width=500)"
      ]
     },
     "metadata": {},
     "output_type": "display_data"
    }
   ],
   "source": [
    "myCanvas = turtle.Canvas(width=500, height=250)\n",
    "display(myCanvas)\n",
    "myTS = turtle.TurtleScreen(myCanvas)\n",
    "t = turtle.Turtle(myTS)\n",
    "\n",
    "def spirale():\n",
    "    d = 0.01\n",
    "    for i in range(600):\n",
    "        t.forward(d)\n",
    "        t.right(5)\n",
    "        d += 0.01\n",
    "        \n",
    "spirale()"
   ]
  },
  {
   "attachments": {},
   "cell_type": "markdown",
   "metadata": {},
   "source": [
    "3. Tracer une spirale carrée"
   ]
  },
  {
   "cell_type": "code",
   "execution_count": 18,
   "metadata": {},
   "outputs": [
    {
     "data": {
      "application/vnd.jupyter.widget-view+json": {
       "model_id": "d50639a885a84308ad5231b0ac67ca4c",
       "version_major": 2,
       "version_minor": 0
      },
      "text/plain": [
       "Canvas(height=250, width=500)"
      ]
     },
     "metadata": {},
     "output_type": "display_data"
    }
   ],
   "source": [
    "myCanvas = turtle.Canvas(width=500, height=250)\n",
    "display(myCanvas)\n",
    "myTS = turtle.TurtleScreen(myCanvas)\n",
    "t = turtle.Turtle(myTS)\n",
    "\n",
    "def spirale_carre(n: int):\n",
    "    taille = 10\n",
    "    for i in range(n):\n",
    "        t.forward(taille)\n",
    "        t.right(90)\n",
    "        taille += 5\n",
    "\n",
    "spirale_carre(20)"
   ]
  },
  {
   "attachments": {},
   "cell_type": "markdown",
   "metadata": {},
   "source": [
    "4. Écrire une fonction `spirale_polygone(n: int, m: int)` qui tracer une spirale en forme de polygone à `m` côtés."
   ]
  },
  {
   "cell_type": "code",
   "execution_count": 19,
   "metadata": {},
   "outputs": [
    {
     "data": {
      "application/vnd.jupyter.widget-view+json": {
       "model_id": "45513996051b4cbc909db26ecd0f9faa",
       "version_major": 2,
       "version_minor": 0
      },
      "text/plain": [
       "Canvas(height=250, width=500)"
      ]
     },
     "metadata": {},
     "output_type": "display_data"
    }
   ],
   "source": [
    "myCanvas = turtle.Canvas(width=500, height=250)\n",
    "display(myCanvas)\n",
    "myTS = turtle.TurtleScreen(myCanvas)\n",
    "t = turtle.Turtle(myTS)\n",
    "\n",
    "def spirale_polygone(n: int, m: int):\n",
    "    taille = 10\n",
    "    for i in range(n):\n",
    "        t.forward(taille)\n",
    "        t.right(360 / m)\n",
    "        taille += 5\n",
    "\n",
    "spirale_polygone(20,  6)"
   ]
  },
  {
   "attachments": {},
   "cell_type": "markdown",
   "metadata": {},
   "source": [
    "## Exercice n°5\n",
    "\n",
    "1. Écrire une fonction `carré_couleur(taille: int, couleur: str)` qui trace un carré de côté taille et de couleur couleur. De même, écrire une fonction `triangle_couleur(taille: int, couleur: str)` qui dessine un triangle de taille `taille` et de couleur `couleur`"
   ]
  },
  {
   "cell_type": "code",
   "execution_count": 20,
   "metadata": {},
   "outputs": [],
   "source": [
    "myCanvas = turtle.Canvas(width=800, height=250)\n",
    "myTS = turtle.TurtleScreen(myCanvas)\n",
    "t = turtle.Turtle(myTS)\n",
    "\n",
    "def carré_couleur(taille: int, couleur: str):\n",
    "    t.pencolor(couleur)\n",
    "    for i in range(4):\n",
    "        t.forward(taille)\n",
    "        t.right(90)\n",
    "        \n",
    "def triangle_couleur(taille: int, couleur: str):\n",
    "    t.pencolor(couleur)\n",
    "    for i in range(3):\n",
    "        t.forward(taille)\n",
    "        t.right(120)"
   ]
  },
  {
   "attachments": {},
   "cell_type": "markdown",
   "metadata": {},
   "source": [
    "2. Ecrire un programme qui dessine un carré rouge puis un triangle bleu de tailles croissantes"
   ]
  },
  {
   "cell_type": "code",
   "execution_count": 21,
   "metadata": {},
   "outputs": [
    {
     "data": {
      "application/vnd.jupyter.widget-view+json": {
       "model_id": "f19026bbd69a4f74843aa5ed84f6c532",
       "version_major": 2,
       "version_minor": 0
      },
      "text/plain": [
       "Canvas(height=250, width=800)"
      ]
     },
     "metadata": {},
     "output_type": "display_data"
    }
   ],
   "source": [
    "display(myCanvas)\n",
    "t.penup()\n",
    "t.goto(-300, 0)\n",
    "t.pendown()\n",
    "\n",
    "taille = 30\n",
    "for i in range(5):\n",
    "    carré_couleur(taille, \"red\")\n",
    "    t.penup()\n",
    "    t.forward(taille + 5)\n",
    "    t.pendown()\n",
    "    triangle_couleur(taille, \"blue\")\n",
    "    t.penup()\n",
    "    t.forward(taille + 5)\n",
    "    t.pendown()\n",
    "    taille += 15"
   ]
  },
  {
   "attachments": {},
   "cell_type": "markdown",
   "metadata": {},
   "source": [
    "3. Écrire une fonction `étoile(taille: int, couleur: str)` qui dessine une étoile à `n` branche de couleur `couleur`."
   ]
  },
  {
   "cell_type": "code",
   "execution_count": 22,
   "metadata": {},
   "outputs": [
    {
     "data": {
      "application/vnd.jupyter.widget-view+json": {
       "model_id": "0ce0319690de40978e6d23d8acf1f8a2",
       "version_major": 2,
       "version_minor": 0
      },
      "text/plain": [
       "Canvas(height=250, width=500)"
      ]
     },
     "metadata": {},
     "output_type": "display_data"
    }
   ],
   "source": [
    "myCanvas = turtle.Canvas(width=500, height=250)\n",
    "display(myCanvas)\n",
    "myTS = turtle.TurtleScreen(myCanvas)\n",
    "t = turtle.Turtle(myTS)\n",
    "\n",
    "def étoile(taille: int, n: int, couleur: str):\n",
    "    t.pencolor(couleur)\n",
    "    for i in range(n):\n",
    "        t.forward(taille)\n",
    "        t.right(n // 2 * 360 / n)\n",
    "\n",
    "étoile(100, 5, \"red\")"
   ]
  },
  {
   "attachments": {},
   "cell_type": "markdown",
   "metadata": {},
   "source": [
    "4. Ecrire un programme qui dessine la figure ci-dessous:"
   ]
  },
  {
   "cell_type": "code",
   "execution_count": 23,
   "metadata": {},
   "outputs": [
    {
     "data": {
      "application/vnd.jupyter.widget-view+json": {
       "model_id": "cd8f9c3d5d614a6f8ad8b680e2b85043",
       "version_major": 2,
       "version_minor": 0
      },
      "text/plain": [
       "Canvas(height=250, width=800)"
      ]
     },
     "metadata": {},
     "output_type": "display_data"
    }
   ],
   "source": [
    "myCanvas = turtle.Canvas(width=800, height=250)\n",
    "display(myCanvas)\n",
    "myTS = turtle.TurtleScreen(myCanvas)\n",
    "t = turtle.Turtle(myTS)\n",
    "\n",
    "t.penup()\n",
    "t.goto(-300, 0)\n",
    "t.pendown()\n",
    "taille = 20\n",
    "\n",
    "for i in range(4):\n",
    "    étoile(taille, 5, \"blue\")\n",
    "    t.penup()\n",
    "    t.forward(taille + 10)\n",
    "    t.pendown()\n",
    "    taille += 20\n",
    "    \n",
    "for i in range(5):\n",
    "    étoile(taille, 5, \"blue\")\n",
    "    t.penup()\n",
    "    t.forward(taille + 10)\n",
    "    t.pendown()\n",
    "    taille -= 20"
   ]
  },
  {
   "attachments": {},
   "cell_type": "markdown",
   "metadata": {},
   "source": [
    "## Exercice n°6\n",
    "\n",
    "1. Figure 1"
   ]
  },
  {
   "cell_type": "code",
   "execution_count": 24,
   "metadata": {},
   "outputs": [
    {
     "data": {
      "application/vnd.jupyter.widget-view+json": {
       "model_id": "3eeda833fbda4a3d9e65fc5741531f2e",
       "version_major": 2,
       "version_minor": 0
      },
      "text/plain": [
       "Canvas(width=500)"
      ]
     },
     "metadata": {},
     "output_type": "display_data"
    }
   ],
   "source": [
    "myCanvas = turtle.Canvas(width=500, height=500)\n",
    "display(myCanvas)\n",
    "myTS = turtle.TurtleScreen(myCanvas)\n",
    "t = turtle.Turtle(myTS)\n",
    "\n",
    "def grille(n: int):\n",
    "    taille = 400\n",
    "    d = taille // n\n",
    "    for i in range(n + 1):\n",
    "        t.penup()\n",
    "        t.goto(-taille//2 + i * d, taille//2)\n",
    "        t.pendown()\n",
    "        t.goto(-taille//2 + i * d, -taille//2)\n",
    "    for i in range(n + 1):\n",
    "        t.penup()\n",
    "        t.goto(-taille//2, taille//2 - d * i)\n",
    "        t.pendown()\n",
    "        t.goto(taille//2, taille//2 - d * i)\n",
    "    \n",
    "grille(10)"
   ]
  },
  {
   "attachments": {},
   "cell_type": "markdown",
   "metadata": {},
   "source": [
    "2. Figure 2"
   ]
  },
  {
   "cell_type": "code",
   "execution_count": 25,
   "metadata": {},
   "outputs": [
    {
     "data": {
      "application/vnd.jupyter.widget-view+json": {
       "model_id": "a7b539f0a18844208eb2800a8d59cdc3",
       "version_major": 2,
       "version_minor": 0
      },
      "text/plain": [
       "Canvas(width=500)"
      ]
     },
     "metadata": {},
     "output_type": "display_data"
    }
   ],
   "source": [
    "myCanvas = turtle.Canvas(width=500, height=500)\n",
    "display(myCanvas)\n",
    "myTS = turtle.TurtleScreen(myCanvas)\n",
    "t = turtle.Turtle(myTS)\n",
    "\n",
    "def figure2(n: int):\n",
    "    taille = 400\n",
    "    angle = 90 / n\n",
    "    t.setheading(135)\n",
    "    for i in range(n + 1):\n",
    "        t.penup()\n",
    "        t.goto(0, 0)\n",
    "        t.pendown()\n",
    "        while t.ycor() <= taille // 2:\n",
    "            t.forward(1)\n",
    "        t.right(angle)\n",
    "        \n",
    "figure2(20)"
   ]
  },
  {
   "attachments": {},
   "cell_type": "markdown",
   "metadata": {},
   "source": [
    "3. FIgure 3"
   ]
  },
  {
   "cell_type": "code",
   "execution_count": 26,
   "metadata": {},
   "outputs": [
    {
     "data": {
      "application/vnd.jupyter.widget-view+json": {
       "model_id": "c7c50fd92b844c2e8903167a5dd5a1f4",
       "version_major": 2,
       "version_minor": 0
      },
      "text/plain": [
       "Canvas(width=500)"
      ]
     },
     "metadata": {},
     "output_type": "display_data"
    }
   ],
   "source": [
    "myCanvas = turtle.Canvas(width=500, height=500)\n",
    "display(myCanvas)\n",
    "myTS = turtle.TurtleScreen(myCanvas)\n",
    "t = turtle.Turtle(myTS)\n",
    "\n",
    "def sablier(n: int):\n",
    "    taille = 400\n",
    "    angle = 90 / n\n",
    "    t.setheading(135)\n",
    "    for i in range(n + 1):\n",
    "        t.penup()\n",
    "        t.goto(0, 0)\n",
    "        t.pendown()\n",
    "        while t.ycor() <= taille // 2:\n",
    "            t.forward(1)\n",
    "        t.right(angle)\n",
    "    t.setheading(-45)\n",
    "    for i in range(n + 1):\n",
    "        t.penup()\n",
    "        t.goto(0, 0)\n",
    "        t.pendown()\n",
    "        while t.ycor() >= - taille // 2:\n",
    "            t.forward(1)\n",
    "        t.right(angle)\n",
    "\n",
    "sablier(20)"
   ]
  },
  {
   "attachments": {},
   "cell_type": "markdown",
   "metadata": {},
   "source": [
    "4. Figure 4"
   ]
  },
  {
   "cell_type": "code",
   "execution_count": 27,
   "metadata": {},
   "outputs": [
    {
     "data": {
      "application/vnd.jupyter.widget-view+json": {
       "model_id": "7d5411fdfc65424e8931aac5a72fae5b",
       "version_major": 2,
       "version_minor": 0
      },
      "text/plain": [
       "Canvas(width=500)"
      ]
     },
     "metadata": {},
     "output_type": "display_data"
    }
   ],
   "source": [
    "myCanvas = turtle.Canvas(width=500, height=500)\n",
    "display(myCanvas)\n",
    "myTS = turtle.TurtleScreen(myCanvas)\n",
    "t = turtle.Turtle(myTS)\n",
    "\n",
    "def soleil(n: int):\n",
    "    taille = 400\n",
    "    angle = 90 / n\n",
    "    for i in range(4 * n):\n",
    "        t.penup()\n",
    "        t.goto(0, 0)\n",
    "        t.pendown()\n",
    "        while - taille // 2 <= t.ycor() <= taille // 2 and - taille // 2 <= t.xcor() <= taille // 2:\n",
    "            t.forward(1)\n",
    "        t.right(angle)\n",
    "\n",
    "soleil(20)"
   ]
  },
  {
   "attachments": {},
   "cell_type": "markdown",
   "metadata": {},
   "source": [
    "5. Figure 5"
   ]
  },
  {
   "cell_type": "code",
   "execution_count": 28,
   "metadata": {},
   "outputs": [
    {
     "data": {
      "application/vnd.jupyter.widget-view+json": {
       "model_id": "4236300a83434972909685e0c1d499f3",
       "version_major": 2,
       "version_minor": 0
      },
      "text/plain": [
       "Canvas(width=500)"
      ]
     },
     "metadata": {},
     "output_type": "display_data"
    }
   ],
   "source": [
    "myCanvas = turtle.Canvas(width=500, height=500)\n",
    "display(myCanvas)\n",
    "myTS = turtle.TurtleScreen(myCanvas)\n",
    "t = turtle.Turtle(myTS)\n",
    "\n",
    "def cercles_concentriques(n: int):\n",
    "    taille = 10\n",
    "    y = 0\n",
    "    for i in range(n):\n",
    "        t.penup()\n",
    "        t.sety(y)\n",
    "        t.pendown()\n",
    "        t.circle(taille)\n",
    "        taille += 10\n",
    "        y -= 10\n",
    "\n",
    "cercles_concentriques(20)"
   ]
  },
  {
   "attachments": {},
   "cell_type": "markdown",
   "metadata": {},
   "source": [
    "6. Figure 6"
   ]
  },
  {
   "cell_type": "code",
   "execution_count": 29,
   "metadata": {},
   "outputs": [
    {
     "data": {
      "application/vnd.jupyter.widget-view+json": {
       "model_id": "c8a64880b543408c8a5e4304ceab3194",
       "version_major": 2,
       "version_minor": 0
      },
      "text/plain": [
       "Canvas(width=500)"
      ]
     },
     "metadata": {},
     "output_type": "display_data"
    }
   ],
   "source": [
    "myCanvas = turtle.Canvas(width=500, height=500)\n",
    "display(myCanvas)\n",
    "myTS = turtle.TurtleScreen(myCanvas)\n",
    "t = turtle.Turtle(myTS)\n",
    "\n",
    "def tri(n: int):\n",
    "    taille = 400\n",
    "    d = taille / n\n",
    "    t.setheading(-45)\n",
    "    for i in range(n + 1):\n",
    "        t.penup()\n",
    "        t.goto(- taille // 2, taille // 2 - d * i)\n",
    "        t.pendown()\n",
    "        while t.ycor() >= - taille // 2:\n",
    "            t.forward(1)\n",
    "        \n",
    "tri(20)"
   ]
  },
  {
   "attachments": {},
   "cell_type": "markdown",
   "metadata": {},
   "source": [
    "## Exercice n°7\n",
    "\n",
    "1. Ecrire une fonction `carré(c: int)` qui dessine un carré de côté de longueur quelconque `c`."
   ]
  },
  {
   "cell_type": "code",
   "execution_count": 30,
   "metadata": {},
   "outputs": [
    {
     "data": {
      "application/vnd.jupyter.widget-view+json": {
       "model_id": "1ed485062e1b4e93961191de769db086",
       "version_major": 2,
       "version_minor": 0
      },
      "text/plain": [
       "Canvas(height=250, width=500)"
      ]
     },
     "metadata": {},
     "output_type": "display_data"
    }
   ],
   "source": [
    "myCanvas = turtle.Canvas(width=500, height=250)\n",
    "display(myCanvas)\n",
    "myTS = turtle.TurtleScreen(myCanvas)\n",
    "t = turtle.Turtle(myTS)\n",
    "\n",
    "def carré(c: int):\n",
    "    for i in range(4):\n",
    "        t.forward(c)\n",
    "        t.left(90)\n",
    "        \n",
    "carré(50)"
   ]
  },
  {
   "attachments": {},
   "cell_type": "markdown",
   "metadata": {},
   "source": [
    "3. En déduire une fonction `carrés_imbriqués()`."
   ]
  },
  {
   "cell_type": "code",
   "execution_count": 31,
   "metadata": {},
   "outputs": [
    {
     "data": {
      "application/vnd.jupyter.widget-view+json": {
       "model_id": "ebb839b3519b4b3a9ab2c99b4ed937c5",
       "version_major": 2,
       "version_minor": 0
      },
      "text/plain": [
       "Canvas(width=500)"
      ]
     },
     "metadata": {},
     "output_type": "display_data"
    }
   ],
   "source": [
    "from math import sqrt\n",
    "\n",
    "myCanvas = turtle.Canvas(width=500, height=500)\n",
    "display(myCanvas)\n",
    "myTS = turtle.TurtleScreen(myCanvas)\n",
    "t = turtle.Turtle(myTS)\n",
    "\n",
    "def carrés_imbriqués():\n",
    "    t.penup()\n",
    "    t.goto(-200, -200)\n",
    "    t.pendown()\n",
    "    taille = 400\n",
    "    while taille >= 1:\n",
    "        carré(taille)\n",
    "        t.forward(taille/2)\n",
    "        t.left(45)\n",
    "        taille /= sqrt(2)\n",
    "\n",
    "carrés_imbriqués()"
   ]
  },
  {
   "attachments": {},
   "cell_type": "markdown",
   "metadata": {},
   "source": [
    "## Exercice n°8\n",
    "\n",
    "1. Ecrire une fonction `triangle(c: int)` qui trace un triangle de côté `c` quelconque."
   ]
  },
  {
   "cell_type": "code",
   "execution_count": 32,
   "metadata": {},
   "outputs": [
    {
     "data": {
      "application/vnd.jupyter.widget-view+json": {
       "model_id": "4e48e71dcbcc4cd1a6ca9e940194532b",
       "version_major": 2,
       "version_minor": 0
      },
      "text/plain": [
       "Canvas(height=250, width=500)"
      ]
     },
     "metadata": {},
     "output_type": "display_data"
    }
   ],
   "source": [
    "myCanvas = turtle.Canvas(width=500, height=250)\n",
    "display(myCanvas)\n",
    "myTS = turtle.TurtleScreen(myCanvas)\n",
    "t = turtle.Turtle(myTS)\n",
    "\n",
    "def triangle(c: int):\n",
    "    for i in range(3):\n",
    "        t.forward(c)\n",
    "        t.left(120)\n",
    "        \n",
    "triangle(100)"
   ]
  },
  {
   "attachments": {},
   "cell_type": "markdown",
   "metadata": {},
   "source": [
    "2. Ecrire une fonction `triangles_emboités(c: int)` qui réalise la figure ci-dessus pour une taille `c` quelconque du grand triangle."
   ]
  },
  {
   "cell_type": "code",
   "execution_count": 33,
   "metadata": {},
   "outputs": [
    {
     "data": {
      "application/vnd.jupyter.widget-view+json": {
       "model_id": "fb8c60426cea4e8a8df012f92953017a",
       "version_major": 2,
       "version_minor": 0
      },
      "text/plain": [
       "Canvas(width=500)"
      ]
     },
     "metadata": {},
     "output_type": "display_data"
    }
   ],
   "source": [
    "myCanvas = turtle.Canvas(width=500, height=500)\n",
    "display(myCanvas)\n",
    "myTS = turtle.TurtleScreen(myCanvas)\n",
    "t = turtle.Turtle(myTS)\n",
    "\n",
    "def triangles_emboités(c: int):\n",
    "    t.penup()\n",
    "    t.goto(-100, -100)\n",
    "    t.pendown()\n",
    "    taille = c\n",
    "    while taille >= 1:\n",
    "        triangle(taille)\n",
    "        t.forward(taille/2)\n",
    "        t.left(60)\n",
    "        taille /= 2\n",
    "\n",
    "triangles_emboités(300)"
   ]
  },
  {
   "attachments": {},
   "cell_type": "markdown",
   "metadata": {},
   "source": [
    "3. Ecrire une fonction `triangles_emboités2(c: int, k: float)` qui dessine la figure ci-dessus."
   ]
  },
  {
   "cell_type": "code",
   "execution_count": 34,
   "metadata": {},
   "outputs": [
    {
     "data": {
      "application/vnd.jupyter.widget-view+json": {
       "model_id": "1fbb59a195b7440fba9a765012b56c7d",
       "version_major": 2,
       "version_minor": 0
      },
      "text/plain": [
       "Canvas(width=500)"
      ]
     },
     "metadata": {},
     "output_type": "display_data"
    }
   ],
   "source": [
    "from math import atan\n",
    "\n",
    "myCanvas = turtle.Canvas(width=500, height=500)\n",
    "display(myCanvas)\n",
    "myTS = turtle.TurtleScreen(myCanvas)\n",
    "t = turtle.Turtle(myTS)\n",
    "\n",
    "def triangles_emboités2(c: int, k: float):\n",
    "    t.penup()\n",
    "    t.goto(-100, -100)\n",
    "    t.pendown()\n",
    "    taille = c\n",
    "    angle = atan(k * sqrt(3)/(2 - 3 * k)) * 180 / pi\n",
    "    while taille >= 1:\n",
    "        triangle(taille)\n",
    "        t.forward(k * taille)\n",
    "        t.left(angle)\n",
    "        taille *= sqrt(3 * k * k - 3 * k + 1)\n",
    "\n",
    "triangles_emboités2(300, 0.1)"
   ]
  },
  {
   "attachments": {},
   "cell_type": "markdown",
   "metadata": {},
   "source": [
    "## Exercice n°9\n",
    "\n",
    "1. Ecrire une fonction `losange(c, a)` permettant de tracer un losange de côté `c` et dont un angle mesure `a` degrés."
   ]
  },
  {
   "cell_type": "code",
   "execution_count": 35,
   "metadata": {},
   "outputs": [
    {
     "data": {
      "application/vnd.jupyter.widget-view+json": {
       "model_id": "057f3be660e2465e9f75ee8282b9d640",
       "version_major": 2,
       "version_minor": 0
      },
      "text/plain": [
       "Canvas(height=250, width=500)"
      ]
     },
     "metadata": {},
     "output_type": "display_data"
    }
   ],
   "source": [
    "myCanvas = turtle.Canvas(width=500, height=250)\n",
    "display(myCanvas)\n",
    "myTS = turtle.TurtleScreen(myCanvas)\n",
    "t = turtle.Turtle(myTS)\n",
    "\n",
    "def losange(c, a):\n",
    "    for i in range(2):\n",
    "        t.forward(c)\n",
    "        t.right(a)\n",
    "        t.forward(c)\n",
    "        t.right(180 - a)\n",
    "\n",
    "losange(50, 30)"
   ]
  },
  {
   "attachments": {},
   "cell_type": "markdown",
   "metadata": {},
   "source": [
    "2. Réaliser la figure ci-dessous sachant qu’elle est exclusivement constituée de losanges et que le plus petit angle mesure 15."
   ]
  },
  {
   "cell_type": "code",
   "execution_count": 36,
   "metadata": {},
   "outputs": [
    {
     "data": {
      "application/vnd.jupyter.widget-view+json": {
       "model_id": "8a452c5d5ab74994ab2495629fd9139f",
       "version_major": 2,
       "version_minor": 0
      },
      "text/plain": [
       "Canvas(width=500)"
      ]
     },
     "metadata": {},
     "output_type": "display_data"
    }
   ],
   "source": [
    "myCanvas = turtle.Canvas(width=500, height=500)\n",
    "display(myCanvas)\n",
    "myTS = turtle.TurtleScreen(myCanvas)\n",
    "t = turtle.Turtle(myTS)\n",
    "\n",
    "def tore(c):\n",
    "    for i in range(12):\n",
    "        a = 15\n",
    "        for i in range(11):\n",
    "            losange(c, a)\n",
    "            t.forward(c)\n",
    "            t.left(15)\n",
    "            a = a + 15\n",
    "        for i in range(10):\n",
    "            t.right(15)\n",
    "            t.backward(c)\n",
    "        t.left(15)\n",
    "\n",
    "tore(20)"
   ]
  }
 ],
 "metadata": {
  "kernelspec": {
   "display_name": "Python 3",
   "language": "python",
   "name": "python3"
  },
  "language_info": {
   "codemirror_mode": {
    "name": "ipython",
    "version": 3
   },
   "file_extension": ".py",
   "mimetype": "text/x-python",
   "name": "python",
   "nbconvert_exporter": "python",
   "pygments_lexer": "ipython3",
   "version": "3.11.3"
  },
  "orig_nbformat": 4
 },
 "nbformat": 4,
 "nbformat_minor": 2
}
