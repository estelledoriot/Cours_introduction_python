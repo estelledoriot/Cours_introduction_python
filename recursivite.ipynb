{
 "cells": [
  {
   "cell_type": "markdown",
   "metadata": {},
   "source": [
    "**Estelle Doriot**\n",
    "\n",
    "_NSI Tale_\n",
    "\n",
    "---\n",
    "\n",
    "# Cours : Récursivité\n",
    "\n",
    "---\n"
   ]
  },
  {
   "cell_type": "code",
   "execution_count": 5,
   "metadata": {},
   "outputs": [],
   "source": [
    "from metakernel import register_ipython_magics\n",
    "\n",
    "register_ipython_magics()"
   ]
  },
  {
   "cell_type": "code",
   "execution_count": 6,
   "metadata": {},
   "outputs": [],
   "source": [
    "def somme(n: int) -> int:\n",
    "    \"\"\"calcule la somme des entiers de 1 à n\"\"\"\n",
    "    s = 0\n",
    "    for i in range(1, n + 1):\n",
    "        s += i\n",
    "    return s\n"
   ]
  },
  {
   "cell_type": "code",
   "execution_count": 7,
   "metadata": {},
   "outputs": [
    {
     "data": {
      "text/html": [
       "\n",
       "        <iframe\n",
       "            width=\"100%\"\n",
       "            height=\"500\"\n",
       "            src=\"https://pythontutor.com/iframe-embed.html#code=%0Adef%20somme%28n%3A%20int%29%20-%3E%20int%3A%0A%20%20%20%20if%20n%20%3D%3D%200%3A%0A%20%20%20%20%20%20%20%20return%200%0A%20%20%20%20else%3A%0A%20%20%20%20%20%20%20%20return%20n%20%2B%20somme%28n%20-%201%29%0A%20%20%20%20%0Aprint%28somme%283%29%29%0A&origin=opt-frontend.js&cumulative=false&heapPrimitives=false&textReferences=false&py=3&rawInputLstJSON=%5B%5D&curInstr=0&codeDivWidth=350&codeDivHeight=400\"\n",
       "            frameborder=\"0\"\n",
       "            allowfullscreen\n",
       "            \n",
       "        ></iframe>\n",
       "        "
      ],
      "text/plain": [
       "<IPython.lib.display.IFrame at 0x1041e3490>"
      ]
     },
     "metadata": {},
     "output_type": "display_data"
    }
   ],
   "source": [
    "%%tutor\n",
    "\n",
    "def somme(n: int) -> int:\n",
    "    if n == 0:\n",
    "        return 0\n",
    "    else:\n",
    "        return n + somme(n - 1)\n",
    "    \n",
    "print(somme(3))"
   ]
  },
  {
   "cell_type": "code",
   "execution_count": 8,
   "metadata": {},
   "outputs": [
    {
     "ename": "TypeError",
     "evalue": "'float' object cannot be interpreted as an integer",
     "output_type": "error",
     "traceback": [
      "\u001b[0;31m---------------------------------------------------------------------------\u001b[0m",
      "\u001b[0;31mTypeError\u001b[0m                                 Traceback (most recent call last)",
      "Cell \u001b[0;32mIn[8], line 1\u001b[0m\n\u001b[0;32m----> 1\u001b[0m somme(\u001b[39m10.5\u001b[39;49m)\n",
      "Cell \u001b[0;32mIn[6], line 4\u001b[0m, in \u001b[0;36msomme\u001b[0;34m(n)\u001b[0m\n\u001b[1;32m      2\u001b[0m \u001b[39m\u001b[39m\u001b[39m\"\"\"calcule la somme des entiers de 1 à n\"\"\"\u001b[39;00m\n\u001b[1;32m      3\u001b[0m s \u001b[39m=\u001b[39m \u001b[39m0\u001b[39m\n\u001b[0;32m----> 4\u001b[0m \u001b[39mfor\u001b[39;00m i \u001b[39min\u001b[39;00m \u001b[39mrange\u001b[39;49m(\u001b[39m1\u001b[39;49m, n \u001b[39m+\u001b[39;49m \u001b[39m1\u001b[39;49m):\n\u001b[1;32m      5\u001b[0m     s \u001b[39m+\u001b[39m\u001b[39m=\u001b[39m i\n\u001b[1;32m      6\u001b[0m \u001b[39mreturn\u001b[39;00m s\n",
      "\u001b[0;31mTypeError\u001b[0m: 'float' object cannot be interpreted as an integer"
     ]
    }
   ],
   "source": [
    "somme(10.5)\n"
   ]
  },
  {
   "cell_type": "code",
   "execution_count": 3,
   "metadata": {},
   "outputs": [
    {
     "name": "stdout",
     "output_type": "stream",
     "text": [
      "True\n",
      "False\n",
      "True\n",
      "False\n"
     ]
    }
   ],
   "source": [
    "def pair(n: int) -> bool:\n",
    "    if n == 0:\n",
    "        return True\n",
    "    else:\n",
    "        return impair(n - 1)\n",
    "\n",
    "\n",
    "def impair(n: int) -> bool:\n",
    "    if n == 0:\n",
    "        return False\n",
    "    else:\n",
    "        return pair(n - 1)\n",
    "\n",
    "\n",
    "print(impair(7))\n",
    "print(impair(6))\n",
    "print(pair(32))\n",
    "print(pair(21))"
   ]
  },
  {
   "cell_type": "markdown",
   "metadata": {},
   "source": [
    "## Pile d'appels\n"
   ]
  },
  {
   "cell_type": "code",
   "execution_count": 2,
   "metadata": {},
   "outputs": [
    {
     "name": "stdout",
     "output_type": "stream",
     "text": [
      "Hello my friends\n"
     ]
    }
   ],
   "source": [
    "def A():\n",
    "    return \"Hello \" + B()\n",
    "\n",
    "\n",
    "def B():\n",
    "    return \"my \" + C()\n",
    "\n",
    "\n",
    "def C():\n",
    "    return \"friends\"\n",
    "\n",
    "\n",
    "print(A())"
   ]
  },
  {
   "cell_type": "markdown",
   "metadata": {},
   "source": [
    "## Trace\n"
   ]
  },
  {
   "cell_type": "code",
   "execution_count": 3,
   "metadata": {},
   "outputs": [
    {
     "name": "stdout",
     "output_type": "stream",
     "text": [
      "somme <- (5,)\n",
      " somme <- (4,)\n",
      "  somme <- (3,)\n",
      "   somme <- (2,)\n",
      "    somme <- (1,)\n",
      "     somme <- (0,)\n",
      "     somme -> 0\n",
      "    somme -> 1\n",
      "   somme -> 3\n",
      "  somme -> 6\n",
      " somme -> 10\n",
      "somme -> 15\n"
     ]
    },
    {
     "data": {
      "text/plain": [
       "15"
      ]
     },
     "execution_count": 3,
     "metadata": {},
     "output_type": "execute_result"
    }
   ],
   "source": [
    "def trace(func):\n",
    "    def wrapper(*args):\n",
    "        print(\" \" * wrapper.space, end=\"\")\n",
    "        print(f\"{func.__name__} <- {args}\")\n",
    "        wrapper.space += 1\n",
    "        val = func(*args)\n",
    "        wrapper.space -= 1\n",
    "        print(\" \" * wrapper.space, end=\"\")\n",
    "        print(f\"{func.__name__} -> {val}\")\n",
    "        return val\n",
    "\n",
    "    wrapper.space = 0\n",
    "    return wrapper\n",
    "\n",
    "\n",
    "@trace\n",
    "def somme(n: int) -> int:\n",
    "    if n == 0:\n",
    "        return 0\n",
    "    else:\n",
    "        return n + somme(n - 1)\n",
    "\n",
    "\n",
    "somme(5)\n"
   ]
  },
  {
   "cell_type": "markdown",
   "metadata": {},
   "source": [
    "## Récursivité terminale\n"
   ]
  },
  {
   "cell_type": "code",
   "execution_count": 1,
   "metadata": {},
   "outputs": [
    {
     "name": "stdout",
     "output_type": "stream",
     "text": [
      "55\n"
     ]
    }
   ],
   "source": [
    "def somme_terminale(n: int, total: int = 0) -> int:\n",
    "    \"\"\"calcule la somme des entiers de 1 à n\"\"\"\n",
    "    if n == 0:\n",
    "        return total\n",
    "    else:\n",
    "        return somme_terminale(n - 1, n + total)\n",
    "\n",
    "\n",
    "print(somme(10))\n"
   ]
  },
  {
   "cell_type": "markdown",
   "metadata": {},
   "source": [
    "## Coûts cachés\n"
   ]
  },
  {
   "cell_type": "code",
   "execution_count": null,
   "metadata": {},
   "outputs": [],
   "source": [
    "def dicho(x, lst):\n",
    "    if len(lst) == 0:\n",
    "        return False\n",
    "    k = len(lst) // 2\n",
    "    if x == lst[k]:\n",
    "        return True\n",
    "    elif x < lst[k]:\n",
    "        return dicho(x, lst[:k])\n",
    "    else:\n",
    "        return dicho(x, lst[k + 1 :])"
   ]
  },
  {
   "cell_type": "code",
   "execution_count": 4,
   "metadata": {},
   "outputs": [
    {
     "name": "stdout",
     "output_type": "stream",
     "text": [
      "True\n"
     ]
    }
   ],
   "source": [
    "def dicho(x, lst):\n",
    "    def dicho_aux(x, lst, debut, fin):\n",
    "        if fin < debut:\n",
    "            return False\n",
    "        k = (debut + fin) // 2\n",
    "        if x == lst[k]:\n",
    "            return True\n",
    "        elif x < lst[k]:\n",
    "            return dicho_aux(x, lst, debut, k - 1)\n",
    "        else:\n",
    "            return dicho_aux(x, lst, k + 1, fin)\n",
    "\n",
    "    return dicho_aux(x, lst, 0, len(lst) - 1)\n",
    "\n",
    "\n",
    "liste = [1, 3, 6, 9, 13, 16, 19, 24, 26, 27, 36, 49]\n",
    "print(dicho(27, liste))"
   ]
  },
  {
   "cell_type": "markdown",
   "metadata": {},
   "source": [
    "## Mémoïzation\n"
   ]
  },
  {
   "cell_type": "code",
   "execution_count": 5,
   "metadata": {},
   "outputs": [
    {
     "name": "stdout",
     "output_type": "stream",
     "text": [
      "24157817\n"
     ]
    }
   ],
   "source": [
    "def fibonacci(n: int) -> int:\n",
    "    if n <= 1:\n",
    "        return n\n",
    "    return fibonacci(n - 1) + fibonacci(n - 2)\n",
    "\n",
    "\n",
    "print(fibonacci(37))\n"
   ]
  }
 ],
 "metadata": {
  "kernelspec": {
   "display_name": "Python 3",
   "language": "python",
   "name": "python3"
  },
  "language_info": {
   "codemirror_mode": {
    "name": "ipython",
    "version": 3
   },
   "file_extension": ".py",
   "mimetype": "text/x-python",
   "name": "python",
   "nbconvert_exporter": "python",
   "pygments_lexer": "ipython3",
   "version": "3.11.4"
  },
  "orig_nbformat": 4
 },
 "nbformat": 4,
 "nbformat_minor": 2
}
