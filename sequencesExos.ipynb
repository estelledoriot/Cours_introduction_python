{
 "cells": [
  {
   "attachments": {},
   "cell_type": "markdown",
   "metadata": {},
   "source": [
    "**Estelle Doriot**\n",
    "\n",
    "_NSI Tale_\n",
    "\n",
    "---\n",
    "\n",
    "# Exercices : Compléments sur les collections\n",
    "\n",
    "---\n"
   ]
  },
  {
   "cell_type": "markdown",
   "metadata": {},
   "source": [
    "### Exercice n°1\n",
    "\n",
    "1. On représente un brin d’ADN par une chaîne de caractères dont les caractères sont parmi les quatre suivants : 'A' (Adénine), 'C' (Cytosine), 'G' (Guanine) et 'T' (Thymine).\n",
    "\n",
    "Écrire une fonction `est_adn(seq: str) -> bool` qui reçoit une chaîne de caractères en paramètre et qui retourne `True` si cette chaîne de caractères n'est pas vide et peut représenter un brin d’ADN, `False` sinon.\n",
    "\n",
    "On utilisera préférentiellement un fonction parmi `all`, `any` ou `next`.\n"
   ]
  },
  {
   "cell_type": "code",
   "execution_count": null,
   "metadata": {},
   "outputs": [],
   "source": [
    "def est_adn(seq: str) -> bool:\n",
    "    \"\"\"vérifie si une séquence peut être un brin d'ADN (ne contient que des A, T, G, C et n'est pas vide)\n",
    "\n",
    "    Args:\n",
    "        seq (str): une séquence\n",
    "\n",
    "    Returns:\n",
    "        bool: True si seq correspond à une séquence d'ADN\n",
    "    \"\"\"\n",
    "    return False if not seq else all(lettre in \"ATGC\" for lettre in seq)\n",
    "\n",
    "\n",
    "assert est_adn(\"CAGCCTTA\")\n",
    "assert not est_adn(\"t\")\n",
    "assert not est_adn(\"\")"
   ]
  },
  {
   "cell_type": "markdown",
   "metadata": {},
   "source": [
    "2. Écrire une fonction `transcription_arn(brin_codant: str) -> str` qui reçoit une chaîne de caractères en paramètre, correspondant à un brin codant d'ADN, et qui retourne la chaîne de caractère représentant le brin d'ARN correspondant. On utilisera la méthode `join` de préférence à l'opérateur de concaténation `+`.\n",
    "\n",
    "Nous rappelons qu'un brin d'ADN peut être modélisé par une chaîne de caractères, dont les caractères sont pris parmi les quatre suivants : 'A'(Adénine), 'C' (Cytosine),'G' (Guanine) et 'T' (Thymine).\n",
    "La transcription en ARN se traduit par le remplacement des nucléotides de Thymine par des nucléotides d'Uracile, que l'on représentera par le caractère 'U'.\n",
    "\n",
    "L’appel suivant de la fonction `transcription_arn('AGTCTTACCGATCCAT')` doit retourner `'AGUCUUACCGAUCCAU'`\n"
   ]
  },
  {
   "cell_type": "code",
   "execution_count": 11,
   "metadata": {},
   "outputs": [],
   "source": [
    "def transcription_arn(brin_codant: str) -> str:\n",
    "    \"\"\"détermine le brin d'ARN correspond à un brin d'ADN\n",
    "\n",
    "    Args:\n",
    "        brin_codant (str): un brin d'ADN (séquence de A-T-G-C)\n",
    "\n",
    "    Returns:\n",
    "        str: le brin d'ADN correspondant\n",
    "    \"\"\"\n",
    "    return \"\".join(\n",
    "        \"U\" if brin_codant[i] == \"T\" else brin_codant[i]\n",
    "        for i in range(len(brin_codant))\n",
    "    )\n",
    "\n",
    "\n",
    "assert transcription_arn(\"AGTCTTACCGATCCAT\") == \"AGUCUUACCGAUCCAU\"\n"
   ]
  },
  {
   "cell_type": "markdown",
   "metadata": {},
   "source": [
    "### Exercice n°2\n",
    "\n",
    "L'acrostiche d'un poème est le mot ou la phrase formé par les premières lettres de chaque vers mis bout à bout. Par exemple, le poème suivant de Guillaume Appolinaire suivant :\n",
    "\n",
    "```\n",
    "Mon aimée adorée avant que je m'en aille\n",
    "Avant que notre amour triste défaille\n",
    "Râle et meure ô m'amie une fois\n",
    "Il faut nous promener tous les deux seuls dans les bois\n",
    "Alors je m'en irai plus heureux que les rois.\n",
    "```\n",
    "\n",
    "a pour acrostiche `MARIA`.\n",
    "\n",
    "Écrire une fonction `acrostiche(nom_fichier: str) -> str` qui reçoit en paramètre le nom d’un fichier et qui retourne la chaîne de caractères formée par les premières lettres de chaque ligne du fichier.\n",
    "\n",
    "On utilisera préférentiellement la méthode `join` plutôt que l'opérateur de concaténation `+`.\n"
   ]
  },
  {
   "cell_type": "code",
   "execution_count": 13,
   "metadata": {},
   "outputs": [],
   "source": [
    "def acrostiche(nom_fichier: str) -> str:\n",
    "    \"\"\"détermine l'acrostiche (suite des premières lettres de chaque ligne) d'un fichier\n",
    "\n",
    "    Args:\n",
    "        nom_fichier (str): nom du fichier\n",
    "\n",
    "    Returns:\n",
    "        str: acrostiche du texte contenu dans le fichier\n",
    "    \"\"\"\n",
    "    with open(nom_fichier, \"r\", encoding=\"utf-8\") as fichier:\n",
    "        return \"\".join(ligne[0] for ligne in fichier if ligne != \"\")\n",
    "\n",
    "\n",
    "assert acrostiche(\"acro1.txt\") == \"VIVE PYTHON\""
   ]
  },
  {
   "cell_type": "markdown",
   "metadata": {},
   "source": [
    "### Exercice n°3: Fond de caisse\n",
    "\n",
    "Le prix d’entrée d’une manifestation est de cinq euros. Un groupe de personnes, placés\n",
    "dans une file d’attente, souhaite assister à la manifestation. Cependant, tous n’ont pas\n",
    "l’appoint pour payer l’entrée : chacune de ces personnes dispose d’un unique billet, de\n",
    "cinq, de dix ou de vingt euros. Ces informations sont regroupées dans une liste, telle que :\n",
    "\n",
    "```python\n",
    "L = [ 5, 10, 5, 20 ]\n",
    "```\n",
    "\n",
    "Dans cet exemple, la première des personnes dans la file possède un billet de cinq euros,\n",
    "la seconde un billet de dix euros, etc. On souhaite savoir si la personne au guichet (dont la\n",
    "caisse initialement est vide) pourra rendre la monnaie à tout le monde. Ici, c’est en effet\n",
    "possible (on rendra la monnaie à la seconde personne avec le billet de la première entrée,\n",
    "et à la quatrième personne avec les billets des seconde et troisième entrées).\n",
    "\n",
    "1. Écrire un programme déterminant si, pour une liste L donnée, il sera possible de faire\n",
    "   entrer tous les spectateurs dans l’ordre où ils se présentent, ou si la personne au guichet se\n",
    "   retrouvera dans l’impossibilité de rendre la monnaie.\n",
    "\n",
    "2. Même question si l’on se permet de modifier l’ordre des personnes dans la file.\n"
   ]
  },
  {
   "cell_type": "code",
   "execution_count": 10,
   "metadata": {},
   "outputs": [],
   "source": [
    "def contient_monnaie(caisse: dict, monnaie: int) -> bool:\n",
    "    \"\"\"détermine si le contenu d'une caisse permet de rendre la monnaie\n",
    "\n",
    "    Args:\n",
    "        caisse (dict): contenu de la caisse {billet:nombre}\n",
    "        monnaie (int): monnaie à rendre\n",
    "\n",
    "    Returns:\n",
    "        bool: True si on peut rendre la monnaie avec l'argent de la caisse , False sinon\n",
    "    \"\"\"\n",
    "    reste = monnaie\n",
    "    for billet in sorted(caisse.keys(), reverse=True):\n",
    "        reste -= min(reste // billet, caisse[billet]) * billet\n",
    "        if reste == 0:\n",
    "            return True\n",
    "    return False\n",
    "\n",
    "\n",
    "assert contient_monnaie({5: 1, 10: 0, 20: 0}, 5)\n",
    "assert not contient_monnaie({5: 0, 10: 0, 20: 0}, 10)\n",
    "\n",
    "\n",
    "def rendre_monnaie(caisse: dict, monnaie: int) -> dict:\n",
    "    \"\"\"modifie le contenu de la caisse pour rendre la monnaie\n",
    "\n",
    "    Args:\n",
    "        caisse (dict): contenu de la caisse {billet:nombre}\n",
    "        monnaie (int): monnaie à rendre\n",
    "\n",
    "    Returns:\n",
    "        dict: caisse après avoir rendu la monnaie\n",
    "    \"\"\"\n",
    "    nouvelle_caisse = caisse.copy()\n",
    "    reste = monnaie\n",
    "    for billet in sorted(nouvelle_caisse.keys(), reverse=True):\n",
    "        if reste == 0:\n",
    "            break\n",
    "        nb_a_rendre = min(reste // billet, nouvelle_caisse[billet])\n",
    "        if nb_a_rendre > 0:\n",
    "            nouvelle_caisse[billet] -= nb_a_rendre\n",
    "            reste -= nb_a_rendre * billet\n",
    "\n",
    "    return nouvelle_caisse\n",
    "\n",
    "\n",
    "assert rendre_monnaie({5: 1, 10: 0, 20: 0}, 5) == {5: 0, 10: 0, 20: 0}\n",
    "\n",
    "TARIF = 5\n",
    "caisse_départ = {5: 0, 10: 0, 20: 0}\n",
    "liste_clients1 = [5, 10, 5, 20]\n",
    "liste_clients3 = [5, 5, 10, 20]\n",
    "liste_clients2 = [20, 10, 5, 5]\n",
    "\n",
    "\n",
    "def traiter_clients(clients: list, caisse_initiale: dict) -> bool:\n",
    "    \"\"\"détermine si on peut rendre la monnaie à tous les clients\n",
    "\n",
    "    Args:\n",
    "        clients (list): liste des billets données par les clients\n",
    "        caisse_initiale (dict): état de la caisse au début\n",
    "\n",
    "    Returns:\n",
    "        bool: True si on peut rendre la monnaie à tous les clients\n",
    "    \"\"\"\n",
    "    caisse = caisse_initiale.copy()\n",
    "    for client in clients:\n",
    "        if client == TARIF:\n",
    "            caisse[client] += 1\n",
    "        elif contient_monnaie(caisse, client - TARIF):\n",
    "            caisse[client] += 1\n",
    "            caisse = rendre_monnaie(caisse, client - TARIF)\n",
    "        else:\n",
    "            return False\n",
    "    return True\n",
    "\n",
    "\n",
    "assert traiter_clients(liste_clients1, caisse_départ)\n",
    "assert traiter_clients(liste_clients3, caisse_départ)\n",
    "assert not traiter_clients(liste_clients2, caisse_départ)\n",
    "\n",
    "\n",
    "def traiter_clients_permutes(clients: list, caisse: dict) -> bool:\n",
    "    \"\"\"détermine si on peut rendre la monnaie à tous les clients en modifiant l'ordre des clients\n",
    "\n",
    "    Args:\n",
    "        clients (list): liste des billets\n",
    "        données par les clients\n",
    "        caisse_initiale (dict): état de la caisse au début\n",
    "\n",
    "    Returns:\n",
    "        bool: True si on peut rendre la monnaie à tous les clients en changeant leur ordre\n",
    "    \"\"\"\n",
    "    return traiter_clients(sorted(clients), caisse)\n",
    "\n",
    "\n",
    "assert traiter_clients_permutes(liste_clients2, caisse_départ)\n"
   ]
  },
  {
   "cell_type": "markdown",
   "metadata": {},
   "source": [
    "### Exercice n°4\n",
    "\n",
    "Après avoir longuement réfléchi et un peu visité notre monde, le Petit Prince décide de ne pas rentrer sur sa planète mais de s’installer dans les Cévennes pour profiter de la belle nature qu’on y trouve.\n",
    "Il y trouve une petite demeure pour y habiter, et plusieurs de ses amis veulent l’aider en lui proposant des meubles, des denrées, des livres ou d’autres choses qui pourraient l’intéresser pour aménager son nouveau domicile.\n",
    "\n",
    "Nous vous proposons de l'aider.\n",
    "\n",
    "Écrire une fonction `inventaire(offres: dict, objets: list) -> set` où :\n",
    "\n",
    "- `offres` est un dictionnaire contenant, comme clés, les objets proposés par les amis du Petit Prince, et comme valeurs associées, le nom de l'ami proposant cet objet,\n",
    "- `objets` est une liste contenant tous les objets dont a besoin le Petit Prince.\n",
    "\n",
    "La fonction retourne l'ensemble des amis chez qui il lui faut se rendre pour sa récolte.\n"
   ]
  },
  {
   "cell_type": "code",
   "execution_count": 18,
   "metadata": {},
   "outputs": [],
   "source": [
    "def inventaire(offres: dict, objets: list) -> set:\n",
    "    \"\"\"génère l'ensemble des amis à aller visiter pour récupérer tous les objets de la liste\n",
    "\n",
    "    Args:\n",
    "        offres (dict): dictionnaire de correspondance objet: ami\n",
    "        objets (list): liste d'objets gardés\n",
    "\n",
    "    Returns:\n",
    "        set: ensemble des amis à aller visiter\n",
    "    \"\"\"\n",
    "    return {ami for objet, ami in offres.items() if objet in objets}\n",
    "\n",
    "\n",
    "assert inventaire(\n",
    "    {\n",
    "        \"sac de bonbons\": \"Thierry\",\n",
    "        \"bibliothèque\": \"Sébastien\",\n",
    "        \"table\": \"Sophie\",\n",
    "        \"chaise\": \"Isabelle\",\n",
    "        \"smartphone\": \"Ted\",\n",
    "        \"lit\": \"Antoine\",\n",
    "        'livre \"le vieil homme et la mer\"': \"Ernest\",\n",
    "    },\n",
    "    [\"sac de bonbons\", \"table\", \"chaise\", \"lit\", 'livre \"le vieil homme et la mer\"'],\n",
    ") == {\"Thierry\", \"Sophie\", \"Antoine\", \"Ernest\", \"Isabelle\"}\n"
   ]
  },
  {
   "cell_type": "markdown",
   "metadata": {},
   "source": [
    "### Exercice n°5\n",
    "\n",
    "1. Voici une citation de Gandhi :\n",
    "\n",
    "_La vie est un mystère qu'il faut vivre, et non un problème à résoudre._\n",
    "\n",
    "Créer un ensemble `set_gandhi` qui répertorie toutes les caractères utilisés pour cette citation.\n",
    "\n",
    "On doit obtenir un set de la forme : `{'m', 'à', '.', ...}`\n"
   ]
  },
  {
   "cell_type": "code",
   "execution_count": 1,
   "metadata": {},
   "outputs": [
    {
     "name": "stdout",
     "output_type": "stream",
     "text": [
      "{'d', 't', \"'\", 's', 'l', 'y', 'o', 'é', 'r', 'b', 'a', 'e', 'q', 'à', 'f', 'm', 'u', 'L', '.', 'v', 'p', 'i', 'n', ' ', ',', 'è'}\n"
     ]
    }
   ],
   "source": [
    "citation_gandhi = (\n",
    "    \"La vie est un mystère qu'il faut vivre, et non un problème à résoudre.\"\n",
    ")\n",
    "\n",
    "set_gandhi = set(citation_gandhi)\n",
    "print(set_gandhi)\n"
   ]
  },
  {
   "attachments": {},
   "cell_type": "markdown",
   "metadata": {},
   "source": [
    "2. Faire de même avec cette citation du philosophe Confucius : _Je ne cherche pas à connaître les réponses, je cherche à comprendre les questions._\n"
   ]
  },
  {
   "cell_type": "code",
   "execution_count": 2,
   "metadata": {},
   "outputs": [
    {
     "name": "stdout",
     "output_type": "stream",
     "text": [
      "{'d', 't', 's', 'l', 'o', 'c', 'é', 'r', 'h', 'a', 'e', 'à', 'q', 'm', 'j', 'u', '.', 'p', 'î', 'n', 'i', ' ', ',', 'J'}\n"
     ]
    }
   ],
   "source": [
    "citation_confucius = (\n",
    "    \"Je ne cherche pas à connaître les réponses,je cherche à comprendre les questions.\"\n",
    ")\n",
    "\n",
    "set_confucius = set(citation_confucius)\n",
    "print(set_confucius)\n"
   ]
  },
  {
   "attachments": {},
   "cell_type": "markdown",
   "metadata": {},
   "source": [
    "3. Utiliser vos deux ensembles `set_gandhi` et `set_confucius` pour répondre aux questions suivantes:\n",
    "\n",
    "a. Toutes les voyelles ont-elles été utilisées pour chacune des citations ?\n"
   ]
  },
  {
   "cell_type": "code",
   "execution_count": 3,
   "metadata": {},
   "outputs": [
    {
     "name": "stdout",
     "output_type": "stream",
     "text": [
      "Voyelles non utilisées par Gandhi : set()\n",
      "Voyelles non utilisées par Confucius : {'y'}\n"
     ]
    }
   ],
   "source": [
    "set_voyelles = set(\"aeiouy\")\n",
    "print(f\"Voyelles non utilisées par Gandhi : {set_voyelles - set_gandhi}\")\n",
    "print(f\"Voyelles non utilisées par Confucius : {set_voyelles - set_confucius}\")\n"
   ]
  },
  {
   "attachments": {},
   "cell_type": "markdown",
   "metadata": {},
   "source": [
    "b. Quels sont les caractères communs aux deux citations ?\n"
   ]
  },
  {
   "cell_type": "code",
   "execution_count": 4,
   "metadata": {},
   "outputs": [
    {
     "name": "stdout",
     "output_type": "stream",
     "text": [
      "Caractères communs : {'d', 't', 's', 'l', 'o', 'é', 'r', 'a', 'e', 'à', 'q', 'm', 'u', '.', 'p', 'n', 'i', ' ', ','}\n"
     ]
    }
   ],
   "source": [
    "print(f\"Caractères communs : {set_gandhi & set_confucius}\")"
   ]
  },
  {
   "attachments": {},
   "cell_type": "markdown",
   "metadata": {},
   "source": [
    "c. Quels sont tous les caractères utilisés pour l'ensemble des deux citations ?\n"
   ]
  },
  {
   "cell_type": "code",
   "execution_count": 5,
   "metadata": {},
   "outputs": [
    {
     "name": "stdout",
     "output_type": "stream",
     "text": [
      "Tous les caractères : {'d', 't', \"'\", 's', 'l', 'y', 'o', 'c', 'é', 'r', 'h', 'b', 'a', 'e', 'q', 'à', 'f', 'm', 'j', 'u', 'L', '.', 'v', 'p', 'î', 'i', 'n', ' ', ',', 'J', 'è'}\n"
     ]
    }
   ],
   "source": [
    "print(f\"Tous les caractères : {set_gandhi | set_confucius}\")"
   ]
  },
  {
   "attachments": {},
   "cell_type": "markdown",
   "metadata": {},
   "source": [
    "d. Quels sont les caractères uniques à l'une ou l'autre des citations ?\n"
   ]
  },
  {
   "cell_type": "code",
   "execution_count": 6,
   "metadata": {},
   "outputs": [
    {
     "name": "stdout",
     "output_type": "stream",
     "text": [
      "Caractères uniques à Gandhi : {'y', 'v', 'f', \"'\", 'b', 'L', 'è'}\n",
      "Caractères uniques à Confucius : {'c', 'î', 'h', 'j', 'J'}\n"
     ]
    }
   ],
   "source": [
    "print(f\"Caractères uniques à Gandhi : {set_gandhi - set_confucius}\")\n",
    "print(f\"Caractères uniques à Confucius : {set_confucius - set_gandhi}\")"
   ]
  },
  {
   "cell_type": "markdown",
   "metadata": {},
   "source": [
    "### Exercice n°6\n",
    "\n",
    "1. Utilisez la fonction `randint` du module `random` pour créer une tableau de 100 entiers tirés au hasard entre 0 et 99.\n"
   ]
  },
  {
   "cell_type": "code",
   "execution_count": 14,
   "metadata": {},
   "outputs": [
    {
     "name": "stdout",
     "output_type": "stream",
     "text": [
      "[19, 65, 36, 49, 42, 92, 94, 4, 20, 43, 85, 38, 30, 48, 71, 20, 11, 20, 43, 11, 13, 41, 52, 53, 19, 50, 87, 69, 88, 28, 14, 79, 72, 54, 93, 96, 67, 8, 96, 79, 15, 41, 97, 88, 91, 50, 97, 7, 39, 70, 5, 83, 26, 47, 74, 85, 48, 9, 2, 14, 80, 26, 36, 11, 23, 58, 64, 46, 43, 41, 83, 70, 8, 11, 13, 65, 88, 27, 23, 27, 18, 85, 54, 12, 91, 11, 62, 13, 0, 4, 77, 16, 98, 20, 54, 73, 73, 81, 65, 40]\n"
     ]
    }
   ],
   "source": [
    "from random import randint\n",
    "\n",
    "liste_entiers = [randint(0, 99) for _ in range(100)]\n",
    "print(liste_entiers)\n"
   ]
  },
  {
   "cell_type": "markdown",
   "metadata": {},
   "source": [
    "2. Calculer le nombre d’éléments de $\\llbracket 0,99 \\rrbracket$ qui n’appartiennent pas à ce tableau\n"
   ]
  },
  {
   "cell_type": "code",
   "execution_count": 16,
   "metadata": {},
   "outputs": [
    {
     "name": "stdout",
     "output_type": "stream",
     "text": [
      "38\n"
     ]
    }
   ],
   "source": [
    "print(len(set(range(0, 100)) - set(liste_entiers)))\n"
   ]
  },
  {
   "cell_type": "markdown",
   "metadata": {},
   "source": [
    "3. Recommencer cette expérience un grand nombre de fois pour évaluer le nombre moyen d’éléments d’absents (la valeur théorique est d’environ 36,6).\n"
   ]
  },
  {
   "cell_type": "code",
   "execution_count": 17,
   "metadata": {},
   "outputs": [
    {
     "name": "stdout",
     "output_type": "stream",
     "text": [
      "36.6683\n"
     ]
    }
   ],
   "source": [
    "NB_ITERATIONS = 10_000\n",
    "\n",
    "cpt = sum(\n",
    "    len(set(range(0, 100)) - {randint(0, 99) for _ in range(100)})\n",
    "    for _ in range(NB_ITERATIONS)\n",
    ")\n",
    "print(cpt / NB_ITERATIONS)"
   ]
  },
  {
   "attachments": {},
   "cell_type": "markdown",
   "metadata": {},
   "source": [
    "### Exercice n°7\n",
    "\n",
    "1. Ecrire une fonction `mots_fichier(nom_fichier: str) -> set` qui prend en argument un chaîne de caractères représentant le nom d'un fichier et qui renvoie l'ensemble de tous les mots contenus dans ce fichier (en minuscule). On considère qu'un mot est une suite de caractères composée uniquement de lettres. On pourra donc commencer par supprimer tous les caractères non alphabétiques du texte.\n"
   ]
  },
  {
   "cell_type": "code",
   "execution_count": 21,
   "metadata": {},
   "outputs": [],
   "source": [
    "def mots_fichiers(nom_fichier: str) -> set:\n",
    "    \"\"\"donne l'ensemble des mots (en minuscules) contenus dans un fichier\n",
    "\n",
    "    Args:\n",
    "        nom_fichier (str): le nom du fichier\n",
    "\n",
    "    Returns:\n",
    "        set: la liste des mots du fichier\n",
    "    \"\"\"\n",
    "    mots = set()\n",
    "    with open(nom_fichier, \"r\", encoding=\"utf-8\") as fichier:\n",
    "        mot = \"\"\n",
    "        for lettre in fichier.read():\n",
    "            if lettre.isalpha():\n",
    "                mot += lettre\n",
    "            else:\n",
    "                if mot != \"\":\n",
    "                    mots.add(mot.lower())\n",
    "                mot = \"\"\n",
    "        if mot != \"\":\n",
    "            mots.add(mot.lower())\n",
    "    return mots\n"
   ]
  },
  {
   "attachments": {},
   "cell_type": "markdown",
   "metadata": {},
   "source": [
    "2. Créer deux ensembles `set_verne` et `set_dumas` qui contiennent respectivement les mots du fichier `voyage-centre-terre.txt` et `trois-mousquetaires.txt`.\n"
   ]
  },
  {
   "cell_type": "code",
   "execution_count": 22,
   "metadata": {},
   "outputs": [],
   "source": [
    "set_verne = mots_fichiers(\"voyage-centre-terre.txt\")\n",
    "set_dumas = mots_fichiers(\"trois-mousquetaires.txt\")\n"
   ]
  },
  {
   "attachments": {},
   "cell_type": "markdown",
   "metadata": {},
   "source": [
    "3. Répondre aux questions suivantes en utilisant les deux ensembles de mots précédents.\n",
    "\n",
    "a. Quel auteur utilise le plus de mots différents dans ces deux ouvrages ?\n"
   ]
  },
  {
   "cell_type": "code",
   "execution_count": 23,
   "metadata": {},
   "outputs": [
    {
     "name": "stdout",
     "output_type": "stream",
     "text": [
      "Jules Verne utilise 10089 mots différents.\n",
      "Alexandre Dumas utilise 14564 mots différents.\n"
     ]
    }
   ],
   "source": [
    "print(f\"Jules Verne utilise {len(set_verne)} mots différents.\")\n",
    "print(f\"Alexandre Dumas utilise {len(set_dumas)} mots différents.\")\n"
   ]
  },
  {
   "attachments": {},
   "cell_type": "markdown",
   "metadata": {},
   "source": [
    "b. Quel pourcentage de mots sont communs aux deux ouvrages ?\n"
   ]
  },
  {
   "cell_type": "code",
   "execution_count": 24,
   "metadata": {},
   "outputs": [
    {
     "name": "stdout",
     "output_type": "stream",
     "text": [
      "Les deux ouvrages ont 30.7 % de mots en commun.\n"
     ]
    }
   ],
   "source": [
    "pourcentage = len(set_dumas & set_verne) / len(set_dumas | set_verne) * 100\n",
    "print(f\"Les deux ouvrages ont {round(pourcentage, 1)} % de mots en commun.\")"
   ]
  },
  {
   "attachments": {},
   "cell_type": "markdown",
   "metadata": {},
   "source": [
    "c. Quelle quantité de mots sont ne sont utilisés que dans l'un ou l'autre des ouvrages ?\n"
   ]
  },
  {
   "cell_type": "code",
   "execution_count": 25,
   "metadata": {},
   "outputs": [
    {
     "name": "stdout",
     "output_type": "stream",
     "text": [
      "Il y a 13081 mots qui ne sont utilisés que dans l'un ou l'autre des ouvrages.\n"
     ]
    }
   ],
   "source": [
    "nb_mots = len(set_dumas - set_verne) + len(set_verne - set_dumas)\n",
    "print(\n",
    "    f\"Il y a {nb_mots} mots qui ne sont utilisés que dans l'un ou l'autre des ouvrages.\"\n",
    ")"
   ]
  },
  {
   "cell_type": "markdown",
   "metadata": {},
   "source": [
    "### Exercice n°8\n",
    "\n",
    "Écrire une fonction `construction_dict_amis(liste_amis: list) -> dict` qui reçoit une liste de couples `(prenom1, prenom2)` signifiant que `prenom1` déclare `prenom2` comme étant son ami.\n",
    "\n",
    "La fonction construit et renvoie un dictionnaire dont les clés sont les prénoms des personnes nommées, et la valeur de chaque entrée est l’ensemble des amis de la personne.\n",
    "\n",
    "L’appel suivant de la fonction :\n",
    "\n",
    "```python\n",
    "construction_dict_amis([('Quidam', 'Pierre'),\n",
    "                        ('Thierry', 'Michelle'),\n",
    "                        ('Thierry', 'Pierre')])\n",
    "```\n",
    "\n",
    "doit retourner :\n",
    "\n",
    "```\n",
    "{'Quidam' : {'Pierre'}, 'Pierre' : set(), 'Thierry' : {'Michelle', 'Pierre'}, 'Michelle' : set()}\n",
    "```\n"
   ]
  },
  {
   "cell_type": "code",
   "execution_count": 19,
   "metadata": {},
   "outputs": [],
   "source": [
    "def construction_dict_amis(liste_amis: list) -> dict:\n",
    "    \"\"\"construction d'un dictionnaire d'amis\n",
    "\n",
    "    Args:\n",
    "        liste_amis (list): une liste contenant des couples d'amis (ami1, ami2)\n",
    "\n",
    "    Returns:\n",
    "        dict: les clés sont les personnes mentionnées dans la liste d'amis, les valeurs sont les ensembles de personnes qui sont amies avec la clé\n",
    "    \"\"\"\n",
    "    dico = {}\n",
    "    for ami1, ami2 in liste_amis:\n",
    "        if ami1 in dico:\n",
    "            dico[ami1].add(ami2)\n",
    "        else:\n",
    "            dico[ami1] = {ami2}\n",
    "        if ami2 not in dico:\n",
    "            dico[ami2] = set()\n",
    "    return dico\n",
    "\n",
    "\n",
    "assert construction_dict_amis(\n",
    "    [\n",
    "        (\"Quidam\", \"Bernadette\"),\n",
    "        (\"Michelle\", \"Pierre\"),\n",
    "        (\"Quidam\", \"Thierry\"),\n",
    "        (\"Thierry\", \"Pierre\"),\n",
    "        (\"Ariane\", \"Quidam\"),\n",
    "        (\"Quidam\", \"Thierry\"),\n",
    "        (\"Michelle\", \"Thierry\"),\n",
    "        (\"Pierre\", \"Ariane\"),\n",
    "    ]\n",
    ") == {\n",
    "    \"Pierre\": {\"Ariane\"},\n",
    "    \"Thierry\": {\"Pierre\"},\n",
    "    \"Ariane\": {\"Quidam\"},\n",
    "    \"Bernadette\": set(),\n",
    "    \"Quidam\": {\"Thierry\", \"Bernadette\"},\n",
    "    \"Michelle\": {\"Pierre\", \"Thierry\"},\n",
    "}"
   ]
  }
 ],
 "metadata": {
  "kernelspec": {
   "display_name": "Python 3",
   "language": "python",
   "name": "python3"
  },
  "language_info": {
   "codemirror_mode": {
    "name": "ipython",
    "version": 3
   },
   "file_extension": ".py",
   "mimetype": "text/x-python",
   "name": "python",
   "nbconvert_exporter": "python",
   "pygments_lexer": "ipython3",
   "version": "3.11.4"
  },
  "orig_nbformat": 4,
  "vscode": {
   "interpreter": {
    "hash": "aee8b7b246df8f9039afb4144a1f6fd8d2ca17a180786b69acc140d282b71a49"
   }
  }
 },
 "nbformat": 4,
 "nbformat_minor": 2
}
