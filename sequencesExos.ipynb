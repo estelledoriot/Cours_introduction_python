{
 "cells": [
  {
   "attachments": {},
   "cell_type": "markdown",
   "metadata": {},
   "source": [
    "**Estelle Doriot**\n",
    "\n",
    "_NSI Tale_\n",
    "\n",
    "---\n",
    "# Exercices : Compléments sur les séquences et les collections\n",
    "---\n",
    "\n",
    "### Exercice n° 1\n",
    "\n",
    "1. Voici une citation de Gandhi :\n",
    "\n",
    "_La vie est un mystère qu'il faut vivre, et non un problème à résoudre._\n",
    "\n",
    "Créer un ensemble `set_gandhi` qui répertorie toutes les caractères utilisés pour cette citation. \n",
    "\n",
    "On doit obtenir un set de la forme : `{'m', 'à', '.', ...}`\n"
   ]
  },
  {
   "cell_type": "code",
   "execution_count": 1,
   "metadata": {},
   "outputs": [
    {
     "name": "stdout",
     "output_type": "stream",
     "text": [
      "{'v', 'é', \"'\", 's', 'r', 'm', 'i', 'q', ' ', 'y', 'o', 'l', ',', 'u', 'a', 'è', 'd', 'L', 'n', '.', 'p', 't', 'f', 'e', 'à', 'b'}\n"
     ]
    }
   ],
   "source": [
    "citation_gandhi = \"La vie est un mystère qu'il faut vivre, et non un problème à résoudre.\"\n",
    "\n",
    "set_gandhi = set(citation_gandhi)\n",
    "print (set_gandhi)"
   ]
  },
  {
   "cell_type": "markdown",
   "metadata": {},
   "source": [
    "\n",
    "2. Faire de même avec cette citation du philosophe Confucius : _Je ne cherche pas à connaître les réponses, je cherche à comprendre les questions._"
   ]
  },
  {
   "cell_type": "code",
   "execution_count": 2,
   "metadata": {},
   "outputs": [
    {
     "name": "stdout",
     "output_type": "stream",
     "text": [
      "{'é', 's', 'r', 'c', 'm', 'i', 'J', 'q', ' ', 'o', 'l', 'î', ',', 'u', 'a', 'd', 'n', '.', 'p', 't', 'e', 'à', 'h', 'j'}\n"
     ]
    }
   ],
   "source": [
    "citation_confucius = \"Je ne cherche pas à connaître les réponses,je cherche à comprendre les questions.\"\n",
    "\n",
    "set_confucius = set(citation_confucius)\n",
    "print (set_confucius)"
   ]
  },
  {
   "attachments": {},
   "cell_type": "markdown",
   "metadata": {},
   "source": [
    "3. Utiliser vos deux ensembles `set_gandhi` et `set_confucius` pour répondre aux questions suivantes:\n",
    "\n",
    "a. Toutes les voyelles ont-elles été utilisées pour chacune des citations ?\n"
   ]
  },
  {
   "cell_type": "code",
   "execution_count": 3,
   "metadata": {},
   "outputs": [
    {
     "name": "stdout",
     "output_type": "stream",
     "text": [
      "Voyelles non utilisées par Gandhi : set()\n",
      "Voyelles non utilisées par Confucius : {'y'}\n"
     ]
    }
   ],
   "source": [
    "set_voyelles = set('aeiouy')\n",
    "print(f\"Voyelles non utilisées par Gandhi : {set_voyelles - set_gandhi}\")\n",
    "print(f\"Voyelles non utilisées par Confucius : {set_voyelles - set_confucius}\")"
   ]
  },
  {
   "attachments": {},
   "cell_type": "markdown",
   "metadata": {},
   "source": [
    "b. Quelles sont les caractères communs aux deux citations ?\n"
   ]
  },
  {
   "cell_type": "code",
   "execution_count": 4,
   "metadata": {},
   "outputs": [
    {
     "name": "stdout",
     "output_type": "stream",
     "text": [
      "Caractères communs : {'é', 's', 'r', 'm', 'i', 'q', ' ', 'o', 'l', ',', 'u', 'a', 'd', 'n', '.', 'p', 't', 'e', 'à'}\n"
     ]
    }
   ],
   "source": [
    "print(f\"Caractères communs : {set_gandhi & set_confucius}\")"
   ]
  },
  {
   "attachments": {},
   "cell_type": "markdown",
   "metadata": {},
   "source": [
    "c. Quels sont tous les caratères utilisés pour l'ensemble des deux citations ?\n"
   ]
  },
  {
   "cell_type": "code",
   "execution_count": 5,
   "metadata": {},
   "outputs": [
    {
     "name": "stdout",
     "output_type": "stream",
     "text": [
      "Tous les caractères : {'v', 'é', \"'\", 's', 'r', 'c', 'm', 'i', 'J', 'q', ' ', 'y', 'o', 'l', 'î', ',', 'u', 'a', 'è', 'd', 'L', 'n', '.', 'p', 't', 'f', 'e', 'à', 'h', 'b', 'j'}\n"
     ]
    }
   ],
   "source": [
    "print(f\"Tous les caractères : {set_gandhi | set_confucius}\")"
   ]
  },
  {
   "cell_type": "markdown",
   "metadata": {},
   "source": [
    "\n",
    "d. Quels sont les caractères uniques à l'une ou l'autre des citations ?"
   ]
  },
  {
   "cell_type": "code",
   "execution_count": null,
   "metadata": {},
   "outputs": [],
   "source": [
    "print(f\"Caractères uniques à Gandhi : {set_gandhi - set_confucius}\")\n",
    "print(f\"Caractères uniques à Confucius : {set_confucius - set_gandhi}\")"
   ]
  },
  {
   "attachments": {},
   "cell_type": "markdown",
   "metadata": {},
   "source": [
    "### Exercice n°2\n",
    "\n",
    "1. Ecrire une fonction `mots_fichier(nom_fichier: str) -> set` qui prend en argument un chaîne de caractères représentant le nom d'un fichier et qui renvoie l'ensemble de tous les mots contenus dans ce fichier (en minuscule). On considère qu'un mot est une suite de caractères composée uniquement de lettres. On pourra donc commencer par supprimer tous les caractères non alphabétiques du texte. "
   ]
  },
  {
   "cell_type": "code",
   "execution_count": 6,
   "metadata": {},
   "outputs": [],
   "source": [
    "def mots_fichiers(nom_fichier: str) -> set:\n",
    "    \"\"\"donne l'ensemble des mots (en minuscules) contenus dans un fichier\n",
    "\n",
    "    Args:\n",
    "        nom_fichier (str): le nom du fichier\n",
    "\n",
    "    Returns:\n",
    "        set: la liste des mots du fichier\n",
    "    \"\"\"\n",
    "    mots = set()\n",
    "    with open(nom_fichier, 'r', encoding='utf-8') as fichier:\n",
    "        mot = ''\n",
    "        for lettre in fichier.read():\n",
    "            if lettre.isalpha():\n",
    "                mot += lettre\n",
    "            else:\n",
    "                if mot != '':\n",
    "                    mots.add(mot.lower())\n",
    "                mot = ''\n",
    "        if mot != '':\n",
    "            mots.add(mot.lower())\n",
    "    return mots"
   ]
  },
  {
   "attachments": {},
   "cell_type": "markdown",
   "metadata": {},
   "source": [
    "2. Créer deux ensembles `set_vernes` et `set_dumas` qui contiennent respectivement les mots du fichier `voyage-centre-terre.txt` et `trois-mousquetaires.txt`."
   ]
  },
  {
   "cell_type": "code",
   "execution_count": 7,
   "metadata": {},
   "outputs": [],
   "source": [
    "set_vernes = mots_fichiers('voyage-centre-terre.txt')\n",
    "set_dumas = mots_fichiers('trois-mousquetaires.txt')"
   ]
  },
  {
   "attachments": {},
   "cell_type": "markdown",
   "metadata": {},
   "source": [
    "3. Répondre aux questions suivantes en utilisant les deux ensembles de mots précédents.\n",
    "\n",
    "a. Quel auteur utilise le plus de mots différents dans ces deux ouvrages ?\n"
   ]
  },
  {
   "cell_type": "code",
   "execution_count": 8,
   "metadata": {},
   "outputs": [
    {
     "name": "stdout",
     "output_type": "stream",
     "text": [
      "Jules Vernes utilise 10089 mots différents.\n",
      "Alexandre Dumas utilise 14564 mots différents.\n"
     ]
    }
   ],
   "source": [
    "print(f'Jules Vernes utilise {len(set_vernes)} mots différents.')\n",
    "print(f'Alexandre Dumas utilise {len(set_dumas)} mots différents.')"
   ]
  },
  {
   "attachments": {},
   "cell_type": "markdown",
   "metadata": {},
   "source": [
    "\n",
    "b. Quel pourcentage de mots sont communs aux deux ouvrages ?\n"
   ]
  },
  {
   "cell_type": "code",
   "execution_count": 9,
   "metadata": {},
   "outputs": [
    {
     "name": "stdout",
     "output_type": "stream",
     "text": [
      "Les deux ouvrages ont 30.7 % de mots en commun.\n"
     ]
    }
   ],
   "source": [
    "pourcentage = len(set_dumas & set_vernes) / len(set_dumas | set_vernes) * 100\n",
    "print(f'Les deux ouvrages ont {round(pourcentage, 1)} % de mots en commun.')"
   ]
  },
  {
   "cell_type": "markdown",
   "metadata": {},
   "source": [
    "\n",
    "c. Quels quantité de mots sont ne sont utilisés que dans l'un ou l'autre des ouvrages ?"
   ]
  },
  {
   "cell_type": "code",
   "execution_count": 11,
   "metadata": {},
   "outputs": [
    {
     "name": "stdout",
     "output_type": "stream",
     "text": [
      "Il y a 13081 mots qui ne sont utilisés que dans l'un ou l'autre des ouvrages.\n"
     ]
    }
   ],
   "source": [
    "nb_mots = len(set_dumas - set_vernes) + len(set_vernes - set_dumas)\n",
    "print(f\"Il y a {nb_mots} mots qui ne sont utilisés que dans l'un ou l'autre des ouvrages.\")"
   ]
  }
 ],
 "metadata": {
  "kernelspec": {
   "display_name": "Python 3",
   "language": "python",
   "name": "python3"
  },
  "language_info": {
   "codemirror_mode": {
    "name": "ipython",
    "version": 3
   },
   "file_extension": ".py",
   "mimetype": "text/x-python",
   "name": "python",
   "nbconvert_exporter": "python",
   "pygments_lexer": "ipython3",
   "version": "3.10.0"
  },
  "orig_nbformat": 4,
  "vscode": {
   "interpreter": {
    "hash": "aee8b7b246df8f9039afb4144a1f6fd8d2ca17a180786b69acc140d282b71a49"
   }
  }
 },
 "nbformat": 4,
 "nbformat_minor": 2
}
