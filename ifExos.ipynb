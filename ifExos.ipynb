{
 "cells": [
  {
   "attachments": {},
   "cell_type": "markdown",
   "metadata": {},
   "source": [
    "**Estelle Doriot**\n",
    "\n",
    "_NSI 1ère_\n",
    "\n",
    "---\n",
    "# Exercices : Structures conditionnelles\n",
    "---\n",
    "\n",
    "### Exercice n°1\n",
    "\n",
    "Pour transporter des poteaux sur une île, on dispose d'une barge dont la masse utile est de 1800 kg. Ecrire un programme qui demande à l'utilisateur la masse d'un poteau puis le nombre de poteaux et qui affiche le message \"Risque de surcharge !\" si la masse utile est dépassée."
   ]
  },
  {
   "cell_type": "code",
   "execution_count": 1,
   "metadata": {},
   "outputs": [],
   "source": [
    "masse = int(input(\"Masse du poteau: \"))\n",
    "nombre = int(input(\"Nombre de poteaux: \"))\n",
    "\n",
    "if masse * nombre > 1800:\n",
    "    print(\"Risque de surcharge !\")"
   ]
  },
  {
   "attachments": {},
   "cell_type": "markdown",
   "metadata": {},
   "source": [
    "### Exercice n°2\n",
    "\n",
    "Ecrire un programme qui demande un nombre et qui affiche sa valeur absolue (ce nombre sans son signe)."
   ]
  },
  {
   "cell_type": "code",
   "execution_count": 2,
   "metadata": {},
   "outputs": [
    {
     "name": "stdout",
     "output_type": "stream",
     "text": [
      "10\n"
     ]
    }
   ],
   "source": [
    "nombre = int(input(\"Donnez un nombre: \"))\n",
    "\n",
    "if nombre >= 0:\n",
    "    print(nombre)\n",
    "else:\n",
    "    print(-nombre)"
   ]
  },
  {
   "attachments": {},
   "cell_type": "markdown",
   "metadata": {},
   "source": [
    "### Exercice n°3\n",
    "\n",
    "Ecrire un programme qui demande deux nombres et qui affiche le plus grand des deux."
   ]
  },
  {
   "cell_type": "code",
   "execution_count": 3,
   "metadata": {},
   "outputs": [
    {
     "name": "stdout",
     "output_type": "stream",
     "text": [
      "20\n"
     ]
    }
   ],
   "source": [
    "nombre1 = int(input(\"Donnez un nombre: \"))\n",
    "nombre2 = int(input(\"Donnez un autre nombre: \"))\n",
    "\n",
    "if nombre1 >= nombre2:\n",
    "    print(nombre1)\n",
    "else:\n",
    "    print(nombre2)"
   ]
  },
  {
   "attachments": {},
   "cell_type": "markdown",
   "metadata": {},
   "source": [
    "### Exercice n°4\n",
    "\n",
    "Ecrire un programme qui demande trois nombres et qui affiche le plus grand des trois."
   ]
  },
  {
   "cell_type": "code",
   "execution_count": 4,
   "metadata": {},
   "outputs": [
    {
     "name": "stdout",
     "output_type": "stream",
     "text": [
      "30\n"
     ]
    }
   ],
   "source": [
    "nombre1 = int(input(\"Donnez un nombre: \"))\n",
    "nombre2 = int(input(\"Donnez un autre nombre: \"))\n",
    "nombre3 = int(input(\"Donnez un troisième nombre: \"))\n",
    "\n",
    "if nombre1 >= nombre2 and nombre1 >= nombre3:\n",
    "    print(nombre1)\n",
    "elif nombre2 >= nombre1 and nombre2 >= nombre3:\n",
    "    print(nombre2)\n",
    "else:\n",
    "    print(nombre3)"
   ]
  },
  {
   "attachments": {},
   "cell_type": "markdown",
   "metadata": {},
   "source": [
    "### Exercice n°5\n",
    "\n",
    "Ecrire un programme qui demande la température de l'eau et qui affiche l'état de l'eau (solide, liquide ou gazeux)."
   ]
  },
  {
   "cell_type": "code",
   "execution_count": 5,
   "metadata": {},
   "outputs": [
    {
     "name": "stdout",
     "output_type": "stream",
     "text": [
      "L'eau est à l'état liquide\n"
     ]
    }
   ],
   "source": [
    "temperature = int(input(\"Saisir une température en °C : \"))\n",
    "\n",
    "if temperature >= 100:\n",
    "    print(\"L'eau est à l'état de gaz\")\n",
    "elif temperature >= 0:\n",
    "    print(\"L'eau est à l'état liquide\")\n",
    "else:\n",
    "    print(\"L'eau est à l'état solide\")"
   ]
  },
  {
   "attachments": {},
   "cell_type": "markdown",
   "metadata": {},
   "source": [
    "### Exercice n°6\n",
    "\n",
    "Dans un club sportif qui forme des jeunes de moins de 14 ans, les adhérents sont classés par catégories : \"poussin\" de 6 à 7 ans, \"pupille\" de 8 à 9 ans, \"minime\" de 10 à 11 ans et \"cadet\" après 12 ans. Ecrire un programme qui demande l'âge d'un enfant et qui affiche sa catégorie. Si l'enfant a plus de 14 ans, on affichera le message \"Désolé, ce club ne s'adresse pas aux enfants de plus de 14 ans\"."
   ]
  },
  {
   "cell_type": "code",
   "execution_count": 6,
   "metadata": {},
   "outputs": [
    {
     "name": "stdout",
     "output_type": "stream",
     "text": [
      "cadet\n"
     ]
    }
   ],
   "source": [
    "age = int(input(\"Quel est l'âge de votre enfant: \"))\n",
    "\n",
    "if 6 <= age and age <= 7:\n",
    "    print(\"poussin\")\n",
    "elif 8 <= age and age <= 9:\n",
    "    print(\"pupille\")\n",
    "elif 10 <= age and age <= 11:\n",
    "    print(\"minime\")\n",
    "elif 12 <= age and age <= 14:\n",
    "    print(\"cadet\")\n",
    "else:\n",
    "    print(\"Désolé, ce club ne s'adresse pas aux enfants de plus de 14 ans\")"
   ]
  },
  {
   "attachments": {},
   "cell_type": "markdown",
   "metadata": {},
   "source": [
    "### Exercice n°7\n",
    "\n",
    "Pour le diplôme du baccalauréat, si on note $m$ la moyenne du candidat au premier groupe d'épreuves, on distingue six possibilités : \"Refusé\" si $m < 8$, \"Admis au second groupe\" si $8 \\leq m < 10$, \"Admis\" si $10 \\leq m < 12$, \"Admis mention assez bien\" si $12 \\leq m < 14$, \"Admis mention bien\" si $14 \\leq m < 16$ et \"Admis mention très bien\" sinon. Ecrire un programme qui demande à l'utilisateur sa moyenne puis qui affiche sa situation en fonction de sa moyenne au premier groupe d'épreuves."
   ]
  },
  {
   "cell_type": "code",
   "execution_count": 7,
   "metadata": {},
   "outputs": [
    {
     "name": "stdout",
     "output_type": "stream",
     "text": [
      "Admis mention bien\n"
     ]
    }
   ],
   "source": [
    "moyenne = float(input(\"Quelle est votre moyenne ?\"))\n",
    "if moyenne < 8:\n",
    "    print(\"Refusé\")\n",
    "elif moyenne < 10:\n",
    "    print(\"Admis au second groupe\")\n",
    "elif moyenne < 12:\n",
    "    print(\"Admis\")\n",
    "elif moyenne < 14:\n",
    "    print(\"Admis mention assez bien\")\n",
    "elif moyenne < 16:\n",
    "    print(\"Admis mention bien\")\n",
    "else:\n",
    "    print(\"Admis mention très bien\")"
   ]
  },
  {
   "attachments": {},
   "cell_type": "markdown",
   "metadata": {},
   "source": [
    "### Exercice n°8\n",
    "\n",
    "Écrire un programme qui lit 3 nombres entiers, et qui, si au moins deux d’entre eux ont la même valeur, imprime cette valeur (le programme n’imprime rien dans le cas contraire)."
   ]
  },
  {
   "cell_type": "code",
   "execution_count": 8,
   "metadata": {},
   "outputs": [
    {
     "name": "stdout",
     "output_type": "stream",
     "text": [
      "5\n"
     ]
    }
   ],
   "source": [
    "a = int(input())\n",
    "b = int(input())\n",
    "c = int(input())\n",
    "\n",
    "if (a == b) or (a == c):\n",
    "    print(a)\n",
    "elif b == c:\n",
    "    print(b)"
   ]
  },
  {
   "attachments": {},
   "cell_type": "markdown",
   "metadata": {},
   "source": [
    "### Exercice n°9\n",
    "\n",
    "1. On souhaite écrire un programme qui affiche le prix d’une place de cinéma. Le prix d’une place enfant est de 5.60 €, le prix d’une place tarif réduit est de 7.80 € et la place plein tarif est de 13.00 €. Une personne paiera le prix enfant si elle a moins de 14 ans, le tarif réduit si elle a moins de 26 ans ou plus de 65 ans et le plein tarif sinon. On utilisera les variables suivantes : \n",
    "\n",
    "```python\n",
    "prix_enfant = 5.60\n",
    "prix_reduit = 7.80\n",
    "prix_plein = 13.00\n",
    "```\n",
    "\n",
    "Ecrire un programme qui demande l'âge du client et qui affiche le prix de son billet.\n",
    "   \n"
   ]
  },
  {
   "cell_type": "code",
   "execution_count": 9,
   "metadata": {},
   "outputs": [
    {
     "name": "stdout",
     "output_type": "stream",
     "text": [
      "Il faut payer 5.6.\n"
     ]
    }
   ],
   "source": [
    "age = int(input(\"Quel est votre age ? \"))\n",
    "\n",
    "prix_enfant = 5.60\n",
    "prix_reduit = 7.80\n",
    "prix_plein = 13.00\n",
    "\n",
    "if age <= 14:\n",
    "    print(f\"Il faut payer {prix_enfant}.\")\n",
    "elif age <= 26 or age >= 65:\n",
    "    print(f\"Il faut payer {prix_reduit}.\")\n",
    "else:\n",
    "    print(f\"Il faut payer {prix_plein}.\")"
   ]
  },
  {
   "attachments": {},
   "cell_type": "markdown",
   "metadata": {},
   "source": [
    "2. Il y a également un supplément de 2€ pour les films en 3D. On rajoutera la variable suivante :\n",
    "\n",
    "```python\n",
    "sup_3D = 2.00\n",
    "```\n",
    "Compléter le programme précédent en demandant si le film visionné est en 3D puis afficher le prix total à payer."
   ]
  },
  {
   "cell_type": "code",
   "execution_count": 10,
   "metadata": {},
   "outputs": [
    {
     "name": "stdout",
     "output_type": "stream",
     "text": [
      "Il faut payer 9.8.\n"
     ]
    }
   ],
   "source": [
    "age = int(input(\"Quel est votre age ? \"))\n",
    "troisD = input(\"Votre film est-il en 3D? \")\n",
    "\n",
    "prix_enfant = 5.60\n",
    "prix_reduit = 7.80\n",
    "prix_plein = 13.00\n",
    "sup_3D = 2.00\n",
    "\n",
    "if age <= 14:\n",
    "    prix = prix_enfant\n",
    "elif age <= 26 or age >= 65:\n",
    "    prix = prix_reduit\n",
    "else:\n",
    "    prix = prix_plein\n",
    "    \n",
    "if troisD == \"oui\":\n",
    "    prix = prix + sup_3D\n",
    "    \n",
    "print(f\"Il faut payer {prix}.\")"
   ]
  },
  {
   "attachments": {},
   "cell_type": "markdown",
   "metadata": {},
   "source": [
    "### Exercice n°10\n",
    "\n",
    "1. Ecrire un programme qui demande un entier et qui affiche si cet entier est un multiple de 5.\n",
    "   \n"
   ]
  },
  {
   "cell_type": "code",
   "execution_count": 11,
   "metadata": {},
   "outputs": [
    {
     "name": "stdout",
     "output_type": "stream",
     "text": [
      "17 n'est pas un multiple de 5.\n"
     ]
    }
   ],
   "source": [
    "entier = int(input(\"Donnez un entier: \"))\n",
    "\n",
    "if entier % 5 == 0:\n",
    "    print(f\"{entier} est un multiple de 5.\")\n",
    "else:\n",
    "    print(f\"{entier} n'est pas un multiple de 5.\")"
   ]
  },
  {
   "attachments": {},
   "cell_type": "markdown",
   "metadata": {},
   "source": [
    "2. Ecrire un programme qui demande un entier et qui affiche si cet entier est pair."
   ]
  },
  {
   "cell_type": "code",
   "execution_count": 12,
   "metadata": {},
   "outputs": [
    {
     "name": "stdout",
     "output_type": "stream",
     "text": [
      "20 est un nombre pair.\n"
     ]
    }
   ],
   "source": [
    "entier = int(input(\"Donnez un entier: \"))\n",
    "\n",
    "if entier % 2 == 0:\n",
    "    print(f\"{entier} est un nombre pair.\")\n",
    "else:\n",
    "    print(f\"{entier} est un nombre impair.\")"
   ]
  },
  {
   "attachments": {},
   "cell_type": "markdown",
   "metadata": {},
   "source": [
    "### Exercice n°11\n",
    "\n",
    "Depuis l'ajustement du calendrier grégorien au XVIe siècle, une année est bissextile :\n",
    "- si l'année est divisible par 4 mais pas divisible par 100\n",
    "- si l'année est divisible par 400\n",
    "\n",
    "Sinon l'année n'est pas bissextile.\n",
    "\n",
    "Ecrire un programme qui demande une année et qui affiche si cette année est bissextile ou non.\n",
    "\n",
    "Pour tester:\n",
    "- 2021 n'est pas bissextile\n",
    "- 2020 est bissextile\n",
    "- 1900 n'est pas bissextile\n",
    "- 2000 est bissextile\n"
   ]
  },
  {
   "cell_type": "code",
   "execution_count": 13,
   "metadata": {},
   "outputs": [
    {
     "name": "stdout",
     "output_type": "stream",
     "text": [
      "2023 n'est pas bissextile\n"
     ]
    }
   ],
   "source": [
    "annee = int(input(\"Donnez une année: \"))\n",
    "\n",
    "if annee % 400 == 0:\n",
    "    print(f\"{annee} est bissextile\")\n",
    "elif annee % 100 == 0:\n",
    "    print(f\"{annee} n'est pas bissextile\")\n",
    "elif annee % 4 == 0:\n",
    "    print(f\"{annee} est bissextile\")\n",
    "else:\n",
    "    print(f\"{annee} n'est pas bissextile\")"
   ]
  },
  {
   "attachments": {},
   "cell_type": "markdown",
   "metadata": {},
   "source": [
    "Une autre méthode :"
   ]
  },
  {
   "cell_type": "code",
   "execution_count": 14,
   "metadata": {},
   "outputs": [
    {
     "name": "stdout",
     "output_type": "stream",
     "text": [
      "2014 n'est pas bissextile\n"
     ]
    }
   ],
   "source": [
    "annee = int(input(\"Donnez une année: \"))\n",
    "\n",
    "if (annee % 400 == 0) or ((annee % 4 == 0) and (annee % 100 != 0)):\n",
    "    print(f\"{annee} est bissextile\")\n",
    "else:\n",
    "    print(f\"{annee} n'est pas bissextile\")"
   ]
  },
  {
   "attachments": {},
   "cell_type": "markdown",
   "metadata": {},
   "source": [
    "### Exercice n°12\n",
    "\n",
    "Ecrire une suite d'instructions qui calcule l’heure une minute après celle stockée sous la forme de deux variables :\n",
    "\n",
    "```python\n",
    "heure, minute = 10, 20\n",
    "```\n",
    "\n",
    "Exemples :\n",
    "```python\n",
    "heure, minute = 10, 20 \n",
    "affichera 'Il est 10 heures et 21 minutes'\n",
    "    \n",
    "heure, minute = 10, 59 \n",
    "affichera 'Il est 11 heures'\n",
    "```\n",
    "Ne pas oublier le cas de minuit."
   ]
  },
  {
   "cell_type": "code",
   "execution_count": 15,
   "metadata": {},
   "outputs": [
    {
     "name": "stdout",
     "output_type": "stream",
     "text": [
      "Il est maintenant 10 heure et 21 minutes\n"
     ]
    }
   ],
   "source": [
    "heures, minutes = 10, 20\n",
    "\n",
    "if minutes == 59:\n",
    "    minutes = '00'\n",
    "    if heures == 23:\n",
    "        heures = '00'\n",
    "    else:\n",
    "        heures = heures + 1\n",
    "else:\n",
    "    minutes = minutes + 1\n",
    "\n",
    "print(f\"Il est maintenant {heures} heure et {minutes} minutes\")"
   ]
  },
  {
   "attachments": {},
   "cell_type": "markdown",
   "metadata": {},
   "source": [
    "### Exercice n°13\n",
    "\n",
    "Écrire un programme qui demande en entrée les longueurs des trois côtés d'un triangle et affiche ensuite s'il est rectangle, équilatéral, isocèle ou quelconque."
   ]
  },
  {
   "cell_type": "code",
   "execution_count": 16,
   "metadata": {},
   "outputs": [
    {
     "name": "stdout",
     "output_type": "stream",
     "text": [
      "Le triangle est rectangle\n"
     ]
    }
   ],
   "source": [
    "a = int(input(\"Longueur du premier côté: \"))\n",
    "b = int(input(\"Longueur du deuxème côté: \"))\n",
    "c = int(input(\"Longueur du troisième côté: \"))\n",
    "\n",
    "if (a * a == b * b + c * c):\n",
    "    if b == c:\n",
    "        print(\"Le triangle est isocèle rectangle.\")\n",
    "    else:\n",
    "        print(\"Le triangle est rectangle\")\n",
    "elif (b * b == a * a + c * c):\n",
    "    if a == c:\n",
    "        print(\"Le triagnle est isocèle rectangle\")\n",
    "    else:\n",
    "        print(\"Le triangle est rectangle\")\n",
    "elif (c * c == a * a + b * b):\n",
    "    if a == b:\n",
    "        print(\"Le triagnle est isocèle rectangle\")\n",
    "    else:\n",
    "        print(\"Le triangle est rectangle\")\n",
    "elif a == b and b == c:\n",
    "    print(\"Le triangle est équilatéral\")\n",
    "elif a == b or a == c or b == c:\n",
    "    print(\"Le triangle est isocèle\")\n",
    "else:\n",
    "    print(\"Le triangle est quelconque\")"
   ]
  },
  {
   "attachments": {},
   "cell_type": "markdown",
   "metadata": {},
   "source": [
    "### Exercice n°14\n",
    "\n",
    "Un distributeur de banque dispose de billets de 10, 20, 50, 100 et 200 euros. Écrire un **programme qui demande la somme désirée et propose une répartition avec le moins de billets possible**."
   ]
  },
  {
   "cell_type": "code",
   "execution_count": 17,
   "metadata": {},
   "outputs": [
    {
     "name": "stdout",
     "output_type": "stream",
     "text": [
      "Il faut rendre 1 billets de 20€\n",
      "Il faut rendre 1 billets de 10€\n"
     ]
    }
   ],
   "source": [
    "somme_a_rendre = int(input(\"Quelle somme doit-on rendre ? \"))\n",
    "\n",
    "if somme_a_rendre >= 200:\n",
    "    print(f\"Il faut rendre {somme_a_rendre // 200} billets de 200€\")\n",
    "    somme_a_rendre = somme_a_rendre % 200\n",
    "if somme_a_rendre >= 100:\n",
    "    print(f\"Il faut rendre {somme_a_rendre // 100} billets de 100€\")\n",
    "    somme_a_rendre = somme_a_rendre % 100\n",
    "if somme_a_rendre >= 50:\n",
    "    print(f\"Il faut rendre {somme_a_rendre // 50} billets de 50€\")\n",
    "    somme_a_rendre = somme_a_rendre % 50\n",
    "if somme_a_rendre >= 20:\n",
    "    print(f\"Il faut rendre {somme_a_rendre // 20} billets de 20€\")\n",
    "    somme_a_rendre = somme_a_rendre % 20\n",
    "if somme_a_rendre >= 10:\n",
    "    print(f\"Il faut rendre {somme_a_rendre // 10} billets de 10€\")\n",
    "    somme_a_rendre = somme_a_rendre % 10"
   ]
  },
  {
   "cell_type": "markdown",
   "metadata": {},
   "source": [
    "### Exercice n°15\n",
    "\n",
    "On définit un polynôme du second degré $P$ par $P(x) = a x^2 + b x + c$ où $a$, $b$ et $c$ sont des nombres réels. Écrire un programme qui demande à l'utilisateur les valeurs de $a$, $b$ et $c$ puis résout l'équation $P(x) = 0$ et affiche la ou les solutions."
   ]
  },
  {
   "cell_type": "code",
   "execution_count": 3,
   "metadata": {},
   "outputs": [
    {
     "name": "stdout",
     "output_type": "stream",
     "text": [
      "Il y a deux solutions réelles: 1.0 et -1.0\n"
     ]
    }
   ],
   "source": [
    "from math import sqrt\n",
    "\n",
    "a = float(input(\"Veuillez donner le coefficient a: \"))\n",
    "b = float(input(\"Veuillez donner le coefficient b: \"))\n",
    "c = float(input(\"Veuillez donner le coefficient c: \"))\n",
    "\n",
    "delta = b ** 2 - 4 * a * c\n",
    "\n",
    "if delta == 0:\n",
    "    print(f\"Il y a une seule solution: {-b / (2 * a)}\")\n",
    "elif delta > 0:\n",
    "    print(f\"Il y a deux solutions réelles: {(-b + sqrt(delta)) / (2 * a)} et {(-b - sqrt(delta)) / (2 * a)}\")\n",
    "else:\n",
    "    print(\"Il n'y a pas de solution réelle.\")"
   ]
  }
 ],
 "metadata": {
  "interpreter": {
   "hash": "aee8b7b246df8f9039afb4144a1f6fd8d2ca17a180786b69acc140d282b71a49"
  },
  "kernelspec": {
   "display_name": "Python 3.7.4 64-bit",
   "language": "python",
   "name": "python3"
  },
  "language_info": {
   "codemirror_mode": {
    "name": "ipython",
    "version": 3
   },
   "file_extension": ".py",
   "mimetype": "text/x-python",
   "name": "python",
   "nbconvert_exporter": "python",
   "pygments_lexer": "ipython3",
   "version": "3.11.4"
  },
  "orig_nbformat": 4
 },
 "nbformat": 4,
 "nbformat_minor": 2
}
