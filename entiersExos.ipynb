{
 "cells": [
  {
   "attachments": {},
   "cell_type": "markdown",
   "metadata": {},
   "source": [
    "**Estelle Doriot**\n",
    "\n",
    "_NSI 1ère_\n",
    "\n",
    "---\n",
    "\n",
    "# Exercices : Représentation des entiers\n",
    "\n",
    "---\n",
    "\n",
    "### Exercice n° 1\n",
    "\n",
    "Donner l'écriture sur 32 bits de $10^6$.\n"
   ]
  },
  {
   "attachments": {},
   "cell_type": "markdown",
   "metadata": {},
   "source": [
    "Correction:\n",
    "\n",
    "0000 0000 0000 1111 0100 0010 0100 0000\n"
   ]
  },
  {
   "attachments": {},
   "cell_type": "markdown",
   "metadata": {},
   "source": [
    "### Exercice n°2\n",
    "\n",
    "Combien de chiffres binaires faut-il pour représenter tous les nombres entiers de $0$ à $19\\,999$? Combien de chiffres hexadécimaux?\n"
   ]
  },
  {
   "attachments": {},
   "cell_type": "markdown",
   "metadata": {},
   "source": [
    "Correction:\n",
    "\n",
    "1. $2^{14} = 16\\,384$ et $2^{15} = 32\\,768$.\n",
    "   Comme $2^{14} < 20\\,000 < 2^{15}$, il faut 15 bits pour représenter les entiers de $0$ à $19\\,999$.\n",
    "\n",
    "2. Il faut 4 chiffres hexadécimaux.\n"
   ]
  },
  {
   "attachments": {},
   "cell_type": "markdown",
   "metadata": {},
   "source": [
    "### Exercice n°3\n",
    "\n",
    "1. Quels entiers peut-on coder sur 16 bits ?\n",
    "2. Quels entiers peut-on coder sur 32 bits ?\n"
   ]
  },
  {
   "attachments": {},
   "cell_type": "markdown",
   "metadata": {},
   "source": [
    "Correction:\n",
    "\n",
    "1. Sur 16 bits, on peut coder tous les entiers de $0$ à $2^{16} - 1 = 65\\,535$.\n",
    "2. Sur 32 bits, on peut coder tous les entiers de $0$ à $2^{32} - 1 = 4\\,294\\,967\\,295$.\n"
   ]
  },
  {
   "attachments": {},
   "cell_type": "markdown",
   "metadata": {},
   "source": [
    "### Exercice n°4\n",
    "\n",
    "1. Écrire en python une fonction `codage_bin_positif(entier:int, N:int) -> str` qui convertit un entier décimal positif `entier` en binaire sur `N` bits.\n"
   ]
  },
  {
   "cell_type": "code",
   "execution_count": 1,
   "metadata": {},
   "outputs": [],
   "source": [
    "def codage_bin_positif(entier: int, N: int) -> str:\n",
    "    \"\"\"code un entier décimal en binaire sur N bits\n",
    "\n",
    "    Args:\n",
    "        entier (int): entier décimal\n",
    "        N (int): nombre de bits du résultat\n",
    "\n",
    "    Returns:\n",
    "        str: entier en binaire sur N bits\n",
    "    \"\"\"\n",
    "    resultat = \"\"\n",
    "    for i in range(N):\n",
    "        resultat = str(entier % 2) + resultat\n",
    "        entier //= 2\n",
    "    return resultat\n",
    "\n",
    "\n",
    "assert codage_bin_positif(7, 4) == \"0111\"\n",
    "assert codage_bin_positif(16, 4) == \"0000\""
   ]
  },
  {
   "attachments": {},
   "cell_type": "markdown",
   "metadata": {},
   "source": [
    "2. Écrire en python une fonction `codage_bin(entier:int, N:int) -> str` qui convertit un entier décimal positif ou négatif `entier` en binaire sur `N` bits (en utilisant la méthode du complément à 2 pour les entiers négatifs).\n"
   ]
  },
  {
   "cell_type": "code",
   "execution_count": 2,
   "metadata": {},
   "outputs": [],
   "source": [
    "def codage_bin(entier: int, N: int) -> str:\n",
    "    \"\"\"code un entier relatif décimal en binaire sur N bits (avec la méthode du complément à 2)\n",
    "\n",
    "    Args:\n",
    "        entier (int): un entier décimal\n",
    "        N (int): nombre de bits du résultat\n",
    "\n",
    "    Returns:\n",
    "        str: entier en binaire sur N bits\n",
    "    \"\"\"\n",
    "    if entier >= 0:\n",
    "        return codage_bin_positif(entier, N)\n",
    "    else:\n",
    "        return codage_bin_positif(2**N + entier, N)\n",
    "\n",
    "\n",
    "assert codage_bin(-7, 4) == \"1001\"\n",
    "assert codage_bin(567, 14) == \"00001000110111\"\n",
    "assert codage_bin(-567, 14) == \"11110111001001\""
   ]
  },
  {
   "attachments": {},
   "cell_type": "markdown",
   "metadata": {},
   "source": [
    "3. Ecrire une fonction `add_binaire(entier1: str, entier2: str) -> str` qui réalise l'addition binaire de deux entiers écrits sous forme d'une chaîne de caractères. On vérifiera que les deux entiers sont codés sur le même nombre de bits.\n"
   ]
  },
  {
   "cell_type": "code",
   "execution_count": 3,
   "metadata": {},
   "outputs": [],
   "source": [
    "def add_binaire(entier1: str, entier2: str) -> str:\n",
    "    \"\"\"réalise l'addition binaire de deux entiers codés sur le même nombre de bits. Si les deux entiers ne sont pas de même taille, une erreur est levée\n",
    "\n",
    "    Args:\n",
    "        entier1 (str): un entier en binaire sous forme de chaîne de caractères\n",
    "        entier2 (str): un entier en binaire sous forme de chaîne de caractères\n",
    "\n",
    "    Returns:\n",
    "        str: la somme de entier1 et entier2 en binaire\n",
    "    \"\"\"\n",
    "    assert len(entier1) == len(entier2)\n",
    "\n",
    "    n = len(entier1)\n",
    "    total = \"\"\n",
    "    retenue = 0\n",
    "    for i in range(n - 1, -1, -1):\n",
    "        somme_partielle = retenue + int(entier1[i]) + int(entier2[i])\n",
    "        retenue = somme_partielle // 2\n",
    "        total = str(somme_partielle % 2) + total\n",
    "\n",
    "    return total\n",
    "\n",
    "\n",
    "assert add_binaire(codage_bin(7, 4), codage_bin(7, 4)) == \"1110\"\n",
    "assert add_binaire(codage_bin(7, 4), codage_bin(9, 4)) == \"0000\"\n",
    "assert add_binaire(codage_bin(567, 14), codage_bin(-567, 14)) == \"00000000000000\""
   ]
  },
  {
   "attachments": {},
   "cell_type": "markdown",
   "metadata": {},
   "source": [
    "### Exercice n°5\n",
    "\n",
    "Quel est le résultat de l'addition $236+50$ que renvoie un micro-processeur programmé sur 8 bits ?\n"
   ]
  },
  {
   "attachments": {},
   "cell_type": "markdown",
   "metadata": {},
   "source": [
    "Correction:\n",
    "\n",
    "$236$ est codé par $1110\\,1100$ et $50$ par $0011\\,0010$.\n",
    "\n",
    "Effectuons l'addition binaire : $1110\\,1100 + 0011\\,0010 = (1) \\, 0001 \\, 1110$.\n",
    "\n",
    "En ignorant la retenue qui dépasse, le micro-processeur renvoie le nombre $30$.\n"
   ]
  },
  {
   "attachments": {},
   "cell_type": "markdown",
   "metadata": {},
   "source": [
    "### Exercice n°6\n",
    "\n",
    "Coder en binaire sur un octet les nombres suivants ainsi que leur opposé:\n",
    "\n",
    "1. 1\n",
    "2. 5\n",
    "3. 10\n",
    "4. 56\n",
    "5. 75\n",
    "6. 116\n"
   ]
  },
  {
   "attachments": {},
   "cell_type": "markdown",
   "metadata": {},
   "source": [
    "Correction:\n",
    "\n",
    "1. $1$ -> $0000\\,0001$ et $-1$ -> $1111\\,1111$\n",
    "2. $5$ -> $0000\\,0101$ et $-5$ -> $1111\\,1011$\n",
    "3. $10$ -> $0000\\,1010$ et $-10$ -> $1111\\,0110$\n",
    "4. $56$ -> $0011\\,1000$ et $-56$ -> $1100\\,1000$\n",
    "5. $75$ -> $0100\\,1011$ et $-75$ -> $1011\\,0101$\n",
    "6. $116$ -> $0111\\,0100$ et $-116$ -> $1000\\,1100$\n"
   ]
  },
  {
   "attachments": {},
   "cell_type": "markdown",
   "metadata": {},
   "source": [
    "### Exercice n°7\n",
    "\n",
    "Trouver la valeur décimale des entiers relatifs dont la représentation sur un octet est la suivante:\n",
    "\n",
    "1. $0011\\,0010$\n",
    "2. $1000\\,0000$\n",
    "3. $1011\\,0011$\n",
    "4. $1010\\,1111$\n"
   ]
  },
  {
   "attachments": {},
   "cell_type": "markdown",
   "metadata": {},
   "source": [
    "Correction:\n",
    "\n",
    "1. $0011\\,0010$ est un entier positif. $0011\\,0010 = 2^5 + 2^4 + 2^1 = 50$ donc $0011\\,0010$ représente $50$.\n",
    "2. $1000\\,0000$ est un entier négatif. $1000\\,0000 = 2^7 = 128$ donc $1000\\,0000$ représente $128 - 256 = -128$\n",
    "3. $1011\\,0011$ est un entier négatif. $1011\\,0011 = 2^7 + 2^5 + 2^4 + 2 + 1 = 179$ donc $1011\\,0011$ représente $179 - 256 = -77$\n",
    "4. $1010\\,1111$ est un entier négatif. $1010\\,1111 = 2^7 + 2^5 + 2^3 + 2^2 + 2 + 1 = 175$ donc $1010\\,1111$ représente $175 - 256 = -81$\n"
   ]
  },
  {
   "attachments": {},
   "cell_type": "markdown",
   "metadata": {},
   "source": [
    "### Exercice n°8\n",
    "\n",
    "Coder sur 16 bits les nombres suivants.\n",
    "\n",
    "1. $-2017$\n",
    "2. $-32$\n"
   ]
  },
  {
   "attachments": {},
   "cell_type": "markdown",
   "metadata": {},
   "source": [
    "Correction:\n",
    "\n",
    "1. $2017 = 0000\\,0111\\,1110\\,0001_2$\n",
    "\n",
    "On inverse les bits : $1111\\,1000\\,0001\\,1110$\n",
    "\n",
    "On ajoute $1$ : $1111\\,1000\\,0001\\,1111$\n",
    "\n",
    "2. $32 = 0000\\,0000\\,0010\\,0000_2$\n",
    "\n",
    "On inverse les bits : $1111\\,1111\\,1101\\,1111$\n",
    "\n",
    "On ajoute $1$ : $1111\\,1111\\,1110\\,0000$\n"
   ]
  },
  {
   "attachments": {},
   "cell_type": "markdown",
   "metadata": {},
   "source": [
    "### Exercice n°9\n",
    "\n",
    "Expliquer pourquoi sur 8 bits on obtient les résultats suivants:\n",
    "\n",
    "1. $127 - 1 = 126$\n",
    "2. $127 + 1 = -128$\n",
    "3. $127 + 2 = -127$\n",
    "4. $127 + 127 = -2$\n"
   ]
  },
  {
   "attachments": {},
   "cell_type": "markdown",
   "metadata": {},
   "source": [
    "Correction:\n",
    "\n",
    "On a $127 = 0111\\,1111_2$\n",
    "\n",
    "1. $127 - 1 = 0111\\,1111 - 0000\\,0001 = 0111\\,1110 = 126$\n",
    "2. $127 + 1 = 0111\\,1111 + 0000\\,0001 = 1000\\,0000 = -128$\n",
    "3. $127 + 2 = 0111\\,1111 + 0000\\,0010 = 1000\\,0001 = -127$\n",
    "4. $127 + 127 = 0111\\,1111 + 0111\\,1111 = 1111\\,1110 = -2$\n"
   ]
  },
  {
   "attachments": {},
   "cell_type": "markdown",
   "metadata": {},
   "source": [
    "### Exercice n°10\n",
    "\n",
    "Expliquer le résultat obtenu dans l'exemple d'introduction du chapitre. Pourquoi le programme suivant affiche $-2147483648$ comme résultat de $2147483647+1$ ?\n",
    "\n",
    "```cpp\n",
    "int main() {\n",
    "\tint p = 2147483647;\n",
    "\tint q = 1;\n",
    "\tprintf(\"%d\\n\", p + q);\n",
    "}\n",
    "```\n"
   ]
  },
  {
   "attachments": {},
   "cell_type": "markdown",
   "metadata": {},
   "source": [
    "Correction:\n",
    "\n",
    "En C++, les entiers de type `int` sont codés sur 32 bits. Il est donc possible de représenter les entiers entre $-2^{31}$ et $2^{31}-1$, c'est-à-dire entre $-2147483648$ et $2147483647$. Lorsque l'on effectue l'addition $2147483647+1$, on obtient $2147483648$ qui est trop grand pour être représenté sur 32 bits. Il y a donc un **dépassement de capacité**.\n",
    "\n",
    "Le calcul qui est réellement effectué en binaire est:\n",
    "\n",
    "$0111\\;1111\\;1111\\;1111\\;1111\\;1111\\;1111\\;1111 + 0000\\;0000\\;0000\\;0000\\;0000\\;0000\\;0000\\;0001 = 1000\\;0000\\;0000\\;0000\\;0000\\;0000\\;0000\\;0000$\n",
    "\n",
    "qui représente le nombre $-2147483648$.\n"
   ]
  },
  {
   "attachments": {},
   "cell_type": "markdown",
   "metadata": {},
   "source": [
    "### Exercice n°11\n",
    "\n",
    "1. Écrire en python une fonction `complement1(code:str) -> str` qui renvoie le complément à $1$ d'un code en binaire, c'est-à-dire qui inverse tous ses bits.\n"
   ]
  },
  {
   "cell_type": "code",
   "execution_count": 4,
   "metadata": {},
   "outputs": [],
   "source": [
    "def complement1(code: str) -> str:\n",
    "    \"\"\"détermine le complément à 1 d'un code binaire\n",
    "\n",
    "    Args:\n",
    "        code (str): chaîne de caractères d'un code binaire\n",
    "\n",
    "    Returns:\n",
    "        str: chaîne de caractères de même longueur du complément à 1\n",
    "    \"\"\"\n",
    "\n",
    "    code_cp1 = \"\"\n",
    "    for c in code:\n",
    "        if c == \"0\":\n",
    "            code_cp1 += \"1\"\n",
    "        else:\n",
    "            code_cp1 += \"0\"\n",
    "    return code_cp1\n",
    "\n",
    "\n",
    "assert complement1(\"111000111\") == \"000111000\""
   ]
  },
  {
   "attachments": {},
   "cell_type": "markdown",
   "metadata": {},
   "source": [
    "2. Écrire en python une fonction `complement2(code:str) -> str` qui renvoie le complément à $2$ d'un code en binaire, c'est-à-dire qui inverse tous ses bits, puis ajoute $1$.\n"
   ]
  },
  {
   "cell_type": "code",
   "execution_count": 5,
   "metadata": {},
   "outputs": [],
   "source": [
    "def complement2(code: str) -> str:\n",
    "    \"\"\"détermine le complément à 2 d'un code binaire\n",
    "\n",
    "    Args:\n",
    "        code (str): chaîne de caractères d'un code binaire\n",
    "\n",
    "    Returns:\n",
    "        str: chaîne de caractères de même longueur du complément à 2\n",
    "    \"\"\"\n",
    "\n",
    "    taille = len(code)\n",
    "    code_cp1 = complement1(code)\n",
    "    retenue = 1\n",
    "    code_cp2 = \"\"\n",
    "    j = taille\n",
    "    while j > 0:\n",
    "        j -= 1\n",
    "        if retenue == 1:\n",
    "            if code_cp1[j] == \"0\":\n",
    "                code_cp2 = \"1\" + code_cp2\n",
    "                retenue = 0\n",
    "            else:\n",
    "                code_cp2 = \"0\" + code_cp2\n",
    "        else:\n",
    "            code_cp2 = code_cp1[j] + code_cp2\n",
    "    return code_cp2\n",
    "\n",
    "\n",
    "assert complement2(\"111000111\") == \"000111001\"\n",
    "assert complement2(\"111000110\") == \"000111010\""
   ]
  }
 ],
 "metadata": {
  "kernelspec": {
   "display_name": "Python 3",
   "language": "python",
   "name": "python3"
  },
  "language_info": {
   "codemirror_mode": {
    "name": "ipython",
    "version": 3
   },
   "file_extension": ".py",
   "mimetype": "text/x-python",
   "name": "python",
   "nbconvert_exporter": "python",
   "pygments_lexer": "ipython3",
   "version": "3.11.4"
  },
  "orig_nbformat": 4,
  "vscode": {
   "interpreter": {
    "hash": "aee8b7b246df8f9039afb4144a1f6fd8d2ca17a180786b69acc140d282b71a49"
   }
  }
 },
 "nbformat": 4,
 "nbformat_minor": 2
}
