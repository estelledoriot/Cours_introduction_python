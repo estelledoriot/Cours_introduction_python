{
 "cells": [
  {
   "attachments": {},
   "cell_type": "markdown",
   "metadata": {},
   "source": [
    "**Estelle Doriot**\n",
    "\n",
    "_NSI 1ère_\n",
    "\n",
    "---\n",
    "\n",
    "# Exercices : Codage du texte\n",
    "\n",
    "---\n",
    "\n",
    "### Exercice n° 1\n",
    "\n",
    "1. Déterminer les entiers qui permettent de coder les lettres `'A'` et `'Z'`.\n",
    "2. La différence entre les minuscules et majuscules est elle constante?\n"
   ]
  },
  {
   "attachments": {},
   "cell_type": "markdown",
   "metadata": {},
   "source": [
    "**Correction**:\n",
    "\n",
    "1. Le point de code de la lettre A est 65. Le point de code de la lettre Z est 90.\n",
    "2. L'écart entre les majuscules et les minuscules est constante: 32.\n"
   ]
  },
  {
   "attachments": {},
   "cell_type": "markdown",
   "metadata": {},
   "source": [
    "### Exercice n°2\n",
    "\n",
    "1. Donner la représentation en binaire du mot `'NSI'` en utilisant le code ASCII.\n",
    "2. À quel nom correspond la liste des codes ASCII suivants, donnés en hexadécimal: 47 65 6F 72 67 65 20 42 6F 6F 6C 65.\n",
    "3. Retrouver l’expression codée en binaire : $0100\\,0010\\,0111\\,0010\\,0110\\,0001\\,0111\\,0110\\,0110\\,1111\\,0010\\,1100$.\n"
   ]
  },
  {
   "attachments": {},
   "cell_type": "markdown",
   "metadata": {},
   "source": [
    "**Correction**:\n",
    "\n",
    "1. Le code ASCII de NSI est: 0100 1110 0101 0011 0100 1001\n",
    "2. George Boole\n",
    "3. Bravo,\n"
   ]
  },
  {
   "attachments": {},
   "cell_type": "markdown",
   "metadata": {},
   "source": [
    "### Exercice n°3\n",
    "\n",
    "Pour chacun des caractères suivants, dont le point de code est donné en décimal, convertir ce point de code en binaire, puis donner l'encodage UTF-8 du caractère.\n",
    "\n",
    "1. caractère `A` (point de code 65)\n",
    "2. caractère `è` (point de code 232)\n",
    "3. caractère $\\pi$ (point de code 960)\n"
   ]
  },
  {
   "attachments": {},
   "cell_type": "markdown",
   "metadata": {},
   "source": [
    "**Correction**:\n",
    "\n",
    "1. $65_{10} = 0100\\;0001_2$ donc l'encodage UTF-8 de `A` est $0100\\;0001$\n",
    "2. $232_{10} = 1110\\;1000_2$ donc l'encodage UTF-8 de `è` est $1100\\;0011\\;1010\\;1000$\n",
    "3. $960_{10} = 11\\;1100\\;0000$ donc l'encodage UTF-8 de $\\pi$ est $1100\\;1111\\;1000\\;0000$\n"
   ]
  },
  {
   "attachments": {},
   "cell_type": "markdown",
   "metadata": {},
   "source": [
    "### Exercice n°4\n",
    "\n",
    "Sachant que le point de code du symbole `é` est 233, donner la séquence de points de code du mot `élégance`, puis les octets en binaire correspondant à l'encodage UTF-8 de ce mot.\n"
   ]
  },
  {
   "attachments": {},
   "cell_type": "markdown",
   "metadata": {},
   "source": [
    "**Correction**:\n",
    "\n",
    "```\n",
    "é   l   é   g   a  n   c  e\n",
    "233 108 233 103 97 110 99 101\n",
    "```\n",
    "\n",
    "$1100\\;0011\\;1010\\;1001 \\quad 0110\\;1100 \\quad 1100\\;0011\\;1010\\;1001$\n",
    "\n",
    "$0110\\;0111 \\quad 0110\\;0001 \\quad 0110\\;1110 \\quad 0110\\;0011 \\quad 0110\\;0101$\n"
   ]
  },
  {
   "attachments": {},
   "cell_type": "markdown",
   "metadata": {},
   "source": [
    "### Exercice n°5\n",
    "\n",
    "Étant donné quatre octets qui contiennent les valeurs binaires 00101000, 10011100, 01000011 et 10000000. Que représentent-ils si :\n",
    "\n",
    "1. ce sont quatre nombres non signés (sur 8 bits)?\n",
    "2. ce sont deux nombres non signés sur 16 bits?\n",
    "3. ce sont quatre nombres en complément à deux (sur 8 bits)?\n",
    "4. ils sont sensés coder quatre caractères ASCII?, ISO-8859-1?, UTF-8?\n"
   ]
  },
  {
   "attachments": {},
   "cell_type": "markdown",
   "metadata": {},
   "source": [
    "**Correction**:\n",
    "\n",
    "1. 40, 156, 67, 128\n",
    "2. 32924, 17280\n",
    "3. 40, -100, 67, -128\n",
    "4. (, pas un caractère ASCII, C, pas un caractère ASCII\n",
    "5. (, caractère non affichable, C, caractère non affichable\n",
    "6. (, pas un caractère en UTF-8, C, pas un caractère en UTF-8\n"
   ]
  },
  {
   "attachments": {},
   "cell_type": "markdown",
   "metadata": {},
   "source": [
    "### Exercice n°6\n",
    "\n",
    "1. Écrire un programme python qui affiche les 128 caractères de la table ASCII sur 8 lignes de 16 colonnes avec deux boucles `for` imbriquées et la fonction `chr`.\n"
   ]
  },
  {
   "cell_type": "code",
   "execution_count": 1,
   "metadata": {},
   "outputs": [
    {
     "name": "stdout",
     "output_type": "stream",
     "text": [
      "\u0000 \u0001 \u0002 \u0003 \u0004 \u0005 \u0006 \u0007 \t \n",
      " \u000e \u000f \n",
      "\u0010 \u0011 \u0012 \u0013 \u0014 \u0015 \u0016 \u0017 \u0018 \u0019 \u001a \u001b \u001c \u001d \u001e \u001f \n",
      "  ! \" # $ % & ' ( ) * + , - . / \n",
      "0 1 2 3 4 5 6 7 8 9 : ; < = > ? \n",
      "@ A B C D E F G H I J K L M N O \n",
      "P Q R S T U V W X Y Z [ \\ ] ^ _ \n",
      "` a b c d e f g h i j k l m n o \n",
      "p q r s t u v w x y z { | } ~  \n"
     ]
    }
   ],
   "source": [
    "for i in range(8):\n",
    "    for j in range(16):\n",
    "        print(chr(i * 16 + j), end=\" \")\n",
    "    print()"
   ]
  },
  {
   "attachments": {},
   "cell_type": "markdown",
   "metadata": {},
   "source": [
    "2. Écrire un programme python qui affiche tous les caractères dont le point de code est compris entre U+1F600 et U+1F64F sur des lignes de 16 caractères par colonne.\n"
   ]
  },
  {
   "cell_type": "code",
   "execution_count": 2,
   "metadata": {},
   "outputs": [
    {
     "name": "stdout",
     "output_type": "stream",
     "text": [
      "😀 😁 😂 😃 😄 😅 😆 😇 😈 😉 😊 😋 😌 😍 😎 😏 \n",
      "😐 😑 😒 😓 😔 😕 😖 😗 😘 😙 😚 😛 😜 😝 😞 😟 \n",
      "😠 😡 😢 😣 😤 😥 😦 😧 😨 😩 😪 😫 😬 😭 😮 😯 \n",
      "😰 😱 😲 😳 😴 😵 😶 😷 😸 😹 😺 😻 😼 😽 😾 😿 \n",
      "🙀 🙁 🙂 🙃 🙄 🙅 🙆 🙇 🙈 🙉 🙊 🙋 🙌 🙍 🙎 🙏 \n"
     ]
    }
   ],
   "source": [
    "debut = int(\"1F600\", 16)\n",
    "fin = int(\"1F64F\", 16)\n",
    "\n",
    "for i in range(debut // 16, fin // 16 + 1):\n",
    "    for j in range(16):\n",
    "        print(chr(i * 16 + j), end=\" \")\n",
    "    print()"
   ]
  },
  {
   "attachments": {},
   "cell_type": "markdown",
   "metadata": {},
   "source": [
    "### Exercice n°7\n",
    "\n",
    "Ecrire un programme qui crée une liste contenant toutes les lettres de l'alphabet. On pourra utiliser la fonction `chr`.\n"
   ]
  },
  {
   "cell_type": "code",
   "execution_count": 3,
   "metadata": {},
   "outputs": [
    {
     "name": "stdout",
     "output_type": "stream",
     "text": [
      "['a', 'b', 'c', 'd', 'e', 'f', 'g', 'h', 'i', 'j', 'k', 'l', 'm', 'n', 'o', 'p', 'q', 'r', 's', 't', 'u', 'v', 'w', 'x', 'y', 'z']\n"
     ]
    }
   ],
   "source": [
    "alphabet = [chr(i) for i in range(ord(\"a\"), ord(\"z\") + 1)]\n",
    "print(alphabet)"
   ]
  },
  {
   "attachments": {},
   "cell_type": "markdown",
   "metadata": {},
   "source": [
    "### Exercice n°8\n",
    "\n",
    "1. Quel est le point de code du chiffre 0 ? Et du chiffre 9 ? Si l'on veut vérifier qu'un caractère est un chiffre, quelle propriété doit vérifier son point de code ?\n"
   ]
  },
  {
   "cell_type": "code",
   "execution_count": 4,
   "metadata": {},
   "outputs": [
    {
     "name": "stdout",
     "output_type": "stream",
     "text": [
      "48\n",
      "57\n"
     ]
    }
   ],
   "source": [
    "print(ord(\"0\"))\n",
    "print(ord(\"9\"))"
   ]
  },
  {
   "attachments": {},
   "cell_type": "markdown",
   "metadata": {},
   "source": [
    "-> Un caractère est un chiffre si son point de code est entre 48 et 57.\n"
   ]
  },
  {
   "attachments": {},
   "cell_type": "markdown",
   "metadata": {},
   "source": [
    "2. En utilisant la condition obtenue à la question précédente, écrire une fonction `est_numerique(c:str) -> bool` qui prend en argument une chaîne de caractère de longueur 1 et qui renvoie `True` si ce caractère est un chiffre.\n"
   ]
  },
  {
   "cell_type": "code",
   "execution_count": 5,
   "metadata": {},
   "outputs": [],
   "source": [
    "def est_numerique(c: str) -> bool:\n",
    "    \"\"\"détermine si un caractère est un chiffre (en utilisant son point de code unicode)\n",
    "\n",
    "    Args:\n",
    "        c (str): un caractère\n",
    "\n",
    "    Returns:\n",
    "        bool: True si c est un chiffre, False sinon\n",
    "    \"\"\"\n",
    "    assert len(c) == 1\n",
    "    return ord(\"0\") <= ord(c) <= ord(\"9\")\n",
    "\n",
    "\n",
    "assert est_numerique(\"7\")\n",
    "assert not est_numerique(\"A\")\n",
    "assert not est_numerique(\",\")"
   ]
  },
  {
   "attachments": {},
   "cell_type": "markdown",
   "metadata": {},
   "source": [
    "3. Écrire une fonction `est_une_minuscule(c:str) -> bool` qui prend en argument une chaîne de caractère de longueur 1 et qui renvoie `True` si ce caractère est une lettre minuscule.\n"
   ]
  },
  {
   "cell_type": "code",
   "execution_count": 6,
   "metadata": {},
   "outputs": [],
   "source": [
    "def est_une_minuscule(c: str) -> bool:\n",
    "    \"\"\"détermine si un caractère est une lettre minuscule (en utilisant son point de code unicode)\n",
    "\n",
    "    Args:\n",
    "        c (str): un caractère\n",
    "\n",
    "    Returns:\n",
    "        bool: True si c est une lettre minuscule, False sinon\n",
    "    \"\"\"\n",
    "    assert len(c) == 1\n",
    "    return ord(\"a\") <= ord(c) <= ord(\"z\")\n",
    "\n",
    "\n",
    "assert est_une_minuscule(\"c\")\n",
    "assert not est_une_minuscule(\"A\")\n",
    "assert not est_une_minuscule(\"6\")\n",
    "assert not est_une_minuscule(\",\")"
   ]
  },
  {
   "attachments": {},
   "cell_type": "markdown",
   "metadata": {},
   "source": [
    "4. Écrire une fonction `est_une_majuscule(c:str) -> bool` qui prend en argument une chaîne de caractère de longueur 1 et qui renvoie `True` si ce caractère est une lettre majuscule.\n"
   ]
  },
  {
   "cell_type": "code",
   "execution_count": 7,
   "metadata": {},
   "outputs": [],
   "source": [
    "def est_une_majuscule(c: str) -> bool:\n",
    "    \"\"\"détermine si un caractère est une lettre majuscule (en utilisant son point de code unicode)\n",
    "\n",
    "    Args:\n",
    "        c (str): un caractère\n",
    "\n",
    "    Returns:\n",
    "        bool: True si c est une lettre majuscule, False sinon\n",
    "    \"\"\"\n",
    "    assert len(c) == 1\n",
    "    return ord(\"A\") <= ord(c) <= ord(\"Z\")\n",
    "\n",
    "\n",
    "assert est_une_majuscule(\"C\")\n",
    "assert not est_une_majuscule(\"j\")\n",
    "assert not est_une_majuscule(\"6\")\n",
    "assert not est_une_majuscule(\",\")"
   ]
  },
  {
   "attachments": {},
   "cell_type": "markdown",
   "metadata": {},
   "source": [
    "5. Écrire une fonction `est_une_lettre(c:str) -> bool` qui prend en argument une chaîne de caractère de longueur 1 et qui renvoie `True` si ce caractère est une lettre.\n"
   ]
  },
  {
   "cell_type": "code",
   "execution_count": 8,
   "metadata": {},
   "outputs": [],
   "source": [
    "def est_une_lettre(c: str) -> bool:\n",
    "    \"\"\"détermine si un caractère est une lettre (en utilisant son point de code unicode)\n",
    "\n",
    "    Args:\n",
    "        c (str): un caractère\n",
    "\n",
    "    Returns:\n",
    "        bool: True si c est une lettre, False sinon\n",
    "    \"\"\"\n",
    "    assert len(c) == 1\n",
    "    return est_une_minuscule(c) or est_une_majuscule(c)\n",
    "\n",
    "\n",
    "assert est_une_lettre(\"C\")\n",
    "assert est_une_lettre(\"j\")\n",
    "assert not est_une_lettre(\"6\")\n",
    "assert not est_une_lettre(\",\")"
   ]
  },
  {
   "attachments": {},
   "cell_type": "markdown",
   "metadata": {},
   "source": [
    "### Exercice n°9\n",
    "\n",
    "1. En utilisant la fonction de la question précédente, écrire une fonction `format_date_valide(ch:str) -> bool` qui renvoie `True` si la chaîne de caractère `ch` représente une date au format `jj/mm/aaaa` (on vérifiera simplement que la date est composée de deux chiffres, suivis d'un slash, suivis de deux chiffres ... sans se préoccuper de savoir si la date correspond à un jour ayant existé).\n"
   ]
  },
  {
   "cell_type": "code",
   "execution_count": 9,
   "metadata": {},
   "outputs": [],
   "source": [
    "def format_date_valide(ch: str) -> bool:\n",
    "    \"\"\"vérifie qu'une chaîne de caractères représente une date au format jj/mm/aaaa\n",
    "\n",
    "    Args:\n",
    "        ch (str): une chaîne de caractères\n",
    "\n",
    "    Returns:\n",
    "        bool: True si ch représente une date au format jj/mm/aaaa\n",
    "    \"\"\"\n",
    "    if len(ch) != 10:\n",
    "        return False\n",
    "    if ch[2] != \"/\" or ch[5] != \"/\":\n",
    "        return False\n",
    "    for i in range(len(ch)):\n",
    "        if i != 2 and i != 5:\n",
    "            if not (est_numerique(ch[i])):\n",
    "                return False\n",
    "    return True\n",
    "\n",
    "\n",
    "assert format_date_valide(\"06/01/2020\")\n",
    "assert not format_date_valide(\"06/0172020\")\n",
    "assert not format_date_valide(\"06/01/20209\")\n",
    "assert not format_date_valide(\"06/j1/2020\")\n",
    "assert not format_date_valide(\"//////////\")"
   ]
  },
  {
   "attachments": {},
   "cell_type": "markdown",
   "metadata": {},
   "source": [
    "2. Ecrire une fonction `date_valide(ch: str) -> bool` qui vérifie que la chaîne de caractères `ch` correspond à une date qui a existé et qui est donnée sous la forme jj/mm/aaaa.\n"
   ]
  },
  {
   "cell_type": "code",
   "execution_count": 10,
   "metadata": {},
   "outputs": [],
   "source": [
    "def bissextile(annee: int) -> bool:\n",
    "    \"\"\"vérifie si une année est bissextile (son numéro est divisible par 4 mais pas par 100, ou bien divisible par 400)\n",
    "\n",
    "    Args:\n",
    "        annee (int): une année\n",
    "\n",
    "    Returns:\n",
    "        bool: True si annee est bissextile\n",
    "    \"\"\"\n",
    "    return (annee % 400 == 0) or (annee % 4 == 0 and annee % 100 != 0)\n",
    "\n",
    "\n",
    "def date_valide(ch: str) -> bool:\n",
    "    \"\"\"vérifie qu'une chaîne de caractères correpsond à une date valide au format jj/mm/aaaa\n",
    "\n",
    "    Args:\n",
    "        ch (str): une chaîne de caractères\n",
    "\n",
    "    Returns:\n",
    "        bool: True si ch est une date valide\n",
    "    \"\"\"\n",
    "    assert format_date_valide(ch)\n",
    "\n",
    "    mois = [31, 28, 31, 30, 31, 30, 31, 31, 30, 31, 30, 31]\n",
    "\n",
    "    aaaa = int(ch[6:10])\n",
    "    mm = int(ch[3:5])\n",
    "    jj = int(ch[0:2])\n",
    "\n",
    "    if mm < 1 or mm > 12:\n",
    "        return False\n",
    "\n",
    "    if jj < 1:\n",
    "        return False\n",
    "\n",
    "    if mm != 2 and jj > mois[mm - 1]:\n",
    "        return False\n",
    "\n",
    "    if mm == 2 and bissextile(aaaa) and jj > 29:\n",
    "        return False\n",
    "\n",
    "    if mm == 2 and not bissextile(aaaa) and jj > 28:\n",
    "        return False\n",
    "\n",
    "    return True\n",
    "\n",
    "\n",
    "assert not date_valide(\"35/05/2000\")\n",
    "assert not date_valide(\"00/05/2000\")\n",
    "assert not date_valide(\"14/00/2000\")\n",
    "assert not date_valide(\"12/37/2000\")\n",
    "assert not date_valide(\"31/04/2000\")\n",
    "assert date_valide(\"01/01/2000\")\n",
    "assert date_valide(\"29/02/2000\")\n",
    "assert not date_valide(\"29/02/2001\")"
   ]
  },
  {
   "attachments": {},
   "cell_type": "markdown",
   "metadata": {},
   "source": [
    "### Exercice n°10\n",
    "\n",
    "Il existe en python une méthode `lower` qui convertit une chaîne de caractères en minuscules. Par exemple, le programme suivant :\n",
    "\n",
    "```python\n",
    "ch = \"Hello World !\"\n",
    "print(ch.lower())\n",
    "```\n",
    "\n",
    "affiche `hello world !`\n",
    "\n",
    "1. Quelle relation y a-t-il entre le point de code de `'A'` et de `'a'` ? De façon plus générale, entre une lettre majuscule et sa lettre minuscule ? Et pour les lettres accentuées ?\n",
    "\n",
    "ptc('lettre_min') = ptc('lettre_maj') + 32\n",
    "\n",
    "2. Sans utiliser la méthode `lower`, écrire une fonction `char_minuscule(c:str) -> str` qui prend en argument un caractère et qui convertit ce caractère en minuscule. S'il s'agit d'une lettre autre qu'une lettre ou bien d'une lettre déjà en minuscule, ce caractère ne sera pas modifié par la fonction. On fera attention aux caractères accentués.\n"
   ]
  },
  {
   "cell_type": "code",
   "execution_count": 11,
   "metadata": {},
   "outputs": [],
   "source": [
    "def char_minuscule(c: str) -> str:\n",
    "    \"\"\"convertit un caractère en minuscule\n",
    "\n",
    "    Args:\n",
    "        c (str): un caractère\n",
    "\n",
    "    Returns:\n",
    "        str: c en minuscule\n",
    "    \"\"\"\n",
    "    assert len(c) == 1\n",
    "\n",
    "    ptc = ord(c)\n",
    "    if ord(\"A\") <= ptc <= ord(\"Z\"):\n",
    "        return chr(ptc + 32)\n",
    "    elif ord(\"À\") <= ptc <= ord(\"Ý\"):\n",
    "        return chr(ptc + 32)\n",
    "    else:\n",
    "        return c\n",
    "\n",
    "\n",
    "assert char_minuscule(\"G\") == \"g\"\n",
    "assert char_minuscule(\"h\") == \"h\"\n",
    "assert char_minuscule(\"2\") == \"2\"\n",
    "assert char_minuscule(\"Ä\") == \"ä\"\n",
    "assert char_minuscule(\"!\") == \"!\""
   ]
  },
  {
   "attachments": {},
   "cell_type": "markdown",
   "metadata": {},
   "source": [
    "3. Ecrire une fonction `minuscules(ch:str) -> str` qui prend en argument une chaîne de (plusieurs) caractères et qui la convertit en minuscules. On réutilisera la fonction `char_minuscule` de la question précédente.\n"
   ]
  },
  {
   "cell_type": "code",
   "execution_count": 12,
   "metadata": {},
   "outputs": [],
   "source": [
    "def minuscules(ch: str) -> str:\n",
    "    \"\"\"convertit une chaîne de caractères en minuscules\n",
    "\n",
    "    Args:\n",
    "        ch (str): une chaîne de caractères\n",
    "\n",
    "    Returns:\n",
    "        str: ch en minuscules\n",
    "    \"\"\"\n",
    "    res = \"\"\n",
    "    for l in ch:\n",
    "        res += char_minuscule(l)\n",
    "    return res\n",
    "\n",
    "\n",
    "assert minuscules(\"Hello World !\") == \"hello world !\"\n",
    "assert minuscules(\"À la bOnne heUre\") == \"à la bonne heure\""
   ]
  },
  {
   "attachments": {},
   "cell_type": "markdown",
   "metadata": {},
   "source": [
    "### Exercice n°11\n",
    "\n",
    "1. Écrire une fonction `codeASCII(s:str) -> tuple` qui prend en argument une chaîne de caractères et qui renvoie deux chaînes de caractères contenant les codes ASCII de ses caractères au format hexadécimal et binaire. Par exemple l'appel `codeASCII(\"NSI\")` renvoie le tuple `('4e 53 49 ', '1001110 1010011 1001001 ')`.\n",
    "\n",
    "Pour rappel:\n",
    "\n",
    "- `hex(n)` donne la valeur hexadécimale d'un entier $n$\n",
    "- `bin(n)` donne la valeur binaire d'un entier $n$\n"
   ]
  },
  {
   "cell_type": "code",
   "execution_count": 13,
   "metadata": {},
   "outputs": [
    {
     "name": "stdout",
     "output_type": "stream",
     "text": [
      "('4e 53 49 ', '1001110 1010011 1001001 ')\n"
     ]
    }
   ],
   "source": [
    "def codeASCII(s: str) -> tuple:\n",
    "    \"\"\"donne les points de code (en hexadécimal et en binaire) d'une chaîne de caractères\n",
    "\n",
    "    Args:\n",
    "        s (str): une chaîne de caractères contenant un texte\n",
    "\n",
    "    Returns:\n",
    "        tuple: les points de code hexadécimaux de s, les points de code binaires de s\n",
    "    \"\"\"\n",
    "    hexa = \"\"\n",
    "    binaire = \"\"\n",
    "    for lettre in s:\n",
    "        hexa += hex(ord(lettre))[2:] + \" \"\n",
    "        binaire += bin(ord(lettre))[2:] + \" \"\n",
    "    return hexa, binaire\n",
    "\n",
    "\n",
    "print(codeASCII(\"NSI\"))"
   ]
  },
  {
   "attachments": {},
   "cell_type": "markdown",
   "metadata": {},
   "source": [
    "2. Ecrire une fonction `decodeASCII(s:str) -> str` qui prend en argument une chaîne de caractères contenant une suite de nombres binaires séparés par des espaces et qui renvoie la chaîne de caractères correspondant à ce code ASCII.\n",
    "\n",
    "Pour rappel:\n",
    "\n",
    "- la fonction `split(\" \")` permet de décomposer une chaine de caractères en une liste, en se servant de l'espace `\" \"` comme caractère séparateur.\n",
    "- `int(\"1101100\",2)` permet de récupérer facilement la valeur en base 10 du nombre binaire `1101100`.\n"
   ]
  },
  {
   "cell_type": "code",
   "execution_count": 14,
   "metadata": {},
   "outputs": [],
   "source": [
    "def decodeASCII(s: str) -> str:\n",
    "    \"\"\"décode un message codé en ASCII\n",
    "\n",
    "    Args:\n",
    "        s (str): une chaîne de caractères contenant les codes binaires d'un message codé en ASCII\n",
    "\n",
    "    Returns:\n",
    "        str: le message s décodé\n",
    "    \"\"\"\n",
    "    code = s.split(\" \")\n",
    "    message = \"\"\n",
    "    for c in code:\n",
    "        message += chr(int(c, 2))\n",
    "    return message\n",
    "\n",
    "\n",
    "assert decodeASCII(\"01000010 01110010 01100001 01110110 01101111 00101100\") == \"Bravo,\""
   ]
  },
  {
   "attachments": {},
   "cell_type": "markdown",
   "metadata": {},
   "source": [
    "3. A l'aide de la fonction `decodeASCII` de la question précédente, décoder le message suivant:\n",
    "\n",
    "```python\n",
    "msg = \"1101100 1100101 1110011 100000 1001110 1010011 1001001 100000 1100011 100111 1100101 1110011 1110100 100000 1101100 1100101 1110011 100000 1101101 1100101 1101001 1101100 1101100 1100101 1110101 1110010 1110011\"\n",
    "```\n"
   ]
  },
  {
   "cell_type": "code",
   "execution_count": 15,
   "metadata": {},
   "outputs": [
    {
     "name": "stdout",
     "output_type": "stream",
     "text": [
      "les NSI c'est les meilleurs\n"
     ]
    }
   ],
   "source": [
    "msg = \"1101100 1100101 1110011 100000 1001110 1010011 1001001 100000 1100011 100111 1100101 1110011 1110100 100000 1101100 1100101 1110011 100000 1101101 1100101 1101001 1101100 1101100 1100101 1110101 1110010 1110011\"\n",
    "\n",
    "print(decodeASCII(msg))\n"
   ]
  },
  {
   "attachments": {},
   "cell_type": "markdown",
   "metadata": {},
   "source": [
    "### Exercice n°12\n",
    "\n",
    "Écrire une fonction `decodeLatin1(s:str) -> str` qui décode un message binaire encodé en Latin-1. Puis, avec cette fonction, décoder le message suivant:\n",
    "\n",
    "```python\n",
    "message_binaire = '010000010111010001110100011001010110111001110100011010010110111101101110001011000010000001100011011001010010000001101101011001010111001101110011011000010110011101100101001000000110000100100000011001010110111000100000011001100110000101101001011101000010000011000011101010010111010011000011101010010010000001100101011011100110001101101111011001001100001110101001001000000110010101101110001000000101010101010100010001100010110100111000001000000010000100001010000010100101010101101110001000000111000001100001011011100110011101110010011000010110110101101101011001010010000000111010001000001100001010101011110000101010000001110110011011110110100101111000001000000110000101101101011000100110100101100111011101011100001110101011001000000110010000100111011101010110111000100000011000111100010110010011011101010111001000100000011100010111010101101001001011000010000001100001011101010010000001111010110000111010100101110000011010000111100101110010001011000010000001110000011100101100001110101001011001101100001110101000011100100110010100100000011011000110010101110011001000000110101001100001011101000111010001100101011100110010000001100100011001010010000001101011011010010111011101101001011100111100001010100000110000101011101100101110000010100000101001000101011011100110001101101111011001000110010101111010001000000110110001100001001000000111000001101000011100100110000101110011011001010010000001100100001001110110100101101110011101000111001001101111011001000111010101100011011101000110100101101111011011100010000001100100011001010010000001100011011001010111010000100000011001010111100001100101011100100110001101101001011000110110010100100000011001010110111000100000010101010101010001000110001011010011100000101110'\n",
    "```\n"
   ]
  },
  {
   "cell_type": "code",
   "execution_count": 16,
   "metadata": {},
   "outputs": [
    {
     "name": "stdout",
     "output_type": "stream",
     "text": [
      "Attention, ce message a en fait Ã©tÃ© encodÃ© en UTF-8 !\n",
      "\n",
      "Un pangramme : Â«Â voix ambiguÃ« d'un cÅur qui, au zÃ©phyr, prÃ©fÃ¨re les jattes de kiwisÂ Â».\n",
      "\n",
      "Encodez la phrase d'introduction de cet exercice en UTF-8.\n"
     ]
    }
   ],
   "source": [
    "def decodeLatin1(s: str) -> str:\n",
    "    \"\"\"décode un texte encodé en Latin-1\n",
    "\n",
    "    Args:\n",
    "        s (str): une chaîne de caractères contenant des nombres binaires\n",
    "\n",
    "    Returns:\n",
    "        str: le texte décodé\n",
    "    \"\"\"\n",
    "    res = \"\"\n",
    "    for i in range(0, len(s) // 8):\n",
    "        res += chr(int(s[8 * i : 8 * (i + 1)], 2))\n",
    "    return res\n",
    "\n",
    "\n",
    "message_binaire = \"010000010111010001110100011001010110111001110100011010010110111101101110001011000010000001100011011001010010000001101101011001010111001101110011011000010110011101100101001000000110000100100000011001010110111000100000011001100110000101101001011101000010000011000011101010010111010011000011101010010010000001100101011011100110001101101111011001001100001110101001001000000110010101101110001000000101010101010100010001100010110100111000001000000010000100001010000010100101010101101110001000000111000001100001011011100110011101110010011000010110110101101101011001010010000000111010001000001100001010101011110000101010000001110110011011110110100101111000001000000110000101101101011000100110100101100111011101011100001110101011001000000110010000100111011101010110111000100000011000111100010110010011011101010111001000100000011100010111010101101001001011000010000001100001011101010010000001111010110000111010100101110000011010000111100101110010001011000010000001110000011100101100001110101001011001101100001110101000011100100110010100100000011011000110010101110011001000000110101001100001011101000111010001100101011100110010000001100100011001010010000001101011011010010111011101101001011100111100001010100000110000101011101100101110000010100000101001000101011011100110001101101111011001000110010101111010001000000110110001100001001000000111000001101000011100100110000101110011011001010010000001100100001001110110100101101110011101000111001001101111011001000111010101100011011101000110100101101111011011100010000001100100011001010010000001100011011001010111010000100000011001010111100001100101011100100110001101101001011000110110010100100000011001010110111000100000010101010101010001000110001011010011100000101110\"\n",
    "\n",
    "print(decodeLatin1(message_binaire))"
   ]
  },
  {
   "attachments": {},
   "cell_type": "markdown",
   "metadata": {},
   "source": [
    "### Exercice n°13\n",
    "\n",
    "1. Ecrire une fonction `car_to_UTF8(c:str) -> str` qui encode un caractère `c` avec l'encodage UTF-8. Par exemple, l'appel `car_to_UTF8('è')` renvoie `'1100001110101000'`.\n"
   ]
  },
  {
   "cell_type": "code",
   "execution_count": 17,
   "metadata": {},
   "outputs": [],
   "source": [
    "def car_to_UTF8(c: str) -> str:\n",
    "    \"\"\"encode un caractère en UTF-8\n",
    "\n",
    "    Args:\n",
    "        c (str): un caractère\n",
    "\n",
    "    Returns:\n",
    "        str: son encodage en UTF8\n",
    "    \"\"\"\n",
    "    binaire = bin(ord(c))[2:]\n",
    "    if len(binaire) <= 7:\n",
    "        manquants = 7 - len(binaire)\n",
    "        return \"0\" * (1 + manquants) + binaire\n",
    "    elif len(binaire) <= 11:\n",
    "        manquants = 11 - len(binaire)\n",
    "        return (\n",
    "            \"110\"\n",
    "            + \"0\" * manquants\n",
    "            + binaire[: (5 - manquants)]\n",
    "            + \"10\"\n",
    "            + binaire[(5 - manquants) :]\n",
    "        )\n",
    "    else:\n",
    "        return \"\"\n",
    "\n",
    "\n",
    "assert car_to_UTF8(\"A\") == \"01000001\"\n",
    "assert car_to_UTF8(\"è\") == \"1100001110101000\"\n",
    "assert car_to_UTF8(chr(960)) == \"1100111110000000\""
   ]
  },
  {
   "attachments": {},
   "cell_type": "markdown",
   "metadata": {},
   "source": [
    "2. Ecrire une fonction `message_to_UTF8(s:str) -> str` qui encode un message `s` en UTF-8.\n"
   ]
  },
  {
   "cell_type": "code",
   "execution_count": 18,
   "metadata": {},
   "outputs": [],
   "source": [
    "def message_to_UTF8(s: str) -> str:\n",
    "    \"\"\"encode une chaîne de caractères en UTF-8\n",
    "\n",
    "    Args:\n",
    "        s (str): une chaîne de caractères\n",
    "\n",
    "    Returns:\n",
    "        str: la transcription de s en UTF-8\n",
    "    \"\"\"\n",
    "    res = \"\"\n",
    "    for lettre in s:\n",
    "        res += car_to_UTF8(lettre)\n",
    "    return res\n",
    "\n",
    "\n",
    "assert (\n",
    "    message_to_UTF8(\"élégance\")\n",
    "    == \"11000011101010010110110011000011101010010110011101100001011011100110001101100101\"\n",
    ")"
   ]
  },
  {
   "attachments": {},
   "cell_type": "markdown",
   "metadata": {},
   "source": [
    "3. Ecrire une fonction `decodeUTF8(s:str) -> str` qui prend un texte codé en UTF8 et qui renvoie le texte décodé. Décoder avec cette fonction le message de l'exercice 12.\n"
   ]
  },
  {
   "cell_type": "code",
   "execution_count": 19,
   "metadata": {},
   "outputs": [
    {
     "name": "stdout",
     "output_type": "stream",
     "text": [
      "Attention, ce message a en fait été encodé en UTF-8 !\n",
      "\n",
      "Un pangramme : « voix ambiguë d'un cœur qui, au zéphyr, préfère les jattes de kiwis ».\n",
      "\n",
      "Encodez la phrase d'introduction de cet exercice en UTF-8.\n"
     ]
    }
   ],
   "source": [
    "def decodeUTF8(s: str) -> str:\n",
    "    \"\"\"décode un message encodé en UTF8\n",
    "\n",
    "    Args:\n",
    "        s (str): une chaîne de caractères contenant des nombres binaires correspondant à un encodage en UTF8\n",
    "\n",
    "    Returns:\n",
    "        str: le message décrypté\n",
    "    \"\"\"\n",
    "    res = \"\"\n",
    "    i = 0\n",
    "    while i < len(s):\n",
    "        caractere = \"\"\n",
    "        if s[i] == \"0\":\n",
    "            caractere = s[i : i + 8]\n",
    "            i += 8\n",
    "        elif s[i : i + 3] == \"110\":\n",
    "            caractere = s[i + 3 : i + 8] + s[i + 10 : i + 16]\n",
    "            i += 16\n",
    "        res += chr(int(caractere, 2))\n",
    "    return res\n",
    "\n",
    "\n",
    "assert (\n",
    "    decodeUTF8(\n",
    "        \"11000011101010010110110011000011101010010110011101100001011011100110001101100101\"\n",
    "    )\n",
    "    == \"élégance\"\n",
    ")\n",
    "\n",
    "print(decodeUTF8(message_binaire))"
   ]
  },
  {
   "attachments": {},
   "cell_type": "markdown",
   "metadata": {},
   "source": [
    "### Exercice n°14\n",
    "\n",
    "Télécharger le fichier `exemple.txt` qui a été encodé au format Latin-1, et écrire un script qui enregistre le contenu de ce fichier au format UTF-8 dans un fichier `exemple-utf8.txt`.\n"
   ]
  },
  {
   "cell_type": "code",
   "execution_count": 20,
   "metadata": {},
   "outputs": [],
   "source": [
    "def convertirUTF8(filename: str) -> None:\n",
    "    \"\"\"convertit un fichier encodé en Latin1 en un nouveau fichier encodé en UTF-8\n",
    "\n",
    "    Args:\n",
    "        filename (str): nom du fichier encodé en Latin1\n",
    "    \"\"\"\n",
    "    with open(filename, \"r\", encoding=\"Latin1\") as fichier:\n",
    "        data = fichier.read()\n",
    "    with open(filename.split(\".\")[0] + \"-utf8.txt\", \"w\", encoding=\"utf-8\") as fichier:\n",
    "        fichier.write(data)\n",
    "\n",
    "\n",
    "convertirUTF8(\"exemple.txt\")"
   ]
  }
 ],
 "metadata": {
  "kernelspec": {
   "display_name": "Python 3",
   "language": "python",
   "name": "python3"
  },
  "language_info": {
   "codemirror_mode": {
    "name": "ipython",
    "version": 3
   },
   "file_extension": ".py",
   "mimetype": "text/x-python",
   "name": "python",
   "nbconvert_exporter": "python",
   "pygments_lexer": "ipython3",
   "version": "3.11.4"
  },
  "orig_nbformat": 4,
  "vscode": {
   "interpreter": {
    "hash": "aee8b7b246df8f9039afb4144a1f6fd8d2ca17a180786b69acc140d282b71a49"
   }
  }
 },
 "nbformat": 4,
 "nbformat_minor": 2
}
