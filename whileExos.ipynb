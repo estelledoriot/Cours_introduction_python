{
 "cells": [
  {
   "attachments": {},
   "cell_type": "markdown",
   "metadata": {},
   "source": [
    "**Estelle Doriot**\n",
    "\n",
    "_NSI 1ère_\n",
    "\n",
    "---\n",
    "\n",
    "# Exercices : Boucles while\n",
    "\n",
    "---\n",
    "\n",
    "### Exercice n°2\n",
    "\n",
    "En utilisant une boucle while, écrire un programme qui affiche dans l'ordre décroissant les entiers entre $10$ et $1$.\n"
   ]
  },
  {
   "cell_type": "code",
   "execution_count": 1,
   "metadata": {},
   "outputs": [
    {
     "name": "stdout",
     "output_type": "stream",
     "text": [
      "10\n",
      "9\n",
      "8\n",
      "7\n",
      "6\n",
      "5\n",
      "4\n",
      "3\n",
      "2\n",
      "1\n"
     ]
    }
   ],
   "source": [
    "n = 10\n",
    "while n >= 1:\n",
    "    print(n)\n",
    "    n -= 1"
   ]
  },
  {
   "attachments": {},
   "cell_type": "markdown",
   "metadata": {},
   "source": [
    "### Exercice n°3\n",
    "\n",
    "1. Ecrire une boucle for qui affiche les nombres pairs entre 2 et 20.\n"
   ]
  },
  {
   "cell_type": "code",
   "execution_count": 2,
   "metadata": {},
   "outputs": [
    {
     "name": "stdout",
     "output_type": "stream",
     "text": [
      "2\n",
      "4\n",
      "6\n",
      "8\n",
      "10\n",
      "12\n",
      "14\n",
      "16\n",
      "18\n",
      "20\n"
     ]
    }
   ],
   "source": [
    "for i in range(2, 21, 2):\n",
    "    print(i)"
   ]
  },
  {
   "attachments": {},
   "cell_type": "markdown",
   "metadata": {},
   "source": [
    "2. Ecrire une boucle while qui fasse la même chose.\n"
   ]
  },
  {
   "cell_type": "code",
   "execution_count": 3,
   "metadata": {},
   "outputs": [
    {
     "name": "stdout",
     "output_type": "stream",
     "text": [
      "2\n",
      "4\n",
      "6\n",
      "8\n",
      "10\n",
      "12\n",
      "14\n",
      "16\n",
      "18\n",
      "20\n"
     ]
    }
   ],
   "source": [
    "i = 2\n",
    "while i < 21:\n",
    "    print(i)\n",
    "    i += 2"
   ]
  },
  {
   "attachments": {},
   "cell_type": "markdown",
   "metadata": {},
   "source": [
    "### Exercice n°4\n",
    "\n",
    "Écrire un programme qui permet de saisir un mot de passe sous la forme d’une chaîne de caractères et qui ensuite redemande ce mot de passe jusqu’à ce qu’il soit correct.\n"
   ]
  },
  {
   "cell_type": "code",
   "execution_count": 4,
   "metadata": {},
   "outputs": [
    {
     "name": "stdout",
     "output_type": "stream",
     "text": [
      "Bienvenue dans votre compte\n"
     ]
    }
   ],
   "source": [
    "mot_de_passe = \"MotDePasse\"\n",
    "reponse = input(\"Veuillez entrer le mot de passe: \")\n",
    "\n",
    "while reponse != mot_de_passe:\n",
    "    reponse = input(\n",
    "        \"Mot de passe incorrect. Veuillez entrer le mot de passe à nouveau: \"\n",
    "    )\n",
    "\n",
    "print(\"Bienvenue dans votre compte\")\n"
   ]
  },
  {
   "attachments": {},
   "cell_type": "markdown",
   "metadata": {},
   "source": [
    "### Exercice n°5\n",
    "\n",
    "1. Un joueur doit trouver un nombre entier choisi au préalable de 1 à 100 par l'ordinateur. A chaque tour, le joueur propose un nombre et l'ordinateur peut répondre de trois façons différentes :\n",
    "\n",
    "- Gagné !\n",
    "- Trop petit\n",
    "- Trop grand\n",
    "\n",
    "Ecrire un programme permettant de jouer à \"Devine le nombre\".\n"
   ]
  },
  {
   "cell_type": "code",
   "execution_count": 5,
   "metadata": {},
   "outputs": [
    {
     "name": "stdout",
     "output_type": "stream",
     "text": [
      "Trop petit\n",
      "Trop petit\n",
      "Trop petit\n",
      "Trop petit\n",
      "Trop grand\n",
      "Trop petit\n",
      "Trop petit\n",
      "Trop petit\n",
      "Gagné !\n"
     ]
    }
   ],
   "source": [
    "from random import randint\n",
    "\n",
    "nombreMystere = randint(1, 100)\n",
    "choix = int(input(\"Saisir un entier entre 1 et 100 : \"))\n",
    "\n",
    "while choix != nombreMystere:\n",
    "    if choix < nombreMystere:\n",
    "        print(\"Trop petit\")\n",
    "    else:\n",
    "        print(\"Trop grand\")\n",
    "    choix = int(input(\"Saisir un entier entre 1 et 100 : \"))\n",
    "\n",
    "print(\"Gagné !\")"
   ]
  },
  {
   "attachments": {},
   "cell_type": "markdown",
   "metadata": {},
   "source": [
    "2. On veut complexifier le jeu en imposant un nombre d'essais maximal. Modifier le programme précédent afin qu'il...\n",
    "\n",
    "- demande à l'utilisateur de saisir un nombre entier qui correspond au nombre maximum d'essais autorisés.\n",
    "- permette de jouer sans autoriser plus d'essais que le nombre maximum entré.\n",
    "- affiche soit la défaite soit la victoire en précisant le nombre d'essais utilisés.\n"
   ]
  },
  {
   "cell_type": "code",
   "execution_count": 6,
   "metadata": {},
   "outputs": [
    {
     "name": "stdout",
     "output_type": "stream",
     "text": [
      "Trop petit\n",
      "Trop grand\n",
      "Trop petit\n",
      "Gagné en 4 !\n"
     ]
    }
   ],
   "source": [
    "from random import randint\n",
    "\n",
    "nombreMystere = randint(1, 100)\n",
    "max_essais = int(input(\"Combien d'essais au maximum ? \"))\n",
    "choix = int(input(\"Saisir un entier entre 1 et 100 : \"))\n",
    "nb_essais = 1\n",
    "\n",
    "while choix != nombreMystere and nb_essais <= max_essais:\n",
    "    if choix < nombreMystere:\n",
    "        print(\"Trop petit\")\n",
    "    else:\n",
    "        print(\"Trop grand\")\n",
    "    choix = int(input(\"Saisir un entier entre 1 et 100 : \"))\n",
    "    nb_essais += 1\n",
    "\n",
    "if choix == nombreMystere:\n",
    "    print(f\"Gagné en {nb_essais} !\")\n",
    "else:\n",
    "    print(f\"Perdu en {nb_essais} essais ! La réponse était {nombreMystere}.\")"
   ]
  },
  {
   "attachments": {},
   "cell_type": "markdown",
   "metadata": {},
   "source": [
    "### Exercice n°6\n",
    "\n",
    "Dans un pays connaissant une forte inflation, le taux d’inflation mensuel est de 8 %. Ecrire un programme qui affiche le nombre de mois au bout duquel le prix sera strictement supérieur à 1000 euros, en fonction du prix initial.\n"
   ]
  },
  {
   "cell_type": "code",
   "execution_count": 7,
   "metadata": {},
   "outputs": [
    {
     "name": "stdout",
     "output_type": "stream",
     "text": [
      "Le prix dépasse 1000€ au bout de 60 mois.\n"
     ]
    }
   ],
   "source": [
    "prix = float(input(\"Quel est le prix initial du produit? \"))\n",
    "mois = 0\n",
    "\n",
    "while prix <= 1000:\n",
    "    prix *= 1.08\n",
    "    mois += 1\n",
    "\n",
    "print(f\"Le prix dépasse 1000€ au bout de {mois} mois.\")\n"
   ]
  },
  {
   "attachments": {},
   "cell_type": "markdown",
   "metadata": {},
   "source": [
    "### Exercice n°7\n",
    "\n",
    "Chaque année la consommation énergétique d'un data center est estimée augmenter de 8 %. On considérera un data-center moyen, consommant à l'an 0, environ 20 million de kWh.\n",
    "\n",
    "1. Déterminer le nombre d'années nécessaires au doublement de la consommation énergétique de ce data center.\n"
   ]
  },
  {
   "cell_type": "code",
   "execution_count": 8,
   "metadata": {},
   "outputs": [
    {
     "name": "stdout",
     "output_type": "stream",
     "text": [
      "Il faut 10 ans pour doubler la consommation energétique.\n"
     ]
    }
   ],
   "source": [
    "conso_initiale = 20_000_000\n",
    "conso = conso_initiale\n",
    "annee = 0\n",
    "\n",
    "while conso < conso_initiale * 2:\n",
    "    annee += 1\n",
    "    conso *= 1.08\n",
    "\n",
    "print(f\"Il faut {annee} ans pour doubler la consommation energétique.\")"
   ]
  },
  {
   "attachments": {},
   "cell_type": "markdown",
   "metadata": {},
   "source": [
    "2. Refaire le calcul pour un data-center 10 fois plus gros. Conclure.\n"
   ]
  },
  {
   "cell_type": "code",
   "execution_count": 9,
   "metadata": {},
   "outputs": [
    {
     "name": "stdout",
     "output_type": "stream",
     "text": [
      "Il faut 10 ans pour doubler la consommation energétique.\n"
     ]
    }
   ],
   "source": [
    "conso_initiale = 200_000_000\n",
    "conso = conso_initiale\n",
    "annee = 0\n",
    "\n",
    "while conso < conso_initiale * 2:\n",
    "    annee += 1\n",
    "    conso *= 1.08\n",
    "\n",
    "print(f\"Il faut {annee} ans pour doubler la consommation energétique.\")"
   ]
  },
  {
   "attachments": {},
   "cell_type": "markdown",
   "metadata": {},
   "source": [
    "### Exercice n°8\n",
    "\n",
    "On considère une ville de 40000 habitants. Sachant qu’une personne était malade au jour 1 et que chaque personne malade contamine 2 nouvelles personnes le jour suivant (et chacun des jours qui suivent), écrire un programme qui affiche à partir de quel jour toute la population de la ville sera malade.\n"
   ]
  },
  {
   "cell_type": "code",
   "execution_count": 10,
   "metadata": {},
   "outputs": [
    {
     "name": "stdout",
     "output_type": "stream",
     "text": [
      "Au bout de 11 jours, tout le monde est malade\n"
     ]
    }
   ],
   "source": [
    "habitants = 40000\n",
    "malades = 1\n",
    "ouveaux_malades = 0\n",
    "jours = 1\n",
    "\n",
    "while malades < habitants:\n",
    "    nouveaux_malades = malades * 2\n",
    "    malades += nouveaux_malades\n",
    "    jours += 1\n",
    "\n",
    "print(f\"Au bout de {jours} jours, tout le monde est malade\")"
   ]
  },
  {
   "attachments": {},
   "cell_type": "markdown",
   "metadata": {},
   "source": [
    "### Exercice n°9\n",
    "\n",
    "**La légende de l'échiquier de Sissa**: En Inde, le roi Belkib, qui s'ennuie à la cour, demande qu'on lui invente un jeu pour le distraire. Le sage Sissa invente alors un jeu d'échecs, ce qui ravit le roi. Pour remercier Sissa, le roi lui demande de choisir sa récompense, aussi fastueuse qu'elle puisse être. Sissa choisit de demander au roi de prendre le plateau du jeu et, sur la première case, poser un grain de riz, ensuite deux sur la deuxième, puis quatre sur la troisième, et ainsi de suite, en doublant à chaque fois le nombre de grains de riz que l’on met. Le roi et la cour sont amusés par la modestie de cette demande. Mais lorsqu'on la met en œuvre, on s'aperçoit qu'il n'y a pas assez de grains de riz dans tout le royaume pour la satisfaire.\n",
    "\n",
    "1. Ecrire un programme qui affiche le total de grains de riz posés sur l'échiquier, case après cases. On rappelle qu'un échiquier comporte 64 cases.\n"
   ]
  },
  {
   "cell_type": "code",
   "execution_count": 11,
   "metadata": {},
   "outputs": [
    {
     "name": "stdout",
     "output_type": "stream",
     "text": [
      "Il faut au total 18446744073709551615 grains de riz.\n"
     ]
    }
   ],
   "source": [
    "riz = 0\n",
    "\n",
    "for i in range(64):\n",
    "    riz += 2**i\n",
    "\n",
    "print(f\"Il faut au total {riz} grains de riz.\")\n"
   ]
  },
  {
   "attachments": {},
   "cell_type": "markdown",
   "metadata": {},
   "source": [
    "2. Ecrire un programme pour savoir à partir de quelle case le roi Belkib aura déjà déposé un million de million de grains de riz ($10^{12}$ grains) sur l'échiquier.\n"
   ]
  },
  {
   "cell_type": "code",
   "execution_count": 12,
   "metadata": {},
   "outputs": [
    {
     "name": "stdout",
     "output_type": "stream",
     "text": [
      "A partir de la case 40, il faut plus de 10**12 grains de riz.\n"
     ]
    }
   ],
   "source": [
    "riz = 0\n",
    "i = 0\n",
    "\n",
    "while riz < 10**12:\n",
    "    riz += 2**i\n",
    "    i += 1\n",
    "\n",
    "print(f\"A partir de la case {i}, il faut plus de 10**12 grains de riz.\")\n"
   ]
  },
  {
   "attachments": {},
   "cell_type": "markdown",
   "metadata": {},
   "source": [
    "### Exercice n°10\n",
    "\n",
    "1. Écrire un programme qui demande un entier $n$ et qui affiche le nombre de chiffres de $n$.\n"
   ]
  },
  {
   "cell_type": "code",
   "execution_count": 13,
   "metadata": {},
   "outputs": [
    {
     "name": "stdout",
     "output_type": "stream",
     "text": [
      "Le nombre de chiffres de 10 est 2\n"
     ]
    }
   ],
   "source": [
    "n = int(input(\"Donnez un entier: \"))\n",
    "i = n\n",
    "compteur = 0\n",
    "\n",
    "while i > 0:\n",
    "    compteur = compteur + 1\n",
    "    i = i // 10\n",
    "\n",
    "print(f\"Le nombre de chiffres de {n} est {compteur}\")\n"
   ]
  },
  {
   "attachments": {},
   "cell_type": "markdown",
   "metadata": {},
   "source": [
    "2. Écrire un programme qui demande un entier $n$ et qui affiche la somme des chiffres de $n$.\n"
   ]
  },
  {
   "cell_type": "code",
   "execution_count": 14,
   "metadata": {},
   "outputs": [
    {
     "name": "stdout",
     "output_type": "stream",
     "text": [
      "La somme des chiffres de 10 est 1\n"
     ]
    }
   ],
   "source": [
    "n = int(input(\"Donnez un entier: \"))\n",
    "i = n\n",
    "somme = 0\n",
    "\n",
    "while i > 0:\n",
    "    somme = somme + i % 10\n",
    "    i = i // 10\n",
    "\n",
    "print(f\"La somme des chiffres de {n} est {somme}\")\n"
   ]
  },
  {
   "attachments": {},
   "cell_type": "markdown",
   "metadata": {},
   "source": [
    "### Exercice n°11\n",
    "\n",
    "**Jeu de Nim** : Ce jeu se joue à deux. Initialement, 21 allumettes sont posées sur la table. A tour de rôle, chaque joueur enlève une, deux ou trois allumettes. Celui qui enlève la dernière allumette a perdu.\n",
    "\n",
    "1. Ecrire un programme qui permet à un joueur de jouer contre l'ordinateur. L'ordinateur retirera une, deux ou trois allumettes de façon aléatoire.\n",
    "\n",
    "**Remarques :**\n",
    "\n",
    "- Au début de chaque tour, on affichera le nombre d'allumettes restantes.\n",
    "- L'ordinateur ne peut évidemment pas retirer plus d'allumettes qu'il n'en reste.\n"
   ]
  },
  {
   "cell_type": "code",
   "execution_count": 15,
   "metadata": {},
   "outputs": [
    {
     "name": "stdout",
     "output_type": "stream",
     "text": [
      "Il reste 18 allumettes\n",
      "L'ordinateur a retiré 2 allumettes\n",
      "Il reste 16 allumettes\n",
      "Il reste 14 allumettes\n",
      "L'ordinateur a retiré 3 allumettes\n",
      "Il reste 11 allumettes\n",
      "Il reste 8 allumettes\n",
      "L'ordinateur a retiré 3 allumettes\n",
      "Il reste 5 allumettes\n",
      "Il reste 4 allumettes\n",
      "L'ordinateur a retiré 3 allumettes\n",
      "Il reste 1 allumettes\n",
      "La partie est terminée\n"
     ]
    }
   ],
   "source": [
    "from random import randint\n",
    "\n",
    "nb_allumettes = 21\n",
    "\n",
    "while nb_allumettes > 0:\n",
    "    # joueur\n",
    "    choix = int(input(\"Combien d'allumettes voulez-vous retirer ? \"))\n",
    "    nb_allumettes -= choix\n",
    "\n",
    "    if nb_allumettes <= 0:\n",
    "        break\n",
    "\n",
    "    print(f\"Il reste {nb_allumettes} allumettes\")\n",
    "\n",
    "    # ordinateur\n",
    "    choix = randint(1, 3)\n",
    "    while choix > nb_allumettes:\n",
    "        choix = randint(1, 3)\n",
    "    nb_allumettes -= choix\n",
    "    print(f\"L'ordinateur a retiré {choix} allumettes\")\n",
    "    print(f\"Il reste {nb_allumettes} allumettes\")\n",
    "\n",
    "print(\"La partie est terminée\")\n"
   ]
  },
  {
   "attachments": {},
   "cell_type": "markdown",
   "metadata": {},
   "source": [
    "2. Améliorer votre programme pour donner le nom du gagnant lorsque la dernière allumette est retirée.\n"
   ]
  },
  {
   "cell_type": "code",
   "execution_count": 16,
   "metadata": {},
   "outputs": [
    {
     "name": "stdout",
     "output_type": "stream",
     "text": [
      "Il reste 20 allumettes\n",
      "L'ordinateur a retiré 3 allumettes\n",
      "Il reste 17 allumettes\n",
      "Il reste 16 allumettes\n",
      "L'ordinateur a retiré 1 allumettes\n",
      "Il reste 15 allumettes\n",
      "Il reste 12 allumettes\n",
      "L'ordinateur a retiré 3 allumettes\n",
      "Il reste 9 allumettes\n",
      "Il reste 8 allumettes\n",
      "L'ordinateur a retiré 2 allumettes\n",
      "Il reste 6 allumettes\n",
      "Il reste 4 allumettes\n",
      "L'ordinateur a retiré 1 allumettes\n",
      "Il reste 3 allumettes\n",
      "Vous avez perdu !\n"
     ]
    }
   ],
   "source": [
    "from random import randint\n",
    "\n",
    "joueur_gagnant = True\n",
    "nb_allumettes = 21\n",
    "\n",
    "while nb_allumettes > 0:\n",
    "    # joueur\n",
    "    choix = int(input(\"Combien d'allumettes voulez-vous retirer ? \"))\n",
    "    nb_allumettes -= choix\n",
    "\n",
    "    if nb_allumettes <= 0:\n",
    "        joueur_gagnant = False\n",
    "        break\n",
    "\n",
    "    print(f\"Il reste {nb_allumettes} allumettes\")\n",
    "\n",
    "    # ordinateur\n",
    "    choix = randint(1, 3)\n",
    "\n",
    "    while choix > nb_allumettes:\n",
    "        choix = randint(1, 3)\n",
    "    nb_allumettes -= choix\n",
    "\n",
    "    print(f\"L'ordinateur a retiré {choix} allumettes\")\n",
    "    print(f\"Il reste {nb_allumettes} allumettes\")\n",
    "\n",
    "if joueur_gagnant:\n",
    "    print(\"Vous avez gagné, bravo !\")\n",
    "else:\n",
    "    print(\"Vous avez perdu !\")\n"
   ]
  },
  {
   "attachments": {},
   "cell_type": "markdown",
   "metadata": {},
   "source": [
    "3. Améliorer votre programme pour éviter que l'utilisateur ne puisse faire une saisie illégale (supprimer plus que le nombre d'allumettes restantes).\n"
   ]
  },
  {
   "cell_type": "code",
   "execution_count": 17,
   "metadata": {},
   "outputs": [
    {
     "name": "stdout",
     "output_type": "stream",
     "text": [
      "Il reste 18 allumettes\n",
      "L'ordinateur a retiré 2 allumettes\n",
      "Il reste 16 allumettes\n",
      "Il reste 13 allumettes\n",
      "L'ordinateur a retiré 3 allumettes\n",
      "Il reste 10 allumettes\n",
      "Il reste 8 allumettes\n",
      "L'ordinateur a retiré 1 allumettes\n",
      "Il reste 7 allumettes\n",
      "Il reste 4 allumettes\n",
      "L'ordinateur a retiré 2 allumettes\n",
      "Il reste 2 allumettes\n",
      "Il reste 1 allumettes\n",
      "L'ordinateur a retiré 1 allumettes\n",
      "Il reste 0 allumettes\n",
      "Vous avez gagné, bravo !\n"
     ]
    }
   ],
   "source": [
    "from random import randint\n",
    "\n",
    "joueur_gagnant = True\n",
    "nb_allumettes = 21\n",
    "\n",
    "while nb_allumettes > 0:\n",
    "    # joueur\n",
    "    choix = int(input(\"Combien d'allumettes voulez-vous retirer ? \"))\n",
    "\n",
    "    while choix > 3 or choix < 1 or choix > nb_allumettes:\n",
    "        choix = int(input(\"Combien d'allumettes voulez-vous retirer ? \"))\n",
    "\n",
    "    nb_allumettes -= choix\n",
    "\n",
    "    if nb_allumettes <= 0:\n",
    "        joueur_gagnant = False\n",
    "        break\n",
    "\n",
    "    print(f\"Il reste {nb_allumettes} allumettes\")\n",
    "\n",
    "    # ordinateur\n",
    "    choix = randint(1, 3)\n",
    "\n",
    "    while choix > nb_allumettes:\n",
    "        choix = randint(1, 3)\n",
    "    nb_allumettes -= choix\n",
    "\n",
    "    print(f\"L'ordinateur a retiré {choix} allumettes\")\n",
    "    print(f\"Il reste {nb_allumettes} allumettes\")\n",
    "\n",
    "if joueur_gagnant:\n",
    "    print(\"Vous avez gagné, bravo !\")\n",
    "else:\n",
    "    print(\"Vous avez perdu !\")\n"
   ]
  },
  {
   "attachments": {},
   "cell_type": "markdown",
   "metadata": {},
   "source": [
    "4. Il existe une stratégie gagnante pour le joueur qui joue en second. La trouver et la programmer, de manière à ce que l'ordinateur gagne systématiquement.\n"
   ]
  },
  {
   "cell_type": "code",
   "execution_count": 18,
   "metadata": {},
   "outputs": [
    {
     "name": "stdout",
     "output_type": "stream",
     "text": [
      "Il reste 18 allumettes\n",
      "L'ordinateur a retiré 1 allumettes\n",
      "Il reste 17 allumettes\n",
      "Il reste 16 allumettes\n",
      "L'ordinateur a retiré 3 allumettes\n",
      "Il reste 13 allumettes\n",
      "Il reste 10 allumettes\n",
      "L'ordinateur a retiré 1 allumettes\n",
      "Il reste 9 allumettes\n",
      "Il reste 6 allumettes\n",
      "L'ordinateur a retiré 1 allumettes\n",
      "Il reste 5 allumettes\n",
      "Il reste 4 allumettes\n",
      "L'ordinateur a retiré 3 allumettes\n",
      "Il reste 1 allumettes\n",
      "Vous avez perdu !\n"
     ]
    }
   ],
   "source": [
    "# Le joueur doit toujours maintenir un nombre d'allumettes\n",
    "# de la forme 4n + 1\n",
    "# c'est à dire un multiple de 4 allumettes, plus une\n",
    "# C'est le cas initialement car 21 = 4 x 5 + 1\n",
    "# Il suffit de prendre le complément à 4 du dernier choix du joueur\n",
    "\n",
    "joueur_gagnant = True\n",
    "nb_allumettes = 21\n",
    "\n",
    "while nb_allumettes > 0:\n",
    "    # joueur\n",
    "    choix = int(input(\"Combien d'allumettes voulez-vous retirer ? \"))\n",
    "\n",
    "    while choix > 3 or choix < 1 or choix > nb_allumettes:\n",
    "        choix = int(input(\"Combien d'allumettes voulez-vous retirer ? \"))\n",
    "    nb_allumettes -= choix\n",
    "\n",
    "    if nb_allumettes <= 0:\n",
    "        joueur_gagnant = False\n",
    "        break\n",
    "\n",
    "    print(f\"Il reste {nb_allumettes} allumettes\")\n",
    "\n",
    "    # ordinateur\n",
    "    choix = 4 - choix\n",
    "    nb_allumettes -= choix\n",
    "\n",
    "    print(f\"L'ordinateur a retiré {choix} allumettes\")\n",
    "    print(f\"Il reste {nb_allumettes} allumettes\")\n",
    "\n",
    "if joueur_gagnant:\n",
    "    print(\"Vous avez gagné, bravo !\")\n",
    "else:\n",
    "    print(\"Vous avez perdu !\")\n"
   ]
  },
  {
   "cell_type": "markdown",
   "metadata": {},
   "source": [
    "### Exercice n°12\n",
    "\n",
    "L'objectif de cet exercice est de résoudre le problème suivant :\n",
    "\n",
    "- lorsqu'une balle tombe d'une hauteur initiale $h$, sa vitesse à l'arrivée au sol est $v = \\sqrt{2 \\times g \\times h}$\n",
    "- immédiatement après le rebond, sa vitesse est $v_1 = v \\times \\mathit{eps}$ (où $\\mathit{eps}$ est une constante et $v$ la vitesse avant le rebond)\n",
    "- elle remonte alors à la hauteur $h = \\frac{v_1^2}{2 \\times g}$\n",
    "\n",
    "1. Écrivez un programme qui affiche la hauteur après le nombre de rebonds spécifié.\n",
    "\n",
    "Votre programme devra utiliser la constante $g$, de valeur $9,81$ et demander à l'utilisateur d'entrer les valeurs de\n",
    "\n",
    "- `H0` (hauteur initiale, contrainte : $H_0 > 0$),\n",
    "- `eps` (coefficient de rebond, contrainte $0 <= \\mathit{eps} < 1$)\n",
    "- `NBR` (nombre de rebonds, contrainte : $0 \\leq \\mathit{NBR}$).\n",
    "\n",
    "Avec les entrées `H0 = 25`, `eps = 0.9`, `NBR = 10`, la hauteur obtenue devrait être environ 3.04.\n"
   ]
  },
  {
   "cell_type": "code",
   "execution_count": 2,
   "metadata": {},
   "outputs": [
    {
     "name": "stdout",
     "output_type": "stream",
     "text": [
      "La hauteur du 10-ième rebond est: 3.0394163647642345\n"
     ]
    }
   ],
   "source": [
    "from math import sqrt\n",
    "\n",
    "g = 9.81\n",
    "\n",
    "h = 0.0\n",
    "while h <= 0:\n",
    "    h = float(input(\"Veuillez donner la hauteur initiale (h0 > 0): \"))\n",
    "eps = -1.0\n",
    "while eps < 0 or eps >= 1:\n",
    "    eps = float(input(\"Veuillez donner le coefficient de rebond (0 <= eps < 1): \"))\n",
    "nbr = 0\n",
    "while nbr <= 0:\n",
    "    nbr = int(input(\"Veuillez donner un nombre de rebonds (nbr > 0): \"))\n",
    "\n",
    "\n",
    "for _ in range(nbr):\n",
    "    v1 = eps * sqrt(2 * h * g)\n",
    "    h = (v1 * v1) / (2 * g)\n",
    "\n",
    "print(f\"La hauteur du {nbr}-ième rebond est: {h}\")"
   ]
  },
  {
   "cell_type": "markdown",
   "metadata": {},
   "source": [
    "2. On se demande maintenant combien de rebonds fait cette balle avant que la hauteur à laquelle elle rebondit soit plus petite que (ou égale à) une hauteur donnée `h_fin``. Écrivez un programme qui affiche le nombre de rebonds à l'écran après avoir demandé à l'utilisateur d'entrer les valeurs de :\n",
    "\n",
    "- `H0` (hauteur initiale, contrainte : $H_0 > 0$),\n",
    "- `eps` (coefficient de rebond, contrainte $0 <= \\mathit{eps} < 1$)\n",
    "- `h_fin` (hauteur finale désirée, contrainte : $0 < h_{\\mathit{fin}} < H0$).\n",
    "\n",
    "Avec les entrées `H0 = 10`, `eps = 0.9`, `h_fin = 2`, le nombre de rebonds est de 8.\n"
   ]
  },
  {
   "cell_type": "code",
   "execution_count": 3,
   "metadata": {},
   "outputs": [
    {
     "name": "stdout",
     "output_type": "stream",
     "text": [
      "La hauteur atteint 2 après 8 rebonds.\n"
     ]
    }
   ],
   "source": [
    "from math import sqrt\n",
    "\n",
    "g = 9.81\n",
    "\n",
    "h = 0.0\n",
    "while h <= 0:\n",
    "    h = float(input(\"Veuillez donner la hauteur initiale (h0 > 0): \"))\n",
    "eps = -1.0\n",
    "while eps < 0 or eps >= 1:\n",
    "    eps = float(input(\"Veuillez donner le coefficient de rebond (0 <= eps < 1): \"))\n",
    "h_fin = 0\n",
    "while h_fin <= 0 or h_fin >= h:\n",
    "    h_fin = int(input(\"Veuillez donner un nombre de rebonds (0 < h_fin < h0): \"))\n",
    "\n",
    "nb_rebonds = 0\n",
    "while h > h_fin:\n",
    "    v1 = eps * sqrt(2 * h * g)\n",
    "    h = (v1 * v1) / (2 * g)\n",
    "    nb_rebonds += 1\n",
    "\n",
    "print(f\"La hauteur atteint {h_fin} après {nb_rebonds} rebonds.\")"
   ]
  },
  {
   "cell_type": "markdown",
   "metadata": {},
   "source": [
    "### Exercice n°13\n",
    "\n",
    "Le but de cet exercice est de simuler l’évolution au cours du temps d’une population de prédateurs (des renards ici) et de proies (des lapins) en utilisant un modèle assez simple dit « de Lotka-Volterra ».\n",
    "\n",
    "1. Les paramètres de la simulation sont donné par:\n",
    "\n",
    "```python\n",
    "taux_croissance_lapins = 0.3\n",
    "taux_attaque = 0.01\n",
    "taux_croissance_renards = 0.008\n",
    "taux_mortalite = 0.1\n",
    "duree = 50\n",
    "```\n",
    "\n",
    "a. demander à l’utilisateur d’introduire le nombre initial de renards (`renards_i`), supérieur ou égal à 2 ; ce nombre sera redemandé à l’utilisateur tant qu’il n’est pas supérieur ou égal à 2 ;\n",
    "\n",
    "b. puis demander à l’utilisateur d’introduire le nombre initial de lapins (`lapins_i`), supérieur ou égal à 5 ; de même, ce nombre sera redemandé tant qu’il n’est pas conforme.\n",
    "\n",
    "2. On souhaite maintenant simuler l’évolution des populations de lapins et de renards entre 1 et `duree` mois avec les paramètres précédents.\n",
    "\n",
    "a. initialiser les populations de renards et de lapins avec les valeurs des populations initiales entrées par l’utilisateur ;\n",
    "\n",
    "b. calculer et afficher les populations de renards et de lapins à partir du premier mois et pour toute la duree (de 1 à 50 donc), en incrémentant de 1 à chaque fois.\n",
    "\n",
    "- La croissance des lapins est la suivante : leur nombre est chaque mois multiplié par `(1.0 + taux_croissance_lapins - taux_attaque * nb_renards)` où `nb_renards` est le nombre de renards du mois précédent le calcul.\n",
    "\n",
    "Cela représente le fait que le nouveau nombre de lapins équivaut au nombre de lapins qu’il y avait précédemment plus le nombre de lapins qui sont nés (`taux_croissance_lapins`) moins le nombre de lapins tués par les renards. Le nombre de lapins tués dépend du nombre de renards puisque plus il y a de renards, plus ils mangent de lapins.\n",
    "\n",
    "- De son coté, la croissance des renards est la suivante : leur nombre est chaque mois multiplié par `(1.0 + taux_attaque * nb_lapins * taux_croissance_renards - taux_mortalite)` où `nb_lapins` est le nombre de lapins du mois précédent.\n",
    "\n",
    "Cela représente le fait que le nouveau nombre de renards augmente du nombre de renards nés moins le nombre de renards morts. On voit que dans le cas des renards, c’est le nombre de naissances qui dépend du nombre de lapins, car les renards doivent attraper des lapins afin de pouvoir se nourrir, se reproduire et nourrir leurs petits.\n",
    "\n",
    "Les formules ci-dessus n’empêchent pas les populations de lapins et de renards d’être négatives. Il vous faut donc ajouter une condition qui donne la valeur 0 au nombre de lapins, ou de renards, dès que celui-ci devient négatif.\n"
   ]
  },
  {
   "cell_type": "code",
   "execution_count": 1,
   "metadata": {},
   "outputs": [
    {
     "name": "stdout",
     "output_type": "stream",
     "text": [
      "Après 1 mois, il y a 110.00000000000001 lapins et 18.16 renards\n",
      "Après 2 mois, il y a 123.02400000000003 lapins et 16.503808 renards\n",
      "Après 3 mois, il y a 139.62755524608005 lapins et 15.015856358031359 renards\n",
      "Après 4 mois, il y a 160.54954868792183 lapins et 13.682000907284081 renards\n",
      "Après 5 mois, il y a 186.7480225861764 lapins et 12.48953194222065 renards\n",
      "Après 6 mois, il y a 219.4484754296634 lapins et 11.427170379457511 renards\n",
      "Après 7 mois, il y a 260.20626687609285 lapins et 10.485067350971516 renards\n",
      "Après 8 mois, il y a 310.98534460551366 lapins et 9.65482303454162 renards\n",
      "Après 9 mois, il y a 374.255863302146 lapins et 8.929541408567632 renards\n",
      "Après 10 mois, il y a 453.11329000523244 lapins et 8.303941926011326 renards\n",
      "Après 11 mois, il y a 551.4210125457283 lapins et 7.774557849098785 renards\n",
      "Après 12 mois, il y a 673.9767706969928 lapins et 7.340066429088537 renards\n",
      "Après 13 mois, il y a 826.6994592203058 lapins et 7.001822527665964 renards\n",
      "Après 14 mois, il y a 1016.8252680146174 lapins et 6.764712506673609 renards\n",
      "Après 15 mois, il y a 1253.0875423426005 lapins et 6.638523704617467 renards\n",
      "Après 16 mois, il y a 1545.8272915073587 lapins et 6.640163442459896 renards\n",
      "Après 17 mois, il y a 1906.9300202653267 lapins et 6.797310767767823 renards\n",
      "Après 18 mois, il y a 2349.3890667436326 lapins et 7.154539367801378 renards\n",
      "Après 19 mois, il y a 2886.117821083728 lapins et 7.783789156485195 renards\n",
      "Après 20 mois, il y a 3527.3038414079447 lapins et 8.802604848843892 renards\n",
      "Après 21 mois, il y a 4275.000374853095 lapins et 10.406301315777363 renards\n",
      "Après 22 mois, il y a 5112.631067051199 lapins et 12.924626546262223 renards\n",
      "Après 23 mois, il y a 5985.63191506201 lapins et 16.91847166847239 renards\n",
      "Après 24 mois, il y a 6768.644049851807 lapins et 23.32804401945561 renards\n",
      "Après 25 mois, il y a 7220.2450013376565 lapins et 33.627177725267586 renards\n",
      "Après 26 mois, il y a 6958.353882939391 lapins et 49.688176903137325 renards\n",
      "Après 27 mois, il y a 5588.380860919959 lapins et 72.37919270803359 renards\n",
      "Après 28 mois, il y a 3220.070166611823 lapins et 97.4998730579032 renards\n",
      "Après 29 mois, il y a 1046.5268917734302 lapins et 112.86640035068838 renards\n",
      "Après 30 mois, il y a 179.3077278588443 lapins et 111.02917816719247 renards\n",
      "Après 31 mois, il y a 34.01614958455676 lapins et 101.51893152352875 renards\n",
      "Après 32 mois, il y a 9.6881628562365 lapins et 91.64330102400537 renards\n",
      "Après 33 mois, il y a 3.7160594630707577 lapins et 82.54999933960512 renards\n",
      "Après 34 mois, il y a 1.7632702397677409 lapins et 74.31954026214241 renards\n",
      "Après 35 mois, il y a 0.981796975923502 lapins et 66.89806987061438 renards\n",
      "Après 36 mois, il y a 0.6195328417596692 lapins et 60.21351730936847 renards\n",
      "Après 37 mois, il y a 0.4323501793773892 lapins et 54.195149918550904 renards\n",
      "Après 38 mois, il y a 0.32774240530390614 lapins et 48.77750942931891 renards\n",
      "Après 39 mois, il y a 0.26620054424408857 lapins et 43.90103740304823 renards\n",
      "Après 40 mois, il y a 0.2291959070215999 lapins et 39.51186858114737 renards\n",
      "Après 41 mois, il y a 0.2073950935523366 lapins et 35.56140619971724 renards\n",
      "Après 42 mois, il y a 0.1958610099616076 lapins et 32.00585560063877 renards\n",
      "Après 43 mois, il y a 0.19193232092382506 lapins et 28.8057715365111 renards\n",
      "Après 44 mois, il y a 0.19422443133093226 lapins et 25.925636683546948 renards\n",
      "Après 45 mois, il y a 0.20213784031266932 lapins et 23.33347584655559 renards\n",
      "Après 46 mois, il y a 0.21561340826036432 lapins et 21.0005055881732 renards\n",
      "Après 47 mois, il y a 0.2350175248879051 lapins et 18.900817268602687 renards\n",
      "Après 48 mois, il y a 0.26110254942602085 lapins et 17.011090903605844 renards\n",
      "Après 49 mois, il y a 0.29501692221933434 lapins et 15.310337144381535 renards\n",
      "Après 50 mois, il y a 0.33835391346037674 lapins et 13.779664774626779 renards\n"
     ]
    }
   ],
   "source": [
    "# Paramètres\n",
    "taux_croissance_lapins = 0.3\n",
    "taux_attaque = 0.01\n",
    "taux_croissance_renards = 0.008\n",
    "taux_mortalite = 0.1\n",
    "duree = 50\n",
    "\n",
    "# Saisie des populations initiales\n",
    "renards_i = int(input(\"Combien de renards au départ (>= 2) ? \"))\n",
    "while renards_i < 2:\n",
    "    renards_i = int(input(\"Combien de renards au départ (>= 2) ? \"))\n",
    "\n",
    "lapins_i = int(input(\"Combien de lapins au départ  (>= 5) ? \"))\n",
    "while lapins_i < 5:\n",
    "    lapins_i = int(input(\"Combien de lapins au départ  (>= 5) ? \"))\n",
    "\n",
    "# Evolution des populations\n",
    "nb_renards = renards_i\n",
    "nb_lapins = lapins_i\n",
    "for i in range(1, duree + 1):\n",
    "    renards_prec = nb_renards\n",
    "    lapins_prec = nb_lapins\n",
    "    nb_lapins *= 1.0 + taux_croissance_lapins - taux_attaque * renards_prec\n",
    "    nb_lapins = max(nb_lapins, 0.0)\n",
    "    nb_renards *= (\n",
    "        1.0 + taux_attaque * lapins_prec * taux_croissance_renards - taux_mortalite\n",
    "    )\n",
    "    nb_renards = max(nb_renards, 0.0)\n",
    "    print(f\"Après {i} mois, il y a {nb_lapins} lapins et {nb_renards} renards\")\n"
   ]
  }
 ],
 "metadata": {
  "interpreter": {
   "hash": "aee8b7b246df8f9039afb4144a1f6fd8d2ca17a180786b69acc140d282b71a49"
  },
  "kernelspec": {
   "display_name": "Python 3.10.0 64-bit",
   "language": "python",
   "name": "python3"
  },
  "language_info": {
   "codemirror_mode": {
    "name": "ipython",
    "version": 3
   },
   "file_extension": ".py",
   "mimetype": "text/x-python",
   "name": "python",
   "nbconvert_exporter": "python",
   "pygments_lexer": "ipython3",
   "version": "3.11.4"
  },
  "orig_nbformat": 4
 },
 "nbformat": 4,
 "nbformat_minor": 2
}
