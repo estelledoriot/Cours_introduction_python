{
 "cells": [
  {
   "attachments": {},
   "cell_type": "markdown",
   "metadata": {},
   "source": [
    "**Estelle Doriot**\n",
    "\n",
    "_NSI 1ère_\n",
    "\n",
    "---\n",
    "# Exercices : Boucles while\n",
    "---\n",
    "\n",
    "### Exercice n°2\n",
    "\n",
    "En utilisant une boucle while, écrire un programme qui affiche dans l'ordre décroissant les entiers entre $10$ et $1$.\n"
   ]
  },
  {
   "cell_type": "code",
   "execution_count": 1,
   "metadata": {},
   "outputs": [
    {
     "name": "stdout",
     "output_type": "stream",
     "text": [
      "10\n",
      "9\n",
      "8\n",
      "7\n",
      "6\n",
      "5\n",
      "4\n",
      "3\n",
      "2\n",
      "1\n"
     ]
    }
   ],
   "source": [
    "n = 10\n",
    "while n >= 1:\n",
    "    print(n)\n",
    "    n -= 1"
   ]
  },
  {
   "attachments": {},
   "cell_type": "markdown",
   "metadata": {},
   "source": [
    "### Exercice n°3\n",
    "\n",
    "1. Ecrire une boucle for qui affiche les nombres pairs entre 2 et 20."
   ]
  },
  {
   "cell_type": "code",
   "execution_count": 2,
   "metadata": {},
   "outputs": [
    {
     "name": "stdout",
     "output_type": "stream",
     "text": [
      "2\n",
      "4\n",
      "6\n",
      "8\n",
      "10\n",
      "12\n",
      "14\n",
      "16\n",
      "18\n",
      "20\n"
     ]
    }
   ],
   "source": [
    "for i in range(2, 21, 2):\n",
    "    print(i)"
   ]
  },
  {
   "attachments": {},
   "cell_type": "markdown",
   "metadata": {},
   "source": [
    "2. Ecrire une boucle while qui fasse la même chose."
   ]
  },
  {
   "cell_type": "code",
   "execution_count": 3,
   "metadata": {},
   "outputs": [
    {
     "name": "stdout",
     "output_type": "stream",
     "text": [
      "2\n",
      "4\n",
      "6\n",
      "8\n",
      "10\n",
      "12\n",
      "14\n",
      "16\n",
      "18\n",
      "20\n"
     ]
    }
   ],
   "source": [
    "i = 2\n",
    "while i < 21:\n",
    "    print(i)\n",
    "    i += 2"
   ]
  },
  {
   "attachments": {},
   "cell_type": "markdown",
   "metadata": {},
   "source": [
    "### Exercice n°4\n",
    "\n",
    "Écrire un programme qui permet de saisir un mot de passe sous la forme d’une chaîne de caractères et qui ensuite redemande ce mot de passe jusqu’à ce qu’il soit correct."
   ]
  },
  {
   "cell_type": "code",
   "execution_count": 4,
   "metadata": {},
   "outputs": [
    {
     "name": "stdout",
     "output_type": "stream",
     "text": [
      "Bienvenue dans votre compte\n"
     ]
    }
   ],
   "source": [
    "mot_de_passe = \"MotDePasse\"\n",
    "reponse = input(\"Veuillez entrer le mot de passe: \")\n",
    "\n",
    "while reponse != mot_de_passe:\n",
    "    reponse = input(\"Mot de passe incorrect. Veuillez entrer le mot de passe à nouveau: \")\n",
    "    \n",
    "print(\"Bienvenue dans votre compte\")"
   ]
  },
  {
   "attachments": {},
   "cell_type": "markdown",
   "metadata": {},
   "source": [
    "### Exercice n°5\n",
    "\n",
    "1. Un joueur doit trouver un nombre entier choisi au préalable de 1 à 100 par l'ordinateur. A chaque tour, le joueur propose un nombre et l'ordinateur peut répondre de trois façons différentes :\n",
    "\n",
    "- Gagné !\n",
    "- Trop petit\n",
    "- Trop grand\n",
    "\n",
    "Ecrire un programme permettant de jouer à \"Devine le nombre\"."
   ]
  },
  {
   "cell_type": "code",
   "execution_count": 5,
   "metadata": {},
   "outputs": [
    {
     "name": "stdout",
     "output_type": "stream",
     "text": [
      "Trop petit\n",
      "Trop petit\n",
      "Trop petit\n",
      "Trop petit\n",
      "Trop grand\n",
      "Trop petit\n",
      "Trop petit\n",
      "Trop petit\n",
      "Gagné !\n"
     ]
    }
   ],
   "source": [
    "from random import randint\n",
    "\n",
    "nombreMystere = randint(1, 100)\n",
    "choix = int(input(\"Saisir un entier entre 1 et 100 : \"))\n",
    "\n",
    "while choix != nombreMystere:\n",
    "    if choix < nombreMystere:\n",
    "        print(\"Trop petit\")\n",
    "    else:\n",
    "        print(\"Trop grand\")\n",
    "    choix = int(input(\"Saisir un entier entre 1 et 100 : \"))\n",
    "\n",
    "print(\"Gagné !\")"
   ]
  },
  {
   "attachments": {},
   "cell_type": "markdown",
   "metadata": {},
   "source": [
    "2. On veut complexifier le jeu en imposant un nombre d'essais maximal. Modifier le programme précédent afin qu'il...\n",
    "\n",
    "- demande à l'utilisateur de saisir un nombre entier qui correspond au nombre maximum d'essais autorisés.\n",
    "- permette de jouer sans autoriser plus d'essais que le nombre maximum entré.\n",
    "- affiche soit la défaite soit la victoire en précisant le nombre d'essais utilisés."
   ]
  },
  {
   "cell_type": "code",
   "execution_count": 6,
   "metadata": {},
   "outputs": [
    {
     "name": "stdout",
     "output_type": "stream",
     "text": [
      "Trop petit\n",
      "Trop grand\n",
      "Trop petit\n",
      "Gagné en 4 !\n"
     ]
    }
   ],
   "source": [
    "from random import randint\n",
    "\n",
    "nombreMystere = randint(1, 100)\n",
    "max_essais = int(input(\"Combien d'essais au maximum ? \"))\n",
    "choix = int(input(\"Saisir un entier entre 1 et 100 : \"))\n",
    "nb_essais = 1\n",
    "\n",
    "while choix != nombreMystere and nb_essais <= max_essais:\n",
    "    if choix < nombreMystere:\n",
    "        print(\"Trop petit\")\n",
    "    else:\n",
    "        print(\"Trop grand\")\n",
    "    choix = int(input(\"Saisir un entier entre 1 et 100 : \"))\n",
    "    nb_essais += 1\n",
    "\n",
    "if choix == nombreMystere:\n",
    "    print(f\"Gagné en {nb_essais} !\")\n",
    "else:\n",
    "    print(f\"Perdu en {nb_essais} essais ! La réponse était {nombreMystere}.\")"
   ]
  },
  {
   "attachments": {},
   "cell_type": "markdown",
   "metadata": {},
   "source": [
    "### Exercice n°6\n",
    "\n",
    "Dans un pays connaissant une forte inflation, le taux d’inflation mensuel est de 8 %. Ecrire un programme qui affiche le nombre de mois au bout duquel le prix sera strictement supérieur à 1000 euros, en fonction du prix initial."
   ]
  },
  {
   "cell_type": "code",
   "execution_count": 7,
   "metadata": {},
   "outputs": [
    {
     "name": "stdout",
     "output_type": "stream",
     "text": [
      "Le prix dépasse 1000€ au bout de 60 mois.\n"
     ]
    }
   ],
   "source": [
    "prix = float(input(\"Quel est le prix initial du produit? \"))\n",
    "mois = 0\n",
    "\n",
    "while prix <= 1000:\n",
    "    prix *= 1.08\n",
    "    mois += 1\n",
    "    \n",
    "print(f\"Le prix dépasse 1000€ au bout de {mois} mois.\")"
   ]
  },
  {
   "attachments": {},
   "cell_type": "markdown",
   "metadata": {},
   "source": [
    "### Exercice n°7\n",
    "\n",
    "Chaque année la consommation énergétique d'un data center est estimée augmenter de 8 %. On considérera un data-center moyen, consommant à l'an 0, environ 20 million de kWh.\n",
    "\n",
    "1. Déterminer le nombre d'années nécessaires au doublement de la consommation énergétique de ce data center."
   ]
  },
  {
   "cell_type": "code",
   "execution_count": 8,
   "metadata": {},
   "outputs": [
    {
     "name": "stdout",
     "output_type": "stream",
     "text": [
      "Il faut 10 ans pour doubler la consommation energétique.\n"
     ]
    }
   ],
   "source": [
    "conso_initiale = 20_000_000\n",
    "conso = conso_initiale\n",
    "annee = 0\n",
    "\n",
    "while conso < conso_initiale * 2:\n",
    "    annee += 1\n",
    "    conso *= 1.08\n",
    "\n",
    "print(f\"Il faut {annee} ans pour doubler la consommation energétique.\")"
   ]
  },
  {
   "attachments": {},
   "cell_type": "markdown",
   "metadata": {},
   "source": [
    "2. Refaire le calcul pour un data-center 10 fois plus gros. Conclure."
   ]
  },
  {
   "cell_type": "code",
   "execution_count": 9,
   "metadata": {},
   "outputs": [
    {
     "name": "stdout",
     "output_type": "stream",
     "text": [
      "Il faut 10 ans pour doubler la consommation energétique.\n"
     ]
    }
   ],
   "source": [
    "conso_initiale = 200_000_000\n",
    "conso = conso_initiale\n",
    "annee = 0\n",
    "\n",
    "while conso < conso_initiale * 2:\n",
    "    annee += 1\n",
    "    conso *= 1.08\n",
    "\n",
    "print(f\"Il faut {annee} ans pour doubler la consommation energétique.\")"
   ]
  },
  {
   "attachments": {},
   "cell_type": "markdown",
   "metadata": {},
   "source": [
    "### Exercice n°8\n",
    "\n",
    "On considère une ville de 40000 habitants. Sachant qu’une personne était malade au jour 1 et que chaque personne malade contamine 2 nouvelles personnes le jour suivant (et chacun des jours qui suivent), écrire un programme qui affiche à partir de quel jour toute la population de la ville sera malade."
   ]
  },
  {
   "cell_type": "code",
   "execution_count": 10,
   "metadata": {},
   "outputs": [
    {
     "name": "stdout",
     "output_type": "stream",
     "text": [
      "Au bout de 11 jours, tout le monde est malade\n"
     ]
    }
   ],
   "source": [
    "habitants = 40000\n",
    "malades = 1\n",
    "ouveaux_malades = 0\n",
    "jours = 1\n",
    "\n",
    "while malades < habitants:\n",
    "    nouveaux_malades = malades * 2\n",
    "    malades += nouveaux_malades\n",
    "    jours += 1\n",
    "\n",
    "print(f\"Au bout de {jours} jours, tout le monde est malade\")"
   ]
  },
  {
   "attachments": {},
   "cell_type": "markdown",
   "metadata": {},
   "source": [
    "### Exercice n°9\n",
    "\n",
    "**La légende de l'échiquier de Sissa**: En Inde, le roi Belkib, qui s'ennuie à la cour, demande qu'on lui invente un jeu pour le distraire. Le sage Sissa invente alors un jeu d'échecs, ce qui ravit le roi. Pour remercier Sissa, le roi lui demande de choisir sa récompense, aussi fastueuse qu'elle puisse être. Sissa choisit de demander au roi de prendre le plateau du jeu et, sur la première case, poser un grain de riz, ensuite deux sur la deuxième, puis quatre sur la troisième, et ainsi de suite, en doublant à chaque fois le nombre de grains de riz que l’on met. Le roi et la cour sont amusés par la modestie de cette demande. Mais lorsqu'on la met en œuvre, on s'aperçoit qu'il n'y a pas assez de grains de riz dans tout le royaume pour la satisfaire.\n",
    "\n",
    "1. Ecrire un programme qui affiche le total de grains de riz posés sur l'échiquier, case après cases. On rappelle qu'un échiquier comporte 64 cases."
   ]
  },
  {
   "cell_type": "code",
   "execution_count": 11,
   "metadata": {},
   "outputs": [
    {
     "name": "stdout",
     "output_type": "stream",
     "text": [
      "Il faut au total 18446744073709551615 grains de riz.\n"
     ]
    }
   ],
   "source": [
    "riz = 0\n",
    "\n",
    "for i in range(64):\n",
    "    riz += 2 ** i\n",
    "\n",
    "print(f\"Il faut au total {riz} grains de riz.\")"
   ]
  },
  {
   "attachments": {},
   "cell_type": "markdown",
   "metadata": {},
   "source": [
    "2. Ecrire un programme pour savoir à partir de quelle case le roi Belkib aura déjà déposé un million de million de grains de riz ($10^{12}$ grains) sur l'échiquier."
   ]
  },
  {
   "cell_type": "code",
   "execution_count": 12,
   "metadata": {},
   "outputs": [
    {
     "name": "stdout",
     "output_type": "stream",
     "text": [
      "A partir de la case 40, il faut plus de 10**12 grains de riz.\n"
     ]
    }
   ],
   "source": [
    "riz = 0\n",
    "i = 0\n",
    "\n",
    "while riz < 10 ** 12:\n",
    "    riz += 2 ** i\n",
    "    i += 1\n",
    "    \n",
    "print(f\"A partir de la case {i}, il faut plus de 10**12 grains de riz.\")"
   ]
  },
  {
   "attachments": {},
   "cell_type": "markdown",
   "metadata": {},
   "source": [
    "### Exercice n°10\n",
    "\n",
    "1. Écrire un programme qui demande un entier $n$ et qui affiche le nombre de chiffres de $n$.\n"
   ]
  },
  {
   "cell_type": "code",
   "execution_count": 13,
   "metadata": {},
   "outputs": [
    {
     "name": "stdout",
     "output_type": "stream",
     "text": [
      "Le nombre de chiffres de 10 est 2\n"
     ]
    }
   ],
   "source": [
    "n = int(input(\"Donnez un entier: \"))\n",
    "i = n\n",
    "compteur = 0\n",
    "\n",
    "while i > 0:\n",
    "    compteur = compteur + 1\n",
    "    i = i // 10\n",
    "    \n",
    "print(f\"Le nombre de chiffres de {n} est {compteur}\")"
   ]
  },
  {
   "attachments": {},
   "cell_type": "markdown",
   "metadata": {},
   "source": [
    "2. Écrire un programme qui demande un entier $n$ et qui affiche la somme des chiffres de $n$."
   ]
  },
  {
   "cell_type": "code",
   "execution_count": 14,
   "metadata": {},
   "outputs": [
    {
     "name": "stdout",
     "output_type": "stream",
     "text": [
      "La somme des chiffres de 10 est 1\n"
     ]
    }
   ],
   "source": [
    "n = int(input(\"Donnez un entier: \"))\n",
    "i = n\n",
    "somme = 0\n",
    "\n",
    "while i > 0:\n",
    "    somme = somme + i % 10\n",
    "    i = i // 10\n",
    "\n",
    "print(f\"La somme des chiffres de {n} est {somme}\")\n"
   ]
  },
  {
   "attachments": {},
   "cell_type": "markdown",
   "metadata": {},
   "source": [
    "### Exercice n°11\n",
    "\n",
    "**Jeu de Nim** : Ce jeu se joue à deux. Initialement, 21 allumettes sont posées sur la table. A tour de rôle, chaque joueur enlève une, deux ou trois allumettes. Celui qui enlève la dernière allumette a perdu.\n",
    "\n",
    "1. Ecrire un programme qui permet à un joueur de jouer contre l'ordinateur. L'ordinateur retirera une, deux ou trois allumettes de façon aléatoire.\n",
    "\n",
    "__Remarques :__\n",
    "- Au début de chaque tour, on affichera le nombre d'allumettes restantes.\n",
    "- L'ordinateur ne peut évidemment pas retirer plus d'allumettes qu'il n'en reste.\n"
   ]
  },
  {
   "cell_type": "code",
   "execution_count": 15,
   "metadata": {},
   "outputs": [
    {
     "name": "stdout",
     "output_type": "stream",
     "text": [
      "Il reste 18 allumettes\n",
      "L'ordinateur a retiré 2 allumettes\n",
      "Il reste 16 allumettes\n",
      "Il reste 14 allumettes\n",
      "L'ordinateur a retiré 3 allumettes\n",
      "Il reste 11 allumettes\n",
      "Il reste 8 allumettes\n",
      "L'ordinateur a retiré 3 allumettes\n",
      "Il reste 5 allumettes\n",
      "Il reste 4 allumettes\n",
      "L'ordinateur a retiré 3 allumettes\n",
      "Il reste 1 allumettes\n",
      "La partie est terminée\n"
     ]
    }
   ],
   "source": [
    "from random import randint\n",
    "\n",
    "nb_allumettes = 21\n",
    "\n",
    "while nb_allumettes > 0:\n",
    "    # joueur\n",
    "    choix = int(input(\"Combien d'allumettes voulez-vous retirer ? \"))\n",
    "    nb_allumettes -= choix\n",
    "    \n",
    "    if nb_allumettes <= 0:\n",
    "        break\n",
    "    \n",
    "    print(f\"Il reste {nb_allumettes} allumettes\")\n",
    "    \n",
    "    # ordinateur\n",
    "    choix = randint(1, 3)\n",
    "    while choix > nb_allumettes:\n",
    "        choix = randint(1, 3)\n",
    "    nb_allumettes -= choix\n",
    "    print(f\"L'ordinateur a retiré {choix} allumettes\")\n",
    "    print(f\"Il reste {nb_allumettes} allumettes\")\n",
    "    \n",
    "print(\"La partie est terminée\")"
   ]
  },
  {
   "attachments": {},
   "cell_type": "markdown",
   "metadata": {},
   "source": [
    "2. Améliorer votre programme pour donner le nom du gagnant lorsque la dernière allumette est retirée."
   ]
  },
  {
   "cell_type": "code",
   "execution_count": 16,
   "metadata": {},
   "outputs": [
    {
     "name": "stdout",
     "output_type": "stream",
     "text": [
      "Il reste 20 allumettes\n",
      "L'ordinateur a retiré 3 allumettes\n",
      "Il reste 17 allumettes\n",
      "Il reste 16 allumettes\n",
      "L'ordinateur a retiré 1 allumettes\n",
      "Il reste 15 allumettes\n",
      "Il reste 12 allumettes\n",
      "L'ordinateur a retiré 3 allumettes\n",
      "Il reste 9 allumettes\n",
      "Il reste 8 allumettes\n",
      "L'ordinateur a retiré 2 allumettes\n",
      "Il reste 6 allumettes\n",
      "Il reste 4 allumettes\n",
      "L'ordinateur a retiré 1 allumettes\n",
      "Il reste 3 allumettes\n",
      "Vous avez perdu !\n"
     ]
    }
   ],
   "source": [
    "from random import randint\n",
    "\n",
    "joueur_gagnant = True\n",
    "nb_allumettes = 21\n",
    "\n",
    "while nb_allumettes > 0:\n",
    "    # joueur\n",
    "    choix = int(input(\"Combien d'allumettes voulez-vous retirer ? \"))\n",
    "    nb_allumettes -= choix\n",
    "    \n",
    "    if nb_allumettes <= 0:\n",
    "        joueur_gagnant = False\n",
    "        break\n",
    "    \n",
    "    print(f\"Il reste {nb_allumettes} allumettes\")\n",
    "    \n",
    "    # ordinateur\n",
    "    choix = randint(1, 3)\n",
    "    \n",
    "    while choix > nb_allumettes:\n",
    "        choix = randint(1, 3)\n",
    "    nb_allumettes -= choix\n",
    "    \n",
    "    print(f\"L'ordinateur a retiré {choix} allumettes\")\n",
    "    print(f\"Il reste {nb_allumettes} allumettes\")\n",
    "    \n",
    "if joueur_gagnant:\n",
    "    print(\"Vous avez gagné, bravo !\")\n",
    "else:\n",
    "    print(\"Vous avez perdu !\")"
   ]
  },
  {
   "attachments": {},
   "cell_type": "markdown",
   "metadata": {},
   "source": [
    "3. Améliorer votre programme pour éviter que l'utilisateur ne puisse faire une saisie illégale (supprimer plus que le nombre d'allumettes restantes)."
   ]
  },
  {
   "cell_type": "code",
   "execution_count": 17,
   "metadata": {},
   "outputs": [
    {
     "name": "stdout",
     "output_type": "stream",
     "text": [
      "Il reste 18 allumettes\n",
      "L'ordinateur a retiré 2 allumettes\n",
      "Il reste 16 allumettes\n",
      "Il reste 13 allumettes\n",
      "L'ordinateur a retiré 3 allumettes\n",
      "Il reste 10 allumettes\n",
      "Il reste 8 allumettes\n",
      "L'ordinateur a retiré 1 allumettes\n",
      "Il reste 7 allumettes\n",
      "Il reste 4 allumettes\n",
      "L'ordinateur a retiré 2 allumettes\n",
      "Il reste 2 allumettes\n",
      "Il reste 1 allumettes\n",
      "L'ordinateur a retiré 1 allumettes\n",
      "Il reste 0 allumettes\n",
      "Vous avez gagné, bravo !\n"
     ]
    }
   ],
   "source": [
    "from random import randint\n",
    "\n",
    "joueur_gagnant = True\n",
    "nb_allumettes = 21\n",
    "\n",
    "while nb_allumettes > 0:\n",
    "    # joueur\n",
    "    choix = int(input(\"Combien d'allumettes voulez-vous retirer ? \"))\n",
    "    \n",
    "    while choix > 3 or choix < 1 or choix > nb_allumettes:\n",
    "        choix = int(input(\"Combien d'allumettes voulez-vous retirer ? \"))\n",
    "    \n",
    "    nb_allumettes -= choix\n",
    "    \n",
    "    if nb_allumettes <= 0:\n",
    "        joueur_gagnant = False\n",
    "        break\n",
    "    \n",
    "    print(f\"Il reste {nb_allumettes} allumettes\")\n",
    "    \n",
    "    # ordinateur \n",
    "    choix = randint(1, 3)\n",
    "    \n",
    "    while choix > nb_allumettes:\n",
    "        choix = randint(1, 3)\n",
    "    nb_allumettes -= choix\n",
    "    \n",
    "    print(f\"L'ordinateur a retiré {choix} allumettes\")\n",
    "    print(f\"Il reste {nb_allumettes} allumettes\")\n",
    "    \n",
    "if joueur_gagnant:\n",
    "    print(\"Vous avez gagné, bravo !\")\n",
    "else:\n",
    "    print(\"Vous avez perdu !\")"
   ]
  },
  {
   "attachments": {},
   "cell_type": "markdown",
   "metadata": {},
   "source": [
    "4. Il existe une stratégie gagnante pour le joueur qui joue en second. La trouver et la programmer, de manière à ce que l'ordinateur gagne systématiquement."
   ]
  },
  {
   "cell_type": "code",
   "execution_count": 18,
   "metadata": {},
   "outputs": [
    {
     "name": "stdout",
     "output_type": "stream",
     "text": [
      "Il reste 18 allumettes\n",
      "L'ordinateur a retiré 1 allumettes\n",
      "Il reste 17 allumettes\n",
      "Il reste 16 allumettes\n",
      "L'ordinateur a retiré 3 allumettes\n",
      "Il reste 13 allumettes\n",
      "Il reste 10 allumettes\n",
      "L'ordinateur a retiré 1 allumettes\n",
      "Il reste 9 allumettes\n",
      "Il reste 6 allumettes\n",
      "L'ordinateur a retiré 1 allumettes\n",
      "Il reste 5 allumettes\n",
      "Il reste 4 allumettes\n",
      "L'ordinateur a retiré 3 allumettes\n",
      "Il reste 1 allumettes\n",
      "Vous avez perdu !\n"
     ]
    }
   ],
   "source": [
    "# Le joueur doit toujours maintenir un nombre d'allumettes\n",
    "# de la forme 4n + 1\n",
    "# c'est à dire un multiple de 4 allumettes, plus une\n",
    "# C'est le cas initialement car 21 = 4 x 5 + 1\n",
    "# Il suffit de prendre le complément à 4 du dernier choix du joueur\n",
    "\n",
    "joueur_gagnant = True\n",
    "nb_allumettes = 21\n",
    "\n",
    "while nb_allumettes > 0:\n",
    "    # joueur\n",
    "    choix = int(input(\"Combien d'allumettes voulez-vous retirer ? \"))\n",
    "    \n",
    "    while choix > 3 or choix < 1 or choix > nb_allumettes:\n",
    "        choix = int(input(\"Combien d'allumettes voulez-vous retirer ? \"))\n",
    "    nb_allumettes -= choix\n",
    "    \n",
    "    if nb_allumettes <= 0:\n",
    "        joueur_gagnant = False\n",
    "        break\n",
    "    \n",
    "    print(f\"Il reste {nb_allumettes} allumettes\")\n",
    "    \n",
    "    # ordinateur\n",
    "    choix = 4 - choix\n",
    "    nb_allumettes -= choix\n",
    "    \n",
    "    print(f\"L'ordinateur a retiré {choix} allumettes\")\n",
    "    print(f\"Il reste {nb_allumettes} allumettes\")\n",
    "    \n",
    "if joueur_gagnant:\n",
    "    print(\"Vous avez gagné, bravo !\")\n",
    "else:\n",
    "    print(\"Vous avez perdu !\")"
   ]
  }
 ],
 "metadata": {
  "interpreter": {
   "hash": "aee8b7b246df8f9039afb4144a1f6fd8d2ca17a180786b69acc140d282b71a49"
  },
  "kernelspec": {
   "display_name": "Python 3.10.0 64-bit",
   "language": "python",
   "name": "python3"
  },
  "language_info": {
   "codemirror_mode": {
    "name": "ipython",
    "version": 3
   },
   "file_extension": ".py",
   "mimetype": "text/x-python",
   "name": "python",
   "nbconvert_exporter": "python",
   "pygments_lexer": "ipython3",
   "version": "3.11.4"
  },
  "orig_nbformat": 4
 },
 "nbformat": 4,
 "nbformat_minor": 2
}
