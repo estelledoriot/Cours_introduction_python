{
 "cells": [
  {
   "attachments": {},
   "cell_type": "markdown",
   "metadata": {},
   "source": [
    "**Estelle Doriot**\n",
    "\n",
    "_NSI 1ère_\n",
    "\n",
    "---\n",
    "\n",
    "# Exercices : Fonctions\n",
    "\n",
    "---\n",
    "\n",
    "### Exercie n°1\n",
    "\n",
    "L'Indice de Masse Corporelle est un nombre réel utilisé en médecine. Sa formule est $\\text{IMC} = \\frac{\\text{masse}}{\\text{taille}^2}$ où la masse est exprimée en kg et la taille en m. Ecrire une fonction `imc(masse: float, taille: float) -> float` qui renvoie la valeur de l'IMC en fonction de la masse et du poids de la personne. Vérifier qu'une personne de 80 kg mesurant 1 mètre 80 a un IMC proche de 24.691358024691358.\n"
   ]
  },
  {
   "cell_type": "code",
   "execution_count": 1,
   "metadata": {},
   "outputs": [
    {
     "name": "stdout",
     "output_type": "stream",
     "text": [
      "Une personne de 80 kg mesurant 1 mètre 80 a un IMC de 24.691358024691358.\n"
     ]
    }
   ],
   "source": [
    "def imc(masse: float, taille: float) -> float:\n",
    "    return masse / taille**2\n",
    "\n",
    "\n",
    "print(f\"Une personne de 80 kg mesurant 1 mètre 80 a un IMC de {imc(80,1.80)}.\")"
   ]
  },
  {
   "attachments": {},
   "cell_type": "markdown",
   "metadata": {},
   "source": [
    "### Exercice n°2\n",
    "\n",
    "Écrire une fonction `aire_trapeze(a : float, b : float, h : float) -> float` qui renvoie l’aire d’un trapèze de bases `a` et `b` et de hauteur `h`. L’aire d’un trapèze de bases $a$ et $b$ et de hauteur $h$ est donnée par la formule $\\frac{(a + b)h}{2}$. Vérifier que l'aire d'un trapèze de bases 2 et 4 et de hauteur 5 est de 15.\n"
   ]
  },
  {
   "cell_type": "code",
   "execution_count": 2,
   "metadata": {},
   "outputs": [
    {
     "name": "stdout",
     "output_type": "stream",
     "text": [
      "L'aire du trapèze est 15.0.\n"
     ]
    }
   ],
   "source": [
    "def aire_trapeze(a: float, b: float, h: float) -> float:\n",
    "    return (a + b) * h / 2\n",
    "\n",
    "\n",
    "print(f\"L'aire du trapèze est {aire_trapeze(2, 4, 5)}.\")"
   ]
  },
  {
   "attachments": {},
   "cell_type": "markdown",
   "metadata": {},
   "source": [
    "### Exercice n°3\n",
    "\n",
    "Écrire une fonction `aire_triangle(a: float, b: float, c: float) -> float` qui renvoie l’aire A d’un triangle de côtés `a`, `b` et `c`. On pourra utiliser la formule de Héron : $A = \\sqrt{p(p − a)(p − b)(p − c)}$ avec $p = \\frac{a + b + c}{2}$. Vérifier que l'aire d'un triangle de côtés 3, 4 et 5 est de 6.\n"
   ]
  },
  {
   "cell_type": "code",
   "execution_count": 3,
   "metadata": {},
   "outputs": [
    {
     "name": "stdout",
     "output_type": "stream",
     "text": [
      "L'aire du triangle est 6.0.\n"
     ]
    }
   ],
   "source": [
    "from math import sqrt\n",
    "\n",
    "\n",
    "def aire_triangle(a: float, b: float, c: float) -> float:\n",
    "    p = (a + b + c) / 2\n",
    "    a = sqrt(p * (p - a) * (p - b) * (p - c))\n",
    "    return a\n",
    "\n",
    "\n",
    "print(f\"L'aire du triangle est {aire_triangle(3, 4, 5)}.\")"
   ]
  },
  {
   "attachments": {},
   "cell_type": "markdown",
   "metadata": {},
   "source": [
    "### Exercice n°4\n",
    "\n",
    "C’est le mercato et un attaquant est convoité par deux clubs F et G qui lui proposent le même salaire mensuel mais des systèmes différents pour les primes par but marqué :\n",
    "\n",
    "- Le club F lui propose une prime de 8 000 euros par but marqué pour les dix premiers buts marqués puis de 11 300 euros par but marqué à partir du onzième but.\n",
    "- Le club G lui propose une prime de 10 000 euros par but marqué quel que soit le nombre de buts inscrits.\n",
    "\n",
    "1. Écrire des fonctions `F(n : int) -> int` et `G(n : int) -> int` qui retournent respectivement les montants des primes offertes par les clubs F et G en fonction du nombre $n$ de buts marqués.\n"
   ]
  },
  {
   "cell_type": "code",
   "execution_count": 4,
   "metadata": {},
   "outputs": [
    {
     "name": "stdout",
     "output_type": "stream",
     "text": [
      "Si le joueur marque 12 buts, il recevra 102600 du club F et 120000 du club G.\n"
     ]
    }
   ],
   "source": [
    "def F(n: int) -> int:\n",
    "    if n <= 10:\n",
    "        return 8000 * n\n",
    "    else:\n",
    "        return 8000 * 10 + 11300 * (n - 10)\n",
    "\n",
    "\n",
    "def G(n: int) -> int:\n",
    "    return 10000 * n\n",
    "\n",
    "\n",
    "print(\n",
    "    f\"Si le joueur marque 12 buts, il recevra {F(12)} du club F et {G(12)} du club G.\"\n",
    ")"
   ]
  },
  {
   "attachments": {},
   "cell_type": "markdown",
   "metadata": {},
   "source": [
    "2. Ecrire un programme qui affiche le nombre de buts que doit marquer l’attaquant pour que le montant de la prime offerte par le club F soit la plus intéressante.\n"
   ]
  },
  {
   "cell_type": "code",
   "execution_count": 5,
   "metadata": {},
   "outputs": [
    {
     "name": "stdout",
     "output_type": "stream",
     "text": [
      "A partir de 26 buts, la prime du club F est plus intéressante.\n"
     ]
    }
   ],
   "source": [
    "buts = 0\n",
    "f = 0\n",
    "g = 0\n",
    "\n",
    "while g >= f:\n",
    "    buts += 1\n",
    "    f = F(buts)\n",
    "    g = G(buts)\n",
    "\n",
    "print(f\"A partir de {buts} buts, la prime du club F est plus intéressante.\")"
   ]
  },
  {
   "attachments": {},
   "cell_type": "markdown",
   "metadata": {},
   "source": [
    "### Exercice n°5\n",
    "\n",
    "Considérons une fonction `est_rectangle(xa, ya, xb, yb, xc, yc)` qui, étant donnés les coordonnées de trois points A, B, C du plan, affiche `True` si le triangle ABC est rectangle, et `False` sinon. Une telle fonction va nécessairement contenir du code redondant, par exemple le calcul de $AB^2$, $AC^2$, et $BC^2$ si l’on utilise le théorème de Pythagore:\n",
    "\n",
    "```\n",
    "def est_rectangle (xa, ya, xb, yb, xc, yc):\n",
    "    ab2 = (xb−xa) ** 2 + (yb−ya) ** 2\n",
    "    ac2 = (xc−xa) ** 2 + (yc−ya) ** 2\n",
    "    bc2 = (xc−xb) ** 2 + (yc−yb) ** 2\n",
    "    ...\n",
    "```\n",
    "\n",
    "Il devient alors intéressant d’utiliser une fonction auxiliaire `distance_au_carre` qui va contenir le code responsable du calcul des carrés des distances.\n",
    "\n",
    "```\n",
    "def distance_au_carre (x1 : float, y1 : float, x2 : float, y2 : float) -> float:\n",
    "    return (x2 − x1) ** 2 + (y2 − y1) ** 2\n",
    "```\n",
    "\n",
    "1. Ecrire une fonction `est_rectangle(xa : float, ya : float, xb : float, yb : float, xc : float, yc : float) -> bool` qui renvoie `True` si ABC est rectangle, et `False` sinon.\n",
    "2. On considère les points A(5; 2), B(2; 2) et C(2; 6). Vérifier que l’appel `est_rectangle(5, 2, 2, 2, 2, 6)` renvoie bien la valeur `True` dans ce cas.\n"
   ]
  },
  {
   "cell_type": "code",
   "execution_count": 6,
   "metadata": {},
   "outputs": [
    {
     "name": "stdout",
     "output_type": "stream",
     "text": [
      "Le triangle est rectangle\n"
     ]
    }
   ],
   "source": [
    "def distance_au_carre(x1: float, y1: float, x2: float, y2: float) -> float:\n",
    "    return (x2 - x1) ** 2 + (y2 - y1) ** 2\n",
    "\n",
    "\n",
    "def est_rectangle(\n",
    "    xa: float, ya: float, xb: float, yb: float, xc: float, yc: float\n",
    ") -> bool:\n",
    "    ab2 = distance_au_carre(xa, ya, xb, yb)\n",
    "    ac2 = distance_au_carre(xa, ya, xc, yc)\n",
    "    bc2 = distance_au_carre(xb, yb, xc, yc)\n",
    "    return (bc2 == ab2 + ac2) or (ab2 == ac2 + bc2) or (ac2 == ab2 + bc2)\n",
    "\n",
    "\n",
    "if est_rectangle(5, 2, 2, 2, 2, 6):\n",
    "    print(\"Le triangle est rectangle\")\n",
    "else:\n",
    "    print(\"Le triangle n'est pas rectangle\")"
   ]
  },
  {
   "attachments": {},
   "cell_type": "markdown",
   "metadata": {},
   "source": [
    "### Exercice n°6\n",
    "\n",
    "Le code python `print('A' * 2 + 'B' * 8)` permet d'afficher une ligne constituée de 2 caractères 'A' suivis de 8 caractères 'B': `AABBBBBBBB`\n",
    "\n",
    "1. Écrire une fonction `ligne(n : int, m : int)` qui affiche une ligne constituée de $n$ caractères 'A' suivis de $m$ caractères 'B'.\n"
   ]
  },
  {
   "cell_type": "code",
   "execution_count": 7,
   "metadata": {},
   "outputs": [
    {
     "name": "stdout",
     "output_type": "stream",
     "text": [
      "AAABBBB\n"
     ]
    }
   ],
   "source": [
    "def ligne(n: int, m: int) -> None:\n",
    "    print(\"A\" * n + \"B\" * m)\n",
    "\n",
    "\n",
    "ligne(3, 4)"
   ]
  },
  {
   "attachments": {},
   "cell_type": "markdown",
   "metadata": {},
   "source": [
    "2. Écrire une fonction `carre(m : int)` tel que l'appel `carre(10)` donne l'affichage ci-dessous.\n",
    "\n",
    "```\n",
    "ABBBBBBBBB\n",
    "AABBBBBBBB\n",
    "AAABBBBBBB\n",
    "AAAABBBBBB\n",
    "AAAAABBBBB\n",
    "AAAAAABBBB\n",
    "AAAAAAABBB\n",
    "AAAAAAAABB\n",
    "AAAAAAAAAB\n",
    "AAAAAAAAAA\n",
    "```\n"
   ]
  },
  {
   "cell_type": "code",
   "execution_count": 8,
   "metadata": {},
   "outputs": [
    {
     "name": "stdout",
     "output_type": "stream",
     "text": [
      "ABBBBBBBBB\n",
      "AABBBBBBBB\n",
      "AAABBBBBBB\n",
      "AAAABBBBBB\n",
      "AAAAABBBBB\n",
      "AAAAAABBBB\n",
      "AAAAAAABBB\n",
      "AAAAAAAABB\n",
      "AAAAAAAAAB\n",
      "AAAAAAAAAA\n"
     ]
    }
   ],
   "source": [
    "def carre(m: int) -> None:\n",
    "    for i in range(1, m + 1):\n",
    "        ligne(i, m - i)\n",
    "\n",
    "\n",
    "carre(10)"
   ]
  },
  {
   "attachments": {},
   "cell_type": "markdown",
   "metadata": {},
   "source": [
    "### Exercice n°7\n",
    "\n",
    "Pour simuler le lancer d'un dé équilibré en python, on utilise la fonction `randint` du module `random` : `randint(1,6)`.\n",
    "\n",
    "1. Ecrire une fonction `moyenneDé(n: int) -> float` qui renvoie la valeur moyenne des faces obtenues après $n$ lancers de dés.\n"
   ]
  },
  {
   "cell_type": "code",
   "execution_count": 9,
   "metadata": {},
   "outputs": [
    {
     "name": "stdout",
     "output_type": "stream",
     "text": [
      "La moyenne des dés obtenue sur 10000 lancers est 3.4702.\n"
     ]
    }
   ],
   "source": [
    "from random import randint\n",
    "\n",
    "\n",
    "def moyenneDé(n: int) -> float:\n",
    "    s = 0\n",
    "    for i in range(n):\n",
    "        s += randint(1, 6)\n",
    "    return s / n\n",
    "\n",
    "\n",
    "print(f\"La moyenne des dés obtenue sur 10000 lancers est {moyenneDé(10000)}.\")"
   ]
  },
  {
   "attachments": {},
   "cell_type": "markdown",
   "metadata": {},
   "source": [
    "2. Ecrire une fonction `premier6() -> int` qui affiche le numéro du premier lancer auquel on obtient un 6.\n"
   ]
  },
  {
   "cell_type": "code",
   "execution_count": 10,
   "metadata": {},
   "outputs": [
    {
     "name": "stdout",
     "output_type": "stream",
     "text": [
      "On obtient le premier 6 au bout de 8 lancers.\n"
     ]
    }
   ],
   "source": [
    "def premier6() -> int:\n",
    "    dé = 0\n",
    "    tour = 0\n",
    "    while dé != 6:\n",
    "        dé = randint(1, 6)\n",
    "        tour += 1\n",
    "    return tour\n",
    "\n",
    "\n",
    "print(f\"On obtient le premier 6 au bout de {premier6()} lancers.\")"
   ]
  },
  {
   "attachments": {},
   "cell_type": "markdown",
   "metadata": {},
   "source": [
    "3. Utiliser la fonction `premier6()` de la question précédente pour calculer le temps moyen d'attente d'un 6 pour un échantillon de taille 10000.\n"
   ]
  },
  {
   "cell_type": "code",
   "execution_count": 11,
   "metadata": {},
   "outputs": [
    {
     "name": "stdout",
     "output_type": "stream",
     "text": [
      "Il faut en moyenne 6.0917 lancers pour obtenir un 6.\n"
     ]
    }
   ],
   "source": [
    "s = 0\n",
    "\n",
    "for i in range(10000):\n",
    "    s += premier6()\n",
    "\n",
    "print(f\"Il faut en moyenne {s/10000} lancers pour obtenir un 6.\")\n"
   ]
  },
  {
   "attachments": {},
   "cell_type": "markdown",
   "metadata": {},
   "source": [
    "### Exercice n°8\n",
    "\n",
    "Soit f la fonction définie par $f(n) = n^2 − n + 41$ pour tout entier naturel $n$.\n",
    "\n",
    "1. Vérifier que si $0 \\leq n \\leq 40$, alors $f(n)$ est un nombre premier. On commencera par écrire une fonction `est_premier(n : int) -> bool` qui renvoie `True` si un entier est premier et `False` sinon.\n"
   ]
  },
  {
   "cell_type": "code",
   "execution_count": 12,
   "metadata": {},
   "outputs": [
    {
     "name": "stdout",
     "output_type": "stream",
     "text": [
      "Tous les f(n) pour n entre 0 et 40 sont premiers.\n"
     ]
    }
   ],
   "source": [
    "from math import floor\n",
    "\n",
    "\n",
    "def est_premier(n: int) -> bool:\n",
    "    if n == 1:\n",
    "        return False  # 1 n'est pas premier\n",
    "    for i in range(2, floor(sqrt(n)) + 1):\n",
    "        if (\n",
    "            n % i == 0\n",
    "        ):  # si n admet un diviseur autre que 1 et lui-même il n'est pas premier\n",
    "            return False\n",
    "    return True  # sinon il est premier\n",
    "\n",
    "\n",
    "res = True\n",
    "for i in range(41):\n",
    "    if not est_premier(i * i - i + 41):\n",
    "        res = False\n",
    "        print(\n",
    "            f\"Il existe un f(n) non premier pour n entre 0 et 40 : f({i}) = {i * i - i + 41}\"\n",
    "        )\n",
    "        break\n",
    "if res:\n",
    "    print(\"Tous les f(n) pour n entre 0 et 40 sont premiers.\")"
   ]
  },
  {
   "attachments": {},
   "cell_type": "markdown",
   "metadata": {},
   "source": [
    "2. Parmi les entiers naturels $n \\leq 100$, combien d’entre eux sont tels que $f(n)$ n’est pas un nombre premier ?\n"
   ]
  },
  {
   "cell_type": "code",
   "execution_count": 13,
   "metadata": {},
   "outputs": [
    {
     "name": "stdout",
     "output_type": "stream",
     "text": [
      "Il y a 14 f(n) non premiers pour n inférieur à 100.\n"
     ]
    }
   ],
   "source": [
    "compteur = 0\n",
    "for i in range(101):\n",
    "    if not est_premier(i * i - i + 41):\n",
    "        compteur += 1\n",
    "\n",
    "print(f\"Il y a {compteur} f(n) non premiers pour n inférieur à 100.\")\n"
   ]
  },
  {
   "attachments": {},
   "cell_type": "markdown",
   "metadata": {},
   "source": [
    "### Exercice n°9\n",
    "\n",
    "Pour tout entier naturel $n > 0$, on considère les sommes $s1(n) = 1 + 2 + 3 + ··· + n$ et $s3(n) = 1^3 + 2^3 + 3^3 + ··· + n^3$.\n",
    "\n",
    "1. Vérifier que $s1(100) = 5 050$ et que $s3(100) = 5 050^2$.\n"
   ]
  },
  {
   "cell_type": "code",
   "execution_count": 14,
   "metadata": {},
   "outputs": [
    {
     "name": "stdout",
     "output_type": "stream",
     "text": [
      "La somme des entiers de 1 à 100 est: 5050\n",
      "La somme des cubes des entiers de 1 à 100 est: 25502500\n"
     ]
    }
   ],
   "source": [
    "def s1(n: int) -> int:\n",
    "    somme = 0\n",
    "    for i in range(1, n + 1):\n",
    "        somme = somme + i\n",
    "    return somme\n",
    "\n",
    "\n",
    "print(\"La somme des entiers de 1 à 100 est:\", s1(100))\n",
    "\n",
    "\n",
    "def s3(n: int) -> int:\n",
    "    somme = 0\n",
    "    for i in range(1, n + 1):\n",
    "        somme = somme + i * i * i\n",
    "    return somme\n",
    "\n",
    "\n",
    "print(\"La somme des cubes des entiers de 1 à 100 est:\", s3(100))"
   ]
  },
  {
   "attachments": {},
   "cell_type": "markdown",
   "metadata": {},
   "source": [
    "2. Existe-t-il une valeur de $n$ inférieure à $1000$ telle que $s3(n) \\neq s1(n)^2$ ?\n"
   ]
  },
  {
   "cell_type": "code",
   "execution_count": 15,
   "metadata": {},
   "outputs": [
    {
     "name": "stdout",
     "output_type": "stream",
     "text": [
      "Il n'y a aucun n <= 1000 pour lequel s3(n) != s1(n) ** 2\n"
     ]
    }
   ],
   "source": [
    "res = False\n",
    "for n in range(1, 1001):\n",
    "    if s1(n) ** 2 != s3(n):\n",
    "        res = True\n",
    "        print(f\"Pour n = {n}, on a s3({n}) != s1({n}) ** 2\")\n",
    "        break\n",
    "\n",
    "if not res:\n",
    "    print(\"Il n'y a aucun n <= 1000 pour lequel s3(n) != s1(n) ** 2\")\n"
   ]
  },
  {
   "attachments": {},
   "cell_type": "markdown",
   "metadata": {},
   "source": [
    "### Exercice n°10\n",
    "\n",
    "En mathématiques, et plus particulièrement en combinatoire, les nombres de Catalan forment une suite d’entiers naturels utilisée dans divers problèmes de dénombrement. Les dix premiers nombres de Catalan (pour n de 0 à 9) sont : 1, 1, 2, 5, 14, 42, 132, 429, 1430, 4862. Le nombre de Catalan d’indice $n$, appelé n-ième nombre de Catalan, est défini par : $C_n = \\frac{(2n)!}{(n+1)!n!}$ où $n!$ désigne la factorielle du nombre $n$: $n! = 1 \\times 2 \\times \\dots \\times (n-1) \\times n$.\n",
    "\n",
    "1. Ecrire une fonction `factorielle(n : int) -> int` qui renvoie la valeur $n!$ pour l'appel `factorielle(n)`. Par convention, $0! = 1$.\n"
   ]
  },
  {
   "cell_type": "code",
   "execution_count": 16,
   "metadata": {},
   "outputs": [
    {
     "name": "stdout",
     "output_type": "stream",
     "text": [
      "0! = 1\n",
      "1! = 1\n",
      "4! = 24\n"
     ]
    }
   ],
   "source": [
    "def factorielle(n: int) -> int:\n",
    "    p = 1\n",
    "    for i in range(1, n + 1):\n",
    "        p *= i\n",
    "    return p\n",
    "\n",
    "\n",
    "print(f\"0! = {factorielle(0)}\")\n",
    "print(f\"1! = {factorielle(1)}\")\n",
    "print(f\"4! = {factorielle(4)}\")"
   ]
  },
  {
   "attachments": {},
   "cell_type": "markdown",
   "metadata": {},
   "source": [
    "2. Ecrire une fonction `catalan(n: int) -> int` qui renvoie le n-ième nombre de Catalan.\n"
   ]
  },
  {
   "cell_type": "code",
   "execution_count": 17,
   "metadata": {},
   "outputs": [
    {
     "name": "stdout",
     "output_type": "stream",
     "text": [
      "C0 = 1\n",
      "C1 = 1\n",
      "C7 = 429\n"
     ]
    }
   ],
   "source": [
    "def catalan(n: int) -> int:\n",
    "    return factorielle(2 * n) // (factorielle(n + 1) * factorielle(n))\n",
    "\n",
    "\n",
    "print(f\"C0 = {catalan(0)}\")\n",
    "print(f\"C1 = {catalan(1)}\")\n",
    "print(f\"C7 = {catalan(7)}\")"
   ]
  },
  {
   "attachments": {},
   "cell_type": "markdown",
   "metadata": {},
   "source": [
    "### Exercice n°11\n",
    "\n",
    "1. Le PGCD de deux entiers $a$ et $b$ est le plus grand commun diviseur de ces deux entiers. Par exemple, le plus grand commun diviseur entre $30$ et $75$ est $15$. L'algorithme d'Euclide permet de trouver le PGCD de deux nombres en effectuant des divisions euclidiennes successives: on commence par la division euclidienne de $a$ par $b$, pour laquelle on obtient un reste $r$, puis on poursuit avec la division euclidienne de $b$ par $r$, etc. On s'arrête lorsque l'on obtient un reste de 0. Le PGCD est le dernier reste non nul obtenu.\n",
    "\n",
    "Ecrire une fonction `PGCD(a: int, b: int) -> int` qui renvoie le PGCD de deux entiers $a$ et $b$ en suivant l'algorithme d'Euclide.\n"
   ]
  },
  {
   "cell_type": "code",
   "execution_count": 18,
   "metadata": {},
   "outputs": [
    {
     "name": "stdout",
     "output_type": "stream",
     "text": [
      "Le PGCD de 30 et 75 est 15\n"
     ]
    }
   ],
   "source": [
    "def PGCD(a: int, b: int) -> int:\n",
    "    d1 = a\n",
    "    d2 = b\n",
    "    r = d1 % d2\n",
    "    while r != 0:\n",
    "        d1 = d2\n",
    "        d2 = r\n",
    "        r = d1 % d2\n",
    "    return d2\n",
    "\n",
    "\n",
    "print(f\"Le PGCD de 30 et 75 est {PGCD(30, 75)}\")"
   ]
  },
  {
   "attachments": {},
   "cell_type": "markdown",
   "metadata": {},
   "source": [
    "2. Le PPCM de deux entiers $a$ et $b$ est le plus petit commun multiple de ces deux entiers. Par exemple, le plus petit commun mutliple de 30 et 75 est 150. Pour calculer le PPCM de deux entiers, on peut utiliser la formule $a \\times b = ppcm(a, b) \\times pgcd(a, b)$.\n",
    "\n",
    "Écrire une fonction `PPCM(a: int, b: int) -> int` qui renvoie le PPCM de deux entiers $a$ et $b$.\n"
   ]
  },
  {
   "cell_type": "code",
   "execution_count": 19,
   "metadata": {},
   "outputs": [
    {
     "name": "stdout",
     "output_type": "stream",
     "text": [
      "Le PPCM de 30 et 75 est 150\n"
     ]
    }
   ],
   "source": [
    "def PPCM(a: int, b: int) -> int:\n",
    "    return (a * b) // PGCD(a, b)\n",
    "\n",
    "\n",
    "print(f\"Le PPCM de 30 et 75 est {PPCM(30, 75)}\")"
   ]
  },
  {
   "attachments": {},
   "cell_type": "markdown",
   "metadata": {},
   "source": [
    "### Exercice n°12\n",
    "\n",
    "Le 1er janvier 1900 était un lundi. Écrire une fonction `nom_du_jour(jour: int, mois: int, annee: int) -> str` qui affiche le jour de la semaine correspondant à la date\n",
    "renseignée, en supposant qu’elle est postérieure au 1er janvier 1900. On donne ci-dessous un jeu de tests permettant de vérifier que l’algorithme fournit bien les bons résultats.\n",
    "\n",
    "```\n",
    "nom_du_jour(1,1,1900) # doit afficher lundi\n",
    "nom_du_jour(1,1,2000) # doit afficher samedi\n",
    "nom_du_jour(1,1,2019) # doit afficher mardi\n",
    "nom_du_jour(1,1,2020) # doit afficher mercredi\n",
    "nom_du_jour(18,6,1940) # doit afficher mardi\n",
    "nom_du_jour(20,7,1969) # doit afficher dimanche\n",
    "nom_du_jour(4,11,2008) # doit afficher mardi\n",
    "```\n"
   ]
  },
  {
   "cell_type": "code",
   "execution_count": 20,
   "metadata": {},
   "outputs": [
    {
     "name": "stdout",
     "output_type": "stream",
     "text": [
      "01/01/1900: lundi\n",
      "01/01/2000: samedi\n",
      "01/01/2019: mardi\n",
      "01/01/2020: mercredi\n",
      "18/06/1940: mardi\n",
      "20/07/1969: dimanche\n",
      "04/11/2008: mardi\n",
      "25/09/2020: vendredi\n",
      "08/06/2022: mercredi\n"
     ]
    }
   ],
   "source": [
    "def bissextile(annee: int) -> bool:\n",
    "    return (annee % 400 == 0) or (annee % 4 == 0 and annee % 100 != 0)\n",
    "\n",
    "\n",
    "def nom_du_jour(jour: int, mois: int, annee: int) -> str:\n",
    "    nb_jours = 0\n",
    "    for i in range(1900, annee):\n",
    "        if bissextile(i):\n",
    "            nb_jours += 366\n",
    "        else:\n",
    "            nb_jours += 365\n",
    "    for j in range(1, mois):\n",
    "        if j == 2 and bissextile(annee):\n",
    "            nb_jours += 29\n",
    "        elif j == 2:\n",
    "            nb_jours += 28\n",
    "        elif j <= 7 and j % 2 == 1:\n",
    "            nb_jours += 31\n",
    "        elif j <= 7 and j % 2 == 0:\n",
    "            nb_jours += 30\n",
    "        elif j >= 8 and j % 2 == 0:\n",
    "            nb_jours += 31\n",
    "        elif j >= 8 and j % 2 == 1:\n",
    "            nb_jours += 30\n",
    "    nb_jours += jour - 1\n",
    "    reste = nb_jours % 7\n",
    "    if reste == 0:\n",
    "        return \"lundi\"\n",
    "    elif reste == 1:\n",
    "        return \"mardi\"\n",
    "    elif reste == 2:\n",
    "        return \"mercredi\"\n",
    "    elif reste == 3:\n",
    "        return \"jeudi\"\n",
    "    elif reste == 4:\n",
    "        return \"vendredi\"\n",
    "    elif reste == 5:\n",
    "        return \"samedi\"\n",
    "    else:\n",
    "        return \"dimanche\"\n",
    "\n",
    "\n",
    "print(f\"01/01/1900: {nom_du_jour(1,1,1900)}\")\n",
    "print(f\"01/01/2000: {nom_du_jour(1,1,2000)}\")\n",
    "print(f\"01/01/2019: {nom_du_jour(1,1,2019)}\")\n",
    "print(f\"01/01/2020: {nom_du_jour(1,1,2020)}\")\n",
    "print(f\"18/06/1940: {nom_du_jour(18,6,1940)}\")\n",
    "print(f\"20/07/1969: {nom_du_jour(20,7,1969)}\")\n",
    "print(f\"04/11/2008: {nom_du_jour(4,11,2008)}\")\n",
    "print(f\"25/09/2020: {nom_du_jour(25,9,2020)}\")\n",
    "print(f\"08/06/2022: {nom_du_jour(8,6,2022)}\")"
   ]
  },
  {
   "attachments": {},
   "cell_type": "markdown",
   "metadata": {},
   "source": [
    "### Exercice n°13\n",
    "\n",
    "L’année jubilaire survient chaque fois que la fête de saint Jacques, le 25 juillet, tombe un dimanche.\n",
    "\n",
    "1. Quelle sera la prochaine année jubilaire ?\n"
   ]
  },
  {
   "cell_type": "code",
   "execution_count": 21,
   "metadata": {},
   "outputs": [
    {
     "name": "stdout",
     "output_type": "stream",
     "text": [
      "La prochaine année jubilaire est: 2027\n"
     ]
    }
   ],
   "source": [
    "def jubilaire(annee: int) -> bool:\n",
    "    return nom_du_jour(25, 7, annee) == \"dimanche\"\n",
    "\n",
    "\n",
    "def prochaine_jubilaire(debut: int) -> int:\n",
    "    annee = debut\n",
    "    arret = False\n",
    "    while not arret:\n",
    "        arret = jubilaire(annee)\n",
    "        if arret:\n",
    "            return annee\n",
    "        annee += 1\n",
    "    return 0\n",
    "\n",
    "\n",
    "print(f\"La prochaine année jubilaire est: {prochaine_jubilaire(2022)}\")"
   ]
  },
  {
   "attachments": {},
   "cell_type": "markdown",
   "metadata": {},
   "source": [
    "2. Lister les années jubilaires du XXIème siècle.\n"
   ]
  },
  {
   "cell_type": "code",
   "execution_count": 22,
   "metadata": {},
   "outputs": [
    {
     "name": "stdout",
     "output_type": "stream",
     "text": [
      "Les années jubilaires du XXIe siècle sont:\n",
      "2004\n",
      "2010\n",
      "2021\n",
      "2027\n",
      "2032\n",
      "2038\n",
      "2049\n",
      "2055\n",
      "2060\n",
      "2066\n",
      "2077\n",
      "2083\n",
      "2088\n",
      "2094\n",
      "2100\n"
     ]
    }
   ],
   "source": [
    "def jubilaires_21e() -> None:\n",
    "    for annee in range(2000, 2101):\n",
    "        if jubilaire(annee):\n",
    "            print(annee)\n",
    "\n",
    "\n",
    "print(\"Les années jubilaires du XXIe siècle sont:\")\n",
    "jubilaires_21e()"
   ]
  },
  {
   "attachments": {},
   "cell_type": "markdown",
   "metadata": {},
   "source": [
    "### Exercice n°14\n",
    "\n",
    "Une année compte entre 1 et 3 « vendredi treize » : convenons d’appeler « année infernale » une année comptant exactement 3 vendredi treize.\n",
    "\n",
    "1. Lister les années infernales du 21ème siècle.\n"
   ]
  },
  {
   "cell_type": "code",
   "execution_count": 23,
   "metadata": {},
   "outputs": [
    {
     "name": "stdout",
     "output_type": "stream",
     "text": [
      "Les années infernales du XXIe siècle sont:\n",
      "2009\n",
      "2012\n",
      "2015\n",
      "2026\n",
      "2037\n",
      "2040\n",
      "2043\n",
      "2054\n",
      "2065\n",
      "2068\n",
      "2071\n",
      "2082\n",
      "2093\n",
      "2096\n",
      "2099\n"
     ]
    }
   ],
   "source": [
    "def infernale(annee: int) -> bool:\n",
    "    compteur = 0\n",
    "    for i in range(1, 13):\n",
    "        if nom_du_jour(13, i, annee) == \"vendredi\":\n",
    "            compteur += 1\n",
    "    return compteur == 3\n",
    "\n",
    "\n",
    "def infernales_21e():\n",
    "    for annee in range(2000, 2101):\n",
    "        if infernale(annee):\n",
    "            print(annee)\n",
    "\n",
    "\n",
    "print(\"Les années infernales du XXIe siècle sont:\")\n",
    "infernales_21e()"
   ]
  },
  {
   "attachments": {},
   "cell_type": "markdown",
   "metadata": {},
   "source": [
    "2. Quelle sera la prochaine année à la fois jubilaire et infernale ?\n"
   ]
  },
  {
   "cell_type": "code",
   "execution_count": 24,
   "metadata": {},
   "outputs": [
    {
     "ename": "KeyboardInterrupt",
     "evalue": "",
     "output_type": "error",
     "traceback": [
      "\u001b[0;31m---------------------------------------------------------------------------\u001b[0m",
      "\u001b[0;31mKeyboardInterrupt\u001b[0m                         Traceback (most recent call last)",
      "Cell \u001b[0;32mIn[24], line 11\u001b[0m\n\u001b[1;32m      8\u001b[0m         jub \u001b[39m=\u001b[39m jubilaire(annee)\n\u001b[1;32m      9\u001b[0m     \u001b[39mreturn\u001b[39;00m annee\n\u001b[0;32m---> 11\u001b[0m \u001b[39mprint\u001b[39m(\u001b[39mf\u001b[39m\u001b[39m\"\u001b[39m\u001b[39mLa prochaine année infernale et jubilaire est: \u001b[39m\u001b[39m{\u001b[39;00minfernale_jubilaire()\u001b[39m}\u001b[39;00m\u001b[39m\"\u001b[39m)\n",
      "Cell \u001b[0;32mIn[24], line 7\u001b[0m, in \u001b[0;36minfernale_jubilaire\u001b[0;34m()\u001b[0m\n\u001b[1;32m      5\u001b[0m \u001b[39mwhile\u001b[39;00m \u001b[39mnot\u001b[39;00m (inf \u001b[39mand\u001b[39;00m jub):\n\u001b[1;32m      6\u001b[0m     annee \u001b[39m+\u001b[39m\u001b[39m=\u001b[39m \u001b[39m1\u001b[39m\n\u001b[0;32m----> 7\u001b[0m     inf \u001b[39m=\u001b[39m infernale(annee)\n\u001b[1;32m      8\u001b[0m     jub \u001b[39m=\u001b[39m jubilaire(annee)\n\u001b[1;32m      9\u001b[0m \u001b[39mreturn\u001b[39;00m annee\n",
      "Cell \u001b[0;32mIn[23], line 4\u001b[0m, in \u001b[0;36minfernale\u001b[0;34m(annee)\u001b[0m\n\u001b[1;32m      2\u001b[0m compteur \u001b[39m=\u001b[39m \u001b[39m0\u001b[39m\n\u001b[1;32m      3\u001b[0m \u001b[39mfor\u001b[39;00m i \u001b[39min\u001b[39;00m \u001b[39mrange\u001b[39m(\u001b[39m1\u001b[39m, \u001b[39m13\u001b[39m):\n\u001b[0;32m----> 4\u001b[0m     \u001b[39mif\u001b[39;00m nom_du_jour(\u001b[39m13\u001b[39;49m, i, annee) \u001b[39m==\u001b[39m \u001b[39m\"\u001b[39m\u001b[39mvendredi\u001b[39m\u001b[39m\"\u001b[39m:\n\u001b[1;32m      5\u001b[0m         compteur \u001b[39m+\u001b[39m\u001b[39m=\u001b[39m \u001b[39m1\u001b[39m\n\u001b[1;32m      6\u001b[0m \u001b[39mreturn\u001b[39;00m compteur \u001b[39m==\u001b[39m \u001b[39m3\u001b[39m\n",
      "Cell \u001b[0;32mIn[20], line 10\u001b[0m, in \u001b[0;36mnom_du_jour\u001b[0;34m(jour, mois, annee)\u001b[0m\n\u001b[1;32m      8\u001b[0m         nb_jours \u001b[39m+\u001b[39m\u001b[39m=\u001b[39m \u001b[39m366\u001b[39m\n\u001b[1;32m      9\u001b[0m     \u001b[39melse\u001b[39;00m:\n\u001b[0;32m---> 10\u001b[0m         nb_jours \u001b[39m+\u001b[39m\u001b[39m=\u001b[39m \u001b[39m365\u001b[39m\n\u001b[1;32m     11\u001b[0m \u001b[39mfor\u001b[39;00m j \u001b[39min\u001b[39;00m \u001b[39mrange\u001b[39m(\u001b[39m1\u001b[39m, mois):\n\u001b[1;32m     12\u001b[0m     \u001b[39mif\u001b[39;00m j \u001b[39m==\u001b[39m \u001b[39m2\u001b[39m \u001b[39mand\u001b[39;00m bissextile(annee):\n",
      "\u001b[0;31mKeyboardInterrupt\u001b[0m: "
     ]
    }
   ],
   "source": [
    "def infernale_jubilaire() -> int:\n",
    "    annee = 2022\n",
    "    inf = False\n",
    "    jub = False\n",
    "    while not (inf and jub):\n",
    "        annee += 1\n",
    "        inf = infernale(annee)\n",
    "        jub = jubilaire(annee)\n",
    "    return annee\n",
    "\n",
    "\n",
    "print(f\"La prochaine année infernale et jubilaire est: {infernale_jubilaire()}\")"
   ]
  }
 ],
 "metadata": {
  "interpreter": {
   "hash": "aee8b7b246df8f9039afb4144a1f6fd8d2ca17a180786b69acc140d282b71a49"
  },
  "kernelspec": {
   "display_name": "Python 3.10.0 64-bit",
   "language": "python",
   "name": "python3"
  },
  "language_info": {
   "codemirror_mode": {
    "name": "ipython",
    "version": 3
   },
   "file_extension": ".py",
   "mimetype": "text/x-python",
   "name": "python",
   "nbconvert_exporter": "python",
   "pygments_lexer": "ipython3",
   "version": "3.11.4"
  },
  "orig_nbformat": 4
 },
 "nbformat": 4,
 "nbformat_minor": 2
}
