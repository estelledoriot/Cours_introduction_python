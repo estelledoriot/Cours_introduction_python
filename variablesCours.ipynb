{
 "cells": [
  {
   "attachments": {},
   "cell_type": "markdown",
   "metadata": {},
   "source": [
    "**Estelle Doriot**\n",
    "\n",
    "_NSI 1ère_\n",
    "\n",
    "---\n",
    "# Cours : Variables et types\n",
    "---"
   ]
  },
  {
   "attachments": {},
   "cell_type": "markdown",
   "metadata": {},
   "source": [
    "## Types\n",
    "\n",
    "1. Types **primitifs** :\n",
    "   - entiers : `int`\n",
    "   - flottants : `float`\n",
    "   - booléens : `bool`\n",
    "   - chaînes de caractères : `str`\n",
    "2. Types **composés** : ..."
   ]
  },
  {
   "cell_type": "code",
   "execution_count": 1,
   "metadata": {},
   "outputs": [
    {
     "name": "stdout",
     "output_type": "stream",
     "text": [
      "2022 <class 'int'>\n",
      "12.5 <class 'float'>\n",
      "True <class 'bool'>\n",
      "bonjour <class 'str'>\n"
     ]
    }
   ],
   "source": [
    "print(2022, type(2022))\n",
    "print(12.5, type(12.25))\n",
    "print(True, type(True))\n",
    "print(\"bonjour\", type(\"bonjour\"))"
   ]
  },
  {
   "attachments": {},
   "cell_type": "markdown",
   "metadata": {},
   "source": [
    "## Opérateurs\n"
   ]
  },
  {
   "attachments": {},
   "cell_type": "markdown",
   "metadata": {},
   "source": [
    "### Opérateurs arithmétiques\n",
    "\n",
    "| Opérateurs | Signification    |\n",
    "|------------|------------------|\n",
    "|    +       | addition         |\n",
    "|    -       | soustraction     |\n",
    "|    *       | multiplication   |\n",
    "|    /       | division         |\n",
    "|    //      | division entière |\n",
    "|    %       | modulo           |\n",
    "|    **      | puissance        |"
   ]
  },
  {
   "cell_type": "code",
   "execution_count": 2,
   "metadata": {},
   "outputs": [
    {
     "name": "stdout",
     "output_type": "stream",
     "text": [
      "8 <class 'int'>\n",
      "8.0 <class 'float'>\n",
      "3.3333333333333335 <class 'float'>\n",
      "3 <class 'int'>\n",
      "1 <class 'int'>\n"
     ]
    }
   ],
   "source": [
    "print(3 + 5, type(3+5)) # 3 et 5 sont des entiers donc le résultat est un entier\n",
    "print(3. + 5, type(3.+5)) # 3. est un flottant donc le résultat est un flottant\n",
    "print(10 / 3, type(10/3)) # le résultat d'une division est toujours un flottant\n",
    "print(10 // 3, type(10//3)) # le quotient de la division euclidienne : 10 = 3 * 3 + 1 \n",
    "print(10 % 3, type(10%3)) # le reste de la division euclidienne : 10 = 3 * 3 + 1"
   ]
  },
  {
   "attachments": {},
   "cell_type": "markdown",
   "metadata": {},
   "source": [
    "### Opérateurs de chaînes de caractères\n",
    "\n",
    "| Opérateurs | Signification |\n",
    "|------------|---------------|\n",
    "|     +      | concaténation |\n",
    "|     *      | duplication   |"
   ]
  },
  {
   "cell_type": "code",
   "execution_count": 3,
   "metadata": {},
   "outputs": [
    {
     "name": "stdout",
     "output_type": "stream",
     "text": [
      "bonjour tout le monde\n",
      "hellohellohellohellohello\n"
     ]
    }
   ],
   "source": [
    "print(\"bonjour \" + \"tout le monde\")\n",
    "print(\"hello\" * 5)"
   ]
  },
  {
   "attachments": {},
   "cell_type": "markdown",
   "metadata": {},
   "source": [
    "### Opérateurs de comparaison\n",
    "\n",
    "| Opérateurs | Signification     |\n",
    "|------------|-------------------|\n",
    "|     <      | inférieur         |\n",
    "|     <=     | inférieur ou égal |\n",
    "|     >      | supérieur         |\n",
    "|     >=     | supérieur ou égal |\n",
    "|     ==     | égal              |\n",
    "|     !=     | différent         |"
   ]
  },
  {
   "cell_type": "code",
   "execution_count": 4,
   "metadata": {},
   "outputs": [
    {
     "name": "stdout",
     "output_type": "stream",
     "text": [
      "True\n",
      "True\n"
     ]
    },
    {
     "ename": "TypeError",
     "evalue": "'<' not supported between instances of 'int' and 'str'",
     "output_type": "error",
     "traceback": [
      "\u001b[0;31m---------------------------------------------------------------------------\u001b[0m",
      "\u001b[0;31mTypeError\u001b[0m                                 Traceback (most recent call last)",
      "Cell \u001b[0;32mIn[4], line 3\u001b[0m\n\u001b[1;32m      1\u001b[0m \u001b[39mprint\u001b[39m(\u001b[39m3\u001b[39m \u001b[39m<\u001b[39m \u001b[39m9.5\u001b[39m) \u001b[39m# il est possible de comparer un entier et un flottant\u001b[39;00m\n\u001b[1;32m      2\u001b[0m \u001b[39mprint\u001b[39m(\u001b[39m'\u001b[39m\u001b[39mbonjour\u001b[39m\u001b[39m'\u001b[39m \u001b[39m<\u001b[39m \u001b[39m'\u001b[39m\u001b[39msalut\u001b[39m\u001b[39m'\u001b[39m) \u001b[39m# les chaines de caractères sont comparées avec l'ordre alphabétique\u001b[39;00m\n\u001b[0;32m----> 3\u001b[0m \u001b[39mprint\u001b[39m(\u001b[39m3\u001b[39;49m \u001b[39m<\u001b[39;49m \u001b[39m'\u001b[39;49m\u001b[39ma\u001b[39;49m\u001b[39m'\u001b[39;49m) \u001b[39m# erreur : il n'est pas possible de comparer un entier et une chaîne de caractères\u001b[39;00m\n",
      "\u001b[0;31mTypeError\u001b[0m: '<' not supported between instances of 'int' and 'str'"
     ]
    }
   ],
   "source": [
    "print(3 < 9.5) # il est possible de comparer un entier et un flottant\n",
    "print('bonjour' < 'salut') # les chaines de caractères sont comparées avec l'ordre alphabétique\n",
    "print(3 < 'a') # erreur : il n'est pas possible de comparer un entier et une chaîne de caractères"
   ]
  },
  {
   "attachments": {},
   "cell_type": "markdown",
   "metadata": {},
   "source": [
    "### Opérateurs booléens\n",
    "\n",
    "| Opérateurs | Signification     |\n",
    "|------------|-------------------|\n",
    "|    not     | non               |\n",
    "|    and     | et                |\n",
    "|    or      | ou                |"
   ]
  },
  {
   "cell_type": "code",
   "execution_count": 5,
   "metadata": {},
   "outputs": [
    {
     "name": "stdout",
     "output_type": "stream",
     "text": [
      "True\n",
      "False\n"
     ]
    }
   ],
   "source": [
    "print((3 == 3) or (9 > 24))\n",
    "print((9 > 24) and (3 == 3))"
   ]
  },
  {
   "attachments": {},
   "cell_type": "markdown",
   "metadata": {},
   "source": [
    "## Conversions de types\n",
    "\n",
    "Fonctions de conversion de types:\n",
    "- `int`: conversion en entier\n",
    "- `float`: conversion en flottant\n",
    "- `str`: conversion en chaîne de caractères."
   ]
  },
  {
   "cell_type": "code",
   "execution_count": 6,
   "metadata": {},
   "outputs": [
    {
     "name": "stdout",
     "output_type": "stream",
     "text": [
      "1\n",
      "3.143.14\n",
      "3 <class 'int'>\n"
     ]
    },
    {
     "ename": "ValueError",
     "evalue": "invalid literal for int() with base 10: 'hello'",
     "output_type": "error",
     "traceback": [
      "\u001b[0;31m---------------------------------------------------------------------------\u001b[0m",
      "\u001b[0;31mValueError\u001b[0m                                Traceback (most recent call last)",
      "Cell \u001b[0;32mIn[6], line 8\u001b[0m\n\u001b[1;32m      6\u001b[0m a \u001b[39m=\u001b[39m \u001b[39mint\u001b[39m(\u001b[39m'\u001b[39m\u001b[39m3\u001b[39m\u001b[39m'\u001b[39m) \u001b[39m# la chaîne '3' a été convertie en entier 3\u001b[39;00m\n\u001b[1;32m      7\u001b[0m \u001b[39mprint\u001b[39m(a, \u001b[39mtype\u001b[39m(a))\n\u001b[0;32m----> 8\u001b[0m \u001b[39mprint\u001b[39m(\u001b[39mint\u001b[39;49m(\u001b[39m'\u001b[39;49m\u001b[39mhello\u001b[39;49m\u001b[39m'\u001b[39;49m)) \u001b[39m# si la chaîne de caractères ne contient pas d'entier, il n'est pas possible de la convertir\u001b[39;00m\n",
      "\u001b[0;31mValueError\u001b[0m: invalid literal for int() with base 10: 'hello'"
     ]
    }
   ],
   "source": [
    "x = int(1.999) # la conversion d'un entier en flottant ne garde que la partie entière\n",
    "print(x)\n",
    "s = str(3.14)\n",
    "t = s + s # le + fait une concaténation\n",
    "print(t)\n",
    "a = int('3') # la chaîne '3' a été convertie en entier 3\n",
    "print(a, type(a))\n",
    "print(int('hello')) # si la chaîne de caractères ne contient pas d'entier, il n'est pas possible de la convertir"
   ]
  },
  {
   "attachments": {},
   "cell_type": "markdown",
   "metadata": {},
   "source": [
    "## Entrées/sorties\n",
    "\n",
    "### Sorties\n",
    "\n",
    "On utilise la fonction `print`."
   ]
  },
  {
   "cell_type": "code",
   "execution_count": 7,
   "metadata": {},
   "outputs": [
    {
     "name": "stdout",
     "output_type": "stream",
     "text": [
      "3.5\n",
      "Bonjour\n",
      "John a 30 ans\n",
      "John a 30 ans\n",
      "Bonjour Jean-Paul\n",
      "3*5*7\n"
     ]
    }
   ],
   "source": [
    "print(3.5)\n",
    "print(\"Bonjour\")\n",
    "\n",
    "nom = 'John'\n",
    "age = 30\n",
    "print(nom, 'a', age, 'ans')\n",
    "\n",
    "print(f\"{nom} a {age} ans\") # f-string\n",
    "\n",
    "print('Bonjour', end = ' ')\n",
    "print('Jean-Paul')\n",
    "\n",
    "print(3, 5, 7, sep = '*')"
   ]
  },
  {
   "attachments": {},
   "cell_type": "markdown",
   "metadata": {},
   "source": [
    "## Entrées\n",
    "\n",
    "On utilise la fonction `input`."
   ]
  },
  {
   "cell_type": "code",
   "execution_count": 8,
   "metadata": {},
   "outputs": [
    {
     "name": "stdout",
     "output_type": "stream",
     "text": [
      "Bonjour estelle\n"
     ]
    }
   ],
   "source": [
    "nom = input(\"Entrez votre nom: \")\n",
    "print(\"Bonjour\", nom)"
   ]
  },
  {
   "cell_type": "code",
   "execution_count": 9,
   "metadata": {},
   "outputs": [
    {
     "ename": "TypeError",
     "evalue": "unsupported operand type(s) for -: 'int' and 'str'",
     "output_type": "error",
     "traceback": [
      "\u001b[0;31m---------------------------------------------------------------------------\u001b[0m",
      "\u001b[0;31mTypeError\u001b[0m                                 Traceback (most recent call last)",
      "Cell \u001b[0;32mIn[9], line 2\u001b[0m\n\u001b[1;32m      1\u001b[0m age \u001b[39m=\u001b[39m \u001b[39minput\u001b[39m(\u001b[39m\"\u001b[39m\u001b[39mEntrez votre age: \u001b[39m\u001b[39m\"\u001b[39m)\n\u001b[0;32m----> 2\u001b[0m \u001b[39mprint\u001b[39m(\u001b[39m\"\u001b[39m\u001b[39mVous avez\u001b[39m\u001b[39m\"\u001b[39m, \u001b[39m77\u001b[39;49m \u001b[39m-\u001b[39;49m age, \u001b[39m\"\u001b[39m\u001b[39mans de différence avec le Père Noël\u001b[39m\u001b[39m\"\u001b[39m)\n",
      "\u001b[0;31mTypeError\u001b[0m: unsupported operand type(s) for -: 'int' and 'str'"
     ]
    }
   ],
   "source": [
    "age = input(\"Entrez votre age: \")\n",
    "print(\"Vous avez\", 77 - age, \"ans de différence avec le Père Noël\")"
   ]
  },
  {
   "cell_type": "code",
   "execution_count": 10,
   "metadata": {},
   "outputs": [
    {
     "name": "stdout",
     "output_type": "stream",
     "text": [
      "Vous avez 45 ans de différence avec le Père Noël\n"
     ]
    }
   ],
   "source": [
    "age = int(input(\"Entrez votre age: \"))\n",
    "print(\"Vous avez\", 77 - age, \"ans de différence avec le Père Noël\")"
   ]
  },
  {
   "attachments": {},
   "cell_type": "markdown",
   "metadata": {},
   "source": [
    "## Modules"
   ]
  },
  {
   "cell_type": "code",
   "execution_count": 11,
   "metadata": {},
   "outputs": [
    {
     "name": "stdout",
     "output_type": "stream",
     "text": [
      "1.4142135623730951\n"
     ]
    }
   ],
   "source": [
    "from math import sqrt, cos, sin\n",
    "\n",
    "x = sqrt(2)\n",
    "print(x)"
   ]
  },
  {
   "cell_type": "code",
   "execution_count": 12,
   "metadata": {},
   "outputs": [
    {
     "name": "stdout",
     "output_type": "stream",
     "text": [
      "1.4142135623730951\n"
     ]
    }
   ],
   "source": [
    "from math import *\n",
    "\n",
    "x = sqrt(2)\n",
    "print(x)"
   ]
  },
  {
   "cell_type": "code",
   "execution_count": 13,
   "metadata": {},
   "outputs": [
    {
     "name": "stdout",
     "output_type": "stream",
     "text": [
      "1.4142135623730951\n"
     ]
    }
   ],
   "source": [
    "import math\n",
    "\n",
    "x = math.sqrt(2)\n",
    "print(x)"
   ]
  },
  {
   "cell_type": "code",
   "execution_count": 1,
   "metadata": {},
   "outputs": [
    {
     "name": "stdout",
     "output_type": "stream",
     "text": [
      "1.4142135623730951\n"
     ]
    }
   ],
   "source": [
    "import math as mt\n",
    "\n",
    "x = mt.sqrt(2)\n",
    "print(x)"
   ]
  }
 ],
 "metadata": {
  "interpreter": {
   "hash": "aee8b7b246df8f9039afb4144a1f6fd8d2ca17a180786b69acc140d282b71a49"
  },
  "kernelspec": {
   "display_name": "Python 3.7.4 64-bit",
   "language": "python",
   "name": "python3"
  },
  "language_info": {
   "codemirror_mode": {
    "name": "ipython",
    "version": 3
   },
   "file_extension": ".py",
   "mimetype": "text/x-python",
   "name": "python",
   "nbconvert_exporter": "python",
   "pygments_lexer": "ipython3",
   "version": "3.11.4"
  },
  "orig_nbformat": 4
 },
 "nbformat": 4,
 "nbformat_minor": 2
}
