{
 "cells": [
  {
   "cell_type": "markdown",
   "metadata": {},
   "source": [
    "**Estelle Doriot**\n",
    "\n",
    "_NSI 1ère_\n",
    "\n",
    "---\n",
    "# Cours : Listes\n",
    "---\n",
    "\n",
    "## Listes en python"
   ]
  },
  {
   "cell_type": "code",
   "execution_count": 9,
   "metadata": {},
   "outputs": [
    {
     "name": "stdout",
     "output_type": "stream",
     "text": [
      "Aragorn\n",
      "4\n",
      "Légolas\n",
      "Légolas\n",
      "['Bilbo', 'Gandalf', 'Aragorn', 'Gimli']\n"
     ]
    },
    {
     "ename": "IndexError",
     "evalue": "list index out of range",
     "output_type": "error",
     "traceback": [
      "\u001b[0;31m---------------------------------------------------------------------------\u001b[0m",
      "\u001b[0;31mIndexError\u001b[0m                                Traceback (most recent call last)",
      "\u001b[1;32m/Users/estelledoriot/Mon Drive/Workspace/Python/Cours_python/listesCours.ipynb Cellule 2\u001b[0m in \u001b[0;36m<cell line: 9>\u001b[0;34m()\u001b[0m\n\u001b[1;32m      <a href='vscode-notebook-cell:/Users/estelledoriot/Mon%20Drive/Workspace/Python/Cours_python/listesCours.ipynb#ch0000001?line=6'>7</a>\u001b[0m l1[\u001b[39m3\u001b[39m] \u001b[39m=\u001b[39m \u001b[39m\"\u001b[39m\u001b[39mGimli\u001b[39m\u001b[39m\"\u001b[39m\n\u001b[1;32m      <a href='vscode-notebook-cell:/Users/estelledoriot/Mon%20Drive/Workspace/Python/Cours_python/listesCours.ipynb#ch0000001?line=7'>8</a>\u001b[0m \u001b[39mprint\u001b[39m(l1)\n\u001b[0;32m----> <a href='vscode-notebook-cell:/Users/estelledoriot/Mon%20Drive/Workspace/Python/Cours_python/listesCours.ipynb#ch0000001?line=8'>9</a>\u001b[0m \u001b[39mprint\u001b[39m(l1[\u001b[39m4\u001b[39;49m])\n",
      "\u001b[0;31mIndexError\u001b[0m: list index out of range"
     ]
    }
   ],
   "source": [
    "l1 = [\"Bilbo\", \"Gandalf\", \"Aragorn\", \"Légolas\"]\n",
    "l2 = []\n",
    "print(l1[2])\n",
    "print(len(l1))\n",
    "print(l1[len(l1)-1])\n",
    "print(l1[-1])\n",
    "l1[3] = \"Gimli\"\n",
    "print(l1)\n",
    "print(l1[4])\n"
   ]
  },
  {
   "cell_type": "markdown",
   "metadata": {},
   "source": [
    "## Opérations sur les listes\n",
    "\n",
    "Il existe deux opérateurs sur les listes : \n",
    "| opérateurs | signification |\n",
    "| ---------- | ------------- |\n",
    "| +          | concaténation |\n",
    "| *          | répétition    |\n"
   ]
  },
  {
   "cell_type": "code",
   "execution_count": 5,
   "metadata": {},
   "outputs": [
    {
     "name": "stdout",
     "output_type": "stream",
     "text": [
      "['Bilbo', 'Gandalf', 'Gimli', 'Légolas', 'Aragorn', 'Sam']\n",
      "['Bilbo', 'Gandalf', 'Gimli', 'Bilbo', 'Gandalf', 'Gimli', 'Bilbo', 'Gandalf', 'Gimli']\n"
     ]
    }
   ],
   "source": [
    "equipe1 = [\"Bilbo\", \"Gandalf\", \"Gimli\"]\n",
    "equipe2 = [\"Légolas\", \"Aragorn\", \"Sam\"]\n",
    "joueurs = equipe1 + equipe2\n",
    "print(joueurs)\n",
    "print(equipe1 * 3)"
   ]
  },
  {
   "cell_type": "markdown",
   "metadata": {},
   "source": [
    "## Méthodes de listes\n",
    "\n",
    "| méthode         | action                                            |\n",
    "| --------------- | ------------------------------------------------- |\n",
    "| lst.append(x)   | ajoute l'élément x à la fin de la liste lst       |\n",
    "| lst.insert(i,x) | insère l'élément x à l'indice i dans la liste lst |\n",
    "| lst.remove(x)   | retire l'élément x de la liste lst                |\n",
    "| lst.pop(i)      | retire l'élément d'indice i de la liste lst       |\n",
    "| lst.pop()       | retire le dernier élément de la liste lst         |"
   ]
  },
  {
   "cell_type": "code",
   "execution_count": 10,
   "metadata": {},
   "outputs": [
    {
     "name": "stdout",
     "output_type": "stream",
     "text": [
      "['Bilbo', 'Gandalf', 'Aragorn', 'Légolas']\n",
      "['Bilbo', 'Gandalf', 'Aragorn', 'Légolas', 'Arwen']\n",
      "['Bilbo', 'Gandalf', 'Gimli', 'Aragorn', 'Légolas', 'Arwen']\n",
      "['Bilbo', 'Gimli', 'Aragorn', 'Légolas', 'Arwen']\n",
      "['Gimli', 'Aragorn', 'Légolas', 'Arwen']\n",
      "['Gimli', 'Aragorn', 'Légolas']\n"
     ]
    }
   ],
   "source": [
    "l1 = [\"Bilbo\", \"Gandalf\", \"Aragorn\", \"Légolas\"]\n",
    "print(l1)\n",
    "l1.append(\"Arwen\") # Arwen est ajoutée à la fin de la liste\n",
    "print(l1)\n",
    "l1.insert(2, \"Gimli\") # Gimli est ajouté en position 2\n",
    "print(l1)\n",
    "l1.remove(\"Gandalf\") # On retire Gandalf de la liste\n",
    "print(l1)\n",
    "l1.pop(0) # On retire Bilbo de la liste\n",
    "print(l1)\n",
    "l1.pop() # On retire Arwen de la liste\n",
    "print(l1)"
   ]
  },
  {
   "cell_type": "code",
   "execution_count": 11,
   "metadata": {},
   "outputs": [
    {
     "name": "stdout",
     "output_type": "stream",
     "text": [
      "0.004014015197753906\n"
     ]
    }
   ],
   "source": [
    "import time\n",
    "lst = []\n",
    "t0 = time.time()\n",
    "for n in range (50000):\n",
    "    lst.append(n)\n",
    "t1 = time.time()\n",
    "print(t1 - t0)"
   ]
  },
  {
   "cell_type": "code",
   "execution_count": 12,
   "metadata": {},
   "outputs": [
    {
     "name": "stdout",
     "output_type": "stream",
     "text": [
      "2.7923922538757324\n"
     ]
    }
   ],
   "source": [
    "import time\n",
    "lst = []\n",
    "t0 = time.time()\n",
    "for n in range (50000):\n",
    "    lst = lst + [n]\n",
    "t1 = time.time()\n",
    "print(t1 - t0)"
   ]
  },
  {
   "cell_type": "code",
   "execution_count": 13,
   "metadata": {},
   "outputs": [
    {
     "name": "stdout",
     "output_type": "stream",
     "text": [
      "0.0037658214569091797\n"
     ]
    }
   ],
   "source": [
    "import time\n",
    "lst = []\n",
    "t0 = time.time()\n",
    "for n in range (50000):\n",
    "    lst += [n]\n",
    "t1 = time.time()\n",
    "print(t1 - t0)"
   ]
  },
  {
   "cell_type": "markdown",
   "metadata": {},
   "source": [
    "## Création de listes"
   ]
  },
  {
   "cell_type": "code",
   "execution_count": 7,
   "metadata": {},
   "outputs": [
    {
     "name": "stdout",
     "output_type": "stream",
     "text": [
      "[0, 1, 4, 9, 16, 25, 36, 49, 64, 81, 100, 121, 144, 169, 196, 225, 256, 289, 324, 361, 400, 441, 484, 529, 576, 625, 676, 729, 784, 841, 900, 961, 1024, 1089, 1156, 1225, 1296, 1369, 1444, 1521, 1600, 1681, 1764, 1849, 1936, 2025, 2116, 2209, 2304, 2401]\n",
      "[0, 1, 4, 9, 16, 25, 36, 49, 64, 81, 100, 121, 144, 169, 196, 225, 256, 289, 324, 361, 400, 441, 484, 529, 576, 625, 676, 729, 784, 841, 900, 961, 1024, 1089, 1156, 1225, 1296, 1369, 1444, 1521, 1600, 1681, 1764, 1849, 1936, 2025, 2116, 2209, 2304, 2401]\n"
     ]
    }
   ],
   "source": [
    "lst = []\n",
    "for i in range(50):\n",
    "    lst.append(i ** 2)\n",
    "print(lst)\n",
    "lst = [i ** 2 for i in range(50)]\n",
    "print(lst)"
   ]
  },
  {
   "cell_type": "code",
   "execution_count": 14,
   "metadata": {},
   "outputs": [
    {
     "name": "stdout",
     "output_type": "stream",
     "text": [
      "[3, 27, 75, 147, 243, 363, 507, 675, 867, 1083, 1323, 1587, 1875, 2187, 2523, 2883, 3267, 3675, 4107, 4563, 5043, 5547, 6075, 6627, 7203]\n"
     ]
    }
   ],
   "source": [
    "lst = [i ** 2 for i in range(50)]\n",
    "lst2 = [3 * e for e in lst if e % 2 == 1]\n",
    "print(lst2)"
   ]
  },
  {
   "cell_type": "markdown",
   "metadata": {},
   "source": [
    "## Tranches (slices)"
   ]
  },
  {
   "cell_type": "code",
   "execution_count": 15,
   "metadata": {},
   "outputs": [
    {
     "name": "stdout",
     "output_type": "stream",
     "text": [
      "['Aragorn', 'Légolas', 'Arwen', 'Gimli']\n",
      "['Bilbo', 'Gandalf', 'Aragorn']\n",
      "['Gandalf', 'Aragorn', 'Légolas', 'Arwen']\n",
      "['Gandalf', 'Légolas']\n",
      "['Bilbo', 'Aragorn', 'Arwen']\n"
     ]
    }
   ],
   "source": [
    "lst = [\"Bilbo\", \"Gandalf\", \"Aragorn\", \"Légolas\", \"Arwen\", \"Gimli\"]\n",
    "print(lst[2:])\n",
    "print(lst[:3])\n",
    "print(lst[1:5])\n",
    "print(lst[1:5:2])\n",
    "print(lst[::2])"
   ]
  },
  {
   "cell_type": "markdown",
   "metadata": {},
   "source": [
    "## Parcours de listes\n",
    "\n",
    "- parcours par indices\n",
    "```python\n",
    "for i in range(len(lst)):\n",
    "    print(lst[i])\n",
    "```\n",
    "\n",
    "- parcours par valeurs\n",
    "```python\n",
    "for elt in lst:\n",
    "    print(elt)\n",
    "```"
   ]
  },
  {
   "cell_type": "code",
   "execution_count": 17,
   "metadata": {},
   "outputs": [
    {
     "name": "stdout",
     "output_type": "stream",
     "text": [
      "** Parcours par valeur **\n",
      "Element : Bilbo\n",
      "Element : Gandalf\n",
      "Element : Aragorn\n",
      "Element : Légolas\n",
      "** Parcours par indices **\n",
      "Element n°0 : Bilbo\n",
      "Element n°1 : Gandalf\n",
      "Element n°2 : Aragorn\n",
      "Element n°3 : Légolas\n"
     ]
    }
   ],
   "source": [
    "lst = [\"Bilbo\", \"Gandalf\", \"Aragorn\", \"Légolas\"]\n",
    "\n",
    "print(\"** Parcours par valeur **\")\n",
    "\n",
    "for elt in lst:\n",
    "    print(f\"Element : {elt}\")\n",
    "    \n",
    "print(\"** Parcours par indices **\")\n",
    "\n",
    "for i in range(len(lst)):\n",
    "    print(f\"Element n°{i} : {lst[i]}\")"
   ]
  },
  {
   "cell_type": "code",
   "execution_count": 18,
   "metadata": {},
   "outputs": [],
   "source": [
    "def maximum(lst : list) -> int:\n",
    "    maxi = lst[0]\n",
    "    \n",
    "    for elt in lst:\n",
    "        # traitement : on compare l'élément courant au maximum des cases précédentes\n",
    "        if elt > maxi:\n",
    "            maxi = elt\n",
    "    \n",
    "    return maxi      "
   ]
  },
  {
   "cell_type": "markdown",
   "metadata": {},
   "source": [
    "## Modification en place"
   ]
  },
  {
   "cell_type": "code",
   "execution_count": 19,
   "metadata": {},
   "outputs": [
    {
     "name": "stdout",
     "output_type": "stream",
     "text": [
      "[12, 5, 14, 17]\n",
      "[12, 14]\n"
     ]
    }
   ],
   "source": [
    "def truc1(lst : list) -> list:\n",
    "    lst2 = []\n",
    "    for el in lst:\n",
    "        if el % 2 == 0:\n",
    "            lst2.append(el)\n",
    "    return lst2\n",
    "\n",
    "l = [12, 5, 14, 17]\n",
    "l2 = truc1(l)\n",
    "print(l)\n",
    "print(l2)"
   ]
  },
  {
   "cell_type": "code",
   "execution_count": 20,
   "metadata": {},
   "outputs": [
    {
     "name": "stdout",
     "output_type": "stream",
     "text": [
      "[12, 14]\n"
     ]
    }
   ],
   "source": [
    "def truc2(lst : list) -> None:\n",
    "    i = 0\n",
    "    while i < len(lst):\n",
    "        el = lst[i]\n",
    "        if el % 2 != 0:\n",
    "            lst.remove(el)\n",
    "        else:\n",
    "            i += 1\n",
    "\n",
    "l = [12, 5, 14, 17]\n",
    "truc2(l)\n",
    "print(l)"
   ]
  },
  {
   "cell_type": "markdown",
   "metadata": {},
   "source": [
    "## Matrices"
   ]
  },
  {
   "cell_type": "code",
   "execution_count": 4,
   "metadata": {},
   "outputs": [
    {
     "name": "stdout",
     "output_type": "stream",
     "text": [
      "[1, 3, 0, 4]\n",
      "1\n",
      "8\n",
      "5\n",
      "2\n",
      "6\n",
      "3\n",
      "4\n",
      "7\n",
      "9\n",
      "1\n",
      "3\n",
      "0\n",
      "4\n",
      "8\n",
      "5\n",
      "2\n",
      "6\n",
      "3\n",
      "4\n",
      "7\n",
      "9\n",
      "1\n",
      "3\n",
      "0\n",
      "4\n"
     ]
    }
   ],
   "source": [
    "M = [[8, 5, 2, 6], [3, 4, 7, 9], [1, 3, 0, 4]]\n",
    "print(M[2])\n",
    "print(M[2][0])\n",
    "\n",
    "for i in range(len(M)):\n",
    "    for j in range(len(M[0])):\n",
    "        print(M[i][j])\n",
    "        \n",
    "for ligne in M:\n",
    "\tfor el in ligne:\n",
    "\t\tprint(el)"
   ]
  }
 ],
 "metadata": {
  "kernelspec": {
   "display_name": "Python 3.10.0 64-bit",
   "language": "python",
   "name": "python3"
  },
  "language_info": {
   "codemirror_mode": {
    "name": "ipython",
    "version": 3
   },
   "file_extension": ".py",
   "mimetype": "text/x-python",
   "name": "python",
   "nbconvert_exporter": "python",
   "pygments_lexer": "ipython3",
   "version": "3.10.0"
  },
  "orig_nbformat": 4,
  "vscode": {
   "interpreter": {
    "hash": "aee8b7b246df8f9039afb4144a1f6fd8d2ca17a180786b69acc140d282b71a49"
   }
  }
 },
 "nbformat": 4,
 "nbformat_minor": 2
}
