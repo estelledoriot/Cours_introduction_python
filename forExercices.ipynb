{
 "cells": [
  {
   "attachments": {},
   "cell_type": "markdown",
   "metadata": {},
   "source": [
    "**Estelle Doriot**\n",
    "\n",
    "_NSI 1ère_\n",
    "\n",
    "---\n",
    "# Exercices : Boucles for\n",
    "---\n",
    "\n",
    "### Exercice n°2\n",
    "\n",
    "1. Ecrire un programme qui affiche le triangle suivant (on utilisera obligatoirement une boucle).\n",
    "```\n",
    "*\n",
    "**\n",
    "***\n",
    "****\n",
    "*****\n",
    "******\n",
    "*******\n",
    "```"
   ]
  },
  {
   "cell_type": "code",
   "execution_count": 1,
   "metadata": {},
   "outputs": [
    {
     "name": "stdout",
     "output_type": "stream",
     "text": [
      "*\n",
      "**\n",
      "***\n",
      "****\n",
      "*****\n",
      "******\n",
      "*******\n"
     ]
    }
   ],
   "source": [
    "for i in range(1, 8):\n",
    "    print(\"*\"*i)"
   ]
  },
  {
   "attachments": {},
   "cell_type": "markdown",
   "metadata": {},
   "source": [
    "2. Ecrire un programme qui demande un nombre entier $n$ et qui affiche une pyramide de hauteur $n$. Par exemple pour $n = 4$, on obtiendra:\n",
    "```\n",
    "   *   \n",
    "  ***\n",
    " *****\n",
    "*******\n",
    "```"
   ]
  },
  {
   "cell_type": "code",
   "execution_count": 2,
   "metadata": {},
   "outputs": [
    {
     "name": "stdout",
     "output_type": "stream",
     "text": [
      "         *\n",
      "        ***\n",
      "       *****\n",
      "      *******\n",
      "     *********\n",
      "    ***********\n",
      "   *************\n",
      "  ***************\n",
      " *****************\n",
      "*******************\n"
     ]
    }
   ],
   "source": [
    "n = int(input(\"Veuillez donner un entier: \"))\n",
    "\n",
    "for i in range(n):\n",
    "    print(\" \" * (n-i-1), \"*\" * (2*i+1), sep = \"\")"
   ]
  },
  {
   "attachments": {},
   "cell_type": "markdown",
   "metadata": {},
   "source": [
    "3. Ecrire un programme qui demande un nombre entier $n$ et qui affiche une pyramide creuse de hauteur $n$. Par exemple pour $n = 4$, on obtiendra:\n",
    "```\n",
    "   *\n",
    "  * *\n",
    " *   *\n",
    "*     *\n",
    "```"
   ]
  },
  {
   "cell_type": "code",
   "execution_count": 3,
   "metadata": {},
   "outputs": [
    {
     "name": "stdout",
     "output_type": "stream",
     "text": [
      "         *\n",
      "        * *\n",
      "       *   *\n",
      "      *     *\n",
      "     *       *\n",
      "    *         *\n",
      "   *           *\n",
      "  *             *\n",
      " *               *\n",
      "*                 *\n"
     ]
    }
   ],
   "source": [
    "n = int(input(\"Veuillez donner un entier: \"))\n",
    "\n",
    "print(\" \" * (n-1), \"*\", sep = \"\")\n",
    "for i in range(1, n):\n",
    "    print(\" \" * (n-i-1), \"*\", \" \" * (2*i-1), \"*\", sep = \"\")"
   ]
  },
  {
   "attachments": {},
   "cell_type": "markdown",
   "metadata": {},
   "source": [
    "4. Ecrire un programme qui demande un nombre entier $n$ et qui affiche un losange de largeur $n$. Par exemple pour $n = 4$, on obtiendra:\n",
    "```\n",
    "   *\n",
    "  ***\n",
    " *****\n",
    "*******\n",
    " *****\n",
    "  ***\n",
    "   *\n",
    "```"
   ]
  },
  {
   "cell_type": "code",
   "execution_count": 4,
   "metadata": {},
   "outputs": [
    {
     "name": "stdout",
     "output_type": "stream",
     "text": [
      "         *\n",
      "        ***\n",
      "       *****\n",
      "      *******\n",
      "     *********\n",
      "    ***********\n",
      "   *************\n",
      "  ***************\n",
      " *****************\n",
      "*******************\n",
      " *****************\n",
      "  ***************\n",
      "   *************\n",
      "    ***********\n",
      "     *********\n",
      "      *******\n",
      "       *****\n",
      "        ***\n",
      "         *\n"
     ]
    }
   ],
   "source": [
    "n = int(input(\"Veuillez donner un entier: \"))\n",
    "\n",
    "for i in range(n):\n",
    "    print(\" \" * (n-i-1), \"*\" * (2*i+1), sep = \"\")\n",
    "for i in range(n-2, -1, -1):\n",
    "    print(\" \" * (n-i-1), \"*\" * (2*i+1), sep = \"\")"
   ]
  },
  {
   "attachments": {},
   "cell_type": "markdown",
   "metadata": {},
   "source": [
    "\n",
    "### Exercice n°3\n",
    "\n",
    "Écrire un programme qui parcourt les entiers de 1 à 100 et affiche `fizz` lorsque l’entier est un multiple de 3, `buzz` lorsque c’est un multiple de 5 (et en particulier `fizzbuzz` lorsque c’est un multiple de 15), et la valeur de cet entier lorsqu’il n’est ni multiple de 3, ni multiple de 5."
   ]
  },
  {
   "cell_type": "code",
   "execution_count": 5,
   "metadata": {},
   "outputs": [
    {
     "name": "stdout",
     "output_type": "stream",
     "text": [
      "1\n",
      "2\n",
      "fizz\n",
      "4\n",
      "buzz\n",
      "fizz\n",
      "7\n",
      "8\n",
      "fizz\n",
      "buzz\n",
      "11\n",
      "fizz\n",
      "13\n",
      "14\n",
      "fizzbuzz\n",
      "16\n",
      "17\n",
      "fizz\n",
      "19\n",
      "buzz\n",
      "fizz\n",
      "22\n",
      "23\n",
      "fizz\n",
      "buzz\n",
      "26\n",
      "fizz\n",
      "28\n",
      "29\n",
      "fizzbuzz\n",
      "31\n",
      "32\n",
      "fizz\n",
      "34\n",
      "buzz\n",
      "fizz\n",
      "37\n",
      "38\n",
      "fizz\n",
      "buzz\n",
      "41\n",
      "fizz\n",
      "43\n",
      "44\n",
      "fizzbuzz\n",
      "46\n",
      "47\n",
      "fizz\n",
      "49\n",
      "buzz\n",
      "fizz\n",
      "52\n",
      "53\n",
      "fizz\n",
      "buzz\n",
      "56\n",
      "fizz\n",
      "58\n",
      "59\n",
      "fizzbuzz\n",
      "61\n",
      "62\n",
      "fizz\n",
      "64\n",
      "buzz\n",
      "fizz\n",
      "67\n",
      "68\n",
      "fizz\n",
      "buzz\n",
      "71\n",
      "fizz\n",
      "73\n",
      "74\n",
      "fizzbuzz\n",
      "76\n",
      "77\n",
      "fizz\n",
      "79\n",
      "buzz\n",
      "fizz\n",
      "82\n",
      "83\n",
      "fizz\n",
      "buzz\n",
      "86\n",
      "fizz\n",
      "88\n",
      "89\n",
      "fizzbuzz\n",
      "91\n",
      "92\n",
      "fizz\n",
      "94\n",
      "buzz\n",
      "fizz\n",
      "97\n",
      "98\n",
      "fizz\n",
      "buzz\n"
     ]
    }
   ],
   "source": [
    "for i in range(1, 101):\n",
    "    if i % 15 == 0:\n",
    "        print(\"fizzbuzz\")\n",
    "    elif i % 3 == 0:\n",
    "        print(\"fizz\")\n",
    "    elif i % 5 == 0:\n",
    "        print(\"buzz\")\n",
    "    else:\n",
    "        print(i)"
   ]
  },
  {
   "attachments": {},
   "cell_type": "markdown",
   "metadata": {},
   "source": [
    "### Exercice n°4\n",
    "\n",
    "Ecrire un programme qui demande deux nombres entiers $n$ et $m$ et qui affiche $m$ triangles de taille $n$. Par exemple, pour $m = 4$ et $n = 3$, le programme devra afficher :\n",
    "```\n",
    "∗\n",
    "∗∗\n",
    "∗∗∗\n",
    "∗\n",
    "∗∗\n",
    "∗∗∗\n",
    "∗\n",
    "∗∗\n",
    "∗∗∗\n",
    "∗\n",
    "∗∗\n",
    "∗∗∗\n",
    "```"
   ]
  },
  {
   "cell_type": "code",
   "execution_count": 6,
   "metadata": {},
   "outputs": [
    {
     "name": "stdout",
     "output_type": "stream",
     "text": [
      "*\n",
      "**\n",
      "***\n",
      "****\n",
      "*****\n",
      "*\n",
      "**\n",
      "***\n",
      "****\n",
      "*****\n",
      "*\n",
      "**\n",
      "***\n",
      "****\n",
      "*****\n",
      "*\n",
      "**\n",
      "***\n",
      "****\n",
      "*****\n",
      "*\n",
      "**\n",
      "***\n",
      "****\n",
      "*****\n",
      "*\n",
      "**\n",
      "***\n",
      "****\n",
      "*****\n",
      "*\n",
      "**\n",
      "***\n",
      "****\n",
      "*****\n",
      "*\n",
      "**\n",
      "***\n",
      "****\n",
      "*****\n",
      "*\n",
      "**\n",
      "***\n",
      "****\n",
      "*****\n",
      "*\n",
      "**\n",
      "***\n",
      "****\n",
      "*****\n"
     ]
    }
   ],
   "source": [
    "m = int(input(\"Veuillez donner le nombre de triangles: \"))\n",
    "n = int(input(\"Veuillez donner la taille des triangles: \"))\n",
    "\n",
    "for i in range(m):\n",
    "    for j in range(1, n + 1):\n",
    "        print(\"*\" * j)"
   ]
  },
  {
   "attachments": {},
   "cell_type": "markdown",
   "metadata": {},
   "source": [
    "### Exercice n°5\n",
    "\n",
    "Ecrire un programme qui demande un entier $n$ et qui affiche un damier de taille $n$. Par exemple, pour $n = 4$, on affichera:\n",
    "```\n",
    ". # . # \n",
    "# . # . \n",
    ". # . # \n",
    "# . # .\n",
    "```"
   ]
  },
  {
   "cell_type": "code",
   "execution_count": 7,
   "metadata": {},
   "outputs": [
    {
     "name": "stdout",
     "output_type": "stream",
     "text": [
      ". # . # . # . # . # \n",
      "# . # . # . # . # . \n",
      ". # . # . # . # . # \n",
      "# . # . # . # . # . \n",
      ". # . # . # . # . # \n",
      "# . # . # . # . # . \n",
      ". # . # . # . # . # \n",
      "# . # . # . # . # . \n",
      ". # . # . # . # . # \n",
      "# . # . # . # . # . \n"
     ]
    }
   ],
   "source": [
    "n = int(input(\"Veuillez donner la taille du damier: \"))\n",
    "\n",
    "for i in range(n):\n",
    "    for j in range(n):\n",
    "        if (i + j) % 2 == 0:\n",
    "            print(\".\", end = \" \")\n",
    "        else:\n",
    "            print(\"#\", end = \" \")\n",
    "    print()"
   ]
  },
  {
   "attachments": {},
   "cell_type": "markdown",
   "metadata": {},
   "source": [
    "### Exercice n°6\n",
    "\n",
    "1. Afficher la table de multiplication des $5$ sous la forme:\n",
    "```\n",
    "1 x 5 = 5\n",
    "2 x 5 = 10\n",
    "3 x 5 = 15\n",
    "4 x 5 = 20\n",
    "5 x 5 = 25\n",
    "6 x 5 = 30\n",
    "7 x 5 = 35\n",
    "8 x 5 = 40\n",
    "9 x 5 = 45\n",
    "10 x 5 = 50\n",
    "```"
   ]
  },
  {
   "cell_type": "code",
   "execution_count": 8,
   "metadata": {},
   "outputs": [
    {
     "name": "stdout",
     "output_type": "stream",
     "text": [
      "1 x 5 = 5\n",
      "2 x 5 = 10\n",
      "3 x 5 = 15\n",
      "4 x 5 = 20\n",
      "5 x 5 = 25\n",
      "6 x 5 = 30\n",
      "7 x 5 = 35\n",
      "8 x 5 = 40\n",
      "9 x 5 = 45\n",
      "10 x 5 = 50\n"
     ]
    }
   ],
   "source": [
    "for i in range(1, 11):\n",
    "    print(f\"{i} x 5 = {i*5}\")"
   ]
  },
  {
   "attachments": {},
   "cell_type": "markdown",
   "metadata": {},
   "source": [
    "2. Afficher toutes les tables de multiplications de 1 à 10."
   ]
  },
  {
   "cell_type": "code",
   "execution_count": 9,
   "metadata": {},
   "outputs": [
    {
     "name": "stdout",
     "output_type": "stream",
     "text": [
      "1 x 1 = 1\n",
      "2 x 1 = 2\n",
      "3 x 1 = 3\n",
      "4 x 1 = 4\n",
      "5 x 1 = 5\n",
      "6 x 1 = 6\n",
      "7 x 1 = 7\n",
      "8 x 1 = 8\n",
      "9 x 1 = 9\n",
      "10 x 1 = 10\n",
      "1 x 2 = 2\n",
      "2 x 2 = 4\n",
      "3 x 2 = 6\n",
      "4 x 2 = 8\n",
      "5 x 2 = 10\n",
      "6 x 2 = 12\n",
      "7 x 2 = 14\n",
      "8 x 2 = 16\n",
      "9 x 2 = 18\n",
      "10 x 2 = 20\n",
      "1 x 3 = 3\n",
      "2 x 3 = 6\n",
      "3 x 3 = 9\n",
      "4 x 3 = 12\n",
      "5 x 3 = 15\n",
      "6 x 3 = 18\n",
      "7 x 3 = 21\n",
      "8 x 3 = 24\n",
      "9 x 3 = 27\n",
      "10 x 3 = 30\n",
      "1 x 4 = 4\n",
      "2 x 4 = 8\n",
      "3 x 4 = 12\n",
      "4 x 4 = 16\n",
      "5 x 4 = 20\n",
      "6 x 4 = 24\n",
      "7 x 4 = 28\n",
      "8 x 4 = 32\n",
      "9 x 4 = 36\n",
      "10 x 4 = 40\n",
      "1 x 5 = 5\n",
      "2 x 5 = 10\n",
      "3 x 5 = 15\n",
      "4 x 5 = 20\n",
      "5 x 5 = 25\n",
      "6 x 5 = 30\n",
      "7 x 5 = 35\n",
      "8 x 5 = 40\n",
      "9 x 5 = 45\n",
      "10 x 5 = 50\n",
      "1 x 6 = 6\n",
      "2 x 6 = 12\n",
      "3 x 6 = 18\n",
      "4 x 6 = 24\n",
      "5 x 6 = 30\n",
      "6 x 6 = 36\n",
      "7 x 6 = 42\n",
      "8 x 6 = 48\n",
      "9 x 6 = 54\n",
      "10 x 6 = 60\n",
      "1 x 7 = 7\n",
      "2 x 7 = 14\n",
      "3 x 7 = 21\n",
      "4 x 7 = 28\n",
      "5 x 7 = 35\n",
      "6 x 7 = 42\n",
      "7 x 7 = 49\n",
      "8 x 7 = 56\n",
      "9 x 7 = 63\n",
      "10 x 7 = 70\n",
      "1 x 8 = 8\n",
      "2 x 8 = 16\n",
      "3 x 8 = 24\n",
      "4 x 8 = 32\n",
      "5 x 8 = 40\n",
      "6 x 8 = 48\n",
      "7 x 8 = 56\n",
      "8 x 8 = 64\n",
      "9 x 8 = 72\n",
      "10 x 8 = 80\n",
      "1 x 9 = 9\n",
      "2 x 9 = 18\n",
      "3 x 9 = 27\n",
      "4 x 9 = 36\n",
      "5 x 9 = 45\n",
      "6 x 9 = 54\n",
      "7 x 9 = 63\n",
      "8 x 9 = 72\n",
      "9 x 9 = 81\n",
      "10 x 9 = 90\n",
      "1 x 10 = 10\n",
      "2 x 10 = 20\n",
      "3 x 10 = 30\n",
      "4 x 10 = 40\n",
      "5 x 10 = 50\n",
      "6 x 10 = 60\n",
      "7 x 10 = 70\n",
      "8 x 10 = 80\n",
      "9 x 10 = 90\n",
      "10 x 10 = 100\n"
     ]
    }
   ],
   "source": [
    "for i in range(1, 11):\n",
    "    for j in range(1, 11):\n",
    "        print(f\"{j} x {i} = {i * j}\")"
   ]
  },
  {
   "attachments": {},
   "cell_type": "markdown",
   "metadata": {},
   "source": [
    "3. Afficher les tables de multiplications de 1 à 10 sous forme de tableau :\n",
    "```\n",
    " X |  1  2  3  4  5  6  7  8  9 10 \n",
    "----------------------------------\n",
    " 1 |  1  2  3  4  5  6  7  8  9 10 \n",
    " 2 |  2  4  6  8 10 12 14 16 18 20 \n",
    " 3 |  3  6  9 12 15 18 21 24 27 30 \n",
    " 4 |  4  8 12 16 20 24 28 32 36 40 \n",
    " 5 |  5 10 15 20 25 30 35 40 45 50 \n",
    " 6 |  6 12 18 24 30 36 42 48 54 60 \n",
    " 7 |  7 14 21 28 35 42 49 56 63 70 \n",
    " 8 |  8 16 24 32 40 48 56 64 72 80 \n",
    " 9 |  9 18 27 36 45 54 63 72 81 90 \n",
    "10 | 10 20 30 40 50 60 70 80 90 100 \n",
    "```"
   ]
  },
  {
   "cell_type": "code",
   "execution_count": 10,
   "metadata": {},
   "outputs": [
    {
     "name": "stdout",
     "output_type": "stream",
     "text": [
      " X |  1  2  3  4  5  6  7  8  9 10 \n",
      "----------------------------------\n",
      " 1 |  1  2  3  4  5  6  7  8  9 10 \n",
      " 2 |  2  4  6  8 10 12 14 16 18 20 \n",
      " 3 |  3  6  9 12 15 18 21 24 27 30 \n",
      " 4 |  4  8 12 16 20 24 28 32 36 40 \n",
      " 5 |  5 10 15 20 25 30 35 40 45 50 \n",
      " 6 |  6 12 18 24 30 36 42 48 54 60 \n",
      " 7 |  7 14 21 28 35 42 49 56 63 70 \n",
      " 8 |  8 16 24 32 40 48 56 64 72 80 \n",
      " 9 |  9 18 27 36 45 54 63 72 81 90 \n",
      "10 | 10 20 30 40 50 60 70 80 90 100 \n"
     ]
    }
   ],
   "source": [
    "print(\" X |\", end = \" \")\n",
    "for i in range(1, 11):\n",
    "    print(f\"{i:2}\", end = \" \")\n",
    "print()\n",
    "print(\"-\" * 34)\n",
    "\n",
    "for i in range(1, 11):\n",
    "    print(f\"{i:2} |\", end = \" \")\n",
    "    for j in range(1, 11):\n",
    "        print(f\"{i*j:2}\", end = \" \")\n",
    "    print()"
   ]
  },
  {
   "attachments": {},
   "cell_type": "markdown",
   "metadata": {},
   "source": [
    "### Exercice n°7\n",
    "\n",
    "1. Écrire un programme qui demande un entier $n$ et affiche la somme des entiers impairs compris entre 1 et $n$, c'est-à-dire $1 + 3 + 5 + ...$.\n"
   ]
  },
  {
   "cell_type": "code",
   "execution_count": 11,
   "metadata": {},
   "outputs": [
    {
     "name": "stdout",
     "output_type": "stream",
     "text": [
      "La somme des nombres impairs inférieurs à 10 est: 25\n"
     ]
    }
   ],
   "source": [
    "n = int(input(\"Veuillez donner un nombre entier: \"))\n",
    "\n",
    "s = 0\n",
    "\n",
    "for i in range(1, n + 1):\n",
    "   if i % 2 == 1:\n",
    "       s = s + i\n",
    "print(f\"La somme des nombres impairs inférieurs à {n} est: {s}\")"
   ]
  },
  {
   "attachments": {},
   "cell_type": "markdown",
   "metadata": {},
   "source": [
    "2. Écrire un programme qui demande un entier $n$ et affiche la somme des carrés des entiers entre 1 et $n$, c'est-à-dire $1^2 + 2^2 + 2^2 + ... + n^2$."
   ]
  },
  {
   "cell_type": "code",
   "execution_count": 12,
   "metadata": {},
   "outputs": [
    {
     "name": "stdout",
     "output_type": "stream",
     "text": [
      "La somme des carrés des nombres inférieurs à 10 est: 385\n"
     ]
    }
   ],
   "source": [
    "n = int(input(\"Veuillez donner un nombre entier: \"))\n",
    "\n",
    "s = 0\n",
    "\n",
    "for i in range(1, n + 1):\n",
    "       s = s + i * i\n",
    "print(f\"La somme des carrés des nombres inférieurs à {n} est: {s}\")"
   ]
  },
  {
   "attachments": {},
   "cell_type": "markdown",
   "metadata": {},
   "source": [
    "3. Ecrire un programme qui demande un entier $n$ et affiche le produit des entiers entre 1 et $n$, c'est-à-dire $1 \\times 2 \\times 3 \\times \\dots \\times n$."
   ]
  },
  {
   "cell_type": "code",
   "execution_count": 13,
   "metadata": {},
   "outputs": [
    {
     "name": "stdout",
     "output_type": "stream",
     "text": [
      "Le produit des entiers inférieurs à 10 est: 3628800\n"
     ]
    }
   ],
   "source": [
    "n = int(input(\"Veuillez donner un nombre entier: \"))\n",
    "\n",
    "s = 1\n",
    "\n",
    "for i in range(1, n + 1):\n",
    "       s = s * i\n",
    "print(f\"Le produit des entiers inférieurs à {n} est: {s}\")"
   ]
  },
  {
   "attachments": {},
   "cell_type": "markdown",
   "metadata": {},
   "source": [
    "4. Écrire un programme qui demande un entier $n$ et affiche le produit des nombres pairs entre 1 et $n$, c'est-à-dire $2 \\times 4 \\times 6 \\times \\dots$"
   ]
  },
  {
   "cell_type": "code",
   "execution_count": 14,
   "metadata": {},
   "outputs": [
    {
     "name": "stdout",
     "output_type": "stream",
     "text": [
      "Le produit des nombres pairs inférieurs à 10 est: 3840\n"
     ]
    }
   ],
   "source": [
    "n = int(input(\"Veuillez donner un nombre entier: \"))\n",
    "\n",
    "s = 1\n",
    "\n",
    "for i in range(1, n + 1):\n",
    "    if i % 2 == 0:\n",
    "        s = s * i\n",
    "print(f\"Le produit des nombres pairs inférieurs à {n} est: {s}\")"
   ]
  },
  {
   "attachments": {},
   "cell_type": "markdown",
   "metadata": {},
   "source": [
    "### Exercice n°8\n",
    "\n",
    "Ecrire un programme qui demande un entier $n$ à l'utilisateur, puis $n$ notes et affiche la moyenne des notes."
   ]
  },
  {
   "cell_type": "code",
   "execution_count": 15,
   "metadata": {},
   "outputs": [
    {
     "name": "stdout",
     "output_type": "stream",
     "text": [
      "La moyenne des notes est: 10.0\n"
     ]
    }
   ],
   "source": [
    "n = int(input(\"Veuillez donner un nombre de notes: \"))\n",
    "s = 0\n",
    "\n",
    "for i in range(n):\n",
    "    note = int(input(\"Veuillez donner une note: \"))\n",
    "    s = s + note\n",
    "\n",
    "print(f\"La moyenne des notes est: {s/n}\")"
   ]
  },
  {
   "attachments": {},
   "cell_type": "markdown",
   "metadata": {},
   "source": [
    "### Exercice n°9\n",
    "\n",
    "1. Écrire un programme qui affiche tous les diviseurs d’un entier $n$.\n"
   ]
  },
  {
   "cell_type": "code",
   "execution_count": 16,
   "metadata": {},
   "outputs": [
    {
     "name": "stdout",
     "output_type": "stream",
     "text": [
      "Les diviseurs de 10 sont: \n",
      "1\n",
      "2\n",
      "5\n",
      "10\n"
     ]
    }
   ],
   "source": [
    "n = int(input(\"Veuillez donner un entier: \"))\n",
    "print(f\"Les diviseurs de {n} sont: \")\n",
    "for i in range(1, n + 1):\n",
    "    if n % i == 0:\n",
    "        print(i)"
   ]
  },
  {
   "attachments": {},
   "cell_type": "markdown",
   "metadata": {},
   "source": [
    "2. Écrire un programme qui affiche le nombre de diviseurs d’un entier $n$.\n"
   ]
  },
  {
   "cell_type": "code",
   "execution_count": 17,
   "metadata": {},
   "outputs": [
    {
     "name": "stdout",
     "output_type": "stream",
     "text": [
      "Il y a 4 diviseurs de 10.\n"
     ]
    }
   ],
   "source": [
    "n = int(input(\"Veuillez donner un entier: \"))\n",
    "compteur = 0\n",
    "\n",
    "for i in range(1, n + 1):\n",
    "    if n % i == 0:\n",
    "        compteur += 1\n",
    "        \n",
    "print(f\"Il y a {compteur} diviseurs de {n}.\")"
   ]
  },
  {
   "attachments": {},
   "cell_type": "markdown",
   "metadata": {},
   "source": [
    "3. Écrire un programme qui affiche la somme des diviseurs d’un entier $n$."
   ]
  },
  {
   "cell_type": "code",
   "execution_count": 18,
   "metadata": {},
   "outputs": [
    {
     "name": "stdout",
     "output_type": "stream",
     "text": [
      "La somme des diviseurs de 10 est 18.\n"
     ]
    }
   ],
   "source": [
    "n = int(input(\"Veuillez donner un entier: \"))\n",
    "somme = 0\n",
    "\n",
    "for i in range(1, n + 1):\n",
    "    if n % i == 0:\n",
    "        somme += i\n",
    "        \n",
    "print(f\"La somme des diviseurs de {n} est {somme}.\")"
   ]
  },
  {
   "attachments": {},
   "cell_type": "markdown",
   "metadata": {},
   "source": [
    "### Exercice n°10\n",
    "\n",
    "1. Soit $n$ un entier entre 2 et 12, écrire un programme qui donne le nombre de façons de faire $n$ en lançant deux dés.\n"
   ]
  },
  {
   "cell_type": "code",
   "execution_count": 19,
   "metadata": {},
   "outputs": [
    {
     "name": "stdout",
     "output_type": "stream",
     "text": [
      "4 + 6 = 10\n",
      "5 + 5 = 10\n",
      "6 + 4 = 10\n",
      "Il y a 3 possibilités de faire 10 avec 2 dés.\n"
     ]
    }
   ],
   "source": [
    "nombre = int(input(\"Veuillez donner un nombre entre 2 et 12: \"))\n",
    "somme = 0\n",
    "\n",
    "for i in range(1, 7):\n",
    "    for j in range(1, 7):\n",
    "        if i + j == nombre:\n",
    "            print(f\"{i} + {j} = {nombre}\")\n",
    "            somme = somme + 1\n",
    "            \n",
    "print(f\"Il y a {somme} possibilités de faire {nombre} avec 2 dés.\")"
   ]
  },
  {
   "attachments": {},
   "cell_type": "markdown",
   "metadata": {},
   "source": [
    "2. Soit $n$ un entier entre 3 et 18, écrire un programme qui donne le nombre de façons de faire $n$ en lançant trois dés."
   ]
  },
  {
   "cell_type": "code",
   "execution_count": 20,
   "metadata": {},
   "outputs": [
    {
     "name": "stdout",
     "output_type": "stream",
     "text": [
      "1 + 3 + 6 = 10\n",
      "1 + 4 + 5 = 10\n",
      "1 + 5 + 4 = 10\n",
      "1 + 6 + 3 = 10\n",
      "2 + 2 + 6 = 10\n",
      "2 + 3 + 5 = 10\n",
      "2 + 4 + 4 = 10\n",
      "2 + 5 + 3 = 10\n",
      "2 + 6 + 2 = 10\n",
      "3 + 1 + 6 = 10\n",
      "3 + 2 + 5 = 10\n",
      "3 + 3 + 4 = 10\n",
      "3 + 4 + 3 = 10\n",
      "3 + 5 + 2 = 10\n",
      "3 + 6 + 1 = 10\n",
      "4 + 1 + 5 = 10\n",
      "4 + 2 + 4 = 10\n",
      "4 + 3 + 3 = 10\n",
      "4 + 4 + 2 = 10\n",
      "4 + 5 + 1 = 10\n",
      "5 + 1 + 4 = 10\n",
      "5 + 2 + 3 = 10\n",
      "5 + 3 + 2 = 10\n",
      "5 + 4 + 1 = 10\n",
      "6 + 1 + 3 = 10\n",
      "6 + 2 + 2 = 10\n",
      "6 + 3 + 1 = 10\n",
      "Il y a 27 possibilités de faire 10 avec 3 dés.\n"
     ]
    }
   ],
   "source": [
    "nombre = int(input(\"Veuillez donner un nombre entre 3 et 18: \"))\n",
    "somme = 0\n",
    "\n",
    "for i in range(1, 7):\n",
    "    for j in range(1, 7):\n",
    "        for k in range(1, 7):\n",
    "            if i + j + k == nombre:\n",
    "                print(f\"{i} + {j} + {k} = {nombre}\")\n",
    "                somme = somme + 1\n",
    "\n",
    "print(f\"Il y a {somme} possibilités de faire {nombre} avec 3 dés.\")"
   ]
  },
  {
   "attachments": {},
   "cell_type": "markdown",
   "metadata": {},
   "source": [
    "3. Paradoxe du Duc de Toscane : A la cour de Florence, le Duc de Toscane, qui avait sans doute observé un grand nombre de lancers de 3 dés, avait constaté que la somme 10 était obtenue légèrement plus souvent que la somme 9, ce qu’il trouvait paradoxal puisqu’il existe six façons d’écrire 10 ou 9 comme sommes de trois entiers entre 1 et 6 : $10 = 6 + 3 + 1 = 6 + 2 + 2 = 5 + 4 + 1 = 5 + 3 + 2 = 4 + 3 + 3$ et $9 = 6 + 2 + 1 = 5 + 3 + 1 = 5 + 2 + 2 = 4 + 4 + 1 = 4 + 3 + 2 = 3 + 3 + 3$.\n",
    "\n",
    "   a. En utilisant le programme de la question précédente, quelle est la probabilité d'obtenir 9 ou 10 lorsque l'on lance 3 dés ?\n",
    "\n",
    "\n",
    "   Il y a 25 possibilités de faire 9 avec 3 dés et 27 de faire 10. Il y a donc effectivement plus de chance de faire 10 que 9.\n",
    "\n",
    "   b. Qu'auriez-vous répondu au duc de Toscane pour résoudre son paradoxe ?\n",
    "\n",
    "\n",
    "   Les décompositions ne sont pas équiprobables."
   ]
  },
  {
   "attachments": {},
   "cell_type": "markdown",
   "metadata": {},
   "source": [
    "### Exercice n°11\n",
    "\n",
    "Ecrire un programme qui affiche toutes les façons d'obtenir 1 euro avec des pièces de 2 centimes, 5 centimes et 10 centimes et qui affiche ensuite le nombre de possibilités trouvées."
   ]
  },
  {
   "cell_type": "code",
   "execution_count": 21,
   "metadata": {},
   "outputs": [
    {
     "name": "stdout",
     "output_type": "stream",
     "text": [
      "1 euro = 50 x 2c + 0 x 5c + 0 x 10c\n",
      "1 euro = 45 x 2c + 2 x 5c + 0 x 10c\n",
      "1 euro = 40 x 2c + 4 x 5c + 0 x 10c\n",
      "1 euro = 35 x 2c + 6 x 5c + 0 x 10c\n",
      "1 euro = 30 x 2c + 8 x 5c + 0 x 10c\n",
      "1 euro = 25 x 2c + 10 x 5c + 0 x 10c\n",
      "1 euro = 20 x 2c + 12 x 5c + 0 x 10c\n",
      "1 euro = 15 x 2c + 14 x 5c + 0 x 10c\n",
      "1 euro = 10 x 2c + 16 x 5c + 0 x 10c\n",
      "1 euro = 5 x 2c + 18 x 5c + 0 x 10c\n",
      "1 euro = 0 x 2c + 20 x 5c + 0 x 10c\n",
      "1 euro = 45 x 2c + 0 x 5c + 1 x 10c\n",
      "1 euro = 40 x 2c + 2 x 5c + 1 x 10c\n",
      "1 euro = 35 x 2c + 4 x 5c + 1 x 10c\n",
      "1 euro = 30 x 2c + 6 x 5c + 1 x 10c\n",
      "1 euro = 25 x 2c + 8 x 5c + 1 x 10c\n",
      "1 euro = 20 x 2c + 10 x 5c + 1 x 10c\n",
      "1 euro = 15 x 2c + 12 x 5c + 1 x 10c\n",
      "1 euro = 10 x 2c + 14 x 5c + 1 x 10c\n",
      "1 euro = 5 x 2c + 16 x 5c + 1 x 10c\n",
      "1 euro = 0 x 2c + 18 x 5c + 1 x 10c\n",
      "1 euro = 40 x 2c + 0 x 5c + 2 x 10c\n",
      "1 euro = 35 x 2c + 2 x 5c + 2 x 10c\n",
      "1 euro = 30 x 2c + 4 x 5c + 2 x 10c\n",
      "1 euro = 25 x 2c + 6 x 5c + 2 x 10c\n",
      "1 euro = 20 x 2c + 8 x 5c + 2 x 10c\n",
      "1 euro = 15 x 2c + 10 x 5c + 2 x 10c\n",
      "1 euro = 10 x 2c + 12 x 5c + 2 x 10c\n",
      "1 euro = 5 x 2c + 14 x 5c + 2 x 10c\n",
      "1 euro = 0 x 2c + 16 x 5c + 2 x 10c\n",
      "1 euro = 35 x 2c + 0 x 5c + 3 x 10c\n",
      "1 euro = 30 x 2c + 2 x 5c + 3 x 10c\n",
      "1 euro = 25 x 2c + 4 x 5c + 3 x 10c\n",
      "1 euro = 20 x 2c + 6 x 5c + 3 x 10c\n",
      "1 euro = 15 x 2c + 8 x 5c + 3 x 10c\n",
      "1 euro = 10 x 2c + 10 x 5c + 3 x 10c\n",
      "1 euro = 5 x 2c + 12 x 5c + 3 x 10c\n",
      "1 euro = 0 x 2c + 14 x 5c + 3 x 10c\n",
      "1 euro = 30 x 2c + 0 x 5c + 4 x 10c\n",
      "1 euro = 25 x 2c + 2 x 5c + 4 x 10c\n",
      "1 euro = 20 x 2c + 4 x 5c + 4 x 10c\n",
      "1 euro = 15 x 2c + 6 x 5c + 4 x 10c\n",
      "1 euro = 10 x 2c + 8 x 5c + 4 x 10c\n",
      "1 euro = 5 x 2c + 10 x 5c + 4 x 10c\n",
      "1 euro = 0 x 2c + 12 x 5c + 4 x 10c\n",
      "1 euro = 25 x 2c + 0 x 5c + 5 x 10c\n",
      "1 euro = 20 x 2c + 2 x 5c + 5 x 10c\n",
      "1 euro = 15 x 2c + 4 x 5c + 5 x 10c\n",
      "1 euro = 10 x 2c + 6 x 5c + 5 x 10c\n",
      "1 euro = 5 x 2c + 8 x 5c + 5 x 10c\n",
      "1 euro = 0 x 2c + 10 x 5c + 5 x 10c\n",
      "1 euro = 20 x 2c + 0 x 5c + 6 x 10c\n",
      "1 euro = 15 x 2c + 2 x 5c + 6 x 10c\n",
      "1 euro = 10 x 2c + 4 x 5c + 6 x 10c\n",
      "1 euro = 5 x 2c + 6 x 5c + 6 x 10c\n",
      "1 euro = 0 x 2c + 8 x 5c + 6 x 10c\n",
      "1 euro = 15 x 2c + 0 x 5c + 7 x 10c\n",
      "1 euro = 10 x 2c + 2 x 5c + 7 x 10c\n",
      "1 euro = 5 x 2c + 4 x 5c + 7 x 10c\n",
      "1 euro = 0 x 2c + 6 x 5c + 7 x 10c\n",
      "1 euro = 10 x 2c + 0 x 5c + 8 x 10c\n",
      "1 euro = 5 x 2c + 2 x 5c + 8 x 10c\n",
      "1 euro = 0 x 2c + 4 x 5c + 8 x 10c\n",
      "1 euro = 5 x 2c + 0 x 5c + 9 x 10c\n",
      "1 euro = 0 x 2c + 2 x 5c + 9 x 10c\n",
      "1 euro = 0 x 2c + 0 x 5c + 10 x 10c\n",
      "Il y a 66 façons d'obtenir 1 euro avec des pièces de 2, 5 et 10 centimes.\n"
     ]
    }
   ],
   "source": [
    "total = 0\n",
    "\n",
    "for a in range(0, 11):\n",
    "    for b in range(0, 21):\n",
    "        for c in range(0, 51):\n",
    "            if a * 10 + b * 5 + c * 2 == 100:\n",
    "                print(f\"1 euro = {c} x 2c + {b} x 5c + {a} x 10c\")\n",
    "                total += 1\n",
    "                \n",
    "print(f\"Il y a {total} façons d'obtenir 1 euro avec des pièces de 2, 5 et 10 centimes.\")"
   ]
  },
  {
   "attachments": {},
   "cell_type": "markdown",
   "metadata": {},
   "source": [
    "### Exercice n°12\n",
    "\n",
    "1. Un triplet pythagoricien est un triplet d'entiers $(a, b, c)$ qui vérifie $a^2 + b^2 = c^2$. Ecrire un programme qui affiche tous les triplets pythagoriciens pour les nombres inférieurs à 100."
   ]
  },
  {
   "cell_type": "code",
   "execution_count": 22,
   "metadata": {},
   "outputs": [
    {
     "name": "stdout",
     "output_type": "stream",
     "text": [
      "3^2 + 4^2 = 5^2\n",
      "4^2 + 3^2 = 5^2\n",
      "5^2 + 12^2 = 13^2\n",
      "6^2 + 8^2 = 10^2\n",
      "7^2 + 24^2 = 25^2\n",
      "8^2 + 6^2 = 10^2\n",
      "8^2 + 15^2 = 17^2\n",
      "9^2 + 12^2 = 15^2\n",
      "9^2 + 40^2 = 41^2\n",
      "10^2 + 24^2 = 26^2\n",
      "11^2 + 60^2 = 61^2\n",
      "12^2 + 5^2 = 13^2\n",
      "12^2 + 9^2 = 15^2\n",
      "12^2 + 16^2 = 20^2\n",
      "12^2 + 35^2 = 37^2\n",
      "13^2 + 84^2 = 85^2\n",
      "14^2 + 48^2 = 50^2\n",
      "15^2 + 8^2 = 17^2\n",
      "15^2 + 20^2 = 25^2\n",
      "15^2 + 36^2 = 39^2\n",
      "16^2 + 12^2 = 20^2\n",
      "16^2 + 30^2 = 34^2\n",
      "16^2 + 63^2 = 65^2\n",
      "18^2 + 24^2 = 30^2\n",
      "18^2 + 80^2 = 82^2\n",
      "20^2 + 15^2 = 25^2\n",
      "20^2 + 21^2 = 29^2\n",
      "20^2 + 48^2 = 52^2\n",
      "21^2 + 20^2 = 29^2\n",
      "21^2 + 28^2 = 35^2\n",
      "21^2 + 72^2 = 75^2\n",
      "24^2 + 7^2 = 25^2\n",
      "24^2 + 10^2 = 26^2\n",
      "24^2 + 18^2 = 30^2\n",
      "24^2 + 32^2 = 40^2\n",
      "24^2 + 45^2 = 51^2\n",
      "24^2 + 70^2 = 74^2\n",
      "25^2 + 60^2 = 65^2\n",
      "27^2 + 36^2 = 45^2\n",
      "28^2 + 21^2 = 35^2\n",
      "28^2 + 45^2 = 53^2\n",
      "28^2 + 96^2 = 100^2\n",
      "30^2 + 16^2 = 34^2\n",
      "30^2 + 40^2 = 50^2\n",
      "30^2 + 72^2 = 78^2\n",
      "32^2 + 24^2 = 40^2\n",
      "32^2 + 60^2 = 68^2\n",
      "33^2 + 44^2 = 55^2\n",
      "33^2 + 56^2 = 65^2\n",
      "35^2 + 12^2 = 37^2\n",
      "35^2 + 84^2 = 91^2\n",
      "36^2 + 15^2 = 39^2\n",
      "36^2 + 27^2 = 45^2\n",
      "36^2 + 48^2 = 60^2\n",
      "36^2 + 77^2 = 85^2\n",
      "39^2 + 52^2 = 65^2\n",
      "39^2 + 80^2 = 89^2\n",
      "40^2 + 9^2 = 41^2\n",
      "40^2 + 30^2 = 50^2\n",
      "40^2 + 42^2 = 58^2\n",
      "40^2 + 75^2 = 85^2\n",
      "42^2 + 40^2 = 58^2\n",
      "42^2 + 56^2 = 70^2\n",
      "44^2 + 33^2 = 55^2\n",
      "45^2 + 24^2 = 51^2\n",
      "45^2 + 28^2 = 53^2\n",
      "45^2 + 60^2 = 75^2\n",
      "48^2 + 14^2 = 50^2\n",
      "48^2 + 20^2 = 52^2\n",
      "48^2 + 36^2 = 60^2\n",
      "48^2 + 55^2 = 73^2\n",
      "48^2 + 64^2 = 80^2\n",
      "51^2 + 68^2 = 85^2\n",
      "52^2 + 39^2 = 65^2\n",
      "54^2 + 72^2 = 90^2\n",
      "55^2 + 48^2 = 73^2\n",
      "56^2 + 33^2 = 65^2\n",
      "56^2 + 42^2 = 70^2\n",
      "57^2 + 76^2 = 95^2\n",
      "60^2 + 11^2 = 61^2\n",
      "60^2 + 25^2 = 65^2\n",
      "60^2 + 32^2 = 68^2\n",
      "60^2 + 45^2 = 75^2\n",
      "60^2 + 63^2 = 87^2\n",
      "60^2 + 80^2 = 100^2\n",
      "63^2 + 16^2 = 65^2\n",
      "63^2 + 60^2 = 87^2\n",
      "64^2 + 48^2 = 80^2\n",
      "65^2 + 72^2 = 97^2\n",
      "68^2 + 51^2 = 85^2\n",
      "70^2 + 24^2 = 74^2\n",
      "72^2 + 21^2 = 75^2\n",
      "72^2 + 30^2 = 78^2\n",
      "72^2 + 54^2 = 90^2\n",
      "72^2 + 65^2 = 97^2\n",
      "75^2 + 40^2 = 85^2\n",
      "76^2 + 57^2 = 95^2\n",
      "77^2 + 36^2 = 85^2\n",
      "80^2 + 18^2 = 82^2\n",
      "80^2 + 39^2 = 89^2\n",
      "80^2 + 60^2 = 100^2\n",
      "84^2 + 13^2 = 85^2\n",
      "84^2 + 35^2 = 91^2\n",
      "96^2 + 28^2 = 100^2\n"
     ]
    }
   ],
   "source": [
    "for a in range(1, 101):\n",
    "    for b in range(1, 101):\n",
    "        for c in range(1, 101):\n",
    "            if a * a + b * b == c * c:\n",
    "                print(f\"{a}^2 + {b}^2 = {c}^2\")"
   ]
  },
  {
   "attachments": {},
   "cell_type": "markdown",
   "metadata": {},
   "source": [
    "2. Même question en supprimant les doublons."
   ]
  },
  {
   "cell_type": "code",
   "execution_count": 23,
   "metadata": {},
   "outputs": [
    {
     "name": "stdout",
     "output_type": "stream",
     "text": [
      "3^2 + 4^2 = 5^2\n",
      "5^2 + 12^2 = 13^2\n",
      "6^2 + 8^2 = 10^2\n",
      "7^2 + 24^2 = 25^2\n",
      "8^2 + 15^2 = 17^2\n",
      "9^2 + 12^2 = 15^2\n",
      "9^2 + 40^2 = 41^2\n",
      "10^2 + 24^2 = 26^2\n",
      "11^2 + 60^2 = 61^2\n",
      "12^2 + 16^2 = 20^2\n",
      "12^2 + 35^2 = 37^2\n",
      "13^2 + 84^2 = 85^2\n",
      "14^2 + 48^2 = 50^2\n",
      "15^2 + 20^2 = 25^2\n",
      "15^2 + 36^2 = 39^2\n",
      "16^2 + 30^2 = 34^2\n",
      "16^2 + 63^2 = 65^2\n",
      "18^2 + 24^2 = 30^2\n",
      "18^2 + 80^2 = 82^2\n",
      "20^2 + 21^2 = 29^2\n",
      "20^2 + 48^2 = 52^2\n",
      "21^2 + 28^2 = 35^2\n",
      "21^2 + 72^2 = 75^2\n",
      "24^2 + 32^2 = 40^2\n",
      "24^2 + 45^2 = 51^2\n",
      "24^2 + 70^2 = 74^2\n",
      "25^2 + 60^2 = 65^2\n",
      "27^2 + 36^2 = 45^2\n",
      "28^2 + 45^2 = 53^2\n",
      "28^2 + 96^2 = 100^2\n",
      "30^2 + 40^2 = 50^2\n",
      "30^2 + 72^2 = 78^2\n",
      "32^2 + 60^2 = 68^2\n",
      "33^2 + 44^2 = 55^2\n",
      "33^2 + 56^2 = 65^2\n",
      "35^2 + 84^2 = 91^2\n",
      "36^2 + 48^2 = 60^2\n",
      "36^2 + 77^2 = 85^2\n",
      "39^2 + 52^2 = 65^2\n",
      "39^2 + 80^2 = 89^2\n",
      "40^2 + 42^2 = 58^2\n",
      "40^2 + 75^2 = 85^2\n",
      "42^2 + 56^2 = 70^2\n",
      "45^2 + 60^2 = 75^2\n",
      "48^2 + 55^2 = 73^2\n",
      "48^2 + 64^2 = 80^2\n",
      "51^2 + 68^2 = 85^2\n",
      "54^2 + 72^2 = 90^2\n",
      "57^2 + 76^2 = 95^2\n",
      "60^2 + 63^2 = 87^2\n",
      "60^2 + 80^2 = 100^2\n",
      "65^2 + 72^2 = 97^2\n"
     ]
    }
   ],
   "source": [
    "for a in range(1, 101):\n",
    "    for b in range(a+1, 101):\n",
    "        for c in range(b+1, 101):\n",
    "            if a * a + b * b == c * c:\n",
    "                print(f\"{a}^2 + {b}^2 = {c}^2\")"
   ]
  },
  {
   "cell_type": "markdown",
   "metadata": {},
   "source": [
    "### Exercice n°13\n",
    "\n",
    "Écrire un programme qui demande un nombre entier $n$ à l'utilisateur et qui affiche le nombre de points du pentagone à la n-ième itération.\n",
    "\n",
    "Par exemple, pour $n = 0$, le nombre de points est $1$; pour $n = 1$, le nombre de points est $2$, ...\n",
    "\n",
    "![](pentagones.png)"
   ]
  },
  {
   "cell_type": "code",
   "execution_count": 5,
   "metadata": {},
   "outputs": [
    {
     "name": "stdout",
     "output_type": "stream",
     "text": [
      "Un pentagone de taille 2 a 16 points.\n"
     ]
    }
   ],
   "source": [
    "n = int(input(\"Veuillez donner un nombre entier: \"))\n",
    "\n",
    "points = 1\n",
    "for i in range(1, n + 1):\n",
    "    points += 5 * i\n",
    "\n",
    "print(f\"Un pentagone de taille {n} a {points} points.\")"
   ]
  }
 ],
 "metadata": {
  "interpreter": {
   "hash": "aee8b7b246df8f9039afb4144a1f6fd8d2ca17a180786b69acc140d282b71a49"
  },
  "kernelspec": {
   "display_name": "Python 3.10.0 64-bit",
   "language": "python",
   "name": "python3"
  },
  "language_info": {
   "codemirror_mode": {
    "name": "ipython",
    "version": 3
   },
   "file_extension": ".py",
   "mimetype": "text/x-python",
   "name": "python",
   "nbconvert_exporter": "python",
   "pygments_lexer": "ipython3",
   "version": "3.11.4"
  },
  "orig_nbformat": 4
 },
 "nbformat": 4,
 "nbformat_minor": 2
}
